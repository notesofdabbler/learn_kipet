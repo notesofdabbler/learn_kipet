{
 "cells": [
  {
   "cell_type": "markdown",
   "metadata": {},
   "source": [
    "## Sensitivity of Concentration to Rate Constant and Initial Condition\n",
    "\n",
    "jbr book reference: [Figure A.3](https://sites.engineering.ucsb.edu/~jbraw/chemreacfun/fig-html/appendix/fig-A-3.html)\n",
    "\n",
    "Reaction is $A \\xrightarrow[]{k_1} B$\n",
    "\n",
    "Analytical solution:\n",
    "$$\n",
    "c_A(t) = c_{A0}e^{-k_1t}\n",
    "$$\n",
    "Sensitivity:\n",
    "$$\n",
    "\\begin{eqnarray}\n",
    "\\frac{dc_A}{dk_1} &=& -tc_{A0}e^{-k_1t} \\\\\n",
    "\\frac{dc_A}{dc_{A0}} &=& e^{-k_1t}\n",
    "\\end{eqnarray}\n",
    "$$\n",
    "In this example, $c_{A0} = 2\\;mol/L$, $k_1 = 1\\;min^{-1}$"
   ]
  },
  {
   "cell_type": "code",
   "execution_count": 13,
   "metadata": {},
   "outputs": [],
   "source": [
    "import numpy as np\n",
    "import pandas as pd\n",
    "import matplotlib.pyplot as plt\n",
    "import pyomo.environ as pyo\n",
    "from kipet import KipetModel\n",
    "from kipet.library.core_methods.EstimabilityAnalyzer import *"
   ]
  },
  {
   "cell_type": "code",
   "execution_count": 30,
   "metadata": {},
   "outputs": [
    {
     "name": "stdout",
     "output_type": "stream",
     "text": [
      "Warning: Component A variance not provided\n"
     ]
    }
   ],
   "source": [
    "# Though the sensitivity calculation doesn't need data, in KIPET sensitivity is part of Estimability routine \n",
    "# which needs concentration data. So the concentration data is simulated first prior to getting sensitivity\n",
    "kipet_model = KipetModel()\n",
    "\n",
    "r1 = kipet_model.new_reaction('rxn1')\n",
    "    \n",
    "r1.add_component('A', state = 'concentration', init = 2.0)\n",
    "r1.add_parameter('k1', init = 1.0)\n",
    "    \n",
    "def rule_odes(m,t):\n",
    "    exprs = dict()\n",
    "    exprs['A'] = -m.P['k1']*m.Z[t,'A']\n",
    "    return exprs\n",
    "\n",
    "r1.add_equations(rule_odes)\n",
    "r1.set_times(0.0, 10.0)"
   ]
  },
  {
   "cell_type": "code",
   "execution_count": 31,
   "metadata": {},
   "outputs": [
    {
     "name": "stdout",
     "output_type": "stream",
     "text": [
      "times are: <class 'tuple'>\n"
     ]
    }
   ],
   "source": [
    "r1.settings.collocation.nfe = 60\n",
    "r1.settings.collocation.ncp = 1\n",
    "r1.settings.collocation.scheme = 'LAGRANGE-RADAU'\n",
    "r1.settings.solver.linear_solver = 'ma27'\n",
    "r1.simulate()"
   ]
  },
  {
   "cell_type": "code",
   "execution_count": 32,
   "metadata": {},
   "outputs": [
    {
     "data": {
      "text/html": [
       "<div>\n",
       "<style scoped>\n",
       "    .dataframe tbody tr th:only-of-type {\n",
       "        vertical-align: middle;\n",
       "    }\n",
       "\n",
       "    .dataframe tbody tr th {\n",
       "        vertical-align: top;\n",
       "    }\n",
       "\n",
       "    .dataframe thead th {\n",
       "        text-align: right;\n",
       "    }\n",
       "</style>\n",
       "<table border=\"1\" class=\"dataframe\">\n",
       "  <thead>\n",
       "    <tr style=\"text-align: right;\">\n",
       "      <th></th>\n",
       "      <th>A</th>\n",
       "    </tr>\n",
       "  </thead>\n",
       "  <tbody>\n",
       "    <tr>\n",
       "      <th>0.000000</th>\n",
       "      <td>2.000000</td>\n",
       "    </tr>\n",
       "    <tr>\n",
       "      <th>0.166667</th>\n",
       "      <td>1.714285</td>\n",
       "    </tr>\n",
       "    <tr>\n",
       "      <th>0.333333</th>\n",
       "      <td>1.469388</td>\n",
       "    </tr>\n",
       "    <tr>\n",
       "      <th>0.500000</th>\n",
       "      <td>1.259475</td>\n",
       "    </tr>\n",
       "    <tr>\n",
       "      <th>0.666667</th>\n",
       "      <td>1.079550</td>\n",
       "    </tr>\n",
       "    <tr>\n",
       "      <th>...</th>\n",
       "      <td>...</td>\n",
       "    </tr>\n",
       "    <tr>\n",
       "      <th>9.333333</th>\n",
       "      <td>0.000356</td>\n",
       "    </tr>\n",
       "    <tr>\n",
       "      <th>9.500000</th>\n",
       "      <td>0.000306</td>\n",
       "    </tr>\n",
       "    <tr>\n",
       "      <th>9.666667</th>\n",
       "      <td>0.000262</td>\n",
       "    </tr>\n",
       "    <tr>\n",
       "      <th>9.833333</th>\n",
       "      <td>0.000224</td>\n",
       "    </tr>\n",
       "    <tr>\n",
       "      <th>10.000000</th>\n",
       "      <td>0.000192</td>\n",
       "    </tr>\n",
       "  </tbody>\n",
       "</table>\n",
       "<p>61 rows × 1 columns</p>\n",
       "</div>"
      ],
      "text/plain": [
       "                  A\n",
       "0.000000   2.000000\n",
       "0.166667   1.714285\n",
       "0.333333   1.469388\n",
       "0.500000   1.259475\n",
       "0.666667   1.079550\n",
       "...             ...\n",
       "9.333333   0.000356\n",
       "9.500000   0.000306\n",
       "9.666667   0.000262\n",
       "9.833333   0.000224\n",
       "10.000000  0.000192\n",
       "\n",
       "[61 rows x 1 columns]"
      ]
     },
     "execution_count": 32,
     "metadata": {},
     "output_type": "execute_result"
    }
   ],
   "source": [
    "# data\n",
    "C_data = r1.results.Z\n",
    "C_data"
   ]
  },
  {
   "cell_type": "code",
   "execution_count": 33,
   "metadata": {},
   "outputs": [
    {
     "data": {
      "text/plain": [
       "<matplotlib.collections.PathCollection at 0x7f83bda9add8>"
      ]
     },
     "execution_count": 33,
     "metadata": {},
     "output_type": "execute_result"
    },
    {
     "data": {
      "image/png": "[encoded data removed]",
      "text/plain": [
       "<Figure size 432x288 with 1 Axes>"
      ]
     },
     "metadata": {
      "needs_background": "light"
     },
     "output_type": "display_data"
    }
   ],
   "source": [
    "fig, ax = plt.subplots()\n",
    "ax.scatter(C_data.index, C_data['A'])"
   ]
  },
  {
   "cell_type": "code",
   "execution_count": 101,
   "metadata": {},
   "outputs": [
    {
     "name": "stdout",
     "output_type": "stream",
     "text": [
      "Warning: Component A variance not provided\n"
     ]
    }
   ],
   "source": [
    "# build the model again for getting sensitivity\n",
    "kipet_model = KipetModel()\n",
    "\n",
    "r1 = kipet_model.new_reaction('rxn1')\n",
    "    \n",
    "r1.add_component('A', state = 'concentration', init = 2.0)\n",
    "\n",
    "r1.add_parameter('k1', init = 1.0, bounds = (0.1, 10)) # rate constant\n",
    "r1.add_parameter('ca0', init = 2.0, bounds = (0.0, 5.0)) # initial condition listed as parameters since we want sensitivity w.r.t ca0\n",
    "\n",
    "def rule_odes(m,t):\n",
    "    exprs = dict()\n",
    "    exprs['A'] = -m.P['k1']*m.Z[t,'A']\n",
    "    return exprs\n",
    "\n",
    "r1.add_equations(rule_odes)\n",
    "r1.set_times(0.0, 10.0)\n",
    "\n",
    "r1.add_dataset('C_data', category = 'concentration', data = C_data)"
   ]
  },
  {
   "cell_type": "code",
   "execution_count": 102,
   "metadata": {},
   "outputs": [
    {
     "name": "stdout",
     "output_type": "stream",
     "text": [
      "times are: <class 'tuple'>\n",
      "0.0 10.0\n",
      "WARNING: DEPRECATED: The default domain for Param objects is 'Any'.  However,\n",
      "    we will be changing that default to 'Reals' in the future.  If you really\n",
      "    intend the domain of this Param (sigma) to be 'Any', you can suppress this\n",
      "    warning by explicitly specifying 'within=Any' to the Param constructor.\n",
      "    (deprecated in 5.6.9, will be removed in 6.0) (called from\n",
      "    /home/paperspace/my_pyenvs/kipetenv/lib/python3.7/site-\n",
      "    packages/Pyomo-5.7.1-py3.7-linux-x86_64.egg/pyomo/core/base/param.py:640)\n"
     ]
    }
   ],
   "source": [
    "r1.create_pyomo_model()"
   ]
  },
  {
   "cell_type": "code",
   "execution_count": 103,
   "metadata": {},
   "outputs": [],
   "source": [
    "# specify values of parameters at which sensitivity is desired\n",
    "r1.model.P['k1'].value = 1.0\n",
    "r1.model.P['ca0'].value = 2.0\n",
    "\n",
    "# we need an explicit constraint for conc(A) at time 0 = ca0\n",
    "r1.model.ca0_cons = pyo.Constraint(expr = r1.model.Z[0, 'A'] == r1.model.P['ca0'])"
   ]
  },
  {
   "cell_type": "code",
   "execution_count": 104,
   "metadata": {},
   "outputs": [
    {
     "name": "stdout",
     "output_type": "stream",
     "text": [
      "init_conditions_c : Size=1, Index=states, Active=True\n",
      "    Key : Lower : Body                          : Upper : Active\n",
      "      A :   0.0 : Z[0.0,A] - init_conditions[A] :   0.0 :  False\n"
     ]
    }
   ],
   "source": [
    "# since we impose a constraint above for conc(A) at time 0, we need to relax the automatic initial condition \n",
    "# constraint on conc(A) at time 0 = 2 from the model\n",
    "r1.model.init_conditions_c['A'].deactivate()\n",
    "r1.model.init_conditions_c.pprint()"
   ]
  },
  {
   "cell_type": "code",
   "execution_count": 105,
   "metadata": {},
   "outputs": [],
   "source": [
    "e_analyzer = EstimabilityAnalyzer(r1.model)\n",
    "e_analyzer.apply_discretization('dae.collocation', nfe = 60, ncp = 2, scheme = 'LAGRANGE-RADAU')"
   ]
  },
  {
   "cell_type": "code",
   "execution_count": 106,
   "metadata": {},
   "outputs": [
    {
     "name": "stderr",
     "output_type": "stream",
     "text": [
      "W[K_AUG]...\t[K_AUG_ASL]No n_rhs declared\n",
      "W[K_AUG]...\t[K_AUG_ASL]Target log10mu:= -11.\n",
      "W[K_AUG]...\t[K_AUG_ASL]This problem has no degrees of freedom\n",
      "Pass the option square_override for the desired behaviour\n",
      "W[K_AUG_ASL]...\t[K_AUG_ASL]No ipopt_zL_out suffix declared, setting zL = 0.\n",
      "W[K_AUG_ASL]...\t[K_AUG_ASL]No ipopt_zU_out suffix declared, setting zU = 0.\n",
      "W[K_AUG]...\t[K_AUG_ASL]No f_timestamp suffix declared, Fallback to default writing mode.\n",
      "I[K_AUG]...\t[K_AUG_ASL] Filename for dot_sens dsdp_in_.in\n",
      "W[K_AUG]...\t[K_AUG_ASL]dsdp for linear C(x) + I*p = 0 override.\n"
     ]
    },
    {
     "name": "stdout",
     "output_type": "stream",
     "text": [
      "[K_AUG] written by D.T. @2018\n",
      "\n",
      ": dsdp_mode=\n",
      "dsdp_mode=\n",
      "I[K_AUG]...\t[K_AUG_ASL]File read succesfull\n",
      "I[K_AUG]...\t[K_AUG_ASL]Number of Right hand sides 0\n",
      "I[K_AUG]...\t[K_AUG_ASL]Number of Right hand sides: 0\n",
      "I[K_AUG]...\t[K_AUG_ASL]Number of variables       : 243\n",
      "I[K_AUG]...\t[K_AUG_ASL]Number of constraints     : 243\n",
      "I[K_AUG]...\t[K_AUG_ASL]Number of valid n_dof     : 0\n",
      "I[K_AUG]...\t[ADJUST_MU]\tWarning no relevant info from the problem can predict logmu\n",
      "I[K_AUG]...\t[FIND_INEQUALITIES]summary: eq: 243, leq: 0, geq: 0 \n",
      "I[K_AUG]...\t[K_AUG_ASL]Nonzeroes in the sparse Jacobian 844\n",
      "I[K_AUG]...\t[GET_HESS_ASL]Objective found\n",
      "I[K_AUG]...\t[GET_HESS_ASL]Nonzeroes in the sparse hessian 181\n",
      "I[K_AUG]...\t[GET_HESS_ASL]Minimization problem detected\n",
      "I[K_AUG]...\t[GET_HESS_ASL]Current objective 0.038068\n",
      "I[K_AUG]...\t[GET_HESS_ASL]Missing nz in the Hessian of the Lag: 182\n",
      "I[K_AUG]...\t[K_AUG_ASL]Barrier term added.\n",
      "I[K_AUG]...\t[K_AUG_ASL]MC19 scaling...\n",
      "I[K_AUG]...\t[ASSM_RHS_DCDP]According to the suffixes declared len p is 2 \n",
      "I[K_AUG]...\t[MUMPS_DRIVER]n_neig = 243\n",
      "I[K_AUG]...\t[INERTIA_STRATEGY]Inertia check successful.\n",
      "I[K_AUG]...\t[MUMPS_DRIVER]: Ratio of norm of scaled residuals (reported); 3.496071e-19 \n",
      "I[K_AUG]...\t[MUMPS_DRIVER]Accuracy at an acceptable level.\n",
      "\n",
      "W[K_AUG]...\t[MUMPS_DRIVER]Inertia check OK neig=243, (neig == m).\n",
      "I[K_AUG]...\t[K_AUG_ASL]Linear solver done. \n",
      "I[K_AUG]...\t[K_AUG_ASL]var_order suffix detected. Make sure var_order[i] > 0.\n",
      "I[K_AUG]...\t[K_AUG_ASL]Timings..Ev&Assem 0.004491, Fact 0.018245, Overall 0.020047.\n",
      "Done solving sensitivities\n"
     ]
    }
   ],
   "source": [
    "sigmas = {'A': 1} # we can just keep this as one since we want unscaled sensitivity\n",
    "param_uncertainties = {'k1':1,'ca0':1} # we can just keep this as one since we want unscaled sensitivity\n",
    "dsdp, idx_to_param = e_analyzer.get_sensitivities_for_params(tee=True, sigmasq=sigmas)"
   ]
  },
  {
   "cell_type": "code",
   "execution_count": 107,
   "metadata": {},
   "outputs": [],
   "source": [
    "# get the sensitivities and compare with analytical sensitivities\n",
    "tlist = np.array(e_analyzer.model.allmeas_times)\n",
    "sens = dsdp.copy()\n",
    "dca_dk1 = sens[:, 0]\n",
    "dca_dca0 = sens[:, 1]\n",
    "# analytical sensitivity\n",
    "dca_dk1_act = -tlist * 2 * np.exp(-tlist) # sensitivity dca/dk1 = -t*ca0*exp(-k1*t), ca0 = 2, k1 = 1\n",
    "dca_dca0_act = np.exp(-tlist) # sensitivity dca/dca0 = exp(-k1*t), k1 = 1"
   ]
  },
  {
   "cell_type": "code",
   "execution_count": 108,
   "metadata": {},
   "outputs": [
    {
     "data": {
      "text/plain": [
       "<matplotlib.legend.Legend at 0x7f83bd7970b8>"
      ]
     },
     "execution_count": 108,
     "metadata": {},
     "output_type": "execute_result"
    },
    {
     "data": {
      "image/png": "[encoded data removed]",
      "text/plain": [
       "<Figure size 432x288 with 1 Axes>"
      ]
     },
     "metadata": {
      "needs_background": "light"
     },
     "output_type": "display_data"
    }
   ],
   "source": [
    "fig, ax = plt.subplots()\n",
    "ax.plot(tlist, dca_dk1, label = 'kipet')\n",
    "ax.plot(tlist, dca_dk1_act,'--r', label = 'analytical')\n",
    "ax.set_xlabel('time (min)')\n",
    "ax.set_ylabel('dca/dk1')\n",
    "ax.legend()"
   ]
  },
  {
   "cell_type": "code",
   "execution_count": 109,
   "metadata": {},
   "outputs": [
    {
     "data": {
      "text/plain": [
       "<matplotlib.legend.Legend at 0x7f83bdb421d0>"
      ]
     },
     "execution_count": 109,
     "metadata": {},
     "output_type": "execute_result"
    },
    {
     "data": {
      "image/png": "[encoded data removed]",
      "text/plain": [
       "<Figure size 432x288 with 1 Axes>"
      ]
     },
     "metadata": {
      "needs_background": "light"
     },
     "output_type": "display_data"
    }
   ],
   "source": [
    "fig, ax = plt.subplots()\n",
    "ax.plot(tlist, dca_dca0, label = 'kipet')\n",
    "ax.plot(tlist, dca_dca0_act,'--r', label = 'analytical')\n",
    "ax.set_xlabel('time (min)')\n",
    "ax.set_ylabel('dca/dca0')\n",
    "ax.legend()"
   ]
  },
  {
   "cell_type": "code",
   "execution_count": null,
   "metadata": {},
   "outputs": [],
   "source": []
  }
 ],
 "metadata": {
  "kernelspec": {
   "display_name": "Python 3",
   "language": "python",
   "name": "python3"
  },
  "language_info": {
   "codemirror_mode": {
    "name": "ipython",
    "version": 3
   },
   "file_extension": ".py",
   "mimetype": "text/x-python",
   "name": "python",
   "nbconvert_exporter": "python",
   "pygments_lexer": "ipython3",
   "version": "3.7.3"
  }
 },
 "nbformat": 4,
 "nbformat_minor": 2
}
