{
 "cells": [
  {
   "cell_type": "code",
   "execution_count": 1,
   "id": "alike-beijing",
   "metadata": {},
   "outputs": [],
   "source": [
    "# https://github.com/kwmcbride/kipet_examples/blob/master/examples/example_1/Ex_1_ode_sim.py"
   ]
  },
  {
   "cell_type": "code",
   "execution_count": 2,
   "id": "flexible-kenya",
   "metadata": {},
   "outputs": [],
   "source": [
    "import sys\n",
    "import kipet"
   ]
  },
  {
   "cell_type": "code",
   "execution_count": 7,
   "id": "clean-momentum",
   "metadata": {},
   "outputs": [],
   "source": [
    "r1 = kipet.ReactionModel('reaction1')"
   ]
  },
  {
   "cell_type": "code",
   "execution_count": 8,
   "id": "possible-professor",
   "metadata": {},
   "outputs": [],
   "source": [
    "k1 = r1.parameter('k1', value = 2.0)\n",
    "k2 = r1.parameter('k2', value = 0.2)"
   ]
  },
  {
   "cell_type": "code",
   "execution_count": 9,
   "id": "egyptian-divorce",
   "metadata": {},
   "outputs": [],
   "source": [
    "A = r1.component('A', value = 1.0)\n",
    "B = r1.component('B', value = 0.5)\n",
    "C = r1.component('C', value = 0.0)"
   ]
  },
  {
   "cell_type": "code",
   "execution_count": 10,
   "id": "entitled-burlington",
   "metadata": {},
   "outputs": [],
   "source": [
    "rA = r1.add_reaction('rA', k1 * A)\n",
    "rB = r1.add_reaction('rB', k2 * B)"
   ]
  },
  {
   "cell_type": "code",
   "execution_count": 11,
   "id": "billion-virtue",
   "metadata": {},
   "outputs": [
    {
     "data": {
      "text/plain": [
       "<pyomo.core.expr.numeric_expr.ProductExpression at 0x7fb7d1e12940>"
      ]
     },
     "execution_count": 11,
     "metadata": {},
     "output_type": "execute_result"
    }
   ],
   "source": [
    "r1.add_ode('A', -rA)\n",
    "r1.add_ode('B', rA - rB)\n",
    "r1.add_ode('C', rB)"
   ]
  },
  {
   "cell_type": "code",
   "execution_count": 23,
   "id": "proper-report",
   "metadata": {},
   "outputs": [],
   "source": [
    "r1.set_time(10)"
   ]
  },
  {
   "cell_type": "code",
   "execution_count": 25,
   "id": "baking-transcript",
   "metadata": {},
   "outputs": [],
   "source": [
    "r1.settings.nfe = 3\n",
    "r1.settings.collocation.nfe = 50\n",
    "r1.settings.simulator.tee = True\n",
    "r1.settings.solver.linear_solver = 'ma27'"
   ]
  },
  {
   "cell_type": "code",
   "execution_count": 26,
   "id": "destroyed-clear",
   "metadata": {},
   "outputs": [
    {
     "name": "stdout",
     "output_type": "stream",
     "text": [
      "# Simulator: Setting up simulation model\n",
      "# TemplateBuilder: Preparing model for simulator\n",
      "# Simulator: Finished creating simulator\n",
      "Ipopt 3.13.4: \n",
      "\n",
      "******************************************************************************\n",
      "This program contains Ipopt, a library for large-scale nonlinear optimization.\n",
      " Ipopt is released as open source code under the Eclipse Public License (EPL).\n",
      "         For more information visit https://github.com/coin-or/Ipopt\n",
      "******************************************************************************\n",
      "\n",
      "This is Ipopt version 3.13.4, running with linear solver mumps.\n",
      "NOTE: Other linear solvers might be more efficient (see Ipopt documentation).\n",
      "\n",
      "Number of nonzeros in equality constraint Jacobian...:     4808\n",
      "Number of nonzeros in inequality constraint Jacobian.:        0\n",
      "Number of nonzeros in Lagrangian Hessian.............:        0\n",
      "\n",
      "Total number of variables............................:     1506\n",
      "                     variables with only lower bounds:        0\n",
      "                variables with lower and upper bounds:        0\n",
      "                     variables with only upper bounds:        0\n",
      "Total number of equality constraints.................:     1506\n",
      "Total number of inequality constraints...............:        0\n",
      "        inequality constraints with only lower bounds:        0\n",
      "   inequality constraints with lower and upper bounds:        0\n",
      "        inequality constraints with only upper bounds:        0\n",
      "\n",
      "iter    objective    inf_pr   inf_du lg(mu)  ||d||  lg(rg) alpha_du alpha_pr  ls\n",
      "   0  0.0000000e+00 1.58e+01 0.00e+00  -1.0 0.00e+00    -  0.00e+00 0.00e+00   0\n",
      "   1  0.0000000e+00 1.60e-14 0.00e+00  -1.0 1.71e+00    -  1.00e+00 1.00e+00h  1\n",
      "\n",
      "Number of Iterations....: 1\n",
      "\n",
      "                                   (scaled)                 (unscaled)\n",
      "Objective...............:   0.0000000000000000e+00    0.0000000000000000e+00\n",
      "Dual infeasibility......:   0.0000000000000000e+00    0.0000000000000000e+00\n",
      "Constraint violation....:   1.6049661599737419e-14    1.6049661599737419e-14\n",
      "Complementarity.........:   0.0000000000000000e+00    0.0000000000000000e+00\n",
      "Overall NLP error.......:   1.6049661599737419e-14    1.6049661599737419e-14\n",
      "\n",
      "\n",
      "Number of objective function evaluations             = 2\n",
      "Number of objective gradient evaluations             = 2\n",
      "Number of equality constraint evaluations            = 2\n",
      "Number of inequality constraint evaluations          = 0\n",
      "Number of equality constraint Jacobian evaluations   = 2\n",
      "Number of inequality constraint Jacobian evaluations = 0\n",
      "Number of Lagrangian Hessian evaluations             = 1\n",
      "Total CPU secs in IPOPT (w/o function evaluations)   =      0.092\n",
      "Total CPU secs in NLP function evaluations           =      0.004\n",
      "\n",
      "EXIT: Optimal Solution Found.\n"
     ]
    }
   ],
   "source": [
    "r1.simulate()"
   ]
  },
  {
   "cell_type": "code",
   "execution_count": 27,
   "id": "miniature-approval",
   "metadata": {},
   "outputs": [
    {
     "ename": "FileNotFoundError",
     "evalue": "[Errno 2] No such file or directory: '<ipython-input-7-157868483296>'",
     "output_type": "error",
     "traceback": [
      "\u001b[0;31m---------------------------------------------------------------------------\u001b[0m",
      "\u001b[0;31mFileNotFoundError\u001b[0m                         Traceback (most recent call last)",
      "\u001b[0;32m<ipython-input-27-31eacdb0b53f>\u001b[0m in \u001b[0;36m<module>\u001b[0;34m\u001b[0m\n\u001b[0;32m----> 1\u001b[0;31m \u001b[0mr1\u001b[0m\u001b[0;34m.\u001b[0m\u001b[0mreport\u001b[0m\u001b[0;34m(\u001b[0m\u001b[0;34m)\u001b[0m\u001b[0;34m\u001b[0m\u001b[0;34m\u001b[0m\u001b[0m\n\u001b[0m",
      "\u001b[0;32m~/anaconda3/envs/ckipetenv/lib/python3.8/site-packages/kipet/main_modules/reaction_model.py\u001b[0m in \u001b[0;36mreport\u001b[0;34m(self, mee, all_names)\u001b[0m\n\u001b[1;32m   2715\u001b[0m         \u001b[0mself\u001b[0m\u001b[0;34m.\u001b[0m\u001b[0mplot\u001b[0m\u001b[0;34m(\u001b[0m\u001b[0;34m)\u001b[0m\u001b[0;34m\u001b[0m\u001b[0;34m\u001b[0m\u001b[0m\n\u001b[1;32m   2716\u001b[0m         \u001b[0mself\u001b[0m\u001b[0;34m.\u001b[0m\u001b[0mreport_object\u001b[0m \u001b[0;34m=\u001b[0m \u001b[0mReport\u001b[0m\u001b[0;34m(\u001b[0m\u001b[0;34m[\u001b[0m\u001b[0mself\u001b[0m\u001b[0;34m]\u001b[0m\u001b[0;34m)\u001b[0m\u001b[0;34m\u001b[0m\u001b[0;34m\u001b[0m\u001b[0m\n\u001b[0;32m-> 2717\u001b[0;31m         \u001b[0mself\u001b[0m\u001b[0;34m.\u001b[0m\u001b[0mreport_object\u001b[0m\u001b[0;34m.\u001b[0m\u001b[0mgenerate_report\u001b[0m\u001b[0;34m(\u001b[0m\u001b[0;34m)\u001b[0m\u001b[0;34m\u001b[0m\u001b[0;34m\u001b[0m\u001b[0m\n\u001b[0m\u001b[1;32m   2718\u001b[0m \u001b[0;34m\u001b[0m\u001b[0m\n\u001b[1;32m   2719\u001b[0m \u001b[0;34m\u001b[0m\u001b[0m\n",
      "\u001b[0;32m~/anaconda3/envs/ckipetenv/lib/python3.8/site-packages/kipet/visuals/reports.py\u001b[0m in \u001b[0;36mgenerate_report\u001b[0;34m(self)\u001b[0m\n\u001b[1;32m    274\u001b[0m \u001b[0;34m\u001b[0m\u001b[0m\n\u001b[1;32m    275\u001b[0m         \u001b[0msource_code\u001b[0m \u001b[0;34m=\u001b[0m \u001b[0;34m''\u001b[0m\u001b[0;34m\u001b[0m\u001b[0;34m\u001b[0m\u001b[0m\n\u001b[0;32m--> 276\u001b[0;31m         \u001b[0;32mwith\u001b[0m \u001b[0mopen\u001b[0m\u001b[0;34m(\u001b[0m\u001b[0muser_file\u001b[0m\u001b[0;34m,\u001b[0m \u001b[0;34m'r+'\u001b[0m\u001b[0;34m)\u001b[0m \u001b[0;32mas\u001b[0m \u001b[0mf\u001b[0m\u001b[0;34m:\u001b[0m\u001b[0;34m\u001b[0m\u001b[0;34m\u001b[0m\u001b[0m\n\u001b[0m\u001b[1;32m    277\u001b[0m             \u001b[0msource_code\u001b[0m \u001b[0;34m=\u001b[0m \u001b[0mf\u001b[0m\u001b[0;34m.\u001b[0m\u001b[0mread\u001b[0m\u001b[0;34m(\u001b[0m\u001b[0;34m)\u001b[0m\u001b[0;34m\u001b[0m\u001b[0;34m\u001b[0m\u001b[0m\n\u001b[1;32m    278\u001b[0m \u001b[0;34m\u001b[0m\u001b[0m\n",
      "\u001b[0;31mFileNotFoundError\u001b[0m: [Errno 2] No such file or directory: '<ipython-input-7-157868483296>'"
     ]
    }
   ],
   "source": [
    "r1.report()"
   ]
  },
  {
   "cell_type": "code",
   "execution_count": null,
   "id": "sharp-maine",
   "metadata": {},
   "outputs": [],
   "source": []
  }
 ],
 "metadata": {
  "kernelspec": {
   "display_name": "Python 3",
   "language": "python",
   "name": "python3"
  },
  "language_info": {
   "codemirror_mode": {
    "name": "ipython",
    "version": 3
   },
   "file_extension": ".py",
   "mimetype": "text/x-python",
   "name": "python",
   "nbconvert_exporter": "python",
   "pygments_lexer": "ipython3",
   "version": "3.8.8"
  }
 },
 "nbformat": 4,
 "nbformat_minor": 5
}
