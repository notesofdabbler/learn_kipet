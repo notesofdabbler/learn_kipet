{
 "cells": [
  {
   "cell_type": "code",
   "execution_count": 1,
   "metadata": {},
   "outputs": [],
   "source": [
    "#\n",
    "# This is an example from jbr Reactor Design Book\n",
    "# https://github.com/rawlings-group/paresto/blob/master/examples/green_book/bvsm_red.m\n",
    "# \n",
    "# The simulation is done here with scipy\n",
    "#"
   ]
  },
  {
   "cell_type": "code",
   "execution_count": 2,
   "metadata": {},
   "outputs": [
    {
     "name": "stdout",
     "output_type": "stream",
     "text": [
      "WARNING: DEPRECATED: The pyomo.core.base.sets module is deprecated.  Import\n",
      "    Set objects from pyomo.core.base.set or pyomo.core.  (deprecated in 5.7)\n",
      "    (called from <frozen importlib._bootstrap>:219)\n",
      "_SetProduct not found\n"
     ]
    }
   ],
   "source": [
    "from kipet import KipetModel\n",
    "import pyomo.environ as pyo\n",
    "import matplotlib.pyplot as plt\n",
    "import numpy as np\n",
    "import pandas as pd\n",
    "from scipy.stats import t"
   ]
  },
  {
   "cell_type": "code",
   "execution_count": 3,
   "metadata": {},
   "outputs": [],
   "source": [
    "filename = '/home/paperspace/learn_kipet/kipet_paresto/data_sets/flow.dat'\n",
    "flow_df = pd.read_csv(filename, delimiter=r\"\\s+\", header = None)\n",
    "flow_df.columns = ['time', 'Qf', 'x']\n",
    "flow_df['Qf'] = flow_df['Qf'] / 0.728\n",
    "flow_df = flow_df.set_index('time')"
   ]
  },
  {
   "cell_type": "code",
   "execution_count": 4,
   "metadata": {},
   "outputs": [
    {
     "data": {
      "text/html": [
       "<div>\n",
       "<style scoped>\n",
       "    .dataframe tbody tr th:only-of-type {\n",
       "        vertical-align: middle;\n",
       "    }\n",
       "\n",
       "    .dataframe tbody tr th {\n",
       "        vertical-align: top;\n",
       "    }\n",
       "\n",
       "    .dataframe thead th {\n",
       "        text-align: right;\n",
       "    }\n",
       "</style>\n",
       "<table border=\"1\" class=\"dataframe\">\n",
       "  <thead>\n",
       "    <tr style=\"text-align: right;\">\n",
       "      <th></th>\n",
       "      <th>Qf</th>\n",
       "      <th>x</th>\n",
       "    </tr>\n",
       "    <tr>\n",
       "      <th>time</th>\n",
       "      <th></th>\n",
       "      <th></th>\n",
       "    </tr>\n",
       "  </thead>\n",
       "  <tbody>\n",
       "    <tr>\n",
       "      <th>9.0</th>\n",
       "      <td>0.134365</td>\n",
       "      <td>4.7860</td>\n",
       "    </tr>\n",
       "    <tr>\n",
       "      <th>19.0</th>\n",
       "      <td>1.772804</td>\n",
       "      <td>14.2180</td>\n",
       "    </tr>\n",
       "    <tr>\n",
       "      <th>29.0</th>\n",
       "      <td>1.734587</td>\n",
       "      <td>13.9980</td>\n",
       "    </tr>\n",
       "    <tr>\n",
       "      <th>39.0</th>\n",
       "      <td>1.703319</td>\n",
       "      <td>13.8180</td>\n",
       "    </tr>\n",
       "    <tr>\n",
       "      <th>49.0</th>\n",
       "      <td>1.669967</td>\n",
       "      <td>13.6260</td>\n",
       "    </tr>\n",
       "    <tr>\n",
       "      <th>...</th>\n",
       "      <td>...</td>\n",
       "      <td>...</td>\n",
       "    </tr>\n",
       "    <tr>\n",
       "      <th>829.0</th>\n",
       "      <td>0.000990</td>\n",
       "      <td>4.0182</td>\n",
       "    </tr>\n",
       "    <tr>\n",
       "      <th>839.0</th>\n",
       "      <td>0.000782</td>\n",
       "      <td>4.0170</td>\n",
       "    </tr>\n",
       "    <tr>\n",
       "      <th>849.0</th>\n",
       "      <td>0.000643</td>\n",
       "      <td>4.0162</td>\n",
       "    </tr>\n",
       "    <tr>\n",
       "      <th>859.0</th>\n",
       "      <td>0.000712</td>\n",
       "      <td>4.0166</td>\n",
       "    </tr>\n",
       "    <tr>\n",
       "      <th>869.0</th>\n",
       "      <td>0.000608</td>\n",
       "      <td>4.0160</td>\n",
       "    </tr>\n",
       "  </tbody>\n",
       "</table>\n",
       "<p>87 rows × 2 columns</p>\n",
       "</div>"
      ],
      "text/plain": [
       "             Qf        x\n",
       "time                    \n",
       "9.0    0.134365   4.7860\n",
       "19.0   1.772804  14.2180\n",
       "29.0   1.734587  13.9980\n",
       "39.0   1.703319  13.8180\n",
       "49.0   1.669967  13.6260\n",
       "...         ...      ...\n",
       "829.0  0.000990   4.0182\n",
       "839.0  0.000782   4.0170\n",
       "849.0  0.000643   4.0162\n",
       "859.0  0.000712   4.0166\n",
       "869.0  0.000608   4.0160\n",
       "\n",
       "[87 rows x 2 columns]"
      ]
     },
     "execution_count": 4,
     "metadata": {},
     "output_type": "execute_result"
    }
   ],
   "source": [
    "flow_df"
   ]
  },
  {
   "cell_type": "code",
   "execution_count": 5,
   "metadata": {},
   "outputs": [],
   "source": [
    "filename = '/home/paperspace/learn_kipet/kipet_paresto/data_sets/lc.dat'\n",
    "lc_data = pd.read_csv(filename, delimiter=r\"\\s+\", header = None)\n",
    "lc_data.columns = ['time', 'y']\n",
    "lc_data = lc_data.set_index('time')"
   ]
  },
  {
   "cell_type": "code",
   "execution_count": 6,
   "metadata": {},
   "outputs": [
    {
     "data": {
      "text/html": [
       "<div>\n",
       "<style scoped>\n",
       "    .dataframe tbody tr th:only-of-type {\n",
       "        vertical-align: middle;\n",
       "    }\n",
       "\n",
       "    .dataframe tbody tr th {\n",
       "        vertical-align: top;\n",
       "    }\n",
       "\n",
       "    .dataframe thead th {\n",
       "        text-align: right;\n",
       "    }\n",
       "</style>\n",
       "<table border=\"1\" class=\"dataframe\">\n",
       "  <thead>\n",
       "    <tr style=\"text-align: right;\">\n",
       "      <th></th>\n",
       "      <th>y</th>\n",
       "    </tr>\n",
       "    <tr>\n",
       "      <th>time</th>\n",
       "      <th></th>\n",
       "    </tr>\n",
       "  </thead>\n",
       "  <tbody>\n",
       "    <tr>\n",
       "      <th>414</th>\n",
       "      <td>0.1705</td>\n",
       "    </tr>\n",
       "    <tr>\n",
       "      <th>424</th>\n",
       "      <td>0.1604</td>\n",
       "    </tr>\n",
       "    <tr>\n",
       "      <th>434</th>\n",
       "      <td>0.1325</td>\n",
       "    </tr>\n",
       "    <tr>\n",
       "      <th>444</th>\n",
       "      <td>0.1084</td>\n",
       "    </tr>\n",
       "    <tr>\n",
       "      <th>493</th>\n",
       "      <td>0.1014</td>\n",
       "    </tr>\n",
       "    <tr>\n",
       "      <th>503</th>\n",
       "      <td>0.1042</td>\n",
       "    </tr>\n",
       "    <tr>\n",
       "      <th>513</th>\n",
       "      <td>0.1045</td>\n",
       "    </tr>\n",
       "    <tr>\n",
       "      <th>523</th>\n",
       "      <td>0.0970</td>\n",
       "    </tr>\n",
       "    <tr>\n",
       "      <th>533</th>\n",
       "      <td>0.0824</td>\n",
       "    </tr>\n",
       "    <tr>\n",
       "      <th>582</th>\n",
       "      <td>0.0678</td>\n",
       "    </tr>\n",
       "    <tr>\n",
       "      <th>592</th>\n",
       "      <td>0.0697</td>\n",
       "    </tr>\n",
       "    <tr>\n",
       "      <th>602</th>\n",
       "      <td>0.0702</td>\n",
       "    </tr>\n",
       "    <tr>\n",
       "      <th>612</th>\n",
       "      <td>0.0692</td>\n",
       "    </tr>\n",
       "    <tr>\n",
       "      <th>621</th>\n",
       "      <td>0.0684</td>\n",
       "    </tr>\n",
       "    <tr>\n",
       "      <th>631</th>\n",
       "      <td>0.0675</td>\n",
       "    </tr>\n",
       "    <tr>\n",
       "      <th>641</th>\n",
       "      <td>0.0673</td>\n",
       "    </tr>\n",
       "    <tr>\n",
       "      <th>651</th>\n",
       "      <td>0.0673</td>\n",
       "    </tr>\n",
       "    <tr>\n",
       "      <th>661</th>\n",
       "      <td>0.0654</td>\n",
       "    </tr>\n",
       "    <tr>\n",
       "      <th>671</th>\n",
       "      <td>0.0577</td>\n",
       "    </tr>\n",
       "    <tr>\n",
       "      <th>681</th>\n",
       "      <td>0.0571</td>\n",
       "    </tr>\n",
       "    <tr>\n",
       "      <th>690</th>\n",
       "      <td>0.0563</td>\n",
       "    </tr>\n",
       "    <tr>\n",
       "      <th>700</th>\n",
       "      <td>0.0466</td>\n",
       "    </tr>\n",
       "    <tr>\n",
       "      <th>710</th>\n",
       "      <td>0.0455</td>\n",
       "    </tr>\n",
       "    <tr>\n",
       "      <th>720</th>\n",
       "      <td>0.0449</td>\n",
       "    </tr>\n",
       "    <tr>\n",
       "      <th>730</th>\n",
       "      <td>0.0456</td>\n",
       "    </tr>\n",
       "    <tr>\n",
       "      <th>740</th>\n",
       "      <td>0.0450</td>\n",
       "    </tr>\n",
       "    <tr>\n",
       "      <th>750</th>\n",
       "      <td>0.0434</td>\n",
       "    </tr>\n",
       "    <tr>\n",
       "      <th>759</th>\n",
       "      <td>0.0428</td>\n",
       "    </tr>\n",
       "    <tr>\n",
       "      <th>769</th>\n",
       "      <td>0.0426</td>\n",
       "    </tr>\n",
       "    <tr>\n",
       "      <th>779</th>\n",
       "      <td>0.0409</td>\n",
       "    </tr>\n",
       "    <tr>\n",
       "      <th>789</th>\n",
       "      <td>0.0399</td>\n",
       "    </tr>\n",
       "    <tr>\n",
       "      <th>799</th>\n",
       "      <td>0.0397</td>\n",
       "    </tr>\n",
       "    <tr>\n",
       "      <th>848</th>\n",
       "      <td>0.0394</td>\n",
       "    </tr>\n",
       "    <tr>\n",
       "      <th>858</th>\n",
       "      <td>0.0374</td>\n",
       "    </tr>\n",
       "    <tr>\n",
       "      <th>868</th>\n",
       "      <td>0.0371</td>\n",
       "    </tr>\n",
       "  </tbody>\n",
       "</table>\n",
       "</div>"
      ],
      "text/plain": [
       "           y\n",
       "time        \n",
       "414   0.1705\n",
       "424   0.1604\n",
       "434   0.1325\n",
       "444   0.1084\n",
       "493   0.1014\n",
       "503   0.1042\n",
       "513   0.1045\n",
       "523   0.0970\n",
       "533   0.0824\n",
       "582   0.0678\n",
       "592   0.0697\n",
       "602   0.0702\n",
       "612   0.0692\n",
       "621   0.0684\n",
       "631   0.0675\n",
       "641   0.0673\n",
       "651   0.0673\n",
       "661   0.0654\n",
       "671   0.0577\n",
       "681   0.0571\n",
       "690   0.0563\n",
       "700   0.0466\n",
       "710   0.0455\n",
       "720   0.0449\n",
       "730   0.0456\n",
       "740   0.0450\n",
       "750   0.0434\n",
       "759   0.0428\n",
       "769   0.0426\n",
       "779   0.0409\n",
       "789   0.0399\n",
       "799   0.0397\n",
       "848   0.0394\n",
       "858   0.0374\n",
       "868   0.0371"
      ]
     },
     "execution_count": 6,
     "metadata": {},
     "output_type": "execute_result"
    }
   ],
   "source": [
    "lc_data"
   ]
  },
  {
   "cell_type": "code",
   "execution_count": 7,
   "metadata": {},
   "outputs": [
    {
     "data": {
      "text/html": [
       "<div>\n",
       "<style scoped>\n",
       "    .dataframe tbody tr th:only-of-type {\n",
       "        vertical-align: middle;\n",
       "    }\n",
       "\n",
       "    .dataframe tbody tr th {\n",
       "        vertical-align: top;\n",
       "    }\n",
       "\n",
       "    .dataframe thead th {\n",
       "        text-align: right;\n",
       "    }\n",
       "</style>\n",
       "<table border=\"1\" class=\"dataframe\">\n",
       "  <thead>\n",
       "    <tr style=\"text-align: right;\">\n",
       "      <th></th>\n",
       "      <th>qin_B</th>\n",
       "    </tr>\n",
       "    <tr>\n",
       "      <th>time</th>\n",
       "      <th></th>\n",
       "    </tr>\n",
       "  </thead>\n",
       "  <tbody>\n",
       "    <tr>\n",
       "      <th>0.0</th>\n",
       "      <td>0.000000</td>\n",
       "    </tr>\n",
       "    <tr>\n",
       "      <th>9.0</th>\n",
       "      <td>0.134365</td>\n",
       "    </tr>\n",
       "    <tr>\n",
       "      <th>19.0</th>\n",
       "      <td>1.772804</td>\n",
       "    </tr>\n",
       "    <tr>\n",
       "      <th>29.0</th>\n",
       "      <td>1.734587</td>\n",
       "    </tr>\n",
       "    <tr>\n",
       "      <th>39.0</th>\n",
       "      <td>1.703319</td>\n",
       "    </tr>\n",
       "  </tbody>\n",
       "</table>\n",
       "</div>"
      ],
      "text/plain": [
       "         qin_B\n",
       "time          \n",
       "0.0   0.000000\n",
       "9.0   0.134365\n",
       "19.0  1.772804\n",
       "29.0  1.734587\n",
       "39.0  1.703319"
      ]
     },
     "execution_count": 7,
     "metadata": {},
     "output_type": "execute_result"
    }
   ],
   "source": [
    "qinB_row0 = pd.DataFrame({'time':[0], 'qin_B':[0]}).set_index('time')\n",
    "qinB_traj = flow_df[['Qf']]\n",
    "qinB_traj.columns = ['qin_B']\n",
    "qinB_traj = qinB_traj.append(qinB_row0).sort_index()\n",
    "qinB_traj.head()"
   ]
  },
  {
   "cell_type": "code",
   "execution_count": 86,
   "metadata": {},
   "outputs": [
    {
     "name": "stdout",
     "output_type": "stream",
     "text": [
      "Warning: Component V variance not provided\n",
      "Warning: Component eps2 variance not provided\n"
     ]
    }
   ],
   "source": [
    "kipet_model = KipetModel()\n",
    "\n",
    "r1 = kipet_model.new_reaction('rxn1')\n",
    "\n",
    "r1.add_component('V', state = 'state', init = 2370)\n",
    "r1.add_component('eps2', state = 'concentration', init = 0.0)\n",
    "\n",
    "r1.add_algebraic_variables(['qin_B'])\n",
    "\n",
    "r1.add_parameter('k',init = 2.48)\n",
    "r1.add_parameter('na0', init = 2.34)\n",
    "\n",
    "cbf = 0.00721\n",
    "V0 = 2370"
   ]
  },
  {
   "cell_type": "code",
   "execution_count": 87,
   "metadata": {},
   "outputs": [],
   "source": [
    "def rule_odes(m,t):\n",
    "    \n",
    "    nBadded = (m.X[t, 'V'] - V0) * cbf\n",
    "    \n",
    "    exprs = dict()\n",
    "    exprs['V'] = m.Y[t,'qin_B']\n",
    "    exprs['eps2'] = m.Y[t,'qin_B'] * cbf / (1 + m.P['k']*(m.P['na0'] - nBadded + m.Z[t, 'eps2']) / (nBadded - 2 * m.Z[t,'eps2']))\n",
    "    return exprs\n",
    "\n",
    "r1.add_equations(rule_odes) "
   ]
  },
  {
   "cell_type": "code",
   "execution_count": 85,
   "metadata": {},
   "outputs": [],
   "source": [
    "def rule_algebraics(m, t):\n",
    "    \n",
    "    nBadded = (m.X[t, 'V'] - V0) * cbf\n",
    "    nD = m.Z[t,'eps2']\n",
    "    nC = nBadded - 2 * nD\n",
    "    \n",
    "    r = list()\n",
    "    r.append(m.Y[t, 'y'] * (nC + 2 * nD) - nC)\n",
    "    return r\n",
    "\n",
    "r1.add_algebraics(rule_algebraics)"
   ]
  },
  {
   "cell_type": "code",
   "execution_count": 88,
   "metadata": {},
   "outputs": [],
   "source": [
    "#r1.add_dataset('lc_data', category = 'custom', data = lc_data)\n",
    "r1.add_dataset('Traj', category = 'trajectory', data = qinB_traj)"
   ]
  },
  {
   "cell_type": "code",
   "execution_count": 89,
   "metadata": {},
   "outputs": [],
   "source": [
    "r1.fix_from_trajectory('Y', 'qin_B', 'Traj')\n",
    "r1.set_times(0, 900)"
   ]
  },
  {
   "cell_type": "code",
   "execution_count": 90,
   "metadata": {},
   "outputs": [],
   "source": [
    "r1.settings.collocation.nfe = 60\n",
    "r1.settings.collocation.ncp = 3\n",
    "r1.settings.collocation.scheme = 'LAGRANGE-RADAU'\n",
    "#r1.settings.parameter_estimator['solver'] = 'k_aug'\n",
    "r1.settings.solver.linear_solver = 'ma27'"
   ]
  },
  {
   "cell_type": "code",
   "execution_count": 91,
   "metadata": {},
   "outputs": [
    {
     "name": "stdout",
     "output_type": "stream",
     "text": [
      "times are: <class 'tuple'>\n",
      "WARNING: algebraic expressions not specified. Must be specified by user after creating the model\n"
     ]
    }
   ],
   "source": [
    "r1.simulate()"
   ]
  },
  {
   "cell_type": "code",
   "execution_count": 92,
   "metadata": {},
   "outputs": [
    {
     "data": {
      "text/html": [
       "<div>\n",
       "<style scoped>\n",
       "    .dataframe tbody tr th:only-of-type {\n",
       "        vertical-align: middle;\n",
       "    }\n",
       "\n",
       "    .dataframe tbody tr th {\n",
       "        vertical-align: top;\n",
       "    }\n",
       "\n",
       "    .dataframe thead th {\n",
       "        text-align: right;\n",
       "    }\n",
       "</style>\n",
       "<table border=\"1\" class=\"dataframe\">\n",
       "  <thead>\n",
       "    <tr style=\"text-align: right;\">\n",
       "      <th></th>\n",
       "      <th>V</th>\n",
       "      <th>nC</th>\n",
       "      <th>nD</th>\n",
       "    </tr>\n",
       "  </thead>\n",
       "  <tbody>\n",
       "    <tr>\n",
       "      <th>0.000000</th>\n",
       "      <td>2370.000000</td>\n",
       "      <td>0.000000</td>\n",
       "      <td>0.000000</td>\n",
       "    </tr>\n",
       "    <tr>\n",
       "      <th>2.325765</th>\n",
       "      <td>2370.260264</td>\n",
       "      <td>0.001850</td>\n",
       "      <td>0.000013</td>\n",
       "    </tr>\n",
       "    <tr>\n",
       "      <th>9.674235</th>\n",
       "      <td>2370.581659</td>\n",
       "      <td>0.004231</td>\n",
       "      <td>-0.000019</td>\n",
       "    </tr>\n",
       "    <tr>\n",
       "      <th>15.000000</th>\n",
       "      <td>2373.940537</td>\n",
       "      <td>0.028259</td>\n",
       "      <td>0.000076</td>\n",
       "    </tr>\n",
       "    <tr>\n",
       "      <th>17.325765</th>\n",
       "      <td>2377.260402</td>\n",
       "      <td>0.051898</td>\n",
       "      <td>0.000225</td>\n",
       "    </tr>\n",
       "  </tbody>\n",
       "</table>\n",
       "</div>"
      ],
      "text/plain": [
       "                     V        nC        nD\n",
       "0.000000   2370.000000  0.000000  0.000000\n",
       "2.325765   2370.260264  0.001850  0.000013\n",
       "9.674235   2370.581659  0.004231 -0.000019\n",
       "15.000000  2373.940537  0.028259  0.000076\n",
       "17.325765  2377.260402  0.051898  0.000225"
      ]
     },
     "execution_count": 92,
     "metadata": {},
     "output_type": "execute_result"
    }
   ],
   "source": [
    "V = r1.results.X['V']\n",
    "nBadded = (V - V0) * cbf\n",
    "nD = r1.results.Z['eps2']\n",
    "nC = nBadded - 2 * nD\n",
    "resdf = pd.DataFrame({'V': V, 'nC': nC, 'nD': nD})\n",
    "resdf.head()"
   ]
  },
  {
   "cell_type": "code",
   "execution_count": 93,
   "metadata": {},
   "outputs": [
    {
     "data": {
      "text/plain": [
       "[<matplotlib.lines.Line2D at 0x7fe4ea543cf8>]"
      ]
     },
     "execution_count": 93,
     "metadata": {},
     "output_type": "execute_result"
    },
    {
     "data": {
      "image/png": "[encoded data removed]",
      "text/plain": [
       "<Figure size 432x288 with 1 Axes>"
      ]
     },
     "metadata": {
      "needs_background": "light"
     },
     "output_type": "display_data"
    }
   ],
   "source": [
    "fig, ax = plt.subplots()\n",
    "#ax.plot(resdf.index, resdf['nC'] / resdf['V'])\n",
    "ax.plot(resdf.index, resdf['nD'] / resdf['V'])"
   ]
  },
  {
   "cell_type": "code",
   "execution_count": 66,
   "metadata": {},
   "outputs": [
    {
     "data": {
      "text/plain": [
       "[<matplotlib.lines.Line2D at 0x7fe4ea534f98>]"
      ]
     },
     "execution_count": 66,
     "metadata": {},
     "output_type": "execute_result"
    },
    {
     "data": {
      "image/png": "[encoded data removed]",
      "text/plain": [
       "<Figure size 432x288 with 1 Axes>"
      ]
     },
     "metadata": {
      "needs_background": "light"
     },
     "output_type": "display_data"
    }
   ],
   "source": [
    "fig, ax = plt.subplots()\n",
    "dfplt = r1.results.Y[r1.results.Y.index >= 50]\n",
    "ax.scatter(lc_data.index, lc_data['y'])\n",
    "ax.plot(dfplt.index, dfplt['y'])"
   ]
  },
  {
   "cell_type": "code",
   "execution_count": null,
   "metadata": {},
   "outputs": [],
   "source": []
  },
  {
   "cell_type": "code",
   "execution_count": 30,
   "metadata": {},
   "outputs": [
    {
     "data": {
      "text/plain": [
       "[<matplotlib.lines.Line2D at 0x7fe4fc69a630>]"
      ]
     },
     "execution_count": 30,
     "metadata": {},
     "output_type": "execute_result"
    },
    {
     "data": {
      "image/png": "[encoded data removed]",
      "text/plain": [
       "<Figure size 432x288 with 1 Axes>"
      ]
     },
     "metadata": {
      "needs_background": "light"
     },
     "output_type": "display_data"
    }
   ],
   "source": [
    "fig, ax = plt.subplots()\n",
    "ax.step(qinB_traj.index, qinB_traj['qin_B'])\n",
    "ax.step(r1.results.Y.index, r1.results.Y['qin_B'])"
   ]
  },
  {
   "cell_type": "code",
   "execution_count": null,
   "metadata": {},
   "outputs": [],
   "source": []
  }
 ],
 "metadata": {
  "kernelspec": {
   "display_name": "Python 3",
   "language": "python",
   "name": "python3"
  },
  "language_info": {
   "codemirror_mode": {
    "name": "ipython",
    "version": 3
   },
   "file_extension": ".py",
   "mimetype": "text/x-python",
   "name": "python",
   "nbconvert_exporter": "python",
   "pygments_lexer": "ipython3",
   "version": "3.7.3"
  }
 },
 "nbformat": 4,
 "nbformat_minor": 2
}
