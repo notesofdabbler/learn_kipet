{
 "cells": [
  {
   "cell_type": "code",
   "execution_count": 20,
   "metadata": {},
   "outputs": [],
   "source": [
    "#\n",
    "# This is an example from jbr Reactor Design Book\n",
    "# https://github.com/rawlings-group/paresto/blob/master/examples/green_book/bvsm_red.m\n",
    "#"
   ]
  },
  {
   "cell_type": "markdown",
   "metadata": {},
   "source": [
    "Reduced order model with states $V, \\epsilon_2$:\n",
    "$$\\frac{dV}{dt} = Q^{in}_B(t)$$\n",
    "$$\\frac{d\\epsilon_2}{dt} = \\frac{Q^{in}_B(t)c_{Bf}(n^{added}_B-2\\epsilon_2)}{(n^{added}_B-2\\epsilon_2) + k(n_{A0} - n^{added}_B + \\epsilon_2)} $$ \n",
    "\n",
    "Calculation of $n_B^{added}$:\n",
    "$$ n_B^{added} = (V - V(0))c_{Bf} $$\n",
    "\n",
    "Parameters:\n",
    "$k = 2.48, \\;\\;n_{A0} = 2.35$\n",
    "\n",
    "Initial conditions:\n",
    "$V = 2370, \\;\\;\\epsilon_2 = 0$\n",
    "\n",
    "When I just used $V, \\epsilon_2$ as state variables, kipet had trouble even simulating the system. So I rewrote the system with auxiliary algebraic variables which simulated without a problem.\n",
    "\n",
    "$$\\frac{dV}{dt} = Q^{in}_B(t)$$\n",
    "$$\\frac{d\\epsilon_2}{dt} = y_1(t) $$ \n",
    "$$ y_1(t)[(n^{added}_B-2\\epsilon_2) + k(n_{A0} - n^{added}_B + \\epsilon_2)] = Q^{in}_B(t)c_{Bf}(n^{added}_B-2\\epsilon_2) $$\n",
    "$$ n_B^{added} = (V - V(0))c_{Bf} $$\n",
    "\n",
    "While this simulated without issues, I am having trouble doing parameter estimation of $k$ and $n_{A0}$"
   ]
  },
  {
   "cell_type": "code",
   "execution_count": 21,
   "metadata": {},
   "outputs": [],
   "source": [
    "from kipet import KipetModel\n",
    "import matplotlib.pyplot as plt\n",
    "import numpy as np\n",
    "import pandas as pd\n",
    "from scipy.stats import t"
   ]
  },
  {
   "cell_type": "code",
   "execution_count": 22,
   "metadata": {},
   "outputs": [
    {
     "data": {
      "text/html": [
       "<div>\n",
       "<style scoped>\n",
       "    .dataframe tbody tr th:only-of-type {\n",
       "        vertical-align: middle;\n",
       "    }\n",
       "\n",
       "    .dataframe tbody tr th {\n",
       "        vertical-align: top;\n",
       "    }\n",
       "\n",
       "    .dataframe thead th {\n",
       "        text-align: right;\n",
       "    }\n",
       "</style>\n",
       "<table border=\"1\" class=\"dataframe\">\n",
       "  <thead>\n",
       "    <tr style=\"text-align: right;\">\n",
       "      <th></th>\n",
       "      <th>qin_B</th>\n",
       "    </tr>\n",
       "    <tr>\n",
       "      <th>time</th>\n",
       "      <th></th>\n",
       "    </tr>\n",
       "  </thead>\n",
       "  <tbody>\n",
       "    <tr>\n",
       "      <th>9.0</th>\n",
       "      <td>0.134365</td>\n",
       "    </tr>\n",
       "    <tr>\n",
       "      <th>19.0</th>\n",
       "      <td>1.772804</td>\n",
       "    </tr>\n",
       "    <tr>\n",
       "      <th>29.0</th>\n",
       "      <td>1.734587</td>\n",
       "    </tr>\n",
       "    <tr>\n",
       "      <th>39.0</th>\n",
       "      <td>1.703319</td>\n",
       "    </tr>\n",
       "    <tr>\n",
       "      <th>49.0</th>\n",
       "      <td>1.669967</td>\n",
       "    </tr>\n",
       "    <tr>\n",
       "      <th>...</th>\n",
       "      <td>...</td>\n",
       "    </tr>\n",
       "    <tr>\n",
       "      <th>829.0</th>\n",
       "      <td>0.000990</td>\n",
       "    </tr>\n",
       "    <tr>\n",
       "      <th>839.0</th>\n",
       "      <td>0.000782</td>\n",
       "    </tr>\n",
       "    <tr>\n",
       "      <th>849.0</th>\n",
       "      <td>0.000643</td>\n",
       "    </tr>\n",
       "    <tr>\n",
       "      <th>859.0</th>\n",
       "      <td>0.000712</td>\n",
       "    </tr>\n",
       "    <tr>\n",
       "      <th>869.0</th>\n",
       "      <td>0.000608</td>\n",
       "    </tr>\n",
       "  </tbody>\n",
       "</table>\n",
       "<p>87 rows × 1 columns</p>\n",
       "</div>"
      ],
      "text/plain": [
       "          qin_B\n",
       "time           \n",
       "9.0    0.134365\n",
       "19.0   1.772804\n",
       "29.0   1.734587\n",
       "39.0   1.703319\n",
       "49.0   1.669967\n",
       "...         ...\n",
       "829.0  0.000990\n",
       "839.0  0.000782\n",
       "849.0  0.000643\n",
       "859.0  0.000712\n",
       "869.0  0.000608\n",
       "\n",
       "[87 rows x 1 columns]"
      ]
     },
     "execution_count": 22,
     "metadata": {},
     "output_type": "execute_result"
    }
   ],
   "source": [
    "# Import data set with flow of B over time\n",
    "filename = '/home/paperspace/learn_kipet/kipet_paresto/data_sets/flow.dat'\n",
    "flow_df = pd.read_csv(filename, delimiter=r\"\\s+\", header = None)\n",
    "flow_df.columns = ['time', 'Qf', 'x']\n",
    "flow_df['qin_B'] = flow_df['Qf'] / 0.728\n",
    "flow_df = flow_df.set_index('time')\n",
    "qinB_traj = flow_df[['qin_B']]\n",
    "qinB_traj"
   ]
  },
  {
   "cell_type": "code",
   "execution_count": 23,
   "metadata": {},
   "outputs": [
    {
     "data": {
      "text/html": [
       "<div>\n",
       "<style scoped>\n",
       "    .dataframe tbody tr th:only-of-type {\n",
       "        vertical-align: middle;\n",
       "    }\n",
       "\n",
       "    .dataframe tbody tr th {\n",
       "        vertical-align: top;\n",
       "    }\n",
       "\n",
       "    .dataframe thead th {\n",
       "        text-align: right;\n",
       "    }\n",
       "</style>\n",
       "<table border=\"1\" class=\"dataframe\">\n",
       "  <thead>\n",
       "    <tr style=\"text-align: right;\">\n",
       "      <th></th>\n",
       "      <th>qin_B</th>\n",
       "    </tr>\n",
       "    <tr>\n",
       "      <th>time</th>\n",
       "      <th></th>\n",
       "    </tr>\n",
       "  </thead>\n",
       "  <tbody>\n",
       "    <tr>\n",
       "      <th>0.0</th>\n",
       "      <td>0.000000</td>\n",
       "    </tr>\n",
       "    <tr>\n",
       "      <th>9.0</th>\n",
       "      <td>0.134365</td>\n",
       "    </tr>\n",
       "    <tr>\n",
       "      <th>19.0</th>\n",
       "      <td>1.772804</td>\n",
       "    </tr>\n",
       "    <tr>\n",
       "      <th>29.0</th>\n",
       "      <td>1.734587</td>\n",
       "    </tr>\n",
       "    <tr>\n",
       "      <th>39.0</th>\n",
       "      <td>1.703319</td>\n",
       "    </tr>\n",
       "  </tbody>\n",
       "</table>\n",
       "</div>"
      ],
      "text/plain": [
       "         qin_B\n",
       "time          \n",
       "0.0   0.000000\n",
       "9.0   0.134365\n",
       "19.0  1.772804\n",
       "29.0  1.734587\n",
       "39.0  1.703319"
      ]
     },
     "execution_count": 23,
     "metadata": {},
     "output_type": "execute_result"
    }
   ],
   "source": [
    "# insert first row for time 0\n",
    "qinB_row0 = pd.DataFrame({'time':[0], 'qin_B':[0]}).set_index('time')\n",
    "qinB_traj = qinB_traj.append(qinB_row0).sort_index()\n",
    "qinB_traj.head()"
   ]
  },
  {
   "cell_type": "code",
   "execution_count": 28,
   "metadata": {},
   "outputs": [],
   "source": [
    "filename = '/home/paperspace/learn_kipet/kipet_paresto/data_sets/lc.dat'\n",
    "lc_data = pd.read_csv(filename, delimiter=r\"\\s+\", header = None)\n",
    "lc_data.columns = ['time', 'y']\n",
    "lc_data = lc_data.set_index('time')"
   ]
  },
  {
   "cell_type": "code",
   "execution_count": 29,
   "metadata": {},
   "outputs": [],
   "source": [
    "#lc_data_0 = pd.DataFrame({'time':qinB_traj.index[qinB_traj.index < 414]})\n",
    "#lc_data_0['y'] = 1\n",
    "#lc_data_0 = lc_data_0.set_index('time')\n",
    "lc_data_0 = pd.DataFrame({'time':[0], 'y':[0]}).set_index('time')\n",
    "lc_data = pd.concat([lc_data_0, lc_data])"
   ]
  },
  {
   "cell_type": "code",
   "execution_count": 30,
   "metadata": {},
   "outputs": [
    {
     "data": {
      "text/html": [
       "<div>\n",
       "<style scoped>\n",
       "    .dataframe tbody tr th:only-of-type {\n",
       "        vertical-align: middle;\n",
       "    }\n",
       "\n",
       "    .dataframe tbody tr th {\n",
       "        vertical-align: top;\n",
       "    }\n",
       "\n",
       "    .dataframe thead th {\n",
       "        text-align: right;\n",
       "    }\n",
       "</style>\n",
       "<table border=\"1\" class=\"dataframe\">\n",
       "  <thead>\n",
       "    <tr style=\"text-align: right;\">\n",
       "      <th></th>\n",
       "      <th>y</th>\n",
       "    </tr>\n",
       "    <tr>\n",
       "      <th>time</th>\n",
       "      <th></th>\n",
       "    </tr>\n",
       "  </thead>\n",
       "  <tbody>\n",
       "    <tr>\n",
       "      <th>0</th>\n",
       "      <td>0.0000</td>\n",
       "    </tr>\n",
       "    <tr>\n",
       "      <th>414</th>\n",
       "      <td>0.1705</td>\n",
       "    </tr>\n",
       "    <tr>\n",
       "      <th>424</th>\n",
       "      <td>0.1604</td>\n",
       "    </tr>\n",
       "    <tr>\n",
       "      <th>434</th>\n",
       "      <td>0.1325</td>\n",
       "    </tr>\n",
       "    <tr>\n",
       "      <th>444</th>\n",
       "      <td>0.1084</td>\n",
       "    </tr>\n",
       "  </tbody>\n",
       "</table>\n",
       "</div>"
      ],
      "text/plain": [
       "           y\n",
       "time        \n",
       "0     0.0000\n",
       "414   0.1705\n",
       "424   0.1604\n",
       "434   0.1325\n",
       "444   0.1084"
      ]
     },
     "execution_count": 30,
     "metadata": {},
     "output_type": "execute_result"
    }
   ],
   "source": [
    "lc_data.head()"
   ]
  },
  {
   "cell_type": "code",
   "execution_count": 73,
   "metadata": {},
   "outputs": [
    {
     "name": "stdout",
     "output_type": "stream",
     "text": [
      "Warning: Component V variance not provided\n",
      "Warning: Component eps2 variance not provided\n"
     ]
    }
   ],
   "source": [
    "kipet_model = KipetModel()\n",
    "\n",
    "r1 = kipet_model.new_reaction('rxn1')\n",
    "\n",
    "r1.add_component('V', state = 'state', init = 2370)\n",
    "r1.add_component('eps2', state = 'concentration', init = 0.0)\n",
    "#r1.add_component('qin_B', state = 'trajectory')\n",
    "\n",
    "r1.add_algebraic_variables('qin_B')\n",
    "r1.add_algebraic_variables('nBadded')\n",
    "r1.add_algebraic_variables('y1', init = 0.0)\n",
    "r1.add_algebraic_variables('y', init = 1e-6, bounds = (0.0, 1.0))\n",
    "\n",
    "r1.add_parameter('k', init = 2.48, bounds = (1e-6, 10))\n",
    "r1.add_parameter('na0', init = 2.34, bounds = (1,3))\n",
    "\n",
    "cbf = 0.00721\n",
    "V0 = 2370"
   ]
  },
  {
   "cell_type": "code",
   "execution_count": 74,
   "metadata": {},
   "outputs": [],
   "source": [
    "def rule_odes(m,t):\n",
    "        \n",
    "    exprs = dict()\n",
    "    exprs['V'] = m.Y[t,'qin_B']\n",
    "    exprs['eps2'] = m.Y[t, 'y1']\n",
    "    return exprs\n",
    "\n",
    "r1.add_equations(rule_odes) "
   ]
  },
  {
   "cell_type": "code",
   "execution_count": 75,
   "metadata": {},
   "outputs": [],
   "source": [
    "def rule_algebraics(m, t):\n",
    "    r = list()\n",
    "    r.append(m.Y[t,'nBadded'] - (m.X[t, 'V'] - V0) * cbf)\n",
    "    r.append(m.Y[t,'y1'] * ((m.Y[t,'nBadded'] - 2 * m.Z[t,'eps2']) + m.P['k']*(m.P['na0'] - m.Y[t,'nBadded'] + m.Z[t, 'eps2'])) - m.Y[t,'qin_B'] * cbf * (m.Y[t,'nBadded'] - 2 * m.Z[t,'eps2']))\n",
    "    r.append(m.Y[t, 'y'] * m.Y[t, 'nBadded'] - (m.Y[t,'nBadded'] - 2 * m.Z[t,'eps2']))\n",
    "    return r\n",
    "\n",
    "r1.add_algebraics(rule_algebraics)"
   ]
  },
  {
   "cell_type": "code",
   "execution_count": 76,
   "metadata": {},
   "outputs": [],
   "source": [
    "r1.add_objective_from_algebraic('y')"
   ]
  },
  {
   "cell_type": "code",
   "execution_count": 77,
   "metadata": {},
   "outputs": [],
   "source": [
    "r1.add_dataset('lc_data', category = 'custom', data = lc_data)\n",
    "r1.add_dataset('Traj', category = 'trajectory', data = qinB_traj)"
   ]
  },
  {
   "cell_type": "code",
   "execution_count": 78,
   "metadata": {},
   "outputs": [],
   "source": [
    "r1.fix_from_trajectory('Y', 'qin_B', 'Traj')\n",
    "r1.set_times(0, 900)"
   ]
  },
  {
   "cell_type": "code",
   "execution_count": 79,
   "metadata": {},
   "outputs": [],
   "source": [
    "r1.settings.collocation.nfe = 60\n",
    "r1.settings.collocation.ncp = 1\n",
    "r1.settings.collocation.scheme = 'LAGRANGE-RADAU'\n",
    "r1.settings.solver.linear_solver = 'ma27'\n",
    "r1.settings.parameter_estimator['solver'] = 'k_aug'"
   ]
  },
  {
   "cell_type": "code",
   "execution_count": 80,
   "metadata": {},
   "outputs": [
    {
     "name": "stdout",
     "output_type": "stream",
     "text": [
      "times are: <class 'tuple'>\n",
      "0 900\n",
      "WARNING: The number of algebraic equations is not the same as the number of algebraic variables.\n",
      " If this is the desired behavior, some algebraics must be added after the model is created.\n"
     ]
    }
   ],
   "source": [
    "r1.create_pyomo_model()"
   ]
  },
  {
   "cell_type": "code",
   "execution_count": 81,
   "metadata": {},
   "outputs": [
    {
     "name": "stdout",
     "output_type": "stream",
     "text": [
      "No variance information for V found, setting equal to unity\n",
      "No variance information for eps2 found, setting equal to unity\n",
      "        0.05 seconds required to write file\n",
      "        0.05 seconds required for presolve\n",
      "Ipopt 3.12: \n",
      "\n",
      "******************************************************************************\n",
      "This program contains Ipopt, a library for large-scale nonlinear optimization.\n",
      " Ipopt is released as open source code under the Eclipse Public License (EPL).\n",
      "         For more information visit http://projects.coin-or.org/Ipopt\n",
      "******************************************************************************\n",
      "\n",
      "This is Ipopt version 3.12, running with linear solver ma27.\n",
      "\n",
      "Number of nonzeros in equality constraint Jacobian...:     1152\n",
      "Number of nonzeros in inequality constraint Jacobian.:        0\n",
      "Number of nonzeros in Lagrangian Hessian.............:      464\n",
      "\n",
      "Total number of variables............................:      427\n",
      "                     variables with only lower bounds:        0\n",
      "                variables with lower and upper bounds:       39\n",
      "                     variables with only upper bounds:        0\n",
      "Total number of equality constraints.................:      425\n",
      "Total number of inequality constraints...............:        0\n",
      "        inequality constraints with only lower bounds:        0\n",
      "   inequality constraints with lower and upper bounds:        0\n",
      "        inequality constraints with only upper bounds:        0\n",
      "\n",
      "iter    objective    inf_pr   inf_du lg(mu)  ||d||  lg(rg) alpha_du alpha_pr  ls\n",
      "   0  3.0669247e+01 4.82e+00 9.02e-01  -1.0 0.00e+00    -  0.00e+00 0.00e+00   0\n",
      "   1  3.0614858e+01 4.52e+00 5.53e+00  -1.0 6.06e+02    -  9.84e-03 4.06e-03h  1\n",
      "   2  3.0581180e+01 4.51e+00 7.34e+00  -1.0 6.03e+02    -  3.02e-04 1.26e-04h  1\n",
      "   3  2.8041304e+01 2.19e+00 2.51e+03  -1.0 6.03e+02    -  7.32e-04 9.42e-03f  1\n",
      "   4  2.8011956e+01 2.19e+00 2.51e+03  -1.0 5.98e+02    -  2.83e-02 2.26e-03h  1\n",
      "   5  2.8009172e+01 2.19e+00 2.51e+03  -1.0 5.96e+02    -  4.54e-02 6.22e-05h  1\n",
      "   6  2.2983759e+01 1.84e+00 2.40e+03  -1.0 5.96e+02    -  4.74e-02 8.39e-02f  1\n",
      "   7  2.0282915e+01 7.80e+00 6.67e+03  -1.0 5.46e+02    -  2.09e-01 4.02e-01f  1\n",
      "   8  2.0107215e+01 7.09e+00 5.89e+03  -1.0 3.27e+02    -  2.55e-03 7.24e-02h  1\n",
      "   9  1.9907737e+01 6.49e+00 5.22e+03  -1.0 3.03e+02    -  1.99e-01 7.59e-02h  1\n",
      "iter    objective    inf_pr   inf_du lg(mu)  ||d||  lg(rg) alpha_du alpha_pr  ls\n",
      "  10  1.8739995e+01 2.79e+00 1.65e+04  -1.0 2.80e+02    -  1.00e+00 4.53e-01h  1\n",
      "  11  1.8749119e+01 4.91e+01 2.05e+12  -1.0 1.53e+02   2.0 4.52e-06 5.44e-01f  1\n",
      "MA27BD returned iflag=-4 and requires more memory.\n",
      " Increase liw from 19895 to 39790 and la from 17365 to 36578 and factorize again.\n",
      "  12  1.8278289e+01 4.76e+01 2.01e+12  -1.0 6.98e+01   7.8 3.37e-02 2.25e-02h  1\n",
      "  13  3.7611820e+00 1.55e+01 1.11e+12  -1.0 6.82e+01   8.3 2.39e-02 3.92e-01f  1\n",
      "MA27BD returned iflag=-4 and requires more memory.\n",
      " Increase liw from 39790 to 79580 and la from 36578 to 76362 and factorize again.\n",
      "  14  5.1970283e+00 1.52e+01 1.09e+12  -1.0 8.28e+01   8.7 2.05e-03 1.27e-02h  1\n",
      "  15  5.2126876e+00 1.52e+01 1.09e+12  -1.0 4.10e+01   8.2 2.71e-01 4.24e-04h  1\n",
      "  16  5.2127927e+00 1.52e+01 1.09e+12  -1.0 4.09e+01   8.6 2.65e-01 2.11e-05h  1\n",
      "  17  5.2292114e+00 1.52e+01 1.09e+12  -1.0 1.33e+02    -  6.92e-02 4.53e-04h  1\n",
      "  18  5.3091060e+00 1.52e+01 1.09e+12  -1.0 1.58e+02    -  4.83e-01 1.85e-03h  1\n",
      "  19r 5.3091060e+00 1.52e+01 9.99e+02   1.2 0.00e+00    -  0.00e+00 4.70e-07R  4\n",
      "iter    objective    inf_pr   inf_du lg(mu)  ||d||  lg(rg) alpha_du alpha_pr  ls\n",
      "  20r 5.3453223e+00 4.65e-01 9.17e+02   1.2 1.42e+04    -  8.71e-02 1.06e-03f  1\n",
      "  21  2.2025444e+00 1.78e+00 9.03e+00  -1.0 4.06e+01    -  8.27e-01 1.00e+00f  1\n",
      "  22  2.5642386e+00 1.25e+00 5.23e+12  -1.0 1.55e+01    -  5.42e-01 5.00e-01h  2\n",
      "  23  1.8365399e+00 2.90e-01 1.44e+16  -1.0 3.03e+00    -  1.00e+00 9.90e-01h  1\n",
      "  24  1.8818051e+00 6.61e-02 7.21e+15  -1.0 1.87e+00    -  1.00e+00 9.90e-01h  1\n",
      "  25  1.8837653e+00 1.60e-02 7.13e+15  -1.0 3.38e+00    -  1.00e+00 9.96e-01h  1\n",
      "  26  1.2714672e+00 3.00e-03 6.83e+13  -2.5 7.95e-01    -  7.53e-01 1.00e+00f  1\n",
      "  27  1.0576524e+00 5.04e-03 3.21e+04  -3.8 2.19e+00    -  7.73e-01 1.00e+00f  1\n",
      "  28  1.0108330e+00 8.22e-04 1.88e+04  -3.8 7.56e-01    -  4.14e-01 1.00e+00h  1\n",
      "  29  1.0028803e+00 3.95e-04 1.72e+03  -5.7 3.48e-01    -  9.49e-01 1.00e+00h  1\n",
      "iter    objective    inf_pr   inf_du lg(mu)  ||d||  lg(rg) alpha_du alpha_pr  ls\n",
      "  30  1.0004285e+00 5.11e-04 1.15e+02  -5.7 6.16e-01    -  9.33e-01 1.00e+00h  1\n",
      "  31  1.0003404e+00 1.21e-04 1.12e-02  -5.7 4.14e-01    -  1.00e+00 1.00e+00h  1\n",
      "  32  1.0003379e+00 4.45e-06 3.75e-04  -5.7 9.20e-02    -  1.00e+00 1.00e+00h  1\n",
      "  33  1.0003378e+00 7.56e-10 3.56e-05  -8.6 1.28e-03    -  1.00e+00 1.00e+00h  1\n",
      "\n",
      "Number of Iterations....: 33\n",
      "\n",
      "                                   (scaled)                 (unscaled)\n",
      "Objective...............:   1.0003377891829210e+00    1.0003377891829210e+00\n",
      "Dual infeasibility......:   3.5564917733338095e-05    3.5564917733338095e-05\n",
      "Constraint violation....:   7.5642114794050030e-10    7.5642114794050030e-10\n",
      "Complementarity.........:   3.1055646333748207e-09    3.1055646333748207e-09\n",
      "Overall NLP error.......:   3.1055646333748207e-09    3.5564917733338095e-05\n",
      "\n",
      "\n",
      "Number of objective function evaluations             = 40\n",
      "Number of objective gradient evaluations             = 34\n",
      "Number of equality constraint evaluations            = 40\n",
      "Number of inequality constraint evaluations          = 0\n",
      "Number of equality constraint Jacobian evaluations   = 35\n",
      "Number of inequality constraint Jacobian evaluations = 0\n",
      "Number of Lagrangian Hessian evaluations             = 33\n",
      "Total CPU secs in IPOPT (w/o function evaluations)   =      0.068\n",
      "Total CPU secs in NLP function evaluations           =      0.008\n",
      "\n",
      "EXIT: Optimal Solution Found.\n",
      "        0.11 seconds required for solver\n",
      "        0.00 seconds required to read logfile \n",
      "        0.01 seconds required to read solution file\n",
      "        0.01 seconds required for postsolve\n",
      "ipopt_zL_in : Direction=Suffix.EXPORT, Datatype=Suffix.FLOAT\n",
      "    Key : Value\n",
      "rh_name : Direction=Suffix.IMPORT, Datatype=Suffix.FLOAT\n",
      "    Key : Value\n",
      "ipopt_zL_in : Direction=Suffix.EXPORT, Datatype=Suffix.FLOAT\n",
      "    Key      : Value\n",
      "        P[k] :  6.001124100000791e-10\n",
      "      P[na0] : 1.9405815779821094e-09\n",
      "      Y[0,y] : 2.5059035346210457e-09\n",
      "    Y[414,y] : 1.6092002427822938e-08\n",
      "    Y[424,y] : 1.8029269346483756e-08\n",
      "    Y[434,y] :  2.181201390319187e-08\n",
      "    Y[444,y] : 2.5405732441595376e-08\n",
      "    Y[493,y] :  2.542451096648659e-08\n",
      "    Y[503,y] :  2.542692764514662e-08\n",
      "    Y[513,y] : 2.5967155523024015e-08\n",
      "    Y[523,y] : 2.8943936419409188e-08\n",
      "    Y[533,y] : 3.2842370854069345e-08\n",
      "    Y[582,y] :  4.373512532918701e-08\n",
      "    Y[592,y] : 4.3704511596561976e-08\n",
      "    Y[602,y] : 4.3714986130681137e-08\n",
      "    Y[612,y] :  4.370779725704603e-08\n",
      "    Y[621,y] :  4.367880034480707e-08\n",
      "    Y[631,y] : 4.3618795814714815e-08\n",
      "    Y[641,y] :  4.361123000345946e-08\n",
      "    Y[651,y] : 4.4157868615947525e-08\n",
      "    Y[661,y] : 4.7765338035440745e-08\n",
      "    Y[671,y] : 5.2998749788051264e-08\n",
      "    Y[681,y] :  5.311287170379223e-08\n",
      "    Y[690,y] :  5.431564569724571e-08\n",
      "    Y[700,y] :  6.890526754726464e-08\n",
      "    Y[710,y] :   6.89187382132129e-08\n",
      "    Y[720,y] :  6.893050548465563e-08\n",
      "    Y[730,y] :  6.893483356810662e-08\n",
      "    Y[740,y] :  6.893845905519706e-08\n",
      "    Y[750,y] :  6.937504615257015e-08\n",
      "    Y[759,y] :   7.34462686980726e-08\n",
      "    Y[769,y] :   7.34764986360509e-08\n",
      "    Y[779,y] :  7.668574386921091e-08\n",
      "    Y[789,y] :  7.672861370546576e-08\n",
      "    Y[799,y] :  7.677650751566716e-08\n",
      "    Y[848,y] :  7.692640054012592e-08\n",
      "    Y[858,y] :  7.695177848122785e-08\n",
      "    Y[868,y] :  7.697404422365962e-08\n",
      "    Y[900,y] :  7.704417424932733e-08\n"
     ]
    },
    {
     "name": "stderr",
     "output_type": "stream",
     "text": [
      "W[K_AUG]...\t[K_AUG_ASL]No n_rhs declared\n",
      "W[K_AUG]...\t[K_AUG_ASL]Target log10mu:= -11.\n",
      "W[K_AUG]...\t[K_AUG_ASL]No f_timestamp suffix declared, Fallback to default writing mode.\n",
      "I[K_AUG]...\t[K_AUG_ASL] Filename for dot_sens dot_in_.in\n"
     ]
    },
    {
     "name": "stdout",
     "output_type": "stream",
     "text": [
      "[K_AUG] written by D.T. @2018\n",
      "\n",
      ": I[K_AUG]...\t[K_AUG_ASL]File read succesfull\n",
      "I[K_AUG]...\t[K_AUG_ASL]Number of Right hand sides 0\n",
      "I[K_AUG]...\t[K_AUG_ASL]Number of Right hand sides: 0\n",
      "I[K_AUG]...\t[K_AUG_ASL]Number of variables       : 427\n",
      "I[K_AUG]...\t[K_AUG_ASL]Number of constraints     : 425\n",
      "I[K_AUG]...\t[K_AUG_ASL]Number of valid n_dof     : 2\n",
      "I[K_AUG]...\t[ADJUST_MU]log10(mu) computed=-8.601035646951091 at var_i=0\n",
      "I[K_AUG]...\t[ADJUST_MU]log10(mu) close to the target\t-8.563643497384918 at var_i=1\n",
      "I[K_AUG]...\t[FIND_INEQUALITIES]summary: eq: 425, leq: 0, geq: 0 \n",
      "I[K_AUG]...\t[K_AUG_ASL]Nonzeroes in the sparse Jacobian 1152\n",
      "I[K_AUG]...\t[GET_HESS_ASL]Objective found\n",
      "I[K_AUG]...\t[GET_HESS_ASL]Nonzeroes in the sparse hessian 464\n",
      "I[K_AUG]...\t[GET_HESS_ASL]Minimization problem detected\n",
      "I[K_AUG]...\t[GET_HESS_ASL]Current objective 1.000338\n",
      "I[K_AUG]...\t[GET_HESS_ASL]Missing nz in the Hessian of the Lag: 391\n",
      "I[K_AUG]...\t[K_AUG_ASL]Barrier term added.\n",
      "I[K_AUG]...\t[K_AUG_ASL]MC19 scaling...\n",
      "I[K_AUG]...\t[ASSM_RHS_RH]According to the suffixes declared dof is 2 \n",
      "I[K_AUG]...\t[ASSM_RHS_RH]n_dof exactly n_var - n_con \n",
      "I[K_AUG]...\t[MUMPS_DRIVER]n_neig = 425\n",
      "I[K_AUG]...\t[INERTIA_STRATEGY]Inertia check successful.\n",
      "I[K_AUG]...\t[MUMPS_DRIVER]: Ratio of norm of scaled residuals (reported); 1.904644e-18 \n",
      "I[K_AUG]...\t[MUMPS_DRIVER]Accuracy at an acceptable level.\n",
      "\n",
      "W[K_AUG]...\t[MUMPS_DRIVER]Inertia check OK neig=425, (neig == m).\n",
      "I[K_AUG]...\t[K_AUG_ASL]Linear solver done. \n",
      "\bI[K_AUG]...\t[K_AUG_ASL]Timings..Ev&Assem 0.009807, Fact 0.074589, Overall 0.079297.\n",
      "Done solving building reduce hessian\n",
      "4 hessian size\n",
      "Parameter variances:  [9.84101660e+02 1.46777207e-01]\n",
      "\n",
      "Confidence intervals:\n",
      "k (-28.61989045508334,34.12089883958954)\n",
      "na0 (1.8903260822902297,2.656556351933207)\n"
     ]
    },
    {
     "data": {
      "text/plain": [
       "\n",
       "RESULTS\n",
       "Z:\n",
       "                   eps2\n",
       "0.0000   -1.195277e-65\n",
       "12.9375   8.429578e-04\n",
       "25.8750   7.018275e-03\n",
       "38.8125   1.728100e-02\n",
       "51.7500   3.144532e-02\n",
       "...                ...\n",
       "848.0000  2.095785e+00\n",
       "858.0000  2.095835e+00\n",
       "868.0000  2.095878e+00\n",
       "884.0000  2.095947e+00\n",
       "900.0000  2.096016e+00\n",
       "\n",
       "[61 rows x 1 columns]\n",
       "\n",
       "X:\n",
       "                     V\n",
       "0.0000    2370.000000\n",
       "12.9375   2380.084785\n",
       "25.8750   2402.680509\n",
       "38.8125   2424.724779\n",
       "51.7500   2446.190304\n",
       "...               ...\n",
       "848.0000  2975.807118\n",
       "858.0000  2975.814171\n",
       "868.0000  2975.820356\n",
       "884.0000  2975.830085\n",
       "900.0000  2975.839814\n",
       "\n",
       "[61 rows x 1 columns]\n",
       "\n",
       "dZdt:\n",
       "               eps2\n",
       "0.0000    0.000000\n",
       "12.9375   0.000065\n",
       "25.8750   0.000477\n",
       "38.8125   0.000793\n",
       "51.7500   0.001095\n",
       "...            ...\n",
       "848.0000  0.000005\n",
       "858.0000  0.000005\n",
       "868.0000  0.000004\n",
       "884.0000  0.000004\n",
       "900.0000  0.000004\n",
       "\n",
       "[61 rows x 1 columns]\n",
       "\n",
       "dXdt:\n",
       "                  V\n",
       "0.0000    0.000000\n",
       "12.9375   0.779500\n",
       "25.8750   1.746529\n",
       "38.8125   1.703905\n",
       "51.7500   1.659171\n",
       "...            ...\n",
       "848.0000  0.000657\n",
       "858.0000  0.000705\n",
       "868.0000  0.000618\n",
       "884.0000  0.000608\n",
       "900.0000  0.000608\n",
       "\n",
       "[61 rows x 1 columns]\n",
       "\n",
       "P:\n",
       " {'k': 2.750504192253101, 'na0': 2.2734412171117184}\n",
       "\n",
       "Y:\n",
       "                nBadded     qin_B         y            y1\n",
       "0.0000   -1.387779e-17  0.000000  1.000000 -2.084825e-13\n",
       "12.9375   7.271130e-02  0.779500  0.976814  6.515616e-05\n",
       "25.8750   2.356265e-01  1.746529  0.940429  4.773192e-04\n",
       "38.8125   3.945657e-01  1.703905  0.912405  7.932540e-04\n",
       "51.7500   5.493321e-01  1.659171  0.885514  1.094827e-03\n",
       "...                ...       ...       ...           ...\n",
       "848.0000  4.367869e+00  0.000657  0.040363  4.637135e-06\n",
       "858.0000  4.367920e+00  0.000705  0.040351  4.980310e-06\n",
       "868.0000  4.367965e+00  0.000618  0.040341  4.366956e-06\n",
       "884.0000  4.368035e+00  0.000608  0.040325  4.293415e-06\n",
       "900.0000  4.368105e+00  0.000608  0.040309  4.293477e-06\n",
       "\n",
       "[61 rows x 4 columns]\n",
       "\n",
       "UD:\n",
       "           y\n",
       "0    0.0000\n",
       "414  0.1705\n",
       "424  0.1604\n",
       "434  0.1325\n",
       "444  0.1084\n",
       "493  0.1014\n",
       "503  0.1042\n",
       "513  0.1045\n",
       "523  0.0970\n",
       "533  0.0824\n",
       "582  0.0678\n",
       "592  0.0697\n",
       "602  0.0702\n",
       "612  0.0692\n",
       "621  0.0684\n",
       "631  0.0675\n",
       "641  0.0673\n",
       "651  0.0673\n",
       "661  0.0654\n",
       "671  0.0577\n",
       "681  0.0571\n",
       "690  0.0563\n",
       "700  0.0466\n",
       "710  0.0455\n",
       "720  0.0449\n",
       "730  0.0456\n",
       "740  0.0450\n",
       "750  0.0434\n",
       "759  0.0428\n",
       "769  0.0426\n",
       "779  0.0409\n",
       "789  0.0399\n",
       "799  0.0397\n",
       "848  0.0394\n",
       "858  0.0374\n",
       "868  0.0371\n"
      ]
     },
     "execution_count": 81,
     "metadata": {},
     "output_type": "execute_result"
    }
   ],
   "source": [
    "r1.run_opt()"
   ]
  },
  {
   "cell_type": "code",
   "execution_count": 82,
   "metadata": {},
   "outputs": [
    {
     "name": "stdout",
     "output_type": "stream",
     "text": [
      "\n",
      "The estimated parameters are:\n",
      "k 2.750504192253101\n",
      "na0 2.2734412171117184\n"
     ]
    }
   ],
   "source": [
    "r1.results.show_parameters"
   ]
  },
  {
   "cell_type": "code",
   "execution_count": 83,
   "metadata": {},
   "outputs": [
    {
     "data": {
      "text/plain": [
       "[<matplotlib.lines.Line2D at 0x7f3b4165ef28>]"
      ]
     },
     "execution_count": 83,
     "metadata": {},
     "output_type": "execute_result"
    },
    {
     "data": {
      "image/png": "[encoded data removed]",
      "text/plain": [
       "<Figure size 432x288 with 1 Axes>"
      ]
     },
     "metadata": {
      "needs_background": "light"
     },
     "output_type": "display_data"
    }
   ],
   "source": [
    "fig, ax = plt.subplots()\n",
    "ax.scatter(lc_data.index, lc_data['y'])\n",
    "ax.plot(r1.results.Y.index, r1.results.Y['y'])"
   ]
  },
  {
   "cell_type": "code",
   "execution_count": 84,
   "metadata": {},
   "outputs": [
    {
     "data": {
      "text/plain": [
       "[<matplotlib.lines.Line2D at 0x7f3b4164c4a8>]"
      ]
     },
     "execution_count": 84,
     "metadata": {},
     "output_type": "execute_result"
    },
    {
     "data": {
      "image/png": "[encoded data removed]",
      "text/plain": [
       "<Figure size 432x288 with 1 Axes>"
      ]
     },
     "metadata": {
      "needs_background": "light"
     },
     "output_type": "display_data"
    }
   ],
   "source": [
    "fig, ax = plt.subplots()\n",
    "ax.scatter(lc_data.index, lc_data['y'])\n",
    "ax.plot(r1.results.Y.index[r1.results.Y.index >= 380], r1.results.Y['y'][r1.results.Y.index >= 380])"
   ]
  },
  {
   "cell_type": "code",
   "execution_count": 85,
   "metadata": {},
   "outputs": [
    {
     "data": {
      "text/plain": [
       "[<matplotlib.lines.Line2D at 0x7f3b410fd400>]"
      ]
     },
     "execution_count": 85,
     "metadata": {},
     "output_type": "execute_result"
    },
    {
     "data": {
      "image/png": "[encoded data removed]",
      "text/plain": [
       "<Figure size 432x288 with 1 Axes>"
      ]
     },
     "metadata": {
      "needs_background": "light"
     },
     "output_type": "display_data"
    }
   ],
   "source": [
    "fig, ax = plt.subplots()\n",
    "ax.plot(r1.results.Z.index, r1.results.Z['eps2'])"
   ]
  },
  {
   "cell_type": "code",
   "execution_count": 86,
   "metadata": {},
   "outputs": [
    {
     "data": {
      "text/plain": [
       "[<matplotlib.lines.Line2D at 0x7f3b4109b748>]"
      ]
     },
     "execution_count": 86,
     "metadata": {},
     "output_type": "execute_result"
    },
    {
     "data": {
      "image/png": "[encoded data removed]",
      "text/plain": [
       "<Figure size 432x288 with 1 Axes>"
      ]
     },
     "metadata": {
      "needs_background": "light"
     },
     "output_type": "display_data"
    }
   ],
   "source": [
    "fig, ax = plt.subplots()\n",
    "ax.plot(r1.results.Y.index, r1.results.Y['nBadded'])"
   ]
  },
  {
   "cell_type": "code",
   "execution_count": 87,
   "metadata": {},
   "outputs": [
    {
     "data": {
      "text/plain": [
       "[<matplotlib.lines.Line2D at 0x7f3b4105b748>]"
      ]
     },
     "execution_count": 87,
     "metadata": {},
     "output_type": "execute_result"
    },
    {
     "data": {
      "image/png": "[encoded data removed]",
      "text/plain": [
       "<Figure size 432x288 with 1 Axes>"
      ]
     },
     "metadata": {
      "needs_background": "light"
     },
     "output_type": "display_data"
    }
   ],
   "source": [
    "fig, ax = plt.subplots()\n",
    "ax.plot(r1.results.X.index, r1.results.X['V'])"
   ]
  },
  {
   "cell_type": "code",
   "execution_count": 88,
   "metadata": {},
   "outputs": [
    {
     "data": {
      "text/plain": [
       "[<matplotlib.lines.Line2D at 0x7f3b41001b00>]"
      ]
     },
     "execution_count": 88,
     "metadata": {},
     "output_type": "execute_result"
    },
    {
     "data": {
      "image/png": "[encoded data removed]",
      "text/plain": [
       "<Figure size 432x288 with 1 Axes>"
      ]
     },
     "metadata": {
      "needs_background": "light"
     },
     "output_type": "display_data"
    }
   ],
   "source": [
    "fig, ax = plt.subplots()\n",
    "ax.step(r1.results.Y.index, r1.results.Y['qin_B'])\n",
    "ax.step(qinB_traj.index, qinB_traj['qin_B'])"
   ]
  },
  {
   "cell_type": "code",
   "execution_count": 89,
   "metadata": {},
   "outputs": [
    {
     "data": {
      "text/plain": [
       "array([[ 5.96626715e+01, -5.10144674e-01],\n",
       "       [-5.10144674e-01,  8.89859311e-03]])"
      ]
     },
     "execution_count": 89,
     "metadata": {},
     "output_type": "execute_result"
    }
   ],
   "source": [
    "dof = lc_data.shape[0] - 3\n",
    "mse = r1.results.objective / dof\n",
    "cov_mat = 2 * mse * r1.results.parameter_covariance\n",
    "cov_mat"
   ]
  },
  {
   "cell_type": "code",
   "execution_count": 90,
   "metadata": {},
   "outputs": [
    {
     "data": {
      "text/plain": [
       "array([15.71492481,  0.19192062])"
      ]
     },
     "execution_count": 90,
     "metadata": {},
     "output_type": "execute_result"
    }
   ],
   "source": [
    "conf_delta = t.ppf(0.975, dof) * np.sqrt(np.diag(cov_mat))\n",
    "conf_delta"
   ]
  },
  {
   "cell_type": "code",
   "execution_count": null,
   "metadata": {},
   "outputs": [],
   "source": []
  }
 ],
 "metadata": {
  "kernelspec": {
   "display_name": "Python 3",
   "language": "python",
   "name": "python3"
  },
  "language_info": {
   "codemirror_mode": {
    "name": "ipython",
    "version": 3
   },
   "file_extension": ".py",
   "mimetype": "text/x-python",
   "name": "python",
   "nbconvert_exporter": "python",
   "pygments_lexer": "ipython3",
   "version": "3.7.3"
  }
 },
 "nbformat": 4,
 "nbformat_minor": 2
}
