{
 "cells": [
  {
   "cell_type": "code",
   "execution_count": 1,
   "metadata": {},
   "outputs": [],
   "source": [
    "#\n",
    "# Generate data for HBV example based on\n",
    "# https://github.com/rawlings-group/paresto/blob/master/examples/green_book/hbv_det.m\n",
    "#"
   ]
  },
  {
   "cell_type": "code",
   "execution_count": 26,
   "metadata": {},
   "outputs": [],
   "source": [
    "import numpy as np\n",
    "from scipy.integrate import solve_ivp\n",
    "import matplotlib.pyplot as plt\n",
    "import pandas as pd"
   ]
  },
  {
   "cell_type": "code",
   "execution_count": 4,
   "metadata": {},
   "outputs": [],
   "source": [
    "kr = [2, 0.025, 1000, 0.25, 1.9985, 7.5E-6]"
   ]
  },
  {
   "cell_type": "code",
   "execution_count": 10,
   "metadata": {},
   "outputs": [],
   "source": [
    "def rxnrate(t, y, kr):\n",
    "    dy = np.zeros(3)\n",
    "    dy[0] = kr[1]*y[1] - kr[3]*y[0]\n",
    "    dy[1] = kr[0]*y[0] - kr[1]*y[1] - kr[5]*y[1]*y[2]\n",
    "    dy[2] = kr[2]*y[0] - kr[4]*y[2] - kr[5]*y[1]*y[2]\n",
    "    return dy"
   ]
  },
  {
   "cell_type": "code",
   "execution_count": 11,
   "metadata": {},
   "outputs": [],
   "source": [
    "rxnrate_fn = lambda t, y: rxnrate(t, y, kr)"
   ]
  },
  {
   "cell_type": "code",
   "execution_count": 22,
   "metadata": {},
   "outputs": [],
   "source": [
    "sol = solve_ivp(rxnrate_fn, [0, 100], [1, 0, 0], t_eval = np.linspace(0, 100), method = 'BDF')"
   ]
  },
  {
   "cell_type": "code",
   "execution_count": 23,
   "metadata": {
    "scrolled": true
   },
   "outputs": [
    {
     "data": {
      "text/plain": [
       "<matplotlib.legend.Legend at 0x7f48d8afc7f0>"
      ]
     },
     "execution_count": 23,
     "metadata": {},
     "output_type": "execute_result"
    },
    {
     "data": {
      "image/png": "[encoded data removed]",
      "text/plain": [
       "<Figure size 432x288 with 1 Axes>"
      ]
     },
     "metadata": {
      "needs_background": "light"
     },
     "output_type": "display_data"
    }
   ],
   "source": [
    "fig, ax = plt.subplots()\n",
    "ax.plot(sol.t, sol.y[0, :], label = 'A')\n",
    "ax.legend()"
   ]
  },
  {
   "cell_type": "code",
   "execution_count": 24,
   "metadata": {},
   "outputs": [
    {
     "data": {
      "text/plain": [
       "<matplotlib.legend.Legend at 0x7f48d8a5ec50>"
      ]
     },
     "execution_count": 24,
     "metadata": {},
     "output_type": "execute_result"
    },
    {
     "data": {
      "image/png": "[encoded data removed]",
      "text/plain": [
       "<Figure size 432x288 with 1 Axes>"
      ]
     },
     "metadata": {
      "needs_background": "light"
     },
     "output_type": "display_data"
    }
   ],
   "source": [
    "fig, ax = plt.subplots()\n",
    "ax.plot(sol.t, sol.y[1, :], label = 'B')\n",
    "ax.legend()"
   ]
  },
  {
   "cell_type": "code",
   "execution_count": 25,
   "metadata": {},
   "outputs": [
    {
     "data": {
      "text/plain": [
       "<matplotlib.legend.Legend at 0x7f48d8a6c390>"
      ]
     },
     "execution_count": 25,
     "metadata": {},
     "output_type": "execute_result"
    },
    {
     "data": {
      "image/png": "[encoded data removed]",
      "text/plain": [
       "<Figure size 432x288 with 1 Axes>"
      ]
     },
     "metadata": {
      "needs_background": "light"
     },
     "output_type": "display_data"
    }
   ],
   "source": [
    "fig, ax = plt.subplots()\n",
    "ax.plot(sol.t, sol.y[2, :], label = 'C')\n",
    "ax.legend()"
   ]
  },
  {
   "cell_type": "code",
   "execution_count": 38,
   "metadata": {},
   "outputs": [
    {
     "data": {
      "text/html": [
       "<div>\n",
       "<style scoped>\n",
       "    .dataframe tbody tr th:only-of-type {\n",
       "        vertical-align: middle;\n",
       "    }\n",
       "\n",
       "    .dataframe tbody tr th {\n",
       "        vertical-align: top;\n",
       "    }\n",
       "\n",
       "    .dataframe thead th {\n",
       "        text-align: right;\n",
       "    }\n",
       "</style>\n",
       "<table border=\"1\" class=\"dataframe\">\n",
       "  <thead>\n",
       "    <tr style=\"text-align: right;\">\n",
       "      <th></th>\n",
       "      <th>A</th>\n",
       "      <th>B</th>\n",
       "      <th>C</th>\n",
       "    </tr>\n",
       "  </thead>\n",
       "  <tbody>\n",
       "    <tr>\n",
       "      <th>0.000000</th>\n",
       "      <td>1.009830</td>\n",
       "      <td>-0.000680</td>\n",
       "      <td>-0.000513</td>\n",
       "    </tr>\n",
       "    <tr>\n",
       "      <th>2.040816</th>\n",
       "      <td>0.661861</td>\n",
       "      <td>3.177605</td>\n",
       "      <td>362.813978</td>\n",
       "    </tr>\n",
       "    <tr>\n",
       "      <th>4.081633</th>\n",
       "      <td>0.594968</td>\n",
       "      <td>5.478242</td>\n",
       "      <td>300.565912</td>\n",
       "    </tr>\n",
       "    <tr>\n",
       "      <th>6.122449</th>\n",
       "      <td>0.599911</td>\n",
       "      <td>7.446651</td>\n",
       "      <td>307.173358</td>\n",
       "    </tr>\n",
       "    <tr>\n",
       "      <th>8.163265</th>\n",
       "      <td>0.714289</td>\n",
       "      <td>9.875031</td>\n",
       "      <td>343.490305</td>\n",
       "    </tr>\n",
       "    <tr>\n",
       "      <th>10.204082</th>\n",
       "      <td>0.887860</td>\n",
       "      <td>12.419865</td>\n",
       "      <td>421.723509</td>\n",
       "    </tr>\n",
       "    <tr>\n",
       "      <th>12.244898</th>\n",
       "      <td>1.121166</td>\n",
       "      <td>15.528762</td>\n",
       "      <td>520.317113</td>\n",
       "    </tr>\n",
       "    <tr>\n",
       "      <th>14.285714</th>\n",
       "      <td>1.369862</td>\n",
       "      <td>19.323184</td>\n",
       "      <td>638.036677</td>\n",
       "    </tr>\n",
       "    <tr>\n",
       "      <th>16.326531</th>\n",
       "      <td>1.682558</td>\n",
       "      <td>24.577495</td>\n",
       "      <td>801.507807</td>\n",
       "    </tr>\n",
       "    <tr>\n",
       "      <th>18.367347</th>\n",
       "      <td>2.075393</td>\n",
       "      <td>30.656091</td>\n",
       "      <td>995.318340</td>\n",
       "    </tr>\n",
       "    <tr>\n",
       "      <th>20.408163</th>\n",
       "      <td>2.581887</td>\n",
       "      <td>37.740509</td>\n",
       "      <td>1241.384102</td>\n",
       "    </tr>\n",
       "    <tr>\n",
       "      <th>22.448980</th>\n",
       "      <td>3.237625</td>\n",
       "      <td>45.842905</td>\n",
       "      <td>1546.932310</td>\n",
       "    </tr>\n",
       "    <tr>\n",
       "      <th>24.489796</th>\n",
       "      <td>3.996011</td>\n",
       "      <td>56.455738</td>\n",
       "      <td>1913.797290</td>\n",
       "    </tr>\n",
       "    <tr>\n",
       "      <th>26.530612</th>\n",
       "      <td>4.991651</td>\n",
       "      <td>71.874364</td>\n",
       "      <td>2386.252611</td>\n",
       "    </tr>\n",
       "    <tr>\n",
       "      <th>28.571429</th>\n",
       "      <td>6.116385</td>\n",
       "      <td>84.598842</td>\n",
       "      <td>2921.643970</td>\n",
       "    </tr>\n",
       "    <tr>\n",
       "      <th>30.612245</th>\n",
       "      <td>7.554788</td>\n",
       "      <td>102.478873</td>\n",
       "      <td>3615.880515</td>\n",
       "    </tr>\n",
       "    <tr>\n",
       "      <th>32.653061</th>\n",
       "      <td>9.127736</td>\n",
       "      <td>124.078383</td>\n",
       "      <td>4411.256856</td>\n",
       "    </tr>\n",
       "    <tr>\n",
       "      <th>34.693878</th>\n",
       "      <td>10.844893</td>\n",
       "      <td>147.358772</td>\n",
       "      <td>5163.143787</td>\n",
       "    </tr>\n",
       "    <tr>\n",
       "      <th>36.734694</th>\n",
       "      <td>12.954490</td>\n",
       "      <td>177.133548</td>\n",
       "      <td>6344.241501</td>\n",
       "    </tr>\n",
       "    <tr>\n",
       "      <th>38.775510</th>\n",
       "      <td>15.175692</td>\n",
       "      <td>202.801710</td>\n",
       "      <td>7547.406723</td>\n",
       "    </tr>\n",
       "    <tr>\n",
       "      <th>40.816327</th>\n",
       "      <td>18.210539</td>\n",
       "      <td>236.153957</td>\n",
       "      <td>8749.183042</td>\n",
       "    </tr>\n",
       "    <tr>\n",
       "      <th>42.857143</th>\n",
       "      <td>20.527087</td>\n",
       "      <td>266.945906</td>\n",
       "      <td>10141.568490</td>\n",
       "    </tr>\n",
       "    <tr>\n",
       "      <th>44.897959</th>\n",
       "      <td>23.905817</td>\n",
       "      <td>295.443375</td>\n",
       "      <td>11507.972675</td>\n",
       "    </tr>\n",
       "    <tr>\n",
       "      <th>46.938776</th>\n",
       "      <td>27.266457</td>\n",
       "      <td>321.894210</td>\n",
       "      <td>13000.042995</td>\n",
       "    </tr>\n",
       "    <tr>\n",
       "      <th>48.979592</th>\n",
       "      <td>29.953376</td>\n",
       "      <td>349.563169</td>\n",
       "      <td>14347.623634</td>\n",
       "    </tr>\n",
       "    <tr>\n",
       "      <th>51.020408</th>\n",
       "      <td>32.308289</td>\n",
       "      <td>378.294990</td>\n",
       "      <td>15790.814452</td>\n",
       "    </tr>\n",
       "    <tr>\n",
       "      <th>53.061224</th>\n",
       "      <td>35.060553</td>\n",
       "      <td>389.640295</td>\n",
       "      <td>17102.223111</td>\n",
       "    </tr>\n",
       "    <tr>\n",
       "      <th>55.102041</th>\n",
       "      <td>37.517164</td>\n",
       "      <td>416.456649</td>\n",
       "      <td>18342.136760</td>\n",
       "    </tr>\n",
       "    <tr>\n",
       "      <th>57.142857</th>\n",
       "      <td>38.675322</td>\n",
       "      <td>422.902316</td>\n",
       "      <td>19266.911347</td>\n",
       "    </tr>\n",
       "    <tr>\n",
       "      <th>59.183673</th>\n",
       "      <td>41.548096</td>\n",
       "      <td>442.953293</td>\n",
       "      <td>20178.375335</td>\n",
       "    </tr>\n",
       "    <tr>\n",
       "      <th>61.224490</th>\n",
       "      <td>41.900843</td>\n",
       "      <td>446.834206</td>\n",
       "      <td>20698.534697</td>\n",
       "    </tr>\n",
       "    <tr>\n",
       "      <th>63.265306</th>\n",
       "      <td>43.214394</td>\n",
       "      <td>444.612197</td>\n",
       "      <td>21387.154221</td>\n",
       "    </tr>\n",
       "    <tr>\n",
       "      <th>65.306122</th>\n",
       "      <td>44.376008</td>\n",
       "      <td>452.625179</td>\n",
       "      <td>21548.709534</td>\n",
       "    </tr>\n",
       "    <tr>\n",
       "      <th>67.346939</th>\n",
       "      <td>44.933397</td>\n",
       "      <td>462.821231</td>\n",
       "      <td>22490.212156</td>\n",
       "    </tr>\n",
       "    <tr>\n",
       "      <th>69.387755</th>\n",
       "      <td>44.643798</td>\n",
       "      <td>465.305054</td>\n",
       "      <td>22452.703624</td>\n",
       "    </tr>\n",
       "    <tr>\n",
       "      <th>71.428571</th>\n",
       "      <td>45.736491</td>\n",
       "      <td>467.504428</td>\n",
       "      <td>22815.062050</td>\n",
       "    </tr>\n",
       "    <tr>\n",
       "      <th>73.469388</th>\n",
       "      <td>45.699996</td>\n",
       "      <td>468.929213</td>\n",
       "      <td>22893.730874</td>\n",
       "    </tr>\n",
       "    <tr>\n",
       "      <th>75.510204</th>\n",
       "      <td>46.203769</td>\n",
       "      <td>463.915116</td>\n",
       "      <td>22650.677156</td>\n",
       "    </tr>\n",
       "    <tr>\n",
       "      <th>77.551020</th>\n",
       "      <td>46.168433</td>\n",
       "      <td>465.728107</td>\n",
       "      <td>22952.679586</td>\n",
       "    </tr>\n",
       "    <tr>\n",
       "      <th>79.591837</th>\n",
       "      <td>46.895633</td>\n",
       "      <td>468.697827</td>\n",
       "      <td>23232.987481</td>\n",
       "    </tr>\n",
       "    <tr>\n",
       "      <th>81.632653</th>\n",
       "      <td>46.432664</td>\n",
       "      <td>466.287975</td>\n",
       "      <td>23711.925212</td>\n",
       "    </tr>\n",
       "    <tr>\n",
       "      <th>83.673469</th>\n",
       "      <td>46.227813</td>\n",
       "      <td>458.216757</td>\n",
       "      <td>23050.772653</td>\n",
       "    </tr>\n",
       "    <tr>\n",
       "      <th>85.714286</th>\n",
       "      <td>46.308748</td>\n",
       "      <td>466.267380</td>\n",
       "      <td>23112.641939</td>\n",
       "    </tr>\n",
       "    <tr>\n",
       "      <th>87.755102</th>\n",
       "      <td>45.929262</td>\n",
       "      <td>471.658293</td>\n",
       "      <td>23800.593185</td>\n",
       "    </tr>\n",
       "    <tr>\n",
       "      <th>89.795918</th>\n",
       "      <td>46.478708</td>\n",
       "      <td>460.465485</td>\n",
       "      <td>23473.552974</td>\n",
       "    </tr>\n",
       "    <tr>\n",
       "      <th>91.836735</th>\n",
       "      <td>47.243654</td>\n",
       "      <td>467.281538</td>\n",
       "      <td>23155.711290</td>\n",
       "    </tr>\n",
       "    <tr>\n",
       "      <th>93.877551</th>\n",
       "      <td>46.331043</td>\n",
       "      <td>461.331269</td>\n",
       "      <td>23543.125495</td>\n",
       "    </tr>\n",
       "    <tr>\n",
       "      <th>95.918367</th>\n",
       "      <td>46.009065</td>\n",
       "      <td>469.101821</td>\n",
       "      <td>23032.832251</td>\n",
       "    </tr>\n",
       "    <tr>\n",
       "      <th>97.959184</th>\n",
       "      <td>47.412349</td>\n",
       "      <td>465.655068</td>\n",
       "      <td>23279.248963</td>\n",
       "    </tr>\n",
       "    <tr>\n",
       "      <th>100.000000</th>\n",
       "      <td>46.683270</td>\n",
       "      <td>454.039325</td>\n",
       "      <td>23156.839764</td>\n",
       "    </tr>\n",
       "  </tbody>\n",
       "</table>\n",
       "</div>"
      ],
      "text/plain": [
       "                    A           B             C\n",
       "0.000000     1.009830   -0.000680     -0.000513\n",
       "2.040816     0.661861    3.177605    362.813978\n",
       "4.081633     0.594968    5.478242    300.565912\n",
       "6.122449     0.599911    7.446651    307.173358\n",
       "8.163265     0.714289    9.875031    343.490305\n",
       "10.204082    0.887860   12.419865    421.723509\n",
       "12.244898    1.121166   15.528762    520.317113\n",
       "14.285714    1.369862   19.323184    638.036677\n",
       "16.326531    1.682558   24.577495    801.507807\n",
       "18.367347    2.075393   30.656091    995.318340\n",
       "20.408163    2.581887   37.740509   1241.384102\n",
       "22.448980    3.237625   45.842905   1546.932310\n",
       "24.489796    3.996011   56.455738   1913.797290\n",
       "26.530612    4.991651   71.874364   2386.252611\n",
       "28.571429    6.116385   84.598842   2921.643970\n",
       "30.612245    7.554788  102.478873   3615.880515\n",
       "32.653061    9.127736  124.078383   4411.256856\n",
       "34.693878   10.844893  147.358772   5163.143787\n",
       "36.734694   12.954490  177.133548   6344.241501\n",
       "38.775510   15.175692  202.801710   7547.406723\n",
       "40.816327   18.210539  236.153957   8749.183042\n",
       "42.857143   20.527087  266.945906  10141.568490\n",
       "44.897959   23.905817  295.443375  11507.972675\n",
       "46.938776   27.266457  321.894210  13000.042995\n",
       "48.979592   29.953376  349.563169  14347.623634\n",
       "51.020408   32.308289  378.294990  15790.814452\n",
       "53.061224   35.060553  389.640295  17102.223111\n",
       "55.102041   37.517164  416.456649  18342.136760\n",
       "57.142857   38.675322  422.902316  19266.911347\n",
       "59.183673   41.548096  442.953293  20178.375335\n",
       "61.224490   41.900843  446.834206  20698.534697\n",
       "63.265306   43.214394  444.612197  21387.154221\n",
       "65.306122   44.376008  452.625179  21548.709534\n",
       "67.346939   44.933397  462.821231  22490.212156\n",
       "69.387755   44.643798  465.305054  22452.703624\n",
       "71.428571   45.736491  467.504428  22815.062050\n",
       "73.469388   45.699996  468.929213  22893.730874\n",
       "75.510204   46.203769  463.915116  22650.677156\n",
       "77.551020   46.168433  465.728107  22952.679586\n",
       "79.591837   46.895633  468.697827  23232.987481\n",
       "81.632653   46.432664  466.287975  23711.925212\n",
       "83.673469   46.227813  458.216757  23050.772653\n",
       "85.714286   46.308748  466.267380  23112.641939\n",
       "87.755102   45.929262  471.658293  23800.593185\n",
       "89.795918   46.478708  460.465485  23473.552974\n",
       "91.836735   47.243654  467.281538  23155.711290\n",
       "93.877551   46.331043  461.331269  23543.125495\n",
       "95.918367   46.009065  469.101821  23032.832251\n",
       "97.959184   47.412349  465.655068  23279.248963\n",
       "100.000000  46.683270  454.039325  23156.839764"
      ]
     },
     "execution_count": 38,
     "metadata": {},
     "output_type": "execute_result"
    }
   ],
   "source": [
    "# create dataframe\n",
    "C_data = pd.DataFrame(sol.y.T)\n",
    "C_data.index = sol.t\n",
    "C_data.columns = ['A', 'B', 'C']\n",
    "C_data"
   ]
  },
  {
   "cell_type": "code",
   "execution_count": 39,
   "metadata": {},
   "outputs": [],
   "source": [
    "# add noise\n",
    "n = C_data.shape[0]\n",
    "C_data['A'] = C_data['A'] * (1 + np.random.normal(0, 0.1, n))\n",
    "C_data['B'] = C_data['B'] * (1 + np.random.normal(0, 0.1, n))\n",
    "C_data['C'] = C_data['C'] * (1 + np.random.normal(0, 0.1, n))"
   ]
  },
  {
   "cell_type": "code",
   "execution_count": 40,
   "metadata": {},
   "outputs": [
    {
     "data": {
      "text/plain": [
       "<matplotlib.legend.Legend at 0x7f48d45e9550>"
      ]
     },
     "execution_count": 40,
     "metadata": {},
     "output_type": "execute_result"
    },
    {
     "data": {
      "image/png": "[encoded data removed]",
      "text/plain": [
       "<Figure size 432x288 with 1 Axes>"
      ]
     },
     "metadata": {
      "needs_background": "light"
     },
     "output_type": "display_data"
    }
   ],
   "source": [
    "fig, ax = plt.subplots()\n",
    "ax.scatter(C_data.index, C_data['A'], label = 'A')\n",
    "ax.legend()"
   ]
  },
  {
   "cell_type": "code",
   "execution_count": 41,
   "metadata": {},
   "outputs": [
    {
     "data": {
      "text/plain": [
       "<matplotlib.legend.Legend at 0x7f48d4543cc0>"
      ]
     },
     "execution_count": 41,
     "metadata": {},
     "output_type": "execute_result"
    },
    {
     "data": {
      "image/png": "[encoded data removed]",
      "text/plain": [
       "<Figure size 432x288 with 1 Axes>"
      ]
     },
     "metadata": {
      "needs_background": "light"
     },
     "output_type": "display_data"
    }
   ],
   "source": [
    "fig, ax = plt.subplots()\n",
    "ax.scatter(C_data.index, C_data['B'], label = 'B')\n",
    "ax.legend()"
   ]
  },
  {
   "cell_type": "code",
   "execution_count": 42,
   "metadata": {},
   "outputs": [
    {
     "data": {
      "text/plain": [
       "<matplotlib.legend.Legend at 0x7f48d452e588>"
      ]
     },
     "execution_count": 42,
     "metadata": {},
     "output_type": "execute_result"
    },
    {
     "data": {
      "image/png": "[encoded data removed]",
      "text/plain": [
       "<Figure size 432x288 with 1 Axes>"
      ]
     },
     "metadata": {
      "needs_background": "light"
     },
     "output_type": "display_data"
    }
   ],
   "source": [
    "fig, ax = plt.subplots()\n",
    "ax.scatter(C_data.index, C_data['C'], label = 'C')\n",
    "ax.legend()"
   ]
  },
  {
   "cell_type": "code",
   "execution_count": 44,
   "metadata": {},
   "outputs": [],
   "source": [
    "C_data.to_csv('data_sets/hbv_data.csv')"
   ]
  },
  {
   "cell_type": "code",
   "execution_count": null,
   "metadata": {},
   "outputs": [],
   "source": []
  }
 ],
 "metadata": {
  "kernelspec": {
   "display_name": "Python 3",
   "language": "python",
   "name": "python3"
  },
  "language_info": {
   "codemirror_mode": {
    "name": "ipython",
    "version": 3
   },
   "file_extension": ".py",
   "mimetype": "text/x-python",
   "name": "python",
   "nbconvert_exporter": "python",
   "pygments_lexer": "ipython3",
   "version": "3.7.3"
  }
 },
 "nbformat": 4,
 "nbformat_minor": 2
}
