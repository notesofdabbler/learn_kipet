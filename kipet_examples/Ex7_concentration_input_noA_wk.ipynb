{
 "cells": [
  {
   "cell_type": "code",
   "execution_count": 1,
   "metadata": {},
   "outputs": [],
   "source": [
    "#\n",
    "# Working through the example from\n",
    "# https://github.com/kwmcbride/kipet/blob/new_data/kipet/new_examples/Ex_7_concentration_input.py\n",
    "# Using dataset with no A (only B and C)\n",
    "#"
   ]
  },
  {
   "cell_type": "code",
   "execution_count": 2,
   "metadata": {},
   "outputs": [],
   "source": [
    "import sys\n",
    "from kipet import KipetModel\n",
    "\n",
    "import matplotlib.pyplot as plt"
   ]
  },
  {
   "cell_type": "code",
   "execution_count": 3,
   "metadata": {},
   "outputs": [],
   "source": [
    "kipet_model = KipetModel()\n",
    "\n",
    "r1 = kipet_model.new_reaction('reaction-1')   "
   ]
  },
  {
   "cell_type": "code",
   "execution_count": 4,
   "metadata": {},
   "outputs": [
    {
     "name": "stdout",
     "output_type": "stream",
     "text": [
      "the dir is: /home/paperspace/learn_kipet/data_sets\n",
      "/home/paperspace/learn_kipet/data_sets/Ex_1_C_data_withoutA.csv\n",
      "read dir : /home/paperspace/learn_kipet/data_sets/Ex_1_C_data_withoutA.csv\n"
     ]
    }
   ],
   "source": [
    "filename = '/home/paperspace/learn_kipet/data_sets/Ex_1_C_data_withoutA.csv'\n",
    "r1.add_dataset('C_data', category='concentration', file=filename)"
   ]
  },
  {
   "cell_type": "code",
   "execution_count": 5,
   "metadata": {},
   "outputs": [
    {
     "data": {
      "text/html": [
       "<div>\n",
       "<style scoped>\n",
       "    .dataframe tbody tr th:only-of-type {\n",
       "        vertical-align: middle;\n",
       "    }\n",
       "\n",
       "    .dataframe tbody tr th {\n",
       "        vertical-align: top;\n",
       "    }\n",
       "\n",
       "    .dataframe thead th {\n",
       "        text-align: right;\n",
       "    }\n",
       "</style>\n",
       "<table border=\"1\" class=\"dataframe\">\n",
       "  <thead>\n",
       "    <tr style=\"text-align: right;\">\n",
       "      <th></th>\n",
       "      <th>B</th>\n",
       "      <th>C</th>\n",
       "    </tr>\n",
       "  </thead>\n",
       "  <tbody>\n",
       "    <tr>\n",
       "      <th>0.0000</th>\n",
       "      <td>0.000000</td>\n",
       "      <td>0.000013</td>\n",
       "    </tr>\n",
       "    <tr>\n",
       "      <th>0.0333</th>\n",
       "      <td>0.000002</td>\n",
       "      <td>0.000021</td>\n",
       "    </tr>\n",
       "    <tr>\n",
       "      <th>0.0667</th>\n",
       "      <td>0.000013</td>\n",
       "      <td>0.000018</td>\n",
       "    </tr>\n",
       "    <tr>\n",
       "      <th>0.1000</th>\n",
       "      <td>0.000025</td>\n",
       "      <td>0.000014</td>\n",
       "    </tr>\n",
       "    <tr>\n",
       "      <th>0.1334</th>\n",
       "      <td>0.000035</td>\n",
       "      <td>0.000012</td>\n",
       "    </tr>\n",
       "    <tr>\n",
       "      <th>...</th>\n",
       "      <td>...</td>\n",
       "      <td>...</td>\n",
       "    </tr>\n",
       "    <tr>\n",
       "      <th>9.8353</th>\n",
       "      <td>0.000043</td>\n",
       "      <td>0.000859</td>\n",
       "    </tr>\n",
       "    <tr>\n",
       "      <th>9.8686</th>\n",
       "      <td>0.000042</td>\n",
       "      <td>0.000857</td>\n",
       "    </tr>\n",
       "    <tr>\n",
       "      <th>9.9020</th>\n",
       "      <td>0.000041</td>\n",
       "      <td>0.000859</td>\n",
       "    </tr>\n",
       "    <tr>\n",
       "      <th>9.9353</th>\n",
       "      <td>0.000043</td>\n",
       "      <td>0.000860</td>\n",
       "    </tr>\n",
       "    <tr>\n",
       "      <th>9.9687</th>\n",
       "      <td>0.000038</td>\n",
       "      <td>0.000863</td>\n",
       "    </tr>\n",
       "  </tbody>\n",
       "</table>\n",
       "<p>300 rows × 2 columns</p>\n",
       "</div>"
      ],
      "text/plain": [
       "               B         C\n",
       "0.0000  0.000000  0.000013\n",
       "0.0333  0.000002  0.000021\n",
       "0.0667  0.000013  0.000018\n",
       "0.1000  0.000025  0.000014\n",
       "0.1334  0.000035  0.000012\n",
       "...          ...       ...\n",
       "9.8353  0.000043  0.000859\n",
       "9.8686  0.000042  0.000857\n",
       "9.9020  0.000041  0.000859\n",
       "9.9353  0.000043  0.000860\n",
       "9.9687  0.000038  0.000863\n",
       "\n",
       "[300 rows x 2 columns]"
      ]
     },
     "execution_count": 5,
     "metadata": {},
     "output_type": "execute_result"
    }
   ],
   "source": [
    "r1.datasets['C_data'].data"
   ]
  },
  {
   "cell_type": "code",
   "execution_count": 6,
   "metadata": {},
   "outputs": [
    {
     "name": "stdout",
     "output_type": "stream",
     "text": [
      "Warning: Component A variance not provided\n",
      "Warning: Component B variance not provided\n",
      "Warning: Component C variance not provided\n"
     ]
    }
   ],
   "source": [
    "# Add the model parameters\n",
    "r1.add_parameter('k1', init=2.0, bounds=(0.0, 5.0))\n",
    "r1.add_parameter('k2', init=0.2, bounds=(0.0, 2.0))\n",
    "\n",
    "# Declare the components and give the initial values\n",
    "r1.add_component('A', state='concentration', init=0.001)\n",
    "r1.add_component('B', state='concentration', init=0.0)\n",
    "r1.add_component('C', state='concentration', init=0.0)"
   ]
  },
  {
   "cell_type": "code",
   "execution_count": 7,
   "metadata": {},
   "outputs": [],
   "source": [
    "# Define the reaction model\n",
    "def rule_odes(m,t):\n",
    "    exprs = dict()\n",
    "    exprs['A'] = -m.P['k1']*m.Z[t,'A']\n",
    "    exprs['B'] = m.P['k1']*m.Z[t,'A']-m.P['k2']*m.Z[t,'B']\n",
    "    exprs['C'] = m.P['k2']*m.Z[t,'B']\n",
    "    return exprs \n",
    "\n",
    "r1.add_equations(rule_odes)"
   ]
  },
  {
   "cell_type": "code",
   "execution_count": 8,
   "metadata": {},
   "outputs": [
    {
     "name": "stdout",
     "output_type": "stream",
     "text": [
      "0 9.9687\n",
      "WARNING: DEPRECATED: The default domain for Param objects is 'Any'.  However,\n",
      "    we will be changing that default to 'Reals' in the future.  If you really\n",
      "    intend the domain of this Param (sigma) to be 'Any', you can suppress this\n",
      "    warning by explicitly specifying 'within=Any' to the Param constructor.\n",
      "    (deprecated in 5.6.9, will be removed in 6.0) (called from\n",
      "    /home/paperspace/my_pyenvs/kipetenv/lib/python3.7/site-\n",
      "    packages/Pyomo-5.7.1-py3.7-linux-x86_64.egg/pyomo/core/base/param.py:640)\n",
      "WARNING: DEPRECATED: The default domain for Param objects is 'Any'.  However,\n",
      "    we will be changing that default to 'Reals' in the future.  If you really\n",
      "    intend the domain of this Param (sigma) to be 'Any', you can suppress this\n",
      "    warning by explicitly specifying 'within=Any' to the Param constructor.\n",
      "    (deprecated in 5.6.9, will be removed in 6.0) (called from\n",
      "    /home/paperspace/my_pyenvs/kipetenv/lib/python3.7/site-\n",
      "    packages/Pyomo-5.7.1-py3.7-linux-x86_64.egg/pyomo/core/base/param.py:640)\n",
      "No variance information for A found, setting equal to unity\n",
      "No variance information for B found, setting equal to unity\n",
      "No variance information for C found, setting equal to unity\n",
      "WARNING: More finite elements were found in ContinuousSet 'alltime' than the\n",
      "    number of finite elements specified in apply. The larger number of finite\n",
      "    elements will be used.\n",
      "Ipopt 3.12: nlp_scaling_method=user-scaling\n",
      "linear_solver=ma27\n",
      "\n",
      "\n",
      "******************************************************************************\n",
      "This program contains Ipopt, a library for large-scale nonlinear optimization.\n",
      " Ipopt is released as open source code under the Eclipse Public License (EPL).\n",
      "         For more information visit http://projects.coin-or.org/Ipopt\n",
      "******************************************************************************\n",
      "\n",
      "This is Ipopt version 3.12, running with linear solver ma27.\n",
      "\n",
      "Number of nonzeros in equality constraint Jacobian...:    23325\n",
      "Number of nonzeros in inequality constraint Jacobian.:        0\n",
      "Number of nonzeros in Lagrangian Hessian.............:     2394\n",
      "\n",
      "Total number of variables............................:     5387\n",
      "                     variables with only lower bounds:        0\n",
      "                variables with lower and upper bounds:        2\n",
      "                     variables with only upper bounds:        0\n",
      "Total number of equality constraints.................:     5385\n",
      "Total number of inequality constraints...............:        0\n",
      "        inequality constraints with only lower bounds:        0\n",
      "   inequality constraints with lower and upper bounds:        0\n",
      "        inequality constraints with only upper bounds:        0\n",
      "\n",
      "iter    objective    inf_pr   inf_du lg(mu)  ||d||  lg(rg) alpha_du alpha_pr  ls\n",
      "   0  5.9963860e+02 1.00e+00 2.84e-01  -1.0 0.00e+00    -  0.00e+00 0.00e+00   0\n",
      "   1  8.3771015e-05 6.35e-04 3.65e-01  -1.0 1.00e+00    -  8.23e-01 1.00e+00f  1\n",
      "   2  3.7075339e-05 3.29e-05 1.68e-02  -1.7 1.17e-01    -  1.00e+00 1.00e+00h  1\n",
      "   3  3.6604330e-05 3.24e-05 2.97e-04  -2.5 1.46e-01    -  1.00e+00 1.00e+00h  1\n",
      "   4  3.1656111e-05 2.03e-06 2.32e-05  -3.8 2.92e-02    -  1.00e+00 1.00e+00h  1\n",
      "   5  3.1208280e-05 1.02e-06 4.61e-07  -5.7 7.84e-02    -  9.81e-01 1.00e+00h  1\n",
      "   6  3.0869404e-05 7.38e-07 3.50e-06  -8.6 3.56e-02  -4.0 9.84e-01 1.00e+00h  1\n",
      "   7  3.0407633e-05 2.01e-06 3.86e-06  -8.6 1.16e-01  -4.5 1.00e+00 1.00e+00h  1\n",
      "   8  2.8684711e-05 3.36e-05 1.46e-05  -8.6 4.64e-01  -5.0 1.00e+00 1.00e+00h  1\n",
      "   9  2.7073513e-05 1.16e-05 6.67e-06  -8.6 2.22e-01  -4.5 1.00e+00 1.00e+00h  1\n",
      "iter    objective    inf_pr   inf_du lg(mu)  ||d||  lg(rg) alpha_du alpha_pr  ls\n",
      "  10  1.8808606e-05 6.27e-04 3.13e-04  -8.6 1.97e+00  -5.0 1.00e+00 8.59e-01h  1\n",
      "  11  1.2255144e-05 1.10e-04 4.02e-04  -8.6 7.57e-01    -  5.79e-04 1.00e+00f  1\n",
      "  12  5.2080518e-06 1.47e-04 1.39e-04  -8.6 5.09e-01    -  1.00e+00 1.00e+00h  1\n",
      "  13  2.6544868e-07 6.47e-05 6.75e-05  -8.6 2.92e-01    -  1.00e+00 1.00e+00h  1\n",
      "  14  4.3867946e-08 1.13e-05 2.03e-05  -8.6 2.06e-01    -  1.00e+00 1.00e+00h  1\n",
      "  15  2.6869542e-08 1.57e-07 5.13e-07  -8.6 3.13e-02    -  1.00e+00 1.00e+00h  1\n",
      "  16  2.6707814e-08 1.64e-10 3.11e-10  -8.6 1.05e-03    -  1.00e+00 1.00e+00h  1\n",
      "\n",
      "Number of Iterations....: 16\n",
      "\n",
      "                                   (scaled)                 (unscaled)\n",
      "Objective...............:   2.6707813667655083e-08    2.6707813667655083e-08\n",
      "Dual infeasibility......:   3.1121005403776658e-10    3.1121005403776658e-10\n",
      "Constraint violation....:   1.6373222913655498e-10    1.6373222913655498e-10\n",
      "Complementarity.........:   2.5059036884064125e-09    2.5059036884064125e-09\n",
      "Overall NLP error.......:   2.5059036884064125e-09    2.5059036884064125e-09\n",
      "\n",
      "\n",
      "Number of objective function evaluations             = 17\n",
      "Number of objective gradient evaluations             = 17\n",
      "Number of equality constraint evaluations            = 17\n",
      "Number of inequality constraint evaluations          = 0\n",
      "Number of equality constraint Jacobian evaluations   = 17\n",
      "Number of inequality constraint Jacobian evaluations = 0\n",
      "Number of Lagrangian Hessian evaluations             = 16\n",
      "Total CPU secs in IPOPT (w/o function evaluations)   =      0.180\n",
      "Total CPU secs in NLP function evaluations           =      0.036\n",
      "\n",
      "EXIT: Optimal Solution Found.\n"
     ]
    },
    {
     "data": {
      "text/plain": [
       "\n",
       "RESULTS\n",
       "Z:\n",
       "                  A         B             C\n",
       "0.000000  0.001000  0.000000  0.000000e+00\n",
       "0.005163  0.000999  0.000001  3.056846e-09\n",
       "0.021477  0.000995  0.000005  5.252556e-08\n",
       "0.033300  0.000993  0.000007  1.256589e-07\n",
       "0.038479  0.000991  0.000008  1.674229e-07\n",
       "...            ...       ...           ...\n",
       "9.923477  0.000108  0.000030  8.619748e-04\n",
       "9.935300  0.000107  0.000030  8.623406e-04\n",
       "9.940479  0.000107  0.000030  8.625005e-04\n",
       "9.956841  0.000107  0.000030  8.630045e-04\n",
       "9.968700  0.000107  0.000030  8.633686e-04\n",
       "\n",
       "[898 rows x 3 columns]\n",
       "\n",
       "Cm:\n",
       "                B         C\n",
       "0.0000  0.000000  0.000013\n",
       "0.0333  0.000002  0.000021\n",
       "0.0667  0.000013  0.000018\n",
       "0.1000  0.000025  0.000014\n",
       "0.1334  0.000035  0.000012\n",
       "...          ...       ...\n",
       "9.8353  0.000043  0.000859\n",
       "9.8686  0.000042  0.000857\n",
       "9.9020  0.000041  0.000859\n",
       "9.9353  0.000043  0.000860\n",
       "9.9687  0.000038  0.000863\n",
       "\n",
       "[300 rows x 2 columns]\n",
       "\n",
       "dZdt:\n",
       "                  A         B         C\n",
       "0.000000  0.000000  0.000000  0.000000\n",
       "0.005163 -0.000224  0.000223  0.000001\n",
       "0.021477 -0.000223  0.000219  0.000005\n",
       "0.033300 -0.000223  0.000215  0.000007\n",
       "0.038479 -0.000223  0.000214  0.000009\n",
       "...            ...       ...       ...\n",
       "9.923477 -0.000024 -0.000007  0.000031\n",
       "9.935300 -0.000024 -0.000007  0.000031\n",
       "9.940479 -0.000024 -0.000007  0.000031\n",
       "9.956841 -0.000024 -0.000007  0.000031\n",
       "9.968700 -0.000024 -0.000007  0.000031\n",
       "\n",
       "[898 rows x 3 columns]\n",
       "\n",
       "P:\n",
       " {'k1': 0.22450247161155587, 'k2': 1.0235716538545294}\n"
      ]
     },
     "execution_count": 8,
     "metadata": {},
     "output_type": "execute_result"
    }
   ],
   "source": [
    "# Settings\n",
    "r1.settings.collocation.nfe = 60\n",
    "# Run KIPET\n",
    "r1.settings.solver.linear_solver = 'ma27'\n",
    "r1.run_opt() "
   ]
  },
  {
   "cell_type": "code",
   "execution_count": 9,
   "metadata": {},
   "outputs": [
    {
     "name": "stdout",
     "output_type": "stream",
     "text": [
      "\n",
      "The estimated parameters are:\n",
      "k1 0.22450247161155587\n",
      "k2 1.0235716538545294\n"
     ]
    }
   ],
   "source": [
    "# Display the results\n",
    "r1.results.show_parameters"
   ]
  },
  {
   "cell_type": "code",
   "execution_count": 11,
   "metadata": {},
   "outputs": [
    {
     "data": {
      "image/png": "[encoded data removed]",
      "text/plain": [
       "<Figure size 432x288 with 1 Axes>"
      ]
     },
     "metadata": {
      "needs_background": "light"
     },
     "output_type": "display_data"
    }
   ],
   "source": [
    "fig, ax = plt.subplots()\n",
    "for c in ['A','B','C']:\n",
    "    if c in r1.results.Cm.columns:\n",
    "        ax.plot(r1.results.Z.index, r1.results.Z[c])\n",
    "        ax.scatter(r1.results.Cm.index, r1.results.Cm[c])"
   ]
  },
  {
   "cell_type": "code",
   "execution_count": null,
   "metadata": {},
   "outputs": [],
   "source": []
  }
 ],
 "metadata": {
  "kernelspec": {
   "display_name": "Python 3",
   "language": "python",
   "name": "python3"
  },
  "language_info": {
   "codemirror_mode": {
    "name": "ipython",
    "version": 3
   },
   "file_extension": ".py",
   "mimetype": "text/x-python",
   "name": "python",
   "nbconvert_exporter": "python",
   "pygments_lexer": "ipython3",
   "version": "3.7.3"
  }
 },
 "nbformat": 4,
 "nbformat_minor": 4
}
