{
 "cells": [
  {
   "cell_type": "code",
   "execution_count": 3,
   "metadata": {},
   "outputs": [],
   "source": [
    "#\n",
    "# Working through\n",
    "# https://github.com/salvadorgarciamunoz/kipet/blob/master/kipet/examples/Ex_7_conc_input_conf_k_aug.py\n",
    "#"
   ]
  },
  {
   "cell_type": "code",
   "execution_count": 2,
   "metadata": {},
   "outputs": [],
   "source": [
    "from kipet import KipetModel\n",
    "import numpy as np\n",
    "import pandas as pd\n",
    "import matplotlib.pyplot as plt"
   ]
  },
  {
   "cell_type": "code",
   "execution_count": 6,
   "metadata": {},
   "outputs": [
    {
     "data": {
      "text/html": [
       "<div>\n",
       "<style scoped>\n",
       "    .dataframe tbody tr th:only-of-type {\n",
       "        vertical-align: middle;\n",
       "    }\n",
       "\n",
       "    .dataframe tbody tr th {\n",
       "        vertical-align: top;\n",
       "    }\n",
       "\n",
       "    .dataframe thead th {\n",
       "        text-align: right;\n",
       "    }\n",
       "</style>\n",
       "<table border=\"1\" class=\"dataframe\">\n",
       "  <thead>\n",
       "    <tr style=\"text-align: right;\">\n",
       "      <th></th>\n",
       "      <th>A</th>\n",
       "      <th>B</th>\n",
       "      <th>C</th>\n",
       "    </tr>\n",
       "    <tr>\n",
       "      <th>t</th>\n",
       "      <th></th>\n",
       "      <th></th>\n",
       "      <th></th>\n",
       "    </tr>\n",
       "  </thead>\n",
       "  <tbody>\n",
       "    <tr>\n",
       "      <th>0.000</th>\n",
       "      <td>0.957</td>\n",
       "      <td>-0.031</td>\n",
       "      <td>-0.015</td>\n",
       "    </tr>\n",
       "    <tr>\n",
       "      <th>0.263</th>\n",
       "      <td>0.557</td>\n",
       "      <td>0.330</td>\n",
       "      <td>0.044</td>\n",
       "    </tr>\n",
       "    <tr>\n",
       "      <th>0.526</th>\n",
       "      <td>0.342</td>\n",
       "      <td>0.512</td>\n",
       "      <td>0.156</td>\n",
       "    </tr>\n",
       "    <tr>\n",
       "      <th>0.789</th>\n",
       "      <td>0.224</td>\n",
       "      <td>0.499</td>\n",
       "      <td>0.310</td>\n",
       "    </tr>\n",
       "    <tr>\n",
       "      <th>1.053</th>\n",
       "      <td>0.123</td>\n",
       "      <td>0.428</td>\n",
       "      <td>0.454</td>\n",
       "    </tr>\n",
       "    <tr>\n",
       "      <th>1.316</th>\n",
       "      <td>0.079</td>\n",
       "      <td>0.396</td>\n",
       "      <td>0.556</td>\n",
       "    </tr>\n",
       "    <tr>\n",
       "      <th>1.579</th>\n",
       "      <td>0.035</td>\n",
       "      <td>0.303</td>\n",
       "      <td>0.651</td>\n",
       "    </tr>\n",
       "    <tr>\n",
       "      <th>1.842</th>\n",
       "      <td>0.029</td>\n",
       "      <td>0.287</td>\n",
       "      <td>0.658</td>\n",
       "    </tr>\n",
       "    <tr>\n",
       "      <th>2.105</th>\n",
       "      <td>0.025</td>\n",
       "      <td>0.221</td>\n",
       "      <td>0.750</td>\n",
       "    </tr>\n",
       "    <tr>\n",
       "      <th>2.368</th>\n",
       "      <td>0.017</td>\n",
       "      <td>0.148</td>\n",
       "      <td>0.854</td>\n",
       "    </tr>\n",
       "    <tr>\n",
       "      <th>2.632</th>\n",
       "      <td>-0.002</td>\n",
       "      <td>0.182</td>\n",
       "      <td>0.845</td>\n",
       "    </tr>\n",
       "    <tr>\n",
       "      <th>2.895</th>\n",
       "      <td>0.009</td>\n",
       "      <td>0.116</td>\n",
       "      <td>0.893</td>\n",
       "    </tr>\n",
       "    <tr>\n",
       "      <th>3.158</th>\n",
       "      <td>-0.023</td>\n",
       "      <td>0.079</td>\n",
       "      <td>0.942</td>\n",
       "    </tr>\n",
       "    <tr>\n",
       "      <th>3.421</th>\n",
       "      <td>0.006</td>\n",
       "      <td>0.078</td>\n",
       "      <td>0.899</td>\n",
       "    </tr>\n",
       "    <tr>\n",
       "      <th>3.684</th>\n",
       "      <td>0.016</td>\n",
       "      <td>0.059</td>\n",
       "      <td>0.942</td>\n",
       "    </tr>\n",
       "    <tr>\n",
       "      <th>3.947</th>\n",
       "      <td>0.014</td>\n",
       "      <td>0.036</td>\n",
       "      <td>0.991</td>\n",
       "    </tr>\n",
       "    <tr>\n",
       "      <th>4.211</th>\n",
       "      <td>-0.009</td>\n",
       "      <td>0.014</td>\n",
       "      <td>0.988</td>\n",
       "    </tr>\n",
       "    <tr>\n",
       "      <th>4.474</th>\n",
       "      <td>-0.030</td>\n",
       "      <td>0.036</td>\n",
       "      <td>0.941</td>\n",
       "    </tr>\n",
       "    <tr>\n",
       "      <th>4.737</th>\n",
       "      <td>0.004</td>\n",
       "      <td>0.036</td>\n",
       "      <td>0.971</td>\n",
       "    </tr>\n",
       "    <tr>\n",
       "      <th>5.000</th>\n",
       "      <td>-0.024</td>\n",
       "      <td>0.028</td>\n",
       "      <td>0.985</td>\n",
       "    </tr>\n",
       "  </tbody>\n",
       "</table>\n",
       "</div>"
      ],
      "text/plain": [
       "           A      B      C\n",
       "t                         \n",
       "0.000  0.957 -0.031 -0.015\n",
       "0.263  0.557  0.330  0.044\n",
       "0.526  0.342  0.512  0.156\n",
       "0.789  0.224  0.499  0.310\n",
       "1.053  0.123  0.428  0.454\n",
       "1.316  0.079  0.396  0.556\n",
       "1.579  0.035  0.303  0.651\n",
       "1.842  0.029  0.287  0.658\n",
       "2.105  0.025  0.221  0.750\n",
       "2.368  0.017  0.148  0.854\n",
       "2.632 -0.002  0.182  0.845\n",
       "2.895  0.009  0.116  0.893\n",
       "3.158 -0.023  0.079  0.942\n",
       "3.421  0.006  0.078  0.899\n",
       "3.684  0.016  0.059  0.942\n",
       "3.947  0.014  0.036  0.991\n",
       "4.211 -0.009  0.014  0.988\n",
       "4.474 -0.030  0.036  0.941\n",
       "4.737  0.004  0.036  0.971\n",
       "5.000 -0.024  0.028  0.985"
      ]
     },
     "execution_count": 6,
     "metadata": {},
     "output_type": "execute_result"
    }
   ],
   "source": [
    "filename = '/home/paperspace/learn_kipet/my_data_sets/ABC_data.csv'\n",
    "C_data = pd.read_csv(filename, index_col = 0)\n",
    "C_data.columns = ['A', 'B', 'C']\n",
    "C_data"
   ]
  },
  {
   "cell_type": "code",
   "execution_count": 18,
   "metadata": {},
   "outputs": [
    {
     "name": "stdout",
     "output_type": "stream",
     "text": [
      "Warning: Component A variance not provided\n",
      "Warning: Component B variance not provided\n",
      "Warning: Component C variance not provided\n"
     ]
    }
   ],
   "source": [
    "mdl = KipetModel()\n",
    "\n",
    "r1 = mdl.new_reaction('rxn1')\n",
    "\n",
    "r1.add_component('A', state = 'concentration', init = 1.0, variance = 1)\n",
    "r1.add_component('B', state = 'concentration', init = 0.0, variance = 1)\n",
    "r1.add_component('C', state = 'concentration', init = 0.0, variance = 1)\n",
    "\n",
    "r1.add_parameter('k1', init = 5.0, bounds = (0.0, 10.0))\n",
    "r1.add_parameter('k2', init = 5.0, bounds = (0.0, 10.0))"
   ]
  },
  {
   "cell_type": "code",
   "execution_count": 19,
   "metadata": {},
   "outputs": [],
   "source": [
    "# define explicit system of ODEs\n",
    "def rule_odes(m,t):\n",
    "    exprs = dict()\n",
    "    exprs['A'] = -m.P['k1']*m.Z[t,'A']\n",
    "    exprs['B'] = m.P['k1']*m.Z[t,'A']-m.P['k2']*m.Z[t,'B']\n",
    "    exprs['C'] = m.P['k2']*m.Z[t,'B']\n",
    "    return exprs\n",
    "\n",
    "r1.add_equations(rule_odes)\n",
    "r1.set_times(0.0, 5.0)"
   ]
  },
  {
   "cell_type": "code",
   "execution_count": 20,
   "metadata": {},
   "outputs": [],
   "source": [
    "r1.add_dataset('C_data', category = 'concentration', data = C_data)"
   ]
  },
  {
   "cell_type": "code",
   "execution_count": 21,
   "metadata": {},
   "outputs": [],
   "source": [
    "r1.settings.collocation.nfe = 50\n",
    "r1.settings.collocation.ncp = 3\n",
    "r1.settings.parameter_estimator['solver'] = 'k_aug'\n",
    "r1.settings.solver.linear_solver = 'ma27'"
   ]
  },
  {
   "cell_type": "code",
   "execution_count": 22,
   "metadata": {},
   "outputs": [
    {
     "name": "stdout",
     "output_type": "stream",
     "text": [
      "Warning! Since Cm-matrix contains negative values Kipet is assuming a derivative of Cm has been inputted\n",
      "times are: <class 'tuple'>\n",
      "0.0 5.0\n",
      "        0.11 seconds required to write file\n",
      "        0.11 seconds required for presolve\n",
      "Ipopt 3.12: \n",
      "\n",
      "******************************************************************************\n",
      "This program contains Ipopt, a library for large-scale nonlinear optimization.\n",
      " Ipopt is released as open source code under the Eclipse Public License (EPL).\n",
      "         For more information visit http://projects.coin-or.org/Ipopt\n",
      "******************************************************************************\n",
      "\n",
      "This is Ipopt version 3.12, running with linear solver ma27.\n",
      "\n",
      "Number of nonzeros in equality constraint Jacobian...:     3903\n",
      "Number of nonzeros in inequality constraint Jacobian.:        0\n",
      "Number of nonzeros in Lagrangian Hessian.............:      360\n",
      "\n",
      "Total number of variables............................:      905\n",
      "                     variables with only lower bounds:        0\n",
      "                variables with lower and upper bounds:        2\n",
      "                     variables with only upper bounds:        0\n",
      "Total number of equality constraints.................:      903\n",
      "Total number of inequality constraints...............:        0\n",
      "        inequality constraints with only lower bounds:        0\n",
      "   inequality constraints with lower and upper bounds:        0\n",
      "        inequality constraints with only upper bounds:        0\n",
      "\n",
      "iter    objective    inf_pr   inf_du lg(mu)  ||d||  lg(rg) alpha_du alpha_pr  ls\n",
      "   0  3.4489051e+01 5.00e+00 2.23e-01  -1.0 0.00e+00    -  0.00e+00 0.00e+00   0\n",
      "   1  1.4568439e+00 7.17e-01 1.57e-01  -1.0 4.74e+00    -  8.75e-01 1.00e+00f  1\n",
      "   2  6.4747501e-01 7.72e-01 9.82e-02  -1.0 3.56e+00    -  9.17e-01 1.00e+00h  1\n",
      "   3  7.8391741e-02 7.92e-02 4.92e-01  -1.7 8.87e-01    -  7.40e-01 1.00e+00h  1\n",
      "   4  2.6884028e-02 9.35e-03 1.11e-02  -1.7 2.25e-01    -  1.00e+00 1.00e+00h  1\n",
      "   5  2.6074378e-02 6.98e-04 3.38e-04  -3.8 6.68e-02    -  9.89e-01 1.00e+00h  1\n",
      "   6  2.6057181e-02 7.57e-07 1.58e-07  -5.7 2.49e-03    -  1.00e+00 1.00e+00h  1\n",
      "   7  2.6057179e-02 1.39e-13 6.56e-13  -8.6 1.33e-06    -  1.00e+00 1.00e+00h  1\n",
      "\n",
      "Number of Iterations....: 7\n",
      "\n",
      "                                   (scaled)                 (unscaled)\n",
      "Objective...............:   2.6057179021566571e-02    2.6057179021566571e-02\n",
      "Dual infeasibility......:   6.5633202809824280e-13    6.5633202809824280e-13\n",
      "Constraint violation....:   1.3899992268306960e-13    1.3899992268306960e-13\n",
      "Complementarity.........:   2.5068409998313175e-09    2.5068409998313175e-09\n",
      "Overall NLP error.......:   2.5068409998313175e-09    2.5068409998313175e-09\n",
      "\n",
      "\n",
      "Number of objective function evaluations             = 8\n",
      "Number of objective gradient evaluations             = 8\n",
      "Number of equality constraint evaluations            = 8\n",
      "Number of inequality constraint evaluations          = 0\n",
      "Number of equality constraint Jacobian evaluations   = 8\n",
      "Number of inequality constraint Jacobian evaluations = 0\n",
      "Number of Lagrangian Hessian evaluations             = 7\n",
      "Total CPU secs in IPOPT (w/o function evaluations)   =      0.012\n",
      "Total CPU secs in NLP function evaluations           =      0.000\n",
      "\n",
      "EXIT: Optimal Solution Found.\n",
      "        0.06 seconds required for solver\n",
      "        0.00 seconds required to read logfile \n",
      "        0.01 seconds required to read solution file\n",
      "        0.01 seconds required for postsolve\n",
      "ipopt_zL_in : Direction=Suffix.EXPORT, Datatype=Suffix.FLOAT\n",
      "    Key : Value\n",
      "rh_name : Direction=Suffix.IMPORT, Datatype=Suffix.FLOAT\n",
      "    Key : Value\n",
      "ipopt_zL_in : Direction=Suffix.EXPORT, Datatype=Suffix.FLOAT\n",
      "    Key   : Value\n",
      "    P[k1] : 1.2405225561516861e-09\n",
      "    P[k2] : 2.5245770840418466e-09\n"
     ]
    },
    {
     "name": "stderr",
     "output_type": "stream",
     "text": [
      "W[K_AUG]...\t[K_AUG_ASL]No n_rhs declared\n",
      "W[K_AUG]...\t[K_AUG_ASL]Target log10mu:= -11.\n",
      "W[K_AUG]...\t[K_AUG_ASL]No f_timestamp suffix declared, Fallback to default writing mode.\n",
      "I[K_AUG]...\t[K_AUG_ASL] Filename for dot_sens dot_in_.in\n"
     ]
    },
    {
     "name": "stdout",
     "output_type": "stream",
     "text": [
      "[K_AUG] written by D.T. @2018\n",
      "\n",
      ": I[K_AUG]...\t[K_AUG_ASL]File read succesfull\n",
      "I[K_AUG]...\t[K_AUG_ASL]Number of Right hand sides 0\n",
      "I[K_AUG]...\t[K_AUG_ASL]Number of Right hand sides: 0\n",
      "I[K_AUG]...\t[K_AUG_ASL]Number of variables       : 905\n",
      "I[K_AUG]...\t[K_AUG_ASL]Number of constraints     : 903\n",
      "I[K_AUG]...\t[K_AUG_ASL]Number of valid n_dof     : 2\n",
      "I[K_AUG]...\t[ADJUST_MU]log10(mu) computed=-8.601245992886472 at var_i=300\n",
      "I[K_AUG]...\t[ADJUST_MU]log10(mu) close to the target\t-8.60087321095033 at var_i=301\n",
      "I[K_AUG]...\t[FIND_INEQUALITIES]summary: eq: 903, leq: 0, geq: 0 \n",
      "I[K_AUG]...\t[K_AUG_ASL]Nonzeroes in the sparse Jacobian 3903\n",
      "I[K_AUG]...\t[GET_HESS_ASL]Objective found\n",
      "I[K_AUG]...\t[GET_HESS_ASL]Nonzeroes in the sparse hessian 360\n",
      "I[K_AUG]...\t[GET_HESS_ASL]Minimization problem detected\n",
      "I[K_AUG]...\t[GET_HESS_ASL]Current objective 0.026057\n",
      "I[K_AUG]...\t[GET_HESS_ASL]Missing nz in the Hessian of the Lag: 845\n",
      "I[K_AUG]...\t[K_AUG_ASL]Barrier term added.\n",
      "I[K_AUG]...\t[K_AUG_ASL]MC19 scaling...\n",
      "I[K_AUG]...\t[ASSM_RHS_RH]According to the suffixes declared dof is 2 \n",
      "I[K_AUG]...\t[ASSM_RHS_RH]n_dof exactly n_var - n_con \n",
      " On return from DMUMPS, INFOG(1)=              -9\n",
      " On return from DMUMPS, INFOG(2)=              91\n",
      "I[K_AUG]...\t[MUMPS_DRIVER]Reallocating Memory (50)\n",
      "\n",
      "I[K_AUG]...\t[MUMPS_DRIVER]n_neig = 903\n",
      "I[K_AUG]...\t[INERTIA_STRATEGY]Inertia check successful.\n",
      "I[K_AUG]...\t[MUMPS_DRIVER]: Ratio of norm of scaled residuals (reported); 6.218223e-16 \n",
      "I[K_AUG]...\t[MUMPS_DRIVER]Accuracy at an acceptable level.\n",
      "\n",
      "W[K_AUG]...\t[MUMPS_DRIVER]Inertia check OK neig=903, (neig == m).\n",
      "I[K_AUG]...\t[K_AUG_ASL]Linear solver done. \n",
      "\bI[K_AUG]...\t[K_AUG_ASL]Timings..Ev&Assem 0.025868, Fact 0.183504, Overall 0.191345.\n",
      "Done solving building reduce hessian\n",
      "4 hessian size\n",
      "Parameter variances:  [2.57015316 0.34535549]\n",
      "\n",
      "Confidence intervals:\n",
      "k1 (0.4158908115623987,3.6222302542182625)\n",
      "k2 (0.4053050837038942,1.5806441593844536)\n"
     ]
    },
    {
     "data": {
      "text/plain": [
       "\n",
       "RESULTS\n",
       "Z:\n",
       "                  A         B         C\n",
       "0.000000  1.000000  0.000000  0.000000\n",
       "0.010195  0.979627  0.020269  0.000103\n",
       "0.042405  0.917944  0.080329  0.001728\n",
       "0.065750  0.875681  0.120261  0.004058\n",
       "0.075945  0.857841  0.136799  0.005360\n",
       "...            ...       ...       ...\n",
       "4.821811  0.000059  0.016274  0.983667\n",
       "4.868500  0.000054  0.015542  0.984404\n",
       "4.888889  0.000052  0.015233  0.984716\n",
       "4.953311  0.000045  0.014295  0.985660\n",
       "5.000000  0.000041  0.013651  0.986307\n",
       "\n",
       "[151 rows x 3 columns]\n",
       "\n",
       "Cm:\n",
       "            A      B      C\n",
       "0.000  0.957 -0.031 -0.015\n",
       "0.263  0.557  0.330  0.044\n",
       "0.526  0.342  0.512  0.156\n",
       "0.789  0.224  0.499  0.310\n",
       "1.053  0.123  0.428  0.454\n",
       "1.316  0.079  0.396  0.556\n",
       "1.579  0.035  0.303  0.651\n",
       "1.842  0.029  0.287  0.658\n",
       "2.105  0.025  0.221  0.750\n",
       "2.368  0.017  0.148  0.854\n",
       "2.632 -0.002  0.182  0.845\n",
       "2.895  0.009  0.116  0.893\n",
       "3.158 -0.023  0.079  0.942\n",
       "3.421  0.006  0.078  0.899\n",
       "3.684  0.016  0.059  0.942\n",
       "3.947  0.014  0.036  0.991\n",
       "4.211 -0.009  0.014  0.988\n",
       "4.474 -0.030  0.036  0.941\n",
       "4.737  0.004  0.036  0.971\n",
       "5.000 -0.024  0.028  0.985\n",
       "\n",
       "dZdt:\n",
       "                  A         B         C\n",
       "0.000000  0.000000  0.000000  0.000000\n",
       "0.010195 -1.977927  1.957800  0.020127\n",
       "0.042405 -1.853384  1.773619  0.079765\n",
       "0.065750 -1.768053  1.648638  0.119416\n",
       "0.075945 -1.732033  1.596195  0.135838\n",
       "...            ...       ...       ...\n",
       "4.821811 -0.000119 -0.016040  0.016160\n",
       "4.868500 -0.000109 -0.015324  0.015433\n",
       "4.888889 -0.000104 -0.015021  0.015126\n",
       "4.953311 -0.000092 -0.014103  0.014194\n",
       "5.000000 -0.000083 -0.013472  0.013555\n",
       "\n",
       "[151 rows x 3 columns]\n",
       "\n",
       "P:\n",
       " {'k1': 2.0190605328903306, 'k2': 0.9929746215441738}\n"
      ]
     },
     "execution_count": 22,
     "metadata": {},
     "output_type": "execute_result"
    }
   ],
   "source": [
    "r1.run_opt()"
   ]
  },
  {
   "cell_type": "code",
   "execution_count": 23,
   "metadata": {},
   "outputs": [
    {
     "name": "stdout",
     "output_type": "stream",
     "text": [
      "The estimated parameters are:\n",
      "\n",
      "The estimated parameters are:\n",
      "k1 2.0190605328903306\n",
      "k2 0.9929746215441738\n"
     ]
    }
   ],
   "source": [
    "print(\"The estimated parameters are:\")\n",
    "# Display the results\n",
    "r1.results.show_parameters"
   ]
  },
  {
   "cell_type": "code",
   "execution_count": 25,
   "metadata": {},
   "outputs": [
    {
     "data": {
      "text/plain": [
       "<matplotlib.legend.Legend at 0x7ff6bcc2de80>"
      ]
     },
     "execution_count": 25,
     "metadata": {},
     "output_type": "execute_result"
    },
    {
     "data": {
      "image/png": "[encoded data removed]",
      "text/plain": [
       "<Figure size 432x288 with 1 Axes>"
      ]
     },
     "metadata": {
      "needs_background": "light"
     },
     "output_type": "display_data"
    }
   ],
   "source": [
    "fig, ax = plt.subplots()\n",
    "for c in ['A', 'B', 'C']:\n",
    "    ax.scatter(r1.results.Cm.index, r1.results.Cm[c], label = c)\n",
    "    ax.plot(r1.results.Z.index, r1.results.Z[c], label = c)\n",
    "ax.legend()"
   ]
  },
  {
   "cell_type": "code",
   "execution_count": 24,
   "metadata": {},
   "outputs": [
    {
     "data": {
      "text/plain": [
       "array([[ 0.00115467, -0.00017625],\n",
       "       [-0.00017625,  0.00015515]])"
      ]
     },
     "execution_count": 24,
     "metadata": {},
     "output_type": "execute_result"
    }
   ],
   "source": [
    "dof = r1.results.Cm.shape[0] * 3 - 2\n",
    "cov_mat = r1.results.objective / dof * r1.results.parameter_covariance\n",
    "cov_mat"
   ]
  },
  {
   "cell_type": "code",
   "execution_count": null,
   "metadata": {},
   "outputs": [],
   "source": []
  }
 ],
 "metadata": {
  "kernelspec": {
   "display_name": "Python 3",
   "language": "python",
   "name": "python3"
  },
  "language_info": {
   "codemirror_mode": {
    "name": "ipython",
    "version": 3
   },
   "file_extension": ".py",
   "mimetype": "text/x-python",
   "name": "python",
   "nbconvert_exporter": "python",
   "pygments_lexer": "ipython3",
   "version": "3.7.3"
  }
 },
 "nbformat": 4,
 "nbformat_minor": 2
}
