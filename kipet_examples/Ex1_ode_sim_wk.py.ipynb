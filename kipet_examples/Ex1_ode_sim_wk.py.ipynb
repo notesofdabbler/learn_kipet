{
 "cells": [
  {
   "cell_type": "code",
   "execution_count": 1,
   "metadata": {},
   "outputs": [],
   "source": [
    "#\n",
    "# Working through the example at \n",
    "# https://github.com/salvadorgarciamunoz/kipet/blob/master/kipet/examples/Ex_1_ode_sim.py\n",
    "#"
   ]
  },
  {
   "cell_type": "code",
   "execution_count": 2,
   "metadata": {},
   "outputs": [],
   "source": [
    "from kipet.library.TemplateBuilder import *\n",
    "from kipet.library.PyomoSimulator import *\n",
    "\n",
    "import matplotlib.pyplot as plt\n",
    "import sys"
   ]
  },
  {
   "cell_type": "code",
   "execution_count": 3,
   "metadata": {},
   "outputs": [],
   "source": [
    "#=========================================================================\n",
    "#USER INPUT SECTION - REQUIRED MODEL BUILDING ACTIONS\n",
    "#=========================================================================\n",
    "    \n",
    "# Create Template model (Section 4.2.1 of documentation)\n",
    "builder = TemplateBuilder()  \n",
    "    \n",
    "#First we define the components present in the mixture\n",
    "builder.add_mixture_component('A',0.1)\n",
    "builder.add_mixture_component('B',0.0)\n",
    "builder.add_mixture_component('C',0.0)\n",
    "    \n",
    "#Following this we add the kinetic parameters\n",
    "builder.add_parameter('k1',2.0)\n",
    "builder.add_parameter('k2',0.2)\n",
    "    \n",
    "# define explicit system of ODEs\n",
    "def rule_odes(m,t):\n",
    "    exprs = dict()\n",
    "    exprs['A'] = -m.P['k1']*m.Z[t,'A']\n",
    "    exprs['B'] = m.P['k1']*m.Z[t,'A']-m.P['k2']*m.Z[t,'B']\n",
    "    exprs['C'] = m.P['k2']*m.Z[t,'B']\n",
    "    return exprs\n",
    "\n",
    "#Add these ODEs to our model template\n",
    "builder.set_odes_rule(rule_odes)"
   ]
  },
  {
   "cell_type": "code",
   "execution_count": 4,
   "metadata": {},
   "outputs": [
    {
     "name": "stdout",
     "output_type": "stream",
     "text": [
      "WARNING: Initializing ordered Set mixture_components with a fundamentally\n",
      "    unordered data source (type: set).  This WILL potentially lead to\n",
      "    nondeterministic behavior in Pyomo\n",
      "WARNING: Initializing ordered Set complementary_states with a fundamentally\n",
      "    unordered data source (type: set).  This WILL potentially lead to\n",
      "    nondeterministic behavior in Pyomo\n"
     ]
    },
    {
     "ename": "DAE_Error",
     "evalue": "The variable X is indexed by a Set (complementary_states) with an unknown dimension.  A DerivativeVar may only be indexed by Sets with known constant dimension",
     "output_type": "error",
     "traceback": [
      "\u001b[0;31m---------------------------------------------------------------------------\u001b[0m",
      "\u001b[0;31mAttributeError\u001b[0m                            Traceback (most recent call last)",
      "\u001b[0;32m/opt/anaconda3/lib/python3.7/site-packages/Pyomo-5.7-py3.7-macosx-10.9-x86_64.egg/pyomo/dae/diffvar.py\u001b[0m in \u001b[0;36m__init__\u001b[0;34m(self, sVar, **kwds)\u001b[0m\n\u001b[1;32m     89\u001b[0m         \u001b[0;32mtry\u001b[0m\u001b[0;34m:\u001b[0m\u001b[0;34m\u001b[0m\u001b[0;34m\u001b[0m\u001b[0m\n\u001b[0;32m---> 90\u001b[0;31m             \u001b[0mnum_contset\u001b[0m \u001b[0;34m=\u001b[0m \u001b[0mlen\u001b[0m\u001b[0;34m(\u001b[0m\u001b[0msVar\u001b[0m\u001b[0;34m.\u001b[0m\u001b[0m_contset\u001b[0m\u001b[0;34m)\u001b[0m\u001b[0;34m\u001b[0m\u001b[0;34m\u001b[0m\u001b[0m\n\u001b[0m\u001b[1;32m     91\u001b[0m         \u001b[0;32mexcept\u001b[0m \u001b[0mAttributeError\u001b[0m\u001b[0;34m:\u001b[0m\u001b[0;34m\u001b[0m\u001b[0;34m\u001b[0m\u001b[0m\n",
      "\u001b[0;31mAttributeError\u001b[0m: 'IndexedVar' object has no attribute '_contset'",
      "\nDuring handling of the above exception, another exception occurred:\n",
      "\u001b[0;31mDAE_Error\u001b[0m                                 Traceback (most recent call last)",
      "\u001b[0;32m<ipython-input-4-25cac6668653>\u001b[0m in \u001b[0;36m<module>\u001b[0;34m\u001b[0m\n\u001b[1;32m      4\u001b[0m \u001b[0;31m#      - P parameters indexed over the parameter names e.g. m.P['k']\u001b[0m\u001b[0;34m\u001b[0m\u001b[0;34m\u001b[0m\u001b[0;34m\u001b[0m\u001b[0m\n\u001b[1;32m      5\u001b[0m \u001b[0;31m# The arguments here are the start and end time of the simulation\u001b[0m\u001b[0;34m\u001b[0m\u001b[0;34m\u001b[0m\u001b[0;34m\u001b[0m\u001b[0m\n\u001b[0;32m----> 6\u001b[0;31m \u001b[0mpyomo_model\u001b[0m \u001b[0;34m=\u001b[0m \u001b[0mbuilder\u001b[0m\u001b[0;34m.\u001b[0m\u001b[0mcreate_pyomo_model\u001b[0m\u001b[0;34m(\u001b[0m\u001b[0;36m0.0\u001b[0m\u001b[0;34m,\u001b[0m \u001b[0;36m10.0\u001b[0m\u001b[0;34m)\u001b[0m\u001b[0;34m\u001b[0m\u001b[0;34m\u001b[0m\u001b[0m\n\u001b[0m",
      "\u001b[0;32m/opt/anaconda3/lib/python3.7/site-packages/kipet-1.1.1-py3.7.egg/kipet/library/TemplateBuilder.py\u001b[0m in \u001b[0;36mcreate_pyomo_model\u001b[0;34m(self, start_time, end_time, parameter_normalization)\u001b[0m\n\u001b[1;32m   1073\u001b[0m \u001b[0;34m\u001b[0m\u001b[0m\n\u001b[1;32m   1074\u001b[0m             setattr(pyomo_model, f'd{var}dt', DerivativeVar(getattr(pyomo_model, var),\n\u001b[0;32m-> 1075\u001b[0;31m                                                             wrt=pyomo_model.alltime)\n\u001b[0m\u001b[1;32m   1076\u001b[0m                     )\n\u001b[1;32m   1077\u001b[0m \u001b[0;34m\u001b[0m\u001b[0m\n",
      "\u001b[0;32m/opt/anaconda3/lib/python3.7/site-packages/Pyomo-5.7-py3.7-macosx-10.9-x86_64.egg/pyomo/dae/diffvar.py\u001b[0m in \u001b[0;36m__init__\u001b[0;34m(self, sVar, **kwds)\u001b[0m\n\u001b[1;32m    115\u001b[0m                             \u001b[0;34m\"unknown dimension.  A DerivativeVar may only be \"\u001b[0m\u001b[0;34m\u001b[0m\u001b[0;34m\u001b[0m\u001b[0m\n\u001b[1;32m    116\u001b[0m                             \u001b[0;34m\"indexed by Sets with known constant dimension\"\u001b[0m\u001b[0;34m\u001b[0m\u001b[0;34m\u001b[0m\u001b[0m\n\u001b[0;32m--> 117\u001b[0;31m                             % (sVar, s.name))\n\u001b[0m\u001b[1;32m    118\u001b[0m                     \u001b[0mloc\u001b[0m \u001b[0;34m+=\u001b[0m \u001b[0ms\u001b[0m\u001b[0;34m.\u001b[0m\u001b[0mdimen\u001b[0m\u001b[0;34m\u001b[0m\u001b[0;34m\u001b[0m\u001b[0m\n\u001b[1;32m    119\u001b[0m             \u001b[0mnum_contset\u001b[0m \u001b[0;34m=\u001b[0m \u001b[0mlen\u001b[0m\u001b[0;34m(\u001b[0m\u001b[0msVar\u001b[0m\u001b[0;34m.\u001b[0m\u001b[0m_contset\u001b[0m\u001b[0;34m)\u001b[0m\u001b[0;34m\u001b[0m\u001b[0;34m\u001b[0m\u001b[0m\n",
      "\u001b[0;31mDAE_Error\u001b[0m: The variable X is indexed by a Set (complementary_states) with an unknown dimension.  A DerivativeVar may only be indexed by Sets with known constant dimension"
     ]
    }
   ],
   "source": [
    "# create an instance of a pyomo model template\n",
    "# the template includes\n",
    "#      - Z variables indexed over time and components names e.g. m.Z[t,'A']\n",
    "#      - P parameters indexed over the parameter names e.g. m.P['k']\n",
    "# The arguments here are the start and end time of the simulation\n",
    "pyomo_model = builder.create_pyomo_model(0.0, 10.0)"
   ]
  },
  {
   "cell_type": "code",
   "execution_count": 6,
   "metadata": {},
   "outputs": [
    {
     "name": "stdout",
     "output_type": "stream",
     "text": [
      "Python 3.7.6\r\n"
     ]
    }
   ],
   "source": [
    "!python --version"
   ]
  },
  {
   "cell_type": "code",
   "execution_count": 9,
   "metadata": {},
   "outputs": [
    {
     "data": {
      "text/plain": [
       "('Darwin',\n",
       " 'x86_64',\n",
       " 'Darwin Kernel Version 17.7.0: Thu Jun 21 22:53:14 PDT 2018; root:xnu-4570.71.2~1/RELEASE_X86_64',\n",
       " 'Darwin-17.7.0-x86_64-i386-64bit')"
      ]
     },
     "execution_count": 9,
     "metadata": {},
     "output_type": "execute_result"
    }
   ],
   "source": [
    "import platform\n",
    "platform.system(), platform.machine(), platform.version(), platform.platform()"
   ]
  },
  {
   "cell_type": "code",
   "execution_count": 10,
   "metadata": {},
   "outputs": [
    {
     "data": {
      "text/plain": [
       "'5.7'"
      ]
     },
     "execution_count": 10,
     "metadata": {},
     "output_type": "execute_result"
    }
   ],
   "source": [
    "pyomo.__version__"
   ]
  },
  {
   "cell_type": "code",
   "execution_count": null,
   "metadata": {},
   "outputs": [],
   "source": []
  }
 ],
 "metadata": {
  "kernelspec": {
   "display_name": "Python 3",
   "language": "python",
   "name": "python3"
  },
  "language_info": {
   "codemirror_mode": {
    "name": "ipython",
    "version": 3
   },
   "file_extension": ".py",
   "mimetype": "text/x-python",
   "name": "python",
   "nbconvert_exporter": "python",
   "pygments_lexer": "ipython3",
   "version": "3.7.6"
  }
 },
 "nbformat": 4,
 "nbformat_minor": 4
}
