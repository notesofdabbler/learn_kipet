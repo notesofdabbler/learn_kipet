{
 "cells": [
  {
   "cell_type": "code",
   "execution_count": 3,
   "metadata": {},
   "outputs": [],
   "source": [
    "#\n",
    "# Working through the example from\n",
    "# https://github.com/salvadorgarciamunoz/kipet/blob/master/kipet/examples/Ex_7_concentration_input.py\n",
    "#  \n",
    "#  Trying the example with dataset Ex_1_C_data_withoutA.csv that has only conc data for B and C\n",
    "#"
   ]
  },
  {
   "cell_type": "code",
   "execution_count": null,
   "metadata": {},
   "outputs": [],
   "source": [
    "\n",
    "import kipet.library.ParameterEstimator\n",
    "import imp\n",
    "imp.reload(kipet.library.ParameterEstimator)"
   ]
  },
  {
   "cell_type": "code",
   "execution_count": 4,
   "metadata": {},
   "outputs": [],
   "source": [
    "from __future__ import print_function\n",
    "from kipet.library.TemplateBuilder import *\n",
    "from kipet.library.PyomoSimulator import *\n",
    "from kipet.library.ParameterEstimator import *\n",
    "from kipet.library.VarianceEstimator import *\n",
    "from kipet.library.data_tools import *\n",
    "import matplotlib.pyplot as plt\n",
    "import os\n",
    "import sys\n",
    "import inspect\n",
    "import six\n",
    "import pandas as pd"
   ]
  },
  {
   "cell_type": "code",
   "execution_count": 5,
   "metadata": {},
   "outputs": [],
   "source": [
    "filename = '../data_sets/Ex_1_C_data_withoutA.csv'\n",
    "C_frame = read_concentration_data_from_csv(filename)"
   ]
  },
  {
   "cell_type": "code",
   "execution_count": 6,
   "metadata": {},
   "outputs": [
    {
     "data": {
      "text/html": [
       "<div>\n",
       "<style scoped>\n",
       "    .dataframe tbody tr th:only-of-type {\n",
       "        vertical-align: middle;\n",
       "    }\n",
       "\n",
       "    .dataframe tbody tr th {\n",
       "        vertical-align: top;\n",
       "    }\n",
       "\n",
       "    .dataframe thead th {\n",
       "        text-align: right;\n",
       "    }\n",
       "</style>\n",
       "<table border=\"1\" class=\"dataframe\">\n",
       "  <thead>\n",
       "    <tr style=\"text-align: right;\">\n",
       "      <th></th>\n",
       "      <th>B</th>\n",
       "      <th>C</th>\n",
       "    </tr>\n",
       "  </thead>\n",
       "  <tbody>\n",
       "    <tr>\n",
       "      <th>0.0000</th>\n",
       "      <td>0.000000</td>\n",
       "      <td>0.000013</td>\n",
       "    </tr>\n",
       "    <tr>\n",
       "      <th>0.0333</th>\n",
       "      <td>0.000002</td>\n",
       "      <td>0.000021</td>\n",
       "    </tr>\n",
       "    <tr>\n",
       "      <th>0.0667</th>\n",
       "      <td>0.000013</td>\n",
       "      <td>0.000018</td>\n",
       "    </tr>\n",
       "    <tr>\n",
       "      <th>0.1000</th>\n",
       "      <td>0.000025</td>\n",
       "      <td>0.000014</td>\n",
       "    </tr>\n",
       "    <tr>\n",
       "      <th>0.1334</th>\n",
       "      <td>0.000035</td>\n",
       "      <td>0.000012</td>\n",
       "    </tr>\n",
       "    <tr>\n",
       "      <th>...</th>\n",
       "      <td>...</td>\n",
       "      <td>...</td>\n",
       "    </tr>\n",
       "    <tr>\n",
       "      <th>9.8353</th>\n",
       "      <td>0.000043</td>\n",
       "      <td>0.000859</td>\n",
       "    </tr>\n",
       "    <tr>\n",
       "      <th>9.8686</th>\n",
       "      <td>0.000042</td>\n",
       "      <td>0.000857</td>\n",
       "    </tr>\n",
       "    <tr>\n",
       "      <th>9.9020</th>\n",
       "      <td>0.000041</td>\n",
       "      <td>0.000859</td>\n",
       "    </tr>\n",
       "    <tr>\n",
       "      <th>9.9353</th>\n",
       "      <td>0.000043</td>\n",
       "      <td>0.000860</td>\n",
       "    </tr>\n",
       "    <tr>\n",
       "      <th>9.9687</th>\n",
       "      <td>0.000038</td>\n",
       "      <td>0.000863</td>\n",
       "    </tr>\n",
       "  </tbody>\n",
       "</table>\n",
       "<p>300 rows × 2 columns</p>\n",
       "</div>"
      ],
      "text/plain": [
       "               B         C\n",
       "0.0000  0.000000  0.000013\n",
       "0.0333  0.000002  0.000021\n",
       "0.0667  0.000013  0.000018\n",
       "0.1000  0.000025  0.000014\n",
       "0.1334  0.000035  0.000012\n",
       "...          ...       ...\n",
       "9.8353  0.000043  0.000859\n",
       "9.8686  0.000042  0.000857\n",
       "9.9020  0.000041  0.000859\n",
       "9.9353  0.000043  0.000860\n",
       "9.9687  0.000038  0.000863\n",
       "\n",
       "[300 rows x 2 columns]"
      ]
     },
     "execution_count": 6,
     "metadata": {},
     "output_type": "execute_result"
    }
   ],
   "source": [
    "C_frame"
   ]
  },
  {
   "cell_type": "code",
   "execution_count": 7,
   "metadata": {},
   "outputs": [
    {
     "data": {
      "text/plain": [
       "<matplotlib.legend.Legend at 0x124bf73d0>"
      ]
     },
     "execution_count": 7,
     "metadata": {},
     "output_type": "execute_result"
    },
    {
     "data": {
      "image/png": "[encoded data removed]",
      "text/plain": [
       "<Figure size 432x288 with 1 Axes>"
      ]
     },
     "metadata": {
      "needs_background": "light"
     },
     "output_type": "display_data"
    }
   ],
   "source": [
    "fig, ax = plt.subplots()\n",
    "#ax.scatter(C_frame.index, C_frame['A'], label = 'A')\n",
    "ax.scatter(C_frame.index, C_frame['B'], label = 'B')\n",
    "ax.scatter(C_frame.index, C_frame['C'], label = 'C')\n",
    "ax.legend()"
   ]
  },
  {
   "cell_type": "code",
   "execution_count": 8,
   "metadata": {},
   "outputs": [],
   "source": [
    "builder = TemplateBuilder()    \n",
    "components = {'A':1e-3,'B':0,'C':0}\n",
    "builder.add_mixture_component(components)\n",
    "builder.add_parameter('k1',bounds=(0.0,5.0))\n",
    "builder.add_parameter('k2',bounds=(0.0,1.0))\n",
    "builder.add_concentration_data(C_frame)"
   ]
  },
  {
   "cell_type": "code",
   "execution_count": 9,
   "metadata": {},
   "outputs": [
    {
     "name": "stdout",
     "output_type": "stream",
     "text": [
      "initial values: 0.0, A\n",
      "initial values: 0.0, B\n",
      "initial values: 0.0, C\n"
     ]
    }
   ],
   "source": [
    "# define explicit system of ODEs\n",
    "def rule_odes(m,t):\n",
    "    exprs = dict()\n",
    "    exprs['A'] = -m.P['k1']*m.Z[t,'A']\n",
    "    exprs['B'] = m.P['k1']*m.Z[t,'A']-m.P['k2']*m.Z[t,'B']\n",
    "    exprs['C'] = m.P['k2']*m.Z[t,'B']\n",
    "    return exprs\n",
    "    \n",
    "builder.set_odes_rule(rule_odes)\n",
    "opt_model = builder.create_pyomo_model(0.0,10.0)"
   ]
  },
  {
   "cell_type": "code",
   "execution_count": 10,
   "metadata": {},
   "outputs": [],
   "source": [
    "#sigmas = {'A':1e-10,'B':1e-11,'C':1e-10}\n",
    "sigmas = {'B':1e-11,'C':1e-10}"
   ]
  },
  {
   "cell_type": "code",
   "execution_count": 11,
   "metadata": {},
   "outputs": [
    {
     "name": "stdout",
     "output_type": "stream",
     "text": [
      "WARNING: More finite elements were found in ContinuousSet 'alltime' than the\n",
      "    number of finite elements specified in apply. The larger number of finite\n",
      "    elements will be used.\n"
     ]
    }
   ],
   "source": [
    "# and define our parameter estimation problem and discretization strategy\n",
    "p_estimator = ParameterEstimator(opt_model)\n",
    "p_estimator.apply_discretization('dae.collocation',nfe=60,ncp=3,scheme='LAGRANGE-RADAU')"
   ]
  },
  {
   "cell_type": "code",
   "execution_count": 12,
   "metadata": {},
   "outputs": [],
   "source": [
    "# Again we provide options for the solver, this time providing the scaling that we set above\n",
    "options = dict()\n",
    "#options['nlp_scaling_method'] = 'user-scaling'\n",
    "options['linear_solver'] = 'ma27'"
   ]
  },
  {
   "cell_type": "code",
   "execution_count": 13,
   "metadata": {},
   "outputs": [
    {
     "name": "stdout",
     "output_type": "stream",
     "text": [
      "Ipopt 3.13.2: linear_solver=ma27\n",
      "\n",
      "\n",
      "******************************************************************************\n",
      "This program contains Ipopt, a library for large-scale nonlinear optimization.\n",
      " Ipopt is released as open source code under the Eclipse Public License (EPL).\n",
      "         For more information visit http://projects.coin-or.org/Ipopt\n",
      "******************************************************************************\n",
      "\n",
      "This is Ipopt version 3.13.2, running with linear solver ma27.\n",
      "\n",
      "Number of nonzeros in equality constraint Jacobian...:    23403\n",
      "Number of nonzeros in inequality constraint Jacobian.:        0\n",
      "Number of nonzeros in Lagrangian Hessian.............:     2400\n",
      "\n",
      "Total number of variables............................:     5405\n",
      "                     variables with only lower bounds:        0\n",
      "                variables with lower and upper bounds:        2\n",
      "                     variables with only upper bounds:        0\n",
      "Total number of equality constraints.................:     5403\n",
      "Total number of inequality constraints...............:        0\n",
      "        inequality constraints with only lower bounds:        0\n",
      "   inequality constraints with lower and upper bounds:        0\n",
      "        inequality constraints with only upper bounds:        0\n",
      "\n",
      "iter    objective    inf_pr   inf_du lg(mu)  ||d||  lg(rg) alpha_du alpha_pr  ls\n",
      "   0  2.9981930e+02 1.00e+00 1.15e-01  -1.0 0.00e+00    -  0.00e+00 0.00e+00   0\n",
      "   1  1.8335686e-05 2.31e-04 1.20e-01  -1.0 1.00e+00    -  9.69e-01 1.00e+00f  1\n",
      "   2  1.7323103e-05 6.38e-07 3.84e-04  -1.7 1.03e-02    -  1.00e+00 1.00e+00h  1\n",
      "   3  1.7303028e-05 3.47e-10 7.09e-08  -3.8 1.44e-03    -  1.00e+00 1.00e+00h  1\n",
      "   4  1.7008648e-05 3.20e-07 1.67e-07  -5.7 4.39e-02    -  9.86e-01 1.00e+00h  1\n",
      "   5  1.6019772e-05 6.77e-06 8.43e-06  -8.6 9.52e-02  -4.0 9.94e-01 1.00e+00h  1\n",
      "   6  1.5556783e-05 2.50e-06 5.06e-06  -8.6 5.20e-02  -4.5 1.00e+00 1.00e+00h  1\n",
      "   7  1.5169204e-05 4.48e-06 1.95e-06  -8.6 1.75e-01  -5.0 9.91e-01 1.00e+00h  1\n",
      "   8  1.3629524e-05 1.16e-04 2.56e-05  -8.6 8.60e-01  -5.4 1.00e+00 1.00e+00h  1\n",
      "   9  1.0647600e-05 1.29e-04 3.32e-05  -8.6 6.55e-01  -5.0 1.00e+00 1.00e+00h  1\n",
      "iter    objective    inf_pr   inf_du lg(mu)  ||d||  lg(rg) alpha_du alpha_pr  ls\n",
      "  10  5.0076388e-06 2.11e-04 4.99e-05  -8.6 6.30e-01  -4.6 1.00e+00 1.00e+00h  1\n",
      "  11  5.8775138e-07 2.49e-04 2.63e-05  -8.6 3.05e+01    -  2.24e-02 6.85e-03h  1\n",
      "  12  4.2240019e-06 7.07e-05 1.72e-04  -8.6 5.29e-01    -  1.19e-04 7.03e-01h  1\n",
      "  13  1.0990592e-06 2.75e-05 5.44e-05  -8.6 2.74e-01    -  1.00e+00 1.00e+00f  1\n",
      "  14  1.2803693e-07 1.01e-05 1.02e-05  -8.6 1.36e-01    -  1.00e+00 1.00e+00h  1\n",
      "  15  3.7947056e-08 6.51e-07 5.53e-07  -8.6 4.53e-02    -  1.00e+00 1.00e+00h  1\n",
      "  16  2.1802388e-08 3.34e-07 2.66e-07  -8.6 4.48e-02    -  1.00e+00 1.00e+00h  1\n",
      "  17  1.7264936e-08 7.79e-08 5.59e-08  -8.6 2.30e-02    -  1.00e+00 1.00e+00h  1\n",
      "  18  1.6241863e-08 7.16e-09 5.10e-09  -8.6 7.06e-03    -  1.00e+00 1.00e+00h  1\n",
      "\n",
      "Number of Iterations....: 18\n",
      "\n",
      "                                   (scaled)                 (unscaled)\n",
      "Objective...............:   1.6241862857023588e-08    1.6241862857023588e-08\n",
      "Dual infeasibility......:   5.0996052087626080e-09    5.0996052087626080e-09\n",
      "Constraint violation....:   7.1617885546147210e-09    7.1617885546147210e-09\n",
      "Complementarity.........:   2.6656047511410545e-09    2.6656047511410545e-09\n",
      "Overall NLP error.......:   7.1617885546147210e-09    7.1617885546147210e-09\n",
      "\n",
      "\n",
      "Number of objective function evaluations             = 19\n",
      "Number of objective gradient evaluations             = 19\n",
      "Number of equality constraint evaluations            = 19\n",
      "Number of inequality constraint evaluations          = 0\n",
      "Number of equality constraint Jacobian evaluations   = 19\n",
      "Number of inequality constraint Jacobian evaluations = 0\n",
      "Number of Lagrangian Hessian evaluations             = 18\n",
      "Total CPU secs in IPOPT (w/o function evaluations)   =      0.142\n",
      "Total CPU secs in NLP function evaluations           =      0.020\n",
      "\n",
      "EXIT: Optimal Solution Found.\n"
     ]
    }
   ],
   "source": [
    "# finally we run the optimization\n",
    "results_pyomo = p_estimator.run_opt('ipopt',\n",
    "                                        variances=sigmas,\n",
    "                                      tee=True,\n",
    "                                   solver_opts = options)"
   ]
  },
  {
   "cell_type": "code",
   "execution_count": 14,
   "metadata": {},
   "outputs": [
    {
     "name": "stdout",
     "output_type": "stream",
     "text": [
      "The estimated parameters are:\n",
      "k1 0.2268223273757557\n",
      "k2 0.9815608867201315\n"
     ]
    }
   ],
   "source": [
    "# And display the results\n",
    "print(\"The estimated parameters are:\")\n",
    "for k,v in six.iteritems(results_pyomo.P):\n",
    "    print(k, v)"
   ]
  },
  {
   "cell_type": "code",
   "execution_count": 15,
   "metadata": {},
   "outputs": [
    {
     "data": {
      "image/png": "[encoded data removed]",
      "text/plain": [
       "<Figure size 432x288 with 1 Axes>"
      ]
     },
     "metadata": {
      "needs_background": "light"
     },
     "output_type": "display_data"
    },
    {
     "data": {
      "image/png": "[encoded data removed]",
      "text/plain": [
       "<Figure size 432x288 with 1 Axes>"
      ]
     },
     "metadata": {
      "needs_background": "light"
     },
     "output_type": "display_data"
    }
   ],
   "source": [
    "results_pyomo.C.plot.line(legend=True)\n",
    "plt.xlabel(\"time (s)\")\n",
    "plt.ylabel(\"Concentration (mol/L)\")\n",
    "plt.title(\"Concentration Profile\")\n",
    "\n",
    "results_pyomo.Z.plot.line(legend=True)\n",
    "plt.xlabel(\"time (s)\")\n",
    "plt.ylabel(\"Concentration (mol/L)\")\n",
    "plt.title(\"Concentration Profile\")\n",
    "\n",
    "\n",
    "plt.show()"
   ]
  },
  {
   "cell_type": "code",
   "execution_count": null,
   "metadata": {},
   "outputs": [],
   "source": []
  }
 ],
 "metadata": {
  "kernelspec": {
   "display_name": "Python 3",
   "language": "python",
   "name": "python3"
  },
  "language_info": {
   "codemirror_mode": {
    "name": "ipython",
    "version": 3
   },
   "file_extension": ".py",
   "mimetype": "text/x-python",
   "name": "python",
   "nbconvert_exporter": "python",
   "pygments_lexer": "ipython3",
   "version": "3.7.7"
  }
 },
 "nbformat": 4,
 "nbformat_minor": 4
}
