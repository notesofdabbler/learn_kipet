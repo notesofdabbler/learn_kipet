{
 "cells": [
  {
   "cell_type": "code",
   "execution_count": 25,
   "metadata": {},
   "outputs": [],
   "source": [
    "#\n",
    "# Working through the example from\n",
    "# https://github.com/salvadorgarciamunoz/kipet/blob/master/kipet/examples/Ex_7_concentration_input.py\n",
    "# with the following variation of data:\n",
    "#\n",
    "# Take the data data_sets/Ex1_C_data.txt which has A, B, C concentration at all times and\n",
    "# create a data set which keeps A concentration at every 10th point, B concentration at every 5th point and\n",
    "# C data at every 30th point. It is stored in data_sets/Ex_1_C_data_irreg.txt\n",
    "#"
   ]
  },
  {
   "cell_type": "code",
   "execution_count": 26,
   "metadata": {},
   "outputs": [],
   "source": [
    "from __future__ import print_function\n",
    "from kipet.library.TemplateBuilder import *\n",
    "from kipet.library.PyomoSimulator import *\n",
    "from kipet.library.ParameterEstimator import *\n",
    "from kipet.library.VarianceEstimator import *\n",
    "from kipet.library.data_tools import *\n",
    "import matplotlib.pyplot as plt\n",
    "import os\n",
    "import sys\n",
    "import inspect\n",
    "import six\n",
    "import pandas as pd"
   ]
  },
  {
   "cell_type": "code",
   "execution_count": 27,
   "metadata": {},
   "outputs": [],
   "source": [
    "#\n",
    "# adapted the function read_concetration_data_from_txt at\n",
    "# https://github.com/salvadorgarciamunoz/kipet/blob/master/kipet/library/data_tools.py\n",
    "# to allow reading data where all species concentration are not available at all times\n",
    "#\n",
    "def read_concentration_data_txt_irreg(filename):\n",
    "    f = open(filename,'r')\n",
    "    data_dict = dict()\n",
    "    set_index = set()\n",
    "    set_columns = set()\n",
    "\n",
    "    for line in f:\n",
    "        if line not in ['','\\n','\\t','\\t\\n']:\n",
    "            l=line.split()\n",
    "            i = float(l[0])\n",
    "            j = l[1]\n",
    "            k = float(l[2])\n",
    "            set_index.add(i)\n",
    "            set_columns.add(j)\n",
    "            data_dict[i,j] = k\n",
    "    f.close()\n",
    "\n",
    "    data_array = np.zeros((len(set_index),len(set_columns)))\n",
    "    data_array.fill(np.nan)\n",
    "\n",
    "    sorted_index = sorted(set_index)\n",
    "    sorted_columns = set_columns\n",
    "\n",
    "    for i,idx in enumerate(sorted_index):\n",
    "        for j,jdx in enumerate(sorted_columns):\n",
    "            if (idx, jdx) in data_dict:\n",
    "                data_array[i,j] = data_dict[idx,jdx]\n",
    "\n",
    "    return pd.DataFrame(data=data_array,columns=sorted_columns,index=sorted_index)"
   ]
  },
  {
   "cell_type": "code",
   "execution_count": 28,
   "metadata": {},
   "outputs": [],
   "source": [
    "filename = '../data_sets/Ex_1_C_data_irreg.txt'\n",
    "C_frame = read_concentration_data_txt_irreg(filename)"
   ]
  },
  {
   "cell_type": "code",
   "execution_count": 29,
   "metadata": {},
   "outputs": [
    {
     "data": {
      "text/html": [
       "<div>\n",
       "<style scoped>\n",
       "    .dataframe tbody tr th:only-of-type {\n",
       "        vertical-align: middle;\n",
       "    }\n",
       "\n",
       "    .dataframe tbody tr th {\n",
       "        vertical-align: top;\n",
       "    }\n",
       "\n",
       "    .dataframe thead th {\n",
       "        text-align: right;\n",
       "    }\n",
       "</style>\n",
       "<table border=\"1\" class=\"dataframe\">\n",
       "  <thead>\n",
       "    <tr style=\"text-align: right;\">\n",
       "      <th></th>\n",
       "      <th>C</th>\n",
       "      <th>B</th>\n",
       "      <th>A</th>\n",
       "    </tr>\n",
       "  </thead>\n",
       "  <tbody>\n",
       "    <tr>\n",
       "      <th>0.0000</th>\n",
       "      <td>0.000013</td>\n",
       "      <td>0.000000</td>\n",
       "      <td>0.001027</td>\n",
       "    </tr>\n",
       "    <tr>\n",
       "      <th>0.1667</th>\n",
       "      <td>NaN</td>\n",
       "      <td>0.000041</td>\n",
       "      <td>NaN</td>\n",
       "    </tr>\n",
       "    <tr>\n",
       "      <th>0.3334</th>\n",
       "      <td>NaN</td>\n",
       "      <td>0.000081</td>\n",
       "      <td>0.000928</td>\n",
       "    </tr>\n",
       "    <tr>\n",
       "      <th>0.5001</th>\n",
       "      <td>NaN</td>\n",
       "      <td>0.000103</td>\n",
       "      <td>NaN</td>\n",
       "    </tr>\n",
       "    <tr>\n",
       "      <th>0.6668</th>\n",
       "      <td>NaN</td>\n",
       "      <td>0.000127</td>\n",
       "      <td>0.000847</td>\n",
       "    </tr>\n",
       "    <tr>\n",
       "      <th>0.8335</th>\n",
       "      <td>NaN</td>\n",
       "      <td>0.000132</td>\n",
       "      <td>NaN</td>\n",
       "    </tr>\n",
       "    <tr>\n",
       "      <th>1.0002</th>\n",
       "      <td>0.000069</td>\n",
       "      <td>0.000144</td>\n",
       "      <td>0.000788</td>\n",
       "    </tr>\n",
       "    <tr>\n",
       "      <th>1.1669</th>\n",
       "      <td>NaN</td>\n",
       "      <td>0.000147</td>\n",
       "      <td>NaN</td>\n",
       "    </tr>\n",
       "    <tr>\n",
       "      <th>1.3336</th>\n",
       "      <td>NaN</td>\n",
       "      <td>0.000148</td>\n",
       "      <td>0.000733</td>\n",
       "    </tr>\n",
       "    <tr>\n",
       "      <th>1.5003</th>\n",
       "      <td>NaN</td>\n",
       "      <td>0.000146</td>\n",
       "      <td>NaN</td>\n",
       "    </tr>\n",
       "    <tr>\n",
       "      <th>1.6670</th>\n",
       "      <td>NaN</td>\n",
       "      <td>0.000147</td>\n",
       "      <td>0.000682</td>\n",
       "    </tr>\n",
       "    <tr>\n",
       "      <th>1.8337</th>\n",
       "      <td>NaN</td>\n",
       "      <td>0.000147</td>\n",
       "      <td>NaN</td>\n",
       "    </tr>\n",
       "    <tr>\n",
       "      <th>2.0004</th>\n",
       "      <td>0.000218</td>\n",
       "      <td>0.000142</td>\n",
       "      <td>0.000634</td>\n",
       "    </tr>\n",
       "    <tr>\n",
       "      <th>2.1671</th>\n",
       "      <td>NaN</td>\n",
       "      <td>0.000139</td>\n",
       "      <td>NaN</td>\n",
       "    </tr>\n",
       "    <tr>\n",
       "      <th>2.3338</th>\n",
       "      <td>NaN</td>\n",
       "      <td>0.000136</td>\n",
       "      <td>0.000592</td>\n",
       "    </tr>\n",
       "    <tr>\n",
       "      <th>2.5005</th>\n",
       "      <td>NaN</td>\n",
       "      <td>0.000135</td>\n",
       "      <td>NaN</td>\n",
       "    </tr>\n",
       "    <tr>\n",
       "      <th>2.6672</th>\n",
       "      <td>NaN</td>\n",
       "      <td>0.000128</td>\n",
       "      <td>0.000549</td>\n",
       "    </tr>\n",
       "    <tr>\n",
       "      <th>2.8339</th>\n",
       "      <td>NaN</td>\n",
       "      <td>0.000128</td>\n",
       "      <td>NaN</td>\n",
       "    </tr>\n",
       "    <tr>\n",
       "      <th>3.0006</th>\n",
       "      <td>0.000361</td>\n",
       "      <td>0.000124</td>\n",
       "      <td>0.000509</td>\n",
       "    </tr>\n",
       "    <tr>\n",
       "      <th>3.1673</th>\n",
       "      <td>NaN</td>\n",
       "      <td>0.000118</td>\n",
       "      <td>NaN</td>\n",
       "    </tr>\n",
       "  </tbody>\n",
       "</table>\n",
       "</div>"
      ],
      "text/plain": [
       "               C         B         A\n",
       "0.0000  0.000013  0.000000  0.001027\n",
       "0.1667       NaN  0.000041       NaN\n",
       "0.3334       NaN  0.000081  0.000928\n",
       "0.5001       NaN  0.000103       NaN\n",
       "0.6668       NaN  0.000127  0.000847\n",
       "0.8335       NaN  0.000132       NaN\n",
       "1.0002  0.000069  0.000144  0.000788\n",
       "1.1669       NaN  0.000147       NaN\n",
       "1.3336       NaN  0.000148  0.000733\n",
       "1.5003       NaN  0.000146       NaN\n",
       "1.6670       NaN  0.000147  0.000682\n",
       "1.8337       NaN  0.000147       NaN\n",
       "2.0004  0.000218  0.000142  0.000634\n",
       "2.1671       NaN  0.000139       NaN\n",
       "2.3338       NaN  0.000136  0.000592\n",
       "2.5005       NaN  0.000135       NaN\n",
       "2.6672       NaN  0.000128  0.000549\n",
       "2.8339       NaN  0.000128       NaN\n",
       "3.0006  0.000361  0.000124  0.000509\n",
       "3.1673       NaN  0.000118       NaN"
      ]
     },
     "execution_count": 29,
     "metadata": {},
     "output_type": "execute_result"
    }
   ],
   "source": [
    "C_frame.iloc[:20]"
   ]
  },
  {
   "cell_type": "code",
   "execution_count": 30,
   "metadata": {},
   "outputs": [
    {
     "data": {
      "text/plain": [
       "<matplotlib.legend.Legend at 0x1256f4ed0>"
      ]
     },
     "execution_count": 30,
     "metadata": {},
     "output_type": "execute_result"
    },
    {
     "data": {
      "image/png": "[encoded data removed]",
      "text/plain": [
       "<Figure size 432x288 with 1 Axes>"
      ]
     },
     "metadata": {
      "needs_background": "light"
     },
     "output_type": "display_data"
    }
   ],
   "source": [
    "fig, ax = plt.subplots()\n",
    "ax.scatter(C_frame.index, C_frame['A'], label = 'A')\n",
    "ax.scatter(C_frame.index, C_frame['B'], label = 'B')\n",
    "ax.scatter(C_frame.index, C_frame['C'], label = 'C')\n",
    "ax.legend()"
   ]
  },
  {
   "cell_type": "code",
   "execution_count": 31,
   "metadata": {},
   "outputs": [
    {
     "name": "stdout",
     "output_type": "stream",
     "text": [
      "Warning! Since {label}-matrix contains negative values Kipet is assuming a derivative of {label} has been inputted\n"
     ]
    }
   ],
   "source": [
    "builder = TemplateBuilder()    \n",
    "components = {'A':1e-3,'B':0,'C':0}\n",
    "builder.add_mixture_component(components)\n",
    "builder.add_parameter('k1',bounds=(0.0,5.0))\n",
    "builder.add_parameter('k2',bounds=(0.0,1.0))\n",
    "builder.add_concentration_data(C_frame)"
   ]
  },
  {
   "cell_type": "code",
   "execution_count": 32,
   "metadata": {},
   "outputs": [
    {
     "name": "stdout",
     "output_type": "stream",
     "text": [
      "initial values: 0.0, C\n",
      "initial values: 0.0, B\n",
      "initial values: 0.0, A\n"
     ]
    }
   ],
   "source": [
    "# define explicit system of ODEs\n",
    "def rule_odes(m,t):\n",
    "    exprs = dict()\n",
    "    exprs['A'] = -m.P['k1']*m.Z[t,'A']\n",
    "    exprs['B'] = m.P['k1']*m.Z[t,'A']-m.P['k2']*m.Z[t,'B']\n",
    "    exprs['C'] = m.P['k2']*m.Z[t,'B']\n",
    "    return exprs\n",
    "    \n",
    "builder.set_odes_rule(rule_odes)\n",
    "opt_model = builder.create_pyomo_model(0.0,10.0)"
   ]
  },
  {
   "cell_type": "code",
   "execution_count": 33,
   "metadata": {},
   "outputs": [],
   "source": [
    "sigmas = {'A':1e-10,'B':1e-11,'C':1e-10}"
   ]
  },
  {
   "cell_type": "code",
   "execution_count": 34,
   "metadata": {},
   "outputs": [],
   "source": [
    "# and define our parameter estimation problem and discretization strategy\n",
    "p_estimator = ParameterEstimator(opt_model)\n",
    "p_estimator.apply_discretization('dae.collocation',nfe=60,ncp=3,scheme='LAGRANGE-RADAU')"
   ]
  },
  {
   "cell_type": "code",
   "execution_count": 35,
   "metadata": {},
   "outputs": [],
   "source": [
    "# Again we provide options for the solver, this time providing the scaling that we set above\n",
    "options = dict()\n",
    "#options['nlp_scaling_method'] = 'user-scaling'\n",
    "options['linear_solver'] = 'ma27'"
   ]
  },
  {
   "cell_type": "code",
   "execution_count": 36,
   "metadata": {},
   "outputs": [
    {
     "name": "stdout",
     "output_type": "stream",
     "text": [
      "Ipopt 3.13.2: linear_solver=ma27\n",
      "\n",
      "\n",
      "******************************************************************************\n",
      "This program contains Ipopt, a library for large-scale nonlinear optimization.\n",
      " Ipopt is released as open source code under the Eclipse Public License (EPL).\n",
      "         For more information visit http://projects.coin-or.org/Ipopt\n",
      "******************************************************************************\n",
      "\n",
      "This is Ipopt version 3.13.2, running with linear solver ma27.\n",
      "\n",
      "Number of nonzeros in equality constraint Jacobian...:     4683\n",
      "Number of nonzeros in inequality constraint Jacobian.:        0\n",
      "Number of nonzeros in Lagrangian Hessian.............:      460\n",
      "\n",
      "Total number of variables............................:     1085\n",
      "                     variables with only lower bounds:        0\n",
      "                variables with lower and upper bounds:        2\n",
      "                     variables with only upper bounds:        0\n",
      "Total number of equality constraints.................:     1083\n",
      "Total number of inequality constraints...............:        0\n",
      "        inequality constraints with only lower bounds:        0\n",
      "   inequality constraints with lower and upper bounds:        0\n",
      "        inequality constraints with only upper bounds:        0\n",
      "\n",
      "iter    objective    inf_pr   inf_du lg(mu)  ||d||  lg(rg) alpha_du alpha_pr  ls\n",
      "   0  3.4990040e+01 1.00e+00 1.52e-01  -1.0 0.00e+00    -  0.00e+00 0.00e+00   0\n",
      "   1  1.9503308e-05 4.04e-04 1.34e-02  -1.0 1.00e+00    -  1.00e+00 1.00e+00f  1\n",
      "   2  4.1624587e-06 3.53e-08 4.45e-05  -2.5 7.69e-04    -  1.00e+00 1.00e+00h  1\n",
      "   3  4.1614916e-06 2.90e-10 3.18e-10  -3.8 1.41e-03    -  1.00e+00 1.00e+00h  1\n",
      "   4  4.1519313e-06 1.60e-08 3.79e-09  -5.7 1.05e-02    -  1.00e+00 1.00e+00h  1\n",
      "   5  3.2259120e-06 5.47e-04 1.49e-04  -8.6 1.93e+00    -  5.64e-01 1.00e+00h  1\n",
      "   6  1.2875262e-06 1.14e-05 3.65e-06  -8.6 3.20e-02  -4.0 9.90e-01 1.00e+00h  1\n",
      "   7  7.7394015e-07 1.30e-05 4.31e-06  -8.6 1.30e-01  -4.5 1.00e+00 1.00e+00h  1\n",
      "   8  3.5125403e-07 1.55e-04 7.18e-05  -8.6 4.36e-01  -5.0 1.00e+00 9.32e-01h  1\n",
      "   9  4.5535742e-07 1.16e-04 4.77e-05  -8.6 9.28e-02    -  6.33e-04 2.50e-01h  3\n",
      "iter    objective    inf_pr   inf_du lg(mu)  ||d||  lg(rg) alpha_du alpha_pr  ls\n",
      "  10  6.6383985e-08 2.59e-05 4.01e-05  -8.6 1.53e-01    -  1.00e+00 1.00e+00h  1\n",
      "  11  4.7798707e-09 3.15e-06 1.99e-06  -8.6 1.45e-01    -  8.78e-01 1.00e+00h  1\n",
      "  12  4.6964630e-09 5.89e-08 2.98e-08  -8.6 7.32e-03    -  1.00e+00 1.00e+00h  1\n",
      "  13  4.7076804e-09 3.41e-11 1.63e-11  -8.6 4.41e-04    -  1.00e+00 1.00e+00h  1\n",
      "\n",
      "Number of Iterations....: 13\n",
      "\n",
      "                                   (scaled)                 (unscaled)\n",
      "Objective...............:   4.7076803963957736e-09    4.7076803963957736e-09\n",
      "Dual infeasibility......:   1.6289304816725168e-11    1.6289304816725168e-11\n",
      "Constraint violation....:   3.4097064012311371e-11    3.4097064012311371e-11\n",
      "Complementarity.........:   2.5061423131301854e-09    2.5061423131301854e-09\n",
      "Overall NLP error.......:   2.5061423131301854e-09    2.5061423131301854e-09\n",
      "\n",
      "\n",
      "Number of objective function evaluations             = 16\n",
      "Number of objective gradient evaluations             = 14\n",
      "Number of equality constraint evaluations            = 16\n",
      "Number of inequality constraint evaluations          = 0\n",
      "Number of equality constraint Jacobian evaluations   = 14\n",
      "Number of inequality constraint Jacobian evaluations = 0\n",
      "Number of Lagrangian Hessian evaluations             = 13\n",
      "Total CPU secs in IPOPT (w/o function evaluations)   =      0.021\n",
      "Total CPU secs in NLP function evaluations           =      0.002\n",
      "\n",
      "EXIT: Optimal Solution Found.\n"
     ]
    }
   ],
   "source": [
    "# finally we run the optimization\n",
    "results_pyomo = p_estimator.run_opt('ipopt',\n",
    "                                        variances=sigmas,\n",
    "                                      tee=True,\n",
    "                                   solver_opts = options)"
   ]
  },
  {
   "cell_type": "code",
   "execution_count": 37,
   "metadata": {},
   "outputs": [
    {
     "name": "stdout",
     "output_type": "stream",
     "text": [
      "The estimated parameters are:\n",
      "k1 0.22606798023513064\n",
      "k2 0.9492717221518403\n"
     ]
    }
   ],
   "source": [
    "# And display the results\n",
    "print(\"The estimated parameters are:\")\n",
    "for k,v in six.iteritems(results_pyomo.P):\n",
    "    print(k, v)"
   ]
  },
  {
   "cell_type": "code",
   "execution_count": 44,
   "metadata": {},
   "outputs": [
    {
     "data": {
      "image/png": "[encoded data removed]",
      "text/plain": [
       "<Figure size 432x288 with 1 Axes>"
      ]
     },
     "metadata": {
      "needs_background": "light"
     },
     "output_type": "display_data"
    }
   ],
   "source": [
    "fig, ax = plt.subplots()\n",
    "for cmp in ['A', 'B', 'C']:\n",
    "    ax.scatter(results_pyomo.C.index, results_pyomo.C[cmp], label = cmp)\n",
    "    ax.plot(results_pyomo.Z.index, results_pyomo.Z[cmp], label = cmp)\n",
    "ax.legend()\n",
    "plt.show()"
   ]
  },
  {
   "cell_type": "code",
   "execution_count": null,
   "metadata": {},
   "outputs": [],
   "source": []
  }
 ],
 "metadata": {
  "kernelspec": {
   "display_name": "Python 3",
   "language": "python",
   "name": "python3"
  },
  "language_info": {
   "codemirror_mode": {
    "name": "ipython",
    "version": 3
   },
   "file_extension": ".py",
   "mimetype": "text/x-python",
   "name": "python",
   "nbconvert_exporter": "python",
   "pygments_lexer": "ipython3",
   "version": "3.7.7"
  }
 },
 "nbformat": 4,
 "nbformat_minor": 4
}
