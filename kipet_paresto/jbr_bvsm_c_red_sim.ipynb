{
 "cells": [
  {
   "cell_type": "code",
   "execution_count": 1,
   "metadata": {},
   "outputs": [],
   "source": [
    "#\n",
    "# This is an example from jbr Reactor Design Book\n",
    "# https://github.com/rawlings-group/paresto/blob/master/examples/green_book/bvsm_red.m\n",
    "#"
   ]
  },
  {
   "cell_type": "markdown",
   "metadata": {},
   "source": [
    "Reduced order model with states $V, \\epsilon_2$:\n",
    "$$\\frac{dV}{dt} = Q^{in}_B(t)$$\n",
    "$$\\frac{d\\epsilon_2}{dt} = \\frac{Q^{in}_B(t)c_{Bf}(n^{added}_B-2\\epsilon_2)}{(n^{added}_B-2\\epsilon_2) + k(n_{A0} - n^{added}_B + \\epsilon_2)} $$ \n",
    "\n",
    "Calculation of $n_B^{added}$:\n",
    "$$ n_B^{added} = (V - V(0))c_{Bf} $$\n",
    "\n",
    "Parameters:\n",
    "$k = 2.48, \\;\\;n_{A0} = 2.35$\n",
    "\n",
    "Initial conditions:\n",
    "$V = 2370, \\;\\;\\epsilon_2 = 0$"
   ]
  },
  {
   "cell_type": "code",
   "execution_count": 2,
   "metadata": {},
   "outputs": [
    {
     "name": "stdout",
     "output_type": "stream",
     "text": [
      "WARNING: DEPRECATED: The pyomo.core.base.sets module is deprecated.  Import\n",
      "    Set objects from pyomo.core.base.set or pyomo.core.  (deprecated in 5.7)\n",
      "    (called from <frozen importlib._bootstrap>:219)\n",
      "_SetProduct not found\n"
     ]
    }
   ],
   "source": [
    "from kipet import KipetModel\n",
    "import matplotlib.pyplot as plt\n",
    "import numpy as np\n",
    "import pandas as pd\n",
    "from scipy.stats import t"
   ]
  },
  {
   "cell_type": "code",
   "execution_count": 3,
   "metadata": {},
   "outputs": [
    {
     "data": {
      "text/html": [
       "<div>\n",
       "<style scoped>\n",
       "    .dataframe tbody tr th:only-of-type {\n",
       "        vertical-align: middle;\n",
       "    }\n",
       "\n",
       "    .dataframe tbody tr th {\n",
       "        vertical-align: top;\n",
       "    }\n",
       "\n",
       "    .dataframe thead th {\n",
       "        text-align: right;\n",
       "    }\n",
       "</style>\n",
       "<table border=\"1\" class=\"dataframe\">\n",
       "  <thead>\n",
       "    <tr style=\"text-align: right;\">\n",
       "      <th></th>\n",
       "      <th>qin_B</th>\n",
       "    </tr>\n",
       "    <tr>\n",
       "      <th>time</th>\n",
       "      <th></th>\n",
       "    </tr>\n",
       "  </thead>\n",
       "  <tbody>\n",
       "    <tr>\n",
       "      <th>9.0</th>\n",
       "      <td>0.134365</td>\n",
       "    </tr>\n",
       "    <tr>\n",
       "      <th>19.0</th>\n",
       "      <td>1.772804</td>\n",
       "    </tr>\n",
       "    <tr>\n",
       "      <th>29.0</th>\n",
       "      <td>1.734587</td>\n",
       "    </tr>\n",
       "    <tr>\n",
       "      <th>39.0</th>\n",
       "      <td>1.703319</td>\n",
       "    </tr>\n",
       "    <tr>\n",
       "      <th>49.0</th>\n",
       "      <td>1.669967</td>\n",
       "    </tr>\n",
       "    <tr>\n",
       "      <th>...</th>\n",
       "      <td>...</td>\n",
       "    </tr>\n",
       "    <tr>\n",
       "      <th>829.0</th>\n",
       "      <td>0.000990</td>\n",
       "    </tr>\n",
       "    <tr>\n",
       "      <th>839.0</th>\n",
       "      <td>0.000782</td>\n",
       "    </tr>\n",
       "    <tr>\n",
       "      <th>849.0</th>\n",
       "      <td>0.000643</td>\n",
       "    </tr>\n",
       "    <tr>\n",
       "      <th>859.0</th>\n",
       "      <td>0.000712</td>\n",
       "    </tr>\n",
       "    <tr>\n",
       "      <th>869.0</th>\n",
       "      <td>0.000608</td>\n",
       "    </tr>\n",
       "  </tbody>\n",
       "</table>\n",
       "<p>87 rows × 1 columns</p>\n",
       "</div>"
      ],
      "text/plain": [
       "          qin_B\n",
       "time           \n",
       "9.0    0.134365\n",
       "19.0   1.772804\n",
       "29.0   1.734587\n",
       "39.0   1.703319\n",
       "49.0   1.669967\n",
       "...         ...\n",
       "829.0  0.000990\n",
       "839.0  0.000782\n",
       "849.0  0.000643\n",
       "859.0  0.000712\n",
       "869.0  0.000608\n",
       "\n",
       "[87 rows x 1 columns]"
      ]
     },
     "execution_count": 3,
     "metadata": {},
     "output_type": "execute_result"
    }
   ],
   "source": [
    "# Import data set with flow of B over time\n",
    "filename = '/home/paperspace/learn_kipet/kipet_paresto/data_sets/flow.dat'\n",
    "flow_df = pd.read_csv(filename, delimiter=r\"\\s+\", header = None)\n",
    "flow_df.columns = ['time', 'Qf', 'x']\n",
    "flow_df['qin_B'] = flow_df['Qf'] / 0.728\n",
    "flow_df = flow_df.set_index('time')\n",
    "qinB_traj = flow_df[['qin_B']]\n",
    "qinB_traj"
   ]
  },
  {
   "cell_type": "code",
   "execution_count": 4,
   "metadata": {},
   "outputs": [
    {
     "data": {
      "text/html": [
       "<div>\n",
       "<style scoped>\n",
       "    .dataframe tbody tr th:only-of-type {\n",
       "        vertical-align: middle;\n",
       "    }\n",
       "\n",
       "    .dataframe tbody tr th {\n",
       "        vertical-align: top;\n",
       "    }\n",
       "\n",
       "    .dataframe thead th {\n",
       "        text-align: right;\n",
       "    }\n",
       "</style>\n",
       "<table border=\"1\" class=\"dataframe\">\n",
       "  <thead>\n",
       "    <tr style=\"text-align: right;\">\n",
       "      <th></th>\n",
       "      <th>qin_B</th>\n",
       "    </tr>\n",
       "    <tr>\n",
       "      <th>time</th>\n",
       "      <th></th>\n",
       "    </tr>\n",
       "  </thead>\n",
       "  <tbody>\n",
       "    <tr>\n",
       "      <th>0.0</th>\n",
       "      <td>0.000000</td>\n",
       "    </tr>\n",
       "    <tr>\n",
       "      <th>9.0</th>\n",
       "      <td>0.134365</td>\n",
       "    </tr>\n",
       "    <tr>\n",
       "      <th>19.0</th>\n",
       "      <td>1.772804</td>\n",
       "    </tr>\n",
       "    <tr>\n",
       "      <th>29.0</th>\n",
       "      <td>1.734587</td>\n",
       "    </tr>\n",
       "    <tr>\n",
       "      <th>39.0</th>\n",
       "      <td>1.703319</td>\n",
       "    </tr>\n",
       "  </tbody>\n",
       "</table>\n",
       "</div>"
      ],
      "text/plain": [
       "         qin_B\n",
       "time          \n",
       "0.0   0.000000\n",
       "9.0   0.134365\n",
       "19.0  1.772804\n",
       "29.0  1.734587\n",
       "39.0  1.703319"
      ]
     },
     "execution_count": 4,
     "metadata": {},
     "output_type": "execute_result"
    }
   ],
   "source": [
    "# insert first row for time 0\n",
    "qinB_row0 = pd.DataFrame({'time':[0], 'qin_B':[0]}).set_index('time')\n",
    "qinB_traj = qinB_traj.append(qinB_row0).sort_index()\n",
    "qinB_traj.head()"
   ]
  },
  {
   "cell_type": "code",
   "execution_count": 5,
   "metadata": {},
   "outputs": [],
   "source": [
    "filename = '/home/paperspace/learn_kipet/kipet_paresto/data_sets/lc.dat'\n",
    "lc_data = pd.read_csv(filename, delimiter=r\"\\s+\", header = None)\n",
    "lc_data.columns = ['time', 'y']\n",
    "lc_data = lc_data.set_index('time')"
   ]
  },
  {
   "cell_type": "code",
   "execution_count": 6,
   "metadata": {},
   "outputs": [
    {
     "data": {
      "text/html": [
       "<div>\n",
       "<style scoped>\n",
       "    .dataframe tbody tr th:only-of-type {\n",
       "        vertical-align: middle;\n",
       "    }\n",
       "\n",
       "    .dataframe tbody tr th {\n",
       "        vertical-align: top;\n",
       "    }\n",
       "\n",
       "    .dataframe thead th {\n",
       "        text-align: right;\n",
       "    }\n",
       "</style>\n",
       "<table border=\"1\" class=\"dataframe\">\n",
       "  <thead>\n",
       "    <tr style=\"text-align: right;\">\n",
       "      <th></th>\n",
       "      <th>y</th>\n",
       "    </tr>\n",
       "    <tr>\n",
       "      <th>time</th>\n",
       "      <th></th>\n",
       "    </tr>\n",
       "  </thead>\n",
       "  <tbody>\n",
       "    <tr>\n",
       "      <th>414</th>\n",
       "      <td>0.1705</td>\n",
       "    </tr>\n",
       "    <tr>\n",
       "      <th>424</th>\n",
       "      <td>0.1604</td>\n",
       "    </tr>\n",
       "    <tr>\n",
       "      <th>434</th>\n",
       "      <td>0.1325</td>\n",
       "    </tr>\n",
       "    <tr>\n",
       "      <th>444</th>\n",
       "      <td>0.1084</td>\n",
       "    </tr>\n",
       "    <tr>\n",
       "      <th>493</th>\n",
       "      <td>0.1014</td>\n",
       "    </tr>\n",
       "  </tbody>\n",
       "</table>\n",
       "</div>"
      ],
      "text/plain": [
       "           y\n",
       "time        \n",
       "414   0.1705\n",
       "424   0.1604\n",
       "434   0.1325\n",
       "444   0.1084\n",
       "493   0.1014"
      ]
     },
     "execution_count": 6,
     "metadata": {},
     "output_type": "execute_result"
    }
   ],
   "source": [
    "lc_data.head()"
   ]
  },
  {
   "cell_type": "code",
   "execution_count": 35,
   "metadata": {},
   "outputs": [
    {
     "name": "stdout",
     "output_type": "stream",
     "text": [
      "Warning: Component V variance not provided\n",
      "Warning: Component eps2 variance not provided\n",
      "Warning: Component qin_B variance not provided\n"
     ]
    }
   ],
   "source": [
    "kipet_model = KipetModel()\n",
    "\n",
    "r1 = kipet_model.new_reaction('rxn1')\n",
    "\n",
    "r1.add_component('V', state = 'state', init = 2370)\n",
    "r1.add_component('eps2', state = 'concentration', init = 0.0)\n",
    "r1.add_component('qin_B', state = 'trajectory')\n",
    "\n",
    "r1.add_algebraic_variables(['qin_B', 'nBadded', 'y1', 'y'])\n",
    "\n",
    "r1.add_parameter('k', init = 17)\n",
    "r1.add_parameter('na0', init = 2.34)\n",
    "\n",
    "cbf = 0.00721\n",
    "V0 = 2370"
   ]
  },
  {
   "cell_type": "code",
   "execution_count": 36,
   "metadata": {},
   "outputs": [],
   "source": [
    "def rule_odes(m,t):\n",
    "        \n",
    "    exprs = dict()\n",
    "    exprs['V'] = m.Y[t,'qin_B']\n",
    "    exprs['eps2'] = m.Y[t, 'y1']\n",
    "    return exprs\n",
    "\n",
    "r1.add_equations(rule_odes) "
   ]
  },
  {
   "cell_type": "code",
   "execution_count": 37,
   "metadata": {},
   "outputs": [],
   "source": [
    "def rule_algebraics(m, t):\n",
    "    r = list()\n",
    "    r.append(m.Y[t,'nBadded'] - (m.X[t, 'V'] - V0) * cbf)\n",
    "    r.append(m.Y[t,'y1'] * ((m.Y[t,'nBadded'] - 2 * m.Z[t,'eps2']) + m.P['k']*(m.P['na0'] - m.Y[t,'nBadded'] + m.Z[t, 'eps2'])) - m.Y[t,'qin_B'] * cbf * (m.Y[t,'nBadded'] - 2 * m.Z[t,'eps2']))\n",
    "    r.append(m.Y[t, 'y'] * m.Y[t, 'nBadded'] - (m.Y[t,'nBadded'] - 2 * m.Z[t,'eps2']))\n",
    "    return r\n",
    "\n",
    "r1.add_algebraics(rule_algebraics)"
   ]
  },
  {
   "cell_type": "code",
   "execution_count": 38,
   "metadata": {},
   "outputs": [],
   "source": [
    "r1.add_dataset('Traj', category = 'trajectory', data = qinB_traj)"
   ]
  },
  {
   "cell_type": "code",
   "execution_count": 39,
   "metadata": {},
   "outputs": [],
   "source": [
    "r1.fix_from_trajectory('Y', 'qin_B', 'Traj')\n",
    "r1.set_times(0, 900)"
   ]
  },
  {
   "cell_type": "code",
   "execution_count": 40,
   "metadata": {},
   "outputs": [],
   "source": [
    "#r1.settings.collocation.nfe = 60\n",
    "#r1.settings.collocation.ncp = 1\n",
    "#r1.settings.collocation.scheme = 'LAGRANGE-RADAU'\n",
    "r1.settings.solver.linear_solver = 'ma27'"
   ]
  },
  {
   "cell_type": "code",
   "execution_count": 41,
   "metadata": {},
   "outputs": [
    {
     "name": "stdout",
     "output_type": "stream",
     "text": [
      "times are: <class 'tuple'>\n",
      "WARNING: The number of algebraic equations is not the same as the number of algebraic variables.\n",
      " If this is the desired behavior, some algebraics must be added after the model is created.\n"
     ]
    }
   ],
   "source": [
    "r1.simulate()"
   ]
  },
  {
   "cell_type": "code",
   "execution_count": 42,
   "metadata": {},
   "outputs": [
    {
     "data": {
      "text/plain": [
       "[<matplotlib.lines.Line2D at 0x7fe38a46e278>]"
      ]
     },
     "execution_count": 42,
     "metadata": {},
     "output_type": "execute_result"
    },
    {
     "data": {
      "image/png": "[encoded data removed]",
      "text/plain": [
       "<Figure size 432x288 with 1 Axes>"
      ]
     },
     "metadata": {
      "needs_background": "light"
     },
     "output_type": "display_data"
    }
   ],
   "source": [
    "fig, ax = plt.subplots()\n",
    "ax.plot(r1.results.Z.index, r1.results.Z['eps2'])"
   ]
  },
  {
   "cell_type": "code",
   "execution_count": 28,
   "metadata": {},
   "outputs": [
    {
     "data": {
      "text/plain": [
       "[<matplotlib.lines.Line2D at 0x7fe38a745e80>]"
      ]
     },
     "execution_count": 28,
     "metadata": {},
     "output_type": "execute_result"
    },
    {
     "data": {
      "image/png": "[encoded data removed]",
      "text/plain": [
       "<Figure size 432x288 with 1 Axes>"
      ]
     },
     "metadata": {
      "needs_background": "light"
     },
     "output_type": "display_data"
    }
   ],
   "source": [
    "fig, ax = plt.subplots()\n",
    "ax.plot(r1.results.X.index, r1.results.X['V'])"
   ]
  },
  {
   "cell_type": "code",
   "execution_count": 29,
   "metadata": {},
   "outputs": [
    {
     "data": {
      "text/plain": [
       "[<matplotlib.lines.Line2D at 0x7fe37873a4e0>]"
      ]
     },
     "execution_count": 29,
     "metadata": {},
     "output_type": "execute_result"
    },
    {
     "data": {
      "image/png": "[encoded data removed]",
      "text/plain": [
       "<Figure size 432x288 with 1 Axes>"
      ]
     },
     "metadata": {
      "needs_background": "light"
     },
     "output_type": "display_data"
    }
   ],
   "source": [
    "fig, ax = plt.subplots()\n",
    "ax.step(r1.results.Y.index, r1.results.Y['qin_B'])\n",
    "ax.step(qinB_traj.index, qinB_traj['qin_B'])"
   ]
  },
  {
   "cell_type": "code",
   "execution_count": 30,
   "metadata": {},
   "outputs": [
    {
     "data": {
      "text/plain": [
       "[<matplotlib.lines.Line2D at 0x7fe3786653c8>]"
      ]
     },
     "execution_count": 30,
     "metadata": {},
     "output_type": "execute_result"
    },
    {
     "data": {
      "image/png": "[encoded data removed]",
      "text/plain": [
       "<Figure size 432x288 with 1 Axes>"
      ]
     },
     "metadata": {
      "needs_background": "light"
     },
     "output_type": "display_data"
    }
   ],
   "source": [
    "fig, ax = plt.subplots()\n",
    "ax.scatter(lc_data.index, lc_data['y'])\n",
    "ax.plot(r1.results.Y.index, r1.results.Y['y'])"
   ]
  },
  {
   "cell_type": "code",
   "execution_count": 31,
   "metadata": {},
   "outputs": [
    {
     "data": {
      "text/plain": [
       "[<matplotlib.lines.Line2D at 0x7fe37861b5f8>]"
      ]
     },
     "execution_count": 31,
     "metadata": {},
     "output_type": "execute_result"
    },
    {
     "data": {
      "image/png": "[encoded data removed]",
      "text/plain": [
       "<Figure size 432x288 with 1 Axes>"
      ]
     },
     "metadata": {
      "needs_background": "light"
     },
     "output_type": "display_data"
    }
   ],
   "source": [
    "fig, ax = plt.subplots()\n",
    "ax.scatter(lc_data.index, lc_data['y'])\n",
    "ax.plot(r1.results.Y.index[r1.results.Y.index >= 380], r1.results.Y['y'][r1.results.Y.index >= 380])"
   ]
  },
  {
   "cell_type": "code",
   "execution_count": 19,
   "metadata": {},
   "outputs": [],
   "source": [
    "t1 = r1.results.Y.index\n",
    "y1 = r1.results.Y['y']"
   ]
  },
  {
   "cell_type": "code",
   "execution_count": 32,
   "metadata": {},
   "outputs": [],
   "source": [
    "t2 = r1.results.Y.index\n",
    "y2 = r1.results.Y['y']"
   ]
  },
  {
   "cell_type": "code",
   "execution_count": 43,
   "metadata": {},
   "outputs": [],
   "source": [
    "t3 = r1.results.Y.index\n",
    "y3 = r1.results.Y['y']"
   ]
  },
  {
   "cell_type": "code",
   "execution_count": null,
   "metadata": {},
   "outputs": [
    {
     "data": {
      "text/plain": [
       "[<matplotlib.lines.Line2D at 0x7fe38a54a710>]"
      ]
     },
     "execution_count": 44,
     "metadata": {},
     "output_type": "execute_result"
    }
   ],
   "source": [
    "fig, ax = plt.subplots()\n",
    "ax.plot(t1, y1)\n",
    "ax.plot(t2, y2)\n",
    "ax.plot(t3, y3)"
   ]
  },
  {
   "cell_type": "code",
   "execution_count": null,
   "metadata": {},
   "outputs": [],
   "source": []
  }
 ],
 "metadata": {
  "kernelspec": {
   "display_name": "Python 3",
   "language": "python",
   "name": "python3"
  },
  "language_info": {
   "codemirror_mode": {
    "name": "ipython",
    "version": 3
   },
   "file_extension": ".py",
   "mimetype": "text/x-python",
   "name": "python",
   "nbconvert_exporter": "python",
   "pygments_lexer": "ipython3",
   "version": "3.7.3"
  }
 },
 "nbformat": 4,
 "nbformat_minor": 2
}
