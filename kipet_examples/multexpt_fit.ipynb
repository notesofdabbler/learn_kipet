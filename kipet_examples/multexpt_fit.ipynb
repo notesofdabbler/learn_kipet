{
 "cells": [
  {
   "cell_type": "code",
   "execution_count": 55,
   "metadata": {},
   "outputs": [],
   "source": [
    "# Adapted from\n",
    "#  https://github.com/salvadorgarciamunoz/kipet/blob/master/kipet/new_examples/Ex_12_multiple_experiments_concentration.py\n",
    "#"
   ]
  },
  {
   "cell_type": "code",
   "execution_count": 56,
   "metadata": {},
   "outputs": [],
   "source": [
    "from kipet import KipetModel\n",
    "import numpy as np\n",
    "import pandas as pd\n",
    "import matplotlib.pyplot as plt"
   ]
  },
  {
   "cell_type": "code",
   "execution_count": 57,
   "metadata": {},
   "outputs": [
    {
     "name": "stdout",
     "output_type": "stream",
     "text": [
      "Warning: Component A variance not provided\n",
      "Warning: Component B variance not provided\n",
      "Warning: Component C variance not provided\n",
      "Warning: Component D variance not provided\n"
     ]
    }
   ],
   "source": [
    "kipet_model = KipetModel()\n",
    "\n",
    "r1 = kipet_model.new_reaction('reaction1')\n",
    "\n",
    "r1.add_parameter('k1',init = 0.1, bounds = (0.0, 10.0))\n",
    "r1.add_parameter('k2',init = 0.1, bounds = (0.0, 10.0))\n",
    "\n",
    "r1.add_component('A', state = 'concentration', init = 1.0)\n",
    "r1.add_component('B', state = 'concentration', init = 2.0)\n",
    "r1.add_component('C', state = 'concentration', init = 0.0)\n",
    "r1.add_component('D', state = 'concentration', init = 0.0)"
   ]
  },
  {
   "cell_type": "code",
   "execution_count": 58,
   "metadata": {},
   "outputs": [],
   "source": [
    "def rule_odes(m,t):\n",
    "    exprs = dict()\n",
    "    exprs['A'] = -m.P['k1']*m.Z[t,'A']*m.Z[t,'B']\n",
    "    exprs['B'] = -m.P['k1']*m.Z[t,'A']*m.Z[t,'B']-m.P['k2']*m.Z[t,'B']*m.Z[t,'C']\n",
    "    exprs['C'] = m.P['k1']*m.Z[t,'A']*m.Z[t,'B']-m.P['k2']*m.Z[t,'B']*m.Z[t,'C']\n",
    "    exprs['D'] = m.P['k2']*m.Z[t,'B']*m.Z[t,'C']\n",
    "    return exprs\n",
    "\n",
    "r1.add_equations(rule_odes)"
   ]
  },
  {
   "cell_type": "code",
   "execution_count": 59,
   "metadata": {},
   "outputs": [],
   "source": [
    "my_data_dir = '/home/paperspace/learn_kipet/my_data_sets/'\n",
    "r1.add_dataset('C_data_1', category='concentration', file=my_data_dir + 'ABCD_cb0_2.csv')\n",
    "r1.set_times(0.0, 4.0)\n",
    "r1.variances = {'A':1, 'B':1, 'C':1, 'D':1}"
   ]
  },
  {
   "cell_type": "code",
   "execution_count": 60,
   "metadata": {},
   "outputs": [],
   "source": [
    "r2 = kipet_model.new_reaction(name='reaction_2', model_to_clone=r1, items_not_copied='datasets')\n",
    "r2.add_dataset('C_data_2', category='concentration', file=my_data_dir + 'ABCD_cb0_1.csv')\n",
    "r2.components['A'].init = 1.0\n",
    "r2.components['B'].init = 1.0\n",
    "r2.set_times(0.0, 7.0)\n",
    "r2.variances = {'A':1, 'B':1, 'C':1, 'D':1}"
   ]
  },
  {
   "cell_type": "code",
   "execution_count": 61,
   "metadata": {},
   "outputs": [],
   "source": [
    "r1.settings.solver.linear_solver = 'ma27'\n",
    "r2.settings.solver.linear_solver = 'ma27'\n",
    "kipet_model.settings.solver.linear_solver = 'ma27'"
   ]
  },
  {
   "cell_type": "code",
   "execution_count": 62,
   "metadata": {},
   "outputs": [
    {
     "name": "stdout",
     "output_type": "stream",
     "text": [
      "times are: <class 'tuple'>\n",
      "Warning! Since Cm-matrix contains negative values Kipet is assuming a derivative of Cm has been inputted\n",
      "times are: <class 'tuple'>\n",
      "times are: <class 'tuple'>\n",
      "WARNING: Element A already exists in Set measured_data; no action taken\n",
      "WARNING: Element B already exists in Set measured_data; no action taken\n",
      "WARNING: Element C already exists in Set measured_data; no action taken\n",
      "WARNING: Element D already exists in Set measured_data; no action taken\n",
      "0.0 4.0\n",
      "WARNING: DEPRECATED: The default domain for Param objects is 'Any'.  However,\n",
      "    we will be changing that default to 'Reals' in the future.  If you really\n",
      "    intend the domain of this Param (sigma) to be 'Any', you can suppress this\n",
      "    warning by explicitly specifying 'within=Any' to the Param constructor.\n",
      "    (deprecated in 5.6.9, will be removed in 6.0) (called from\n",
      "    /home/paperspace/my_pyenvs/kipetenv/lib/python3.7/site-\n",
      "    packages/Pyomo-5.7.1-py3.7-linux-x86_64.egg/pyomo/core/base/param.py:640)\n",
      "WARNING: DEPRECATED: The default domain for Param objects is 'Any'.  However,\n",
      "    we will be changing that default to 'Reals' in the future.  If you really\n",
      "    intend the domain of this Param (sigma) to be 'Any', you can suppress this\n",
      "    warning by explicitly specifying 'within=Any' to the Param constructor.\n",
      "    (deprecated in 5.6.9, will be removed in 6.0) (called from\n",
      "    /home/paperspace/my_pyenvs/kipetenv/lib/python3.7/site-\n",
      "    packages/Pyomo-5.7.1-py3.7-linux-x86_64.egg/pyomo/core/base/param.py:640)\n",
      "WARNING: DEPRECATED: The default domain for Param objects is 'Any'.  However,\n",
      "    we will be changing that default to 'Reals' in the future.  If you really\n",
      "    intend the domain of this Param (sigma) to be 'Any', you can suppress this\n",
      "    warning by explicitly specifying 'within=Any' to the Param constructor.\n",
      "    (deprecated in 5.6.9, will be removed in 6.0) (called from\n",
      "    /home/paperspace/my_pyenvs/kipetenv/lib/python3.7/site-\n",
      "    packages/Pyomo-5.7.1-py3.7-linux-x86_64.egg/pyomo/core/base/param.py:640)\n",
      "WARNING: DEPRECATED: The default domain for Param objects is 'Any'.  However,\n",
      "    we will be changing that default to 'Reals' in the future.  If you really\n",
      "    intend the domain of this Param (sigma) to be 'Any', you can suppress this\n",
      "    warning by explicitly specifying 'within=Any' to the Param constructor.\n",
      "    (deprecated in 5.6.9, will be removed in 6.0) (called from\n",
      "    /home/paperspace/my_pyenvs/kipetenv/lib/python3.7/site-\n",
      "    packages/Pyomo-5.7.1-py3.7-linux-x86_64.egg/pyomo/core/base/param.py:640)\n",
      "Ipopt 3.12: nlp_scaling_method=gradient-based\n",
      "linear_solver=ma27\n",
      "\n",
      "\n",
      "******************************************************************************\n",
      "This program contains Ipopt, a library for large-scale nonlinear optimization.\n",
      " Ipopt is released as open source code under the Eclipse Public License (EPL).\n",
      "         For more information visit http://projects.coin-or.org/Ipopt\n",
      "******************************************************************************\n",
      "\n",
      "This is Ipopt version 3.12, running with linear solver ma27.\n",
      "\n",
      "Number of nonzeros in equality constraint Jacobian...:     6004\n",
      "Number of nonzeros in inequality constraint Jacobian.:        0\n",
      "Number of nonzeros in Lagrangian Hessian.............:      952\n",
      "\n",
      "Total number of variables............................:     1206\n",
      "                     variables with only lower bounds:        0\n",
      "                variables with lower and upper bounds:        2\n",
      "                     variables with only upper bounds:        0\n",
      "Total number of equality constraints.................:     1204\n",
      "Total number of inequality constraints...............:        0\n",
      "        inequality constraints with only lower bounds:        0\n",
      "   inequality constraints with lower and upper bounds:        0\n",
      "        inequality constraints with only upper bounds:        0\n",
      "\n",
      "iter    objective    inf_pr   inf_du lg(mu)  ||d||  lg(rg) alpha_du alpha_pr  ls\n",
      "   0  4.6018219e+01 1.00e+00 2.54e-01  -1.0 0.00e+00    -  0.00e+00 0.00e+00   0\n",
      "   1  1.7039141e+00 4.49e-01 5.77e+00  -1.0 2.09e+00    -  5.57e-01 1.00e+00f  1\n",
      "   2  5.8358433e-01 1.15e+00 2.31e+00  -1.0 2.75e+00    -  1.00e+00 1.00e+00h  1\n",
      "   3  2.1366569e-01 1.16e-01 2.15e+00  -1.0 1.79e+00   0.0 8.58e-01 1.00e+00h  1\n",
      "   4  1.4462899e-01 1.03e-02 2.43e-01  -1.0 1.78e-01    -  1.00e+00 1.00e+00h  1\n",
      "   5  8.5618926e-02 3.11e-02 1.73e-01  -1.7 8.68e-01    -  7.39e-01 5.00e-01h  2\n",
      "   6  7.0387764e-02 4.52e-02 1.02e-01  -2.5 1.56e+00    -  8.34e-01 2.50e-01h  3\n",
      "   7  6.2519765e-02 1.13e-02 1.83e-02  -2.5 3.35e-01    -  1.00e+00 1.00e+00h  1\n",
      "   8  6.0461211e-02 9.54e-04 1.18e-03  -3.8 7.36e-02    -  1.00e+00 1.00e+00h  1\n",
      "   9  6.0451922e-02 6.71e-06 2.74e-06  -5.7 7.82e-03    -  1.00e+00 1.00e+00h  1\n",
      "iter    objective    inf_pr   inf_du lg(mu)  ||d||  lg(rg) alpha_du alpha_pr  ls\n",
      "  10  6.0451903e-02 1.20e-10 2.76e-11  -8.6 3.74e-05    -  1.00e+00 1.00e+00h  1\n",
      "\n",
      "Number of Iterations....: 10\n",
      "\n",
      "                                   (scaled)                 (unscaled)\n",
      "Objective...............:   6.0451903110454348e-02    6.0451903110454348e-02\n",
      "Dual infeasibility......:   2.7619204056165858e-11    2.7619204056165858e-11\n",
      "Constraint violation....:   1.1985790138169250e-10    1.1985790138169250e-10\n",
      "Complementarity.........:   2.5147704829636327e-09    2.5147704829636327e-09\n",
      "Overall NLP error.......:   2.5147704829636327e-09    2.5147704829636327e-09\n",
      "\n",
      "\n",
      "Number of objective function evaluations             = 16\n",
      "Number of objective gradient evaluations             = 11\n",
      "Number of equality constraint evaluations            = 16\n",
      "Number of inequality constraint evaluations          = 0\n",
      "Number of equality constraint Jacobian evaluations   = 11\n",
      "Number of inequality constraint Jacobian evaluations = 0\n",
      "Number of Lagrangian Hessian evaluations             = 10\n",
      "Total CPU secs in IPOPT (w/o function evaluations)   =      0.044\n",
      "Total CPU secs in NLP function evaluations           =      0.004\n",
      "\n",
      "EXIT: Optimal Solution Found.\n",
      "Warning! Since Cm-matrix contains negative values Kipet is assuming a derivative of Cm has been inputted\n",
      "times are: <class 'tuple'>\n",
      "WARNING: Element A already exists in Set measured_data; no action taken\n",
      "WARNING: Element B already exists in Set measured_data; no action taken\n",
      "WARNING: Element C already exists in Set measured_data; no action taken\n",
      "WARNING: Element D already exists in Set measured_data; no action taken\n",
      "0.0 7.0\n",
      "WARNING: DEPRECATED: The default domain for Param objects is 'Any'.  However,\n",
      "    we will be changing that default to 'Reals' in the future.  If you really\n",
      "    intend the domain of this Param (sigma) to be 'Any', you can suppress this\n",
      "    warning by explicitly specifying 'within=Any' to the Param constructor.\n",
      "    (deprecated in 5.6.9, will be removed in 6.0) (called from\n",
      "    /home/paperspace/my_pyenvs/kipetenv/lib/python3.7/site-\n",
      "    packages/Pyomo-5.7.1-py3.7-linux-x86_64.egg/pyomo/core/base/param.py:640)\n",
      "WARNING: DEPRECATED: The default domain for Param objects is 'Any'.  However,\n",
      "    we will be changing that default to 'Reals' in the future.  If you really\n",
      "    intend the domain of this Param (sigma) to be 'Any', you can suppress this\n",
      "    warning by explicitly specifying 'within=Any' to the Param constructor.\n",
      "    (deprecated in 5.6.9, will be removed in 6.0) (called from\n",
      "    /home/paperspace/my_pyenvs/kipetenv/lib/python3.7/site-\n",
      "    packages/Pyomo-5.7.1-py3.7-linux-x86_64.egg/pyomo/core/base/param.py:640)\n",
      "WARNING: DEPRECATED: The default domain for Param objects is 'Any'.  However,\n",
      "    we will be changing that default to 'Reals' in the future.  If you really\n",
      "    intend the domain of this Param (sigma) to be 'Any', you can suppress this\n",
      "    warning by explicitly specifying 'within=Any' to the Param constructor.\n",
      "    (deprecated in 5.6.9, will be removed in 6.0) (called from\n",
      "    /home/paperspace/my_pyenvs/kipetenv/lib/python3.7/site-\n",
      "    packages/Pyomo-5.7.1-py3.7-linux-x86_64.egg/pyomo/core/base/param.py:640)\n",
      "WARNING: DEPRECATED: The default domain for Param objects is 'Any'.  However,\n",
      "    we will be changing that default to 'Reals' in the future.  If you really\n",
      "    intend the domain of this Param (sigma) to be 'Any', you can suppress this\n",
      "    warning by explicitly specifying 'within=Any' to the Param constructor.\n",
      "    (deprecated in 5.6.9, will be removed in 6.0) (called from\n",
      "    /home/paperspace/my_pyenvs/kipetenv/lib/python3.7/site-\n",
      "    packages/Pyomo-5.7.1-py3.7-linux-x86_64.egg/pyomo/core/base/param.py:640)\n"
     ]
    },
    {
     "name": "stdout",
     "output_type": "stream",
     "text": [
      "Ipopt 3.12: nlp_scaling_method=gradient-based\n",
      "linear_solver=ma27\n",
      "\n",
      "\n",
      "******************************************************************************\n",
      "This program contains Ipopt, a library for large-scale nonlinear optimization.\n",
      " Ipopt is released as open source code under the Eclipse Public License (EPL).\n",
      "         For more information visit http://projects.coin-or.org/Ipopt\n",
      "******************************************************************************\n",
      "\n",
      "This is Ipopt version 3.12, running with linear solver ma27.\n",
      "\n",
      "Number of nonzeros in equality constraint Jacobian...:     6004\n",
      "Number of nonzeros in inequality constraint Jacobian.:        0\n",
      "Number of nonzeros in Lagrangian Hessian.............:      952\n",
      "\n",
      "Total number of variables............................:     1206\n",
      "                     variables with only lower bounds:        0\n",
      "                variables with lower and upper bounds:        2\n",
      "                     variables with only upper bounds:        0\n",
      "Total number of equality constraints.................:     1204\n",
      "Total number of inequality constraints...............:        0\n",
      "        inequality constraints with only lower bounds:        0\n",
      "   inequality constraints with lower and upper bounds:        0\n",
      "        inequality constraints with only upper bounds:        0\n",
      "\n",
      "iter    objective    inf_pr   inf_du lg(mu)  ||d||  lg(rg) alpha_du alpha_pr  ls\n",
      "   0  2.8611760e+01 1.00e+00 1.34e-01  -1.0 0.00e+00    -  0.00e+00 0.00e+00   0\n",
      "   1  1.2058275e+00 1.50e-01 3.83e+00  -1.0 1.23e+00    -  7.52e-01 1.00e+00f  1\n",
      "   2  5.5094168e-01 3.58e-01 1.09e+00  -1.0 2.52e+00    -  1.00e+00 1.00e+00h  1\n",
      "   3  2.8688540e-01 7.27e-02 4.26e+00  -1.0 9.23e-01   0.0 1.00e+00 1.00e+00h  1\n",
      "   4  4.2993467e-01 3.59e-02 2.31e+00  -1.0 1.77e+00    -  6.22e-01 5.00e-01h  2\n",
      "   5  2.7174257e-01 1.50e-03 1.57e-01  -1.0 1.60e-01  -0.5 1.00e+00 1.00e+00h  1\n",
      "   6  1.6747811e-01 2.24e-02 3.62e-02  -2.5 5.71e-01    -  8.44e-01 1.00e+00h  1\n",
      "   7  1.5733725e-01 4.18e-03 1.92e-03  -2.5 1.24e-01    -  1.00e+00 1.00e+00h  1\n",
      "   8  1.5697006e-01 7.12e-06 3.15e-05  -3.8 3.67e-03    -  1.00e+00 1.00e+00h  1\n",
      "   9  1.5697454e-01 3.68e-08 2.80e-08  -5.7 6.56e-04    -  1.00e+00 1.00e+00h  1\n",
      "iter    objective    inf_pr   inf_du lg(mu)  ||d||  lg(rg) alpha_du alpha_pr  ls\n",
      "  10  1.5697453e-01 4.28e-12 3.02e-12  -8.6 8.18e-06    -  1.00e+00 1.00e+00h  1\n",
      "\n",
      "Number of Iterations....: 10\n",
      "\n",
      "                                   (scaled)                 (unscaled)\n",
      "Objective...............:   1.5697453473436215e-01    1.5697453473436215e-01\n",
      "Dual infeasibility......:   3.0248306354592389e-12    3.0248306354592389e-12\n",
      "Constraint violation....:   4.2812420275595287e-12    4.2812420275595287e-12\n",
      "Complementarity.........:   2.5124036686231733e-09    2.5124036686231733e-09\n",
      "Overall NLP error.......:   2.5124036686231733e-09    2.5124036686231733e-09\n",
      "\n",
      "\n",
      "Number of objective function evaluations             = 13\n",
      "Number of objective gradient evaluations             = 11\n",
      "Number of equality constraint evaluations            = 13\n",
      "Number of inequality constraint evaluations          = 0\n",
      "Number of equality constraint Jacobian evaluations   = 11\n",
      "Number of inequality constraint Jacobian evaluations = 0\n",
      "Number of Lagrangian Hessian evaluations             = 10\n",
      "Total CPU secs in IPOPT (w/o function evaluations)   =      0.044\n",
      "Total CPU secs in NLP function evaluations           =      0.004\n",
      "\n",
      "EXIT: Optimal Solution Found.\n",
      "\n",
      "SOLVING PARAMETER ESTIMATION FOR MULTIPLE DATASETS\n",
      "\n",
      "Fixed parameters are:  set()\n"
     ]
    }
   ],
   "source": [
    "kipet_model.run_opt()"
   ]
  },
  {
   "cell_type": "code",
   "execution_count": 63,
   "metadata": {},
   "outputs": [
    {
     "name": "stdout",
     "output_type": "stream",
     "text": [
      "\n",
      "The estimated parameters are:\n",
      "k1 1.0223979403762462\n",
      "k2 1.9601640233570587\n",
      "\n",
      "The estimated parameters are:\n",
      "k1 1.0223979403762462\n",
      "k2 1.9601640233570587\n"
     ]
    }
   ],
   "source": [
    "for model, results in kipet_model.results.items():\n",
    "     results.show_parameters"
   ]
  },
  {
   "cell_type": "code",
   "execution_count": 64,
   "metadata": {},
   "outputs": [
    {
     "data": {
      "text/plain": [
       "<matplotlib.legend.Legend at 0x7fccd7435e80>"
      ]
     },
     "execution_count": 64,
     "metadata": {},
     "output_type": "execute_result"
    },
    {
     "data": {
      "image/png": "[encoded data removed]",
      "text/plain": [
       "<Figure size 432x288 with 1 Axes>"
      ]
     },
     "metadata": {
      "needs_background": "light"
     },
     "output_type": "display_data"
    }
   ],
   "source": [
    "rxn = 'reaction1'\n",
    "fig, ax = plt.subplots()\n",
    "for c in ['A', 'B', 'C', 'D']:\n",
    "    res = kipet_model.results[rxn]\n",
    "    ax.plot(res.Z.index, res.Z[c], label = c)\n",
    "    ax.scatter(r1.datasets['C_data_1'].data.index, r1.datasets['C_data_1'].data[c], label = c)\n",
    "ax.legend()"
   ]
  },
  {
   "cell_type": "code",
   "execution_count": 65,
   "metadata": {},
   "outputs": [
    {
     "data": {
      "text/plain": [
       "<matplotlib.legend.Legend at 0x7fccc49da358>"
      ]
     },
     "execution_count": 65,
     "metadata": {},
     "output_type": "execute_result"
    },
    {
     "data": {
      "image/png": "[encoded data removed]",
      "text/plain": [
       "<Figure size 432x288 with 1 Axes>"
      ]
     },
     "metadata": {
      "needs_background": "light"
     },
     "output_type": "display_data"
    }
   ],
   "source": [
    "rxn = 'reaction_2'\n",
    "fig, ax = plt.subplots()\n",
    "for c in ['A', 'B', 'C', 'D']:\n",
    "    res = kipet_model.results[rxn]\n",
    "    ax.plot(res.Z.index, res.Z[c], label = c)\n",
    "    ax.scatter(r2.datasets['C_data_2'].data.index, r2.datasets['C_data_2'].data[c], label = c)\n",
    "ax.legend()"
   ]
  },
  {
   "cell_type": "code",
   "execution_count": null,
   "metadata": {},
   "outputs": [],
   "source": []
  }
 ],
 "metadata": {
  "kernelspec": {
   "display_name": "Python 3",
   "language": "python",
   "name": "python3"
  },
  "language_info": {
   "codemirror_mode": {
    "name": "ipython",
    "version": 3
   },
   "file_extension": ".py",
   "mimetype": "text/x-python",
   "name": "python",
   "nbconvert_exporter": "python",
   "pygments_lexer": "ipython3",
   "version": "3.7.3"
  }
 },
 "nbformat": 4,
 "nbformat_minor": 2
}
