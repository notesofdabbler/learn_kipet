{
 "cells": [
  {
   "cell_type": "code",
   "execution_count": 1,
   "id": "alike-beijing",
   "metadata": {},
   "outputs": [],
   "source": [
    "# https://github.com/kwmcbride/kipet_examples/blob/master/examples/example_1/Ex_1_ode_sim.py"
   ]
  },
  {
   "cell_type": "code",
   "execution_count": 2,
   "id": "flexible-kenya",
   "metadata": {},
   "outputs": [],
   "source": [
    "import sys\n",
    "import kipet\n",
    "import pandas as pd\n",
    "import altair as alt"
   ]
  },
  {
   "cell_type": "code",
   "execution_count": 3,
   "id": "clean-momentum",
   "metadata": {},
   "outputs": [],
   "source": [
    "r1 = kipet.ReactionModel('reaction1')"
   ]
  },
  {
   "cell_type": "code",
   "execution_count": 4,
   "id": "possible-professor",
   "metadata": {},
   "outputs": [],
   "source": [
    "k1 = r1.parameter('k1', value = 2.0)\n",
    "k2 = r1.parameter('k2', value = 0.2)"
   ]
  },
  {
   "cell_type": "code",
   "execution_count": 5,
   "id": "egyptian-divorce",
   "metadata": {},
   "outputs": [],
   "source": [
    "A = r1.component('A', value = 1.0)\n",
    "B = r1.component('B', value = 0.5)\n",
    "C = r1.component('C', value = 0.0)"
   ]
  },
  {
   "cell_type": "code",
   "execution_count": 6,
   "id": "entitled-burlington",
   "metadata": {},
   "outputs": [],
   "source": [
    "rA = r1.add_reaction('rA', k1 * A)\n",
    "rB = r1.add_reaction('rB', k2 * B)"
   ]
  },
  {
   "cell_type": "code",
   "execution_count": 7,
   "id": "billion-virtue",
   "metadata": {},
   "outputs": [
    {
     "data": {
      "text/plain": [
       "<pyomo.core.expr.numeric_expr.ProductExpression at 0x7f1ea3f5bfd0>"
      ]
     },
     "execution_count": 7,
     "metadata": {},
     "output_type": "execute_result"
    }
   ],
   "source": [
    "r1.add_ode('A', -rA)\n",
    "r1.add_ode('B', rA - rB)\n",
    "r1.add_ode('C', rB)"
   ]
  },
  {
   "cell_type": "code",
   "execution_count": 8,
   "id": "printable-rental",
   "metadata": {},
   "outputs": [],
   "source": [
    "r1.add_dosing_point('A', time=3, conc=(2, 'M'), vol=(200, 'mL'))\n",
    "r1.add_dosing_point('A', time=5, conc=(3, 'M'), vol=(0.33, 'L'))"
   ]
  },
  {
   "cell_type": "code",
   "execution_count": 9,
   "id": "proper-report",
   "metadata": {},
   "outputs": [],
   "source": [
    "r1.set_time(10)"
   ]
  },
  {
   "cell_type": "code",
   "execution_count": 10,
   "id": "baking-transcript",
   "metadata": {},
   "outputs": [],
   "source": [
    "r1.settings.nfe = 3\n",
    "r1.settings.collocation.nfe = 50\n",
    "r1.settings.simulator.tee = True\n",
    "r1.settings.solver.linear_solver = 'ma27'"
   ]
  },
  {
   "cell_type": "code",
   "execution_count": 11,
   "id": "destroyed-clear",
   "metadata": {},
   "outputs": [
    {
     "name": "stdout",
     "output_type": "stream",
     "text": [
      "# Simulator: Setting up simulation model\n",
      "# TemplateBuilder: Preparing model for simulator\n",
      "# Simulator: Finished creating simulator\n",
      "Ipopt 3.12: \n",
      "\n",
      "******************************************************************************\n",
      "This program contains Ipopt, a library for large-scale nonlinear optimization.\n",
      " Ipopt is released as open source code under the Eclipse Public License (EPL).\n",
      "         For more information visit http://projects.coin-or.org/Ipopt\n",
      "******************************************************************************\n",
      "\n",
      "This is Ipopt version 3.12, running with linear solver ma27.\n",
      "\n",
      "Number of nonzeros in equality constraint Jacobian...:     4824\n",
      "Number of nonzeros in inequality constraint Jacobian.:        0\n",
      "Number of nonzeros in Lagrangian Hessian.............:        0\n",
      "\n",
      "Total number of variables............................:     1514\n",
      "                     variables with only lower bounds:        0\n",
      "                variables with lower and upper bounds:        0\n",
      "                     variables with only upper bounds:        0\n",
      "Total number of equality constraints.................:     1514\n",
      "Total number of inequality constraints...............:        0\n",
      "        inequality constraints with only lower bounds:        0\n",
      "   inequality constraints with lower and upper bounds:        0\n",
      "        inequality constraints with only upper bounds:        0\n",
      "\n",
      "iter    objective    inf_pr   inf_du lg(mu)  ||d||  lg(rg) alpha_du alpha_pr  ls\n",
      "   0  0.0000000e+00 3.97e+01 0.00e+00  -1.0 0.00e+00    -  0.00e+00 0.00e+00   0\n",
      "   1  0.0000000e+00 1.54e-14 0.00e+00  -1.0 1.73e+00    -  1.00e+00 1.00e+00h  1\n",
      "\n",
      "Number of Iterations....: 1\n",
      "\n",
      "                                   (scaled)                 (unscaled)\n",
      "Objective...............:   0.0000000000000000e+00    0.0000000000000000e+00\n",
      "Dual infeasibility......:   0.0000000000000000e+00    0.0000000000000000e+00\n",
      "Constraint violation....:   1.5376588891058418e-14    1.5376588891058418e-14\n",
      "Complementarity.........:   0.0000000000000000e+00    0.0000000000000000e+00\n",
      "Overall NLP error.......:   1.5376588891058418e-14    1.5376588891058418e-14\n",
      "\n",
      "\n",
      "Number of objective function evaluations             = 2\n",
      "Number of objective gradient evaluations             = 2\n",
      "Number of equality constraint evaluations            = 2\n",
      "Number of inequality constraint evaluations          = 0\n",
      "Number of equality constraint Jacobian evaluations   = 2\n",
      "Number of inequality constraint Jacobian evaluations = 0\n",
      "Number of Lagrangian Hessian evaluations             = 1\n",
      "Total CPU secs in IPOPT (w/o function evaluations)   =      0.004\n",
      "Total CPU secs in NLP function evaluations           =      0.000\n",
      "\n",
      "EXIT: Optimal Solution Found.\n"
     ]
    }
   ],
   "source": [
    "r1.simulate()"
   ]
  },
  {
   "cell_type": "code",
   "execution_count": 13,
   "id": "sharp-maine",
   "metadata": {},
   "outputs": [],
   "source": [
    "Zdf = r1.results_dict['simulator'].Z.reset_index()"
   ]
  },
  {
   "cell_type": "code",
   "execution_count": 14,
   "id": "stuck-danger",
   "metadata": {},
   "outputs": [],
   "source": [
    "Zdfg = pd.melt(Zdf, id_vars = 'index', value_vars = ['A', 'B', 'C'])"
   ]
  },
  {
   "cell_type": "code",
   "execution_count": 15,
   "id": "arabic-monday",
   "metadata": {
    "scrolled": true
   },
   "outputs": [
    {
     "data": {
      "text/html": [
       "\n",
       "<div id=\"altair-viz-0e6f1ce00917443eafdf614b521d9209\"></div>\n",
       "<script type=\"text/javascript\">\n",
       "  (function(spec, embedOpt){\n",
       "    let outputDiv = document.currentScript.previousElementSibling;\n",
       "    if (outputDiv.id !== \"altair-viz-0e6f1ce00917443eafdf614b521d9209\") {\n",
       "      outputDiv = document.getElementById(\"altair-viz-0e6f1ce00917443eafdf614b521d9209\");\n",
       "    }\n",
       "    const paths = {\n",
       "      \"vega\": \"https://cdn.jsdelivr.net/npm//vega@5?noext\",\n",
       "      \"vega-lib\": \"https://cdn.jsdelivr.net/npm//vega-lib?noext\",\n",
       "      \"vega-lite\": \"https://cdn.jsdelivr.net/npm//vega-lite@4.8.1?noext\",\n",
       "      \"vega-embed\": \"https://cdn.jsdelivr.net/npm//vega-embed@6?noext\",\n",
       "    };\n",
       "\n",
       "    function loadScript(lib) {\n",
       "      return new Promise(function(resolve, reject) {\n",
       "        var s = document.createElement('script');\n",
       "        s.src = paths[lib];\n",
       "        s.async = true;\n",
       "        s.onload = () => resolve(paths[lib]);\n",
       "        s.onerror = () => reject(`Error loading script: ${paths[lib]}`);\n",
       "        document.getElementsByTagName(\"head\")[0].appendChild(s);\n",
       "      });\n",
       "    }\n",
       "\n",
       "    function showError(err) {\n",
       "      outputDiv.innerHTML = `<div class=\"error\" style=\"color:red;\">${err}</div>`;\n",
       "      throw err;\n",
       "    }\n",
       "\n",
       "    function displayChart(vegaEmbed) {\n",
       "      vegaEmbed(outputDiv, spec, embedOpt)\n",
       "        .catch(err => showError(`Javascript Error: ${err.message}<br>This usually means there's a typo in your chart specification. See the javascript console for the full traceback.`));\n",
       "    }\n",
       "\n",
       "    if(typeof define === \"function\" && define.amd) {\n",
       "      requirejs.config({paths});\n",
       "      require([\"vega-embed\"], displayChart, err => showError(`Error loading script: ${err.message}`));\n",
       "    } else if (typeof vegaEmbed === \"function\") {\n",
       "      displayChart(vegaEmbed);\n",
       "    } else {\n",
       "      loadScript(\"vega\")\n",
       "        .then(() => loadScript(\"vega-lite\"))\n",
       "        .then(() => loadScript(\"vega-embed\"))\n",
       "        .catch(showError)\n",
       "        .then(() => displayChart(vegaEmbed));\n",
       "    }\n",
       "  })({\"config\": {\"view\": {\"continuousWidth\": 400, \"continuousHeight\": 300}}, \"data\": {\"name\": \"data-97ec6936ddf39fccd3d09583e7bdc9ea\"}, \"mark\": \"line\", \"encoding\": {\"color\": {\"type\": \"nominal\", \"field\": \"variable\"}, \"x\": {\"type\": \"quantitative\", \"field\": \"index\"}, \"y\": {\"type\": \"quantitative\", \"field\": \"value\"}}, \"$schema\": \"https://vega.github.io/schema/vega-lite/v4.8.1.json\", \"datasets\": {\"data-97ec6936ddf39fccd3d09583e7bdc9ea\": [{\"index\": 0.0, \"variable\": \"A\", \"value\": 1.0}, {\"index\": 0.029072, \"variable\": \"A\", \"value\": 0.9435311587298062}, {\"index\": 0.120928, \"variable\": \"A\", \"value\": 0.7851555042821752}, {\"index\": 0.1875, \"variable\": \"A\", \"value\": 0.6872895293288414}, {\"index\": 0.216572, \"variable\": \"A\", \"value\": 0.648479085990505}, {\"index\": 0.308428, \"variable\": \"A\", \"value\": 0.5396291569880454}, {\"index\": 0.375, \"variable\": \"A\", \"value\": 0.4723668971250602}, {\"index\": 0.404072, \"variable\": \"A\", \"value\": 0.44569288579001126}, {\"index\": 0.495928, \"variable\": \"A\", \"value\": 0.3708814693184331}, {\"index\": 0.5625, \"variable\": \"A\", \"value\": 0.32465282239560783}, {\"index\": 0.591572, \"variable\": \"A\", \"value\": 0.3063200536998299}, {\"index\": 0.683428, \"variable\": \"A\", \"value\": 0.254902950484655}, {\"index\": 0.75, \"variable\": \"A\", \"value\": 0.2231304854995573}, {\"index\": 0.779072, \"variable\": \"A\", \"value\": 0.21053056553134153}, {\"index\": 0.870928, \"variable\": \"A\", \"value\": 0.17519212886313149}, {\"index\": 0.9375, \"variable\": \"A\", \"value\": 0.15335524635790654}, {\"index\": 0.966572, \"variable\": \"A\", \"value\": 0.14469545329337047}, {\"index\": 1.058428, \"variable\": \"A\", \"value\": 0.12040771578845935}, {\"index\": 1.125, \"variable\": \"A\", \"value\": 0.10539945508943413}, {\"index\": 1.154072, \"variable\": \"A\", \"value\": 0.09944766999002397}, {\"index\": 1.245928, \"variable\": \"A\", \"value\": 0.08275496231181112}, {\"index\": 1.3125, \"variable\": \"A\", \"value\": 0.07243994187993354}, {\"index\": 1.341572, \"variable\": \"A\", \"value\": 0.0683493423002935}, {\"index\": 1.433428, \"variable\": \"A\", \"value\": 0.05687661909691068}, {\"index\": 1.5, \"variable\": \"A\", \"value\": 0.04978721355926815}, {\"index\": 1.529072, \"variable\": \"A\", \"value\": 0.0469757872995046}, {\"index\": 1.620928, \"variable\": \"A\", \"value\": 0.03909070476893154}, {\"index\": 1.6875, \"variable\": \"A\", \"value\": 0.03421823057374392}, {\"index\": 1.716572, \"variable\": \"A\", \"value\": 0.03228596674292828}, {\"index\": 1.808428, \"variable\": \"A\", \"value\": 0.026866632081771653}, {\"index\": 1.875, \"variable\": \"A\", \"value\": 0.023517831585494222}, {\"index\": 1.904072, \"variable\": \"A\", \"value\": 0.022189806886673803}, {\"index\": 1.995928, \"variable\": \"A\", \"value\": 0.018465154918131988}, {\"index\": 2.0625, \"variable\": \"A\", \"value\": 0.016163559401229283}, {\"index\": 2.091572, \"variable\": \"A\", \"value\": 0.01525082193103992}, {\"index\": 2.183428, \"variable\": \"A\", \"value\": 0.012690907632667071}, {\"index\": 2.25, \"variable\": \"A\", \"value\": 0.011109045133149642}, {\"index\": 2.279072, \"variable\": \"A\", \"value\": 0.010481730226862399}, {\"index\": 2.370928, \"variable\": \"A\", \"value\": 0.008722327933611553}, {\"index\": 2.4375, \"variable\": \"A\", \"value\": 0.007635130400855273}, {\"index\": 2.466572, \"variable\": \"A\", \"value\": 0.007203983434172146}, {\"index\": 2.558428, \"variable\": \"A\", \"value\": 0.0059947646601436885}, {\"index\": 2.625, \"variable\": \"A\", \"value\": 0.005247545179568148}, {\"index\": 2.654072, \"variable\": \"A\", \"value\": 0.004951222383764944}, {\"index\": 2.745928, \"variable\": \"A\", \"value\": 0.004120138981707327}, {\"index\": 2.8125, \"variable\": \"A\", \"value\": 0.003606582856597222}, {\"index\": 2.841572, \"variable\": \"A\", \"value\": 0.0034029233017402317}, {\"index\": 2.933428, \"variable\": \"A\", \"value\": 0.0028317283815070394}, {\"index\": 3.0, \"variable\": \"A\", \"value\": 0.0024787666339961723}, {\"index\": 3.038763, \"variable\": \"A\", \"value\": 0.3107784460250538}, {\"index\": 3.161237, \"variable\": \"A\", \"value\": 0.2432331801730059}, {\"index\": 3.25, \"variable\": \"A\", \"value\": 0.20368074492575672}, {\"index\": 3.288763, \"variable\": \"A\", \"value\": 0.1884970356917117}, {\"index\": 3.411237, \"variable\": \"A\", \"value\": 0.1475286784875148}, {\"index\": 3.5, \"variable\": \"A\", \"value\": 0.12353886550706818}, {\"index\": 3.538763, \"variable\": \"A\", \"value\": 0.11432946177257747}, {\"index\": 3.661237, \"variable\": \"A\", \"value\": 0.08948084698309575}, {\"index\": 3.75, \"variable\": \"A\", \"value\": 0.07493026057193848}, {\"index\": 3.788763, \"variable\": \"A\", \"value\": 0.06934446359456466}, {\"index\": 3.911237, \"variable\": \"A\", \"value\": 0.05427298650607656}, {\"index\": 4.0, \"variable\": \"A\", \"value\": 0.04544759194876501}, {\"index\": 4.038763, \"variable\": \"A\", \"value\": 0.042059627996703146}, {\"index\": 4.161237, \"variable\": \"A\", \"value\": 0.03291829663665598}, {\"index\": 4.25, \"variable\": \"A\", \"value\": 0.02756541346814666}, {\"index\": 4.288763, \"variable\": \"A\", \"value\": 0.025510505316818317}, {\"index\": 4.411237, \"variable\": \"A\", \"value\": 0.01996599640481461}, {\"index\": 4.5, \"variable\": \"A\", \"value\": 0.016719302103541476}, {\"index\": 4.538763, \"variable\": \"A\", \"value\": 0.015472934795581829}, {\"index\": 4.661237, \"variable\": \"A\", \"value\": 0.012110013371504939}, {\"index\": 4.75, \"variable\": \"A\", \"value\": 0.010140789767311285}, {\"index\": 4.788763, \"variable\": \"A\", \"value\": 0.009384828258595483}, {\"index\": 4.911237, \"variable\": \"A\", \"value\": 0.007345109198890998}, {\"index\": 5.0, \"variable\": \"A\", \"value\": 0.006150712300546484}, {\"index\": 5.024227, \"variable\": \"A\", \"value\": 0.7150201873081559}, {\"index\": 5.100773, \"variable\": \"A\", \"value\": 0.6135122056876537}, {\"index\": 5.15625, \"variable\": \"A\", \"value\": 0.5490860945363402}, {\"index\": 5.180477, \"variable\": \"A\", \"value\": 0.5231200084702694}, {\"index\": 5.257023, \"variable\": \"A\", \"value\": 0.4488551735080198}, {\"index\": 5.3125, \"variable\": \"A\", \"value\": 0.4017200178726773}, {\"index\": 5.336727, \"variable\": \"A\", \"value\": 0.3827228211446238}, {\"index\": 5.413273, \"variable\": \"A\", \"value\": 0.32838950051384275}, {\"index\": 5.46875, \"variable\": \"A\", \"value\": 0.2939046797313196}, {\"index\": 5.492977, \"variable\": \"A\", \"value\": 0.2800060319872556}, {\"index\": 5.569523, \"variable\": \"A\", \"value\": 0.24025492054577896}, {\"index\": 5.625, \"variable\": \"A\", \"value\": 0.21502528359278122}, {\"index\": 5.649227, \"variable\": \"A\", \"value\": 0.20485681442973286}, {\"index\": 5.725773, \"variable\": \"A\", \"value\": 0.17577427644957658}, {\"index\": 5.78125, \"variable\": \"A\", \"value\": 0.15731587746892525}, {\"index\": 5.805477, \"variable\": \"A\", \"value\": 0.14987646559059878}, {\"index\": 5.882023, \"variable\": \"A\", \"value\": 0.12859922365454754}, {\"index\": 5.9375, \"variable\": \"A\", \"value\": 0.11509476881186984}, {\"index\": 5.961727, \"variable\": \"A\", \"value\": 0.10965197814122439}, {\"index\": 6.038273, \"variable\": \"A\", \"value\": 0.09408521348285243}, {\"index\": 6.09375, \"variable\": \"A\", \"value\": 0.08420514204279486}, {\"index\": 6.117977, \"variable\": \"A\", \"value\": 0.08022311083267064}, {\"index\": 6.194523, \"variable\": \"A\", \"value\": 0.06883422111390711}, {\"index\": 6.25, \"variable\": \"A\", \"value\": 0.061605805543057904}, {\"index\": 6.274227, \"variable\": \"A\", \"value\": 0.05869248891599699}, {\"index\": 6.350773, \"variable\": \"A\", \"value\": 0.05036019817526173}, {\"index\": 6.40625, \"variable\": \"A\", \"value\": 0.04507177571982746}, {\"index\": 6.430477, \"variable\": \"A\", \"value\": 0.04294034748090997}, {\"index\": 6.507023, \"variable\": \"A\", \"value\": 0.03684431259932187}, {\"index\": 6.5625, \"variable\": \"A\", \"value\": 0.032975219601967296}, {\"index\": 6.586727, \"variable\": \"A\", \"value\": 0.03141583319835551}, {\"index\": 6.663273, \"variable\": \"A\", \"value\": 0.026955878255129455}, {\"index\": 6.71875, \"variable\": \"A\", \"value\": 0.024125188999811843}, {\"index\": 6.742977, \"variable\": \"A\", \"value\": 0.02298431739486196}, {\"index\": 6.819523, \"variable\": \"A\", \"value\": 0.01972134425215833}, {\"index\": 6.875, \"variable\": \"A\", \"value\": 0.017650367497231742}, {\"index\": 6.899227, \"variable\": \"A\", \"value\": 0.016815687897636517}, {\"index\": 6.975773, \"variable\": \"A\", \"value\": 0.014428445455607754}, {\"index\": 7.03125, \"variable\": \"A\", \"value\": 0.012913286307923403}, {\"index\": 7.055477, \"variable\": \"A\", \"value\": 0.012302621592492041}, {\"index\": 7.132023, \"variable\": \"A\", \"value\": 0.010556077496728678}, {\"index\": 7.1875, \"variable\": \"A\", \"value\": 0.009447563247425603}, {\"index\": 7.211727, \"variable\": \"A\", \"value\": 0.009000791342548919}, {\"index\": 7.288273, \"variable\": \"A\", \"value\": 0.007722992228080466}, {\"index\": 7.34375, \"variable\": \"A\", \"value\": 0.006911985778503229}, {\"index\": 7.367977, \"variable\": \"A\", \"value\": 0.006585120430067068}, {\"index\": 7.444523, \"variable\": \"A\", \"value\": 0.0056502625121381605}, {\"index\": 7.5, \"variable\": \"A\", \"value\": 0.005056917445379306}, {\"index\": 7.524227, \"variable\": \"A\", \"value\": 0.0048177776184517756}, {\"index\": 7.600773, \"variable\": \"A\", \"value\": 0.004133820870619839}, {\"index\": 7.65625, \"variable\": \"A\", \"value\": 0.003699720292960324}, {\"index\": 7.680477, \"variable\": \"A\", \"value\": 0.003524761836530067}, {\"index\": 7.757023, \"variable\": \"A\", \"value\": 0.003024368328668251}, {\"index\": 7.8125, \"variable\": \"A\", \"value\": 0.0027067735224053533}, {\"index\": 7.836727, \"variable\": \"A\", \"value\": 0.0025787711655008527}, {\"index\": 7.913273, \"variable\": \"A\", \"value\": 0.002212675409440295}, {\"index\": 7.96875, \"variable\": \"A\", \"value\": 0.001980318056890809}, {\"index\": 7.992977, \"variable\": \"A\", \"value\": 0.001886669520504467}, {\"index\": 8.069523, \"variable\": \"A\", \"value\": 0.0016188281106943245}, {\"index\": 8.125, \"variable\": \"A\", \"value\": 0.0014488318191330752}, {\"index\": 8.173453, \"variable\": \"A\", \"value\": 0.0013151809907075112}, {\"index\": 8.326547, \"variable\": \"A\", \"value\": 0.000968045424138226}, {\"index\": 8.4375, \"variable\": \"A\", \"value\": 0.0007755096615941531}, {\"index\": 8.485953, \"variable\": \"A\", \"value\": 0.0007039709865351625}, {\"index\": 8.639047, \"variable\": \"A\", \"value\": 0.0005181613002745971}, {\"index\": 8.75, \"variable\": \"A\", \"value\": 0.000415103552588831}, {\"index\": 8.798453, \"variable\": \"A\", \"value\": 0.0003768113692220353}, {\"index\": 8.951547, \"variable\": \"A\", \"value\": 0.0002773538579982211}, {\"index\": 9.0625, \"variable\": \"A\", \"value\": 0.00022219060303860366}, {\"index\": 9.110953, \"variable\": \"A\", \"value\": 0.00020169411906280726}, {\"index\": 9.264047, \"variable\": \"A\", \"value\": 0.00014845794640728908}, {\"index\": 9.375, \"variable\": \"A\", \"value\": 0.00011893096016829096}, {\"index\": 9.423453, \"variable\": \"A\", \"value\": 0.00010795989979949612}, {\"index\": 9.576547, \"variable\": \"A\", \"value\": 7.946441419830864e-05}, {\"index\": 9.6875, \"variable\": \"A\", \"value\": 6.365963768546107e-05}, {\"index\": 9.735953, \"variable\": \"A\", \"value\": 5.77872077722196e-05}, {\"index\": 9.889047, \"variable\": \"A\", \"value\": 4.253455794516041e-05}, {\"index\": 10.0, \"variable\": \"A\", \"value\": 3.407480663159277e-05}, {\"index\": 0.0, \"variable\": \"B\", \"value\": 0.5}, {\"index\": 0.029072, \"variable\": \"B\", \"value\": 0.5534026753710264}, {\"index\": 0.120928, \"variable\": \"B\", \"value\": 0.7002178643909694}, {\"index\": 0.1875, \"variable\": \"B\", \"value\": 0.7881581959632039}, {\"index\": 0.216572, \"variable\": \"B\", \"value\": 0.8222842110516222}, {\"index\": 0.308428, \"variable\": \"B\", \"value\": 0.9151439845918249}, {\"index\": 0.375, \"variable\": \"B\", \"value\": 0.9698457311692982}, {\"index\": 0.404072, \"variable\": \"B\", \"value\": 0.9908179505818415}, {\"index\": 0.495928, \"variable\": \"B\", \"value\": 1.046890824405576}, {\"index\": 0.5625, \"variable\": \"B\", \"value\": 1.0789592565702486}, {\"index\": 0.591572, \"variable\": \"B\", \"value\": 1.0909823699907752}, {\"index\": 0.683428, \"variable\": \"B\", \"value\": 1.1220571873633092}, {\"index\": 0.75, \"variable\": \"B\", \"value\": 1.1387734225763133}, {\"index\": 0.779072, \"variable\": \"B\", \"value\": 1.1447339066388917}, {\"index\": 0.870928, \"variable\": \"B\", \"value\": 1.1589025193482214}, {\"index\": 0.9375, \"variable\": \"B\", \"value\": 1.1652633055621868}, {\"index\": 0.966572, \"variable\": \"B\", \"value\": 1.1671417666353088}, {\"index\": 1.058428, \"variable\": \"B\", \"value\": 1.169955509276119}, {\"index\": 1.125, \"variable\": \"B\", \"value\": 1.1693878467936827}, {\"index\": 1.154072, \"variable\": \"B\", \"value\": 1.1685424153032515}, {\"index\": 1.245928, \"variable\": \"B\", \"value\": 1.1638069237237894}, {\"index\": 1.3125, \"variable\": \"B\", \"value\": 1.1586592071749704}, {\"index\": 1.341572, \"variable\": \"B\", \"value\": 1.1560203071677237}, {\"index\": 1.433428, \"variable\": \"B\", \"value\": 1.146341775169972}, {\"index\": 1.5, \"variable\": \"B\", \"value\": 1.138221340480559}, {\"index\": 1.529072, \"variable\": \"B\", \"value\": 1.1344255484796784}, {\"index\": 1.620928, \"variable\": \"B\", \"value\": 1.1215861511377239}, {\"index\": 1.6875, \"variable\": \"B\", \"value\": 1.1115912586158214}, {\"index\": 1.716572, \"variable\": \"B\", \"value\": 1.1070732993403831}, {\"index\": 1.808428, \"variable\": \"B\", \"value\": 1.0922892048097503}, {\"index\": 1.875, \"variable\": \"B\", \"value\": 1.081168469628022}, {\"index\": 1.904072, \"variable\": \"B\", \"value\": 1.0762244397671108}, {\"index\": 1.995928, \"variable\": \"B\", \"value\": 1.0603231258609793}, {\"index\": 2.0625, \"variable\": \"B\", \"value\": 1.0485850842272342}, {\"index\": 2.091572, \"variable\": \"B\", \"value\": 1.0434159017015907}, {\"index\": 2.183428, \"variable\": \"B\", \"value\": 1.0269580119286827}, {\"index\": 2.25, \"variable\": \"B\", \"value\": 1.0149464163585078}, {\"index\": 2.279072, \"variable\": \"B\", \"value\": 1.0096876789057991}, {\"index\": 2.370928, \"variable\": \"B\", \"value\": 0.9930507614948564}, {\"index\": 2.4375, \"variable\": \"B\", \"value\": 0.9809963223644267}, {\"index\": 2.466572, \"variable\": \"B\", \"value\": 0.975738825528821}, {\"index\": 2.558428, \"variable\": \"B\", \"value\": 0.9591748754467826}, {\"index\": 2.625, \"variable\": \"B\", \"value\": 0.9472308146187755}, {\"index\": 2.654072, \"variable\": \"B\", \"value\": 0.9420346501758404}, {\"index\": 2.745928, \"variable\": \"B\", \"value\": 0.9257096466204193}, {\"index\": 2.8125, \"variable\": \"B\", \"value\": 0.913976125564413}, {\"index\": 2.841572, \"variable\": \"B\", \"value\": 0.9088803679706341}, {\"index\": 2.933428, \"variable\": \"B\", \"value\": 0.8929014379286748}, {\"index\": 3.0, \"variable\": \"B\", \"value\": 0.8814423396746691}, {\"index\": 3.038763, \"variable\": \"B\", \"value\": 0.899569019716345}, {\"index\": 3.161237, \"variable\": \"B\", \"value\": 0.9444965643570087}, {\"index\": 3.25, \"variable\": \"B\", \"value\": 0.967068998142971}, {\"index\": 3.288763, \"variable\": \"B\", \"value\": 0.9747238172236921}, {\"index\": 3.411237, \"variable\": \"B\", \"value\": 0.9915905672564054}, {\"index\": 3.5, \"variable\": \"B\", \"value\": 0.9979136557479453}, {\"index\": 3.538763, \"variable\": \"B\", \"value\": 0.9993798257167422}, {\"index\": 3.661237, \"variable\": \"B\", \"value\": 0.9997332056917141}, {\"index\": 3.75, \"variable\": \"B\", \"value\": 0.9965598806473109}, {\"index\": 3.788763, \"variable\": \"B\", \"value\": 0.9944273681773981}, {\"index\": 3.911237, \"variable\": \"B\", \"value\": 0.9852465619882866}, {\"index\": 4.0, \"variable\": \"B\", \"value\": 0.9766551669650374}, {\"index\": 4.038763, \"variable\": \"B\", \"value\": 0.9724873133642985}, {\"index\": 4.161237, \"variable\": \"B\", \"value\": 0.9579819258018454}, {\"index\": 4.25, \"variable\": \"B\", \"value\": 0.9464294360390354}, {\"index\": 4.288763, \"variable\": \"B\", \"value\": 0.941167270113629}, {\"index\": 4.411237, \"variable\": \"B\", \"value\": 0.923868213698404}, {\"index\": 4.5, \"variable\": \"B\", \"value\": 0.9108290058713762}, {\"index\": 4.538763, \"variable\": \"B\", \"value\": 0.905036454595142}, {\"index\": 4.661237, \"variable\": \"B\", \"value\": 0.8864575513419147}, {\"index\": 4.75, \"variable\": \"B\", \"value\": 0.8728107981318137}, {\"index\": 4.788763, \"variable\": \"B\", \"value\": 0.8668233976389702}, {\"index\": 4.911237, \"variable\": \"B\", \"value\": 0.84786260846599}, {\"index\": 5.0, \"variable\": \"B\", \"value\": 0.834127207999848}, {\"index\": 5.024227, \"variable\": \"B\", \"value\": 0.8654994998009283}, {\"index\": 5.100773, \"variable\": \"B\", \"value\": 0.9530667401164936}, {\"index\": 5.15625, \"variable\": \"B\", \"value\": 1.0066134814808947}, {\"index\": 5.180477, \"variable\": \"B\", \"value\": 1.0276501245080212}, {\"index\": 5.257023, \"variable\": \"B\", \"value\": 1.0857231214188467}, {\"index\": 5.3125, \"variable\": \"B\", \"value\": 1.120612655568712}, {\"index\": 5.336727, \"variable\": \"B\", \"value\": 1.1341465170696887}, {\"index\": 5.413273, \"variable\": \"B\", \"value\": 1.1708254339595976}, {\"index\": 5.46875, \"variable\": \"B\", \"value\": 1.1921969315803023}, {\"index\": 5.492977, \"variable\": \"B\", \"value\": 1.200298770286014}, {\"index\": 5.569523, \"variable\": \"B\", \"value\": 1.2215041414810446}, {\"index\": 5.625, \"variable\": \"B\", \"value\": 1.2331134434295794}, {\"index\": 5.649227, \"variable\": \"B\", \"value\": 1.237296501269323}, {\"index\": 5.725773, \"variable\": \"B\", \"value\": 1.2473543847406228}, {\"index\": 5.78125, \"variable\": \"B\", \"value\": 1.2519453908538043}, {\"index\": 5.805477, \"variable\": \"B\", \"value\": 1.253315075780211}, {\"index\": 5.882023, \"variable\": \"B\", \"value\": 1.2553851546899302}, {\"index\": 5.9375, \"variable\": \"B\", \"value\": 1.2549615338338478}, {\"index\": 5.961727, \"variable\": \"B\", \"value\": 1.25432492846663}, {\"index\": 6.038273, \"variable\": \"B\", \"value\": 1.2507137117838683}, {\"index\": 6.09375, \"variable\": \"B\", \"value\": 1.2467376854747223}, {\"index\": 6.117977, \"variable\": \"B\", \"value\": 1.2446836637331644}, {\"index\": 6.194523, \"variable\": \"B\", \"value\": 1.2370736236835538}, {\"index\": 6.25, \"variable\": \"B\", \"value\": 1.2306113957015141}, {\"index\": 6.274227, \"variable\": \"B\", \"value\": 1.2275692358291321}, {\"index\": 6.350773, \"variable\": \"B\", \"value\": 1.2171864435657105}, {\"index\": 6.40625, \"variable\": \"B\", \"value\": 1.209014595049598}, {\"index\": 6.430477, \"variable\": \"B\", \"value\": 1.2052968603093805}, {\"index\": 6.507023, \"variable\": \"B\", \"value\": 1.193033626065837}, {\"index\": 6.5625, \"variable\": \"B\", \"value\": 1.1837169524475761}, {\"index\": 6.586727, \"variable\": \"B\", \"value\": 1.1795508618443353}, {\"index\": 6.663273, \"variable\": \"B\", \"value\": 1.1660554558060596}, {\"index\": 6.71875, \"variable\": \"B\", \"value\": 1.1560039102504724}, {\"index\": 6.742977, \"variable\": \"B\", \"value\": 1.1515542884212813}, {\"index\": 6.819523, \"variable\": \"B\", \"value\": 1.1372965774734094}, {\"index\": 6.875, \"variable\": \"B\", \"value\": 1.1268069284099662}, {\"index\": 6.899227, \"variable\": \"B\", \"value\": 1.122192994745381}, {\"index\": 6.975773, \"variable\": \"B\", \"value\": 1.1075124590348295}, {\"index\": 7.03125, \"variable\": \"B\", \"value\": 1.096798764376747}, {\"index\": 7.055477, \"variable\": \"B\", \"value\": 1.092106414868877}, {\"index\": 7.132023, \"variable\": \"B\", \"value\": 1.0772472732940657}, {\"index\": 7.1875, \"variable\": \"B\", \"value\": 1.066463172865026}, {\"index\": 7.211727, \"variable\": \"B\", \"value\": 1.0617539644048397}, {\"index\": 7.288273, \"variable\": \"B\", \"value\": 1.046890868922937}, {\"index\": 7.34375, \"variable\": \"B\", \"value\": 1.0361458910479155}, {\"index\": 7.367977, \"variable\": \"B\", \"value\": 1.0314636132224468}, {\"index\": 7.444523, \"variable\": \"B\", \"value\": 1.0167204432799692}, {\"index\": 7.5, \"variable\": \"B\", \"value\": 1.0060919321336217}, {\"index\": 7.524227, \"variable\": \"B\", \"value\": 1.001467414038819}, {\"index\": 7.600773, \"variable\": \"B\", \"value\": 0.9869310230648815}, {\"index\": 7.65625, \"variable\": \"B\", \"value\": 0.9764728621837758}, {\"index\": 7.680477, \"variable\": \"B\", \"value\": 0.9719274879845053}, {\"index\": 7.757023, \"variable\": \"B\", \"value\": 0.9576577568509087}, {\"index\": 7.8125, \"variable\": \"B\", \"value\": 0.9474067487526503}, {\"index\": 7.836727, \"variable\": \"B\", \"value\": 0.9429550285781185}, {\"index\": 7.913273, \"variable\": \"B\", \"value\": 0.9289922172918649}, {\"index\": 7.96875, \"variable\": \"B\", \"value\": 0.9189727483463925}, {\"index\": 7.992977, \"variable\": \"B\", \"value\": 0.9146241980892947}, {\"index\": 8.069523, \"variable\": \"B\", \"value\": 0.9009943209395297}, {\"index\": 8.125, \"variable\": \"B\", \"value\": 0.8912217717826567}, {\"index\": 8.173453, \"variable\": \"B\", \"value\": 0.8827599216881034}, {\"index\": 8.326547, \"variable\": \"B\", \"value\": 0.8564822476747977}, {\"index\": 8.4375, \"variable\": \"B\", \"value\": 0.8378759763667327}, {\"index\": 8.485953, \"variable\": \"B\", \"value\": 0.8298667875644736}, {\"index\": 8.639047, \"variable\": \"B\", \"value\": 0.8050253151141018}, {\"index\": 8.75, \"variable\": \"B\", \"value\": 0.7874598820605682}, {\"index\": 8.798453, \"variable\": \"B\", \"value\": 0.7799038208299245}, {\"index\": 8.951547, \"variable\": \"B\", \"value\": 0.7564839787378352}, {\"index\": 9.0625, \"variable\": \"B\", \"value\": 0.7399365030960782}, {\"index\": 9.110953, \"variable\": \"B\", \"value\": 0.732821045257776}, {\"index\": 9.264047, \"variable\": \"B\", \"value\": 0.7107754779866094}, {\"index\": 9.375, \"variable\": \"B\", \"value\": 0.6952057919941856}, {\"index\": 9.423453, \"variable\": \"B\", \"value\": 0.6885122339480203}, {\"index\": 9.576547, \"variable\": \"B\", \"value\": 0.6677784342201771}, {\"index\": 9.6875, \"variable\": \"B\", \"value\": 0.6531388086370196}, {\"index\": 9.735953, \"variable\": \"B\", \"value\": 0.6468458661855776}, {\"index\": 9.889047, \"variable\": \"B\", \"value\": 0.6273554678997925}, {\"index\": 10.0, \"variable\": \"B\", \"value\": 0.6135957152119437}, {\"index\": 0.0, \"variable\": \"C\", \"value\": 0.0}, {\"index\": 0.029072, \"variable\": \"C\", \"value\": 0.003066165899167389}, {\"index\": 0.120928, \"variable\": \"C\", \"value\": 0.014626631326854378}, {\"index\": 0.1875, \"variable\": \"C\", \"value\": 0.024552274707951627}, {\"index\": 0.216572, \"variable\": \"C\", \"value\": 0.029236702957870175}, {\"index\": 0.308428, \"variable\": \"C\", \"value\": 0.04522685842012586}, {\"index\": 0.375, \"variable\": \"C\", \"value\": 0.057787371705635415}, {\"index\": 0.404072, \"variable\": \"C\", \"value\": 0.06348916362814139}, {\"index\": 0.495928, \"variable\": \"C\", \"value\": 0.08222770627598419}, {\"index\": 0.5625, \"variable\": \"C\", \"value\": 0.09638792103413452}, {\"index\": 0.591572, \"variable\": \"C\", \"value\": 0.10269757630938581}, {\"index\": 0.683428, \"variable\": \"C\", \"value\": 0.12303986215202523}, {\"index\": 0.75, \"variable\": \"C\", \"value\": 0.13809609192411654}, {\"index\": 0.779072, \"variable\": \"C\", \"value\": 0.14473552782975374}, {\"index\": 0.870928, \"variable\": \"C\", \"value\": 0.16590535178863308}, {\"index\": 0.9375, \"variable\": \"C\", \"value\": 0.18138144807989032}, {\"index\": 0.966572, \"variable\": \"C\", \"value\": 0.1881627800713046}, {\"index\": 1.058428, \"variable\": \"C\", \"value\": 0.20963677493540445}, {\"index\": 1.125, \"variable\": \"C\", \"value\": 0.22521269811686362}, {\"index\": 1.154072, \"variable\": \"C\", \"value\": 0.23200991470670518}, {\"index\": 1.245928, \"variable\": \"C\", \"value\": 0.2534381139643791}, {\"index\": 1.3125, \"variable\": \"C\", \"value\": 0.26890085094507343}, {\"index\": 1.341572, \"variable\": \"C\", \"value\": 0.2756303505319604}, {\"index\": 1.433428, \"variable\": \"C\", \"value\": 0.2967816057330943}, {\"index\": 1.5, \"variable\": \"C\", \"value\": 0.3119914459601483}, {\"index\": 1.529072, \"variable\": \"C\", \"value\": 0.3185986642207921}, {\"index\": 1.620928, \"variable\": \"C\", \"value\": 0.3393231440933189}, {\"index\": 1.6875, \"variable\": \"C\", \"value\": 0.35419051081040664}, {\"index\": 1.716572, \"variable\": \"C\", \"value\": 0.3606407339166604}, {\"index\": 1.808428, \"variable\": \"C\", \"value\": 0.38084416310844893}, {\"index\": 1.875, \"variable\": \"C\", \"value\": 0.3953136987864527}, {\"index\": 1.904072, \"variable\": \"C\", \"value\": 0.4015857533461844}, {\"index\": 1.995928, \"variable\": \"C\", \"value\": 0.42121171922085665}, {\"index\": 2.0625, \"variable\": \"C\", \"value\": 0.43525135637150236}, {\"index\": 2.091572, \"variable\": \"C\", \"value\": 0.4413332763673352}, {\"index\": 2.183428, \"variable\": \"C\", \"value\": 0.46035108043861483}, {\"index\": 2.25, \"variable\": \"C\", \"value\": 0.473944538508305}, {\"index\": 2.279072, \"variable\": \"C\", \"value\": 0.47983059086730084}, {\"index\": 2.370928, \"variable\": \"C\", \"value\": 0.4982269105714936}, {\"index\": 2.4375, \"variable\": \"C\", \"value\": 0.5113685472346774}, {\"index\": 2.466572, \"variable\": \"C\", \"value\": 0.5170571910369663}, {\"index\": 2.558428, \"variable\": \"C\", \"value\": 0.534830359893032}, {\"index\": 2.625, \"variable\": \"C\", \"value\": 0.5475216402016124}, {\"index\": 2.654072, \"variable\": \"C\", \"value\": 0.5530141274403508}, {\"index\": 2.745928, \"variable\": \"C\", \"value\": 0.5701702143978283}, {\"index\": 2.8125, \"variable\": \"C\", \"value\": 0.5824172915789425}, {\"index\": 2.841572, \"variable\": \"C\", \"value\": 0.5877167087275784}, {\"index\": 2.933428, \"variable\": \"C\", \"value\": 0.6042668336897701}, {\"index\": 3.0, \"variable\": \"C\", \"value\": 0.6160788936912842}, {\"index\": 3.038763, \"variable\": \"C\", \"value\": 0.37298586759189445}, {\"index\": 3.161237, \"variable\": \"C\", \"value\": 0.39560358880327784}, {\"index\": 3.25, \"variable\": \"C\", \"value\": 0.4125835902645627}, {\"index\": 3.288763, \"variable\": \"C\", \"value\": 0.42011248041788685}, {\"index\": 3.411237, \"variable\": \"C\", \"value\": 0.4442140875893694}, {\"index\": 3.5, \"variable\": \"C\", \"value\": 0.4618808120782736}, {\"index\": 3.538763, \"variable\": \"C\", \"value\": 0.46962404584396755}, {\"index\": 3.661237, \"variable\": \"C\", \"value\": 0.4941192806584762}, {\"index\": 3.75, \"variable\": \"C\", \"value\": 0.5118431921140342}, {\"index\": 3.788763, \"variable\": \"C\", \"value\": 0.5195615015613213}, {\"index\": 3.911237, \"variable\": \"C\", \"value\": 0.5438137848389201}, {\"index\": 4.0, \"variable\": \"C\", \"value\": 0.5612305744194784}, {\"index\": 4.038763, \"variable\": \"C\", \"value\": 0.5687863919722794}, {\"index\": 4.161237, \"variable\": \"C\", \"value\": 0.5924331108947785}, {\"index\": 4.25, \"variable\": \"C\", \"value\": 0.6093384838260955}, {\"index\": 4.288763, \"variable\": \"C\", \"value\": 0.6166555579028306}, {\"index\": 4.411237, \"variable\": \"C\", \"value\": 0.6394991232300583}, {\"index\": 4.5, \"variable\": \"C\", \"value\": 0.6557850253583573}, {\"index\": 4.538763, \"variable\": \"C\", \"value\": 0.6628239439425512}, {\"index\": 4.661237, \"variable\": \"C\", \"value\": 0.6847657686198542}, {\"index\": 4.75, \"variable\": \"C\", \"value\": 0.7003817454341464}, {\"index\": 4.788763, \"variable\": \"C\", \"value\": 0.7071251074357059}, {\"index\": 4.911237, \"variable\": \"C\", \"value\": 0.7281256156683894}, {\"index\": 5.0, \"variable\": \"C\", \"value\": 0.7430554130328735}, {\"index\": 5.024227, \"variable\": \"C\", \"value\": 0.3749940973520267}, {\"index\": 5.100773, \"variable\": \"C\", \"value\": 0.38893483865696155}, {\"index\": 5.15625, \"variable\": \"C\", \"value\": 0.39981420844387117}, {\"index\": 5.180477, \"variable\": \"C\", \"value\": 0.40474365148281577}, {\"index\": 5.257023, \"variable\": \"C\", \"value\": 0.42093548953423854}, {\"index\": 5.3125, \"variable\": \"C\", \"value\": 0.43318111101971324}, {\"index\": 5.336727, \"variable\": \"C\", \"value\": 0.43864444624679}, {\"index\": 5.413273, \"variable\": \"C\", \"value\": 0.45629884998766057}, {\"index\": 5.46875, \"variable\": \"C\", \"value\": 0.4694121731494765}, {\"index\": 5.492977, \"variable\": \"C\", \"value\": 0.47520898218782914}, {\"index\": 5.569523, \"variable\": \"C\", \"value\": 0.49375472243427376}, {\"index\": 5.625, \"variable\": \"C\", \"value\": 0.5073750574387342}, {\"index\": 5.649227, \"variable\": \"C\", \"value\": 0.5133604687620391}, {\"index\": 5.725773, \"variable\": \"C\", \"value\": 0.5323851232708939}, {\"index\": 5.78125, \"variable\": \"C\", \"value\": 0.5462525161383613}, {\"index\": 5.805477, \"variable\": \"C\", \"value\": 0.5523222430902812}, {\"index\": 5.882023, \"variable\": \"C\", \"value\": 0.5715294061166115}, {\"index\": 5.9375, \"variable\": \"C\", \"value\": 0.5854574818153689}, {\"index\": 5.961727, \"variable\": \"C\", \"value\": 0.5915368778532325}, {\"index\": 6.038273, \"variable\": \"C\", \"value\": 0.6107148591943645}, {\"index\": 6.09375, \"variable\": \"C\", \"value\": 0.6245709569435655}, {\"index\": 6.117977, \"variable\": \"C\", \"value\": 0.6306070098952479}, {\"index\": 6.194523, \"variable\": \"C\", \"value\": 0.6496059396636207}, {\"index\": 6.25, \"variable\": \"C\", \"value\": 0.6632965832165069}, {\"index\": 6.274227, \"variable\": \"C\", \"value\": 0.66925205971595}, {\"index\": 6.350773, \"variable\": \"C\", \"value\": 0.6879671427201054}, {\"index\": 6.40625, \"variable\": \"C\", \"value\": 0.7014274136916492}, {\"index\": 6.430477, \"variable\": \"C\", \"value\": 0.7072765766707843}, {\"index\": 6.507023, \"variable\": \"C\", \"value\": 0.7256358457959143}, {\"index\": 6.5625, \"variable\": \"C\", \"value\": 0.7388216124115272}, {\"index\": 6.586727, \"variable\": \"C\", \"value\": 0.7445470894183798}, {\"index\": 6.663273, \"variable\": \"C\", \"value\": 0.7625024503998797}, {\"index\": 6.71875, \"variable\": \"C\", \"value\": 0.7753846852107817}, {\"index\": 6.742977, \"variable\": \"C\", \"value\": 0.7809751786449233}, {\"index\": 6.819523, \"variable\": \"C\", \"value\": 0.7984958627354972}, {\"index\": 6.875, \"variable\": \"C\", \"value\": 0.8110564885538643}, {\"index\": 6.899227, \"variable\": \"C\", \"value\": 0.8165051018180447}, {\"index\": 6.975773, \"variable\": \"C\", \"value\": 0.8335728799706233}, {\"index\": 7.03125, \"variable\": \"C\", \"value\": 0.8458017337763878}, {\"index\": 7.055477, \"variable\": \"C\", \"value\": 0.8511047479996892}, {\"index\": 7.132023, \"variable\": \"C\", \"value\": 0.8677104336702623}, {\"index\": 7.1875, \"variable\": \"C\", \"value\": 0.8796030483486025}, {\"index\": 7.211727, \"variable\": \"C\", \"value\": 0.8847590287136655}, {\"index\": 7.288273, \"variable\": \"C\", \"value\": 0.9008999233100352}, {\"index\": 7.34375, \"variable\": \"C\", \"value\": 0.9124559076346315}, {\"index\": 7.367977, \"variable\": \"C\", \"value\": 0.9174650508085366}, {\"index\": 7.444523, \"variable\": \"C\", \"value\": 0.9331430786689416}, {\"index\": 7.5, \"variable\": \"C\", \"value\": 0.9443649348820455}, {\"index\": 7.524227, \"variable\": \"C\", \"value\": 0.9492285928037759}, {\"index\": 7.600773, \"variable\": \"C\", \"value\": 0.9644489405255438}, {\"index\": 7.65625, \"variable\": \"C\", \"value\": 0.9753412019843064}, {\"index\": 7.680477, \"variable\": \"C\", \"value\": 0.9800615346400071}, {\"index\": 7.757023, \"variable\": \"C\", \"value\": 0.9948316592814639}, {\"index\": 7.8125, \"variable\": \"C\", \"value\": 1.0054002621859826}, {\"index\": 7.836727, \"variable\": \"C\", \"value\": 1.0099799847174191}, {\"index\": 7.913273, \"variable\": \"C\", \"value\": 1.0243088917597314}, {\"index\": 7.96875, \"variable\": \"C\", \"value\": 1.0345607180577507}, {\"index\": 7.992977, \"variable\": \"C\", \"value\": 1.039002916851235}, {\"index\": 8.069523, \"variable\": \"C\", \"value\": 1.0529006354108086}, {\"index\": 8.125, \"variable\": \"C\", \"value\": 1.06284318085924}, {\"index\": 8.173453, \"variable\": \"C\", \"value\": 1.0714386817822192}, {\"index\": 8.326547, \"variable\": \"C\", \"value\": 1.0980634913620926}, {\"index\": 8.4375, \"variable\": \"C\", \"value\": 1.1168622984326992}, {\"index\": 8.485953, \"variable\": \"C\", \"value\": 1.1249430259100173}, {\"index\": 8.639047, \"variable\": \"C\", \"value\": 1.149970308046648}, {\"index\": 8.75, \"variable\": \"C\", \"value\": 1.1676387988478647}, {\"index\": 8.798453, \"variable\": \"C\", \"value\": 1.1752331522618755}, {\"index\": 8.951547, \"variable\": \"C\", \"value\": 1.1987524518651869}, {\"index\": 9.0625, \"variable\": \"C\", \"value\": 1.2153550907619013}, {\"index\": 9.110953, \"variable\": \"C\", \"value\": 1.2224910450841793}, {\"index\": 9.264047, \"variable\": \"C\", \"value\": 1.2445898485279996}, {\"index\": 9.375, \"variable\": \"C\", \"value\": 1.2601890615066598}, {\"index\": 9.423453, \"variable\": \"C\", \"value\": 1.2668935906131942}, {\"index\": 9.576547, \"variable\": \"C\", \"value\": 1.287655885826637}, {\"index\": 9.6875, \"variable\": \"C\", \"value\": 1.302311316186305}, {\"index\": 9.735953, \"variable\": \"C\", \"value\": 1.30861013106766}, {\"index\": 9.889047, \"variable\": \"C\", \"value\": 1.328115782003271}, {\"index\": 10.0, \"variable\": \"C\", \"value\": 1.3418839944424306}]}}, {\"mode\": \"vega-lite\"});\n",
       "</script>"
      ],
      "text/plain": [
       "alt.Chart(...)"
      ]
     },
     "execution_count": 15,
     "metadata": {},
     "output_type": "execute_result"
    }
   ],
   "source": [
    "alt.Chart(Zdfg).mark_line().encode(\n",
    "  alt.X('index:Q'),\n",
    "  alt.Y('value:Q'),\n",
    "  alt.Color('variable:N')\n",
    ")"
   ]
  },
  {
   "cell_type": "code",
   "execution_count": null,
   "id": "hundred-lawyer",
   "metadata": {},
   "outputs": [],
   "source": []
  }
 ],
 "metadata": {
  "kernelspec": {
   "display_name": "Python 3",
   "language": "python",
   "name": "python3"
  },
  "language_info": {
   "codemirror_mode": {
    "name": "ipython",
    "version": 3
   },
   "file_extension": ".py",
   "mimetype": "text/x-python",
   "name": "python",
   "nbconvert_exporter": "python",
   "pygments_lexer": "ipython3",
   "version": "3.8.8"
  }
 },
 "nbformat": 4,
 "nbformat_minor": 5
}
