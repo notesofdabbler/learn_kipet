{
 "cells": [
  {
   "cell_type": "markdown",
   "metadata": {},
   "source": [
    "## Parameter Fitting to a Simple Series Reaction\n",
    "\n",
    "jbr book reference: [Figure A.10](https://sites.engineering.ucsb.edu/~jbraw/chemreacfun/fig-html/appendix/fig-A-10.html)\n",
    "\n",
    "Reaction is $A \\xrightarrow[]{k_1} B \\xrightarrow[]{k_2} C$\n",
    "\n",
    "Data simulated for $A$, $B$, and $C$ over time (with added noise) based on:\n",
    "$ c_{A0} = 1, c_{B0} = 0, c_{c0} = 0, k_1 = 2, k_2 = 1$\n",
    "\n",
    "The above parameters are also the parameters that will be fitted based on the data"
   ]
  },
  {
   "cell_type": "code",
   "execution_count": 16,
   "metadata": {},
   "outputs": [],
   "source": [
    "from __future__ import print_function\n",
    "from kipet.library.TemplateBuilder import *\n",
    "from kipet.library.PyomoSimulator import *\n",
    "from kipet.library.ParameterEstimator import *\n",
    "from kipet.library.VarianceEstimator import *\n",
    "from kipet.library.data_tools import *\n",
    "import matplotlib.pyplot as plt\n",
    "import os\n",
    "import sys\n",
    "import inspect\n",
    "import six\n",
    "import pandas as pd\n",
    "from scipy.stats import t"
   ]
  },
  {
   "cell_type": "code",
   "execution_count": 3,
   "metadata": {},
   "outputs": [
    {
     "name": "stdout",
     "output_type": "stream",
     "text": [
      "read dir : /home/paperspace/learn_kipet/kipet_paresto/data_sets/ABC_data.csv\n"
     ]
    }
   ],
   "source": [
    "filename = 'ABC_data.csv'\n",
    "D_frame = read_file(filename, directory = 'data_sets')"
   ]
  },
  {
   "cell_type": "code",
   "execution_count": 4,
   "metadata": {},
   "outputs": [
    {
     "data": {
      "text/plain": [
       "(20, 3)"
      ]
     },
     "execution_count": 4,
     "metadata": {},
     "output_type": "execute_result"
    }
   ],
   "source": [
    "D_frame.shape"
   ]
  },
  {
   "cell_type": "code",
   "execution_count": 5,
   "metadata": {},
   "outputs": [
    {
     "data": {
      "text/html": [
       "<div>\n",
       "<style scoped>\n",
       "    .dataframe tbody tr th:only-of-type {\n",
       "        vertical-align: middle;\n",
       "    }\n",
       "\n",
       "    .dataframe tbody tr th {\n",
       "        vertical-align: top;\n",
       "    }\n",
       "\n",
       "    .dataframe thead th {\n",
       "        text-align: right;\n",
       "    }\n",
       "</style>\n",
       "<table border=\"1\" class=\"dataframe\">\n",
       "  <thead>\n",
       "    <tr style=\"text-align: right;\">\n",
       "      <th></th>\n",
       "      <th>A</th>\n",
       "      <th>B</th>\n",
       "      <th>C</th>\n",
       "    </tr>\n",
       "    <tr>\n",
       "      <th>t</th>\n",
       "      <th></th>\n",
       "      <th></th>\n",
       "      <th></th>\n",
       "    </tr>\n",
       "  </thead>\n",
       "  <tbody>\n",
       "    <tr>\n",
       "      <th>0.000</th>\n",
       "      <td>0.957</td>\n",
       "      <td>-0.031</td>\n",
       "      <td>-0.015</td>\n",
       "    </tr>\n",
       "    <tr>\n",
       "      <th>0.263</th>\n",
       "      <td>0.557</td>\n",
       "      <td>0.330</td>\n",
       "      <td>0.044</td>\n",
       "    </tr>\n",
       "    <tr>\n",
       "      <th>0.526</th>\n",
       "      <td>0.342</td>\n",
       "      <td>0.512</td>\n",
       "      <td>0.156</td>\n",
       "    </tr>\n",
       "    <tr>\n",
       "      <th>0.789</th>\n",
       "      <td>0.224</td>\n",
       "      <td>0.499</td>\n",
       "      <td>0.310</td>\n",
       "    </tr>\n",
       "    <tr>\n",
       "      <th>1.053</th>\n",
       "      <td>0.123</td>\n",
       "      <td>0.428</td>\n",
       "      <td>0.454</td>\n",
       "    </tr>\n",
       "    <tr>\n",
       "      <th>1.316</th>\n",
       "      <td>0.079</td>\n",
       "      <td>0.396</td>\n",
       "      <td>0.556</td>\n",
       "    </tr>\n",
       "    <tr>\n",
       "      <th>1.579</th>\n",
       "      <td>0.035</td>\n",
       "      <td>0.303</td>\n",
       "      <td>0.651</td>\n",
       "    </tr>\n",
       "    <tr>\n",
       "      <th>1.842</th>\n",
       "      <td>0.029</td>\n",
       "      <td>0.287</td>\n",
       "      <td>0.658</td>\n",
       "    </tr>\n",
       "    <tr>\n",
       "      <th>2.105</th>\n",
       "      <td>0.025</td>\n",
       "      <td>0.221</td>\n",
       "      <td>0.750</td>\n",
       "    </tr>\n",
       "    <tr>\n",
       "      <th>2.368</th>\n",
       "      <td>0.017</td>\n",
       "      <td>0.148</td>\n",
       "      <td>0.854</td>\n",
       "    </tr>\n",
       "    <tr>\n",
       "      <th>2.632</th>\n",
       "      <td>-0.002</td>\n",
       "      <td>0.182</td>\n",
       "      <td>0.845</td>\n",
       "    </tr>\n",
       "    <tr>\n",
       "      <th>2.895</th>\n",
       "      <td>0.009</td>\n",
       "      <td>0.116</td>\n",
       "      <td>0.893</td>\n",
       "    </tr>\n",
       "    <tr>\n",
       "      <th>3.158</th>\n",
       "      <td>-0.023</td>\n",
       "      <td>0.079</td>\n",
       "      <td>0.942</td>\n",
       "    </tr>\n",
       "    <tr>\n",
       "      <th>3.421</th>\n",
       "      <td>0.006</td>\n",
       "      <td>0.078</td>\n",
       "      <td>0.899</td>\n",
       "    </tr>\n",
       "    <tr>\n",
       "      <th>3.684</th>\n",
       "      <td>0.016</td>\n",
       "      <td>0.059</td>\n",
       "      <td>0.942</td>\n",
       "    </tr>\n",
       "    <tr>\n",
       "      <th>3.947</th>\n",
       "      <td>0.014</td>\n",
       "      <td>0.036</td>\n",
       "      <td>0.991</td>\n",
       "    </tr>\n",
       "    <tr>\n",
       "      <th>4.211</th>\n",
       "      <td>-0.009</td>\n",
       "      <td>0.014</td>\n",
       "      <td>0.988</td>\n",
       "    </tr>\n",
       "    <tr>\n",
       "      <th>4.474</th>\n",
       "      <td>-0.030</td>\n",
       "      <td>0.036</td>\n",
       "      <td>0.941</td>\n",
       "    </tr>\n",
       "    <tr>\n",
       "      <th>4.737</th>\n",
       "      <td>0.004</td>\n",
       "      <td>0.036</td>\n",
       "      <td>0.971</td>\n",
       "    </tr>\n",
       "    <tr>\n",
       "      <th>5.000</th>\n",
       "      <td>-0.024</td>\n",
       "      <td>0.028</td>\n",
       "      <td>0.985</td>\n",
       "    </tr>\n",
       "  </tbody>\n",
       "</table>\n",
       "</div>"
      ],
      "text/plain": [
       "           A      B      C\n",
       "t                         \n",
       "0.000  0.957 -0.031 -0.015\n",
       "0.263  0.557  0.330  0.044\n",
       "0.526  0.342  0.512  0.156\n",
       "0.789  0.224  0.499  0.310\n",
       "1.053  0.123  0.428  0.454\n",
       "1.316  0.079  0.396  0.556\n",
       "1.579  0.035  0.303  0.651\n",
       "1.842  0.029  0.287  0.658\n",
       "2.105  0.025  0.221  0.750\n",
       "2.368  0.017  0.148  0.854\n",
       "2.632 -0.002  0.182  0.845\n",
       "2.895  0.009  0.116  0.893\n",
       "3.158 -0.023  0.079  0.942\n",
       "3.421  0.006  0.078  0.899\n",
       "3.684  0.016  0.059  0.942\n",
       "3.947  0.014  0.036  0.991\n",
       "4.211 -0.009  0.014  0.988\n",
       "4.474 -0.030  0.036  0.941\n",
       "4.737  0.004  0.036  0.971\n",
       "5.000 -0.024  0.028  0.985"
      ]
     },
     "execution_count": 5,
     "metadata": {},
     "output_type": "execute_result"
    }
   ],
   "source": [
    "D_frame.columns = ['A', 'B', 'C']\n",
    "D_frame"
   ]
  },
  {
   "cell_type": "code",
   "execution_count": 6,
   "metadata": {},
   "outputs": [
    {
     "name": "stdout",
     "output_type": "stream",
     "text": [
      "Warning! Since C-matrix contains negative values Kipet is assuming a derivative of C has been inputted\n"
     ]
    }
   ],
   "source": [
    "builder = TemplateBuilder()    \n",
    "components = {'A':1,'B':0,'C':0}\n",
    "builder.add_mixture_component(components)\n",
    "builder.add_parameter('k1',initialize = 5.0, bounds=(0.0,10.0))\n",
    "builder.add_parameter('k2',initialize = 5.0, bounds=(0.0,10.0))\n",
    "builder.add_parameter('ca0', initialize = 1.0, bounds = (0.5, 1.5))\n",
    "builder.add_parameter('cb0', initialize = 0.0, bounds = (0.0, 1.5))\n",
    "builder.add_parameter('cc0', initialize = 0.0, bounds = (0.0, 1.5))\n",
    "\n",
    "builder.add_concentration_data(D_frame)"
   ]
  },
  {
   "cell_type": "code",
   "execution_count": 7,
   "metadata": {},
   "outputs": [],
   "source": [
    "# define explicit system of ODEs\n",
    "def rule_odes(m,t):\n",
    "    exprs = dict()\n",
    "    exprs['A'] = -m.P['k1']*m.Z[t,'A']\n",
    "    exprs['B'] = m.P['k1']*m.Z[t,'A']-m.P['k2']*m.Z[t,'B']\n",
    "    exprs['C'] = m.P['k2']*m.Z[t,'B']\n",
    "    return exprs\n",
    "\n",
    "builder.set_odes_rule(rule_odes)\n",
    "opt_model = builder.create_pyomo_model(0.0,5.0)"
   ]
  },
  {
   "cell_type": "code",
   "execution_count": 8,
   "metadata": {},
   "outputs": [],
   "source": [
    "# explicitly add constraints for initial conditions and relax the auto-imposed initial conditions by builder\n",
    "opt_model.ca0_cons = Constraint(expr = opt_model.Z[0, 'A'] == opt_model.P['ca0'])\n",
    "opt_model.cb0_cons = Constraint(expr = opt_model.Z[0, 'B'] == opt_model.P['cb0'])\n",
    "opt_model.cc0_cons = Constraint(expr = opt_model.Z[0, 'C'] == opt_model.P['cc0'])\n",
    "opt_model.init_conditions_c.deactivate()"
   ]
  },
  {
   "cell_type": "code",
   "execution_count": 9,
   "metadata": {},
   "outputs": [],
   "source": [
    "sigmas = {'A':1, 'B':1, 'C':1}\n",
    "p_estimator = ParameterEstimator(opt_model)\n",
    "p_estimator.apply_discretization('dae.collocation',nfe=50,ncp=3,scheme='LAGRANGE-RADAU')"
   ]
  },
  {
   "cell_type": "code",
   "execution_count": 10,
   "metadata": {},
   "outputs": [
    {
     "name": "stdout",
     "output_type": "stream",
     "text": [
      "        0.10 seconds required to write file\n",
      "        0.10 seconds required for presolve\n",
      "Ipopt 3.12: \n",
      "\n",
      "******************************************************************************\n",
      "This program contains Ipopt, a library for large-scale nonlinear optimization.\n",
      " Ipopt is released as open source code under the Eclipse Public License (EPL).\n",
      "         For more information visit http://projects.coin-or.org/Ipopt\n",
      "******************************************************************************\n",
      "\n",
      "This is Ipopt version 3.12, running with linear solver ma27.\n",
      "\n",
      "Number of nonzeros in equality constraint Jacobian...:     3906\n",
      "Number of nonzeros in inequality constraint Jacobian.:        0\n",
      "Number of nonzeros in Lagrangian Hessian.............:      360\n",
      "\n",
      "Total number of variables............................:      908\n",
      "                     variables with only lower bounds:        0\n",
      "                variables with lower and upper bounds:        5\n",
      "                     variables with only upper bounds:        0\n",
      "Total number of equality constraints.................:      903\n",
      "Total number of inequality constraints...............:        0\n",
      "        inequality constraints with only lower bounds:        0\n",
      "   inequality constraints with lower and upper bounds:        0\n",
      "        inequality constraints with only upper bounds:        0\n",
      "\n",
      "iter    objective    inf_pr   inf_du lg(mu)  ||d||  lg(rg) alpha_du alpha_pr  ls\n",
      "   0  3.4489051e+01 5.00e+00 1.00e+00  -1.0 0.00e+00    -  0.00e+00 0.00e+00   0\n",
      "   1  1.8112412e+00 9.53e-01 7.78e-01  -1.0 4.14e+00    -  5.63e-01 1.00e+00f  1\n",
      "   2  7.9081443e-01 3.72e-01 1.46e-01  -1.0 1.93e+00    -  7.84e-01 1.00e+00h  1\n",
      "   3  2.2727364e-01 6.46e-01 2.44e-01  -1.7 1.83e+00    -  9.58e-01 1.00e+00h  1\n",
      "   4  2.6598095e-01 1.34e-01 2.30e+00  -1.7 5.46e-01    -  1.17e-01 1.00e+00h  1\n",
      "   5  8.3417614e-02 2.72e-02 1.64e-01  -1.7 3.25e-01    -  9.52e-01 1.00e+00h  1\n",
      "   6  2.9844543e-02 8.18e-03 3.13e-02  -2.5 1.16e-01    -  9.72e-01 1.00e+00h  1\n",
      "   7  2.7369224e-02 4.72e-04 3.38e-04  -2.5 6.55e-02    -  1.00e+00 1.00e+00h  1\n",
      "   8  2.5604955e-02 5.12e-04 2.86e-05  -3.8 6.45e-02    -  1.00e+00 1.00e+00h  1\n",
      "   9  2.5175727e-02 1.64e-04 7.27e-06  -5.7 3.76e-02    -  1.00e+00 1.00e+00h  1\n",
      "iter    objective    inf_pr   inf_du lg(mu)  ||d||  lg(rg) alpha_du alpha_pr  ls\n",
      "  10  2.5096492e-02 3.06e-05 1.40e-06  -5.7 1.73e-02    -  1.00e+00 1.00e+00h  1\n",
      "  11  2.5078464e-02 4.07e-06 3.49e-07  -5.7 7.46e-03    -  1.00e+00 1.00e+00h  1\n",
      "  12  2.5074106e-02 1.05e-06 8.97e-05  -8.6 3.85e-03    -  9.75e-01 1.00e+00h  1\n",
      "  13  2.5073298e-02 2.24e-07 3.69e-08  -8.6 1.78e-03    -  1.00e+00 1.00e+00h  1\n",
      "  14  2.5073195e-02 3.83e-08 6.25e-09  -8.6 7.36e-04    -  1.00e+00 1.00e+00h  1\n",
      "  15  2.5073190e-02 2.19e-09 3.57e-10  -8.6 1.76e-04    -  1.00e+00 1.00e+00h  1\n",
      "  16  2.5073190e-02 1.33e-11 2.09e-12  -9.0 1.37e-05    -  1.00e+00 1.00e+00h  1\n",
      "\n",
      "Number of Iterations....: 16\n",
      "\n",
      "                                   (scaled)                 (unscaled)\n",
      "Objective...............:   2.5073189805777718e-02    2.5073189805777718e-02\n",
      "Dual infeasibility......:   2.0884444278766164e-12    2.0884444278766164e-12\n",
      "Constraint violation....:   1.3331336035093955e-11    1.3331336035093955e-11\n",
      "Complementarity.........:   9.5543476094625697e-10    9.5543476094625697e-10\n",
      "Overall NLP error.......:   9.5543476094625697e-10    9.5543476094625697e-10\n",
      "\n",
      "\n",
      "Number of objective function evaluations             = 17\n",
      "Number of objective gradient evaluations             = 17\n",
      "Number of equality constraint evaluations            = 17\n",
      "Number of inequality constraint evaluations          = 0\n",
      "Number of equality constraint Jacobian evaluations   = 17\n",
      "Number of inequality constraint Jacobian evaluations = 0\n",
      "Number of Lagrangian Hessian evaluations             = 16\n",
      "Total CPU secs in IPOPT (w/o function evaluations)   =      0.024\n",
      "Total CPU secs in NLP function evaluations           =      0.004\n",
      "\n",
      "EXIT: Optimal Solution Found.\n",
      "        0.06 seconds required for solver\n",
      "        0.00 seconds required to read logfile \n",
      "        0.00 seconds required to read solution file\n",
      "        0.01 seconds required for postsolve\n",
      "ipopt_zL_in : Direction=Suffix.EXPORT, Datatype=Suffix.FLOAT\n",
      "    Key : Value\n",
      "rh_name : Direction=Suffix.IMPORT, Datatype=Suffix.FLOAT\n",
      "    Key : Value\n",
      "ipopt_zL_in : Direction=Suffix.EXPORT, Datatype=Suffix.FLOAT\n",
      "    Key    : Value\n",
      "    P[ca0] : 1.8759544346447064e-09\n",
      "    P[cb0] :  1.325474805344203e-06\n",
      "    P[cc0] :  8.582060397167453e-08\n",
      "     P[k1] :  4.514828962027985e-10\n",
      "     P[k2] :  9.224250610267425e-10\n"
     ]
    },
    {
     "name": "stderr",
     "output_type": "stream",
     "text": [
      "W[K_AUG]...\t[K_AUG_ASL]No n_rhs declared\n",
      "W[K_AUG]...\t[K_AUG_ASL]Target log10mu:= -11.\n",
      "W[K_AUG]...\t[K_AUG_ASL]No f_timestamp suffix declared, Fallback to default writing mode.\n",
      "I[K_AUG]...\t[K_AUG_ASL] Filename for dot_sens dot_in_.in\n"
     ]
    },
    {
     "name": "stdout",
     "output_type": "stream",
     "text": [
      "[K_AUG] written by D.T. @2018\n",
      "\n",
      ": I[K_AUG]...\t[K_AUG_ASL]File read succesfull\n",
      "I[K_AUG]...\t[K_AUG_ASL]Number of Right hand sides 0\n",
      "I[K_AUG]...\t[K_AUG_ASL]Number of Right hand sides: 0\n",
      "I[K_AUG]...\t[K_AUG_ASL]Number of variables       : 908\n",
      "I[K_AUG]...\t[K_AUG_ASL]Number of constraints     : 903\n",
      "I[K_AUG]...\t[K_AUG_ASL]Number of valid n_dof     : 5\n",
      "I[K_AUG]...\t[ADJUST_MU]log10(mu) computed=-9.041394934914457 at var_i=300\n",
      "I[K_AUG]...\t[ADJUST_MU]log10(mu) close to the target\t-9.041392318707917 at var_i=301\n",
      "I[K_AUG]...\t[FIND_INEQUALITIES]summary: eq: 903, leq: 0, geq: 0 \n",
      "I[K_AUG]...\t[K_AUG_ASL]Nonzeroes in the sparse Jacobian 3906\n",
      "I[K_AUG]...\t[GET_HESS_ASL]Objective found\n",
      "I[K_AUG]...\t[GET_HESS_ASL]Nonzeroes in the sparse hessian 360\n",
      "I[K_AUG]...\t[GET_HESS_ASL]Minimization problem detected\n",
      "I[K_AUG]...\t[GET_HESS_ASL]Current objective 0.025073\n",
      "I[K_AUG]...\t[GET_HESS_ASL]Missing nz in the Hessian of the Lag: 848\n",
      "I[K_AUG]...\t[K_AUG_ASL]Barrier term added.\n",
      "I[K_AUG]...\t[K_AUG_ASL]MC19 scaling...\n",
      "I[K_AUG]...\t[ASSM_RHS_RH]According to the suffixes declared dof is 5 \n",
      "I[K_AUG]...\t[ASSM_RHS_RH]n_dof exactly n_var - n_con \n",
      "I[K_AUG]...\t[MUMPS_DRIVER]n_neig = 903\n",
      "I[K_AUG]...\t[INERTIA_STRATEGY]Inertia check successful.\n",
      "I[K_AUG]...\t[MUMPS_DRIVER]: Ratio of norm of scaled residuals (reported); 1.469296e-16 \n",
      "I[K_AUG]...\t[MUMPS_DRIVER]Accuracy at an acceptable level.\n",
      "\n",
      "W[K_AUG]...\t[MUMPS_DRIVER]Inertia check OK neig=903, (neig == m).\n",
      "I[K_AUG]...\t[K_AUG_ASL]Linear solver done. \n",
      "\bI[K_AUG]...\t[K_AUG_ASL]Timings..Ev&Assem 0.013332, Fact 0.068117, Overall 0.081926.\n",
      "Done solving building reduce hessian\n",
      "25 hessian size\n",
      "Parameter variances:  [3.53370301 0.55343547 0.23390504 0.28601227 0.15041545]\n",
      "\n",
      "Confidence intervals:\n",
      "k1 (0.13374160199901564,3.893370844170179)\n",
      "k2 (0.24161284889386225,1.7294777152123413)\n",
      "ca0 (0.5009603660716008,1.468234968596303)\n",
      "cb0 (-0.5340803325557495,0.5355219616268507)\n",
      "cc0 (-0.37724323676690236,0.3984253741958684)\n"
     ]
    }
   ],
   "source": [
    "options = dict()\n",
    "results_pyomo = p_estimator.run_opt('k_aug',\n",
    "                                    variances=sigmas,\n",
    "                                  tee=True,\n",
    "                                  solver_opts = options,\n",
    "                                  covariance=True)"
   ]
  },
  {
   "cell_type": "code",
   "execution_count": 11,
   "metadata": {},
   "outputs": [
    {
     "name": "stdout",
     "output_type": "stream",
     "text": [
      "The estimated parameters are:\n",
      "k1 2.0135562230845974\n",
      "k2 0.9855452820531018\n",
      "ca0 0.9845976673339518\n",
      "cb0 0.0007208145355505998\n",
      "cc0 0.010591068714483027\n"
     ]
    }
   ],
   "source": [
    "print(\"The estimated parameters are:\")\n",
    "for k,v in six.iteritems(results_pyomo.P):\n",
    "    print(k, v)"
   ]
  },
  {
   "cell_type": "code",
   "execution_count": 12,
   "metadata": {},
   "outputs": [
    {
     "data": {
      "image/png": "[encoded data removed]",
      "text/plain": [
       "<Figure size 432x288 with 1 Axes>"
      ]
     },
     "metadata": {
      "needs_background": "light"
     },
     "output_type": "display_data"
    }
   ],
   "source": [
    "fig, ax = plt.subplots()\n",
    "for c in ['A', 'B', 'C']:\n",
    "    ax.scatter(D_frame.index, D_frame[c])\n",
    "    ax.plot(results_pyomo.Z.index, results_pyomo.Z[c])"
   ]
  },
  {
   "cell_type": "code",
   "execution_count": 13,
   "metadata": {},
   "outputs": [
    {
     "data": {
      "text/plain": [
       "0.025073189805777718"
      ]
     },
     "execution_count": 13,
     "metadata": {},
     "output_type": "execute_result"
    }
   ],
   "source": [
    "results_pyomo.objective"
   ]
  },
  {
   "cell_type": "code",
   "execution_count": 14,
   "metadata": {},
   "outputs": [
    {
     "data": {
      "text/plain": [
       "array([[ 2.08473427e-03, -1.61587575e-04,  2.03039085e-04,\n",
       "        -2.63825849e-04,  1.55522778e-06],\n",
       "       [-1.61587575e-04,  3.26503352e-04,  3.45605377e-05,\n",
       "         2.25804925e-05, -9.31759044e-05],\n",
       "       [ 2.03039085e-04,  3.45605377e-05,  1.37994010e-04,\n",
       "        -1.07673548e-04, -2.63899565e-05],\n",
       "       [-2.63825849e-04,  2.25804925e-05, -1.07673548e-04,\n",
       "         1.68735055e-04, -4.98853058e-05],\n",
       "       [ 1.55522778e-06, -9.31759044e-05, -2.63899565e-05,\n",
       "        -4.98853058e-05,  8.87387080e-05]])"
      ]
     },
     "execution_count": 14,
     "metadata": {},
     "output_type": "execute_result"
    }
   ],
   "source": [
    "# since kipet outputs reduced hessian which equals covariance if right sigma values are specified. \n",
    "# since we just specified sigma=1, we need to adjust the covariance matrix output from KIPET to get the \n",
    "# estimated covariance matrix\n",
    "mse = results_pyomo.objective / (30*3 - 5)\n",
    "cov_est = 2 * mse * results_pyomo.parameter_covariance\n",
    "cov_est"
   ]
  },
  {
   "cell_type": "code",
   "execution_count": 19,
   "metadata": {},
   "outputs": [
    {
     "data": {
      "text/plain": [
       "array([0.09150246, 0.03621189, 0.02354168, 0.02603215, 0.01887835])"
      ]
     },
     "execution_count": 19,
     "metadata": {},
     "output_type": "execute_result"
    }
   ],
   "source": [
    "dof = 20*3 - 5\n",
    "conf_delta = t.ppf(0.975, dof) * np.sqrt(np.diag(cov_est))\n",
    "conf_delta"
   ]
  },
  {
   "cell_type": "code",
   "execution_count": 23,
   "metadata": {},
   "outputs": [
    {
     "name": "stdout",
     "output_type": "stream",
     "text": [
      "k1, 1.92, 2.11\n",
      "k2, 0.95, 1.02\n",
      "ca0, 0.96, 1.01\n",
      "cb0, -0.03, 0.03\n",
      "cc0, -0.01, 0.03\n"
     ]
    }
   ],
   "source": [
    "# confidence limits of parameters\n",
    "i = 0\n",
    "for k, v in six.iteritems(results_pyomo.P):\n",
    "    print(f\"{k}, {v - conf_delta[i]:.2f}, {v + conf_delta[i]:.2f}\")\n",
    "    i = i + 1"
   ]
  },
  {
   "cell_type": "code",
   "execution_count": null,
   "metadata": {},
   "outputs": [],
   "source": []
  }
 ],
 "metadata": {
  "kernelspec": {
   "display_name": "Python 3",
   "language": "python",
   "name": "python3"
  },
  "language_info": {
   "codemirror_mode": {
    "name": "ipython",
    "version": 3
   },
   "file_extension": ".py",
   "mimetype": "text/x-python",
   "name": "python",
   "nbconvert_exporter": "python",
   "pygments_lexer": "ipython3",
   "version": "3.7.3"
  }
 },
 "nbformat": 4,
 "nbformat_minor": 2
}
