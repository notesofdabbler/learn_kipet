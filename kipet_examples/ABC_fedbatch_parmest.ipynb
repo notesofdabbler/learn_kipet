{
 "cells": [
  {
   "cell_type": "code",
   "execution_count": 1,
   "metadata": {},
   "outputs": [
    {
     "name": "stdout",
     "output_type": "stream",
     "text": [
      "WARNING: DEPRECATED: The pyomo.core.base.sets module is deprecated.  Import\n",
      "    Set objects from pyomo.core.base.set or pyomo.core.  (deprecated in 5.7)\n",
      "    (called from <frozen importlib._bootstrap>:219)\n",
      "_SetProduct not found\n"
     ]
    }
   ],
   "source": [
    "import matplotlib.pyplot as plt\n",
    "import numpy as np\n",
    "import pandas as pd\n",
    "from kipet import KipetModel"
   ]
  },
  {
   "cell_type": "markdown",
   "metadata": {},
   "source": [
    "### Parameter Estimation for a fed batch reaction\n",
    "$A + B \\rightarrow C$\n",
    "\n",
    "Initial conditions in reactor: \n",
    "* Initial volume $V_0=1L$\n",
    "* $c_{A0} = 2, c_{B0} = 0, c_{C0} = 0$ (mol/L).\n",
    "\n",
    "A stream of $B$ with concentration $2 mol/L$ is charged into reactor at rate $0.1 L/min$ over 15min.\n",
    "\n",
    "Data is simulated using reaction rate constant $k_1=0.1 min^{-1}$ with added noise\n",
    "\n",
    "Governing equations are:\n",
    "$$\n",
    "\\begin{eqnarray}\n",
    "\\frac{dc_A}{dt} &=& -\\frac{c_Aqin_B}{V} - k_1c_Ac_B \\\\\n",
    "\\frac{dc_B}{dt} &=& \\frac{(cin_B - c_B)qin_B}{V} - k_1c_Ac_B \\\\\n",
    "\\frac{dc_C}{dt} &=& -\\frac{c_Cqin_B}{V} + k_1c_Ac_B \\\\\n",
    "\\frac{dV}{dt} &=& qin_B\n",
    "\\end{eqnarray}\n",
    "$$"
   ]
  },
  {
   "cell_type": "code",
   "execution_count": 2,
   "metadata": {},
   "outputs": [
    {
     "name": "stdout",
     "output_type": "stream",
     "text": [
      "Warning: Component A variance not provided\n",
      "Warning: Component B variance not provided\n",
      "Warning: Component C variance not provided\n",
      "Warning: Component V variance not provided\n",
      "Warning: Component qin_B variance not provided\n"
     ]
    }
   ],
   "source": [
    "kipet_model = KipetModel()\n",
    "\n",
    "r1 = kipet_model.new_reaction('fed_batch_parest')\n",
    "\n",
    "r1.add_parameter('k1', init = 0.1)\n",
    "\n",
    "r1.add_component('A', state = 'concentration', init = 2.0)\n",
    "r1.add_component('B', state = 'concentration', init = 0.0)\n",
    "r1.add_component('C', state = 'concentration', init = 0.0)\n",
    "\n",
    "r1.add_component('V', state = 'state', init = 1.0)\n",
    "\n",
    "r1.add_component('qin_B', state = 'trajectory')\n",
    "r1.add_algebraic_variables(['qin_B'])\n",
    "\n",
    "cin_B = 2"
   ]
  },
  {
   "cell_type": "code",
   "execution_count": 3,
   "metadata": {},
   "outputs": [],
   "source": [
    "def rule_odes(m,t):\n",
    "    exprs = dict()\n",
    "    exprs['A'] = -m.Z[t,'A'] * m.Y[t,'qin_B']/m.X[t,'V']-m.P['k1']*m.Z[t,'A']*m.Z[t,'B']\n",
    "    exprs['B'] = (cin_B*m.Y[t,'qin_B'] - m.Z[t,'B'] * m.Y[t,'qin_B'])/m.X[t,'V']- m.P['k1']*m.Z[t,'A']*m.Z[t,'B']\n",
    "    exprs['C'] = -m.Z[t,'C'] * m.Y[t,'qin_B']/m.X[t,'V'] + m.P['k1']*m.Z[t,'A']*m.Z[t,'B']\n",
    "    exprs['V'] = m.Y[t, 'qin_B']\n",
    "    return exprs\n",
    "\n",
    "r1.add_equations(rule_odes)"
   ]
  },
  {
   "cell_type": "code",
   "execution_count": 4,
   "metadata": {},
   "outputs": [
    {
     "data": {
      "text/html": [
       "<div>\n",
       "<style scoped>\n",
       "    .dataframe tbody tr th:only-of-type {\n",
       "        vertical-align: middle;\n",
       "    }\n",
       "\n",
       "    .dataframe tbody tr th {\n",
       "        vertical-align: top;\n",
       "    }\n",
       "\n",
       "    .dataframe thead th {\n",
       "        text-align: right;\n",
       "    }\n",
       "</style>\n",
       "<table border=\"1\" class=\"dataframe\">\n",
       "  <thead>\n",
       "    <tr style=\"text-align: right;\">\n",
       "      <th></th>\n",
       "      <th>qin_B</th>\n",
       "    </tr>\n",
       "    <tr>\n",
       "      <th>t</th>\n",
       "      <th></th>\n",
       "    </tr>\n",
       "  </thead>\n",
       "  <tbody>\n",
       "    <tr>\n",
       "      <th>0</th>\n",
       "      <td>0.1</td>\n",
       "    </tr>\n",
       "    <tr>\n",
       "      <th>15</th>\n",
       "      <td>0.1</td>\n",
       "    </tr>\n",
       "    <tr>\n",
       "      <th>16</th>\n",
       "      <td>0.0</td>\n",
       "    </tr>\n",
       "  </tbody>\n",
       "</table>\n",
       "</div>"
      ],
      "text/plain": [
       "    qin_B\n",
       "t        \n",
       "0     0.1\n",
       "15    0.1\n",
       "16    0.0"
      ]
     },
     "execution_count": 4,
     "metadata": {},
     "output_type": "execute_result"
    }
   ],
   "source": [
    "qin_B_df = pd.DataFrame({'t':[0, 15, 16], 'qin_B': [0.1, 0.1, 0]}).set_index('t')\n",
    "qin_B_df"
   ]
  },
  {
   "cell_type": "code",
   "execution_count": 5,
   "metadata": {},
   "outputs": [
    {
     "data": {
      "text/html": [
       "<div>\n",
       "<style scoped>\n",
       "    .dataframe tbody tr th:only-of-type {\n",
       "        vertical-align: middle;\n",
       "    }\n",
       "\n",
       "    .dataframe tbody tr th {\n",
       "        vertical-align: top;\n",
       "    }\n",
       "\n",
       "    .dataframe thead th {\n",
       "        text-align: right;\n",
       "    }\n",
       "</style>\n",
       "<table border=\"1\" class=\"dataframe\">\n",
       "  <thead>\n",
       "    <tr style=\"text-align: right;\">\n",
       "      <th></th>\n",
       "      <th>qin_B</th>\n",
       "    </tr>\n",
       "    <tr>\n",
       "      <th>t</th>\n",
       "      <th></th>\n",
       "    </tr>\n",
       "  </thead>\n",
       "  <tbody>\n",
       "    <tr>\n",
       "      <th>0</th>\n",
       "      <td>0.1</td>\n",
       "    </tr>\n",
       "    <tr>\n",
       "      <th>15</th>\n",
       "      <td>0.1</td>\n",
       "    </tr>\n",
       "    <tr>\n",
       "      <th>16</th>\n",
       "      <td>0.0</td>\n",
       "    </tr>\n",
       "  </tbody>\n",
       "</table>\n",
       "</div>"
      ],
      "text/plain": [
       "    qin_B\n",
       "t        \n",
       "0     0.1\n",
       "15    0.1\n",
       "16    0.0"
      ]
     },
     "execution_count": 5,
     "metadata": {},
     "output_type": "execute_result"
    }
   ],
   "source": [
    "r1.add_dataset('Traj', category = 'trajectory', data = qin_B_df)\n",
    "r1.datasets['Traj'].data"
   ]
  },
  {
   "cell_type": "code",
   "execution_count": 6,
   "metadata": {},
   "outputs": [],
   "source": [
    "#r1.fix_from_trajectory('Y', 'qin_B', 'Traj')"
   ]
  },
  {
   "cell_type": "code",
   "execution_count": 7,
   "metadata": {},
   "outputs": [
    {
     "data": {
      "text/html": [
       "<div>\n",
       "<style scoped>\n",
       "    .dataframe tbody tr th:only-of-type {\n",
       "        vertical-align: middle;\n",
       "    }\n",
       "\n",
       "    .dataframe tbody tr th {\n",
       "        vertical-align: top;\n",
       "    }\n",
       "\n",
       "    .dataframe thead th {\n",
       "        text-align: right;\n",
       "    }\n",
       "</style>\n",
       "<table border=\"1\" class=\"dataframe\">\n",
       "  <thead>\n",
       "    <tr style=\"text-align: right;\">\n",
       "      <th></th>\n",
       "      <th>A</th>\n",
       "      <th>B</th>\n",
       "      <th>C</th>\n",
       "    </tr>\n",
       "  </thead>\n",
       "  <tbody>\n",
       "    <tr>\n",
       "      <th>0.000000</th>\n",
       "      <td>2.083423</td>\n",
       "      <td>0.000000</td>\n",
       "      <td>0.000000</td>\n",
       "    </tr>\n",
       "    <tr>\n",
       "      <th>0.006957</th>\n",
       "      <td>2.050325</td>\n",
       "      <td>0.001389</td>\n",
       "      <td>0.000001</td>\n",
       "    </tr>\n",
       "    <tr>\n",
       "      <th>0.125632</th>\n",
       "      <td>1.819311</td>\n",
       "      <td>0.024509</td>\n",
       "      <td>0.000306</td>\n",
       "    </tr>\n",
       "    <tr>\n",
       "      <th>0.556208</th>\n",
       "      <td>2.044662</td>\n",
       "      <td>0.099940</td>\n",
       "      <td>0.005443</td>\n",
       "    </tr>\n",
       "    <tr>\n",
       "      <th>1.495467</th>\n",
       "      <td>1.541831</td>\n",
       "      <td>0.228099</td>\n",
       "      <td>0.032088</td>\n",
       "    </tr>\n",
       "    <tr>\n",
       "      <th>3.140156</th>\n",
       "      <td>1.213143</td>\n",
       "      <td>0.376072</td>\n",
       "      <td>0.101885</td>\n",
       "    </tr>\n",
       "    <tr>\n",
       "      <th>5.778965</th>\n",
       "      <td>1.342635</td>\n",
       "      <td>0.514788</td>\n",
       "      <td>0.217732</td>\n",
       "    </tr>\n",
       "    <tr>\n",
       "      <th>10.109477</th>\n",
       "      <td>0.844124</td>\n",
       "      <td>0.649458</td>\n",
       "      <td>0.355846</td>\n",
       "    </tr>\n",
       "    <tr>\n",
       "      <th>15.010179</th>\n",
       "      <td>0.700708</td>\n",
       "      <td>0.753979</td>\n",
       "      <td>0.439982</td>\n",
       "    </tr>\n",
       "    <tr>\n",
       "      <th>16.201092</th>\n",
       "      <td>-0.063078</td>\n",
       "      <td>0.723019</td>\n",
       "      <td>0.470846</td>\n",
       "    </tr>\n",
       "    <tr>\n",
       "      <th>20.053501</th>\n",
       "      <td>0.283442</td>\n",
       "      <td>0.645382</td>\n",
       "      <td>0.548498</td>\n",
       "    </tr>\n",
       "    <tr>\n",
       "      <th>30.205668</th>\n",
       "      <td>0.341901</td>\n",
       "      <td>0.530811</td>\n",
       "      <td>0.663064</td>\n",
       "    </tr>\n",
       "    <tr>\n",
       "      <th>43.388437</th>\n",
       "      <td>0.054756</td>\n",
       "      <td>0.462586</td>\n",
       "      <td>0.731291</td>\n",
       "    </tr>\n",
       "    <tr>\n",
       "      <th>57.814175</th>\n",
       "      <td>-0.368227</td>\n",
       "      <td>0.427244</td>\n",
       "      <td>0.766634</td>\n",
       "    </tr>\n",
       "  </tbody>\n",
       "</table>\n",
       "</div>"
      ],
      "text/plain": [
       "                  A         B         C\n",
       "0.000000   2.083423  0.000000  0.000000\n",
       "0.006957   2.050325  0.001389  0.000001\n",
       "0.125632   1.819311  0.024509  0.000306\n",
       "0.556208   2.044662  0.099940  0.005443\n",
       "1.495467   1.541831  0.228099  0.032088\n",
       "3.140156   1.213143  0.376072  0.101885\n",
       "5.778965   1.342635  0.514788  0.217732\n",
       "10.109477  0.844124  0.649458  0.355846\n",
       "15.010179  0.700708  0.753979  0.439982\n",
       "16.201092 -0.063078  0.723019  0.470846\n",
       "20.053501  0.283442  0.645382  0.548498\n",
       "30.205668  0.341901  0.530811  0.663064\n",
       "43.388437  0.054756  0.462586  0.731291\n",
       "57.814175 -0.368227  0.427244  0.766634"
      ]
     },
     "execution_count": 7,
     "metadata": {},
     "output_type": "execute_result"
    }
   ],
   "source": [
    "filename = '/home/paperspace/learn_kipet/my_data_sets/ABC_fedbatch.csv'\n",
    "C_data = pd.read_csv(filename, index_col = 0)\n",
    "C_data = C_data[['A', 'B', 'C']]\n",
    "r1.add_dataset('C_data', category='concentration', data = C_data)\n",
    "r1.datasets['C_data'].data"
   ]
  },
  {
   "cell_type": "code",
   "execution_count": 8,
   "metadata": {},
   "outputs": [],
   "source": [
    "#r1.settings.collocation.nfe = 60"
   ]
  },
  {
   "cell_type": "code",
   "execution_count": 9,
   "metadata": {},
   "outputs": [],
   "source": [
    "r1.fix_from_trajectory('Y', 'qin_B', 'Traj')\n",
    "r1.set_times(0, 60.0)"
   ]
  },
  {
   "cell_type": "code",
   "execution_count": 10,
   "metadata": {},
   "outputs": [
    {
     "name": "stdout",
     "output_type": "stream",
     "text": [
      "Warning! Since Cm-matrix contains negative values Kipet is assuming a derivative of Cm has been inputted\n",
      "times are: <class 'tuple'>\n",
      "0 60.0\n",
      "WARNING: algebraic expressions not specified. Must be specified by user after creating the model\n",
      "WARNING: DEPRECATED: The default domain for Param objects is 'Any'.  However,\n",
      "    we will be changing that default to 'Reals' in the future.  If you really\n",
      "    intend the domain of this Param (sigma) to be 'Any', you can suppress this\n",
      "    warning by explicitly specifying 'within=Any' to the Param constructor.\n",
      "    (deprecated in 5.6.9, will be removed in 6.0) (called from\n",
      "    /home/paperspace/my_pyenvs/kipetenv/lib/python3.7/site-\n",
      "    packages/Pyomo-5.7.1-py3.7-linux-x86_64.egg/pyomo/core/base/param.py:640)\n",
      "WARNING: DEPRECATED: The default domain for Param objects is 'Any'.  However,\n",
      "    we will be changing that default to 'Reals' in the future.  If you really\n",
      "    intend the domain of this Param (sigma) to be 'Any', you can suppress this\n",
      "    warning by explicitly specifying 'within=Any' to the Param constructor.\n",
      "    (deprecated in 5.6.9, will be removed in 6.0) (called from\n",
      "    /home/paperspace/my_pyenvs/kipetenv/lib/python3.7/site-\n",
      "    packages/Pyomo-5.7.1-py3.7-linux-x86_64.egg/pyomo/core/base/param.py:640)\n",
      "WARNING: DEPRECATED: The default domain for Param objects is 'Any'.  However,\n",
      "    we will be changing that default to 'Reals' in the future.  If you really\n",
      "    intend the domain of this Param (sigma) to be 'Any', you can suppress this\n",
      "    warning by explicitly specifying 'within=Any' to the Param constructor.\n",
      "    (deprecated in 5.6.9, will be removed in 6.0) (called from\n",
      "    /home/paperspace/my_pyenvs/kipetenv/lib/python3.7/site-\n",
      "    packages/Pyomo-5.7.1-py3.7-linux-x86_64.egg/pyomo/core/base/param.py:640)\n",
      "No variance information for A found, setting equal to unity\n",
      "No variance information for B found, setting equal to unity\n",
      "No variance information for C found, setting equal to unity\n",
      "No variance information for V found, setting equal to unity\n",
      "No variance information for qin_B found, setting equal to unity\n",
      "Ipopt 3.12: nlp_scaling_method=user-scaling\n",
      "linear_solver=ma27\n",
      "\n",
      "\n",
      "******************************************************************************\n",
      "This program contains Ipopt, a library for large-scale nonlinear optimization.\n",
      " Ipopt is released as open source code under the Eclipse Public License (EPL).\n",
      "         For more information visit http://projects.coin-or.org/Ipopt\n",
      "******************************************************************************\n",
      "\n",
      "This is Ipopt version 3.12, running with linear solver ma27.\n",
      "\n",
      "Number of nonzeros in equality constraint Jacobian...:     5554\n",
      "Number of nonzeros in inequality constraint Jacobian.:        0\n",
      "Number of nonzeros in Lagrangian Hessian.............:      783\n",
      "\n",
      "Total number of variables............................:     1205\n",
      "                     variables with only lower bounds:        0\n",
      "                variables with lower and upper bounds:        0\n",
      "                     variables with only upper bounds:        0\n",
      "Total number of equality constraints.................:     1204\n",
      "Total number of inequality constraints...............:        0\n",
      "        inequality constraints with only lower bounds:        0\n",
      "   inequality constraints with lower and upper bounds:        0\n",
      "        inequality constraints with only upper bounds:        0\n",
      "\n",
      "iter    objective    inf_pr   inf_du lg(mu)  ||d||  lg(rg) alpha_du alpha_pr  ls\n",
      "   0  3.7673048e+01 1.00e+00 6.61e-02  -1.0 0.00e+00    -  0.00e+00 0.00e+00   0\n",
      "   1  1.3706725e+01 2.12e-01 5.51e+00  -1.7 1.55e+00    -  1.00e+00 1.00e+00f  1\n",
      "   2  1.2299757e+00 6.88e-02 5.11e+00  -1.7 1.43e+00    -  1.00e+00 1.00e+00f  1\n",
      "   3  1.1695316e+00 3.44e-02 9.06e+00  -1.7 4.02e-01    -  1.00e+00 1.00e+00h  1\n",
      "   4  7.4688346e-01 4.98e-03 2.95e+00  -1.7 1.88e-01    -  1.00e+00 1.00e+00h  1\n",
      "   5  7.3336243e-01 9.36e-05 3.13e-01  -1.7 4.41e-02    -  1.00e+00 1.00e+00h  1\n",
      "   6  7.3336926e-01 7.09e-06 4.53e-03  -1.7 4.13e-03    -  1.00e+00 1.00e+00h  1\n",
      "   7  7.3339147e-01 6.77e-09 1.34e-06  -3.8 9.66e-05    -  1.00e+00 1.00e+00h  1\n",
      "   8  7.3339148e-01 2.50e-13 1.60e-13  -8.6 4.00e-08    -  1.00e+00 1.00e+00h  1\n",
      "\n",
      "Number of Iterations....: 8\n",
      "\n",
      "                                   (scaled)                 (unscaled)\n",
      "Objective...............:   7.3339148038688917e-01    7.3339148038688917e-01\n",
      "Dual infeasibility......:   1.5991580889357371e-13    1.5991580889357371e-13\n",
      "Constraint violation....:   2.5010549187243214e-13    2.5010549187243214e-13\n",
      "Complementarity.........:   0.0000000000000000e+00    0.0000000000000000e+00\n",
      "Overall NLP error.......:   2.5010549187243214e-13    2.5010549187243214e-13\n",
      "\n",
      "\n",
      "Number of objective function evaluations             = 9\n",
      "Number of objective gradient evaluations             = 9\n",
      "Number of equality constraint evaluations            = 9\n",
      "Number of inequality constraint evaluations          = 0\n",
      "Number of equality constraint Jacobian evaluations   = 9\n",
      "Number of inequality constraint Jacobian evaluations = 0\n",
      "Number of Lagrangian Hessian evaluations             = 8\n",
      "Total CPU secs in IPOPT (w/o function evaluations)   =      0.016\n",
      "Total CPU secs in NLP function evaluations           =      0.004\n",
      "\n",
      "EXIT: Optimal Solution Found.\n"
     ]
    },
    {
     "data": {
      "text/plain": [
       "\n",
       "RESULTS\n",
       "Z:\n",
       "                   A         B             C\n",
       "0.000000   2.000000  0.000000  0.000000e+00\n",
       "0.001079   1.999784  0.000216  2.248753e-08\n",
       "0.004487   1.999103  0.000897  3.887769e-07\n",
       "0.006957   1.998609  0.001389  9.341183e-07\n",
       "0.025358   1.994929  0.005046  1.236097e-05\n",
       "...             ...       ...           ...\n",
       "58.519048  0.034680  0.466361  7.494795e-01\n",
       "58.907088  0.034079  0.465760  7.500804e-01\n",
       "59.076545  0.033820  0.465502  7.503393e-01\n",
       "59.611960  0.033016  0.464697  7.511436e-01\n",
       "60.000000  0.032445  0.464127  7.517137e-01\n",
       "\n",
       "[151 rows x 3 columns]\n",
       "\n",
       "Cm:\n",
       "                   A         B         C\n",
       "0.000000   2.083423  0.000000  0.000000\n",
       "0.006957   2.050325  0.001389  0.000001\n",
       "0.125632   1.819311  0.024509  0.000306\n",
       "0.556208   2.044662  0.099940  0.005443\n",
       "1.495467   1.541831  0.228099  0.032088\n",
       "3.140156   1.213143  0.376072  0.101885\n",
       "5.778965   1.342635  0.514788  0.217732\n",
       "10.109477  0.844124  0.649458  0.355846\n",
       "15.010179  0.700708  0.753979  0.439982\n",
       "16.201092 -0.063078  0.723019  0.470846\n",
       "20.053501  0.283442  0.645382  0.548498\n",
       "30.205668  0.341901  0.530811  0.663064\n",
       "43.388437  0.054756  0.462586  0.731291\n",
       "57.814175 -0.368227  0.427244  0.766634\n",
       "\n",
       "X:\n",
       "                   V\n",
       "0.000000   1.000000\n",
       "0.001079   1.000108\n",
       "0.004487   1.000449\n",
       "0.006957   1.000696\n",
       "0.025358   1.002536\n",
       "...             ...\n",
       "58.519048  2.550506\n",
       "58.907088  2.550506\n",
       "59.076545  2.550506\n",
       "59.611960  2.550506\n",
       "60.000000  2.550506\n",
       "\n",
       "[151 rows x 1 columns]\n",
       "\n",
       "dZdt:\n",
       "                   A         B         C\n",
       "0.000000   0.000000  0.000000  0.000000\n",
       "0.001079  -0.199999  0.199915  0.000042\n",
       "0.004487  -0.199994  0.199647  0.000173\n",
       "0.006957  -0.199990  0.199454  0.000268\n",
       "0.025358  -0.199961  0.198018  0.000972\n",
       "...             ...       ...       ...\n",
       "58.519048 -0.001563 -0.001563  0.001563\n",
       "58.907088 -0.001534 -0.001534  0.001534\n",
       "59.076545 -0.001522 -0.001522  0.001522\n",
       "59.611960 -0.001483 -0.001483  0.001483\n",
       "60.000000 -0.001456 -0.001456  0.001456\n",
       "\n",
       "[151 rows x 3 columns]\n",
       "\n",
       "dXdt:\n",
       "              V\n",
       "0.000000   0.0\n",
       "0.001079   0.1\n",
       "0.004487   0.1\n",
       "0.006957   0.1\n",
       "0.025358   0.1\n",
       "...        ...\n",
       "58.519048  0.0\n",
       "58.907088  0.0\n",
       "59.076545  0.0\n",
       "59.611960  0.0\n",
       "60.000000  0.0\n",
       "\n",
       "[151 rows x 1 columns]\n",
       "\n",
       "P:\n",
       " {'k1': 0.09665537045281214}\n",
       "\n",
       "Y:\n",
       "            qin_B\n",
       "0.000000     0.1\n",
       "0.001079     0.1\n",
       "0.004487     0.1\n",
       "0.006957     0.1\n",
       "0.025358     0.1\n",
       "...          ...\n",
       "58.519048    0.0\n",
       "58.907088    0.0\n",
       "59.076545    0.0\n",
       "59.611960    0.0\n",
       "60.000000    0.0\n",
       "\n",
       "[151 rows x 1 columns]\n"
      ]
     },
     "execution_count": 10,
     "metadata": {},
     "output_type": "execute_result"
    }
   ],
   "source": [
    "r1.settings.solver.linear_solver = 'ma27'\n",
    "r1.run_opt()  "
   ]
  },
  {
   "cell_type": "code",
   "execution_count": 11,
   "metadata": {},
   "outputs": [
    {
     "name": "stdout",
     "output_type": "stream",
     "text": [
      "\n",
      "The estimated parameters are:\n",
      "k1 0.09665537045281214\n"
     ]
    }
   ],
   "source": [
    "# Display the results\n",
    "r1.results.show_parameters"
   ]
  },
  {
   "cell_type": "code",
   "execution_count": 12,
   "metadata": {},
   "outputs": [
    {
     "data": {
      "text/plain": [
       "[<matplotlib.lines.Line2D at 0x7fec5b798240>]"
      ]
     },
     "execution_count": 12,
     "metadata": {},
     "output_type": "execute_result"
    },
    {
     "data": {
      "image/png": "[encoded data removed]",
      "text/plain": [
       "<Figure size 432x288 with 1 Axes>"
      ]
     },
     "metadata": {
      "needs_background": "light"
     },
     "output_type": "display_data"
    }
   ],
   "source": [
    "plt.plot(r1.results.Y.index, r1.results.Y['qin_B'])"
   ]
  },
  {
   "cell_type": "code",
   "execution_count": 13,
   "metadata": {},
   "outputs": [
    {
     "data": {
      "text/plain": [
       "[<matplotlib.lines.Line2D at 0x7fec6b079c88>]"
      ]
     },
     "execution_count": 13,
     "metadata": {},
     "output_type": "execute_result"
    },
    {
     "data": {
      "image/png": "[encoded data removed]",
      "text/plain": [
       "<Figure size 432x288 with 1 Axes>"
      ]
     },
     "metadata": {
      "needs_background": "light"
     },
     "output_type": "display_data"
    }
   ],
   "source": [
    "plt.plot(r1.results.X.index, r1.results.X['V'])"
   ]
  },
  {
   "cell_type": "code",
   "execution_count": 14,
   "metadata": {},
   "outputs": [
    {
     "data": {
      "text/plain": [
       "<matplotlib.legend.Legend at 0x7fec6b0022b0>"
      ]
     },
     "execution_count": 14,
     "metadata": {},
     "output_type": "execute_result"
    },
    {
     "data": {
      "image/png": "[encoded data removed]",
      "text/plain": [
       "<Figure size 432x288 with 1 Axes>"
      ]
     },
     "metadata": {
      "needs_background": "light"
     },
     "output_type": "display_data"
    }
   ],
   "source": [
    "fig, ax = plt.subplots()\n",
    "for c in ['A', 'B', 'C']:\n",
    "    ax.plot(r1.results.Z.index, r1.results.Z[c], label = c)\n",
    "    ax.scatter(r1.datasets['C_data'].data.index, r1.datasets['C_data'].data[c])\n",
    "ax.legend()"
   ]
  },
  {
   "cell_type": "code",
   "execution_count": null,
   "metadata": {},
   "outputs": [],
   "source": []
  }
 ],
 "metadata": {
  "kernelspec": {
   "display_name": "Python 3",
   "language": "python",
   "name": "python3"
  },
  "language_info": {
   "codemirror_mode": {
    "name": "ipython",
    "version": 3
   },
   "file_extension": ".py",
   "mimetype": "text/x-python",
   "name": "python",
   "nbconvert_exporter": "python",
   "pygments_lexer": "ipython3",
   "version": "3.7.3"
  }
 },
 "nbformat": 4,
 "nbformat_minor": 2
}
