{
 "cells": [
  {
   "cell_type": "markdown",
   "metadata": {},
   "source": [
    "## Parameter Fitting to a Simple Series Reaction\n",
    "\n",
    "jbr book reference: [Figure A.10](https://sites.engineering.ucsb.edu/~jbraw/chemreacfun/fig-html/appendix/fig-A-10.html)\n",
    "\n",
    "Reaction is $A \\xrightarrow[]{k_1} B \\xrightarrow[]{k_2} C$\n",
    "\n",
    "Data simulated for $A$, $B$, and $C$ over time (with added noise) based on:\n",
    "$ c_{A0} = 1, c_{B0} = 0, c_{c0} = 0, k_1 = 2, k_2 = 1$\n",
    "\n",
    "The above parameters are also the parameters that will be fitted based on the data"
   ]
  },
  {
   "cell_type": "code",
   "execution_count": 18,
   "metadata": {},
   "outputs": [],
   "source": [
    "from kipet import KipetModel\n",
    "import numpy as np\n",
    "import pyomo.environ as pyo\n",
    "import matplotlib.pyplot as plt\n",
    "import pandas as pd\n",
    "from scipy.stats import t"
   ]
  },
  {
   "cell_type": "code",
   "execution_count": 2,
   "metadata": {},
   "outputs": [],
   "source": [
    "dirname = '/home/paperspace/learn_kipet/kipet_paresto/data_sets/'\n",
    "filename = dirname + 'ABC_data.csv'\n",
    "C_data = pd.read_csv(filename, index_col = 0)"
   ]
  },
  {
   "cell_type": "code",
   "execution_count": 3,
   "metadata": {},
   "outputs": [
    {
     "data": {
      "text/html": [
       "<div>\n",
       "<style scoped>\n",
       "    .dataframe tbody tr th:only-of-type {\n",
       "        vertical-align: middle;\n",
       "    }\n",
       "\n",
       "    .dataframe tbody tr th {\n",
       "        vertical-align: top;\n",
       "    }\n",
       "\n",
       "    .dataframe thead th {\n",
       "        text-align: right;\n",
       "    }\n",
       "</style>\n",
       "<table border=\"1\" class=\"dataframe\">\n",
       "  <thead>\n",
       "    <tr style=\"text-align: right;\">\n",
       "      <th></th>\n",
       "      <th>A</th>\n",
       "      <th>B</th>\n",
       "      <th>C</th>\n",
       "    </tr>\n",
       "    <tr>\n",
       "      <th>t</th>\n",
       "      <th></th>\n",
       "      <th></th>\n",
       "      <th></th>\n",
       "    </tr>\n",
       "  </thead>\n",
       "  <tbody>\n",
       "    <tr>\n",
       "      <th>0.000</th>\n",
       "      <td>0.957</td>\n",
       "      <td>-0.031</td>\n",
       "      <td>-0.015</td>\n",
       "    </tr>\n",
       "    <tr>\n",
       "      <th>0.263</th>\n",
       "      <td>0.557</td>\n",
       "      <td>0.330</td>\n",
       "      <td>0.044</td>\n",
       "    </tr>\n",
       "    <tr>\n",
       "      <th>0.526</th>\n",
       "      <td>0.342</td>\n",
       "      <td>0.512</td>\n",
       "      <td>0.156</td>\n",
       "    </tr>\n",
       "    <tr>\n",
       "      <th>0.789</th>\n",
       "      <td>0.224</td>\n",
       "      <td>0.499</td>\n",
       "      <td>0.310</td>\n",
       "    </tr>\n",
       "    <tr>\n",
       "      <th>1.053</th>\n",
       "      <td>0.123</td>\n",
       "      <td>0.428</td>\n",
       "      <td>0.454</td>\n",
       "    </tr>\n",
       "  </tbody>\n",
       "</table>\n",
       "</div>"
      ],
      "text/plain": [
       "           A      B      C\n",
       "t                         \n",
       "0.000  0.957 -0.031 -0.015\n",
       "0.263  0.557  0.330  0.044\n",
       "0.526  0.342  0.512  0.156\n",
       "0.789  0.224  0.499  0.310\n",
       "1.053  0.123  0.428  0.454"
      ]
     },
     "execution_count": 3,
     "metadata": {},
     "output_type": "execute_result"
    }
   ],
   "source": [
    "C_data.columns = ['A', 'B', 'C']\n",
    "C_data.head()"
   ]
  },
  {
   "cell_type": "code",
   "execution_count": 4,
   "metadata": {},
   "outputs": [
    {
     "name": "stdout",
     "output_type": "stream",
     "text": [
      "Warning: Component A variance not provided\n",
      "Warning: Component B variance not provided\n",
      "Warning: Component C variance not provided\n"
     ]
    }
   ],
   "source": [
    "kipet_model = KipetModel()\n",
    "\n",
    "r1 = kipet_model.new_reaction('rxn1')\n",
    "\n",
    "r1.add_component('A', state = 'concentration', init = 1.0)\n",
    "r1.add_component('B', state = 'concentration', init = 0.0)\n",
    "r1.add_component('C', state = 'concentration', init = 0.0)\n",
    "\n",
    "r1.add_parameter('k1',init = 5.0, bounds=(0.0,10.0))\n",
    "r1.add_parameter('k2',init = 5.0, bounds=(0.0,10.0))\n",
    "r1.add_parameter('ca0', init = 1.0, bounds = (0.5, 1.5))\n",
    "r1.add_parameter('cb0', init = 0.0, bounds = (0.0, 1.5))\n",
    "r1.add_parameter('cc0', init = 0.0, bounds = (0.0, 1.5))"
   ]
  },
  {
   "cell_type": "code",
   "execution_count": 5,
   "metadata": {},
   "outputs": [],
   "source": [
    "# define explicit system of ODEs\n",
    "def rule_odes(m,t):\n",
    "    exprs = dict()\n",
    "    exprs['A'] = -m.P['k1']*m.Z[t,'A']\n",
    "    exprs['B'] = m.P['k1']*m.Z[t,'A']-m.P['k2']*m.Z[t,'B']\n",
    "    exprs['C'] = m.P['k2']*m.Z[t,'B']\n",
    "    return exprs\n",
    "\n",
    "r1.add_equations(rule_odes)\n",
    "r1.set_times(0.0, 5.0)"
   ]
  },
  {
   "cell_type": "code",
   "execution_count": 6,
   "metadata": {},
   "outputs": [],
   "source": [
    "r1.add_dataset('C_data', category = 'concentration', data = C_data)"
   ]
  },
  {
   "cell_type": "code",
   "execution_count": 7,
   "metadata": {},
   "outputs": [
    {
     "name": "stdout",
     "output_type": "stream",
     "text": [
      "Warning! Since Cm-matrix contains negative values Kipet is assuming a derivative of Cm has been inputted\n",
      "times are: <class 'tuple'>\n",
      "0.0 5.0\n",
      "WARNING: DEPRECATED: The default domain for Param objects is 'Any'.  However,\n",
      "    we will be changing that default to 'Reals' in the future.  If you really\n",
      "    intend the domain of this Param (sigma) to be 'Any', you can suppress this\n",
      "    warning by explicitly specifying 'within=Any' to the Param constructor.\n",
      "    (deprecated in 5.6.9, will be removed in 6.0) (called from\n",
      "    /home/paperspace/my_pyenvs/kipetenv/lib/python3.7/site-\n",
      "    packages/Pyomo-5.7.1-py3.7-linux-x86_64.egg/pyomo/core/base/param.py:640)\n",
      "WARNING: DEPRECATED: The default domain for Param objects is 'Any'.  However,\n",
      "    we will be changing that default to 'Reals' in the future.  If you really\n",
      "    intend the domain of this Param (sigma) to be 'Any', you can suppress this\n",
      "    warning by explicitly specifying 'within=Any' to the Param constructor.\n",
      "    (deprecated in 5.6.9, will be removed in 6.0) (called from\n",
      "    /home/paperspace/my_pyenvs/kipetenv/lib/python3.7/site-\n",
      "    packages/Pyomo-5.7.1-py3.7-linux-x86_64.egg/pyomo/core/base/param.py:640)\n",
      "WARNING: DEPRECATED: The default domain for Param objects is 'Any'.  However,\n",
      "    we will be changing that default to 'Reals' in the future.  If you really\n",
      "    intend the domain of this Param (sigma) to be 'Any', you can suppress this\n",
      "    warning by explicitly specifying 'within=Any' to the Param constructor.\n",
      "    (deprecated in 5.6.9, will be removed in 6.0) (called from\n",
      "    /home/paperspace/my_pyenvs/kipetenv/lib/python3.7/site-\n",
      "    packages/Pyomo-5.7.1-py3.7-linux-x86_64.egg/pyomo/core/base/param.py:640)\n"
     ]
    }
   ],
   "source": [
    "r1.create_pyomo_model()"
   ]
  },
  {
   "cell_type": "code",
   "execution_count": 8,
   "metadata": {},
   "outputs": [],
   "source": [
    "# explicitly add constraints for initial conditions and relax the auto-imposed initial conditions by builder\n",
    "r1.model.ca0_cons = pyo.Constraint(expr = r1.model.Z[0, 'A'] == r1.model.P['ca0'])\n",
    "r1.model.cb0_cons = pyo.Constraint(expr = r1.model.Z[0, 'B'] == r1.model.P['cb0'])\n",
    "r1.model.cc0_cons = pyo.Constraint(expr = r1.model.Z[0, 'C'] == r1.model.P['cc0'])\n",
    "r1.model.init_conditions_c.deactivate()"
   ]
  },
  {
   "cell_type": "code",
   "execution_count": 9,
   "metadata": {},
   "outputs": [],
   "source": [
    "r1.settings.collocation.nfe = 50\n",
    "r1.settings.collocation.ncp = 3\n",
    "r1.settings.collocation.scheme = 'LAGRANGE-RADAU'\n",
    "r1.settings.parameter_estimator['solver'] = 'k_aug'\n",
    "r1.settings.solver.linear_solver = 'ma27'"
   ]
  },
  {
   "cell_type": "code",
   "execution_count": 10,
   "metadata": {},
   "outputs": [
    {
     "name": "stdout",
     "output_type": "stream",
     "text": [
      "No variance information for A found, setting equal to unity\n",
      "No variance information for B found, setting equal to unity\n",
      "No variance information for C found, setting equal to unity\n",
      "        0.10 seconds required to write file\n",
      "        0.10 seconds required for presolve\n",
      "Ipopt 3.12: \n",
      "\n",
      "******************************************************************************\n",
      "This program contains Ipopt, a library for large-scale nonlinear optimization.\n",
      " Ipopt is released as open source code under the Eclipse Public License (EPL).\n",
      "         For more information visit http://projects.coin-or.org/Ipopt\n",
      "******************************************************************************\n",
      "\n",
      "This is Ipopt version 3.12, running with linear solver ma27.\n",
      "\n",
      "Number of nonzeros in equality constraint Jacobian...:     3906\n",
      "Number of nonzeros in inequality constraint Jacobian.:        0\n",
      "Number of nonzeros in Lagrangian Hessian.............:      360\n",
      "\n",
      "Total number of variables............................:      908\n",
      "                     variables with only lower bounds:        0\n",
      "                variables with lower and upper bounds:        5\n",
      "                     variables with only upper bounds:        0\n",
      "Total number of equality constraints.................:      903\n",
      "Total number of inequality constraints...............:        0\n",
      "        inequality constraints with only lower bounds:        0\n",
      "   inequality constraints with lower and upper bounds:        0\n",
      "        inequality constraints with only upper bounds:        0\n",
      "\n",
      "iter    objective    inf_pr   inf_du lg(mu)  ||d||  lg(rg) alpha_du alpha_pr  ls\n",
      "   0  3.4489051e+01 5.00e+00 1.00e+00  -1.0 0.00e+00    -  0.00e+00 0.00e+00   0\n",
      "   1  1.7664430e+00 9.91e-01 3.47e-01  -1.0 4.48e+00    -  8.17e-01 1.00e+00f  1\n",
      "   2  7.2577326e-01 5.46e-01 7.10e-02  -1.0 2.59e+00    -  9.22e-01 1.00e+00h  1\n",
      "   3  7.8391467e-02 1.09e-01 2.47e-01  -1.7 7.22e-01    -  1.00e+00 1.00e+00h  1\n",
      "   4  4.5300890e-02 9.19e-03 2.47e-02  -1.7 1.95e-01    -  1.00e+00 1.00e+00h  1\n",
      "   5  2.9281336e-02 6.81e-03 1.68e-02  -3.8 2.10e-01    -  9.17e-01 1.00e+00h  1\n",
      "   6  2.6016239e-02 1.00e-03 4.57e-05  -3.8 9.43e-02    -  1.00e+00 1.00e+00h  1\n",
      "   7  2.5250873e-02 2.74e-04 6.71e-04  -5.7 4.82e-02    -  9.88e-01 1.00e+00h  1\n",
      "   8  2.5110668e-02 5.66e-05 2.48e-06  -5.7 2.26e-02    -  1.00e+00 1.00e+00h  1\n",
      "   9  2.5081927e-02 8.34e-06 4.37e-07  -5.7 9.95e-03    -  1.00e+00 1.00e+00h  1\n",
      "iter    objective    inf_pr   inf_du lg(mu)  ||d||  lg(rg) alpha_du alpha_pr  ls\n",
      "  10  2.5075146e-02 1.36e-06 2.33e-07  -5.7 4.39e-03    -  1.00e+00 1.00e+00h  1\n",
      "  11  2.5073470e-02 4.60e-07 3.49e-05  -8.6 2.53e-03    -  9.85e-01 1.00e+00h  1\n",
      "  12  2.5073210e-02 8.42e-08 1.39e-08  -8.6 1.09e-03    -  1.00e+00 1.00e+00h  1\n",
      "  13  2.5073190e-02 8.80e-09 1.44e-09  -8.6 3.53e-04    -  1.00e+00 1.00e+00h  1\n",
      "  14  2.5073190e-02 1.40e-10 2.29e-11  -8.6 4.46e-05    -  1.00e+00 1.00e+00h  1\n",
      "\n",
      "Number of Iterations....: 14\n",
      "\n",
      "                                   (scaled)                 (unscaled)\n",
      "Objective...............:   2.5073189809004678e-02    2.5073189809004678e-02\n",
      "Dual infeasibility......:   2.2898592693578699e-11    2.2898592693578699e-11\n",
      "Constraint violation....:   1.4029599704201701e-10    1.4029599704201701e-10\n",
      "Complementarity.........:   2.9965365208101480e-09    2.9965365208101480e-09\n",
      "Overall NLP error.......:   2.9965365208101480e-09    2.9965365208101480e-09\n",
      "\n",
      "\n",
      "Number of objective function evaluations             = 15\n",
      "Number of objective gradient evaluations             = 15\n",
      "Number of equality constraint evaluations            = 15\n",
      "Number of inequality constraint evaluations          = 0\n",
      "Number of equality constraint Jacobian evaluations   = 15\n",
      "Number of inequality constraint Jacobian evaluations = 0\n",
      "Number of Lagrangian Hessian evaluations             = 14\n",
      "Total CPU secs in IPOPT (w/o function evaluations)   =      0.016\n",
      "Total CPU secs in NLP function evaluations           =      0.008\n",
      "\n",
      "EXIT: Optimal Solution Found.\n",
      "        0.06 seconds required for solver\n",
      "        0.00 seconds required to read logfile \n",
      "        0.00 seconds required to read solution file\n",
      "        0.01 seconds required for postsolve\n",
      "ipopt_zL_in : Direction=Suffix.EXPORT, Datatype=Suffix.FLOAT\n",
      "    Key : Value\n",
      "rh_name : Direction=Suffix.IMPORT, Datatype=Suffix.FLOAT\n",
      "    Key : Value\n",
      "ipopt_zL_in : Direction=Suffix.EXPORT, Datatype=Suffix.FLOAT\n",
      "    Key    : Value\n",
      "    P[ca0] :  5.171106692942595e-09\n",
      "    P[cb0] :  4.152468277143397e-06\n",
      "    P[cc0] : 2.3660993271804782e-07\n",
      "     P[k1] : 1.2445171196102037e-09\n",
      "     P[k2] :  2.542656698738785e-09\n"
     ]
    },
    {
     "name": "stderr",
     "output_type": "stream",
     "text": [
      "W[K_AUG]...\t[K_AUG_ASL]No n_rhs declared\n",
      "W[K_AUG]...\t[K_AUG_ASL]Target log10mu:= -11.\n",
      "W[K_AUG]...\t[K_AUG_ASL]No f_timestamp suffix declared, Fallback to default writing mode.\n",
      "I[K_AUG]...\t[K_AUG_ASL] Filename for dot_sens dot_in_.in\n"
     ]
    },
    {
     "name": "stdout",
     "output_type": "stream",
     "text": [
      "[K_AUG] written by D.T. @2018\n",
      "\n",
      ": I[K_AUG]...\t[K_AUG_ASL]File read succesfull\n",
      "I[K_AUG]...\t[K_AUG_ASL]Number of Right hand sides 0\n",
      "I[K_AUG]...\t[K_AUG_ASL]Number of Right hand sides: 0\n",
      "I[K_AUG]...\t[K_AUG_ASL]Number of variables       : 908\n",
      "I[K_AUG]...\t[K_AUG_ASL]Number of constraints     : 903\n",
      "I[K_AUG]...\t[K_AUG_ASL]Number of valid n_dof     : 5\n",
      "I[K_AUG]...\t[ADJUST_MU]log10(mu) computed=-8.601035646991736 at var_i=300\n",
      "I[K_AUG]...\t[ADJUST_MU]log10(mu) close to the target\t-8.601035646952257 at var_i=301\n",
      "I[K_AUG]...\t[FIND_INEQUALITIES]summary: eq: 903, leq: 0, geq: 0 \n",
      "I[K_AUG]...\t[K_AUG_ASL]Nonzeroes in the sparse Jacobian 3906\n",
      "I[K_AUG]...\t[GET_HESS_ASL]Objective found\n",
      "I[K_AUG]...\t[GET_HESS_ASL]Nonzeroes in the sparse hessian 360\n",
      "I[K_AUG]...\t[GET_HESS_ASL]Minimization problem detected\n",
      "I[K_AUG]...\t[GET_HESS_ASL]Current objective 0.025073\n",
      "I[K_AUG]...\t[GET_HESS_ASL]Missing nz in the Hessian of the Lag: 848\n",
      "I[K_AUG]...\t[K_AUG_ASL]Barrier term added.\n",
      "I[K_AUG]...\t[K_AUG_ASL]MC19 scaling...\n",
      "I[K_AUG]...\t[ASSM_RHS_RH]According to the suffixes declared dof is 5 \n",
      "I[K_AUG]...\t[ASSM_RHS_RH]n_dof exactly n_var - n_con \n",
      "I[K_AUG]...\t[MUMPS_DRIVER]n_neig = 903\n",
      "I[K_AUG]...\t[INERTIA_STRATEGY]Inertia check successful.\n",
      "I[K_AUG]...\t[MUMPS_DRIVER]: Ratio of norm of scaled residuals (reported); 1.180869e-16 \n",
      "I[K_AUG]...\t[MUMPS_DRIVER]Accuracy at an acceptable level.\n",
      "\n",
      "W[K_AUG]...\t[MUMPS_DRIVER]Inertia check OK neig=903, (neig == m).\n",
      "I[K_AUG]...\t[K_AUG_ASL]Linear solver done. \n",
      "\bI[K_AUG]...\t[K_AUG_ASL]Timings..Ev&Assem 0.016211, Fact 0.057605, Overall 0.064963.\n",
      "Done solving building reduce hessian\n",
      "25 hessian size\n",
      "Parameter variances:  [3.53291912 0.55342927 0.2337747  0.28569221 0.15038718]\n",
      "\n",
      "Confidence intervals:\n",
      "k1 (0.13394879338990906,3.8931610109095467)\n",
      "k2 (0.24161709714973123,1.7294736407306681)\n",
      "ca0 (0.501094603878085,1.4680996735291796)\n",
      "cb0 (-0.5337802194757032,0.5352234550628941)\n",
      "cc0 (-0.3772070115912785,0.39838871700349326)\n"
     ]
    },
    {
     "data": {
      "text/plain": [
       "\n",
       "RESULTS\n",
       "Z:\n",
       "                  A         B         C\n",
       "0.000000  0.984597  0.000722  0.010591\n",
       "0.010195  0.964592  0.020619  0.010699\n",
       "0.042405  0.904016  0.079590  0.012304\n",
       "0.065750  0.862505  0.118812  0.014592\n",
       "0.075945  0.844981  0.135060  0.015868\n",
       "...            ...       ...       ...\n",
       "4.821811  0.000060  0.016539  0.979311\n",
       "4.868500  0.000054  0.015800  0.980055\n",
       "4.888889  0.000052  0.015488  0.980369\n",
       "4.953311  0.000046  0.014542  0.981322\n",
       "5.000000  0.000042  0.013892  0.981976\n",
       "\n",
       "[151 rows x 3 columns]\n",
       "\n",
       "Cm:\n",
       "            A      B      C\n",
       "0.000  0.957 -0.031 -0.015\n",
       "0.263  0.557  0.330  0.044\n",
       "0.526  0.342  0.512  0.156\n",
       "0.789  0.224  0.499  0.310\n",
       "1.053  0.123  0.428  0.454\n",
       "1.316  0.079  0.396  0.556\n",
       "1.579  0.035  0.303  0.651\n",
       "1.842  0.029  0.287  0.658\n",
       "2.105  0.025  0.221  0.750\n",
       "2.368  0.017  0.148  0.854\n",
       "2.632 -0.002  0.182  0.845\n",
       "2.895  0.009  0.116  0.893\n",
       "3.158 -0.023  0.079  0.942\n",
       "3.421  0.006  0.078  0.899\n",
       "3.684  0.016  0.059  0.942\n",
       "3.947  0.014  0.036  0.991\n",
       "4.211 -0.009  0.014  0.988\n",
       "4.474 -0.030  0.036  0.941\n",
       "4.737  0.004  0.036  0.971\n",
       "5.000 -0.024  0.028  0.985\n",
       "\n",
       "dZdt:\n",
       "                  A         B         C\n",
       "0.000000  0.000000  0.000000  0.000000\n",
       "0.010195 -1.942259  1.921939  0.020320\n",
       "0.042405 -1.820285  1.741846  0.078439\n",
       "0.065750 -1.736702  1.619607  0.117095\n",
       "0.075945 -1.701416  1.568308  0.133108\n",
       "...            ...       ...       ...\n",
       "4.821811 -0.000120 -0.016179  0.016300\n",
       "4.868500 -0.000110 -0.015462  0.015572\n",
       "4.888889 -0.000105 -0.015159  0.015264\n",
       "4.953311 -0.000092 -0.014239  0.014331\n",
       "5.000000 -0.000084 -0.013607  0.013691\n",
       "\n",
       "[151 rows x 3 columns]\n",
       "\n",
       "P:\n",
       " {'k1': 2.013554902149728, 'k2': 0.9855453689401997, 'ca0': 0.9845971387036323, 'cb0': 0.0007216177935954641, 'cc0': 0.010590852706107375}\n"
      ]
     },
     "execution_count": 10,
     "metadata": {},
     "output_type": "execute_result"
    }
   ],
   "source": [
    "r1.run_opt()"
   ]
  },
  {
   "cell_type": "code",
   "execution_count": 11,
   "metadata": {},
   "outputs": [
    {
     "name": "stdout",
     "output_type": "stream",
     "text": [
      "\n",
      "The estimated parameters are:\n",
      "k1 2.013554902149728\n",
      "k2 0.9855453689401997\n",
      "ca0 0.9845971387036323\n",
      "cb0 0.0007216177935954641\n",
      "cc0 0.010590852706107375\n"
     ]
    }
   ],
   "source": [
    "r1.results.show_parameters"
   ]
  },
  {
   "cell_type": "code",
   "execution_count": 13,
   "metadata": {},
   "outputs": [
    {
     "data": {
      "image/png": "[encoded data removed]",
      "text/plain": [
       "<Figure size 432x288 with 1 Axes>"
      ]
     },
     "metadata": {
      "needs_background": "light"
     },
     "output_type": "display_data"
    }
   ],
   "source": [
    "fig, ax = plt.subplots()\n",
    "for c in ['A', 'B', 'C']:\n",
    "    ax.scatter(r1.results.Cm.index, r1.results.Cm[c])\n",
    "    ax.plot(r1.results.Z.index, r1.results.Z[c])"
   ]
  },
  {
   "cell_type": "code",
   "execution_count": null,
   "metadata": {},
   "outputs": [],
   "source": [
    "results_pyomo.objective"
   ]
  },
  {
   "cell_type": "code",
   "execution_count": 16,
   "metadata": {},
   "outputs": [
    {
     "data": {
      "text/plain": [
       "array([[ 3.22114734e-03, -2.49664962e-04,  3.13496631e-04,\n",
       "        -4.07274772e-04,  2.26864109e-06],\n",
       "       [-2.49664962e-04,  5.04590444e-04,  5.34365918e-05,\n",
       "         3.48579061e-05, -1.43987286e-04],\n",
       "       [ 3.13496631e-04,  5.34365918e-05,  2.13144635e-04,\n",
       "        -1.66218450e-04, -4.08394326e-05],\n",
       "       [-4.07274772e-04,  3.48579061e-05, -1.66218450e-04,\n",
       "         2.60480549e-04, -7.70090754e-05],\n",
       "       [ 2.26864109e-06, -1.43987286e-04, -4.08394326e-05,\n",
       "        -7.70090754e-05,  1.37115869e-04]])"
      ]
     },
     "execution_count": 16,
     "metadata": {},
     "output_type": "execute_result"
    }
   ],
   "source": [
    "# since kipet outputs reduced hessian which equals covariance if right sigma values are specified. \n",
    "# since we just specified sigma=1, we need to adjust the covariance matrix output from KIPET to get the \n",
    "# estimated covariance matrix\n",
    "mse = r1.results.objective / (C_data.shape[0]*3 - 5)\n",
    "cov_est = 2 * mse * r1.results.parameter_covariance\n",
    "cov_est"
   ]
  },
  {
   "cell_type": "code",
   "execution_count": 19,
   "metadata": {},
   "outputs": [
    {
     "data": {
      "text/plain": [
       "array([0.11373987, 0.04501704, 0.029258  , 0.0323441 , 0.02346666])"
      ]
     },
     "execution_count": 19,
     "metadata": {},
     "output_type": "execute_result"
    }
   ],
   "source": [
    "dof = (C_data.shape[0]*3 - 5)\n",
    "conf_delta = t.ppf(0.975, dof) * np.sqrt(np.diag(cov_est))\n",
    "conf_delta"
   ]
  },
  {
   "cell_type": "code",
   "execution_count": 21,
   "metadata": {},
   "outputs": [
    {
     "name": "stdout",
     "output_type": "stream",
     "text": [
      "k1, 1.90, 2.13\n",
      "k2, 0.94, 1.03\n",
      "ca0, 0.96, 1.01\n",
      "cb0, -0.03, 0.03\n",
      "cc0, -0.01, 0.03\n"
     ]
    }
   ],
   "source": [
    "# confidence limits of parameters\n",
    "i = 0\n",
    "for k, v in r1.results.P.items():\n",
    "    print(f\"{k}, {v - conf_delta[i]:.2f}, {v + conf_delta[i]:.2f}\")\n",
    "    i = i + 1"
   ]
  },
  {
   "cell_type": "code",
   "execution_count": null,
   "metadata": {},
   "outputs": [],
   "source": []
  }
 ],
 "metadata": {
  "kernelspec": {
   "display_name": "Python 3",
   "language": "python",
   "name": "python3"
  },
  "language_info": {
   "codemirror_mode": {
    "name": "ipython",
    "version": 3
   },
   "file_extension": ".py",
   "mimetype": "text/x-python",
   "name": "python",
   "nbconvert_exporter": "python",
   "pygments_lexer": "ipython3",
   "version": "3.7.3"
  }
 },
 "nbformat": 4,
 "nbformat_minor": 2
}
