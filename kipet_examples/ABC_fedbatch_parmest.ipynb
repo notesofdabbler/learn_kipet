{
 "cells": [
  {
   "cell_type": "code",
   "execution_count": 1,
   "metadata": {},
   "outputs": [],
   "source": [
    "import matplotlib.pyplot as plt\n",
    "import numpy as np\n",
    "import pandas as pd\n",
    "import sys\n",
    "from kipet.library.TemplateBuilder import *\n",
    "from kipet.library.PyomoSimulator import *\n",
    "from kipet.library.ParameterEstimator import *\n",
    "from kipet.library.VarianceEstimator import *\n",
    "from kipet.library.data_tools import *\n",
    "from kipet.library.FESimulator import *\n",
    "from pyomo.opt import *\n",
    "import pickle\n",
    "import os\n",
    "import six"
   ]
  },
  {
   "cell_type": "markdown",
   "metadata": {},
   "source": [
    "### Parameter Estimation for a fed batch reaction\n",
    "$A + B \\rightarrow C$\n",
    "\n",
    "Initial conditions in reactor: \n",
    "* Initial volume $V_0=1L$\n",
    "* $c_{A0} = 2, c_{B0} = 0, c_{C0} = 0$ (mol/L).\n",
    "\n",
    "A stream of $B$ with concentration $2 mol/L$ is charged into reactor at rate $0.1 L/min$ over 15min.\n",
    "\n",
    "Data is simulated using reaction rate constant $k_1=0.1 min^{-1}$ with added noise\n",
    "\n",
    "Governing equations are:\n",
    "$$\n",
    "\\begin{eqnarray}\n",
    "\\frac{dc_A}{dt} &=& -\\frac{c_Aqin_B}{V} - k_1c_Ac_B \\\\\n",
    "\\frac{dc_B}{dt} &=& \\frac{(cin_B - c_B)qin_B}{V} - k_1c_Ac_B \\\\\n",
    "\\frac{dc_C}{dt} &=& -\\frac{c_Cqin_B}{V} + k_1c_Ac_B \\\\\n",
    "\\frac{dV}{dt} &=& qin_B\n",
    "\\end{eqnarray}\n",
    "$$"
   ]
  },
  {
   "cell_type": "code",
   "execution_count": 2,
   "metadata": {},
   "outputs": [
    {
     "name": "stdout",
     "output_type": "stream",
     "text": [
      "read dir : /home/paperspace/learn_kipet/my_data_sets/ABC_fedbatch.csv\n"
     ]
    }
   ],
   "source": [
    "filename = '/home/paperspace/learn_kipet/my_data_sets/ABC_fedbatch.csv'\n",
    "C_frame = read_file(filename)"
   ]
  },
  {
   "cell_type": "code",
   "execution_count": 3,
   "metadata": {},
   "outputs": [
    {
     "data": {
      "text/html": [
       "<div>\n",
       "<style scoped>\n",
       "    .dataframe tbody tr th:only-of-type {\n",
       "        vertical-align: middle;\n",
       "    }\n",
       "\n",
       "    .dataframe tbody tr th {\n",
       "        vertical-align: top;\n",
       "    }\n",
       "\n",
       "    .dataframe thead th {\n",
       "        text-align: right;\n",
       "    }\n",
       "</style>\n",
       "<table border=\"1\" class=\"dataframe\">\n",
       "  <thead>\n",
       "    <tr style=\"text-align: right;\">\n",
       "      <th></th>\n",
       "      <th>A</th>\n",
       "      <th>B</th>\n",
       "      <th>C</th>\n",
       "    </tr>\n",
       "  </thead>\n",
       "  <tbody>\n",
       "    <tr>\n",
       "      <th>0.000000</th>\n",
       "      <td>2.083423</td>\n",
       "      <td>0.000000</td>\n",
       "      <td>0.000000</td>\n",
       "    </tr>\n",
       "    <tr>\n",
       "      <th>0.006957</th>\n",
       "      <td>2.050325</td>\n",
       "      <td>0.001389</td>\n",
       "      <td>0.000001</td>\n",
       "    </tr>\n",
       "    <tr>\n",
       "      <th>0.125632</th>\n",
       "      <td>1.819311</td>\n",
       "      <td>0.024509</td>\n",
       "      <td>0.000306</td>\n",
       "    </tr>\n",
       "    <tr>\n",
       "      <th>0.556208</th>\n",
       "      <td>2.044662</td>\n",
       "      <td>0.099940</td>\n",
       "      <td>0.005443</td>\n",
       "    </tr>\n",
       "    <tr>\n",
       "      <th>1.495467</th>\n",
       "      <td>1.541831</td>\n",
       "      <td>0.228099</td>\n",
       "      <td>0.032088</td>\n",
       "    </tr>\n",
       "    <tr>\n",
       "      <th>3.140156</th>\n",
       "      <td>1.213143</td>\n",
       "      <td>0.376072</td>\n",
       "      <td>0.101885</td>\n",
       "    </tr>\n",
       "    <tr>\n",
       "      <th>5.778965</th>\n",
       "      <td>1.342635</td>\n",
       "      <td>0.514788</td>\n",
       "      <td>0.217732</td>\n",
       "    </tr>\n",
       "    <tr>\n",
       "      <th>10.109477</th>\n",
       "      <td>0.844124</td>\n",
       "      <td>0.649458</td>\n",
       "      <td>0.355846</td>\n",
       "    </tr>\n",
       "    <tr>\n",
       "      <th>15.010179</th>\n",
       "      <td>0.700708</td>\n",
       "      <td>0.753979</td>\n",
       "      <td>0.439982</td>\n",
       "    </tr>\n",
       "    <tr>\n",
       "      <th>16.201092</th>\n",
       "      <td>-0.063078</td>\n",
       "      <td>0.723019</td>\n",
       "      <td>0.470846</td>\n",
       "    </tr>\n",
       "    <tr>\n",
       "      <th>20.053501</th>\n",
       "      <td>0.283442</td>\n",
       "      <td>0.645382</td>\n",
       "      <td>0.548498</td>\n",
       "    </tr>\n",
       "    <tr>\n",
       "      <th>30.205668</th>\n",
       "      <td>0.341901</td>\n",
       "      <td>0.530811</td>\n",
       "      <td>0.663064</td>\n",
       "    </tr>\n",
       "    <tr>\n",
       "      <th>43.388437</th>\n",
       "      <td>0.054756</td>\n",
       "      <td>0.462586</td>\n",
       "      <td>0.731291</td>\n",
       "    </tr>\n",
       "    <tr>\n",
       "      <th>57.814175</th>\n",
       "      <td>-0.368227</td>\n",
       "      <td>0.427244</td>\n",
       "      <td>0.766634</td>\n",
       "    </tr>\n",
       "  </tbody>\n",
       "</table>\n",
       "</div>"
      ],
      "text/plain": [
       "                  A         B         C\n",
       "0.000000   2.083423  0.000000  0.000000\n",
       "0.006957   2.050325  0.001389  0.000001\n",
       "0.125632   1.819311  0.024509  0.000306\n",
       "0.556208   2.044662  0.099940  0.005443\n",
       "1.495467   1.541831  0.228099  0.032088\n",
       "3.140156   1.213143  0.376072  0.101885\n",
       "5.778965   1.342635  0.514788  0.217732\n",
       "10.109477  0.844124  0.649458  0.355846\n",
       "15.010179  0.700708  0.753979  0.439982\n",
       "16.201092 -0.063078  0.723019  0.470846\n",
       "20.053501  0.283442  0.645382  0.548498\n",
       "30.205668  0.341901  0.530811  0.663064\n",
       "43.388437  0.054756  0.462586  0.731291\n",
       "57.814175 -0.368227  0.427244  0.766634"
      ]
     },
     "execution_count": 3,
     "metadata": {},
     "output_type": "execute_result"
    }
   ],
   "source": [
    "C_frame = C_frame[['A', 'B', 'C']]\n",
    "C_frame"
   ]
  },
  {
   "cell_type": "code",
   "execution_count": 4,
   "metadata": {},
   "outputs": [],
   "source": [
    "builder = TemplateBuilder()  \n",
    "    \n",
    "builder.add_mixture_component('A',2.0)\n",
    "builder.add_mixture_component('B',0.0)\n",
    "builder.add_mixture_component('C',0.0)\n",
    "    \n",
    "builder.add_parameter('k1', init = 10, bounds = (0, 1000))\n",
    "\n",
    "builder.add_algebraic_variable('qin_B')\n",
    "builder.add_complementary_state_variable('V', 1)\n",
    "cin_B = 2"
   ]
  },
  {
   "cell_type": "code",
   "execution_count": 5,
   "metadata": {},
   "outputs": [],
   "source": [
    "def rule_odes(m,t):\n",
    "    exprs = dict()\n",
    "    exprs['A'] = -m.Z[t,'A'] * m.Y[t,'qin_B']/m.X[t,'V']-m.P['k1']*m.Z[t,'A']*m.Z[t,'B']\n",
    "    exprs['B'] = (cin_B*m.Y[t,'qin_B'] - m.Z[t,'B'] * m.Y[t,'qin_B'])/m.X[t,'V']- m.P['k1']*m.Z[t,'A']*m.Z[t,'B']\n",
    "    exprs['C'] = -m.Z[t,'C'] * m.Y[t,'qin_B']/m.X[t,'V'] + m.P['k1']*m.Z[t,'A']*m.Z[t,'B']\n",
    "    exprs['V'] = m.Y[t, 'qin_B']\n",
    "    return exprs\n",
    "\n",
    "builder.set_odes_rule(rule_odes)"
   ]
  },
  {
   "cell_type": "code",
   "execution_count": 6,
   "metadata": {},
   "outputs": [
    {
     "name": "stdout",
     "output_type": "stream",
     "text": [
      "Warning! Since C-matrix contains negative values Kipet is assuming a derivative of C has been inputted\n"
     ]
    }
   ],
   "source": [
    "builder.add_concentration_data(C_frame)"
   ]
  },
  {
   "cell_type": "code",
   "execution_count": 7,
   "metadata": {},
   "outputs": [
    {
     "name": "stdout",
     "output_type": "stream",
     "text": [
      "WARNING: algebraic expressions not specified. Must be specified by user after creating the model\n"
     ]
    }
   ],
   "source": [
    "model = builder.create_pyomo_model(0, 60)"
   ]
  },
  {
   "cell_type": "code",
   "execution_count": 8,
   "metadata": {},
   "outputs": [],
   "source": [
    "sigmas = {'A':1,'B':1,'C':1}\n",
    "p_estimator = ParameterEstimator(model)"
   ]
  },
  {
   "cell_type": "code",
   "execution_count": 9,
   "metadata": {},
   "outputs": [
    {
     "data": {
      "text/html": [
       "<div>\n",
       "<style scoped>\n",
       "    .dataframe tbody tr th:only-of-type {\n",
       "        vertical-align: middle;\n",
       "    }\n",
       "\n",
       "    .dataframe tbody tr th {\n",
       "        vertical-align: top;\n",
       "    }\n",
       "\n",
       "    .dataframe thead th {\n",
       "        text-align: right;\n",
       "    }\n",
       "</style>\n",
       "<table border=\"1\" class=\"dataframe\">\n",
       "  <thead>\n",
       "    <tr style=\"text-align: right;\">\n",
       "      <th></th>\n",
       "      <th>qin_B</th>\n",
       "    </tr>\n",
       "    <tr>\n",
       "      <th>time</th>\n",
       "      <th></th>\n",
       "    </tr>\n",
       "  </thead>\n",
       "  <tbody>\n",
       "    <tr>\n",
       "      <th>0</th>\n",
       "      <td>0.1</td>\n",
       "    </tr>\n",
       "    <tr>\n",
       "      <th>15</th>\n",
       "      <td>0.1</td>\n",
       "    </tr>\n",
       "    <tr>\n",
       "      <th>16</th>\n",
       "      <td>0.0</td>\n",
       "    </tr>\n",
       "  </tbody>\n",
       "</table>\n",
       "</div>"
      ],
      "text/plain": [
       "      qin_B\n",
       "time       \n",
       "0       0.1\n",
       "15      0.1\n",
       "16      0.0"
      ]
     },
     "execution_count": 9,
     "metadata": {},
     "output_type": "execute_result"
    }
   ],
   "source": [
    "qinB_traj = pd.DataFrame({'time':[0, 15, 16], 'qin_B':[0.1, 0.1, 0]}).set_index('time')\n",
    "qinB_traj"
   ]
  },
  {
   "cell_type": "code",
   "execution_count": 10,
   "metadata": {},
   "outputs": [],
   "source": [
    "inputs_sub = {}\n",
    "inputs_sub['Y'] = ['qin_B']"
   ]
  },
  {
   "cell_type": "code",
   "execution_count": 11,
   "metadata": {},
   "outputs": [
    {
     "data": {
      "text/plain": [
       "[(0.0, 0.1),\n",
       " (0.001079, 0.1),\n",
       " (0.004487, 0.1),\n",
       " (0.006957, 0.1),\n",
       " (0.025358, 0.1),\n",
       " (0.083496, 0.1),\n",
       " (0.125632, 0.1),\n",
       " (0.192393, 0.1),\n",
       " (0.403332, 0.1),\n",
       " (0.556208, 0.1),\n",
       " (0.701841, 0.1),\n",
       " (1.161982, 0.1),\n",
       " (1.495467, 0.1),\n",
       " (1.750478, 0.1),\n",
       " (2.556207, 0.1),\n",
       " (3.140156, 0.1),\n",
       " (3.344731, 0.1),\n",
       " (3.991105, 0.1),\n",
       " (4.459561, 0.1),\n",
       " (4.664136, 0.1),\n",
       " (5.310509, 0.1),\n",
       " (5.778965, 0.1),\n",
       " (5.946828, 0.1),\n",
       " (6.477205, 0.1),\n",
       " (6.861593, 0.1),\n",
       " (7.029456, 0.1),\n",
       " (7.559833, 0.1),\n",
       " (7.944221, 0.1),\n",
       " (8.112084, 0.1),\n",
       " (8.642461, 0.1),\n",
       " (9.026849, 0.1),\n",
       " (9.194712, 0.1),\n",
       " (9.725089, 0.1),\n",
       " (10.109477, 0.1),\n",
       " (10.299442, 0.1),\n",
       " (10.899653, 0.1),\n",
       " (11.334653, 0.1),\n",
       " (11.524618, 0.1),\n",
       " (12.124828, 0.1),\n",
       " (12.559828, 0.1),\n",
       " (12.749793, 0.1),\n",
       " (13.350004, 0.1),\n",
       " (13.785004, 0.1),\n",
       " (13.974969, 0.1),\n",
       " (14.575179, 0.1),\n",
       " (15.010179, 0.09898209999999992),\n",
       " (15.194831, 0.08051689999999995),\n",
       " (15.778257, 0.022174300000000008),\n",
       " (16.201092, 0.0),\n",
       " (16.350422, 0.0),\n",
       " (16.822244, 0.0),\n",
       " (17.164194, 0.0),\n",
       " (17.313524, 0.0),\n",
       " (17.785346, 0.0),\n",
       " (18.127296, 0.0),\n",
       " (18.276626, 0.0),\n",
       " (18.748448, 0.0),\n",
       " (19.090398, 0.0),\n",
       " (19.239728, 0.0),\n",
       " (19.71155, 0.0),\n",
       " (20.053501, 0.0),\n",
       " (20.250264, 0.0),\n",
       " (20.871955, 0.0),\n",
       " (21.322522, 0.0),\n",
       " (21.519285, 0.0),\n",
       " (22.140976, 0.0),\n",
       " (22.591543, 0.0),\n",
       " (22.788306, 0.0),\n",
       " (23.409997, 0.0),\n",
       " (23.860564, 0.0),\n",
       " (24.057327, 0.0),\n",
       " (24.679017, 0.0),\n",
       " (25.129584, 0.0),\n",
       " (25.326347, 0.0),\n",
       " (25.948038, 0.0),\n",
       " (26.398605, 0.0),\n",
       " (26.595368, 0.0),\n",
       " (27.217059, 0.0),\n",
       " (27.667626, 0.0),\n",
       " (27.864389, 0.0),\n",
       " (28.48608, 0.0),\n",
       " (28.936647, 0.0),\n",
       " (29.13341, 0.0),\n",
       " (29.755101, 0.0),\n",
       " (30.205668, 0.0),\n",
       " (30.333418, 0.0),\n",
       " (30.737056, 0.0),\n",
       " (31.029591, 0.0),\n",
       " (31.157341, 0.0),\n",
       " (31.560979, 0.0),\n",
       " (31.853514, 0.0),\n",
       " (32.109014, 0.0),\n",
       " (32.916291, 0.0),\n",
       " (33.50136, 0.0),\n",
       " (33.62911, 0.0),\n",
       " (34.032748, 0.0),\n",
       " (34.325283, 0.0),\n",
       " (34.453033, 0.0),\n",
       " (34.856671, 0.0),\n",
       " (35.149206, 0.0),\n",
       " (35.276956, 0.0),\n",
       " (35.680594, 0.0),\n",
       " (35.973129, 0.0),\n",
       " (36.100879, 0.0),\n",
       " (36.504517, 0.0),\n",
       " (36.797052, 0.0),\n",
       " (36.924802, 0.0),\n",
       " (37.328441, 0.0),\n",
       " (37.620976, 0.0),\n",
       " (37.748726, 0.0),\n",
       " (38.152364, 0.0),\n",
       " (38.444899, 0.0),\n",
       " (38.572649, 0.0),\n",
       " (38.976287, 0.0),\n",
       " (39.268822, 0.0),\n",
       " (39.396572, 0.0),\n",
       " (39.80021, 0.0),\n",
       " (40.092745, 0.0),\n",
       " (40.220495, 0.0),\n",
       " (40.624133, 0.0),\n",
       " (40.916668, 0.0),\n",
       " (41.044418, 0.0),\n",
       " (41.448056, 0.0),\n",
       " (41.740591, 0.0),\n",
       " (41.996091, 0.0),\n",
       " (42.803368, 0.0),\n",
       " (43.388437, 0.0),\n",
       " (43.528232, 0.0),\n",
       " (43.969929, 0.0),\n",
       " (44.290046, 0.0),\n",
       " (44.429841, 0.0),\n",
       " (44.871537, 0.0),\n",
       " (45.191654, 0.0),\n",
       " (45.331449, 0.0),\n",
       " (45.773146, 0.0),\n",
       " (46.093263, 0.0),\n",
       " (46.233058, 0.0),\n",
       " (46.674755, 0.0),\n",
       " (46.994872, 0.0),\n",
       " (47.134667, 0.0),\n",
       " (47.576363, 0.0),\n",
       " (47.89648, 0.0),\n",
       " (48.036275, 0.0),\n",
       " (48.477972, 0.0),\n",
       " (48.798089, 0.0),\n",
       " (48.937884, 0.0),\n",
       " (49.37958, 0.0),\n",
       " (49.699697, 0.0),\n",
       " (49.839492, 0.0),\n",
       " (50.281189, 0.0),\n",
       " (50.601306, 0.0),\n",
       " (50.741101, 0.0),\n",
       " (51.182798, 0.0),\n",
       " (51.502915, 0.0),\n",
       " (51.64271, 0.0),\n",
       " (52.084406, 0.0),\n",
       " (52.404523, 0.0),\n",
       " (52.544318, 0.0),\n",
       " (52.986014, 0.0),\n",
       " (53.306131, 0.0),\n",
       " (53.445926, 0.0),\n",
       " (53.887623, 0.0),\n",
       " (54.20774, 0.0),\n",
       " (54.347535, 0.0),\n",
       " (54.789232, 0.0),\n",
       " (55.109349, 0.0),\n",
       " (55.249144, 0.0),\n",
       " (55.690841, 0.0),\n",
       " (56.010958, 0.0),\n",
       " (56.150753, 0.0),\n",
       " (56.592449, 0.0),\n",
       " (56.912566, 0.0),\n",
       " (57.052361, 0.0),\n",
       " (57.494058, 0.0),\n",
       " (57.814175, 0.0),\n",
       " (57.983632, 0.0),\n",
       " (58.519048, 0.0),\n",
       " (58.907088, 0.0),\n",
       " (59.076545, 0.0),\n",
       " (59.61196, 0.0),\n",
       " (60, 0.0)]"
      ]
     },
     "execution_count": 11,
     "metadata": {},
     "output_type": "execute_result"
    }
   ],
   "source": [
    "p_estimator.apply_discretization('dae.collocation',nfe=60,ncp=3,scheme='LAGRANGE-RADAU')\n",
    "p_estimator.fix_from_trajectory('Y', 'qin_B', qinB_traj) "
   ]
  },
  {
   "cell_type": "code",
   "execution_count": 14,
   "metadata": {},
   "outputs": [
    {
     "ename": "AttributeError",
     "evalue": "'ConcreteModel' object has no attribute 'obj_val'",
     "output_type": "error",
     "traceback": [
      "\u001b[0;31m---------------------------------------------------------------------------\u001b[0m",
      "\u001b[0;31mAttributeError\u001b[0m                            Traceback (most recent call last)",
      "\u001b[0;32m<ipython-input-14-b4b35bb90234>\u001b[0m in \u001b[0;36m<module>\u001b[0;34m\u001b[0m\n\u001b[0;32m----> 1\u001b[0;31m \u001b[0mp_estimator\u001b[0m\u001b[0;34m.\u001b[0m\u001b[0mmodel\u001b[0m\u001b[0;34m.\u001b[0m\u001b[0mobj_val\u001b[0m\u001b[0;34m\u001b[0m\u001b[0;34m\u001b[0m\u001b[0m\n\u001b[0m",
      "\u001b[0;32m~/anaconda3/lib/python3.7/site-packages/pyomo/core/base/block.py\u001b[0m in \u001b[0;36m__getattr__\u001b[0;34m(self, val)\u001b[0m\n\u001b[1;32m    557\u001b[0m         \u001b[0;31m# throw the \"normal\" AttributeError\u001b[0m\u001b[0;34m\u001b[0m\u001b[0;34m\u001b[0m\u001b[0;34m\u001b[0m\u001b[0m\n\u001b[1;32m    558\u001b[0m         raise AttributeError(\"'%s' object has no attribute '%s'\"\n\u001b[0;32m--> 559\u001b[0;31m                              % (self.__class__.__name__, val))\n\u001b[0m\u001b[1;32m    560\u001b[0m \u001b[0;34m\u001b[0m\u001b[0m\n\u001b[1;32m    561\u001b[0m     \u001b[0;32mdef\u001b[0m \u001b[0m__setattr__\u001b[0m\u001b[0;34m(\u001b[0m\u001b[0mself\u001b[0m\u001b[0;34m,\u001b[0m \u001b[0mname\u001b[0m\u001b[0;34m,\u001b[0m \u001b[0mval\u001b[0m\u001b[0;34m)\u001b[0m\u001b[0;34m:\u001b[0m\u001b[0;34m\u001b[0m\u001b[0;34m\u001b[0m\u001b[0m\n",
      "\u001b[0;31mAttributeError\u001b[0m: 'ConcreteModel' object has no attribute 'obj_val'"
     ]
    }
   ],
   "source": [
    "p_estimator.model.obj_val"
   ]
  },
  {
   "cell_type": "code",
   "execution_count": 15,
   "metadata": {},
   "outputs": [
    {
     "name": "stdout",
     "output_type": "stream",
     "text": [
      "Ipopt 3.12: linear_solver=ma27\n",
      "\n",
      "\n",
      "******************************************************************************\n",
      "This program contains Ipopt, a library for large-scale nonlinear optimization.\n",
      " Ipopt is released as open source code under the Eclipse Public License (EPL).\n",
      "         For more information visit http://projects.coin-or.org/Ipopt\n",
      "******************************************************************************\n",
      "\n",
      "This is Ipopt version 3.12, running with linear solver ma27.\n",
      "\n",
      "Number of nonzeros in equality constraint Jacobian...:     6664\n",
      "Number of nonzeros in inequality constraint Jacobian.:        0\n",
      "Number of nonzeros in Lagrangian Hessian.............:      903\n",
      "\n",
      "Total number of variables............................:     1445\n",
      "                     variables with only lower bounds:        0\n",
      "                variables with lower and upper bounds:        1\n",
      "                     variables with only upper bounds:        0\n",
      "Total number of equality constraints.................:     1444\n",
      "Total number of inequality constraints...............:        0\n",
      "        inequality constraints with only lower bounds:        0\n",
      "   inequality constraints with lower and upper bounds:        0\n",
      "        inequality constraints with only upper bounds:        0\n",
      "\n",
      "iter    objective    inf_pr   inf_du lg(mu)  ||d||  lg(rg) alpha_du alpha_pr  ls\n",
      "   0  3.7673048e+01 2.02e+01 9.81e-02  -1.0 0.00e+00    -  0.00e+00 0.00e+00   0\n",
      "   1  1.4270406e+01 4.49e+00 4.90e+00  -1.0 2.27e+00    -  9.03e-01 1.00e+00h  1\n",
      "   2  1.5397177e+00 6.25e-01 1.29e+00  -1.0 1.17e+01    -  9.79e-01 9.34e-01h  1\n",
      "   3  7.4606437e-01 7.79e-03 3.57e-01  -1.0 6.21e-01    -  1.00e+00 1.00e+00h  1\n",
      "   4  7.3286891e-01 4.75e-04 6.53e-02  -1.7 2.82e-02    -  1.00e+00 1.00e+00h  1\n",
      "   5  7.3339571e-01 5.95e-07 9.88e-04  -2.5 2.09e-03    -  1.00e+00 1.00e+00h  1\n",
      "   6  7.3339132e-01 5.78e-08 2.95e-05  -3.8 3.37e-04    -  1.00e+00 1.00e+00h  1\n",
      "   7  7.3339148e-01 1.80e-10 9.82e-08  -5.7 1.91e-05    -  1.00e+00 1.00e+00h  1\n",
      "   8  7.3339148e-01 2.50e-13 1.50e-11  -8.6 2.37e-07    -  1.00e+00 1.00e+00h  1\n",
      "\n",
      "Number of Iterations....: 8\n",
      "\n",
      "                                   (scaled)                 (unscaled)\n",
      "Objective...............:   7.3339148035617785e-01    7.3339148035617785e-01\n",
      "Dual infeasibility......:   1.5035301563081155e-11    1.5035301563081155e-11\n",
      "Constraint violation....:   2.8255175976710234e-14    2.5010549187243214e-13\n",
      "Complementarity.........:   2.5079975506645905e-09    2.5079975506645905e-09\n",
      "Overall NLP error.......:   2.5079975506645905e-09    2.5079975506645905e-09\n",
      "\n",
      "\n",
      "Number of objective function evaluations             = 9\n",
      "Number of objective gradient evaluations             = 9\n",
      "Number of equality constraint evaluations            = 9\n",
      "Number of inequality constraint evaluations          = 0\n",
      "Number of equality constraint Jacobian evaluations   = 9\n",
      "Number of inequality constraint Jacobian evaluations = 0\n",
      "Number of Lagrangian Hessian evaluations             = 8\n",
      "Total CPU secs in IPOPT (w/o function evaluations)   =      0.020\n",
      "Total CPU secs in NLP function evaluations           =      0.000\n",
      "\n",
      "EXIT: Optimal Solution Found.\n"
     ]
    }
   ],
   "source": [
    "# Again we provide options for the solver, this time providing the scaling that we set above\n",
    "options = dict()\n",
    "#options['nlp_scaling_method'] = 'user-scaling'\n",
    "options['linear_solver'] = 'ma27'\n",
    "# finally we run the optimization\n",
    "results_pyomo = p_estimator.run_opt('ipopt',\n",
    "                                        variances=sigmas,\n",
    "                                      tee=True,\n",
    "                                   solver_opts = options)"
   ]
  },
  {
   "cell_type": "code",
   "execution_count": 24,
   "metadata": {},
   "outputs": [
    {
     "ename": "AttributeError",
     "evalue": "'ConcreteModel' object has no attribute 'objective'",
     "output_type": "error",
     "traceback": [
      "\u001b[0;31m---------------------------------------------------------------------------\u001b[0m",
      "\u001b[0;31mAttributeError\u001b[0m                            Traceback (most recent call last)",
      "\u001b[0;32m<ipython-input-24-3374517f3d88>\u001b[0m in \u001b[0;36m<module>\u001b[0;34m\u001b[0m\n\u001b[0;32m----> 1\u001b[0;31m \u001b[0mp_estimator\u001b[0m\u001b[0;34m.\u001b[0m\u001b[0mmodel\u001b[0m\u001b[0;34m.\u001b[0m\u001b[0mobjective\u001b[0m\u001b[0;34m\u001b[0m\u001b[0;34m\u001b[0m\u001b[0m\n\u001b[0m",
      "\u001b[0;32m~/anaconda3/lib/python3.7/site-packages/pyomo/core/base/block.py\u001b[0m in \u001b[0;36m__getattr__\u001b[0;34m(self, val)\u001b[0m\n\u001b[1;32m    557\u001b[0m         \u001b[0;31m# throw the \"normal\" AttributeError\u001b[0m\u001b[0;34m\u001b[0m\u001b[0;34m\u001b[0m\u001b[0;34m\u001b[0m\u001b[0m\n\u001b[1;32m    558\u001b[0m         raise AttributeError(\"'%s' object has no attribute '%s'\"\n\u001b[0;32m--> 559\u001b[0;31m                              % (self.__class__.__name__, val))\n\u001b[0m\u001b[1;32m    560\u001b[0m \u001b[0;34m\u001b[0m\u001b[0m\n\u001b[1;32m    561\u001b[0m     \u001b[0;32mdef\u001b[0m \u001b[0m__setattr__\u001b[0m\u001b[0;34m(\u001b[0m\u001b[0mself\u001b[0m\u001b[0;34m,\u001b[0m \u001b[0mname\u001b[0m\u001b[0;34m,\u001b[0m \u001b[0mval\u001b[0m\u001b[0;34m)\u001b[0m\u001b[0;34m:\u001b[0m\u001b[0;34m\u001b[0m\u001b[0;34m\u001b[0m\u001b[0m\n",
      "\u001b[0;31mAttributeError\u001b[0m: 'ConcreteModel' object has no attribute 'objective'"
     ]
    }
   ],
   "source": [
    "p_estimator.model.objective"
   ]
  },
  {
   "cell_type": "code",
   "execution_count": 13,
   "metadata": {},
   "outputs": [
    {
     "name": "stdout",
     "output_type": "stream",
     "text": [
      "The estimated parameters are:\n",
      "k1 0.09665537060304569\n"
     ]
    }
   ],
   "source": [
    "# And display the results\n",
    "print(\"The estimated parameters are:\")\n",
    "for k,v in six.iteritems(results_pyomo.P):\n",
    "    print(k, v)"
   ]
  },
  {
   "cell_type": "code",
   "execution_count": 14,
   "metadata": {},
   "outputs": [
    {
     "data": {
      "text/plain": [
       "[<matplotlib.lines.Line2D at 0x7f02831a04e0>]"
      ]
     },
     "execution_count": 14,
     "metadata": {},
     "output_type": "execute_result"
    },
    {
     "data": {
      "image/png": "[encoded data removed]",
      "text/plain": [
       "<Figure size 432x288 with 1 Axes>"
      ]
     },
     "metadata": {
      "needs_background": "light"
     },
     "output_type": "display_data"
    }
   ],
   "source": [
    "c = 'A'\n",
    "fig, ax = plt.subplots()\n",
    "ax.scatter(C_frame.index, C_frame[c])\n",
    "ax.plot(results_pyomo.Z.index, results_pyomo.Z[c])"
   ]
  },
  {
   "cell_type": "code",
   "execution_count": 15,
   "metadata": {},
   "outputs": [
    {
     "data": {
      "text/plain": [
       "[<matplotlib.lines.Line2D at 0x7f0282f06dd8>]"
      ]
     },
     "execution_count": 15,
     "metadata": {},
     "output_type": "execute_result"
    },
    {
     "data": {
      "image/png": "[encoded data removed]",
      "text/plain": [
       "<Figure size 432x288 with 1 Axes>"
      ]
     },
     "metadata": {
      "needs_background": "light"
     },
     "output_type": "display_data"
    }
   ],
   "source": [
    "c = 'B'\n",
    "fig, ax = plt.subplots()\n",
    "ax.scatter(C_frame.index, C_frame[c])\n",
    "ax.plot(results_pyomo.Z.index, results_pyomo.Z[c])"
   ]
  },
  {
   "cell_type": "code",
   "execution_count": 16,
   "metadata": {},
   "outputs": [
    {
     "data": {
      "text/plain": [
       "[<matplotlib.lines.Line2D at 0x7f0282ce9240>]"
      ]
     },
     "execution_count": 16,
     "metadata": {},
     "output_type": "execute_result"
    },
    {
     "data": {
      "image/png": "[encoded data removed]",
      "text/plain": [
       "<Figure size 432x288 with 1 Axes>"
      ]
     },
     "metadata": {
      "needs_background": "light"
     },
     "output_type": "display_data"
    }
   ],
   "source": [
    "c = 'C'\n",
    "fig, ax = plt.subplots()\n",
    "ax.scatter(C_frame.index, C_frame[c])\n",
    "ax.plot(results_pyomo.Z.index, results_pyomo.Z[c])"
   ]
  },
  {
   "cell_type": "code",
   "execution_count": null,
   "metadata": {},
   "outputs": [],
   "source": []
  }
 ],
 "metadata": {
  "kernelspec": {
   "display_name": "Python 3",
   "language": "python",
   "name": "python3"
  },
  "language_info": {
   "codemirror_mode": {
    "name": "ipython",
    "version": 3
   },
   "file_extension": ".py",
   "mimetype": "text/x-python",
   "name": "python",
   "nbconvert_exporter": "python",
   "pygments_lexer": "ipython3",
   "version": "3.7.3"
  }
 },
 "nbformat": 4,
 "nbformat_minor": 2
}
