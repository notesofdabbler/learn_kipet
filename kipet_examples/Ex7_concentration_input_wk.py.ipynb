{
 "cells": [
  {
   "cell_type": "code",
   "execution_count": 2,
   "metadata": {},
   "outputs": [],
   "source": [
    "#\n",
    "# Working through the example from\n",
    "# https://github.com/salvadorgarciamunoz/kipet/blob/master/kipet/examples/Ex_7_concentration_input.py\n",
    "#"
   ]
  },
  {
   "cell_type": "code",
   "execution_count": 3,
   "metadata": {},
   "outputs": [],
   "source": [
    "from __future__ import print_function\n",
    "from kipet.library.TemplateBuilder import *\n",
    "from kipet.library.PyomoSimulator import *\n",
    "from kipet.library.ParameterEstimator import *\n",
    "from kipet.library.VarianceEstimator import *\n",
    "from kipet.library.data_tools import *\n",
    "import matplotlib.pyplot as plt\n",
    "import os\n",
    "import sys\n",
    "import inspect\n",
    "import six\n",
    "import pandas as pd"
   ]
  },
  {
   "cell_type": "code",
   "execution_count": 5,
   "metadata": {},
   "outputs": [
    {
     "name": "stdout",
     "output_type": "stream",
     "text": [
      "read dir : /home/paperspace/learn_kipet/kipet_examples/../data_sets/Ex_1_C_data.txt\n"
     ]
    }
   ],
   "source": [
    "filename = 'Ex_1_C_data.txt'\n",
    "C_frame = read_file(filename, directory = '../data_sets')"
   ]
  },
  {
   "cell_type": "code",
   "execution_count": 6,
   "metadata": {},
   "outputs": [
    {
     "data": {
      "text/html": [
       "<div>\n",
       "<style scoped>\n",
       "    .dataframe tbody tr th:only-of-type {\n",
       "        vertical-align: middle;\n",
       "    }\n",
       "\n",
       "    .dataframe tbody tr th {\n",
       "        vertical-align: top;\n",
       "    }\n",
       "\n",
       "    .dataframe thead th {\n",
       "        text-align: right;\n",
       "    }\n",
       "</style>\n",
       "<table border=\"1\" class=\"dataframe\">\n",
       "  <thead>\n",
       "    <tr style=\"text-align: right;\">\n",
       "      <th></th>\n",
       "      <th>A</th>\n",
       "      <th>B</th>\n",
       "      <th>C</th>\n",
       "    </tr>\n",
       "  </thead>\n",
       "  <tbody>\n",
       "    <tr>\n",
       "      <td>0.0000</td>\n",
       "      <td>0.001027</td>\n",
       "      <td>0.000000</td>\n",
       "      <td>0.000013</td>\n",
       "    </tr>\n",
       "    <tr>\n",
       "      <td>0.0333</td>\n",
       "      <td>0.001015</td>\n",
       "      <td>0.000002</td>\n",
       "      <td>0.000021</td>\n",
       "    </tr>\n",
       "    <tr>\n",
       "      <td>0.0667</td>\n",
       "      <td>0.001007</td>\n",
       "      <td>0.000013</td>\n",
       "      <td>0.000018</td>\n",
       "    </tr>\n",
       "    <tr>\n",
       "      <td>0.1000</td>\n",
       "      <td>0.000993</td>\n",
       "      <td>0.000025</td>\n",
       "      <td>0.000014</td>\n",
       "    </tr>\n",
       "    <tr>\n",
       "      <td>0.1334</td>\n",
       "      <td>0.000982</td>\n",
       "      <td>0.000035</td>\n",
       "      <td>0.000012</td>\n",
       "    </tr>\n",
       "    <tr>\n",
       "      <td>...</td>\n",
       "      <td>...</td>\n",
       "      <td>...</td>\n",
       "      <td>...</td>\n",
       "    </tr>\n",
       "    <tr>\n",
       "      <td>9.8353</td>\n",
       "      <td>0.000103</td>\n",
       "      <td>0.000043</td>\n",
       "      <td>0.000859</td>\n",
       "    </tr>\n",
       "    <tr>\n",
       "      <td>9.8686</td>\n",
       "      <td>0.000104</td>\n",
       "      <td>0.000042</td>\n",
       "      <td>0.000857</td>\n",
       "    </tr>\n",
       "    <tr>\n",
       "      <td>9.9020</td>\n",
       "      <td>0.000103</td>\n",
       "      <td>0.000041</td>\n",
       "      <td>0.000859</td>\n",
       "    </tr>\n",
       "    <tr>\n",
       "      <td>9.9353</td>\n",
       "      <td>0.000101</td>\n",
       "      <td>0.000043</td>\n",
       "      <td>0.000860</td>\n",
       "    </tr>\n",
       "    <tr>\n",
       "      <td>9.9687</td>\n",
       "      <td>0.000103</td>\n",
       "      <td>0.000038</td>\n",
       "      <td>0.000863</td>\n",
       "    </tr>\n",
       "  </tbody>\n",
       "</table>\n",
       "<p>300 rows × 3 columns</p>\n",
       "</div>"
      ],
      "text/plain": [
       "               A         B         C\n",
       "0.0000  0.001027  0.000000  0.000013\n",
       "0.0333  0.001015  0.000002  0.000021\n",
       "0.0667  0.001007  0.000013  0.000018\n",
       "0.1000  0.000993  0.000025  0.000014\n",
       "0.1334  0.000982  0.000035  0.000012\n",
       "...          ...       ...       ...\n",
       "9.8353  0.000103  0.000043  0.000859\n",
       "9.8686  0.000104  0.000042  0.000857\n",
       "9.9020  0.000103  0.000041  0.000859\n",
       "9.9353  0.000101  0.000043  0.000860\n",
       "9.9687  0.000103  0.000038  0.000863\n",
       "\n",
       "[300 rows x 3 columns]"
      ]
     },
     "execution_count": 6,
     "metadata": {},
     "output_type": "execute_result"
    }
   ],
   "source": [
    "C_frame"
   ]
  },
  {
   "cell_type": "code",
   "execution_count": 7,
   "metadata": {},
   "outputs": [
    {
     "data": {
      "text/plain": [
       "<matplotlib.legend.Legend at 0x7fbaadeed400>"
      ]
     },
     "execution_count": 7,
     "metadata": {},
     "output_type": "execute_result"
    },
    {
     "data": {
      "image/png": "[encoded data removed]",
      "text/plain": [
       "<Figure size 432x288 with 1 Axes>"
      ]
     },
     "metadata": {
      "needs_background": "light"
     },
     "output_type": "display_data"
    }
   ],
   "source": [
    "fig, ax = plt.subplots()\n",
    "ax.scatter(C_frame.index, C_frame['A'], label = 'A')\n",
    "ax.scatter(C_frame.index, C_frame['B'], label = 'B')\n",
    "ax.scatter(C_frame.index, C_frame['C'], label = 'C')\n",
    "ax.legend()"
   ]
  },
  {
   "cell_type": "code",
   "execution_count": 8,
   "metadata": {},
   "outputs": [
    {
     "name": "stdout",
     "output_type": "stream",
     "text": [
      "               A         B         C\n",
      "0.0000  0.001027  0.000000  0.000013\n",
      "0.0333  0.001015  0.000002  0.000021\n",
      "0.0667  0.001007  0.000013  0.000018\n",
      "0.1000  0.000993  0.000025  0.000014\n",
      "0.1334  0.000982  0.000035  0.000012\n",
      "...          ...       ...       ...\n",
      "9.8353  0.000103  0.000043  0.000859\n",
      "9.8686  0.000104  0.000042  0.000857\n",
      "9.9020  0.000103  0.000041  0.000859\n",
      "9.9353  0.000101  0.000043  0.000860\n",
      "9.9687  0.000103  0.000038  0.000863\n",
      "\n",
      "[300 rows x 3 columns]\n"
     ]
    }
   ],
   "source": [
    "builder = TemplateBuilder()    \n",
    "components = {'A':1e-3,'B':0,'C':0}\n",
    "builder.add_mixture_component(components)\n",
    "builder.add_parameter('k1',bounds=(0.0,5.0))\n",
    "builder.add_parameter('k2',bounds=(0.0,1.0))\n",
    "builder.add_concentration_data(C_frame)"
   ]
  },
  {
   "cell_type": "code",
   "execution_count": 9,
   "metadata": {},
   "outputs": [],
   "source": [
    "# define explicit system of ODEs\n",
    "def rule_odes(m,t):\n",
    "    exprs = dict()\n",
    "    exprs['A'] = -m.P['k1']*m.Z[t,'A']\n",
    "    exprs['B'] = m.P['k1']*m.Z[t,'A']-m.P['k2']*m.Z[t,'B']\n",
    "    exprs['C'] = m.P['k2']*m.Z[t,'B']\n",
    "    return exprs\n",
    "    \n",
    "builder.set_odes_rule(rule_odes)\n",
    "opt_model = builder.create_pyomo_model(0.0,10.0)"
   ]
  },
  {
   "cell_type": "code",
   "execution_count": 10,
   "metadata": {},
   "outputs": [],
   "source": [
    "sigmas = {'A':1e-10,'B':1e-11,'C':1e-10}"
   ]
  },
  {
   "cell_type": "code",
   "execution_count": 11,
   "metadata": {},
   "outputs": [
    {
     "name": "stdout",
     "output_type": "stream",
     "text": [
      "WARNING: More finite elements were found in ContinuousSet 'alltime' than the\n",
      "    number of finite elements specified in apply. The larger number of finite\n",
      "    elements will be used.\n"
     ]
    }
   ],
   "source": [
    "# and define our parameter estimation problem and discretization strategy\n",
    "p_estimator = ParameterEstimator(opt_model)\n",
    "p_estimator.apply_discretization('dae.collocation',nfe=60,ncp=3,scheme='LAGRANGE-RADAU')"
   ]
  },
  {
   "cell_type": "code",
   "execution_count": 12,
   "metadata": {},
   "outputs": [],
   "source": [
    "# Again we provide options for the solver, this time providing the scaling that we set above\n",
    "options = dict()\n",
    "#options['nlp_scaling_method'] = 'user-scaling'\n",
    "options['linear_solver'] = 'ma27'"
   ]
  },
  {
   "cell_type": "code",
   "execution_count": 13,
   "metadata": {},
   "outputs": [
    {
     "name": "stdout",
     "output_type": "stream",
     "text": [
      "Ipopt 3.12: linear_solver=ma27\n",
      "\n",
      "\n",
      "******************************************************************************\n",
      "This program contains Ipopt, a library for large-scale nonlinear optimization.\n",
      " Ipopt is released as open source code under the Eclipse Public License (EPL).\n",
      "         For more information visit http://projects.coin-or.org/Ipopt\n",
      "******************************************************************************\n",
      "\n",
      "This is Ipopt version 3.12, running with linear solver ma27.\n",
      "\n",
      "Number of nonzeros in equality constraint Jacobian...:    23403\n",
      "Number of nonzeros in inequality constraint Jacobian.:        0\n",
      "Number of nonzeros in Lagrangian Hessian.............:     2700\n",
      "\n",
      "Total number of variables............................:     5405\n",
      "                     variables with only lower bounds:        0\n",
      "                variables with lower and upper bounds:        2\n",
      "                     variables with only upper bounds:        0\n",
      "Total number of equality constraints.................:     5403\n",
      "Total number of inequality constraints...............:        0\n",
      "        inequality constraints with only lower bounds:        0\n",
      "   inequality constraints with lower and upper bounds:        0\n",
      "        inequality constraints with only upper bounds:        0\n",
      "\n",
      "iter    objective    inf_pr   inf_du lg(mu)  ||d||  lg(rg) alpha_du alpha_pr  ls\n",
      "   0  2.9981936e+02 1.00e+00 1.15e-01  -1.0 0.00e+00    -  0.00e+00 0.00e+00   0\n",
      "   1  4.9953669e-05 2.31e-04 1.20e-01  -1.0 1.00e+00    -  9.69e-01 1.00e+00f  1\n",
      "   2  4.2520520e-05 6.42e-07 3.83e-04  -1.7 1.04e-02    -  1.00e+00 1.00e+00h  1\n",
      "   3  4.2473418e-05 5.46e-10 9.15e-08  -3.8 1.84e-03    -  1.00e+00 1.00e+00h  1\n",
      "   4  4.1807954e-05 1.61e-06 6.71e-07  -5.7 1.02e-01    -  9.71e-01 1.00e+00h  1\n",
      "   5  4.0675497e-05 5.45e-06 6.48e-06  -8.6 8.48e-02  -4.0 8.59e-01 1.00e+00h  1\n",
      "   6  3.9590779e-05 4.20e-06 6.10e-06  -8.6 1.52e-01  -4.5 1.00e+00 1.00e+00h  1\n",
      "   7  3.6085001e-05 7.77e-05 4.14e-05  -8.6 7.01e-01  -5.0 9.60e-01 1.00e+00h  1\n",
      "   8  3.1140374e-05 5.25e-05 3.19e-05  -8.6 4.33e-01  -4.5 1.00e+00 1.00e+00h  1\n",
      "   9  2.6198941e-05 2.36e-05 1.98e-05  -8.6 2.44e-01  -4.1 1.00e+00 1.00e+00h  1\n",
      "iter    objective    inf_pr   inf_du lg(mu)  ||d||  lg(rg) alpha_du alpha_pr  ls\n",
      "  10  2.2796056e-05 6.56e-06 2.44e-05  -8.6 1.15e-01  -3.7 1.00e+00 1.00e+00h  1\n",
      "  11  9.6722808e-06 2.45e-04 1.24e-04  -8.6 7.47e-01  -4.2 1.00e+00 1.00e+00h  1\n",
      "  12  2.1175401e-06 5.68e-05 1.64e-04  -8.6 2.48e-01    -  1.00e+00 1.00e+00h  1\n",
      "  13  1.7492407e-07 2.48e-05 2.24e-05  -8.6 2.11e-01    -  1.00e+00 1.00e+00h  1\n",
      "  14  1.8671793e-08 2.92e-06 1.19e-06  -8.6 1.64e-01    -  1.00e+00 1.00e+00h  1\n",
      "  15  1.9548243e-08 1.06e-08 8.80e-09  -8.6 3.56e-03    -  1.00e+00 1.00e+00h  1\n",
      "  16  1.8816460e-08 4.30e-09 3.85e-09  -9.0 5.50e-03    -  1.00e+00 1.00e+00h  1\n",
      "\n",
      "Number of Iterations....: 16\n",
      "\n",
      "                                   (scaled)                 (unscaled)\n",
      "Objective...............:   1.8816459999657487e-08    1.8816459999657487e-08\n",
      "Dual infeasibility......:   3.8527239177828590e-09    3.8527239177828590e-09\n",
      "Constraint violation....:   4.2970680977773117e-09    4.2970680977773117e-09\n",
      "Complementarity.........:   1.0492909373330316e-09    1.0492909373330316e-09\n",
      "Overall NLP error.......:   4.2970680977773117e-09    4.2970680977773117e-09\n",
      "\n",
      "\n",
      "Number of objective function evaluations             = 17\n",
      "Number of objective gradient evaluations             = 17\n",
      "Number of equality constraint evaluations            = 17\n",
      "Number of inequality constraint evaluations          = 0\n",
      "Number of equality constraint Jacobian evaluations   = 17\n",
      "Number of inequality constraint Jacobian evaluations = 0\n",
      "Number of Lagrangian Hessian evaluations             = 16\n",
      "Total CPU secs in IPOPT (w/o function evaluations)   =      0.208\n",
      "Total CPU secs in NLP function evaluations           =      0.036\n",
      "\n",
      "EXIT: Optimal Solution Found.\n"
     ]
    }
   ],
   "source": [
    "# finally we run the optimization\n",
    "results_pyomo = p_estimator.run_opt('ipopt',\n",
    "                                        variances=sigmas,\n",
    "                                      tee=True,\n",
    "                                   solver_opts = options)"
   ]
  },
  {
   "cell_type": "code",
   "execution_count": 14,
   "metadata": {},
   "outputs": [
    {
     "name": "stdout",
     "output_type": "stream",
     "text": [
      "The estimated parameters are:\n",
      "k1 0.22583748189276387\n",
      "k2 0.991207923892835\n"
     ]
    }
   ],
   "source": [
    "# And display the results\n",
    "print(\"The estimated parameters are:\")\n",
    "for k,v in six.iteritems(results_pyomo.P):\n",
    "    print(k, v)"
   ]
  },
  {
   "cell_type": "code",
   "execution_count": 15,
   "metadata": {},
   "outputs": [
    {
     "data": {
      "image/png": "[encoded data removed]",
      "text/plain": [
       "<Figure size 432x288 with 1 Axes>"
      ]
     },
     "metadata": {
      "needs_background": "light"
     },
     "output_type": "display_data"
    },
    {
     "data": {
      "image/png": "[encoded data removed]",
      "text/plain": [
       "<Figure size 432x288 with 1 Axes>"
      ]
     },
     "metadata": {
      "needs_background": "light"
     },
     "output_type": "display_data"
    }
   ],
   "source": [
    "results_pyomo.C.plot.line(legend=True)\n",
    "plt.xlabel(\"time (s)\")\n",
    "plt.ylabel(\"Concentration (mol/L)\")\n",
    "plt.title(\"Concentration Profile\")\n",
    "\n",
    "results_pyomo.Z.plot.line(legend=True)\n",
    "plt.xlabel(\"time (s)\")\n",
    "plt.ylabel(\"Concentration (mol/L)\")\n",
    "plt.title(\"Concentration Profile\")\n",
    "\n",
    "\n",
    "plt.show()"
   ]
  }
 ],
 "metadata": {
  "kernelspec": {
   "display_name": "Python 3",
   "language": "python",
   "name": "python3"
  },
  "language_info": {
   "codemirror_mode": {
    "name": "ipython",
    "version": 3
   },
   "file_extension": ".py",
   "mimetype": "text/x-python",
   "name": "python",
   "nbconvert_exporter": "python",
   "pygments_lexer": "ipython3",
   "version": "3.7.3"
  }
 },
 "nbformat": 4,
 "nbformat_minor": 4
}
