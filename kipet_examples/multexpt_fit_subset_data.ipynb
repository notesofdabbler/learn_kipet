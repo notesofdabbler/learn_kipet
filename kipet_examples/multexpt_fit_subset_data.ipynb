{
 "cells": [
  {
   "cell_type": "code",
   "execution_count": null,
   "metadata": {},
   "outputs": [],
   "source": [
    "# Adapted from\n",
    "# https://github.com/salvadorgarciamunoz/kipet/blob/master/kipet/examples/Ex_12_multexp_conc_diffreact.py\n",
    "#"
   ]
  },
  {
   "cell_type": "code",
   "execution_count": 1,
   "metadata": {},
   "outputs": [
    {
     "name": "stdout",
     "output_type": "stream",
     "text": [
      "WARNING: DEPRECATED: The pyomo.core.base.sets module is deprecated.  Import\n",
      "    Set objects from pyomo.core.base.set or pyomo.core.  (deprecated in 5.7)\n",
      "    (called from <frozen importlib._bootstrap>:219)\n",
      "_SetProduct not found\n"
     ]
    }
   ],
   "source": [
    "from kipet import KipetModel\n",
    "import numpy as np\n",
    "import pandas as pd\n",
    "import matplotlib.pyplot as plt"
   ]
  },
  {
   "cell_type": "code",
   "execution_count": 6,
   "metadata": {},
   "outputs": [],
   "source": [
    "def rxn_model(kipet_model, label, cinit, cvars, timespan):\n",
    "\n",
    "    r1 = kipet_model.new_reaction(label)\n",
    "\n",
    "    r1.add_component('A', state = 'concentration', init = cinit['A'])\n",
    "    r1.add_component('B', state = 'concentration', init = cinit['B'])\n",
    "    r1.add_component('C', state = 'concentration', init = cinit['C'])\n",
    "    r1.add_component('D', state = 'concentration', init = cinit['D'])\n",
    "\n",
    "    r1.add_parameter('k1', init = 0.1, bounds = (0.0, 10.0))\n",
    "    r1.add_parameter('k2', init = 0.1, bounds = (0.0, 10.0))\n",
    "\n",
    "    def rule_odes(m,t):\n",
    "        exprs = dict()\n",
    "        exprs['A'] = -m.P['k1']*m.Z[t,'A']*m.Z[t,'B']\n",
    "        exprs['B'] = -m.P['k1']*m.Z[t,'A']*m.Z[t,'B']-m.P['k2']*m.Z[t,'B']*m.Z[t,'C']\n",
    "        exprs['C'] = m.P['k1']*m.Z[t,'A']*m.Z[t,'B']-m.P['k2']*m.Z[t,'B']*m.Z[t,'C']\n",
    "        exprs['D'] = m.P['k2']*m.Z[t,'B']*m.Z[t,'C']\n",
    "        return exprs\n",
    "\n",
    "    r1.add_equations(rule_odes)\n",
    "    \n",
    "    r1.variances = cvars\n",
    "    r1.set_times(timespan[0], timespan[1])\n",
    "    r1.settings.solver.linear_solver = 'ma27'\n",
    "    \n",
    "    return r1"
   ]
  },
  {
   "cell_type": "code",
   "execution_count": 7,
   "metadata": {},
   "outputs": [],
   "source": [
    "datainfo = {'Exp1': {'init': {'A': 1, 'B': 2, 'C': 0, 'D': 0}, 'cvar': {'A': 1, 'B':1, 'C': 1, 'D': 1},\n",
    "                     'timespan': (0, 4.0)},\n",
    "            'Exp2': {'init': {'A': 1, 'B': 1, 'C': 0, 'D': 0}, 'cvar': {'A': 1, 'B':1, 'C': 1, 'D': 1},\n",
    "                     'timespan': (0, 7.0)}}"
   ]
  },
  {
   "cell_type": "code",
   "execution_count": 25,
   "metadata": {},
   "outputs": [
    {
     "name": "stdout",
     "output_type": "stream",
     "text": [
      "Warning: Component A variance not provided\n",
      "Warning: Component B variance not provided\n",
      "Warning: Component C variance not provided\n",
      "Warning: Component D variance not provided\n",
      "Warning: Component A variance not provided\n",
      "Warning: Component B variance not provided\n",
      "Warning: Component C variance not provided\n",
      "Warning: Component D variance not provided\n"
     ]
    }
   ],
   "source": [
    "kipet_model = KipetModel()\n",
    "r1 = rxn_model(kipet_model, 'rxn1', datainfo['Exp1']['init'], datainfo['Exp1']['cvar'], datainfo['Exp1']['timespan'])\n",
    "r2 = rxn_model(kipet_model, 'rxn2', datainfo['Exp2']['init'], datainfo['Exp2']['cvar'], datainfo['Exp2']['timespan'])"
   ]
  },
  {
   "cell_type": "code",
   "execution_count": 26,
   "metadata": {},
   "outputs": [],
   "source": [
    "dirname = '/home/paperspace/learn_kipet/my_data_sets/'\n",
    "C_data_1 = pd.read_csv(dirname + 'ABCD_cb0_2.csv', index_col = 0)\n",
    "C_data_2 = pd.read_csv(dirname + 'ABCD_cb0_1.csv', index_col = 0)"
   ]
  },
  {
   "cell_type": "code",
   "execution_count": 27,
   "metadata": {},
   "outputs": [],
   "source": [
    "r1.add_dataset('C_data_1', category = 'concentration', data = C_data_1[['A', 'C']])\n",
    "r2.add_dataset('C_data_2', category = 'concentration', data = C_data_2[['B', 'D']])"
   ]
  },
  {
   "cell_type": "code",
   "execution_count": 28,
   "metadata": {},
   "outputs": [],
   "source": [
    "kipet_model.settings.solver.linear_solver = 'ma27'"
   ]
  },
  {
   "cell_type": "code",
   "execution_count": 29,
   "metadata": {},
   "outputs": [
    {
     "name": "stdout",
     "output_type": "stream",
     "text": [
      "times are: <class 'tuple'>\n",
      "Warning! Since Cm-matrix contains negative values Kipet is assuming a derivative of Cm has been inputted\n",
      "times are: <class 'tuple'>\n",
      "times are: <class 'tuple'>\n",
      "WARNING: Element A already exists in Set measured_data; no action taken\n",
      "WARNING: Element C already exists in Set measured_data; no action taken\n",
      "0 4.0\n",
      "WARNING: DEPRECATED: The default domain for Param objects is 'Any'.  However,\n",
      "    we will be changing that default to 'Reals' in the future.  If you really\n",
      "    intend the domain of this Param (sigma) to be 'Any', you can suppress this\n",
      "    warning by explicitly specifying 'within=Any' to the Param constructor.\n",
      "    (deprecated in 5.6.9, will be removed in 6.0) (called from\n",
      "    /home/paperspace/my_pyenvs/kipetenv/lib/python3.7/site-\n",
      "    packages/Pyomo-5.7.1-py3.7-linux-x86_64.egg/pyomo/core/base/param.py:640)\n",
      "WARNING: DEPRECATED: The default domain for Param objects is 'Any'.  However,\n",
      "    we will be changing that default to 'Reals' in the future.  If you really\n",
      "    intend the domain of this Param (sigma) to be 'Any', you can suppress this\n",
      "    warning by explicitly specifying 'within=Any' to the Param constructor.\n",
      "    (deprecated in 5.6.9, will be removed in 6.0) (called from\n",
      "    /home/paperspace/my_pyenvs/kipetenv/lib/python3.7/site-\n",
      "    packages/Pyomo-5.7.1-py3.7-linux-x86_64.egg/pyomo/core/base/param.py:640)\n",
      "Ipopt 3.12: nlp_scaling_method=gradient-based\n",
      "linear_solver=ma27\n",
      "\n",
      "\n",
      "******************************************************************************\n",
      "This program contains Ipopt, a library for large-scale nonlinear optimization.\n",
      " Ipopt is released as open source code under the Eclipse Public License (EPL).\n",
      "         For more information visit http://projects.coin-or.org/Ipopt\n",
      "******************************************************************************\n",
      "\n",
      "This is Ipopt version 3.12, running with linear solver ma27.\n",
      "\n",
      "Number of nonzeros in equality constraint Jacobian...:     6004\n",
      "Number of nonzeros in inequality constraint Jacobian.:        0\n",
      "Number of nonzeros in Lagrangian Hessian.............:      926\n",
      "\n",
      "Total number of variables............................:     1206\n",
      "                     variables with only lower bounds:        0\n",
      "                variables with lower and upper bounds:        2\n",
      "                     variables with only upper bounds:        0\n",
      "Total number of equality constraints.................:     1204\n",
      "Total number of inequality constraints...............:        0\n",
      "        inequality constraints with only lower bounds:        0\n",
      "   inequality constraints with lower and upper bounds:        0\n",
      "        inequality constraints with only upper bounds:        0\n",
      "\n",
      "iter    objective    inf_pr   inf_du lg(mu)  ||d||  lg(rg) alpha_du alpha_pr  ls\n",
      "   0  1.6903615e+01 1.00e+00 5.97e-02  -1.0 0.00e+00    -  0.00e+00 0.00e+00   0\n",
      "   1  5.1260054e-01 4.18e-01 2.86e+00  -1.0 2.01e+00    -  5.94e-01 1.00e+00f  1\n",
      "   2  1.7444309e-01 5.99e-01 4.60e-01  -1.0 1.61e+00    -  1.00e+00 1.00e+00h  1\n",
      "   3  6.1049955e-02 9.25e-02 2.14e-01  -1.7 5.61e-01    -  7.59e-01 1.00e+00h  1\n",
      "   4  3.1910030e-02 3.52e-02 3.34e-02  -1.7 3.90e-01    -  1.00e+00 1.00e+00h  1\n",
      "   5  3.0846481e-02 1.27e-03 3.71e-04  -2.5 8.54e-02    -  1.00e+00 1.00e+00h  1\n",
      "   6  3.0829547e-02 5.18e-06 4.70e-06  -3.8 5.72e-03    -  1.00e+00 1.00e+00h  1\n",
      "   7  3.0829513e-02 5.89e-08 2.94e-08  -5.7 5.39e-04    -  1.00e+00 1.00e+00h  1\n",
      "   8  3.0829512e-02 8.86e-12 4.37e-12  -8.6 6.67e-06    -  1.00e+00 1.00e+00h  1\n",
      "\n",
      "Number of Iterations....: 8\n",
      "\n",
      "                                   (scaled)                 (unscaled)\n",
      "Objective...............:   3.0829512315391251e-02    3.0829512315391251e-02\n",
      "Dual infeasibility......:   4.3737214449679838e-12    4.3737214449679838e-12\n",
      "Constraint violation....:   8.8571372458545738e-12    8.8571372458545738e-12\n",
      "Complementarity.........:   2.5137892262937117e-09    2.5137892262937117e-09\n",
      "Overall NLP error.......:   2.5137892262937117e-09    2.5137892262937117e-09\n",
      "\n",
      "\n",
      "Number of objective function evaluations             = 9\n",
      "Number of objective gradient evaluations             = 9\n",
      "Number of equality constraint evaluations            = 9\n",
      "Number of inequality constraint evaluations          = 0\n",
      "Number of equality constraint Jacobian evaluations   = 9\n",
      "Number of inequality constraint Jacobian evaluations = 0\n",
      "Number of Lagrangian Hessian evaluations             = 8\n",
      "Total CPU secs in IPOPT (w/o function evaluations)   =      0.032\n",
      "Total CPU secs in NLP function evaluations           =      0.004\n",
      "\n",
      "EXIT: Optimal Solution Found.\n",
      "Warning! Since Cm-matrix contains negative values Kipet is assuming a derivative of Cm has been inputted\n",
      "times are: <class 'tuple'>\n",
      "WARNING: Element B already exists in Set measured_data; no action taken\n",
      "WARNING: Element D already exists in Set measured_data; no action taken\n",
      "0 7.0\n",
      "WARNING: DEPRECATED: The default domain for Param objects is 'Any'.  However,\n",
      "    we will be changing that default to 'Reals' in the future.  If you really\n",
      "    intend the domain of this Param (sigma) to be 'Any', you can suppress this\n",
      "    warning by explicitly specifying 'within=Any' to the Param constructor.\n",
      "    (deprecated in 5.6.9, will be removed in 6.0) (called from\n",
      "    /home/paperspace/my_pyenvs/kipetenv/lib/python3.7/site-\n",
      "    packages/Pyomo-5.7.1-py3.7-linux-x86_64.egg/pyomo/core/base/param.py:640)\n",
      "WARNING: DEPRECATED: The default domain for Param objects is 'Any'.  However,\n",
      "    we will be changing that default to 'Reals' in the future.  If you really\n",
      "    intend the domain of this Param (sigma) to be 'Any', you can suppress this\n",
      "    warning by explicitly specifying 'within=Any' to the Param constructor.\n",
      "    (deprecated in 5.6.9, will be removed in 6.0) (called from\n",
      "    /home/paperspace/my_pyenvs/kipetenv/lib/python3.7/site-\n",
      "    packages/Pyomo-5.7.1-py3.7-linux-x86_64.egg/pyomo/core/base/param.py:640)\n",
      "Ipopt 3.12: nlp_scaling_method=gradient-based\n",
      "linear_solver=ma27\n",
      "\n",
      "\n",
      "******************************************************************************\n",
      "This program contains Ipopt, a library for large-scale nonlinear optimization.\n",
      " Ipopt is released as open source code under the Eclipse Public License (EPL).\n",
      "         For more information visit http://projects.coin-or.org/Ipopt\n",
      "******************************************************************************\n",
      "\n",
      "This is Ipopt version 3.12, running with linear solver ma27.\n",
      "\n",
      "Number of nonzeros in equality constraint Jacobian...:     6004\n",
      "Number of nonzeros in inequality constraint Jacobian.:        0\n",
      "Number of nonzeros in Lagrangian Hessian.............:      926\n",
      "\n",
      "Total number of variables............................:     1206\n",
      "                     variables with only lower bounds:        0\n",
      "                variables with lower and upper bounds:        2\n",
      "                     variables with only upper bounds:        0\n",
      "Total number of equality constraints.................:     1204\n",
      "Total number of inequality constraints...............:        0\n",
      "        inequality constraints with only lower bounds:        0\n",
      "   inequality constraints with lower and upper bounds:        0\n",
      "        inequality constraints with only upper bounds:        0\n",
      "\n",
      "iter    objective    inf_pr   inf_du lg(mu)  ||d||  lg(rg) alpha_du alpha_pr  ls\n",
      "   0  1.6583080e+01 1.00e+00 9.50e-02  -1.0 0.00e+00    -  0.00e+00 0.00e+00   0\n",
      "   1  7.1817740e-01 1.51e-01 1.24e+00  -1.0 1.26e+00    -  6.87e-01 1.00e+00f  1\n",
      "   2  3.7584358e-01 3.18e-01 7.26e-01  -1.0 1.27e+00    -  2.65e-01 1.00e+00h  1\n",
      "   3  1.4053956e-01 1.42e-01 3.45e+00  -1.0 8.26e-01   0.0 9.42e-01 1.00e+00h  1\n",
      "   4  1.1618252e-01 3.14e-02 4.84e-01  -1.0 7.07e-01  -0.5 1.00e+00 1.00e+00h  1\n",
      "   5  9.9227629e-02 5.56e-03 9.61e-02  -1.7 4.03e-01  -1.0 8.88e-01 1.00e+00h  1\n",
      "   6  8.0352963e-02 8.22e-02 1.40e-02  -2.5 5.57e-01    -  1.00e+00 1.00e+00h  1\n",
      "   7  7.5876835e-02 1.07e-02 1.94e-03  -2.5 2.21e-01    -  1.00e+00 1.00e+00h  1\n",
      "   8  7.5248768e-02 5.54e-05 6.28e-05  -3.8 1.91e-02    -  1.00e+00 1.00e+00h  1\n",
      "   9  7.5256425e-02 7.19e-08 5.76e-08  -5.7 4.88e-04    -  1.00e+00 1.00e+00h  1\n",
      "iter    objective    inf_pr   inf_du lg(mu)  ||d||  lg(rg) alpha_du alpha_pr  ls\n",
      "  10  7.5256422e-02 5.39e-12 3.28e-12  -8.6 1.11e-05    -  1.00e+00 1.00e+00h  1\n",
      "\n",
      "Number of Iterations....: 10\n",
      "\n",
      "                                   (scaled)                 (unscaled)\n",
      "Objective...............:   7.5256422296514205e-02    7.5256422296514205e-02\n",
      "Dual infeasibility......:   3.2810858831842427e-12    3.2810858831842427e-12\n"
     ]
    },
    {
     "name": "stdout",
     "output_type": "stream",
     "text": [
      "Constraint violation....:   5.3881343831108097e-12    5.3881343831108097e-12\n",
      "Complementarity.........:   2.5147258251598824e-09    2.5147258251598824e-09\n",
      "Overall NLP error.......:   2.5147258251598824e-09    2.5147258251598824e-09\n",
      "\n",
      "\n",
      "Number of objective function evaluations             = 11\n",
      "Number of objective gradient evaluations             = 11\n",
      "Number of equality constraint evaluations            = 11\n",
      "Number of inequality constraint evaluations          = 0\n",
      "Number of equality constraint Jacobian evaluations   = 11\n",
      "Number of inequality constraint Jacobian evaluations = 0\n",
      "Number of Lagrangian Hessian evaluations             = 10\n",
      "Total CPU secs in IPOPT (w/o function evaluations)   =      0.052\n",
      "Total CPU secs in NLP function evaluations           =      0.000\n",
      "\n",
      "EXIT: Optimal Solution Found.\n",
      "\n",
      "SOLVING PARAMETER ESTIMATION FOR MULTIPLE DATASETS\n",
      "\n",
      "Fixed parameters are:  set()\n"
     ]
    }
   ],
   "source": [
    "kipet_model.run_opt()"
   ]
  },
  {
   "cell_type": "code",
   "execution_count": 30,
   "metadata": {},
   "outputs": [
    {
     "name": "stdout",
     "output_type": "stream",
     "text": [
      "The estimated parameters are:\n",
      "\n",
      "The estimated parameters are:\n",
      "k1 1.072393996358529\n",
      "k2 1.8492305637580626\n",
      "\n",
      "The estimated parameters are:\n",
      "k1 1.072393996358529\n",
      "k2 1.8492305637580626\n"
     ]
    }
   ],
   "source": [
    "print(\"The estimated parameters are:\")\n",
    "\n",
    "for model, results in kipet_model.results.items():\n",
    "     results.show_parameters"
   ]
  },
  {
   "cell_type": "code",
   "execution_count": 33,
   "metadata": {},
   "outputs": [
    {
     "data": {
      "text/plain": [
       "<matplotlib.legend.Legend at 0x7fecc6688390>"
      ]
     },
     "execution_count": 33,
     "metadata": {},
     "output_type": "execute_result"
    },
    {
     "data": {
      "image/png": "[encoded data removed]",
      "text/plain": [
       "<Figure size 432x288 with 1 Axes>"
      ]
     },
     "metadata": {
      "needs_background": "light"
     },
     "output_type": "display_data"
    }
   ],
   "source": [
    "colors = ['b', 'c', 'y', 'm', 'r']\n",
    "cmps = ['A', 'B', 'C', 'D']\n",
    "\n",
    "expt = 'rxn1'\n",
    "fig, ax = plt.subplots()\n",
    "for i, x in enumerate(cmps):\n",
    "    if x in kipet_model.results[expt].Cm.columns:\n",
    "        ax.scatter(kipet_model.results[expt].Cm.index, kipet_model.results[expt].Cm[x], label = x, color = colors[i])\n",
    "    ax.plot(kipet_model.results[expt].Z.index, kipet_model.results[expt].Z[x], label = x, color = colors[i])\n",
    "ax.legend()"
   ]
  },
  {
   "cell_type": "code",
   "execution_count": 34,
   "metadata": {},
   "outputs": [
    {
     "data": {
      "text/plain": [
       "<matplotlib.legend.Legend at 0x7fecb2e91828>"
      ]
     },
     "execution_count": 34,
     "metadata": {},
     "output_type": "execute_result"
    },
    {
     "data": {
      "image/png": "[encoded data removed]",
      "text/plain": [
       "<Figure size 432x288 with 1 Axes>"
      ]
     },
     "metadata": {
      "needs_background": "light"
     },
     "output_type": "display_data"
    }
   ],
   "source": [
    "expt = 'rxn2'\n",
    "fig, ax = plt.subplots()\n",
    "for i, x in enumerate(cmps):\n",
    "    if x in kipet_model.results[expt].Cm.columns:\n",
    "        ax.scatter(kipet_model.results[expt].Cm.index, kipet_model.results[expt].Cm[x], label = x, color = colors[i])\n",
    "    ax.plot(kipet_model.results[expt].Z.index, kipet_model.results[expt].Z[x], label = x, color = colors[i])\n",
    "ax.legend()"
   ]
  },
  {
   "cell_type": "code",
   "execution_count": null,
   "metadata": {},
   "outputs": [],
   "source": []
  }
 ],
 "metadata": {
  "kernelspec": {
   "display_name": "Python 3",
   "language": "python",
   "name": "python3"
  },
  "language_info": {
   "codemirror_mode": {
    "name": "ipython",
    "version": 3
   },
   "file_extension": ".py",
   "mimetype": "text/x-python",
   "name": "python",
   "nbconvert_exporter": "python",
   "pygments_lexer": "ipython3",
   "version": "3.7.3"
  }
 },
 "nbformat": 4,
 "nbformat_minor": 2
}
