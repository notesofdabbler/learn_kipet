{
 "cells": [
  {
   "cell_type": "code",
   "execution_count": 137,
   "metadata": {},
   "outputs": [],
   "source": [
    "#\n",
    "# This is an example from jbr Reactor Design Book\n",
    "# https://github.com/rawlings-group/paresto/blob/master/examples/green_book/bvsm_red.m\n",
    "#"
   ]
  },
  {
   "cell_type": "markdown",
   "metadata": {},
   "source": [
    "Reduced order model with states $V, \\epsilon_2$:\n",
    "$$\\frac{dV}{dt} = Q^{in}_B(t)$$\n",
    "$$\\frac{d\\epsilon_2}{dt} = \\frac{Q^{in}_B(t)c_{Bf}(n^{added}_B-2\\epsilon_2)}{(n^{added}_B-2\\epsilon_2) + k(n_{A0} - n^{added}_B + \\epsilon_2)} $$ \n",
    "\n",
    "Calculation of $n_B^{added}$:\n",
    "$$ n_B^{added} = (V - V(0))c_{Bf} $$\n",
    "\n",
    "Parameters:\n",
    "$k = 2.48, \\;\\;n_{A0} = 2.35$\n",
    "\n",
    "Initial conditions:\n",
    "$V = 2370, \\;\\;\\epsilon_2 = 0$\n",
    "\n",
    "When I just used $V, \\epsilon_2$ as state variables, kipet had trouble even simulating the system. So I rewrote the system with auxiliary algebraic variables which simulated without a problem.\n",
    "\n",
    "$$\\frac{dV}{dt} = Q^{in}_B(t)$$\n",
    "$$\\frac{d\\epsilon_2}{dt} = y_1(t) $$ \n",
    "$$ y_1(t)[(n^{added}_B-2\\epsilon_2) + k(n_{A0} - n^{added}_B + \\epsilon_2)] = Q^{in}_B(t)c_{Bf}(n^{added}_B-2\\epsilon_2) $$\n",
    "$$ n_B^{added} = (V - V(0))c_{Bf} $$\n",
    "\n",
    "While this simulated without issues, I am having trouble doing parameter estimation of $k$ and $n_{A0}$"
   ]
  },
  {
   "cell_type": "code",
   "execution_count": 138,
   "metadata": {},
   "outputs": [],
   "source": [
    "from kipet import KipetModel\n",
    "import matplotlib.pyplot as plt\n",
    "import numpy as np\n",
    "import pandas as pd\n",
    "from scipy.stats import t"
   ]
  },
  {
   "cell_type": "code",
   "execution_count": 139,
   "metadata": {},
   "outputs": [
    {
     "data": {
      "text/html": [
       "<div>\n",
       "<style scoped>\n",
       "    .dataframe tbody tr th:only-of-type {\n",
       "        vertical-align: middle;\n",
       "    }\n",
       "\n",
       "    .dataframe tbody tr th {\n",
       "        vertical-align: top;\n",
       "    }\n",
       "\n",
       "    .dataframe thead th {\n",
       "        text-align: right;\n",
       "    }\n",
       "</style>\n",
       "<table border=\"1\" class=\"dataframe\">\n",
       "  <thead>\n",
       "    <tr style=\"text-align: right;\">\n",
       "      <th></th>\n",
       "      <th>qin_B</th>\n",
       "    </tr>\n",
       "    <tr>\n",
       "      <th>time</th>\n",
       "      <th></th>\n",
       "    </tr>\n",
       "  </thead>\n",
       "  <tbody>\n",
       "    <tr>\n",
       "      <th>9.0</th>\n",
       "      <td>0.134365</td>\n",
       "    </tr>\n",
       "    <tr>\n",
       "      <th>19.0</th>\n",
       "      <td>1.772804</td>\n",
       "    </tr>\n",
       "    <tr>\n",
       "      <th>29.0</th>\n",
       "      <td>1.734587</td>\n",
       "    </tr>\n",
       "    <tr>\n",
       "      <th>39.0</th>\n",
       "      <td>1.703319</td>\n",
       "    </tr>\n",
       "    <tr>\n",
       "      <th>49.0</th>\n",
       "      <td>1.669967</td>\n",
       "    </tr>\n",
       "    <tr>\n",
       "      <th>...</th>\n",
       "      <td>...</td>\n",
       "    </tr>\n",
       "    <tr>\n",
       "      <th>829.0</th>\n",
       "      <td>0.000990</td>\n",
       "    </tr>\n",
       "    <tr>\n",
       "      <th>839.0</th>\n",
       "      <td>0.000782</td>\n",
       "    </tr>\n",
       "    <tr>\n",
       "      <th>849.0</th>\n",
       "      <td>0.000643</td>\n",
       "    </tr>\n",
       "    <tr>\n",
       "      <th>859.0</th>\n",
       "      <td>0.000712</td>\n",
       "    </tr>\n",
       "    <tr>\n",
       "      <th>869.0</th>\n",
       "      <td>0.000608</td>\n",
       "    </tr>\n",
       "  </tbody>\n",
       "</table>\n",
       "<p>87 rows × 1 columns</p>\n",
       "</div>"
      ],
      "text/plain": [
       "          qin_B\n",
       "time           \n",
       "9.0    0.134365\n",
       "19.0   1.772804\n",
       "29.0   1.734587\n",
       "39.0   1.703319\n",
       "49.0   1.669967\n",
       "...         ...\n",
       "829.0  0.000990\n",
       "839.0  0.000782\n",
       "849.0  0.000643\n",
       "859.0  0.000712\n",
       "869.0  0.000608\n",
       "\n",
       "[87 rows x 1 columns]"
      ]
     },
     "execution_count": 139,
     "metadata": {},
     "output_type": "execute_result"
    }
   ],
   "source": [
    "# Import data set with flow of B over time\n",
    "filename = '/home/paperspace/learn_kipet/kipet_paresto/data_sets/flow.dat'\n",
    "flow_df = pd.read_csv(filename, delimiter=r\"\\s+\", header = None)\n",
    "flow_df.columns = ['time', 'Qf', 'x']\n",
    "flow_df['qin_B'] = flow_df['Qf'] / 0.728\n",
    "flow_df = flow_df.set_index('time')\n",
    "qinB_traj = flow_df[['qin_B']]\n",
    "qinB_traj"
   ]
  },
  {
   "cell_type": "code",
   "execution_count": 140,
   "metadata": {},
   "outputs": [
    {
     "data": {
      "text/html": [
       "<div>\n",
       "<style scoped>\n",
       "    .dataframe tbody tr th:only-of-type {\n",
       "        vertical-align: middle;\n",
       "    }\n",
       "\n",
       "    .dataframe tbody tr th {\n",
       "        vertical-align: top;\n",
       "    }\n",
       "\n",
       "    .dataframe thead th {\n",
       "        text-align: right;\n",
       "    }\n",
       "</style>\n",
       "<table border=\"1\" class=\"dataframe\">\n",
       "  <thead>\n",
       "    <tr style=\"text-align: right;\">\n",
       "      <th></th>\n",
       "      <th>qin_B</th>\n",
       "    </tr>\n",
       "    <tr>\n",
       "      <th>time</th>\n",
       "      <th></th>\n",
       "    </tr>\n",
       "  </thead>\n",
       "  <tbody>\n",
       "    <tr>\n",
       "      <th>0.0</th>\n",
       "      <td>0.000000</td>\n",
       "    </tr>\n",
       "    <tr>\n",
       "      <th>9.0</th>\n",
       "      <td>0.134365</td>\n",
       "    </tr>\n",
       "    <tr>\n",
       "      <th>19.0</th>\n",
       "      <td>1.772804</td>\n",
       "    </tr>\n",
       "    <tr>\n",
       "      <th>29.0</th>\n",
       "      <td>1.734587</td>\n",
       "    </tr>\n",
       "    <tr>\n",
       "      <th>39.0</th>\n",
       "      <td>1.703319</td>\n",
       "    </tr>\n",
       "  </tbody>\n",
       "</table>\n",
       "</div>"
      ],
      "text/plain": [
       "         qin_B\n",
       "time          \n",
       "0.0   0.000000\n",
       "9.0   0.134365\n",
       "19.0  1.772804\n",
       "29.0  1.734587\n",
       "39.0  1.703319"
      ]
     },
     "execution_count": 140,
     "metadata": {},
     "output_type": "execute_result"
    }
   ],
   "source": [
    "# insert first row for time 0\n",
    "qinB_row0 = pd.DataFrame({'time':[0], 'qin_B':[0]}).set_index('time')\n",
    "qinB_traj = qinB_traj.append(qinB_row0).sort_index()\n",
    "qinB_traj.head()"
   ]
  },
  {
   "cell_type": "code",
   "execution_count": 141,
   "metadata": {},
   "outputs": [],
   "source": [
    "filename = '/home/paperspace/learn_kipet/kipet_paresto/data_sets/lc.dat'\n",
    "lc_data = pd.read_csv(filename, delimiter=r\"\\s+\", header = None)\n",
    "lc_data.columns = ['time', 'y']\n",
    "lc_data = lc_data.set_index('time')"
   ]
  },
  {
   "cell_type": "code",
   "execution_count": 142,
   "metadata": {},
   "outputs": [
    {
     "data": {
      "text/html": [
       "<div>\n",
       "<style scoped>\n",
       "    .dataframe tbody tr th:only-of-type {\n",
       "        vertical-align: middle;\n",
       "    }\n",
       "\n",
       "    .dataframe tbody tr th {\n",
       "        vertical-align: top;\n",
       "    }\n",
       "\n",
       "    .dataframe thead th {\n",
       "        text-align: right;\n",
       "    }\n",
       "</style>\n",
       "<table border=\"1\" class=\"dataframe\">\n",
       "  <thead>\n",
       "    <tr style=\"text-align: right;\">\n",
       "      <th></th>\n",
       "      <th>y</th>\n",
       "    </tr>\n",
       "    <tr>\n",
       "      <th>time</th>\n",
       "      <th></th>\n",
       "    </tr>\n",
       "  </thead>\n",
       "  <tbody>\n",
       "    <tr>\n",
       "      <th>414</th>\n",
       "      <td>0.1705</td>\n",
       "    </tr>\n",
       "    <tr>\n",
       "      <th>424</th>\n",
       "      <td>0.1604</td>\n",
       "    </tr>\n",
       "    <tr>\n",
       "      <th>434</th>\n",
       "      <td>0.1325</td>\n",
       "    </tr>\n",
       "    <tr>\n",
       "      <th>444</th>\n",
       "      <td>0.1084</td>\n",
       "    </tr>\n",
       "    <tr>\n",
       "      <th>493</th>\n",
       "      <td>0.1014</td>\n",
       "    </tr>\n",
       "  </tbody>\n",
       "</table>\n",
       "</div>"
      ],
      "text/plain": [
       "           y\n",
       "time        \n",
       "414   0.1705\n",
       "424   0.1604\n",
       "434   0.1325\n",
       "444   0.1084\n",
       "493   0.1014"
      ]
     },
     "execution_count": 142,
     "metadata": {},
     "output_type": "execute_result"
    }
   ],
   "source": [
    "lc_data.head()"
   ]
  },
  {
   "cell_type": "code",
   "execution_count": 143,
   "metadata": {},
   "outputs": [
    {
     "name": "stdout",
     "output_type": "stream",
     "text": [
      "Warning: Component V variance not provided\n",
      "Warning: Component eps2 variance not provided\n"
     ]
    }
   ],
   "source": [
    "kipet_model = KipetModel()\n",
    "\n",
    "r1 = kipet_model.new_reaction('rxn1')\n",
    "\n",
    "r1.add_component('V', state = 'state', init = 2370)\n",
    "r1.add_component('eps2', state = 'concentration', init = 0.0)\n",
    "#r1.add_component('qin_B', state = 'trajectory')\n",
    "\n",
    "r1.add_algebraic_variables('qin_B')\n",
    "r1.add_algebraic_variables('nBadded')\n",
    "r1.add_algebraic_variables('y1')\n",
    "r1.add_algebraic_variables('y', init = 0.2, bounds = (0.0, 1.0))\n",
    "\n",
    "r1.add_parameter('k', init = 2.48, bounds = (0, 10))\n",
    "r1.add_parameter('na0', init = 2.34, bounds = (0, 10))\n",
    "\n",
    "cbf = 0.00721\n",
    "V0 = 2370"
   ]
  },
  {
   "cell_type": "code",
   "execution_count": 144,
   "metadata": {},
   "outputs": [],
   "source": [
    "def rule_odes(m,t):\n",
    "        \n",
    "    exprs = dict()\n",
    "    exprs['V'] = m.Y[t,'qin_B']\n",
    "    exprs['eps2'] = m.Y[t, 'y1']\n",
    "    return exprs\n",
    "\n",
    "r1.add_equations(rule_odes) "
   ]
  },
  {
   "cell_type": "code",
   "execution_count": 145,
   "metadata": {},
   "outputs": [],
   "source": [
    "def rule_algebraics(m, t):\n",
    "    r = list()\n",
    "    r.append(m.Y[t,'nBadded'] - (m.X[t, 'V'] - V0) * cbf)\n",
    "    r.append(m.Y[t,'y1'] * ((m.Y[t,'nBadded'] - 2 * m.Z[t,'eps2']) + m.P['k']*(m.P['na0'] - m.Y[t,'nBadded'] + m.Z[t, 'eps2'])) - m.Y[t,'qin_B'] * cbf * (m.Y[t,'nBadded'] - 2 * m.Z[t,'eps2']))\n",
    "    r.append(m.Y[t, 'y'] * m.Y[t, 'nBadded'] - (m.Y[t,'nBadded'] - 2 * m.Z[t,'eps2']))\n",
    "    return r\n",
    "\n",
    "r1.add_algebraics(rule_algebraics)"
   ]
  },
  {
   "cell_type": "code",
   "execution_count": 146,
   "metadata": {},
   "outputs": [],
   "source": [
    "r1.add_objective_from_algebraic('y')"
   ]
  },
  {
   "cell_type": "code",
   "execution_count": 147,
   "metadata": {},
   "outputs": [],
   "source": [
    "r1.add_dataset('lc_data', category = 'custom', data = lc_data)\n",
    "r1.add_dataset('Traj', category = 'trajectory', data = qinB_traj)"
   ]
  },
  {
   "cell_type": "code",
   "execution_count": 148,
   "metadata": {},
   "outputs": [],
   "source": [
    "r1.fix_from_trajectory('Y', 'qin_B', 'Traj')\n",
    "r1.set_times(0, 900)"
   ]
  },
  {
   "cell_type": "code",
   "execution_count": 149,
   "metadata": {},
   "outputs": [],
   "source": [
    "r1.settings.collocation.nfe = 60\n",
    "r1.settings.collocation.ncp = 3\n",
    "r1.settings.collocation.scheme = 'LAGRANGE-RADAU'\n",
    "r1.settings.solver.linear_solver = 'ma27'"
   ]
  },
  {
   "cell_type": "code",
   "execution_count": 150,
   "metadata": {},
   "outputs": [
    {
     "name": "stdout",
     "output_type": "stream",
     "text": [
      "times are: <class 'tuple'>\n",
      "0 900\n",
      "WARNING: The number of algebraic equations is not the same as the number of algebraic variables.\n",
      " If this is the desired behavior, some algebraics must be added after the model is created.\n",
      "No variance information for V found, setting equal to unity\n",
      "No variance information for eps2 found, setting equal to unity\n",
      "Ipopt 3.12: nlp_scaling_method=user-scaling\n",
      "linear_solver=ma27\n",
      "\n",
      "\n",
      "******************************************************************************\n",
      "This program contains Ipopt, a library for large-scale nonlinear optimization.\n",
      " Ipopt is released as open source code under the Eclipse Public License (EPL).\n",
      "         For more information visit http://projects.coin-or.org/Ipopt\n",
      "******************************************************************************\n",
      "\n",
      "This is Ipopt version 3.12, running with linear solver ma27.\n",
      "\n",
      "Number of nonzeros in equality constraint Jacobian...:     4152\n",
      "Number of nonzeros in inequality constraint Jacobian.:        0\n",
      "Number of nonzeros in Lagrangian Hessian.............:     1303\n",
      "\n",
      "Total number of variables............................:     1267\n",
      "                     variables with only lower bounds:        0\n",
      "                variables with lower and upper bounds:       39\n",
      "                     variables with only upper bounds:        0\n",
      "Total number of equality constraints.................:     1265\n",
      "Total number of inequality constraints...............:        0\n",
      "        inequality constraints with only lower bounds:        0\n",
      "   inequality constraints with lower and upper bounds:        0\n",
      "        inequality constraints with only upper bounds:        0\n",
      "\n",
      "iter    objective    inf_pr   inf_du lg(mu)  ||d||  lg(rg) alpha_du alpha_pr  ls\n",
      "   0  2.9689147e+01 4.82e+00 3.00e-01  -1.0 0.00e+00    -  0.00e+00 0.00e+00   0\n",
      "   1  2.9574540e+01 1.99e+00 4.74e+01  -1.0 6.22e+02    -  6.16e-03 4.49e-03h  1\n",
      "   2  2.8484346e+01 1.96e+00 1.40e+04  -1.0 6.20e+02    -  1.49e-04 1.55e-02f  1\n",
      "   3  2.8994464e+01 1.95e+00 1.40e+04  -1.0 6.10e+02   2.0 2.04e-02 8.51e-03h  1\n",
      "   4  2.8888524e+01 1.95e+00 1.40e+04  -1.0 6.05e+02    -  5.96e-06 9.81e-05h  1\n",
      "   5  2.8967290e+01 1.95e+00 1.40e+04  -1.0 6.05e+02   1.5 1.23e-02 1.87e-05h  1\n",
      "   6  2.8998024e+01 1.95e+00 1.40e+04  -1.0 1.19e+03    -  1.73e-04 3.56e-05h  1\n",
      "   7  2.9041291e+01 1.95e+00 1.40e+04  -1.0 9.44e+02    -  1.84e-04 5.01e-05h  1\n",
      "   8  9.7754610e+00 1.57e+02 1.26e+07  -1.0 1.36e+03    -  3.68e-05 2.32e-02f  1\n",
      "   9  1.5789110e+01 2.35e+02 7.08e+06  -1.0 5.91e+02    -  3.67e-04 4.31e-01h  1\n",
      "iter    objective    inf_pr   inf_du lg(mu)  ||d||  lg(rg) alpha_du alpha_pr  ls\n",
      "  10  1.1051398e+01 6.75e+02 4.15e+05  -1.0 3.36e+02    -  2.60e-02 1.00e+00h  1\n",
      "  11  1.1621677e+01 1.15e+02 1.27e+07  -1.0 5.22e+00   5.6 7.67e-03 1.00e+00h  1\n",
      "  12  2.2507290e+00 2.89e+01 4.67e+06  -1.0 3.77e+01    -  4.07e-02 7.10e-01f  1\n",
      "  13  1.9519725e+00 2.74e+01 6.35e+06  -1.0 1.41e+01   5.1 6.04e-01 5.23e-02h  1\n",
      "  14  1.9492489e+00 2.73e+01 6.35e+06  -1.0 1.35e+01   5.5 6.40e-01 4.89e-04h  1\n",
      "  15  1.9484312e+00 2.73e+01 8.85e+07  -1.0 1.55e+01   5.0 8.96e-01 2.25e-04h  1\n",
      "  16  8.5450021e-01 1.67e+01 1.38e+09  -1.0 1.57e+01   5.5 1.00e+00 3.73e-01h  1\n",
      "  17  8.3216270e-01 1.64e+01 1.58e+10  -1.0 3.13e+01   6.8 1.00e+00 1.61e-02h  1\n",
      "  18  2.2648817e-01 2.23e+00 1.80e+12  -1.0 3.23e+01   7.2 1.00e+00 6.37e-01h  1\n",
      "  19  1.7787256e-01 1.89e+00 2.89e+12  -1.0 1.96e+02    -  5.01e-01 1.59e-01h  1\n",
      "MA27BD returned iflag=-4 and requires more memory.\n",
      " Increase liw from 62110 to 124220 and la from 60425 to 125536 and factorize again.\n",
      "MA27BD returned iflag=-4 and requires more memory.\n",
      " Increase liw from 124220 to 248440 and la from 125536 to 267010 and factorize again.\n",
      "iter    objective    inf_pr   inf_du lg(mu)  ||d||  lg(rg) alpha_du alpha_pr  ls\n",
      "  20  1.7786770e-01 1.89e+00 2.89e+12  -1.0 8.34e+02   7.6 4.10e-02 2.61e-05h  1\n",
      "  21r 1.7786770e-01 1.89e+00 1.00e+03   0.3 0.00e+00   7.2 0.00e+00 5.67e-08R  2\n",
      "  22r 1.8132132e-01 8.19e-01 9.93e+02   0.3 5.73e+02    -  1.56e-02 3.18e-03f  1\n",
      "  23  1.2870602e-01 6.61e-01 7.13e+00  -1.0 1.62e+03    -  2.90e-01 2.02e-01f  1\n",
      "  24  1.2789475e-01 6.59e-01 7.50e+02  -1.0 5.90e+03    -  1.43e-01 3.37e-03h  1\n",
      "  25  1.2580915e-01 6.59e-01 1.50e+09  -1.0 5.39e+03   6.7 1.55e-04 3.80e-05h  1\n",
      "  26r 1.2580915e-01 6.59e-01 9.99e+02  -0.2 0.00e+00   6.2 0.00e+00 2.99e-07R  2\n",
      "  27r 1.2217765e-01 2.86e-01 1.10e+03  -0.2 2.60e+02    -  1.92e-02 4.18e-03f  1\n",
      "  28  1.2223471e-01 2.86e-01 2.18e+04  -1.0 3.18e+03    -  4.96e-01 1.28e-04h  1\n",
      "  29  1.3634949e-01 2.86e-01 1.32e+06  -1.0 2.32e+03    -  1.65e-01 2.18e-03h  1\n",
      "iter    objective    inf_pr   inf_du lg(mu)  ||d||  lg(rg) alpha_du alpha_pr  ls\n",
      "  30r 1.3634949e-01 2.86e-01 1.00e+03  -0.5 0.00e+00    -  0.00e+00 3.17e-07R  4\n",
      "  31r 1.3555668e-01 9.48e-02 1.21e+03  -0.5 1.38e+02    -  2.70e-02 5.41e-03f  1\n",
      "  32  1.3553901e-01 9.48e-02 3.78e+03  -1.0 3.63e+03    -  4.88e-02 7.36e-05h  1\n",
      "  33r 1.3553901e-01 9.48e-02 9.99e+02  -1.0 0.00e+00    -  0.00e+00 2.56e-07R  3\n",
      "  34r 1.3062111e-01 2.02e-02 1.19e+03  -1.0 1.10e+02    -  1.79e-02 5.58e-03f  1\n",
      "  35  1.3061260e-01 2.02e-02 3.01e+03  -1.0 4.22e+03    -  1.45e-02 3.00e-05h  1\n",
      "  36  8.9982548e-02 1.04e+00 6.26e+04  -1.0 3.14e+03    -  6.18e-06 4.97e-03f  3\n",
      "  37  9.1494677e-02 9.98e-01 2.27e+04  -1.0 3.40e+03    -  1.46e-03 3.99e-02f  2\n",
      "  38  9.1479878e-02 9.98e-01 2.90e+04  -1.0 7.71e+03    -  6.04e-02 2.09e-04h  2\n",
      "  39  9.1412879e-02 9.74e-01 1.11e+05  -1.0 7.08e+03    -  4.46e-01 2.33e-02f  2\n",
      "iter    objective    inf_pr   inf_du lg(mu)  ||d||  lg(rg) alpha_du alpha_pr  ls\n",
      "  40  9.1189430e-02 9.54e-01 1.29e+05  -1.0 1.34e+04    -  9.84e-01 2.08e-02h  3\n",
      "  41  9.0792664e-02 9.12e-01 1.07e+05  -1.0 3.12e+04    -  8.41e-01 4.41e-02h  2\n",
      "  42  9.0529695e-02 8.05e-01 7.76e+04  -1.0 1.79e+05    -  1.00e+00 1.18e-01H  1\n",
      "  43  9.2997311e-02 6.67e-01 8.09e+04  -1.0 3.53e+03    -  1.00e+00 1.74e-01h  1\n",
      "  44  9.8493472e-02 5.62e-01 1.27e+05  -1.0 5.49e+02    -  2.30e-01 1.60e-01h  1\n",
      "  45  9.8626432e-02 5.61e-01 2.46e+07  -1.0 1.63e+02    -  3.82e-01 3.52e-03h  1\n",
      "  46  9.8657509e-02 5.60e-01 2.81e+07  -1.0 4.96e+03    -  1.26e-03 8.20e-04h  1\n",
      "  47  9.8674413e-02 5.60e-01 5.17e+10  -1.0 1.60e+02    -  1.00e+00 4.46e-04h  1\n",
      "  48  9.8679772e-02 5.60e-01 3.29e+14  -1.0 1.60e+02    -  1.00e+00 1.41e-04h  1\n",
      "  49  9.8680337e-02 5.60e-01 2.06e+19  -1.0 1.60e+02    -  1.00e+00 1.49e-05h  1\n",
      "iter    objective    inf_pr   inf_du lg(mu)  ||d||  lg(rg) alpha_du alpha_pr  ls\n",
      "  50r 9.8680337e-02 5.60e-01 1.00e+03  -0.3 0.00e+00    -  0.00e+00 2.74e-07R  3\n",
      "  51r 1.0184357e-01 2.74e-01 1.48e+03  -0.3 2.40e+02    -  2.38e-02 1.77e-03f  1\n",
      "  52  1.0184022e-01 2.74e-01 1.16e+05  -1.0 4.80e+03    -  9.62e-01 5.09e-05h  1\n",
      "  53  1.8863614e-01 8.97e-02 1.10e+05  -1.0 1.82e+02    -  3.83e-01 7.70e-01h  1\n",
      "  54  2.0420983e-01 5.92e-02 4.52e+11  -1.0 1.02e+02   5.7 1.00e+00 3.15e-01h  1\n",
      "  55  2.5190674e-01 9.48e-03 4.30e+11  -1.0 6.27e+01   5.3 1.00e+00 9.97e-01h  1\n",
      "  56  2.5204876e-01 9.26e-03 4.20e+11  -1.0 7.02e+00    -  5.15e-01 2.38e-02h  1\n",
      "  57  2.5227338e-01 8.66e-03 3.93e+11  -1.0 6.93e+00    -  2.33e-02 6.41e-02f  3\n",
      "  58  2.5229699e-01 8.63e-03 3.91e+11  -1.0 6.69e+00    -  3.03e-02 4.23e-03h  1\n",
      "  59  2.5261142e-01 7.88e-03 3.57e+11  -1.0 6.68e+00    -  1.00e+00 8.65e-02h  1\n",
      "iter    objective    inf_pr   inf_du lg(mu)  ||d||  lg(rg) alpha_du alpha_pr  ls\n",
      "  60  2.5265697e-01 7.79e-03 3.53e+11  -1.0 6.37e+00    -  4.61e-02 1.18e-02h  1\n",
      "  61  2.5345447e-01 5.65e-03 2.56e+11  -1.0 6.33e+00    -  6.89e-01 2.74e-01h  1\n",
      "  62  2.5388849e-01 4.61e-03 2.08e+11  -1.0 5.42e+00    -  6.74e-01 1.84e-01h  1\n",
      "  63  2.5389207e-01 4.61e-03 2.08e+11  -1.0 5.43e+00    -  8.09e-01 6.23e-05h  1\n",
      "  64  2.5390922e-01 4.58e-03 2.07e+11  -1.0 6.78e+00    -  1.24e-03 7.34e-03f  2\n",
      "  65  2.5391840e-01 4.57e-03 2.06e+11  -1.0 8.45e+02    -  1.58e-03 2.03e-03h  1\n",
      "  66  2.5393624e-01 4.51e-03 2.04e+11  -1.0 2.12e+02    -  1.30e-02 1.17e-02h  1\n",
      "  67  2.5393628e-01 4.51e-03 2.04e+11  -1.0 1.16e+03    -  1.14e-02 2.14e-05h  1\n",
      "  68  2.5393937e-01 4.51e-03 2.03e+11  -1.0 4.91e+02    -  1.55e-02 1.87e-03h  1\n",
      "  69  2.5393960e-01 4.50e-03 2.03e+11  -1.0 4.67e+03    -  1.44e-03 1.36e-04h  1\n",
      "iter    objective    inf_pr   inf_du lg(mu)  ||d||  lg(rg) alpha_du alpha_pr  ls\n",
      "  70r 2.5393960e-01 4.50e-03 1.00e+03  -1.0 0.00e+00    -  0.00e+00 2.79e-07R  3\n",
      "  71r 2.5388639e-01 6.46e-04 1.16e+04  -1.0 5.23e-01    -  2.88e-01 2.25e-02f  1\n",
      "  72  2.5388160e-01 6.46e-04 4.35e+04  -1.0 9.51e+04    -  9.98e-01 5.53e-04f  2\n",
      "  73  2.5401169e-01 5.99e-04 3.22e+04  -1.0 1.84e+02    -  2.43e-01 7.39e-02f  1\n",
      "  74  2.5403233e-01 5.92e-04 2.42e+04  -1.0 2.24e+03    -  4.67e-03 1.18e-02h  1\n",
      "  75  2.5403267e-01 5.92e-04 2.65e+06  -1.0 3.32e+02    -  5.80e-03 1.10e-04h  1\n",
      "  76  2.5403293e-01 5.92e-04 2.96e+06  -1.0 6.89e+03    -  1.05e-04 1.72e-05f  4\n",
      "  77  2.5403355e-01 5.92e-04 6.09e+06  -1.0 9.57e+03    -  7.22e-04 3.53e-05f  3\n",
      "  78  2.5403647e-01 5.92e-04 5.77e+06  -1.0 1.51e+04    -  8.09e-05 1.23e-04f  2\n",
      "  79  2.5404524e-01 5.92e-04 5.95e+06  -1.0 1.05e+04    -  4.76e-04 3.31e-04f  2\n",
      "iter    objective    inf_pr   inf_du lg(mu)  ||d||  lg(rg) alpha_du alpha_pr  ls\n",
      "  80  2.5405044e-01 5.92e-04 1.47e+06  -1.0 5.63e+03    -  1.00e-02 1.96e-04f  4\n",
      "  81  2.5405370e-01 5.91e-04 5.37e+05  -1.0 2.81e+03    -  1.07e-03 1.24e-04h  1\n",
      "  82  2.5407021e-01 5.91e-04 3.20e+07  -1.0 2.03e+03    -  1.57e-02 6.26e-04f  2\n",
      "  83  2.5408660e-01 5.91e-04 9.58e+07  -1.0 3.32e+02    -  1.85e-03 6.33e-04h  1\n",
      "  84  2.5408712e-01 5.91e-04 1.62e+12  -1.0 9.91e+00    -  1.00e+00 4.67e-05h  1\n",
      "  85  2.5408021e-01 5.82e-04 1.45e+12  -1.0 4.47e+00    -  1.55e-06 1.55e-02f  1\n",
      "  86  2.5409135e-01 5.76e-04 1.44e+12  -1.0 4.44e+00    -  2.54e-03 9.22e-03f  2\n",
      "  87  2.5409114e-01 5.76e-04 1.44e+12  -1.0 4.42e+00    -  2.31e-04 4.29e-04h  1\n",
      "  88  2.5409298e-01 5.76e-04 4.45e+14  -1.0 4.41e+00    -  3.03e-01 4.86e-04h  1\n"
     ]
    },
    {
     "name": "stdout",
     "output_type": "stream",
     "text": [
      "  89r 2.5409298e-01 5.76e-04 1.00e+03  -1.0 0.00e+00    -  0.00e+00 3.11e-07R  6\n",
      "iter    objective    inf_pr   inf_du lg(mu)  ||d||  lg(rg) alpha_du alpha_pr  ls\n",
      "  90r 2.5387029e-01 3.04e-04 2.78e+03  -1.0 1.97e-01    -  9.79e-01 9.39e-02f  2\n",
      "  91  2.5389182e-01 3.04e-04 1.10e+04  -1.0 1.23e+02    -  9.81e-01 9.30e-04f  2\n",
      "  92  2.5396425e-01 2.88e-04 2.62e+04  -1.0 4.32e+00    -  3.09e-01 5.45e-02h  1\n",
      "  93  2.5396576e-01 2.87e-04 6.20e+04  -1.0 7.13e+00    -  1.50e-02 1.00e-03h  1\n",
      "  94  2.5392611e-01 2.87e-04 1.47e+05  -1.0 1.25e+02    -  1.61e-03 1.83e-03f  2\n",
      "  95  2.5392610e-01 2.87e-04 2.59e+05  -1.0 4.15e+00   4.8 5.21e-03 1.50e-05h  1\n",
      "  96  2.5392643e-01 2.87e-04 6.55e+07  -1.0 9.70e+00   4.3 2.48e-02 9.09e-05h  1\n",
      "  97  2.5394342e-01 2.86e-04 5.58e+07  -1.0 1.51e+01    -  1.38e-01 3.41e-03f  2\n",
      "  98  2.5390698e-01 2.83e-04 5.62e+07  -1.0 8.41e+01    -  3.20e-02 9.72e-03h  1\n",
      "  99  2.5396667e-01 2.63e-04 5.82e+07  -1.0 1.34e+01    -  2.05e-02 7.04e-02f  2\n",
      "iter    objective    inf_pr   inf_du lg(mu)  ||d||  lg(rg) alpha_du alpha_pr  ls\n",
      " 100  2.5397353e-01 2.59e-04 5.62e+07  -1.0 4.06e+00   3.8 8.22e-03 1.53e-02f  2\n",
      " 101  2.5429906e-01 1.76e-04 9.72e+07  -1.0 4.03e+00   3.3 2.24e-01 3.54e-01h  1\n",
      " 102  2.5433125e-01 1.68e-04 3.42e+08  -1.0 3.29e+00   2.9 1.00e+00 4.69e-02h  1\n",
      " 103  2.5434831e-01 1.64e-04 7.46e+08  -1.0 7.45e+00    -  9.41e-02 2.29e-02f  3\n",
      " 104  2.5435675e-01 1.60e-04 2.26e+09  -1.0 3.17e+00   2.4 8.01e-02 2.07e-02f  2\n",
      " 105  2.5439608e-01 1.51e-04 3.57e+10  -1.0 3.14e+00   1.9 1.00e+00 5.70e-02h  1\n",
      " 106  2.5453907e-01 1.11e-04 2.49e+10  -1.0 4.72e+00    -  3.29e-01 2.85e-01h  1\n",
      " 107  2.5458574e-01 9.92e-05 2.55e+10  -1.0 2.60e+00    -  1.96e-02 1.10e-01f  4\n",
      " 108  2.5460205e-01 9.60e-05 2.09e+10  -1.0 2.45e+00    -  1.36e-01 3.27e-02h  1\n",
      " 109  2.5460964e-01 9.41e-05 1.83e+10  -1.0 2.41e+00   1.4 1.08e-01 1.93e-02h  1\n",
      "iter    objective    inf_pr   inf_du lg(mu)  ||d||  lg(rg) alpha_du alpha_pr  ls\n",
      " 110  2.5461828e-01 9.24e-05 1.84e+10  -1.0 2.38e+00    -  2.92e-02 1.84e-02f  2\n",
      " 111  2.5461985e-01 9.21e-05 8.18e+09  -1.0 2.36e+00   1.9 8.29e-01 3.94e-03h  1\n",
      " 112  2.5464450e-01 8.64e-05 5.84e+09  -1.0 2.35e+00    -  4.25e-01 6.20e-02f  2\n",
      " 113  2.5465325e-01 8.44e-05 2.02e+09  -1.0 2.28e+00    -  2.82e-01 2.30e-02f  3\n",
      " 114  2.5466570e-01 8.16e-05 3.24e+09  -1.0 6.20e+00    -  5.61e-04 3.38e-02f  2\n",
      " 115  2.5467594e-01 7.95e-05 1.36e+11  -1.0 2.21e+00   1.4 3.59e-01 2.61e-02h  1\n",
      " 116  2.5468310e-01 7.78e-05 2.70e+11  -1.0 3.32e+00   1.8 5.08e-02 2.11e-02h  1\n",
      " 117  2.5472186e-01 6.99e-05 1.10e+12  -1.0 2.16e+00    -  1.00e+00 1.04e-01f  2\n",
      " 118  2.5472751e-01 6.88e-05 2.43e+12  -1.0 2.04e+00    -  9.18e-02 1.69e-02h  1\n",
      " 119  2.5473110e-01 6.81e-05 2.30e+14  -1.0 2.02e+00    -  1.00e+00 9.54e-03h  1\n",
      "iter    objective    inf_pr   inf_du lg(mu)  ||d||  lg(rg) alpha_du alpha_pr  ls\n",
      " 120  2.5474727e-01 6.48e-05 2.11e+14  -1.0 2.01e+00    -  1.21e-01 4.86e-02h  1\n",
      " 121  2.5475814e-01 6.28e-05 2.04e+14  -1.0 1.96e+00    -  1.92e-02 3.19e-02f  3\n",
      " 122  2.5475999e-01 6.25e-05 4.74e+16  -1.0 1.93e+00    -  1.00e+00 4.57e-03h  1\n",
      " 123  2.5490130e-01 3.74e-05 4.10e+16  -1.0 1.93e+00    -  1.09e-01 4.39e-01h  1\n",
      " 124  2.5490244e-01 3.72e-05 1.67e+16  -1.0 1.58e+00    -  5.69e-01 4.44e-03h  1\n",
      " 125  2.5490245e-01 3.72e-05 1.64e+15  -1.0 1.57e+00    -  8.99e-01 4.44e-05h  1\n",
      " 126  2.5490245e-01 3.72e-05 1.14e+15  -1.0 1.48e+00    -  9.36e-08 3.49e-07f  2\n",
      "In iteration 126, 1 Slack too small, adjusting variable bound\n",
      " 127  2.5490248e-01 3.72e-05 4.06e+14  -1.0 1.48e+00    -  1.40e-07 1.19e-04f  1\n",
      " 128  2.5497948e-01 2.65e-05 3.31e+14  -1.0 1.48e+00    -  1.17e-04 3.01e-01f  2\n",
      " 129  2.5499785e-01 2.36e-05 2.94e+14  -1.0 1.25e+00    -  8.06e-03 1.12e-01f  4\n",
      "iter    objective    inf_pr   inf_du lg(mu)  ||d||  lg(rg) alpha_du alpha_pr  ls\n",
      " 130  2.5501246e-01 2.20e-05 2.74e+14  -1.0 1.17e+00    -  3.65e-01 6.89e-02h  1\n",
      " 131  2.5520839e-01 3.33e-06 1.28e+14  -1.0 1.13e+00    -  9.39e-01 9.56e-01h  1\n",
      " 132  2.5521636e-01 3.04e-06 1.17e+14  -1.0 5.27e-01    -  3.95e-01 8.86e-02f  3\n",
      " 133  2.5523252e-01 2.48e-06 9.57e+13  -1.0 4.99e-01    -  6.71e-03 1.83e-01f  2\n",
      " 134  2.5524715e-01 1.98e-06 7.62e+13  -1.0 4.44e-01    -  7.26e-05 2.05e-01f  2\n",
      " 135  2.5524716e-01 1.98e-06 7.62e+13  -1.0 3.87e-01  15.7 2.49e-06 2.52e-05f  2\n",
      " 136  2.5524717e-01 1.98e-06 7.62e+13  -1.0 3.87e-01  15.2 2.29e-05 2.12e-05h  1\n",
      " 137r 2.5524717e-01 1.98e-06 1.00e+03  -1.0 0.00e+00  15.6 0.00e+00 1.18e-07R  2\n",
      " 138r 2.5478538e-01 3.66e-05 5.71e+02  -1.0 1.34e-02    -  6.34e-01 1.00e+00f  1\n",
      " 139r 2.5349188e-01 6.51e-05 5.66e+02  -1.0 3.51e-02    -  4.05e-01 1.00e+00f  1\n",
      "iter    objective    inf_pr   inf_du lg(mu)  ||d||  lg(rg) alpha_du alpha_pr  ls\n",
      " 140r 2.5136717e-01 3.87e-05 2.14e+02  -1.0 5.20e-02   0.0 6.47e-01 1.00e+00f  1\n",
      " 141r 2.4549997e-01 1.29e-04 1.02e+02  -1.0 7.74e-02   0.4 6.48e-01 1.00e+00f  1\n",
      " 142r 2.3785148e-01 3.70e-03 3.66e+02  -1.0 2.05e-01   0.9 3.20e-01 5.94e-01f  1\n",
      " 143r 2.3467721e-01 1.75e-03 1.41e+02  -1.0 2.60e-02   3.1 5.69e-01 5.92e-01f  1\n",
      " 144r 2.2732999e-01 5.23e-04 4.97e+02  -1.0 1.47e-02   2.6 5.35e-01 1.00e+00f  1\n",
      " 145r 2.1785169e-01 8.73e-04 7.64e+01  -1.0 3.80e-02   2.1 9.05e-01 1.00e+00f  1\n",
      " 146r 2.1507295e-01 4.27e-04 7.23e+01  -1.0 1.05e-02   2.6 1.00e+00 1.00e+00f  1\n",
      " 147r 2.0757542e-01 3.36e-04 1.71e+01  -1.0 1.78e-02   2.1 1.00e+00 1.00e+00f  1\n",
      " 148r 2.0544628e-01 3.32e-04 1.96e+00  -1.0 6.13e-03   2.5 1.00e+00 1.00e+00f  1\n",
      " 149r 2.1197566e-01 2.61e-04 3.21e+00  -1.7 1.23e-02   2.0 1.00e+00 9.99e-01f  1\n",
      "iter    objective    inf_pr   inf_du lg(mu)  ||d||  lg(rg) alpha_du alpha_pr  ls\n",
      " 150r 2.2308015e-01 1.53e-04 1.23e+01  -1.7 1.19e-02   1.6 1.00e+00 9.81e-01f  1\n",
      " 151r 2.2871488e-01 1.05e-04 5.97e+00  -1.7 1.55e-02   1.1 1.00e+00 1.00e+00f  1\n",
      " 152r 2.2916842e-01 1.03e-04 1.88e+00  -1.7 2.77e-02   0.6 1.00e+00 1.00e+00h  1\n",
      " 153r 2.2926025e-01 1.04e-04 2.28e+00  -1.7 1.47e-01   0.1 1.00e+00 1.00e+00f  1\n",
      " 154r 2.2922981e-01 1.06e-04 4.53e+02  -1.7 1.58e-01   0.5 1.00e+00 3.25e-01f  2\n",
      " 155r 2.2962408e-01 1.05e-04 4.03e+01  -1.7 4.63e-02    -  1.00e+00 1.00e+00f  1\n",
      " 156r 2.2987553e-01 1.06e-04 3.81e+00  -1.7 7.73e-02    -  1.00e+00 1.00e+00f  1\n",
      " 157r 2.3044544e-01 1.05e-04 4.89e-01  -1.7 9.67e-02    -  1.00e+00 1.00e+00h  1\n",
      " 158r 2.3842426e-01 1.72e-04 1.02e+02  -2.5 8.99e-02    -  1.00e+00 6.68e-01f  1\n",
      " 159r 2.4142401e-01 1.19e-04 2.02e+02  -2.5 6.67e-02   1.0 5.28e-01 4.09e-01f  1\n",
      "iter    objective    inf_pr   inf_du lg(mu)  ||d||  lg(rg) alpha_du alpha_pr  ls\n",
      " 160r 2.4310699e-01 2.64e-05 5.15e+01  -2.5 4.23e-03   2.3 8.29e-01 8.11e-01f  1\n",
      " 161r 2.4384483e-01 2.21e-05 2.29e+00  -2.5 1.18e-03   2.7 1.00e+00 1.00e+00f  1\n",
      " 162r 2.4408629e-01 2.18e-05 6.63e-01  -2.5 4.66e-04   3.2 1.00e+00 1.00e+00f  1\n",
      " 163r 2.4466580e-01 2.06e-05 1.74e+00  -2.5 3.73e-03   2.7 1.00e+00 1.00e+00f  1\n",
      " 164r 2.4485434e-01 2.01e-05 1.80e+00  -2.5 1.47e-03   3.1 1.00e+00 1.00e+00f  1\n",
      " 165r 2.4528450e-01 1.84e-05 1.56e+00  -2.5 1.33e-03   2.6 1.00e+00 1.00e+00f  1\n",
      " 166r 2.4542054e-01 1.78e-05 4.53e-01  -2.5 4.27e-04   3.0 1.00e+00 1.00e+00f  1\n",
      " 167r 2.4570474e-01 1.67e-05 4.64e-01  -2.5 1.27e-03   2.6 1.00e+00 1.00e+00f  1\n",
      " 168r 2.4604705e-01 1.58e-05 5.03e+00  -2.5 4.40e-03   2.1 1.00e+00 1.00e+00F  1\n",
      " 169r 2.4617587e-01 1.55e-05 1.92e-01  -2.5 3.93e-04   2.5 1.00e+00 1.00e+00f  1\n",
      "iter    objective    inf_pr   inf_du lg(mu)  ||d||  lg(rg) alpha_du alpha_pr  ls\n",
      " 170r 2.4639089e-01 1.51e-05 1.06e-01  -2.5 9.15e-04   2.0 1.00e+00 1.00e+00f  1\n",
      " 171r 2.4894718e-01 8.65e-06 6.85e+01  -3.8 3.49e-03   1.6 1.00e+00 8.21e-01f  1\n",
      " 172r 2.4963549e-01 8.08e-06 3.33e+02  -3.8 1.72e-03   2.0 8.47e-01 5.67e-01f  1\n",
      " 173r 2.4989663e-01 7.83e-06 4.18e+02  -3.8 2.48e-03   2.4 7.42e-01 5.44e-01f  1\n",
      " 174r 2.5008790e-01 7.63e-06 2.65e+02  -3.8 1.22e-03   2.8 1.00e+00 7.45e-01f  1\n",
      " 175r 2.5017407e-01 7.49e-06 3.21e-01  -3.8 1.68e-04   3.3 1.00e+00 1.00e+00f  1\n",
      " 176r 2.5037181e-01 6.88e-06 6.23e-01  -3.8 4.49e-04   2.8 1.00e+00 1.00e+00f  1\n",
      " 177r 2.5069601e-01 6.53e-06 4.53e-01  -3.8 6.94e-04   2.3 1.00e+00 1.00e+00f  1\n",
      " 178r 2.5078864e-01 6.55e-06 1.31e-01  -3.8 2.36e-04   2.7 1.00e+00 1.00e+00h  1\n",
      " 179r 2.5097565e-01 6.51e-06 1.35e-01  -3.8 7.32e-04   2.3 1.00e+00 1.00e+00f  1\n",
      "iter    objective    inf_pr   inf_du lg(mu)  ||d||  lg(rg) alpha_du alpha_pr  ls\n",
      " 180r 2.5103773e-01 6.49e-06 1.35e-01  -3.8 2.76e-04   2.7 1.00e+00 1.00e+00h  1\n",
      " 181r 2.5118653e-01 6.40e-06 1.31e-01  -3.8 8.02e-04   2.2 1.00e+00 1.00e+00f  1\n",
      " 182r 2.5123819e-01 6.36e-06 1.37e-01  -3.8 3.12e-04   2.6 1.00e+00 1.00e+00h  1\n",
      " 183r 2.5137410e-01 6.25e-06 3.83e-01  -3.8 1.78e-03   2.2 1.00e+00 1.00e+00f  1\n",
      " 184r 2.5142412e-01 6.22e-06 3.01e-01  -3.8 7.75e-04   2.6 1.00e+00 1.00e+00f  1\n",
      " 185r 2.5149638e-01 6.19e-06 1.24e+02  -3.8 3.46e-03   2.1 1.00e+00 5.02e-01f  1\n",
      " 186r 2.5157090e-01 2.70e-06 9.27e+02  -3.8 6.57e-01    -  5.83e-01 9.74e-02f  1\n",
      " 187r 2.5189200e-01 2.06e-06 6.60e+02  -3.8 1.57e-01    -  1.00e+00 2.63e-01f  1\n",
      " 188r 2.5261170e-01 1.78e-06 9.70e+01  -3.8 8.34e-02    -  1.00e+00 8.64e-01f  1\n",
      " 189  2.5261181e-01 1.78e-06 1.12e+04  -1.0 2.83e+00    -  9.41e-01 2.10e-04f  7\n",
      "iter    objective    inf_pr   inf_du lg(mu)  ||d||  lg(rg) alpha_du alpha_pr  ls\n",
      " 190  2.5277413e-01 1.93e-05 1.06e+04  -1.0 8.39e+00    -  3.13e-01 9.71e-02f  4\n",
      " 191  2.5280832e-01 1.91e-05 1.36e+04  -1.0 3.13e+00    -  4.05e-01 2.66e-02h  6\n",
      " 192  2.5282887e-01 1.92e-05 1.48e+04  -1.0 5.42e+00    -  3.74e-01 1.10e-02h  7\n",
      " 193  2.5284950e-01 1.92e-05 1.82e+04  -1.0 4.83e+00    -  3.32e-01 1.13e-02h  7\n",
      " 194  2.5286007e-01 1.91e-05 2.19e+04  -1.0 5.24e+00    -  3.93e-01 5.20e-03h  8\n",
      " 195  2.5287071e-01 1.91e-05 2.59e+04  -1.0 4.93e+00    -  3.54e-01 5.30e-03h  8\n",
      " 196  2.5289098e-01 1.91e-05 3.03e+04  -1.0 4.48e+00    -  4.67e-01 1.05e-02h  7\n",
      " 197  2.5291126e-01 1.91e-05 3.56e+04  -1.0 4.07e+00    -  4.37e-01 1.07e-02h  7\n",
      " 198  2.5294770e-01 1.92e-05 4.21e+04  -1.0 3.08e+00    -  6.45e-01 2.23e-02h  6\n",
      " 199  2.5409878e-01 4.48e-04 1.09e+04  -1.0 2.67e+00    -  6.53e-01 7.17e-01w  1\n",
      "iter    objective    inf_pr   inf_du lg(mu)  ||d||  lg(rg) alpha_du alpha_pr  ls\n",
      " 200  2.5390249e-01 2.09e-04 1.38e+04  -2.5 1.32e+00    -  8.81e-01 5.81e-01h  1\n",
      " 201  2.5388573e-01 1.89e-04 2.10e+04  -2.5 9.71e-01    -  1.00e+00 9.71e-02f  4\n",
      " 202  2.5378167e-01 5.75e-05 6.64e+03  -2.5 9.17e-01    -  1.00e+00 7.04e-01h  1\n",
      " 203  2.5373867e-01 4.38e-05 4.62e+05  -2.5 3.82e+00    -  1.64e-02 9.60e-02f  2\n",
      " 204  2.5373077e-01 4.17e-05 4.48e+05  -2.5 5.75e+00    -  4.94e-02 3.08e-02h  1\n",
      " 205  2.5373108e-01 4.16e-05 2.58e+12  -2.5 5.90e-02  15.1 2.19e-05 2.61e-03f  2\n",
      " 206  2.5373141e-01 4.15e-05 4.50e+12  -3.8 5.88e-02  14.7 3.85e-03 2.63e-03h  1\n",
      " 207r 2.5373141e-01 4.15e-05 1.00e+03  -3.8 0.00e+00  14.2 0.00e+00 1.98e-07R  2\n",
      " 208r 2.5341483e-01 3.99e-05 9.94e+02  -3.8 6.34e+00    -  7.71e-03 5.76e-03f  1\n",
      " 209r 2.5341209e-01 3.76e-05 9.66e+02  -3.8 6.05e-04   4.0 1.43e-01 2.37e-02f  1\n",
      "iter    objective    inf_pr   inf_du lg(mu)  ||d||  lg(rg) alpha_du alpha_pr  ls\n",
      " 210r 2.5340907e-01 2.91e-05 8.44e+02  -3.8 3.98e-04   3.5 1.82e-01 1.26e-01f  1\n",
      " 211  2.5340659e-01 2.90e-05 3.40e+02  -3.8 3.50e+00    -  6.52e-01 3.10e-03f  2\n",
      " 212  2.5353669e-01 1.02e-05 2.33e+02  -3.8 3.98e-01    -  1.00e+00 6.50e-01h  1\n",
      " 213  2.5358172e-01 6.54e-06 2.74e+02  -3.8 7.88e-01    -  4.12e-01 2.99e-01f  2\n",
      " 214  2.5360838e-01 5.32e-06 1.46e+03  -3.8 2.37e+00    -  1.00e+00 1.76e-01h  1\n",
      " 215  2.5362756e-01 3.75e-06 1.00e+03  -3.8 2.49e+00    -  6.75e-01 1.81e-01f  2\n",
      " 216  2.5367939e-01 2.23e-06 1.77e+03  -3.8 1.06e+00    -  1.00e+00 4.55e-01h  1\n",
      " 217  2.5370204e-01 1.69e-06 4.69e+03  -3.8 2.39e+00    -  1.00e+00 2.54e-01f  2\n",
      " 218  2.5375504e-01 7.35e-07 4.37e+03  -3.8 1.92e+00    -  1.00e+00 6.66e-01h  1\n",
      " 219  2.5377946e-01 4.07e-07 4.86e+03  -3.8 9.45e-02    -  1.00e+00 4.96e-01f  2\n",
      "iter    objective    inf_pr   inf_du lg(mu)  ||d||  lg(rg) alpha_du alpha_pr  ls\n",
      " 220  2.5381452e-01 7.19e-08 1.40e+02  -3.8 1.28e+00    -  1.00e+00 1.00e+00h  1\n",
      " 221  2.5382540e-01 5.77e-09 1.22e+13  -3.8 3.05e-01    -  1.00e+00 1.00e+00h  1\n",
      " 222  2.5382586e-01 4.15e-09 9.29e+12  -3.8 2.98e-02    -  1.00e+00 2.81e-01h  1\n",
      " 223  2.5382596e-01 3.95e-09 8.87e+12  -3.8 7.39e-01    -  1.02e-01 4.74e-02f  2\n",
      " 224  2.5382614e-01 3.26e-09 7.61e+12  -3.8 1.50e-01    -  1.00e+00 1.77e-01h  1\n",
      " 225  2.5382613e-01 2.99e-09 7.07e+12  -3.8 2.66e-01    -  1.25e-01 8.30e-02f  2\n",
      " 226  2.5382600e-01 2.67e-09 6.46e+12  -3.8 2.53e-01    -  2.39e-01 1.06e-01f  2\n",
      " 227  2.5382608e-01 2.53e-09 6.16e+12  -3.8 5.19e-01    -  2.32e-01 5.07e-02f  4\n",
      " 228  2.5382607e-01 2.43e-09 5.93e+12  -3.8 2.04e-01    -  2.40e-01 3.98e-02h  4\n",
      " 229  2.5382621e-01 2.15e-09 5.43e+12  -3.8 2.99e-01    -  8.58e-01 1.14e-01f  3\n",
      "iter    objective    inf_pr   inf_du lg(mu)  ||d||  lg(rg) alpha_du alpha_pr  ls\n",
      " 230  2.5382660e-01 1.91e-10 1.60e+13  -3.8 1.51e-02    -  4.97e-01 1.00e+00h  1\n",
      " 231  2.5382673e-01 1.75e-10 3.22e+03  -3.8 2.03e-02    -  1.00e+00 1.00e+00H  1\n",
      " 232  2.5382673e-01 8.60e-13 2.40e+02  -8.6 1.99e-03    -  9.94e-01 1.00e+00h  1\n",
      " 233  2.5382662e-01 7.61e-10 2.18e+01  -8.6 2.29e-02    -  7.90e-01 1.00e+00h  1\n",
      " 234  2.5382639e-01 1.28e-08 1.39e+00  -8.6 1.70e-01    -  9.29e-01 1.00e+00h  1\n"
     ]
    },
    {
     "name": "stdout",
     "output_type": "stream",
     "text": [
      " 235  2.5382639e-01 5.12e-13 7.70e+06  -8.6 1.51e-07  13.7 5.71e-01 1.00e+00h  1\n",
      " 236  2.5382639e-01 5.23e-13 3.77e+06  -8.6 8.26e-09  13.2 1.00e+00 5.00e-01h  2\n",
      " 237  2.5382639e-01 5.12e-13 2.83e+06  -8.6 4.18e-09  12.7 1.00e+00 2.50e-01h  3\n",
      " 238  2.5382639e-01 5.23e-13 1.41e+06  -8.6 3.14e-09  12.3 1.00e+00 5.00e-01h  2\n",
      " 239  2.5382639e-01 5.23e-13 1.41e+06  -8.6 1.58e-09  11.8 1.00e+00 3.91e-03h  9\n",
      "iter    objective    inf_pr   inf_du lg(mu)  ||d||  lg(rg) alpha_du alpha_pr  ls\n",
      " 240  2.5382639e-01 5.23e-13 1.41e+06  -8.6 1.57e-09  11.3 1.00e+00 3.05e-05h 16\n",
      " 241  2.5382639e-01 6.27e-13 2.10e+04  -8.6 1.57e-09  10.8 1.00e+00 1.00e+00s 22\n",
      " 242  2.5382639e-01 7.56e-13 1.78e-01  -8.6 4.73e-12  10.4 1.00e+00 1.00e+00s 22\n",
      "\n",
      "Number of Iterations....: 242\n",
      "\n",
      "                                   (scaled)                 (unscaled)\n",
      "Objective...............:   2.5382639297869775e-01    2.5382639297869775e-01\n",
      "Dual infeasibility......:   1.7791945870689152e-01    1.7791945870689152e-01\n",
      "Constraint violation....:   7.5640882446492697e-13    7.5640882446492697e-13\n",
      "Complementarity.........:   2.5059035596800622e-09    2.5059035596800622e-09\n",
      "Overall NLP error.......:   2.5059035596800622e-09    1.7791945870689152e-01\n",
      "\n",
      "\n",
      "Number of objective function evaluations             = 493\n",
      "Number of objective gradient evaluations             = 191\n",
      "Number of equality constraint evaluations            = 493\n",
      "Number of inequality constraint evaluations          = 0\n",
      "Number of equality constraint Jacobian evaluations   = 252\n",
      "Number of inequality constraint Jacobian evaluations = 0\n",
      "Number of Lagrangian Hessian evaluations             = 242\n",
      "Total CPU secs in IPOPT (w/o function evaluations)   =      1.016\n",
      "Total CPU secs in NLP function evaluations           =      0.088\n",
      "\n",
      "EXIT: Optimal Solution Found.\n"
     ]
    },
    {
     "data": {
      "text/plain": [
       "\n",
       "RESULTS\n",
       "Z:\n",
       "                     eps2\n",
       "0.000000   -6.801880e-68\n",
       "2.005973    7.583558e-04\n",
       "8.344027    7.373795e-04\n",
       "12.937500   1.481402e-02\n",
       "14.943473   2.824728e-02\n",
       "...                  ...\n",
       "878.319184  2.243792e+00\n",
       "884.000000  2.243805e+00\n",
       "886.480816  2.243853e+00\n",
       "894.319184  2.243684e+00\n",
       "900.000000  2.243584e+00\n",
       "\n",
       "[181 rows x 1 columns]\n",
       "\n",
       "X:\n",
       "                       V\n",
       "0.000000    2370.000000\n",
       "2.005973    2370.210362\n",
       "8.344027    2370.204530\n",
       "12.937500   2372.092317\n",
       "14.943473   2373.955460\n",
       "...                 ...\n",
       "878.319184  2992.371522\n",
       "884.000000  2992.374976\n",
       "886.480816  2992.376485\n",
       "894.319184  2992.381251\n",
       "900.000000  2992.384705\n",
       "\n",
       "[181 rows x 1 columns]\n",
       "\n",
       "dZdt:\n",
       "                 eps2\n",
       "0.000000    0.000000\n",
       "2.005973   -0.000034\n",
       "8.344027    0.001041\n",
       "12.937500   0.005620\n",
       "14.943473   0.007990\n",
       "...              ...\n",
       "878.319184  0.000004\n",
       "884.000000  0.000004\n",
       "886.480816  0.000004\n",
       "894.319184 -0.000031\n",
       "900.000000  0.000004\n",
       "\n",
       "[181 rows x 1 columns]\n",
       "\n",
       "dXdt:\n",
       "                    V\n",
       "0.000000    0.000000\n",
       "2.005973    0.029948\n",
       "8.344027    0.124572\n",
       "12.937500   0.779500\n",
       "14.943473   1.108167\n",
       "...              ...\n",
       "878.319184  0.000608\n",
       "884.000000  0.000608\n",
       "886.480816  0.000608\n",
       "894.319184  0.000608\n",
       "900.000000  0.000608\n",
       "\n",
       "[181 rows x 1 columns]\n",
       "\n",
       "P:\n",
       " {'k': 5.438733212615566e-09, 'na0': 2.385091851359696}\n",
       "\n",
       "Y:\n",
       "                  nBadded     qin_B             y            y1\n",
       "0.000000   -2.320973e-17  0.000000  1.000000e+00  2.082516e-25\n",
       "2.005973    1.516710e-03  0.029948 -1.173055e-06 -3.433610e-05\n",
       "8.344027    1.474664e-03  0.124572 -6.408599e-05  1.041008e-03\n",
       "12.937500   1.508561e-02  0.779500 -9.639934e-01  5.620202e-03\n",
       "14.943473   2.851887e-02  1.108167 -9.809542e-01  7.989885e-03\n",
       "...                  ...       ...           ...           ...\n",
       "878.319184  4.487299e+00  0.000608 -6.344650e-05  4.384165e-06\n",
       "884.000000  4.487324e+00  0.000608 -6.390873e-05  4.384165e-06\n",
       "886.480816  4.487334e+00  0.000608 -8.293431e-05  4.384162e-06\n",
       "894.319184  4.487369e+00  0.000608 -1.502355e-10 -3.113982e-05\n",
       "900.000000  4.487394e+00  0.000608  5.028564e-05  4.384138e-06\n",
       "\n",
       "[181 rows x 4 columns]\n",
       "\n",
       "UD:\n",
       "           y\n",
       "414  0.1705\n",
       "424  0.1604\n",
       "434  0.1325\n",
       "444  0.1084\n",
       "493  0.1014\n",
       "503  0.1042\n",
       "513  0.1045\n",
       "523  0.0970\n",
       "533  0.0824\n",
       "582  0.0678\n",
       "592  0.0697\n",
       "602  0.0702\n",
       "612  0.0692\n",
       "621  0.0684\n",
       "631  0.0675\n",
       "641  0.0673\n",
       "651  0.0673\n",
       "661  0.0654\n",
       "671  0.0577\n",
       "681  0.0571\n",
       "690  0.0563\n",
       "700  0.0466\n",
       "710  0.0455\n",
       "720  0.0449\n",
       "730  0.0456\n",
       "740  0.0450\n",
       "750  0.0434\n",
       "759  0.0428\n",
       "769  0.0426\n",
       "779  0.0409\n",
       "789  0.0399\n",
       "799  0.0397\n",
       "848  0.0394\n",
       "858  0.0374\n",
       "868  0.0371\n"
      ]
     },
     "execution_count": 150,
     "metadata": {},
     "output_type": "execute_result"
    }
   ],
   "source": [
    "r1.run_opt()"
   ]
  },
  {
   "cell_type": "code",
   "execution_count": 151,
   "metadata": {},
   "outputs": [
    {
     "name": "stdout",
     "output_type": "stream",
     "text": [
      "\n",
      "The estimated parameters are:\n",
      "k 5.438733212615566e-09\n",
      "na0 2.385091851359696\n"
     ]
    }
   ],
   "source": [
    "r1.results.show_parameters"
   ]
  },
  {
   "cell_type": "markdown",
   "metadata": {},
   "source": [
    "Parameter estimator is not able to find the parameter estimate of $k$ which is closer to 2"
   ]
  },
  {
   "cell_type": "code",
   "execution_count": 152,
   "metadata": {},
   "outputs": [
    {
     "data": {
      "text/plain": [
       "[<matplotlib.lines.Line2D at 0x7f24b87becc0>]"
      ]
     },
     "execution_count": 152,
     "metadata": {},
     "output_type": "execute_result"
    },
    {
     "data": {
      "image/png": "[encoded data removed]",
      "text/plain": [
       "<Figure size 432x288 with 1 Axes>"
      ]
     },
     "metadata": {
      "needs_background": "light"
     },
     "output_type": "display_data"
    }
   ],
   "source": [
    "fig, ax = plt.subplots()\n",
    "ax.scatter(lc_data.index, lc_data['y'])\n",
    "ax.plot(r1.results.Y.index, r1.results.Y['y'])"
   ]
  },
  {
   "cell_type": "markdown",
   "metadata": {},
   "source": [
    "The value of $y$ is going below zero even though the bounds are [0, 1]"
   ]
  },
  {
   "cell_type": "code",
   "execution_count": 153,
   "metadata": {},
   "outputs": [
    {
     "data": {
      "text/plain": [
       "[<matplotlib.lines.Line2D at 0x7f24a63625c0>]"
      ]
     },
     "execution_count": 153,
     "metadata": {},
     "output_type": "execute_result"
    },
    {
     "data": {
      "image/png": "[encoded data removed]",
      "text/plain": [
       "<Figure size 432x288 with 1 Axes>"
      ]
     },
     "metadata": {
      "needs_background": "light"
     },
     "output_type": "display_data"
    }
   ],
   "source": [
    "fig, ax = plt.subplots()\n",
    "ax.scatter(lc_data.index, lc_data['y'])\n",
    "ax.plot(r1.results.Y.index[r1.results.Y.index >= 380], r1.results.Y['y'][r1.results.Y.index >= 380])"
   ]
  },
  {
   "cell_type": "code",
   "execution_count": 154,
   "metadata": {},
   "outputs": [
    {
     "data": {
      "text/plain": [
       "[<matplotlib.lines.Line2D at 0x7f24a6377400>]"
      ]
     },
     "execution_count": 154,
     "metadata": {},
     "output_type": "execute_result"
    },
    {
     "data": {
      "image/png": "[encoded data removed]",
      "text/plain": [
       "<Figure size 432x288 with 1 Axes>"
      ]
     },
     "metadata": {
      "needs_background": "light"
     },
     "output_type": "display_data"
    }
   ],
   "source": [
    "fig, ax = plt.subplots()\n",
    "ax.plot(r1.results.Z.index, r1.results.Z['eps2'])"
   ]
  },
  {
   "cell_type": "code",
   "execution_count": 155,
   "metadata": {},
   "outputs": [
    {
     "data": {
      "text/plain": [
       "[<matplotlib.lines.Line2D at 0x7f24a637ef98>]"
      ]
     },
     "execution_count": 155,
     "metadata": {},
     "output_type": "execute_result"
    },
    {
     "data": {
      "image/png": "[encoded data removed]",
      "text/plain": [
       "<Figure size 432x288 with 1 Axes>"
      ]
     },
     "metadata": {
      "needs_background": "light"
     },
     "output_type": "display_data"
    }
   ],
   "source": [
    "fig, ax = plt.subplots()\n",
    "ax.plot(r1.results.Y.index, r1.results.Y['nBadded'])"
   ]
  },
  {
   "cell_type": "code",
   "execution_count": 156,
   "metadata": {},
   "outputs": [
    {
     "data": {
      "text/plain": [
       "[<matplotlib.lines.Line2D at 0x7f24b831d9e8>]"
      ]
     },
     "execution_count": 156,
     "metadata": {},
     "output_type": "execute_result"
    },
    {
     "data": {
      "image/png": "[encoded data removed]",
      "text/plain": [
       "<Figure size 432x288 with 1 Axes>"
      ]
     },
     "metadata": {
      "needs_background": "light"
     },
     "output_type": "display_data"
    }
   ],
   "source": [
    "fig, ax = plt.subplots()\n",
    "ax.plot(r1.results.X.index, r1.results.X['V'])"
   ]
  },
  {
   "cell_type": "code",
   "execution_count": 157,
   "metadata": {},
   "outputs": [
    {
     "data": {
      "text/plain": [
       "[<matplotlib.lines.Line2D at 0x7f24a62c5160>]"
      ]
     },
     "execution_count": 157,
     "metadata": {},
     "output_type": "execute_result"
    },
    {
     "data": {
      "image/png": "[encoded data removed]",
      "text/plain": [
       "<Figure size 432x288 with 1 Axes>"
      ]
     },
     "metadata": {
      "needs_background": "light"
     },
     "output_type": "display_data"
    }
   ],
   "source": [
    "fig, ax = plt.subplots()\n",
    "ax.step(r1.results.Y.index, r1.results.Y['qin_B'])\n",
    "ax.step(qinB_traj.index, qinB_traj['qin_B'])"
   ]
  },
  {
   "cell_type": "code",
   "execution_count": null,
   "metadata": {},
   "outputs": [],
   "source": []
  }
 ],
 "metadata": {
  "kernelspec": {
   "display_name": "Python 3",
   "language": "python",
   "name": "python3"
  },
  "language_info": {
   "codemirror_mode": {
    "name": "ipython",
    "version": 3
   },
   "file_extension": ".py",
   "mimetype": "text/x-python",
   "name": "python",
   "nbconvert_exporter": "python",
   "pygments_lexer": "ipython3",
   "version": "3.7.3"
  }
 },
 "nbformat": 4,
 "nbformat_minor": 2
}
