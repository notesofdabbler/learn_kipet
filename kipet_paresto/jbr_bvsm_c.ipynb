{
 "cells": [
  {
   "cell_type": "code",
   "execution_count": null,
   "metadata": {},
   "outputs": [],
   "source": [
    "#\n",
    "# This is an example from jbr Reactor Design Book\n",
    "# https://github.com/rawlings-group/paresto/blob/master/examples/green_book/bvsm.m\n",
    "#"
   ]
  },
  {
   "cell_type": "code",
   "execution_count": 1,
   "metadata": {},
   "outputs": [
    {
     "name": "stdout",
     "output_type": "stream",
     "text": [
      "WARNING: DEPRECATED: The pyomo.core.base.sets module is deprecated.  Import\n",
      "    Set objects from pyomo.core.base.set or pyomo.core.  (deprecated in 5.7)\n",
      "    (called from <frozen importlib._bootstrap>:219)\n",
      "_SetProduct not found\n"
     ]
    }
   ],
   "source": [
    "from kipet import KipetModel\n",
    "import pyomo.environ as pyo\n",
    "import matplotlib.pyplot as plt\n",
    "import numpy as np\n",
    "import pandas as pd\n",
    "from scipy.stats import t"
   ]
  },
  {
   "cell_type": "code",
   "execution_count": 2,
   "metadata": {},
   "outputs": [],
   "source": [
    "filename = '/home/paperspace/learn_kipet/kipet_paresto/data_sets/flow.dat'\n",
    "flow_df = pd.read_csv(filename, delimiter=r\"\\s+\", header = None)\n",
    "flow_df.columns = ['time', 'Qf', 'x']\n",
    "flow_df['Qf'] = flow_df['Qf'] / 0.728\n",
    "flow_df = flow_df.set_index('time')"
   ]
  },
  {
   "cell_type": "code",
   "execution_count": 3,
   "metadata": {},
   "outputs": [
    {
     "data": {
      "text/html": [
       "<div>\n",
       "<style scoped>\n",
       "    .dataframe tbody tr th:only-of-type {\n",
       "        vertical-align: middle;\n",
       "    }\n",
       "\n",
       "    .dataframe tbody tr th {\n",
       "        vertical-align: top;\n",
       "    }\n",
       "\n",
       "    .dataframe thead th {\n",
       "        text-align: right;\n",
       "    }\n",
       "</style>\n",
       "<table border=\"1\" class=\"dataframe\">\n",
       "  <thead>\n",
       "    <tr style=\"text-align: right;\">\n",
       "      <th></th>\n",
       "      <th>Qf</th>\n",
       "      <th>x</th>\n",
       "    </tr>\n",
       "    <tr>\n",
       "      <th>time</th>\n",
       "      <th></th>\n",
       "      <th></th>\n",
       "    </tr>\n",
       "  </thead>\n",
       "  <tbody>\n",
       "    <tr>\n",
       "      <th>9.0</th>\n",
       "      <td>0.134365</td>\n",
       "      <td>4.7860</td>\n",
       "    </tr>\n",
       "    <tr>\n",
       "      <th>19.0</th>\n",
       "      <td>1.772804</td>\n",
       "      <td>14.2180</td>\n",
       "    </tr>\n",
       "    <tr>\n",
       "      <th>29.0</th>\n",
       "      <td>1.734587</td>\n",
       "      <td>13.9980</td>\n",
       "    </tr>\n",
       "    <tr>\n",
       "      <th>39.0</th>\n",
       "      <td>1.703319</td>\n",
       "      <td>13.8180</td>\n",
       "    </tr>\n",
       "    <tr>\n",
       "      <th>49.0</th>\n",
       "      <td>1.669967</td>\n",
       "      <td>13.6260</td>\n",
       "    </tr>\n",
       "    <tr>\n",
       "      <th>...</th>\n",
       "      <td>...</td>\n",
       "      <td>...</td>\n",
       "    </tr>\n",
       "    <tr>\n",
       "      <th>829.0</th>\n",
       "      <td>0.000990</td>\n",
       "      <td>4.0182</td>\n",
       "    </tr>\n",
       "    <tr>\n",
       "      <th>839.0</th>\n",
       "      <td>0.000782</td>\n",
       "      <td>4.0170</td>\n",
       "    </tr>\n",
       "    <tr>\n",
       "      <th>849.0</th>\n",
       "      <td>0.000643</td>\n",
       "      <td>4.0162</td>\n",
       "    </tr>\n",
       "    <tr>\n",
       "      <th>859.0</th>\n",
       "      <td>0.000712</td>\n",
       "      <td>4.0166</td>\n",
       "    </tr>\n",
       "    <tr>\n",
       "      <th>869.0</th>\n",
       "      <td>0.000608</td>\n",
       "      <td>4.0160</td>\n",
       "    </tr>\n",
       "  </tbody>\n",
       "</table>\n",
       "<p>87 rows × 2 columns</p>\n",
       "</div>"
      ],
      "text/plain": [
       "             Qf        x\n",
       "time                    \n",
       "9.0    0.134365   4.7860\n",
       "19.0   1.772804  14.2180\n",
       "29.0   1.734587  13.9980\n",
       "39.0   1.703319  13.8180\n",
       "49.0   1.669967  13.6260\n",
       "...         ...      ...\n",
       "829.0  0.000990   4.0182\n",
       "839.0  0.000782   4.0170\n",
       "849.0  0.000643   4.0162\n",
       "859.0  0.000712   4.0166\n",
       "869.0  0.000608   4.0160\n",
       "\n",
       "[87 rows x 2 columns]"
      ]
     },
     "execution_count": 3,
     "metadata": {},
     "output_type": "execute_result"
    }
   ],
   "source": [
    "flow_df"
   ]
  },
  {
   "cell_type": "code",
   "execution_count": 4,
   "metadata": {},
   "outputs": [],
   "source": [
    "filename = '/home/paperspace/learn_kipet/kipet_paresto/data_sets/lc.dat'\n",
    "lc_data = pd.read_csv(filename, delimiter=r\"\\s+\", header = None)\n",
    "lc_data.columns = ['time', 'y']\n",
    "lc_data = lc_data.set_index('time')"
   ]
  },
  {
   "cell_type": "code",
   "execution_count": 5,
   "metadata": {},
   "outputs": [
    {
     "data": {
      "text/html": [
       "<div>\n",
       "<style scoped>\n",
       "    .dataframe tbody tr th:only-of-type {\n",
       "        vertical-align: middle;\n",
       "    }\n",
       "\n",
       "    .dataframe tbody tr th {\n",
       "        vertical-align: top;\n",
       "    }\n",
       "\n",
       "    .dataframe thead th {\n",
       "        text-align: right;\n",
       "    }\n",
       "</style>\n",
       "<table border=\"1\" class=\"dataframe\">\n",
       "  <thead>\n",
       "    <tr style=\"text-align: right;\">\n",
       "      <th></th>\n",
       "      <th>y</th>\n",
       "    </tr>\n",
       "    <tr>\n",
       "      <th>time</th>\n",
       "      <th></th>\n",
       "    </tr>\n",
       "  </thead>\n",
       "  <tbody>\n",
       "    <tr>\n",
       "      <th>414</th>\n",
       "      <td>0.1705</td>\n",
       "    </tr>\n",
       "    <tr>\n",
       "      <th>424</th>\n",
       "      <td>0.1604</td>\n",
       "    </tr>\n",
       "    <tr>\n",
       "      <th>434</th>\n",
       "      <td>0.1325</td>\n",
       "    </tr>\n",
       "    <tr>\n",
       "      <th>444</th>\n",
       "      <td>0.1084</td>\n",
       "    </tr>\n",
       "    <tr>\n",
       "      <th>493</th>\n",
       "      <td>0.1014</td>\n",
       "    </tr>\n",
       "    <tr>\n",
       "      <th>503</th>\n",
       "      <td>0.1042</td>\n",
       "    </tr>\n",
       "    <tr>\n",
       "      <th>513</th>\n",
       "      <td>0.1045</td>\n",
       "    </tr>\n",
       "    <tr>\n",
       "      <th>523</th>\n",
       "      <td>0.0970</td>\n",
       "    </tr>\n",
       "    <tr>\n",
       "      <th>533</th>\n",
       "      <td>0.0824</td>\n",
       "    </tr>\n",
       "    <tr>\n",
       "      <th>582</th>\n",
       "      <td>0.0678</td>\n",
       "    </tr>\n",
       "    <tr>\n",
       "      <th>592</th>\n",
       "      <td>0.0697</td>\n",
       "    </tr>\n",
       "    <tr>\n",
       "      <th>602</th>\n",
       "      <td>0.0702</td>\n",
       "    </tr>\n",
       "    <tr>\n",
       "      <th>612</th>\n",
       "      <td>0.0692</td>\n",
       "    </tr>\n",
       "    <tr>\n",
       "      <th>621</th>\n",
       "      <td>0.0684</td>\n",
       "    </tr>\n",
       "    <tr>\n",
       "      <th>631</th>\n",
       "      <td>0.0675</td>\n",
       "    </tr>\n",
       "    <tr>\n",
       "      <th>641</th>\n",
       "      <td>0.0673</td>\n",
       "    </tr>\n",
       "    <tr>\n",
       "      <th>651</th>\n",
       "      <td>0.0673</td>\n",
       "    </tr>\n",
       "    <tr>\n",
       "      <th>661</th>\n",
       "      <td>0.0654</td>\n",
       "    </tr>\n",
       "    <tr>\n",
       "      <th>671</th>\n",
       "      <td>0.0577</td>\n",
       "    </tr>\n",
       "    <tr>\n",
       "      <th>681</th>\n",
       "      <td>0.0571</td>\n",
       "    </tr>\n",
       "    <tr>\n",
       "      <th>690</th>\n",
       "      <td>0.0563</td>\n",
       "    </tr>\n",
       "    <tr>\n",
       "      <th>700</th>\n",
       "      <td>0.0466</td>\n",
       "    </tr>\n",
       "    <tr>\n",
       "      <th>710</th>\n",
       "      <td>0.0455</td>\n",
       "    </tr>\n",
       "    <tr>\n",
       "      <th>720</th>\n",
       "      <td>0.0449</td>\n",
       "    </tr>\n",
       "    <tr>\n",
       "      <th>730</th>\n",
       "      <td>0.0456</td>\n",
       "    </tr>\n",
       "    <tr>\n",
       "      <th>740</th>\n",
       "      <td>0.0450</td>\n",
       "    </tr>\n",
       "    <tr>\n",
       "      <th>750</th>\n",
       "      <td>0.0434</td>\n",
       "    </tr>\n",
       "    <tr>\n",
       "      <th>759</th>\n",
       "      <td>0.0428</td>\n",
       "    </tr>\n",
       "    <tr>\n",
       "      <th>769</th>\n",
       "      <td>0.0426</td>\n",
       "    </tr>\n",
       "    <tr>\n",
       "      <th>779</th>\n",
       "      <td>0.0409</td>\n",
       "    </tr>\n",
       "    <tr>\n",
       "      <th>789</th>\n",
       "      <td>0.0399</td>\n",
       "    </tr>\n",
       "    <tr>\n",
       "      <th>799</th>\n",
       "      <td>0.0397</td>\n",
       "    </tr>\n",
       "    <tr>\n",
       "      <th>848</th>\n",
       "      <td>0.0394</td>\n",
       "    </tr>\n",
       "    <tr>\n",
       "      <th>858</th>\n",
       "      <td>0.0374</td>\n",
       "    </tr>\n",
       "    <tr>\n",
       "      <th>868</th>\n",
       "      <td>0.0371</td>\n",
       "    </tr>\n",
       "  </tbody>\n",
       "</table>\n",
       "</div>"
      ],
      "text/plain": [
       "           y\n",
       "time        \n",
       "414   0.1705\n",
       "424   0.1604\n",
       "434   0.1325\n",
       "444   0.1084\n",
       "493   0.1014\n",
       "503   0.1042\n",
       "513   0.1045\n",
       "523   0.0970\n",
       "533   0.0824\n",
       "582   0.0678\n",
       "592   0.0697\n",
       "602   0.0702\n",
       "612   0.0692\n",
       "621   0.0684\n",
       "631   0.0675\n",
       "641   0.0673\n",
       "651   0.0673\n",
       "661   0.0654\n",
       "671   0.0577\n",
       "681   0.0571\n",
       "690   0.0563\n",
       "700   0.0466\n",
       "710   0.0455\n",
       "720   0.0449\n",
       "730   0.0456\n",
       "740   0.0450\n",
       "750   0.0434\n",
       "759   0.0428\n",
       "769   0.0426\n",
       "779   0.0409\n",
       "789   0.0399\n",
       "799   0.0397\n",
       "848   0.0394\n",
       "858   0.0374\n",
       "868   0.0371"
      ]
     },
     "execution_count": 5,
     "metadata": {},
     "output_type": "execute_result"
    }
   ],
   "source": [
    "lc_data"
   ]
  },
  {
   "cell_type": "code",
   "execution_count": 6,
   "metadata": {},
   "outputs": [
    {
     "data": {
      "text/html": [
       "<div>\n",
       "<style scoped>\n",
       "    .dataframe tbody tr th:only-of-type {\n",
       "        vertical-align: middle;\n",
       "    }\n",
       "\n",
       "    .dataframe tbody tr th {\n",
       "        vertical-align: top;\n",
       "    }\n",
       "\n",
       "    .dataframe thead th {\n",
       "        text-align: right;\n",
       "    }\n",
       "</style>\n",
       "<table border=\"1\" class=\"dataframe\">\n",
       "  <thead>\n",
       "    <tr style=\"text-align: right;\">\n",
       "      <th></th>\n",
       "      <th>qin_B</th>\n",
       "    </tr>\n",
       "    <tr>\n",
       "      <th>time</th>\n",
       "      <th></th>\n",
       "    </tr>\n",
       "  </thead>\n",
       "  <tbody>\n",
       "    <tr>\n",
       "      <th>0.0</th>\n",
       "      <td>0.000000</td>\n",
       "    </tr>\n",
       "    <tr>\n",
       "      <th>9.0</th>\n",
       "      <td>0.134365</td>\n",
       "    </tr>\n",
       "    <tr>\n",
       "      <th>19.0</th>\n",
       "      <td>1.772804</td>\n",
       "    </tr>\n",
       "    <tr>\n",
       "      <th>29.0</th>\n",
       "      <td>1.734587</td>\n",
       "    </tr>\n",
       "    <tr>\n",
       "      <th>39.0</th>\n",
       "      <td>1.703319</td>\n",
       "    </tr>\n",
       "  </tbody>\n",
       "</table>\n",
       "</div>"
      ],
      "text/plain": [
       "         qin_B\n",
       "time          \n",
       "0.0   0.000000\n",
       "9.0   0.134365\n",
       "19.0  1.772804\n",
       "29.0  1.734587\n",
       "39.0  1.703319"
      ]
     },
     "execution_count": 6,
     "metadata": {},
     "output_type": "execute_result"
    }
   ],
   "source": [
    "qinB_row0 = pd.DataFrame({'time':[0], 'qin_B':[0]}).set_index('time')\n",
    "qinB_traj = flow_df[['Qf']]\n",
    "qinB_traj.columns = ['qin_B']\n",
    "qinB_traj = qinB_traj.append(qinB_row0).sort_index()\n",
    "qinB_traj.head()"
   ]
  },
  {
   "cell_type": "code",
   "execution_count": 7,
   "metadata": {},
   "outputs": [
    {
     "name": "stdout",
     "output_type": "stream",
     "text": [
      "Warning: Component A variance not provided\n",
      "Warning: Component B variance not provided\n",
      "Warning: Component C variance not provided\n",
      "Warning: Component D variance not provided\n",
      "Warning: Component V variance not provided\n"
     ]
    }
   ],
   "source": [
    "kipet_model = KipetModel()\n",
    "\n",
    "r1 = kipet_model.new_reaction('rxn1')\n",
    "\n",
    "# here the total moles of A, B, and C are used\n",
    "# though defined as state concentration, the ODEs are based on total moles\n",
    "#\n",
    "r1.add_component('A', state = 'concentration', init = 2.35)\n",
    "r1.add_component('B', state = 'concentration', init = 0.0)\n",
    "r1.add_component('C', state = 'concentration', init = 0.0)\n",
    "r1.add_component('D', state = 'concentration', init = 0.0)\n",
    "\n",
    "r1.add_component('V', state = 'state', init = 2370)\n",
    "\n",
    "r1.add_algebraic_variables(['y', 'qin_B'])\n",
    "\n",
    "r1.add_parameter('k1',init = 100, bounds=(0.0,10e3))\n",
    "r1.add_parameter('k2',init = 100, bounds=(0.0,10e3))\n",
    "r1.add_parameter('na0', init = 2.35, bounds = (0, 10))\n",
    "\n",
    "cbf = 0.00721"
   ]
  },
  {
   "cell_type": "code",
   "execution_count": 8,
   "metadata": {},
   "outputs": [],
   "source": [
    "def rule_odes(m,t):\n",
    "    exprs = dict()\n",
    "    exprs['A'] = -m.P['k1'] * m.Z[t, 'A'] * m.Z[t, 'B'] / m.X[t, 'V']\n",
    "    exprs['B'] = m.Y[t, 'qin_B'] * cbf - (m.P['k1'] * m.Z[t, 'A'] * m.Z[t, 'B'] + m.P['k2'] * m.Z[t, 'B'] * m.Z[t, 'C'])/m.X[t, 'V']\n",
    "    exprs['C'] = (m.P['k1'] * m.Z[t, 'A'] * m.Z[t, 'B'] - m.P['k2'] * m.Z[t, 'B'] * m.Z[t, 'C'])/m.X[t, 'V']\n",
    "    exprs['D'] = m.P['k2'] * m.Z[t, 'B'] * m.Z[t, 'C'] / m.X[t, 'V']\n",
    "    exprs['V'] = m.Y[t, 'qin_B']\n",
    "    return exprs\n",
    "\n",
    "r1.add_equations(rule_odes) "
   ]
  },
  {
   "cell_type": "code",
   "execution_count": 9,
   "metadata": {},
   "outputs": [],
   "source": [
    "def rule_algebraics(m, t):\n",
    "    r = list()\n",
    "    r.append(m.Y[t, 'y'] * (m.Z[t, 'C'] + 2 * m.Z[t, 'D']) - m.Z[t, 'C'])\n",
    "    return r\n",
    "\n",
    "r1.add_algebraics(rule_algebraics)"
   ]
  },
  {
   "cell_type": "code",
   "execution_count": 10,
   "metadata": {},
   "outputs": [],
   "source": [
    "r1.add_objective_from_algebraic('y')"
   ]
  },
  {
   "cell_type": "code",
   "execution_count": 11,
   "metadata": {},
   "outputs": [],
   "source": [
    "r1.add_dataset('lc_data', category = 'custom', data = lc_data)\n",
    "r1.add_dataset('Traj', category = 'trajectory', data = qinB_traj)"
   ]
  },
  {
   "cell_type": "code",
   "execution_count": 12,
   "metadata": {},
   "outputs": [],
   "source": [
    "r1.fix_from_trajectory('Y', 'qin_B', 'Traj')\n",
    "r1.set_times(0, 900)"
   ]
  },
  {
   "cell_type": "code",
   "execution_count": 13,
   "metadata": {},
   "outputs": [],
   "source": [
    "r1.settings.collocation.nfe = 60\n",
    "r1.settings.collocation.ncp = 3\n",
    "r1.settings.collocation.scheme = 'LAGRANGE-RADAU'\n",
    "r1.settings.parameter_estimator['solver'] = 'k_aug'\n",
    "r1.settings.solver.linear_solver = 'ma27'"
   ]
  },
  {
   "cell_type": "code",
   "execution_count": 14,
   "metadata": {},
   "outputs": [
    {
     "name": "stdout",
     "output_type": "stream",
     "text": [
      "times are: <class 'tuple'>\n",
      "0 900\n",
      "WARNING: The number of algebraic equations is not the same as the number of algebraic variables.\n",
      " If this is the desired behavior, some algebraics must be added after the model is created.\n"
     ]
    }
   ],
   "source": [
    "r1.create_pyomo_model()"
   ]
  },
  {
   "cell_type": "code",
   "execution_count": 15,
   "metadata": {},
   "outputs": [],
   "source": [
    "# explicitly add constraints for initial conditions and relax the auto-imposed initial conditions by builder\n",
    "r1.model.ca0_cons = pyo.Constraint(expr = r1.model.Z[0, 'A'] == r1.model.P['na0'])\n",
    "r1.model.init_conditions_c['A'].deactivate()"
   ]
  },
  {
   "cell_type": "code",
   "execution_count": 16,
   "metadata": {},
   "outputs": [
    {
     "name": "stdout",
     "output_type": "stream",
     "text": [
      "No variance information for A found, setting equal to unity\n",
      "No variance information for B found, setting equal to unity\n",
      "No variance information for C found, setting equal to unity\n",
      "No variance information for D found, setting equal to unity\n",
      "No variance information for V found, setting equal to unity\n",
      "        0.29 seconds required to write file\n",
      "        0.29 seconds required for presolve\n",
      "Ipopt 3.12: \n",
      "\n",
      "******************************************************************************\n",
      "This program contains Ipopt, a library for large-scale nonlinear optimization.\n",
      " Ipopt is released as open source code under the Eclipse Public License (EPL).\n",
      "         For more information visit http://projects.coin-or.org/Ipopt\n",
      "******************************************************************************\n",
      "\n",
      "This is Ipopt version 3.12, running with linear solver ma27.\n",
      "\n",
      "Number of nonzeros in equality constraint Jacobian...:     9549\n",
      "Number of nonzeros in inequality constraint Jacobian.:        0\n",
      "Number of nonzeros in Lagrangian Hessian.............:     2557\n",
      "\n",
      "Total number of variables............................:     1989\n",
      "                     variables with only lower bounds:        0\n",
      "                variables with lower and upper bounds:        3\n",
      "                     variables with only upper bounds:        0\n",
      "Total number of equality constraints.................:     1986\n",
      "Total number of inequality constraints...............:        0\n",
      "        inequality constraints with only lower bounds:        0\n",
      "   inequality constraints with lower and upper bounds:        0\n",
      "        inequality constraints with only upper bounds:        0\n",
      "\n",
      "iter    objective    inf_pr   inf_du lg(mu)  ||d||  lg(rg) alpha_du alpha_pr  ls\n",
      "   0  3.0336926e+01 2.00e+00 2.13e-01  -1.0 0.00e+00    -  0.00e+00 0.00e+00   0\n",
      "   1  9.4374797e-02 1.05e+00 1.52e+00  -1.0 6.22e+02    -  9.48e-01 1.00e+00f  1\n",
      "   2  9.1044526e-02 3.46e+00 1.93e+00  -1.0 1.19e+01  -4.0 9.89e-01 1.00e+00h  1\n",
      "   3  4.1983053e-02 1.28e-01 2.12e+00  -1.0 3.92e+01    -  1.00e+00 1.00e+00h  1\n",
      "   4  2.6498703e-02 1.74e-02 1.10e-01  -1.0 3.60e+01  -4.5 1.00e+00 1.00e+00h  1\n",
      "   5  1.6301630e-02 2.11e-03 3.28e-02  -2.5 8.50e+00  -4.1 9.79e-01 1.00e+00h  1\n",
      "   6  1.1753530e-02 8.05e-05 9.27e-04  -2.5 5.67e-01  -3.6 1.00e+00 1.00e+00h  1\n",
      "   7  1.1069612e-02 1.09e-05 1.79e-04  -3.8 2.28e+00  -4.1 1.00e+00 1.00e+00h  1\n",
      "   8  9.2939787e-03 8.49e-05 1.63e-04  -5.7 6.13e+00  -4.6 9.50e-01 1.00e+00h  1\n",
      "   9  5.4063490e-03 3.39e-04 2.51e-04  -5.7 1.67e+01  -5.1 1.00e+00 1.00e+00h  1\n",
      "iter    objective    inf_pr   inf_du lg(mu)  ||d||  lg(rg) alpha_du alpha_pr  ls\n",
      "  10  2.0213159e-03 2.16e-03 9.49e-04  -5.7 3.17e+01  -5.5 1.00e+00 1.00e+00h  1\n",
      "  11  1.8054625e-03 4.13e-04 1.68e-04  -5.7 2.28e+00  -6.0 1.00e+00 1.00e+00h  1\n",
      "  12  1.7928362e-03 8.09e-06 2.52e-06  -5.7 1.09e+00  -6.5 1.00e+00 1.00e+00h  1\n",
      "  13  1.7928329e-03 2.45e-07 5.75e-08  -8.6 5.19e-01  -7.0 9.96e-01 1.00e+00h  1\n",
      "  14  1.7928189e-03 3.45e-08 5.55e-08  -8.6 1.92e-01  -6.5 1.00e+00 1.00e+00h  1\n",
      "  15  1.7927805e-03 3.36e-07 5.74e-08  -8.6 5.96e-01  -7.0 1.00e+00 1.00e+00h  1\n",
      "  16  1.7927632e-03 4.74e-08 5.82e-08  -8.6 2.27e-01  -6.6 1.00e+00 1.00e+00h  1\n",
      "  17  1.7927154e-03 4.67e-07 6.06e-08  -8.6 7.08e-01  -7.1 1.00e+00 1.00e+00h  1\n",
      "  18  1.7926934e-03 6.59e-08 6.16e-08  -8.6 2.70e-01  -6.6 1.00e+00 1.00e+00h  1\n",
      "  19  1.7926332e-03 6.58e-07 6.45e-08  -8.6 8.47e-01  -7.1 1.00e+00 1.00e+00h  1\n",
      "iter    objective    inf_pr   inf_du lg(mu)  ||d||  lg(rg) alpha_du alpha_pr  ls\n",
      "  20  1.7926047e-03 9.27e-08 6.56e-08  -8.6 3.23e-01  -6.7 1.00e+00 1.00e+00h  1\n",
      "  21  1.7925278e-03 9.38e-07 6.91e-08  -8.6 1.02e+00  -7.2 1.00e+00 1.00e+00h  1\n",
      "  22  1.7924902e-03 1.32e-07 7.05e-08  -8.6 3.91e-01  -6.7 1.00e+00 1.00e+00h  1\n",
      "  23  1.7923901e-03 1.36e-06 7.48e-08  -8.6 1.24e+00  -7.2 1.00e+00 1.00e+00h  1\n",
      "  24  1.7923397e-03 1.91e-07 7.65e-08  -8.6 4.77e-01  -6.8 1.00e+00 1.00e+00h  1\n",
      "  25  1.7922069e-03 2.00e-06 9.06e-08  -8.6 1.53e+00  -7.3 1.00e+00 1.00e+00h  1\n",
      "  26  1.7921375e-03 2.79e-07 8.39e-08  -8.6 5.88e-01  -6.8 1.00e+00 1.00e+00h  1\n",
      "  27  1.7919573e-03 3.00e-06 1.35e-07  -8.6 1.91e+00  -7.3 1.00e+00 1.00e+00h  1\n",
      "  28  1.7918594e-03 4.16e-07 9.32e-08  -8.6 7.35e-01  -6.9 1.00e+00 1.00e+00h  1\n",
      "  29  1.7916087e-03 4.58e-06 2.06e-07  -8.6 2.41e+00  -7.4 1.00e+00 1.00e+00h  1\n",
      "iter    objective    inf_pr   inf_du lg(mu)  ||d||  lg(rg) alpha_du alpha_pr  ls\n",
      "  30  1.7914663e-03 6.30e-07 1.05e-07  -8.6 9.32e-01  -6.9 1.00e+00 1.00e+00h  1\n",
      "  31  1.7911073e-03 7.16e-06 3.21e-07  -8.6 3.09e+00  -7.4 1.00e+00 1.00e+00h  1\n",
      "  32  1.7908932e-03 9.71e-07 1.20e-07  -8.6 1.20e+00  -7.0 1.00e+00 1.00e+00h  1\n",
      "  33  1.7903617e-03 1.14e-05 5.11e-07  -8.6 4.03e+00  -7.5 1.00e+00 1.00e+00h  1\n",
      "  34  1.7900273e-03 1.52e-06 1.40e-07  -8.6 1.57e+00  -7.1 1.00e+00 1.00e+00h  1\n",
      "  35  1.7892102e-03 1.87e-05 8.30e-07  -8.6 5.37e+00  -7.5 1.00e+00 1.00e+00h  1\n",
      "  36  1.7886652e-03 2.42e-06 1.67e-07  -8.6 2.11e+00  -7.1 1.00e+00 1.00e+00h  1\n",
      "  37  1.7873545e-03 3.14e-05 1.42e-06  -8.6 7.33e+00  -7.6 1.00e+00 1.00e+00h  1\n",
      "  38  1.7864229e-03 3.88e-06 2.03e-07  -8.6 2.89e+00  -7.2 1.00e+00 1.00e+00h  1\n",
      "  39  1.7842160e-03 5.37e-05 2.67e-06  -8.6 1.02e+01  -7.6 1.00e+00 1.00e+00h  1\n",
      "iter    objective    inf_pr   inf_du lg(mu)  ||d||  lg(rg) alpha_du alpha_pr  ls\n",
      "  40  1.7825380e-03 6.23e-06 3.63e-07  -8.6 4.07e+00  -7.2 1.00e+00 1.00e+00h  1\n",
      "  41  1.7786118e-03 9.35e-05 5.19e-06  -8.6 1.47e+01  -7.7 1.00e+00 1.00e+00h  1\n",
      "  42  1.7754127e-03 9.82e-06 6.61e-07  -8.6 5.89e+00  -7.3 1.00e+00 1.00e+00h  1\n",
      "  43  1.7679768e-03 1.64e-04 1.03e-05  -8.6 2.18e+01  -7.7 1.00e+00 1.00e+00h  1\n",
      "  44  1.7651133e-03 5.11e-07 3.99e-07  -8.6 1.01e+00  -6.4 1.00e+00 1.00e+00h  1\n",
      "  45  1.7635815e-03 2.79e-06 4.17e-07  -8.6 3.17e+00  -6.9 1.00e+00 1.00e+00h  1\n",
      "  46  1.7629302e-03 3.72e-07 4.21e-07  -8.6 1.20e+00  -6.5 1.00e+00 1.00e+00h  1\n",
      "  47  1.7610629e-03 3.66e-06 4.34e-07  -8.6 3.71e+00  -6.9 1.00e+00 1.00e+00h  1\n",
      "  48  1.7602632e-03 4.86e-07 4.39e-07  -8.6 1.41e+00  -6.5 1.00e+00 1.00e+00h  1\n",
      "  49  1.7579778e-03 4.84e-06 4.54e-07  -8.6 4.36e+00  -7.0 1.00e+00 1.00e+00h  1\n",
      "iter    objective    inf_pr   inf_du lg(mu)  ||d||  lg(rg) alpha_du alpha_pr  ls\n",
      "  50  1.7569847e-03 6.35e-07 4.59e-07  -8.6 1.66e+00  -6.6 1.00e+00 1.00e+00h  1\n",
      "  51  1.7541590e-03 6.41e-06 4.76e-07  -8.6 5.16e+00  -7.0 1.00e+00 1.00e+00h  1\n",
      "  52  1.7529120e-03 8.35e-07 4.83e-07  -8.6 1.96e+00  -6.6 1.00e+00 1.00e+00h  1\n",
      "  53  1.7493793e-03 8.52e-06 6.09e-07  -8.6 6.13e+00  -7.1 1.00e+00 1.00e+00h  1\n",
      "  54  1.7477947e-03 1.10e-06 5.11e-07  -8.6 2.33e+00  -6.7 1.00e+00 1.00e+00h  1\n",
      "  55  1.7433250e-03 1.14e-05 8.18e-07  -8.6 7.33e+00  -7.1 1.00e+00 1.00e+00h  1\n",
      "  56  1.7412860e-03 1.45e-06 5.44e-07  -8.6 2.79e+00  -6.7 1.00e+00 1.00e+00h  1\n",
      "  57  1.7355592e-03 1.53e-05 1.10e-06  -8.6 8.82e+00  -7.2 1.00e+00 1.00e+00h  1\n",
      "  58  1.7329024e-03 1.91e-06 5.82e-07  -8.6 3.36e+00  -6.8 1.00e+00 1.00e+00h  1\n",
      "  59  1.7254711e-03 2.05e-05 1.45e-06  -8.6 1.07e+01  -7.2 1.00e+00 1.00e+00h  1\n",
      "iter    objective    inf_pr   inf_du lg(mu)  ||d||  lg(rg) alpha_du alpha_pr  ls\n",
      "  60  1.7219688e-03 2.50e-06 6.27e-07  -8.6 4.07e+00  -6.8 1.00e+00 1.00e+00h  1\n",
      "  61  1.7122113e-03 2.75e-05 1.94e-06  -8.6 1.30e+01  -7.3 1.00e+00 1.00e+00h  1\n",
      "  62  1.7075525e-03 3.24e-06 6.78e-07  -8.6 4.96e+00  -6.9 1.00e+00 1.00e+00h  1\n",
      "  63  1.6946234e-03 3.64e-05 2.93e-06  -8.6 1.59e+01  -7.3 1.00e+00 1.00e+00h  1\n",
      "  64  1.6884022e-03 4.15e-06 7.36e-07  -8.6 6.05e+00  -6.9 1.00e+00 1.00e+00h  1\n",
      "  65  1.6712088e-03 4.75e-05 4.35e-06  -8.6 1.94e+01  -7.4 1.00e+00 1.00e+00h  1\n",
      "  66  1.6629435e-03 5.18e-06 7.97e-07  -8.6 7.38e+00  -7.0 1.00e+00 1.00e+00h  1\n",
      "  67  1.6402117e-03 6.02e-05 6.21e-06  -8.6 2.35e+01  -7.4 1.00e+00 1.00e+00h  1\n",
      "  68  1.6294325e-03 6.24e-06 8.58e-07  -8.6 8.93e+00  -7.0 1.00e+00 1.00e+00h  1\n",
      "  69  1.5999579e-03 7.29e-05 8.33e-06  -8.6 2.83e+01  -7.5 1.00e+00 1.00e+00h  1\n",
      "iter    objective    inf_pr   inf_du lg(mu)  ||d||  lg(rg) alpha_du alpha_pr  ls\n",
      "  70  1.5863887e-03 7.16e-06 9.10e-07  -8.6 1.07e+01  -7.1 1.00e+00 1.00e+00h  1\n",
      "  71  1.5495095e-03 8.32e-05 1.03e-05  -8.6 3.32e+01  -7.5 1.00e+00 1.00e+00h  1\n",
      "  72  1.5332881e-03 7.80e-06 1.02e-06  -8.6 1.24e+01  -7.1 1.00e+00 1.00e+00h  1\n",
      "  73  1.4893938e-03 8.87e-05 1.14e-05  -8.6 3.80e+01  -7.6 1.00e+00 1.00e+00h  1\n",
      "  74  1.4711545e-03 8.06e-06 1.20e-06  -8.6 1.42e+01  -7.2 1.00e+00 1.00e+00h  1\n",
      "  75  9.7642856e-04 7.01e-02 2.26e-02  -8.6 1.23e+04    -  4.12e-02 9.62e-02h  4\n",
      "  76  6.2090820e-04 4.38e-02 3.44e-02  -8.6 6.48e+02    -  1.00e+00 1.00e+00h  1\n",
      "  77  5.3897753e-04 2.29e-03 6.00e-03  -8.6 4.44e+00  -6.7 1.00e+00 1.00e+00h  1\n",
      "  78  5.3909776e-04 6.14e-04 1.32e-03  -8.6 3.42e+02    -  1.00e+00 1.00e+00h  1\n",
      "  79  5.7190424e-04 9.96e-06 8.80e-05  -8.6 1.51e+01  -7.2 1.00e+00 1.00e+00h  1\n",
      "iter    objective    inf_pr   inf_du lg(mu)  ||d||  lg(rg) alpha_du alpha_pr  ls\n",
      "  80  3.7232530e-04 3.42e-03 9.34e-04  -8.6 1.12e+03    -  1.00e+00 1.00e+00h  1\n",
      "  81  4.1327621e-04 2.26e-05 3.59e-05  -8.6 1.96e+00  -6.8 1.00e+00 1.00e+00h  1\n"
     ]
    },
    {
     "name": "stdout",
     "output_type": "stream",
     "text": [
      "  82  2.8460086e-04 3.22e-03 7.65e-04  -8.6 1.63e+03    -  1.00e+00 1.00e+00h  1\n",
      "  83  3.1293884e-04 1.73e-05 2.12e-05  -8.6 2.10e+00  -7.3 1.00e+00 1.00e+00h  1\n",
      "  84  2.3088731e-04 3.09e-03 6.74e-04  -8.6 2.39e+03    -  1.00e+00 1.00e+00h  1\n",
      "  85  2.5010819e-04 1.24e-05 1.23e-05  -8.6 2.77e-01  -6.8 1.00e+00 1.00e+00h  1\n",
      "  86  2.0821628e-04 1.74e-03 3.64e-04  -8.6 3.50e+03    -  1.00e+00 7.60e-01h  1\n",
      "  87  2.2614396e-04 3.42e-04 7.42e-05  -8.6 1.15e+03    -  1.00e+00 1.00e+00h  1\n",
      "  88  2.2760890e-04 2.96e-07 6.68e-07  -8.6 2.84e-02  -6.4 1.00e+00 1.00e+00h  1\n",
      "  89  2.1494700e-04 2.22e-04 4.20e-05  -8.6 4.25e+03    -  1.00e+00 2.70e-01h  1\n",
      "iter    objective    inf_pr   inf_du lg(mu)  ||d||  lg(rg) alpha_du alpha_pr  ls\n",
      "  90  2.1650811e-04 1.14e-04 2.15e-05  -8.6 2.24e+02    -  1.00e+00 5.00e-01h  2\n",
      "  91  2.1615704e-04 3.72e-07 8.26e-08  -8.6 1.07e+02    -  1.00e+00 1.00e+00h  1\n",
      "  92  2.1615958e-04 1.32e-12 8.19e-09  -8.6 6.47e-02  -6.9 1.00e+00 1.00e+00h  1\n",
      "\n",
      "Number of Iterations....: 92\n",
      "\n",
      "                                   (scaled)                 (unscaled)\n",
      "Objective...............:   2.1615957879431500e-04    2.1615957879431500e-04\n",
      "Dual infeasibility......:   8.1851247831654967e-09    8.1851247831654967e-09\n",
      "Constraint violation....:   1.3165822598804056e-12    1.3165822598804056e-12\n",
      "Complementarity.........:   3.0363723509233481e-09    3.0363723509233481e-09\n",
      "Overall NLP error.......:   8.1851247831654967e-09    8.1851247831654967e-09\n",
      "\n",
      "\n",
      "Number of objective function evaluations             = 98\n",
      "Number of objective gradient evaluations             = 93\n",
      "Number of equality constraint evaluations            = 98\n",
      "Number of inequality constraint evaluations          = 0\n",
      "Number of equality constraint Jacobian evaluations   = 93\n",
      "Number of inequality constraint Jacobian evaluations = 0\n",
      "Number of Lagrangian Hessian evaluations             = 92\n",
      "Total CPU secs in IPOPT (w/o function evaluations)   =      0.964\n",
      "Total CPU secs in NLP function evaluations           =      0.100\n",
      "\n",
      "EXIT: Optimal Solution Found.\n",
      "        1.17 seconds required for solver\n",
      "        0.00 seconds required to read logfile \n",
      "        0.01 seconds required to read solution file\n",
      "        0.03 seconds required for postsolve\n",
      "ipopt_zL_in : Direction=Suffix.EXPORT, Datatype=Suffix.FLOAT\n",
      "    Key : Value\n",
      "rh_name : Direction=Suffix.IMPORT, Datatype=Suffix.FLOAT\n",
      "    Key : Value\n",
      "ipopt_zL_in : Direction=Suffix.EXPORT, Datatype=Suffix.FLOAT\n",
      "    Key    : Value\n",
      "     P[k1] : 2.5071344125332366e-13\n",
      "     P[k2] :  5.967411618854929e-13\n",
      "    P[na0] :  1.073085980141836e-09\n"
     ]
    },
    {
     "name": "stderr",
     "output_type": "stream",
     "text": [
      "W[K_AUG]...\t[K_AUG_ASL]No n_rhs declared\n",
      "W[K_AUG]...\t[K_AUG_ASL]Target log10mu:= -11.\n",
      "W[K_AUG]...\t[K_AUG_ASL]No f_timestamp suffix declared, Fallback to default writing mode.\n",
      "I[K_AUG]...\t[K_AUG_ASL] Filename for dot_sens dot_in_.in\n"
     ]
    },
    {
     "name": "stdout",
     "output_type": "stream",
     "text": [
      "[K_AUG] written by D.T. @2018\n",
      "\n",
      ": I[K_AUG]...\t[K_AUG_ASL]File read succesfull\n",
      "I[K_AUG]...\t[K_AUG_ASL]Number of Right hand sides 0\n",
      "I[K_AUG]...\t[K_AUG_ASL]Number of Right hand sides: 0\n",
      "I[K_AUG]...\t[K_AUG_ASL]Number of variables       : 1989\n",
      "I[K_AUG]...\t[K_AUG_ASL]Number of constraints     : 1986\n",
      "I[K_AUG]...\t[K_AUG_ASL]Number of valid n_dof     : 3\n",
      "I[K_AUG]...\t[ADJUST_MU]log10(mu) computed=-8.601035646584638 at var_i=937\n",
      "I[K_AUG]...\t[ADJUST_MU]log10(mu) close to the target\t-8.601035646948057 at var_i=938\n",
      "I[K_AUG]...\t[FIND_INEQUALITIES]summary: eq: 1986, leq: 0, geq: 0 \n",
      "I[K_AUG]...\t[K_AUG_ASL]Nonzeroes in the sparse Jacobian 9549\n",
      "I[K_AUG]...\t[GET_HESS_ASL]Objective found\n",
      "I[K_AUG]...\t[GET_HESS_ASL]Nonzeroes in the sparse hessian 2557\n",
      "I[K_AUG]...\t[GET_HESS_ASL]Minimization problem detected\n",
      "I[K_AUG]...\t[GET_HESS_ASL]Current objective 0.000216\n",
      "I[K_AUG]...\t[GET_HESS_ASL]Missing nz in the Hessian of the Lag: 1774\n",
      "I[K_AUG]...\t[K_AUG_ASL]Barrier term added.\n",
      "I[K_AUG]...\t[K_AUG_ASL]MC19 scaling...\n",
      "I[K_AUG]...\t[ASSM_RHS_RH]According to the suffixes declared dof is 3 \n",
      "I[K_AUG]...\t[ASSM_RHS_RH]n_dof exactly n_var - n_con \n",
      " On return from DMUMPS, INFOG(1)=              -9\n",
      " On return from DMUMPS, INFOG(2)=            1249\n",
      "I[K_AUG]...\t[MUMPS_DRIVER]Reallocating Memory (50)\n",
      "\n",
      "I[K_AUG]...\t[MUMPS_DRIVER]n_neig = 1986\n",
      "I[K_AUG]...\t[INERTIA_STRATEGY]Inertia check successful.\n",
      "I[K_AUG]...\t[MUMPS_DRIVER]: Ratio of norm of scaled residuals (reported); 4.116779e-15 \n",
      "I[K_AUG]...\t[MUMPS_DRIVER]Accuracy at an acceptable level.\n",
      "\n",
      "W[K_AUG]...\t[MUMPS_DRIVER]Inertia check OK neig=1986, (neig == m).\n",
      "I[K_AUG]...\t[K_AUG_ASL]Linear solver done. \n",
      "\bI[K_AUG]...\t[K_AUG_ASL]Timings..Ev&Assem 0.052278, Fact 0.273216, Overall 0.297334.\n",
      "Done solving building reduce hessian\n",
      "9 hessian size\n",
      "Parameter variances:  [8.00892626e+09 3.20246125e+09 1.73213181e-01]\n",
      "\n",
      "Confidence intervals:\n",
      "k1 (-79497.51391612829,99487.69513070499)\n",
      "k2 (-52390.97877874032,60789.60692691042)\n",
      "na0 (1.9190420320601775,2.7514197861399845)\n"
     ]
    },
    {
     "data": {
      "text/plain": [
       "\n",
       "RESULTS\n",
       "Z:\n",
       "                    A             B             C             D\n",
       "0.000000    2.335231  3.141208e-18  5.632110e-18  2.748104e-18\n",
       "2.005973    2.333740  2.169482e-05  1.486326e-03  4.344235e-06\n",
       "8.344027    2.333836  8.672349e-05  1.401047e-03 -6.552987e-06\n",
       "12.937500   2.320723  5.555435e-04  1.448569e-02  2.218466e-05\n",
       "14.943473   2.307564  8.063234e-04  2.762132e-02  4.561079e-05\n",
       "...              ...           ...           ...           ...\n",
       "878.319184  0.001484  1.705651e-05  1.802122e-01  2.153535e+00\n",
       "884.000000  0.001484  1.703801e-05  1.801882e-01  2.153559e+00\n",
       "886.480816  0.001483  1.702356e-05  1.801778e-01  2.153570e+00\n",
       "894.319184  0.001483  1.700890e-05  1.801447e-01  2.153604e+00\n",
       "900.000000  0.001482  1.701066e-05  1.801207e-01  2.153628e+00\n",
       "\n",
       "[181 rows x 4 columns]\n",
       "\n",
       "X:\n",
       "                       V\n",
       "0.000000    2370.000000\n",
       "2.005973    2370.210362\n",
       "8.344027    2370.204530\n",
       "12.937500   2372.092317\n",
       "14.943473   2373.955460\n",
       "...                 ...\n",
       "878.319184  2992.371522\n",
       "884.000000  2992.374976\n",
       "886.480816  2992.376485\n",
       "894.319184  2992.381251\n",
       "900.000000  2992.384705\n",
       "\n",
       "[181 rows x 1 columns]\n",
       "\n",
       "dZdt:\n",
       "                        A             B         C             D\n",
       "0.000000    0.000000e+00  0.000000e+00  0.000000  0.000000e+00\n",
       "2.005973   -2.135052e-04  2.363466e-06  0.000213  5.712968e-08\n",
       "8.344027   -8.535089e-04  4.443873e-05  0.000853  2.152692e-07\n",
       "12.937500  -5.432460e-03  1.734905e-04  0.005418  1.424637e-05\n",
       "14.943473  -7.833885e-03  1.165995e-04  0.007794  3.939667e-05\n",
       "...                  ...           ...       ...           ...\n",
       "878.319184 -8.454681e-08 -1.396778e-08 -0.000004  4.313574e-06\n",
       "884.000000 -8.442771e-08 -8.590227e-09 -0.000004  4.308316e-06\n",
       "886.480816 -8.434420e-08 -4.602324e-09 -0.000004  4.304411e-06\n",
       "894.319184 -8.423390e-08  1.055409e-11 -0.000004  4.299909e-06\n",
       "900.000000 -8.421533e-08  1.612730e-10 -0.000004  4.299776e-06\n",
       "\n",
       "[181 rows x 4 columns]\n",
       "\n",
       "dXdt:\n",
       "                    V\n",
       "0.000000    0.000000\n",
       "2.005973    0.029948\n",
       "8.344027    0.124572\n",
       "12.937500   0.779500\n",
       "14.943473   1.108167\n",
       "...              ...\n",
       "878.319184  0.000608\n",
       "884.000000  0.000608\n",
       "886.480816  0.000608\n",
       "894.319184  0.000608\n",
       "900.000000  0.000608\n",
       "\n",
       "[181 rows x 1 columns]\n",
       "\n",
       "P:\n",
       " {'k1': 9995.090607288352, 'k2': 4199.31407408505, 'na0': 2.335230909100081}\n",
       "\n",
       "Y:\n",
       "                qin_B         y\n",
       "0.000000    0.000000  0.993435\n",
       "2.005973    0.029948  0.994188\n",
       "8.344027    0.124572  1.009443\n",
       "12.937500   0.779500  0.996946\n",
       "14.943473   1.108167  0.996708\n",
       "...              ...       ...\n",
       "878.319184  0.000608  0.040161\n",
       "884.000000  0.000608  0.040155\n",
       "886.480816  0.000608  0.040153\n",
       "894.319184  0.000608  0.040145\n",
       "900.000000  0.000608  0.040139\n",
       "\n",
       "[181 rows x 2 columns]\n",
       "\n",
       "UD:\n",
       "           y\n",
       "414  0.1705\n",
       "424  0.1604\n",
       "434  0.1325\n",
       "444  0.1084\n",
       "493  0.1014\n",
       "503  0.1042\n",
       "513  0.1045\n",
       "523  0.0970\n",
       "533  0.0824\n",
       "582  0.0678\n",
       "592  0.0697\n",
       "602  0.0702\n",
       "612  0.0692\n",
       "621  0.0684\n",
       "631  0.0675\n",
       "641  0.0673\n",
       "651  0.0673\n",
       "661  0.0654\n",
       "671  0.0577\n",
       "681  0.0571\n",
       "690  0.0563\n",
       "700  0.0466\n",
       "710  0.0455\n",
       "720  0.0449\n",
       "730  0.0456\n",
       "740  0.0450\n",
       "750  0.0434\n",
       "759  0.0428\n",
       "769  0.0426\n",
       "779  0.0409\n",
       "789  0.0399\n",
       "799  0.0397\n",
       "848  0.0394\n",
       "858  0.0374\n",
       "868  0.0371\n"
      ]
     },
     "execution_count": 16,
     "metadata": {},
     "output_type": "execute_result"
    }
   ],
   "source": [
    "r1.run_opt()"
   ]
  },
  {
   "cell_type": "code",
   "execution_count": 17,
   "metadata": {},
   "outputs": [
    {
     "name": "stdout",
     "output_type": "stream",
     "text": [
      "\n",
      "The estimated parameters are:\n",
      "k1 9995.090607288352\n",
      "k2 4199.31407408505\n",
      "na0 2.335230909100081\n"
     ]
    }
   ],
   "source": [
    "r1.results.show_parameters"
   ]
  },
  {
   "cell_type": "code",
   "execution_count": 18,
   "metadata": {},
   "outputs": [
    {
     "data": {
      "text/plain": [
       "[<matplotlib.lines.Line2D at 0x7f50439b44a8>]"
      ]
     },
     "execution_count": 18,
     "metadata": {},
     "output_type": "execute_result"
    },
    {
     "data": {
      "image/png": "[encoded data removed]",
      "text/plain": [
       "<Figure size 432x288 with 1 Axes>"
      ]
     },
     "metadata": {
      "needs_background": "light"
     },
     "output_type": "display_data"
    }
   ],
   "source": [
    "fig, ax = plt.subplots()\n",
    "dfplt = r1.results.Y[r1.results.Y.index >= 380]\n",
    "ax.scatter(lc_data.index, lc_data['y'])\n",
    "ax.plot(dfplt.index, dfplt['y'])"
   ]
  },
  {
   "cell_type": "code",
   "execution_count": 19,
   "metadata": {},
   "outputs": [
    {
     "data": {
      "text/plain": [
       "[<matplotlib.lines.Line2D at 0x7f5043c0f7b8>]"
      ]
     },
     "execution_count": 19,
     "metadata": {},
     "output_type": "execute_result"
    },
    {
     "data": {
      "image/png": "[encoded data removed]",
      "text/plain": [
       "<Figure size 432x288 with 1 Axes>"
      ]
     },
     "metadata": {
      "needs_background": "light"
     },
     "output_type": "display_data"
    }
   ],
   "source": [
    "fig, ax = plt.subplots()\n",
    "ax.step(qinB_traj.index, qinB_traj['qin_B'])\n",
    "ax.step(r1.results.Y.index, r1.results.Y['qin_B'])"
   ]
  },
  {
   "cell_type": "code",
   "execution_count": 21,
   "metadata": {},
   "outputs": [
    {
     "data": {
      "text/plain": [
       "<matplotlib.legend.Legend at 0x7f5043be6d68>"
      ]
     },
     "execution_count": 21,
     "metadata": {},
     "output_type": "execute_result"
    },
    {
     "data": {
      "image/png": "[encoded data removed]",
      "text/plain": [
       "<Figure size 432x288 with 1 Axes>"
      ]
     },
     "metadata": {
      "needs_background": "light"
     },
     "output_type": "display_data"
    }
   ],
   "source": [
    "fig, ax = plt.subplots()\n",
    "for c in ['A', 'C', 'D']:\n",
    "    conc = r1.results.Z[c] / r1.results.X['V']\n",
    "    ax.plot(r1.results.Z.index, conc, label = c)\n",
    "ax.legend()"
   ]
  },
  {
   "cell_type": "code",
   "execution_count": 22,
   "metadata": {},
   "outputs": [
    {
     "data": {
      "text/plain": [
       "<matplotlib.legend.Legend at 0x7f50561ee4a8>"
      ]
     },
     "execution_count": 22,
     "metadata": {},
     "output_type": "execute_result"
    },
    {
     "data": {
      "image/png": "[encoded data removed]",
      "text/plain": [
       "<Figure size 432x288 with 1 Axes>"
      ]
     },
     "metadata": {
      "needs_background": "light"
     },
     "output_type": "display_data"
    }
   ],
   "source": [
    "fig, ax = plt.subplots()\n",
    "for c in ['B']:\n",
    "    conc = r1.results.Z[c] / r1.results.X['V']\n",
    "    ax.plot(r1.results.Z.index, conc, label = c)\n",
    "ax.legend()"
   ]
  },
  {
   "cell_type": "code",
   "execution_count": null,
   "metadata": {},
   "outputs": [],
   "source": [
    "dof = lc_data.shape[0] - 3\n",
    "mse = r1.results.objective / dof\n",
    "cov_mat = 2 * mse * r1.results.parameter_covariance\n",
    "cov_mat"
   ]
  },
  {
   "cell_type": "code",
   "execution_count": null,
   "metadata": {},
   "outputs": [],
   "source": [
    "conf_delta = t.ppf(0.975, dof) * np.sqrt(np.diag(cov_mat))\n",
    "conf_delta"
   ]
  }
 ],
 "metadata": {
  "kernelspec": {
   "display_name": "Python 3",
   "language": "python",
   "name": "python3"
  },
  "language_info": {
   "codemirror_mode": {
    "name": "ipython",
    "version": 3
   },
   "file_extension": ".py",
   "mimetype": "text/x-python",
   "name": "python",
   "nbconvert_exporter": "python",
   "pygments_lexer": "ipython3",
   "version": "3.7.3"
  }
 },
 "nbformat": 4,
 "nbformat_minor": 2
}
