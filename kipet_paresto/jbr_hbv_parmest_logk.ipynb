{
 "cells": [
  {
   "cell_type": "code",
   "execution_count": 1,
   "metadata": {},
   "outputs": [],
   "source": [
    "#\n",
    "# Run the hbv parameter estimation with full model\n",
    "# https://github.com/rawlings-group/paresto/blob/master/examples/green_book/hbv_det.m\n",
    "#"
   ]
  },
  {
   "cell_type": "code",
   "execution_count": 2,
   "metadata": {},
   "outputs": [
    {
     "name": "stdout",
     "output_type": "stream",
     "text": [
      "WARNING: DEPRECATED: The pyomo.core.base.sets module is deprecated.  Import\n",
      "    Set objects from pyomo.core.base.set or pyomo.core.  (deprecated in 5.7)\n",
      "    (called from <frozen importlib._bootstrap>:219)\n",
      "_SetProduct not found\n"
     ]
    },
    {
     "ename": "ModuleNotFoundError",
     "evalue": "No module named 'kipet.library.top_level.clean'",
     "output_type": "error",
     "traceback": [
      "\u001b[0;31m---------------------------------------------------------------------------\u001b[0m",
      "\u001b[0;31mModuleNotFoundError\u001b[0m                       Traceback (most recent call last)",
      "\u001b[0;32m<ipython-input-2-84b288af6696>\u001b[0m in \u001b[0;36m<module>\u001b[0;34m\u001b[0m\n\u001b[0;32m----> 1\u001b[0;31m \u001b[0;32mfrom\u001b[0m \u001b[0mkipet\u001b[0m \u001b[0;32mimport\u001b[0m \u001b[0mKipetModel\u001b[0m\u001b[0;34m\u001b[0m\u001b[0;34m\u001b[0m\u001b[0m\n\u001b[0m\u001b[1;32m      2\u001b[0m \u001b[0;32mimport\u001b[0m \u001b[0mmatplotlib\u001b[0m\u001b[0;34m.\u001b[0m\u001b[0mpyplot\u001b[0m \u001b[0;32mas\u001b[0m \u001b[0mplt\u001b[0m\u001b[0;34m\u001b[0m\u001b[0;34m\u001b[0m\u001b[0m\n\u001b[1;32m      3\u001b[0m \u001b[0;32mimport\u001b[0m \u001b[0mnumpy\u001b[0m \u001b[0;32mas\u001b[0m \u001b[0mnp\u001b[0m\u001b[0;34m\u001b[0m\u001b[0;34m\u001b[0m\u001b[0m\n\u001b[1;32m      4\u001b[0m \u001b[0;32mimport\u001b[0m \u001b[0mpandas\u001b[0m \u001b[0;32mas\u001b[0m \u001b[0mpd\u001b[0m\u001b[0;34m\u001b[0m\u001b[0;34m\u001b[0m\u001b[0m\n\u001b[1;32m      5\u001b[0m \u001b[0;32mfrom\u001b[0m \u001b[0mscipy\u001b[0m\u001b[0;34m.\u001b[0m\u001b[0mstats\u001b[0m \u001b[0;32mimport\u001b[0m \u001b[0mt\u001b[0m\u001b[0;34m\u001b[0m\u001b[0;34m\u001b[0m\u001b[0m\n",
      "\u001b[0;32m~/my_pyenvs/kipetenv/lib/python3.7/site-packages/kipet-2.0.0-py3.7.egg/kipet/__init__.py\u001b[0m in \u001b[0;36m<module>\u001b[0;34m\u001b[0m\n\u001b[0;32m----> 1\u001b[0;31m \u001b[0;32mfrom\u001b[0m \u001b[0;34m.\u001b[0m\u001b[0mlibrary\u001b[0m\u001b[0;34m.\u001b[0m\u001b[0mkipet_model\u001b[0m \u001b[0;32mimport\u001b[0m \u001b[0mKipetModel\u001b[0m\u001b[0;34m\u001b[0m\u001b[0;34m\u001b[0m\u001b[0m\n\u001b[0m\u001b[1;32m      2\u001b[0m \u001b[0;32mfrom\u001b[0m \u001b[0;34m.\u001b[0m\u001b[0mlibrary\u001b[0m\u001b[0;34m.\u001b[0m\u001b[0mcore_methods\u001b[0m\u001b[0;34m.\u001b[0m\u001b[0mdata_tools\u001b[0m \u001b[0;32mimport\u001b[0m \u001b[0;34m*\u001b[0m\u001b[0;34m\u001b[0m\u001b[0;34m\u001b[0m\u001b[0m\n",
      "\u001b[0;32m~/my_pyenvs/kipetenv/lib/python3.7/site-packages/kipet-2.0.0-py3.7.egg/kipet/library/kipet_model.py\u001b[0m in \u001b[0;36m<module>\u001b[0;34m\u001b[0m\n\u001b[1;32m     45\u001b[0m \u001b[0;32mfrom\u001b[0m \u001b[0mkipet\u001b[0m\u001b[0;34m.\u001b[0m\u001b[0mlibrary\u001b[0m\u001b[0;34m.\u001b[0m\u001b[0mtop_level\u001b[0m\u001b[0;34m.\u001b[0m\u001b[0mmodel_components\u001b[0m \u001b[0;32mimport\u001b[0m \u001b[0mParameterBlock\u001b[0m\u001b[0;34m,\u001b[0m \u001b[0mComponentBlock\u001b[0m\u001b[0;34m\u001b[0m\u001b[0;34m\u001b[0m\u001b[0m\n\u001b[1;32m     46\u001b[0m \u001b[0;32mfrom\u001b[0m \u001b[0mkipet\u001b[0m\u001b[0;34m.\u001b[0m\u001b[0mlibrary\u001b[0m\u001b[0;34m.\u001b[0m\u001b[0mtop_level\u001b[0m\u001b[0;34m.\u001b[0m\u001b[0msettings\u001b[0m \u001b[0;32mimport\u001b[0m \u001b[0mSettings\u001b[0m\u001b[0;34m,\u001b[0m \u001b[0mUSER_DEFINED_SETTINGS\u001b[0m\u001b[0;34m\u001b[0m\u001b[0;34m\u001b[0m\u001b[0m\n\u001b[0;32m---> 47\u001b[0;31m \u001b[0;32mfrom\u001b[0m \u001b[0mkipet\u001b[0m\u001b[0;34m.\u001b[0m\u001b[0mlibrary\u001b[0m\u001b[0;34m.\u001b[0m\u001b[0mtop_level\u001b[0m\u001b[0;34m.\u001b[0m\u001b[0mclean\u001b[0m \u001b[0;32mimport\u001b[0m \u001b[0mremove_file\u001b[0m\u001b[0;34m\u001b[0m\u001b[0;34m\u001b[0m\u001b[0m\n\u001b[0m\u001b[1;32m     48\u001b[0m \u001b[0;34m\u001b[0m\u001b[0m\n\u001b[1;32m     49\u001b[0m \u001b[0mDEFAULT_DIR\u001b[0m \u001b[0;34m=\u001b[0m \u001b[0;34m'data_sets'\u001b[0m\u001b[0;34m\u001b[0m\u001b[0;34m\u001b[0m\u001b[0m\n",
      "\u001b[0;31mModuleNotFoundError\u001b[0m: No module named 'kipet.library.top_level.clean'"
     ]
    }
   ],
   "source": [
    "from kipet import KipetModel\n",
    "import matplotlib.pyplot as plt\n",
    "import numpy as np\n",
    "import pandas as pd\n",
    "from scipy.stats import t\n",
    "from scipy.linalg import eig\n",
    "import scipy.linalg as sla"
   ]
  },
  {
   "cell_type": "code",
   "execution_count": null,
   "metadata": {},
   "outputs": [],
   "source": [
    "filename = '/home/paperspace/learn_kipet/kipet_paresto/data_sets/hbv_data.csv'\n",
    "C_data = pd.read_csv(filename, index_col = 0)\n",
    "C_data.shape"
   ]
  },
  {
   "cell_type": "code",
   "execution_count": null,
   "metadata": {},
   "outputs": [],
   "source": [
    "C_data.head()"
   ]
  },
  {
   "cell_type": "code",
   "execution_count": null,
   "metadata": {},
   "outputs": [],
   "source": [
    "# True parameters\n",
    "x = np.array([2, 0.025, 1000, 0.25, 1.9985, 7.5E-6])\n",
    "np.log10(x)"
   ]
  },
  {
   "cell_type": "code",
   "execution_count": null,
   "metadata": {},
   "outputs": [],
   "source": [
    "kipet_model = KipetModel()\n",
    "\n",
    "r1 = kipet_model.new_reaction('rxn1')\n",
    "\n",
    "r1.add_component('A', state = 'concentration', init = 1.0)\n",
    "r1.add_component('B', state = 'concentration', init = 0.0)\n",
    "r1.add_component('C', state = 'concentration', init = 0.0)\n",
    "\n",
    "r1.add_parameter('lk1',init = 0.8, bounds=(-6.0, 4.0))\n",
    "r1.add_parameter('lk2',init = -1.1, bounds=(-6.0, 4.0))\n",
    "r1.add_parameter('lk3',init = 3.1, bounds=(-6.0, 4.0))\n",
    "r1.add_parameter('lk4',init = -0.77, bounds=(-6.0, 4.0))\n",
    "r1.add_parameter('lk5',init = -0.16, bounds=(-6.0, 4.0))\n",
    "r1.add_parameter('lk6',init = -5.46, bounds=(-6.0, 4.0))\n"
   ]
  },
  {
   "cell_type": "code",
   "execution_count": null,
   "metadata": {},
   "outputs": [],
   "source": [
    "# define explicit system of ODEs\n",
    "def rule_odes(m,t):\n",
    "    exprs = dict()\n",
    "    exprs['A'] = 10**m.P['lk2']*m.Z[t,'B'] - 10**m.P['lk4']*m.Z[t,'A']\n",
    "    exprs['B'] = 10**m.P['lk1']*m.Z[t,'A']-10**m.P['lk2']*m.Z[t,'B']-10**m.P['lk6']*m.Z[t,'B']*m.Z[t,'C']\n",
    "    exprs['C'] = 10**m.P['lk3']*m.Z[t,'A']-10**m.P['lk5']*m.Z[t,'C']-10**m.P['lk6']*m.Z[t,'B']*m.Z[t,'C']\n",
    "    return exprs\n",
    "\n",
    "r1.add_equations(rule_odes)\n",
    "r1.set_times(0.0,100.0)"
   ]
  },
  {
   "cell_type": "code",
   "execution_count": null,
   "metadata": {},
   "outputs": [],
   "source": [
    "r1.add_dataset('C_data', category = 'concentration', data = C_data)"
   ]
  },
  {
   "cell_type": "code",
   "execution_count": null,
   "metadata": {},
   "outputs": [],
   "source": [
    "# sigmas as 1/wts used in the book\n",
    "r1.variances = {'A':1, 'B':100, 'C':1e4}\n",
    "r1.settings.collocation.nfe = 50\n",
    "r1.settings.collocation.ncp = 3\n",
    "r1.settings.collocation.scheme = 'LAGRANGE-RADAU'\n",
    "r1.settings.parameter_estimator['solver'] = 'k_aug'\n",
    "r1.settings.solver.linear_solver = 'ma27'"
   ]
  },
  {
   "cell_type": "code",
   "execution_count": null,
   "metadata": {},
   "outputs": [],
   "source": [
    "r1.create_pyomo_model()\n",
    "r1.model.P.pprint()"
   ]
  },
  {
   "cell_type": "code",
   "execution_count": null,
   "metadata": {},
   "outputs": [],
   "source": [
    "r1.run_opt()"
   ]
  },
  {
   "cell_type": "code",
   "execution_count": null,
   "metadata": {},
   "outputs": [],
   "source": [
    "print(\"The estimated parameters are:\")\n",
    "r1.results.show_parameters"
   ]
  },
  {
   "cell_type": "code",
   "execution_count": null,
   "metadata": {},
   "outputs": [],
   "source": [
    "{k: 10**x for (k, x) in r1.results.P.items()}"
   ]
  },
  {
   "cell_type": "code",
   "execution_count": null,
   "metadata": {},
   "outputs": [],
   "source": [
    "fig, ax = plt.subplots(3)\n",
    "cmplist = ['A', 'B', 'C']\n",
    "for (i, c) in enumerate(cmplist):\n",
    "    ax[i].scatter(r1.results.Cm.index, r1.results.Cm[c])\n",
    "    ax[i].plot(r1.results.Z.index, r1.results.Z[c])\n",
    "    ax[i].set_xlabel('time')\n",
    "    ax[i].set_ylabel(c)"
   ]
  },
  {
   "cell_type": "code",
   "execution_count": null,
   "metadata": {},
   "outputs": [],
   "source": [
    "# since kipet outputs reduced hessian which equals covariance if right sigma values are specified. \n",
    "# since we just specified sigma=1, we need to adjust the covariance matrix output from KIPET to get the \n",
    "# estimated covariance matrix\n",
    "mse = r1.results.objective / (C_data.shape[0]*3 - 6)\n",
    "cov_est = 2 * mse * r1.results.parameter_covariance\n",
    "cov_est"
   ]
  },
  {
   "cell_type": "code",
   "execution_count": null,
   "metadata": {},
   "outputs": [],
   "source": [
    "eigval, eigvec = sla.eig(cov_est)\n",
    "eigval, eigvec"
   ]
  },
  {
   "cell_type": "code",
   "execution_count": null,
   "metadata": {},
   "outputs": [],
   "source": [
    "eigvec[:,4]"
   ]
  },
  {
   "cell_type": "code",
   "execution_count": null,
   "metadata": {},
   "outputs": [],
   "source": [
    "dof = C_data.shape[0]*3 - 6\n",
    "conf_delta = t.ppf(0.975, dof) * np.sqrt(np.diag(cov_est))\n",
    "conf_delta, conf_delta / np.abs(np.array(list(r1.results.P.values())))"
   ]
  },
  {
   "cell_type": "code",
   "execution_count": null,
   "metadata": {},
   "outputs": [],
   "source": []
  }
 ],
 "metadata": {
  "kernelspec": {
   "display_name": "Python 3",
   "language": "python",
   "name": "python3"
  },
  "language_info": {
   "codemirror_mode": {
    "name": "ipython",
    "version": 3
   },
   "file_extension": ".py",
   "mimetype": "text/x-python",
   "name": "python",
   "nbconvert_exporter": "python",
   "pygments_lexer": "ipython3",
   "version": "3.7.3"
  }
 },
 "nbformat": 4,
 "nbformat_minor": 2
}
