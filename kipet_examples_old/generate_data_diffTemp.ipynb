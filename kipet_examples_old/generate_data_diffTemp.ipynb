{
 "cells": [
  {
   "cell_type": "code",
   "execution_count": 1,
   "metadata": {},
   "outputs": [],
   "source": [
    "from kipet.library.TemplateBuilder import *\n",
    "from kipet.library.PyomoSimulator import *\n",
    "\n",
    "import matplotlib.pyplot as plt\n",
    "import sys"
   ]
  },
  {
   "cell_type": "code",
   "execution_count": 2,
   "metadata": {},
   "outputs": [],
   "source": [
    "builder = TemplateBuilder()  \n",
    "    \n",
    "builder.add_mixture_component('A',1.0)\n",
    "builder.add_mixture_component('B',2.0)\n",
    "builder.add_mixture_component('C',0.0)\n",
    "builder.add_mixture_component('D',0.0)\n",
    "    \n",
    "builder.add_parameter('k1',1.0)\n",
    "builder.add_parameter('k2',2.0)\n",
    "    \n",
    "def rule_odes(m,t):\n",
    "    exprs = dict()\n",
    "    exprs['A'] = -m.P['k1']*m.Z[t,'A']*m.Z[t,'B']\n",
    "    exprs['B'] = -m.P['k1']*m.Z[t,'A']*m.Z[t,'B']-m.P['k2']*m.Z[t,'B']*m.Z[t,'C']\n",
    "    exprs['C'] = m.P['k1']*m.Z[t,'A']*m.Z[t,'B']-m.P['k2']*m.Z[t,'B']*m.Z[t,'C']\n",
    "    exprs['D'] = m.P['k2']*m.Z[t,'B']*m.Z[t,'C']\n",
    "    return exprs\n",
    "\n",
    "builder.set_odes_rule(rule_odes)"
   ]
  },
  {
   "cell_type": "code",
   "execution_count": 3,
   "metadata": {},
   "outputs": [],
   "source": [
    "pyomo_model = builder.create_pyomo_model(0.0, 4.0)\n",
    "simulator = PyomoSimulator(pyomo_model)"
   ]
  },
  {
   "cell_type": "code",
   "execution_count": 4,
   "metadata": {},
   "outputs": [
    {
     "name": "stdout",
     "output_type": "stream",
     "text": [
      "Ipopt 3.12: \n",
      "\n",
      "******************************************************************************\n",
      "This program contains Ipopt, a library for large-scale nonlinear optimization.\n",
      " Ipopt is released as open source code under the Eclipse Public License (EPL).\n",
      "         For more information visit http://projects.coin-or.org/Ipopt\n",
      "******************************************************************************\n",
      "\n",
      "This is Ipopt version 3.12, running with linear solver ma27.\n",
      "\n",
      "Number of nonzeros in equality constraint Jacobian...:     1804\n",
      "Number of nonzeros in inequality constraint Jacobian.:        0\n",
      "Number of nonzeros in Lagrangian Hessian.............:      120\n",
      "\n",
      "Total number of variables............................:      484\n",
      "                     variables with only lower bounds:        0\n",
      "                variables with lower and upper bounds:        0\n",
      "                     variables with only upper bounds:        0\n",
      "Total number of equality constraints.................:      484\n",
      "Total number of inequality constraints...............:        0\n",
      "        inequality constraints with only lower bounds:        0\n",
      "   inequality constraints with lower and upper bounds:        0\n",
      "        inequality constraints with only upper bounds:        0\n",
      "\n",
      "iter    objective    inf_pr   inf_du lg(mu)  ||d||  lg(rg) alpha_du alpha_pr  ls\n",
      "   0  0.0000000e+00 6.00e+00 0.00e+00  -1.0 0.00e+00    -  0.00e+00 0.00e+00   0\n",
      "   1  0.0000000e+00 1.44e+00 0.00e+00  -1.0 1.89e+00    -  1.00e+00 1.00e+00h  1\n",
      "   2  0.0000000e+00 3.60e-01 0.00e+00  -1.0 6.00e-01    -  1.00e+00 1.00e+00h  1\n",
      "   3  0.0000000e+00 8.02e-02 0.00e+00  -1.7 2.82e-01    -  1.00e+00 1.00e+00h  1\n",
      "   4  0.0000000e+00 5.64e-03 0.00e+00  -2.5 7.30e-02    -  1.00e+00 1.00e+00h  1\n",
      "   5  0.0000000e+00 1.12e-05 0.00e+00  -3.8 4.01e-03    -  1.00e+00 1.00e+00h  1\n",
      "   6  0.0000000e+00 1.38e-11 0.00e+00  -8.6 9.45e-06    -  1.00e+00 1.00e+00h  1\n",
      "\n",
      "Number of Iterations....: 6\n",
      "\n",
      "                                   (scaled)                 (unscaled)\n",
      "Objective...............:   0.0000000000000000e+00    0.0000000000000000e+00\n",
      "Dual infeasibility......:   0.0000000000000000e+00    0.0000000000000000e+00\n",
      "Constraint violation....:   1.3777409768600535e-11    1.3777409768600535e-11\n",
      "Complementarity.........:   0.0000000000000000e+00    0.0000000000000000e+00\n",
      "Overall NLP error.......:   1.3777409768600535e-11    1.3777409768600535e-11\n",
      "\n",
      "\n",
      "Number of objective function evaluations             = 7\n",
      "Number of objective gradient evaluations             = 7\n",
      "Number of equality constraint evaluations            = 7\n",
      "Number of inequality constraint evaluations          = 0\n",
      "Number of equality constraint Jacobian evaluations   = 7\n",
      "Number of inequality constraint Jacobian evaluations = 0\n",
      "Number of Lagrangian Hessian evaluations             = 6\n",
      "Total CPU secs in IPOPT (w/o function evaluations)   =      0.004\n",
      "Total CPU secs in NLP function evaluations           =      0.000\n",
      "\n",
      "EXIT: Optimal Solution Found.\n"
     ]
    }
   ],
   "source": [
    "simulator.apply_discretization('dae.collocation', ncp = 2, nfe = 30, scheme = 'LAGRANGE-RADAU')\n",
    "results_pyomo = simulator.run_sim('ipopt',tee=True)"
   ]
  },
  {
   "cell_type": "code",
   "execution_count": 5,
   "metadata": {},
   "outputs": [
    {
     "data": {
      "text/plain": [
       "Text(0.5, 1.0, 'Concentration Profile')"
      ]
     },
     "execution_count": 5,
     "metadata": {},
     "output_type": "execute_result"
    },
    {
     "data": {
      "image/png": "[encoded data removed]",
      "text/plain": [
       "<Figure size 432x288 with 1 Axes>"
      ]
     },
     "metadata": {
      "needs_background": "light"
     },
     "output_type": "display_data"
    }
   ],
   "source": [
    "results_pyomo.Z.plot.line(legend=True)\n",
    "plt.xlabel(\"time (s)\")\n",
    "plt.ylabel(\"Concentration (mol/L)\")\n",
    "plt.title(\"Concentration Profile\")"
   ]
  },
  {
   "cell_type": "code",
   "execution_count": 6,
   "metadata": {},
   "outputs": [],
   "source": [
    "data1 = results_pyomo.Z.copy()"
   ]
  },
  {
   "cell_type": "code",
   "execution_count": 7,
   "metadata": {},
   "outputs": [
    {
     "data": {
      "text/plain": [
       "(13, 4)"
      ]
     },
     "execution_count": 7,
     "metadata": {},
     "output_type": "execute_result"
    }
   ],
   "source": [
    "data1 = data1.iloc[::5,:]\n",
    "data1.shape"
   ]
  },
  {
   "cell_type": "code",
   "execution_count": 8,
   "metadata": {},
   "outputs": [],
   "source": [
    "data1['A'] = data1['A'] + 0.05 * np.random.normal(0, 1.0, data1.shape[0])\n",
    "data1['B'] = data1['B'] + 0.05 * np.random.normal(0, 1.0, data1.shape[0])\n",
    "data1['C'] = data1['C'] + 0.05 * np.random.normal(0, 1.0, data1.shape[0])\n",
    "data1['D'] = data1['D'] + 0.05 * np.random.normal(0, 1.0, data1.shape[0])"
   ]
  },
  {
   "cell_type": "code",
   "execution_count": 9,
   "metadata": {},
   "outputs": [
    {
     "data": {
      "text/plain": [
       "<matplotlib.legend.Legend at 0x7f348aacbda0>"
      ]
     },
     "execution_count": 9,
     "metadata": {},
     "output_type": "execute_result"
    },
    {
     "data": {
      "image/png": "[encoded data removed]",
      "text/plain": [
       "<Figure size 432x288 with 1 Axes>"
      ]
     },
     "metadata": {
      "needs_background": "light"
     },
     "output_type": "display_data"
    }
   ],
   "source": [
    "fig, ax = plt.subplots()\n",
    "for x in ['A', 'B', 'C', 'D']:\n",
    "    ax.scatter(data1.index, data1[x], label = x)\n",
    "ax.legend()"
   ]
  },
  {
   "cell_type": "code",
   "execution_count": 10,
   "metadata": {},
   "outputs": [],
   "source": [
    "data1['T'] = 298"
   ]
  },
  {
   "cell_type": "code",
   "execution_count": 11,
   "metadata": {},
   "outputs": [],
   "source": [
    "data1.to_csv('../my_data_sets/ABCD_cb0_2_temp_298.csv')"
   ]
  },
  {
   "cell_type": "code",
   "execution_count": 12,
   "metadata": {},
   "outputs": [],
   "source": [
    "builder = TemplateBuilder()  \n",
    "    \n",
    "builder.add_mixture_component('A',1.0)\n",
    "builder.add_mixture_component('B',1.0)\n",
    "builder.add_mixture_component('C',0.0)\n",
    "builder.add_mixture_component('D',0.0)\n",
    "    \n",
    "builder.add_parameter('k1',1.0)\n",
    "builder.add_parameter('k2',2.0)\n",
    "    \n",
    "def rule_odes(m,t):\n",
    "    exprs = dict()\n",
    "    exprs['A'] = -m.P['k1']*m.Z[t,'A']*m.Z[t,'B']\n",
    "    exprs['B'] = -m.P['k1']*m.Z[t,'A']*m.Z[t,'B']-m.P['k2']*m.Z[t,'B']*m.Z[t,'C']\n",
    "    exprs['C'] = m.P['k1']*m.Z[t,'A']*m.Z[t,'B']-m.P['k2']*m.Z[t,'B']*m.Z[t,'C']\n",
    "    exprs['D'] = m.P['k2']*m.Z[t,'B']*m.Z[t,'C']\n",
    "    return exprs\n",
    "\n",
    "builder.set_odes_rule(rule_odes)"
   ]
  },
  {
   "cell_type": "code",
   "execution_count": 13,
   "metadata": {},
   "outputs": [],
   "source": [
    "pyomo_model = builder.create_pyomo_model(0.0, 7.0)\n",
    "simulator = PyomoSimulator(pyomo_model)"
   ]
  },
  {
   "cell_type": "code",
   "execution_count": 14,
   "metadata": {},
   "outputs": [
    {
     "name": "stdout",
     "output_type": "stream",
     "text": [
      "Ipopt 3.12: \n",
      "\n",
      "******************************************************************************\n",
      "This program contains Ipopt, a library for large-scale nonlinear optimization.\n",
      " Ipopt is released as open source code under the Eclipse Public License (EPL).\n",
      "         For more information visit http://projects.coin-or.org/Ipopt\n",
      "******************************************************************************\n",
      "\n",
      "This is Ipopt version 3.12, running with linear solver ma27.\n",
      "\n",
      "Number of nonzeros in equality constraint Jacobian...:     1804\n",
      "Number of nonzeros in inequality constraint Jacobian.:        0\n",
      "Number of nonzeros in Lagrangian Hessian.............:      120\n",
      "\n",
      "Total number of variables............................:      484\n",
      "                     variables with only lower bounds:        0\n",
      "                variables with lower and upper bounds:        0\n",
      "                     variables with only upper bounds:        0\n",
      "Total number of equality constraints.................:      484\n",
      "Total number of inequality constraints...............:        0\n",
      "        inequality constraints with only lower bounds:        0\n",
      "   inequality constraints with lower and upper bounds:        0\n",
      "        inequality constraints with only upper bounds:        0\n",
      "\n",
      "iter    objective    inf_pr   inf_du lg(mu)  ||d||  lg(rg) alpha_du alpha_pr  ls\n",
      "   0  0.0000000e+00 3.00e+00 0.00e+00  -1.0 0.00e+00    -  0.00e+00 0.00e+00   0\n",
      "   1  0.0000000e+00 7.50e-01 0.00e+00  -1.0 1.00e+00    -  1.00e+00 1.00e+00h  1\n",
      "   2  0.0000000e+00 1.41e-01 0.00e+00  -1.7 3.75e-01    -  1.00e+00 1.00e+00h  1\n",
      "   3  0.0000000e+00 1.91e-02 0.00e+00  -2.5 1.06e-01    -  1.00e+00 1.00e+00h  1\n",
      "   4  0.0000000e+00 2.37e-03 0.00e+00  -3.8 6.11e-02    -  1.00e+00 1.00e+00h  1\n",
      "   5  0.0000000e+00 2.18e-05 0.00e+00  -3.8 5.82e-03    -  1.00e+00 1.00e+00h  1\n",
      "   6  0.0000000e+00 5.44e-10 0.00e+00  -5.7 2.43e-05    -  1.00e+00 1.00e+00h  1\n",
      "\n",
      "Number of Iterations....: 6\n",
      "\n",
      "                                   (scaled)                 (unscaled)\n",
      "Objective...............:   0.0000000000000000e+00    0.0000000000000000e+00\n",
      "Dual infeasibility......:   0.0000000000000000e+00    0.0000000000000000e+00\n",
      "Constraint violation....:   5.4423076107008340e-10    5.4423076107008340e-10\n",
      "Complementarity.........:   0.0000000000000000e+00    0.0000000000000000e+00\n",
      "Overall NLP error.......:   5.4423076107008340e-10    5.4423076107008340e-10\n",
      "\n",
      "\n",
      "Number of objective function evaluations             = 7\n",
      "Number of objective gradient evaluations             = 7\n",
      "Number of equality constraint evaluations            = 7\n",
      "Number of inequality constraint evaluations          = 0\n",
      "Number of equality constraint Jacobian evaluations   = 7\n",
      "Number of inequality constraint Jacobian evaluations = 0\n",
      "Number of Lagrangian Hessian evaluations             = 6\n",
      "Total CPU secs in IPOPT (w/o function evaluations)   =      0.004\n",
      "Total CPU secs in NLP function evaluations           =      0.004\n",
      "\n",
      "EXIT: Optimal Solution Found.\n"
     ]
    }
   ],
   "source": [
    "simulator.apply_discretization('dae.collocation', ncp = 2, nfe = 30, scheme = 'LAGRANGE-RADAU')\n",
    "results_pyomo = simulator.run_sim('ipopt',tee=True)"
   ]
  },
  {
   "cell_type": "code",
   "execution_count": 15,
   "metadata": {},
   "outputs": [
    {
     "data": {
      "text/plain": [
       "Text(0.5, 1.0, 'Concentration Profile')"
      ]
     },
     "execution_count": 15,
     "metadata": {},
     "output_type": "execute_result"
    },
    {
     "data": {
      "image/png": "[encoded data removed]",
      "text/plain": [
       "<Figure size 432x288 with 1 Axes>"
      ]
     },
     "metadata": {
      "needs_background": "light"
     },
     "output_type": "display_data"
    }
   ],
   "source": [
    "results_pyomo.Z.plot.line(legend=True)\n",
    "plt.xlabel(\"time (s)\")\n",
    "plt.ylabel(\"Concentration (mol/L)\")\n",
    "plt.title(\"Concentration Profile\")"
   ]
  },
  {
   "cell_type": "code",
   "execution_count": 16,
   "metadata": {},
   "outputs": [],
   "source": [
    "data1 = results_pyomo.Z.copy()"
   ]
  },
  {
   "cell_type": "code",
   "execution_count": 17,
   "metadata": {},
   "outputs": [],
   "source": [
    "data1 = data1.iloc[::5,:]\n",
    "data1.shape\n",
    "data1['A'] = data1['A'] + 0.05 * np.random.normal(0, 1.0, data1.shape[0])\n",
    "data1['B'] = data1['B'] + 0.05 * np.random.normal(0, 1.0, data1.shape[0])\n",
    "data1['C'] = data1['C'] + 0.05 * np.random.normal(0, 1.0, data1.shape[0])\n",
    "data1['D'] = data1['D'] + 0.05 * np.random.normal(0, 1.0, data1.shape[0])"
   ]
  },
  {
   "cell_type": "code",
   "execution_count": 18,
   "metadata": {},
   "outputs": [
    {
     "data": {
      "text/plain": [
       "<matplotlib.legend.Legend at 0x7f3488888e80>"
      ]
     },
     "execution_count": 18,
     "metadata": {},
     "output_type": "execute_result"
    },
    {
     "data": {
      "image/png": "[encoded data removed]",
      "text/plain": [
       "<Figure size 432x288 with 1 Axes>"
      ]
     },
     "metadata": {
      "needs_background": "light"
     },
     "output_type": "display_data"
    }
   ],
   "source": [
    "fig, ax = plt.subplots()\n",
    "for x in ['A', 'B', 'C', 'D']:\n",
    "    ax.scatter(data1.index, data1[x], label = x)\n",
    "ax.legend()"
   ]
  },
  {
   "cell_type": "code",
   "execution_count": 25,
   "metadata": {},
   "outputs": [],
   "source": [
    "data1['T'] = 298"
   ]
  },
  {
   "cell_type": "code",
   "execution_count": 20,
   "metadata": {},
   "outputs": [],
   "source": [
    "data1.to_csv('../my_data_sets/ABCD_cb0_1_T_298.csv')"
   ]
  },
  {
   "cell_type": "code",
   "execution_count": 21,
   "metadata": {},
   "outputs": [],
   "source": [
    "builder = TemplateBuilder()  \n",
    "    \n",
    "builder.add_mixture_component('A',1.0)\n",
    "builder.add_mixture_component('B',2.0)\n",
    "builder.add_mixture_component('C',0.0)\n",
    "builder.add_mixture_component('D',0.0)\n",
    "    \n",
    "builder.add_parameter('k1',0.5)\n",
    "builder.add_parameter('k2',0.5)\n",
    "    \n",
    "def rule_odes(m,t):\n",
    "    exprs = dict()\n",
    "    exprs['A'] = -m.P['k1']*m.Z[t,'A']*m.Z[t,'B']\n",
    "    exprs['B'] = -m.P['k1']*m.Z[t,'A']*m.Z[t,'B']-m.P['k2']*m.Z[t,'B']*m.Z[t,'C']\n",
    "    exprs['C'] = m.P['k1']*m.Z[t,'A']*m.Z[t,'B']-m.P['k2']*m.Z[t,'B']*m.Z[t,'C']\n",
    "    exprs['D'] = m.P['k2']*m.Z[t,'B']*m.Z[t,'C']\n",
    "    return exprs\n",
    "\n",
    "builder.set_odes_rule(rule_odes)"
   ]
  },
  {
   "cell_type": "code",
   "execution_count": 22,
   "metadata": {},
   "outputs": [],
   "source": [
    "pyomo_model = builder.create_pyomo_model(0.0, 15.0)\n",
    "simulator = PyomoSimulator(pyomo_model)"
   ]
  },
  {
   "cell_type": "code",
   "execution_count": 23,
   "metadata": {},
   "outputs": [
    {
     "name": "stdout",
     "output_type": "stream",
     "text": [
      "Ipopt 3.12: \n",
      "\n",
      "******************************************************************************\n",
      "This program contains Ipopt, a library for large-scale nonlinear optimization.\n",
      " Ipopt is released as open source code under the Eclipse Public License (EPL).\n",
      "         For more information visit http://projects.coin-or.org/Ipopt\n",
      "******************************************************************************\n",
      "\n",
      "This is Ipopt version 3.12, running with linear solver ma27.\n",
      "\n",
      "Number of nonzeros in equality constraint Jacobian...:     1804\n",
      "Number of nonzeros in inequality constraint Jacobian.:        0\n",
      "Number of nonzeros in Lagrangian Hessian.............:      120\n",
      "\n",
      "Total number of variables............................:      484\n",
      "                     variables with only lower bounds:        0\n",
      "                variables with lower and upper bounds:        0\n",
      "                     variables with only upper bounds:        0\n",
      "Total number of equality constraints.................:      484\n",
      "Total number of inequality constraints...............:        0\n",
      "        inequality constraints with only lower bounds:        0\n",
      "   inequality constraints with lower and upper bounds:        0\n",
      "        inequality constraints with only upper bounds:        0\n",
      "\n",
      "iter    objective    inf_pr   inf_du lg(mu)  ||d||  lg(rg) alpha_du alpha_pr  ls\n",
      "   0  0.0000000e+00 2.00e+00 0.00e+00  -1.0 0.00e+00    -  0.00e+00 0.00e+00   0\n",
      "   1  0.0000000e+00 4.80e-01 0.00e+00  -1.0 1.00e+00    -  1.00e+00 1.00e+00h  1\n",
      "   2  0.0000000e+00 1.20e-01 0.00e+00  -1.7 6.01e-01    -  1.00e+00 1.00e+00h  1\n",
      "   3  0.0000000e+00 3.00e-02 0.00e+00  -2.5 3.01e-01    -  1.00e+00 1.00e+00h  1\n",
      "   4  0.0000000e+00 4.33e-03 0.00e+00  -2.5 1.26e-01    -  1.00e+00 1.00e+00h  1\n",
      "   5  0.0000000e+00 1.42e-04 0.00e+00  -3.8 1.24e-02    -  1.00e+00 1.00e+00h  1\n",
      "   6  0.0000000e+00 7.85e-10 0.00e+00  -5.7 2.03e-04    -  1.00e+00 1.00e+00h  1\n",
      "\n",
      "Number of Iterations....: 6\n",
      "\n",
      "                                   (scaled)                 (unscaled)\n",
      "Objective...............:   0.0000000000000000e+00    0.0000000000000000e+00\n",
      "Dual infeasibility......:   0.0000000000000000e+00    0.0000000000000000e+00\n",
      "Constraint violation....:   7.8512636756539189e-10    7.8512636756539189e-10\n",
      "Complementarity.........:   0.0000000000000000e+00    0.0000000000000000e+00\n",
      "Overall NLP error.......:   7.8512636756539189e-10    7.8512636756539189e-10\n",
      "\n",
      "\n",
      "Number of objective function evaluations             = 7\n",
      "Number of objective gradient evaluations             = 7\n",
      "Number of equality constraint evaluations            = 7\n",
      "Number of inequality constraint evaluations          = 0\n",
      "Number of equality constraint Jacobian evaluations   = 7\n",
      "Number of inequality constraint Jacobian evaluations = 0\n",
      "Number of Lagrangian Hessian evaluations             = 6\n",
      "Total CPU secs in IPOPT (w/o function evaluations)   =      0.008\n",
      "Total CPU secs in NLP function evaluations           =      0.000\n",
      "\n",
      "EXIT: Optimal Solution Found.\n"
     ]
    }
   ],
   "source": [
    "simulator.apply_discretization('dae.collocation', ncp = 2, nfe = 30, scheme = 'LAGRANGE-RADAU')\n",
    "results_pyomo = simulator.run_sim('ipopt',tee=True)"
   ]
  },
  {
   "cell_type": "code",
   "execution_count": 24,
   "metadata": {},
   "outputs": [
    {
     "data": {
      "text/plain": [
       "Text(0.5, 1.0, 'Concentration Profile')"
      ]
     },
     "execution_count": 24,
     "metadata": {},
     "output_type": "execute_result"
    },
    {
     "data": {
      "image/png": "[encoded data removed]",
      "text/plain": [
       "<Figure size 432x288 with 1 Axes>"
      ]
     },
     "metadata": {
      "needs_background": "light"
     },
     "output_type": "display_data"
    }
   ],
   "source": [
    "results_pyomo.Z.plot.line(legend=True)\n",
    "plt.xlabel(\"time (s)\")\n",
    "plt.ylabel(\"Concentration (mol/L)\")\n",
    "plt.title(\"Concentration Profile\")"
   ]
  },
  {
   "cell_type": "code",
   "execution_count": 26,
   "metadata": {},
   "outputs": [],
   "source": [
    "data1 = results_pyomo.Z.copy()\n",
    "\n",
    "data1 = data1.iloc[::5,:]\n",
    "data1.shape\n",
    "data1['A'] = data1['A'] + 0.05 * np.random.normal(0, 1.0, data1.shape[0])\n",
    "data1['B'] = data1['B'] + 0.05 * np.random.normal(0, 1.0, data1.shape[0])\n",
    "data1['C'] = data1['C'] + 0.05 * np.random.normal(0, 1.0, data1.shape[0])\n",
    "data1['D'] = data1['D'] + 0.05 * np.random.normal(0, 1.0, data1.shape[0])"
   ]
  },
  {
   "cell_type": "code",
   "execution_count": 28,
   "metadata": {},
   "outputs": [],
   "source": [
    "data1['T'] = 273"
   ]
  },
  {
   "cell_type": "code",
   "execution_count": 29,
   "metadata": {},
   "outputs": [],
   "source": [
    "data1.to_csv('../my_data_sets/ABCD_cb0_1_T_273.csv')"
   ]
  },
  {
   "cell_type": "code",
   "execution_count": null,
   "metadata": {},
   "outputs": [],
   "source": []
  }
 ],
 "metadata": {
  "kernelspec": {
   "display_name": "Python 3",
   "language": "python",
   "name": "python3"
  },
  "language_info": {
   "codemirror_mode": {
    "name": "ipython",
    "version": 3
   },
   "file_extension": ".py",
   "mimetype": "text/x-python",
   "name": "python",
   "nbconvert_exporter": "python",
   "pygments_lexer": "ipython3",
   "version": "3.7.3"
  }
 },
 "nbformat": 4,
 "nbformat_minor": 2
}
