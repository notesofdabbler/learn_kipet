{
 "cells": [
  {
   "cell_type": "code",
   "execution_count": 1,
   "metadata": {},
   "outputs": [],
   "source": [
    "#\n",
    "# Working through the example from\n",
    "# https://github.com/kwmcbride/kipet/blob/new_data/kipet/new_examples/Ex_7_concentration_input.py\n",
    "#"
   ]
  },
  {
   "cell_type": "code",
   "execution_count": 2,
   "metadata": {},
   "outputs": [],
   "source": [
    "import sys\n",
    "from kipet import KipetModel\n",
    "\n",
    "import matplotlib.pyplot as plt"
   ]
  },
  {
   "cell_type": "code",
   "execution_count": 3,
   "metadata": {},
   "outputs": [
    {
     "name": "stdout",
     "output_type": "stream",
     "text": [
      "Warning: Component A variance not provided\n",
      "Warning: Component B variance not provided\n",
      "Warning: Component C variance not provided\n"
     ]
    }
   ],
   "source": [
    "kipet_model = KipetModel()\n",
    "\n",
    "r1 = kipet_model.new_reaction('reaction-1')   \n",
    "\n",
    "# Add the model parameters\n",
    "r1.add_parameter('k1', init=2.0, bounds=(0.0, 5.0))\n",
    "r1.add_parameter('k2', init=0.2, bounds=(0.0, 2.0))\n",
    "\n",
    "# Declare the components and give the initial values\n",
    "r1.add_component('A', state='concentration', init=0.001)\n",
    "r1.add_component('B', state='concentration', init=0.0)\n",
    "r1.add_component('C', state='concentration', init=0.0)"
   ]
  },
  {
   "cell_type": "code",
   "execution_count": 4,
   "metadata": {},
   "outputs": [
    {
     "name": "stdout",
     "output_type": "stream",
     "text": [
      "the dir is: /home/paperspace/learn_kipet/data_sets\n",
      "/home/paperspace/learn_kipet/data_sets/Ex_1_C_data.txt\n"
     ]
    },
    {
     "data": {
      "text/plain": [
       "PosixPath('/home/paperspace/learn_kipet/data_sets/Ex_1_C_data.txt')"
      ]
     },
     "execution_count": 4,
     "metadata": {},
     "output_type": "execute_result"
    }
   ],
   "source": [
    "# Use this function to replace the old filename set-up\n",
    "filename = r1.set_directory('Ex_1_C_data.txt')\n",
    "filename"
   ]
  },
  {
   "cell_type": "code",
   "execution_count": 5,
   "metadata": {},
   "outputs": [
    {
     "name": "stdout",
     "output_type": "stream",
     "text": [
      "the dir is: /home/paperspace/learn_kipet/data_sets\n",
      "/home/paperspace/learn_kipet/data_sets/Ex_1_C_data.txt\n",
      "read dir : /home/paperspace/learn_kipet/data_sets/Ex_1_C_data.txt\n"
     ]
    }
   ],
   "source": [
    "r1.add_dataset('C_data', category='concentration', file=filename)"
   ]
  },
  {
   "cell_type": "code",
   "execution_count": 7,
   "metadata": {},
   "outputs": [],
   "source": [
    "#filename = '/home/paperspace/learn_kipet/data_sets/Ex_1_C_data.txt'"
   ]
  },
  {
   "cell_type": "code",
   "execution_count": 8,
   "metadata": {},
   "outputs": [
    {
     "name": "stdout",
     "output_type": "stream",
     "text": [
      "/home/paperspace/my_pyenvs/kipetenv/lib/python3.7/site-packages\n",
      "read dir : /home/paperspace/learn_kipet/data_sets/Ex_1_C_data.txt\n"
     ]
    }
   ],
   "source": [
    "#r1.add_dataset('C_data', category='concentration', file=filename)"
   ]
  },
  {
   "cell_type": "code",
   "execution_count": 6,
   "metadata": {},
   "outputs": [],
   "source": [
    "# Define the reaction model\n",
    "def rule_odes(m,t):\n",
    "    exprs = dict()\n",
    "    exprs['A'] = -m.P['k1']*m.Z[t,'A']\n",
    "    exprs['B'] = m.P['k1']*m.Z[t,'A']-m.P['k2']*m.Z[t,'B']\n",
    "    exprs['C'] = m.P['k2']*m.Z[t,'B']\n",
    "    return exprs \n",
    "\n",
    "r1.add_equations(rule_odes)"
   ]
  },
  {
   "cell_type": "code",
   "execution_count": 7,
   "metadata": {},
   "outputs": [],
   "source": [
    "# Settings\n",
    "r1.settings.collocation.nfe = 60"
   ]
  },
  {
   "cell_type": "code",
   "execution_count": 8,
   "metadata": {},
   "outputs": [
    {
     "name": "stdout",
     "output_type": "stream",
     "text": [
      "0 9.9687\n",
      "WARNING: DEPRECATED: The default domain for Param objects is 'Any'.  However,\n",
      "    we will be changing that default to 'Reals' in the future.  If you really\n",
      "    intend the domain of this Param (sigma) to be 'Any', you can suppress this\n",
      "    warning by explicitly specifying 'within=Any' to the Param constructor.\n",
      "    (deprecated in 5.6.9, will be removed in 6.0) (called from\n",
      "    /home/paperspace/my_pyenvs/kipetenv/lib/python3.7/site-\n",
      "    packages/Pyomo-5.7.1-py3.7-linux-x86_64.egg/pyomo/core/base/param.py:640)\n",
      "WARNING: DEPRECATED: The default domain for Param objects is 'Any'.  However,\n",
      "    we will be changing that default to 'Reals' in the future.  If you really\n",
      "    intend the domain of this Param (sigma) to be 'Any', you can suppress this\n",
      "    warning by explicitly specifying 'within=Any' to the Param constructor.\n",
      "    (deprecated in 5.6.9, will be removed in 6.0) (called from\n",
      "    /home/paperspace/my_pyenvs/kipetenv/lib/python3.7/site-\n",
      "    packages/Pyomo-5.7.1-py3.7-linux-x86_64.egg/pyomo/core/base/param.py:640)\n",
      "WARNING: DEPRECATED: The default domain for Param objects is 'Any'.  However,\n",
      "    we will be changing that default to 'Reals' in the future.  If you really\n",
      "    intend the domain of this Param (sigma) to be 'Any', you can suppress this\n",
      "    warning by explicitly specifying 'within=Any' to the Param constructor.\n",
      "    (deprecated in 5.6.9, will be removed in 6.0) (called from\n",
      "    /home/paperspace/my_pyenvs/kipetenv/lib/python3.7/site-\n",
      "    packages/Pyomo-5.7.1-py3.7-linux-x86_64.egg/pyomo/core/base/param.py:640)\n",
      "No variance information for A found, setting equal to unity\n",
      "No variance information for B found, setting equal to unity\n",
      "No variance information for C found, setting equal to unity\n",
      "WARNING: More finite elements were found in ContinuousSet 'alltime' than the\n",
      "    number of finite elements specified in apply. The larger number of finite\n",
      "    elements will be used.\n",
      "Ipopt 3.12: nlp_scaling_method=user-scaling\n",
      "linear_solver=ma27\n",
      "\n",
      "\n",
      "******************************************************************************\n",
      "This program contains Ipopt, a library for large-scale nonlinear optimization.\n",
      " Ipopt is released as open source code under the Eclipse Public License (EPL).\n",
      "         For more information visit http://projects.coin-or.org/Ipopt\n",
      "******************************************************************************\n",
      "\n",
      "This is Ipopt version 3.12, running with linear solver ma27.\n",
      "\n",
      "Number of nonzeros in equality constraint Jacobian...:    23325\n",
      "Number of nonzeros in inequality constraint Jacobian.:        0\n",
      "Number of nonzeros in Lagrangian Hessian.............:     2694\n",
      "\n",
      "Total number of variables............................:     5387\n",
      "                     variables with only lower bounds:        0\n",
      "                variables with lower and upper bounds:        2\n",
      "                     variables with only upper bounds:        0\n",
      "Total number of equality constraints.................:     5385\n",
      "Total number of inequality constraints...............:        0\n",
      "        inequality constraints with only lower bounds:        0\n",
      "   inequality constraints with lower and upper bounds:        0\n",
      "        inequality constraints with only upper bounds:        0\n",
      "\n",
      "iter    objective    inf_pr   inf_du lg(mu)  ||d||  lg(rg) alpha_du alpha_pr  ls\n",
      "   0  5.9963873e+02 1.00e+00 2.84e-01  -1.0 0.00e+00    -  0.00e+00 0.00e+00   0\n",
      "   1  1.9714036e-04 6.34e-04 3.65e-01  -1.0 1.00e+00    -  8.23e-01 1.00e+00f  1\n",
      "   2  8.5376826e-05 3.27e-05 1.67e-02  -1.7 1.17e-01    -  1.00e+00 1.00e+00h  1\n",
      "   3  8.6804699e-05 3.24e-05 2.97e-04  -2.5 1.46e-01    -  1.00e+00 1.00e+00h  1\n",
      "   4  8.1750352e-05 2.03e-06 2.33e-05  -3.8 2.92e-02    -  1.00e+00 1.00e+00h  1\n",
      "   5  7.9772845e-05 6.81e-06 5.36e-06  -5.7 2.11e-01    -  9.31e-01 1.00e+00h  1\n",
      "   6  7.8402037e-05 2.00e-06 1.03e-05  -5.7 1.03e-01  -4.0 1.00e+00 1.00e+00h  1\n",
      "   7  7.4059920e-05 2.80e-05 2.87e-05  -8.6 4.14e-01  -4.5 8.69e-01 1.00e+00h  1\n",
      "   8  7.0219714e-05 9.24e-06 1.77e-05  -8.6 1.98e-01  -4.1 9.94e-01 1.00e+00h  1\n",
      "   9  4.9367924e-05 4.84e-04 5.81e-04  -8.6 1.48e+00  -4.5 1.00e+00 1.00e+00h  1\n",
      "iter    objective    inf_pr   inf_du lg(mu)  ||d||  lg(rg) alpha_du alpha_pr  ls\n",
      "  10  2.2470173e-05 4.98e-04 5.12e-04  -8.6 2.05e+01  -4.1 7.18e-02 9.44e-03h  1\n",
      "  11  3.0032705e-05 2.49e-04 1.05e-03  -8.6 5.09e-01    -  3.56e-04 5.00e-01h  2\n",
      "  12  1.4958998e-05 1.36e-04 8.53e-04  -8.6 5.39e-01  -4.6 1.00e+00 1.00e+00h  1\n",
      "  13  1.7434519e-07 2.22e-05 8.03e-05  -8.6 2.05e-01    -  7.32e-01 1.00e+00h  1\n",
      "  14  3.3977390e-08 7.41e-07 3.34e-06  -8.6 3.73e-02    -  1.00e+00 1.00e+00h  1\n",
      "  15  3.4291011e-08 6.64e-10 2.08e-09  -8.6 8.84e-04    -  1.00e+00 1.00e+00h  1\n",
      "\n",
      "Number of Iterations....: 15\n",
      "\n",
      "                                   (scaled)                 (unscaled)\n",
      "Objective...............:   3.4291011117216177e-08    3.4291011117216177e-08\n",
      "Dual infeasibility......:   2.0843528033518159e-09    2.0843528033518159e-09\n",
      "Constraint violation....:   6.6432962055956523e-10    6.6432962055956523e-10\n",
      "Complementarity.........:   2.5059034511002371e-09    2.5059034511002371e-09\n",
      "Overall NLP error.......:   2.5059034511002371e-09    2.5059034511002371e-09\n",
      "\n",
      "\n",
      "Number of objective function evaluations             = 18\n",
      "Number of objective gradient evaluations             = 16\n",
      "Number of equality constraint evaluations            = 18\n",
      "Number of inequality constraint evaluations          = 0\n",
      "Number of equality constraint Jacobian evaluations   = 16\n",
      "Number of inequality constraint Jacobian evaluations = 0\n",
      "Number of Lagrangian Hessian evaluations             = 15\n",
      "Total CPU secs in IPOPT (w/o function evaluations)   =      0.200\n",
      "Total CPU secs in NLP function evaluations           =      0.020\n",
      "\n",
      "EXIT: Optimal Solution Found.\n"
     ]
    },
    {
     "data": {
      "text/plain": [
       "\n",
       "RESULTS\n",
       "Z:\n",
       "                  A         B             C\n",
       "0.000000  0.001000  0.000000  0.000000e+00\n",
       "0.005163  0.000999  0.000001  3.054340e-09\n",
       "0.021477  0.000995  0.000005  5.248336e-08\n",
       "0.033300  0.000993  0.000007  1.255593e-07\n",
       "0.038479  0.000991  0.000008  1.672911e-07\n",
       "...            ...       ...           ...\n",
       "9.923477  0.000107  0.000030  8.625364e-04\n",
       "9.935300  0.000107  0.000030  8.629017e-04\n",
       "9.940479  0.000107  0.000030  8.630613e-04\n",
       "9.956841  0.000106  0.000030  8.635646e-04\n",
       "9.968700  0.000106  0.000030  8.639282e-04\n",
       "\n",
       "[898 rows x 3 columns]\n",
       "\n",
       "Cm:\n",
       "                A         B         C\n",
       "0.0000  0.001027  0.000000  0.000013\n",
       "0.0333  0.001015  0.000002  0.000021\n",
       "0.0667  0.001007  0.000013  0.000018\n",
       "0.1000  0.000993  0.000025  0.000014\n",
       "0.1334  0.000982  0.000035  0.000012\n",
       "...          ...       ...       ...\n",
       "9.8353  0.000103  0.000043  0.000859\n",
       "9.8686  0.000104  0.000042  0.000857\n",
       "9.9020  0.000103  0.000041  0.000859\n",
       "9.9353  0.000101  0.000043  0.000860\n",
       "9.9687  0.000103  0.000038  0.000863\n",
       "\n",
       "[300 rows x 3 columns]\n",
       "\n",
       "dZdt:\n",
       "                  A         B         C\n",
       "0.000000  0.000000  0.000000  0.000000\n",
       "0.005163 -0.000225  0.000224  0.000001\n",
       "0.021477 -0.000224  0.000219  0.000005\n",
       "0.033300 -0.000223  0.000216  0.000007\n",
       "0.038479 -0.000223  0.000215  0.000009\n",
       "...            ...       ...       ...\n",
       "9.923477 -0.000024 -0.000007  0.000031\n",
       "9.935300 -0.000024 -0.000007  0.000031\n",
       "9.940479 -0.000024 -0.000007  0.000031\n",
       "9.956841 -0.000024 -0.000007  0.000031\n",
       "9.968700 -0.000024 -0.000007  0.000031\n",
       "\n",
       "[898 rows x 3 columns]\n",
       "\n",
       "P:\n",
       " {'k1': 0.22508232435938366, 'k2': 1.020094687930803}\n"
      ]
     },
     "execution_count": 8,
     "metadata": {},
     "output_type": "execute_result"
    }
   ],
   "source": [
    "# Run KIPET\n",
    "r1.settings.solver.linear_solver = 'ma27'\n",
    "r1.run_opt() "
   ]
  },
  {
   "cell_type": "code",
   "execution_count": 13,
   "metadata": {},
   "outputs": [
    {
     "name": "stdout",
     "output_type": "stream",
     "text": [
      "\n",
      "The estimated parameters are:\n",
      "k1 0.22508232435938366\n",
      "k2 1.020094687930803\n"
     ]
    }
   ],
   "source": [
    "# Display the results\n",
    "r1.results.show_parameters"
   ]
  },
  {
   "cell_type": "code",
   "execution_count": 9,
   "metadata": {},
   "outputs": [
    {
     "name": "stdout",
     "output_type": "stream",
     "text": [
      "Plot saved as: /home/paperspace/learn_kipet/charts/chart_9384.html\n"
     ]
    }
   ],
   "source": [
    "r1.results.plot()"
   ]
  },
  {
   "cell_type": "code",
   "execution_count": 10,
   "metadata": {},
   "outputs": [
    {
     "data": {
      "image/png": "[encoded data removed]",
      "text/plain": [
       "<Figure size 432x288 with 1 Axes>"
      ]
     },
     "metadata": {
      "needs_background": "light"
     },
     "output_type": "display_data"
    }
   ],
   "source": [
    "fig, ax = plt.subplots()\n",
    "for c in ['A','B','C']:\n",
    "    ax.plot(r1.results.Z.index, r1.results.Z[c])\n",
    "    ax.scatter(r1.results.Cm.index, r1.results.Cm[c])"
   ]
  },
  {
   "cell_type": "code",
   "execution_count": null,
   "metadata": {},
   "outputs": [],
   "source": []
  }
 ],
 "metadata": {
  "kernelspec": {
   "display_name": "Python 3",
   "language": "python",
   "name": "python3"
  },
  "language_info": {
   "codemirror_mode": {
    "name": "ipython",
    "version": 3
   },
   "file_extension": ".py",
   "mimetype": "text/x-python",
   "name": "python",
   "nbconvert_exporter": "python",
   "pygments_lexer": "ipython3",
   "version": "3.7.3"
  }
 },
 "nbformat": 4,
 "nbformat_minor": 4
}
