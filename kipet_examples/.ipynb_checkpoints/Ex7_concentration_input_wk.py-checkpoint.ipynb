{
 "cells": [
  {
   "cell_type": "code",
   "execution_count": 1,
   "metadata": {},
   "outputs": [],
   "source": [
    "#\n",
    "# Working through the example from\n",
    "# https://github.com/salvadorgarciamunoz/kipet/blob/master/kipet/examples/Ex_7_concentration_input.py\n",
    "#"
   ]
  },
  {
   "cell_type": "code",
   "execution_count": 2,
   "metadata": {},
   "outputs": [],
   "source": [
    "from __future__ import print_function\n",
    "from kipet.library.TemplateBuilder import *\n",
    "from kipet.library.PyomoSimulator import *\n",
    "from kipet.library.ParameterEstimator import *\n",
    "from kipet.library.VarianceEstimator import *\n",
    "from kipet.library.data_tools import *\n",
    "import matplotlib.pyplot as plt\n",
    "import os\n",
    "import sys\n",
    "import inspect\n",
    "import six\n",
    "import pandas as pd"
   ]
  },
  {
   "cell_type": "code",
   "execution_count": 24,
   "metadata": {},
   "outputs": [],
   "source": [
    "filename = '../data_sets/Ex_1_C_data.txt'\n",
    "C_frame = read_concentration_data_from_txt(filename)"
   ]
  },
  {
   "cell_type": "code",
   "execution_count": 25,
   "metadata": {},
   "outputs": [
    {
     "data": {
      "text/html": [
       "<div>\n",
       "<style scoped>\n",
       "    .dataframe tbody tr th:only-of-type {\n",
       "        vertical-align: middle;\n",
       "    }\n",
       "\n",
       "    .dataframe tbody tr th {\n",
       "        vertical-align: top;\n",
       "    }\n",
       "\n",
       "    .dataframe thead th {\n",
       "        text-align: right;\n",
       "    }\n",
       "</style>\n",
       "<table border=\"1\" class=\"dataframe\">\n",
       "  <thead>\n",
       "    <tr style=\"text-align: right;\">\n",
       "      <th></th>\n",
       "      <th>C</th>\n",
       "      <th>B</th>\n",
       "      <th>A</th>\n",
       "    </tr>\n",
       "  </thead>\n",
       "  <tbody>\n",
       "    <tr>\n",
       "      <th>0.0000</th>\n",
       "      <td>0.000013</td>\n",
       "      <td>0.000000</td>\n",
       "      <td>0.001027</td>\n",
       "    </tr>\n",
       "    <tr>\n",
       "      <th>0.0333</th>\n",
       "      <td>0.000021</td>\n",
       "      <td>0.000002</td>\n",
       "      <td>0.001015</td>\n",
       "    </tr>\n",
       "    <tr>\n",
       "      <th>0.0667</th>\n",
       "      <td>0.000018</td>\n",
       "      <td>0.000013</td>\n",
       "      <td>0.001007</td>\n",
       "    </tr>\n",
       "    <tr>\n",
       "      <th>0.1000</th>\n",
       "      <td>0.000014</td>\n",
       "      <td>0.000025</td>\n",
       "      <td>0.000993</td>\n",
       "    </tr>\n",
       "    <tr>\n",
       "      <th>0.1334</th>\n",
       "      <td>0.000012</td>\n",
       "      <td>0.000035</td>\n",
       "      <td>0.000982</td>\n",
       "    </tr>\n",
       "    <tr>\n",
       "      <th>...</th>\n",
       "      <td>...</td>\n",
       "      <td>...</td>\n",
       "      <td>...</td>\n",
       "    </tr>\n",
       "    <tr>\n",
       "      <th>9.8353</th>\n",
       "      <td>0.000859</td>\n",
       "      <td>0.000043</td>\n",
       "      <td>0.000103</td>\n",
       "    </tr>\n",
       "    <tr>\n",
       "      <th>9.8686</th>\n",
       "      <td>0.000857</td>\n",
       "      <td>0.000042</td>\n",
       "      <td>0.000104</td>\n",
       "    </tr>\n",
       "    <tr>\n",
       "      <th>9.9020</th>\n",
       "      <td>0.000859</td>\n",
       "      <td>0.000041</td>\n",
       "      <td>0.000103</td>\n",
       "    </tr>\n",
       "    <tr>\n",
       "      <th>9.9353</th>\n",
       "      <td>0.000860</td>\n",
       "      <td>0.000043</td>\n",
       "      <td>0.000101</td>\n",
       "    </tr>\n",
       "    <tr>\n",
       "      <th>9.9687</th>\n",
       "      <td>0.000863</td>\n",
       "      <td>0.000038</td>\n",
       "      <td>0.000103</td>\n",
       "    </tr>\n",
       "  </tbody>\n",
       "</table>\n",
       "<p>300 rows × 3 columns</p>\n",
       "</div>"
      ],
      "text/plain": [
       "               C         B         A\n",
       "0.0000  0.000013  0.000000  0.001027\n",
       "0.0333  0.000021  0.000002  0.001015\n",
       "0.0667  0.000018  0.000013  0.001007\n",
       "0.1000  0.000014  0.000025  0.000993\n",
       "0.1334  0.000012  0.000035  0.000982\n",
       "...          ...       ...       ...\n",
       "9.8353  0.000859  0.000043  0.000103\n",
       "9.8686  0.000857  0.000042  0.000104\n",
       "9.9020  0.000859  0.000041  0.000103\n",
       "9.9353  0.000860  0.000043  0.000101\n",
       "9.9687  0.000863  0.000038  0.000103\n",
       "\n",
       "[300 rows x 3 columns]"
      ]
     },
     "execution_count": 25,
     "metadata": {},
     "output_type": "execute_result"
    }
   ],
   "source": [
    "C_frame_full"
   ]
  },
  {
   "cell_type": "code",
   "execution_count": 17,
   "metadata": {},
   "outputs": [
    {
     "data": {
      "text/plain": [
       "<matplotlib.legend.Legend at 0x1295c95d0>"
      ]
     },
     "execution_count": 17,
     "metadata": {},
     "output_type": "execute_result"
    },
    {
     "data": {
      "image/png": "[encoded data removed]",
      "text/plain": [
       "<Figure size 432x288 with 1 Axes>"
      ]
     },
     "metadata": {
      "needs_background": "light"
     },
     "output_type": "display_data"
    }
   ],
   "source": [
    "fig, ax = plt.subplots()\n",
    "ax.scatter(C_frame.index, C_frame['A'], label = 'A')\n",
    "ax.scatter(C_frame.index, C_frame['B'], label = 'B')\n",
    "ax.scatter(C_frame.index, C_frame['C'], label = 'C')\n",
    "ax.legend()"
   ]
  },
  {
   "cell_type": "code",
   "execution_count": 18,
   "metadata": {},
   "outputs": [],
   "source": [
    "builder = TemplateBuilder()    \n",
    "components = {'A':1e-3,'B':0,'C':0}\n",
    "builder.add_mixture_component(components)\n",
    "builder.add_parameter('k1',bounds=(0.0,5.0))\n",
    "builder.add_parameter('k2',bounds=(0.0,1.0))\n",
    "builder.add_concentration_data(C_frame)"
   ]
  },
  {
   "cell_type": "code",
   "execution_count": 19,
   "metadata": {},
   "outputs": [
    {
     "name": "stdout",
     "output_type": "stream",
     "text": [
      "initial values: 0.0, C\n",
      "initial values: 0.0, B\n",
      "initial values: 0.0, A\n"
     ]
    }
   ],
   "source": [
    "# define explicit system of ODEs\n",
    "def rule_odes(m,t):\n",
    "    exprs = dict()\n",
    "    exprs['A'] = -m.P['k1']*m.Z[t,'A']\n",
    "    exprs['B'] = m.P['k1']*m.Z[t,'A']-m.P['k2']*m.Z[t,'B']\n",
    "    exprs['C'] = m.P['k2']*m.Z[t,'B']\n",
    "    return exprs\n",
    "    \n",
    "builder.set_odes_rule(rule_odes)\n",
    "opt_model = builder.create_pyomo_model(0.0,10.0)"
   ]
  },
  {
   "cell_type": "code",
   "execution_count": 10,
   "metadata": {},
   "outputs": [],
   "source": [
    "sigmas = {'A':1e-10,'B':1e-11,'C':1e-10}"
   ]
  },
  {
   "cell_type": "code",
   "execution_count": 11,
   "metadata": {},
   "outputs": [],
   "source": [
    "# and define our parameter estimation problem and discretization strategy\n",
    "p_estimator = ParameterEstimator(opt_model)\n",
    "p_estimator.apply_discretization('dae.collocation',nfe=60,ncp=3,scheme='LAGRANGE-RADAU')"
   ]
  },
  {
   "cell_type": "code",
   "execution_count": 14,
   "metadata": {},
   "outputs": [],
   "source": [
    "# Again we provide options for the solver, this time providing the scaling that we set above\n",
    "options = dict()\n",
    "#options['nlp_scaling_method'] = 'user-scaling'\n",
    "options['linear_solver'] = 'ma27'"
   ]
  },
  {
   "cell_type": "code",
   "execution_count": 15,
   "metadata": {},
   "outputs": [
    {
     "name": "stdout",
     "output_type": "stream",
     "text": [
      "WARNING: The model has an active objective. Running optimization with models objective.\n",
      " To solve optimization with default objective (Weifengs) deactivate all objectives in the model.\n",
      "Ipopt 3.13.2: linear_solver=ma27\n",
      "\n",
      "\n",
      "******************************************************************************\n",
      "This program contains Ipopt, a library for large-scale nonlinear optimization.\n",
      " Ipopt is released as open source code under the Eclipse Public License (EPL).\n",
      "         For more information visit http://projects.coin-or.org/Ipopt\n",
      "******************************************************************************\n",
      "\n",
      "This is Ipopt version 3.13.2, running with linear solver ma27.\n",
      "\n",
      "Number of nonzeros in equality constraint Jacobian...:     4683\n",
      "Number of nonzeros in inequality constraint Jacobian.:        0\n",
      "Number of nonzeros in Lagrangian Hessian.............:      450\n",
      "\n",
      "Total number of variables............................:     1085\n",
      "                     variables with only lower bounds:        0\n",
      "                variables with lower and upper bounds:        2\n",
      "                     variables with only upper bounds:        0\n",
      "Total number of equality constraints.................:     1083\n",
      "Total number of inequality constraints...............:        0\n",
      "        inequality constraints with only lower bounds:        0\n",
      "   inequality constraints with lower and upper bounds:        0\n",
      "        inequality constraints with only upper bounds:        0\n",
      "\n",
      "iter    objective    inf_pr   inf_du lg(mu)  ||d||  lg(rg) alpha_du alpha_pr  ls\n",
      "   0  3.2991787e+12 1.00e+00 2.00e+03  -1.0 0.00e+00    -  0.00e+00 0.00e+00   0\n",
      "   1  1.9918344e+05 2.29e-05 2.37e-03  -1.0 1.00e+00    -  1.00e+00 1.00e+00f  1\n",
      "   2  2.0238130e+05 1.27e-07 1.32e-04  -2.5 7.80e-03    -  1.00e+00 1.00e+00h  1\n",
      "   3  1.7757852e+05 1.67e-05 4.57e-03  -3.8 3.37e-01    -  9.30e-01 1.00e+00h  1\n",
      "   4  1.4888973e+05 2.13e-04 2.98e-02  -3.8 1.56e+01  -4.0 1.00e+00 6.90e-02h  2\n",
      "   5  7.8247275e+04 1.14e-04 1.68e-02  -3.8 4.65e-01    -  1.00e+00 1.00e+00h  1\n",
      "   6  4.6462556e+04 1.57e-04 1.50e-02  -3.8 4.54e+00    -  9.75e-01 6.73e-02h  2\n",
      "   7  7.6484959e+03 1.05e-05 3.04e-03  -3.8 4.17e-02    -  1.00e+00 1.00e+00h  1\n",
      "   8  4.7691354e+03 7.61e-07 3.16e-04  -3.8 1.68e-02    -  1.00e+00 1.00e+00h  1\n",
      "   9  1.9479487e+03 1.70e-06 1.32e-03  -5.7 6.72e-02    -  9.27e-01 1.00e+00h  1\n",
      "iter    objective    inf_pr   inf_du lg(mu)  ||d||  lg(rg) alpha_du alpha_pr  ls\n",
      "  10  8.3573423e+02 1.03e-06 8.43e-04  -5.7 8.09e-02    -  1.00e+00 1.00e+00h  1\n",
      "  11  4.8769573e+02 3.64e-07 2.34e-04  -5.7 5.13e-02    -  1.00e+00 1.00e+00h  1\n",
      "  12  4.1023762e+02 4.29e-08 2.64e-05  -5.7 1.85e-02    -  1.00e+00 1.00e+00h  1\n",
      "  13  4.0079906e+02 8.47e-10 5.19e-07  -5.7 2.61e-03    -  1.00e+00 1.00e+00h  1\n",
      "  14  3.2250638e+02 8.21e-08 5.47e-05  -8.6 2.42e-02    -  9.77e-01 1.00e+00h  1\n",
      "  15  2.9673145e+02 2.29e-08 1.43e-05  -8.6 1.34e-02    -  1.00e+00 1.00e+00h  1\n",
      "  16  2.8926797e+02 3.49e-09 2.16e-06  -8.6 5.27e-03    -  1.00e+00 1.00e+00h  1\n",
      "  17  2.8795086e+02 1.39e-10 8.57e-08  -8.6 1.05e-03    -  1.00e+00 1.00e+00h  1\n",
      "  18  2.8789549e+02 2.57e-13 1.58e-10  -8.6 4.52e-05    -  1.00e+00 1.00e+00h  1\n",
      "  19  2.8764814e+02 5.05e-12 3.17e-09 -12.9 1.98e-04    -  1.00e+00 1.00e+00h  1\n",
      "iter    objective    inf_pr   inf_du lg(mu)  ||d||  lg(rg) alpha_du alpha_pr  ls\n",
      "  20  2.8764596e+02 4.03e-16 2.49e-13 -12.9 1.79e-06    -  1.00e+00 1.00e+00h  1\n",
      "\n",
      "Number of Iterations....: 20\n",
      "\n",
      "                                   (scaled)                 (unscaled)\n",
      "Objective...............:   2.8764596238996918e-06    2.8764596238996916e+02\n",
      "Dual infeasibility......:   2.4925894681615546e-13    2.4925894681615546e-05\n",
      "Constraint violation....:   4.0345873343616834e-16    4.0345873343616834e-16\n",
      "Complementarity.........:   1.2713988604805355e-13    1.2713988604805356e-05\n",
      "Overall NLP error.......:   2.4925894681615546e-13    2.4925894681615546e-05\n",
      "\n",
      "\n",
      "Number of objective function evaluations             = 25\n",
      "Number of objective gradient evaluations             = 21\n",
      "Number of equality constraint evaluations            = 25\n",
      "Number of inequality constraint evaluations          = 0\n",
      "Number of equality constraint Jacobian evaluations   = 21\n",
      "Number of inequality constraint Jacobian evaluations = 0\n",
      "Number of Lagrangian Hessian evaluations             = 20\n",
      "Total CPU secs in IPOPT (w/o function evaluations)   =      0.027\n",
      "Total CPU secs in NLP function evaluations           =      0.004\n",
      "\n",
      "EXIT: Optimal Solution Found.\n"
     ]
    }
   ],
   "source": [
    "# finally we run the optimization\n",
    "results_pyomo = p_estimator.run_opt('ipopt',\n",
    "                                        variances=sigmas,\n",
    "                                      tee=True,\n",
    "                                   solver_opts = options)"
   ]
  },
  {
   "cell_type": "code",
   "execution_count": null,
   "metadata": {},
   "outputs": [],
   "source": []
  }
 ],
 "metadata": {
  "kernelspec": {
   "display_name": "Python 3",
   "language": "python",
   "name": "python3"
  },
  "language_info": {
   "codemirror_mode": {
    "name": "ipython",
    "version": 3
   },
   "file_extension": ".py",
   "mimetype": "text/x-python",
   "name": "python",
   "nbconvert_exporter": "python",
   "pygments_lexer": "ipython3",
   "version": "3.7.7"
  }
 },
 "nbformat": 4,
 "nbformat_minor": 4
}
