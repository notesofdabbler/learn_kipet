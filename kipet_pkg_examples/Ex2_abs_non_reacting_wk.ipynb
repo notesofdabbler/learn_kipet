{
 "cells": [
  {
   "cell_type": "code",
   "execution_count": 1,
   "id": "overhead-antibody",
   "metadata": {},
   "outputs": [],
   "source": [
    "# https://github.com/kwmcbride/kipet_examples/blob/master/examples/example_2/Ex_2_abs_non_reacting.py"
   ]
  },
  {
   "cell_type": "code",
   "execution_count": 2,
   "id": "shaped-closure",
   "metadata": {},
   "outputs": [],
   "source": [
    "import sys\n",
    "import numpy as np\n",
    "import kipet"
   ]
  },
  {
   "cell_type": "code",
   "execution_count": null,
   "id": "quantitative-absence",
   "metadata": {},
   "outputs": [],
   "source": []
  }
 ],
 "metadata": {
  "kernelspec": {
   "display_name": "Python 3",
   "language": "python",
   "name": "python3"
  },
  "language_info": {
   "codemirror_mode": {
    "name": "ipython",
    "version": 3
   },
   "file_extension": ".py",
   "mimetype": "text/x-python",
   "name": "python",
   "nbconvert_exporter": "python",
   "pygments_lexer": "ipython3",
   "version": "3.8.8"
  }
 },
 "nbformat": 4,
 "nbformat_minor": 5
}
