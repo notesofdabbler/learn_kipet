{
 "cells": [
  {
   "cell_type": "markdown",
   "metadata": {},
   "source": [
    "## Parameter Fitting to a Simple Series Reaction\n",
    "\n",
    "jbr book reference: [Figure A.10](https://sites.engineering.ucsb.edu/~jbraw/chemreacfun/fig-html/appendix/fig-A-10.html)\n",
    "\n",
    "Reaction is $A \\xrightarrow[]{k_1} B \\xrightarrow[]{k_2} C$\n",
    "\n",
    "Data simulated for $A$, $B$, and $C$ over time (with added noise) based on:\n",
    "$ c_{A0} = 1, c_{B0} = 0, c_{c0} = 0, k_1 = 2, k_2 = 1$\n",
    "\n",
    "The above parameters are also the parameters that will be fitted based on the data"
   ]
  },
  {
   "cell_type": "code",
   "execution_count": 1,
   "metadata": {},
   "outputs": [
    {
     "name": "stdout",
     "output_type": "stream",
     "text": [
      "WARNING: DEPRECATED: The pyomo.core.base.sets module is deprecated.  Import\n",
      "    Set objects from pyomo.core.base.set or pyomo.core.  (deprecated in 5.7)\n",
      "    (called from <frozen importlib._bootstrap>:219)\n",
      "_SetProduct not found\n"
     ]
    }
   ],
   "source": [
    "from kipet import KipetModel\n",
    "import numpy as np\n",
    "import pyomo.environ as pyo\n",
    "import matplotlib.pyplot as plt\n",
    "import pandas as pd\n",
    "from scipy.stats import t"
   ]
  },
  {
   "cell_type": "code",
   "execution_count": 16,
   "metadata": {},
   "outputs": [],
   "source": [
    "dirname = '/home/paperspace/learn_kipet/kipet_paresto/data_sets/'\n",
    "filename = dirname + 'ABC_data.csv'\n",
    "C_data = pd.read_csv(filename, index_col = 0)"
   ]
  },
  {
   "cell_type": "code",
   "execution_count": 17,
   "metadata": {},
   "outputs": [
    {
     "data": {
      "text/html": [
       "<div>\n",
       "<style scoped>\n",
       "    .dataframe tbody tr th:only-of-type {\n",
       "        vertical-align: middle;\n",
       "    }\n",
       "\n",
       "    .dataframe tbody tr th {\n",
       "        vertical-align: top;\n",
       "    }\n",
       "\n",
       "    .dataframe thead th {\n",
       "        text-align: right;\n",
       "    }\n",
       "</style>\n",
       "<table border=\"1\" class=\"dataframe\">\n",
       "  <thead>\n",
       "    <tr style=\"text-align: right;\">\n",
       "      <th></th>\n",
       "      <th>A</th>\n",
       "      <th>B</th>\n",
       "      <th>C</th>\n",
       "    </tr>\n",
       "    <tr>\n",
       "      <th>t</th>\n",
       "      <th></th>\n",
       "      <th></th>\n",
       "      <th></th>\n",
       "    </tr>\n",
       "  </thead>\n",
       "  <tbody>\n",
       "    <tr>\n",
       "      <th>0.000</th>\n",
       "      <td>0.957</td>\n",
       "      <td>-0.031</td>\n",
       "      <td>-0.015</td>\n",
       "    </tr>\n",
       "    <tr>\n",
       "      <th>0.263</th>\n",
       "      <td>0.557</td>\n",
       "      <td>0.330</td>\n",
       "      <td>0.044</td>\n",
       "    </tr>\n",
       "    <tr>\n",
       "      <th>0.526</th>\n",
       "      <td>0.342</td>\n",
       "      <td>0.512</td>\n",
       "      <td>0.156</td>\n",
       "    </tr>\n",
       "    <tr>\n",
       "      <th>0.789</th>\n",
       "      <td>0.224</td>\n",
       "      <td>0.499</td>\n",
       "      <td>0.310</td>\n",
       "    </tr>\n",
       "    <tr>\n",
       "      <th>1.053</th>\n",
       "      <td>0.123</td>\n",
       "      <td>0.428</td>\n",
       "      <td>0.454</td>\n",
       "    </tr>\n",
       "    <tr>\n",
       "      <th>1.316</th>\n",
       "      <td>0.079</td>\n",
       "      <td>0.396</td>\n",
       "      <td>0.556</td>\n",
       "    </tr>\n",
       "    <tr>\n",
       "      <th>1.579</th>\n",
       "      <td>0.035</td>\n",
       "      <td>0.303</td>\n",
       "      <td>0.651</td>\n",
       "    </tr>\n",
       "    <tr>\n",
       "      <th>1.842</th>\n",
       "      <td>0.029</td>\n",
       "      <td>0.287</td>\n",
       "      <td>0.658</td>\n",
       "    </tr>\n",
       "    <tr>\n",
       "      <th>2.105</th>\n",
       "      <td>0.025</td>\n",
       "      <td>0.221</td>\n",
       "      <td>0.750</td>\n",
       "    </tr>\n",
       "    <tr>\n",
       "      <th>2.368</th>\n",
       "      <td>0.017</td>\n",
       "      <td>0.148</td>\n",
       "      <td>0.854</td>\n",
       "    </tr>\n",
       "    <tr>\n",
       "      <th>2.632</th>\n",
       "      <td>-0.002</td>\n",
       "      <td>0.182</td>\n",
       "      <td>0.845</td>\n",
       "    </tr>\n",
       "    <tr>\n",
       "      <th>2.895</th>\n",
       "      <td>0.009</td>\n",
       "      <td>0.116</td>\n",
       "      <td>0.893</td>\n",
       "    </tr>\n",
       "    <tr>\n",
       "      <th>3.158</th>\n",
       "      <td>-0.023</td>\n",
       "      <td>0.079</td>\n",
       "      <td>0.942</td>\n",
       "    </tr>\n",
       "    <tr>\n",
       "      <th>3.421</th>\n",
       "      <td>0.006</td>\n",
       "      <td>0.078</td>\n",
       "      <td>0.899</td>\n",
       "    </tr>\n",
       "    <tr>\n",
       "      <th>3.684</th>\n",
       "      <td>0.016</td>\n",
       "      <td>0.059</td>\n",
       "      <td>0.942</td>\n",
       "    </tr>\n",
       "    <tr>\n",
       "      <th>3.947</th>\n",
       "      <td>0.014</td>\n",
       "      <td>0.036</td>\n",
       "      <td>0.991</td>\n",
       "    </tr>\n",
       "    <tr>\n",
       "      <th>4.211</th>\n",
       "      <td>-0.009</td>\n",
       "      <td>0.014</td>\n",
       "      <td>0.988</td>\n",
       "    </tr>\n",
       "    <tr>\n",
       "      <th>4.474</th>\n",
       "      <td>-0.030</td>\n",
       "      <td>0.036</td>\n",
       "      <td>0.941</td>\n",
       "    </tr>\n",
       "    <tr>\n",
       "      <th>4.737</th>\n",
       "      <td>0.004</td>\n",
       "      <td>0.036</td>\n",
       "      <td>0.971</td>\n",
       "    </tr>\n",
       "    <tr>\n",
       "      <th>5.000</th>\n",
       "      <td>-0.024</td>\n",
       "      <td>0.028</td>\n",
       "      <td>0.985</td>\n",
       "    </tr>\n",
       "  </tbody>\n",
       "</table>\n",
       "</div>"
      ],
      "text/plain": [
       "           A      B      C\n",
       "t                         \n",
       "0.000  0.957 -0.031 -0.015\n",
       "0.263  0.557  0.330  0.044\n",
       "0.526  0.342  0.512  0.156\n",
       "0.789  0.224  0.499  0.310\n",
       "1.053  0.123  0.428  0.454\n",
       "1.316  0.079  0.396  0.556\n",
       "1.579  0.035  0.303  0.651\n",
       "1.842  0.029  0.287  0.658\n",
       "2.105  0.025  0.221  0.750\n",
       "2.368  0.017  0.148  0.854\n",
       "2.632 -0.002  0.182  0.845\n",
       "2.895  0.009  0.116  0.893\n",
       "3.158 -0.023  0.079  0.942\n",
       "3.421  0.006  0.078  0.899\n",
       "3.684  0.016  0.059  0.942\n",
       "3.947  0.014  0.036  0.991\n",
       "4.211 -0.009  0.014  0.988\n",
       "4.474 -0.030  0.036  0.941\n",
       "4.737  0.004  0.036  0.971\n",
       "5.000 -0.024  0.028  0.985"
      ]
     },
     "execution_count": 17,
     "metadata": {},
     "output_type": "execute_result"
    }
   ],
   "source": [
    "C_data.columns = ['A', 'B', 'C']\n",
    "C_data"
   ]
  },
  {
   "cell_type": "code",
   "execution_count": 18,
   "metadata": {},
   "outputs": [
    {
     "data": {
      "text/html": [
       "<div>\n",
       "<style scoped>\n",
       "    .dataframe tbody tr th:only-of-type {\n",
       "        vertical-align: middle;\n",
       "    }\n",
       "\n",
       "    .dataframe tbody tr th {\n",
       "        vertical-align: top;\n",
       "    }\n",
       "\n",
       "    .dataframe thead th {\n",
       "        text-align: right;\n",
       "    }\n",
       "</style>\n",
       "<table border=\"1\" class=\"dataframe\">\n",
       "  <thead>\n",
       "    <tr style=\"text-align: right;\">\n",
       "      <th></th>\n",
       "      <th>A</th>\n",
       "      <th>B</th>\n",
       "      <th>C</th>\n",
       "    </tr>\n",
       "    <tr>\n",
       "      <th>t</th>\n",
       "      <th></th>\n",
       "      <th></th>\n",
       "      <th></th>\n",
       "    </tr>\n",
       "  </thead>\n",
       "  <tbody>\n",
       "    <tr>\n",
       "      <th>2.105</th>\n",
       "      <td>0.025</td>\n",
       "      <td>0.221</td>\n",
       "      <td>0.750</td>\n",
       "    </tr>\n",
       "    <tr>\n",
       "      <th>2.368</th>\n",
       "      <td>0.017</td>\n",
       "      <td>0.148</td>\n",
       "      <td>0.854</td>\n",
       "    </tr>\n",
       "  </tbody>\n",
       "</table>\n",
       "</div>"
      ],
      "text/plain": [
       "           A      B      C\n",
       "t                         \n",
       "2.105  0.025  0.221  0.750\n",
       "2.368  0.017  0.148  0.854"
      ]
     },
     "execution_count": 18,
     "metadata": {},
     "output_type": "execute_result"
    }
   ],
   "source": [
    "C_data = C_data.iloc[[8, 9]]\n",
    "C_data"
   ]
  },
  {
   "cell_type": "code",
   "execution_count": 19,
   "metadata": {},
   "outputs": [
    {
     "name": "stdout",
     "output_type": "stream",
     "text": [
      "Warning: Component A variance not provided\n",
      "Warning: Component B variance not provided\n",
      "Warning: Component C variance not provided\n"
     ]
    }
   ],
   "source": [
    "kipet_model = KipetModel()\n",
    "\n",
    "r1 = kipet_model.new_reaction('rxn1')\n",
    "\n",
    "r1.add_component('A', state = 'concentration', init = 1.0)\n",
    "r1.add_component('B', state = 'concentration', init = 0.0)\n",
    "r1.add_component('C', state = 'concentration', init = 0.0)\n",
    "\n",
    "r1.add_parameter('k1',init = 5.0, bounds=(0.0,10.0))\n",
    "r1.add_parameter('k2',init = 5.0, bounds=(0.0,10.0))\n",
    "r1.add_parameter('ca0', init = 1.0, bounds = (0.5, 1.5))\n",
    "r1.add_parameter('cb0', init = 0.0, bounds = (0.0, 1.5))\n",
    "r1.add_parameter('cc0', init = 0.0, bounds = (0.0, 1.5))"
   ]
  },
  {
   "cell_type": "code",
   "execution_count": 20,
   "metadata": {},
   "outputs": [],
   "source": [
    "# define explicit system of ODEs\n",
    "def rule_odes(m,t):\n",
    "    exprs = dict()\n",
    "    exprs['A'] = -m.P['k1']*m.Z[t,'A']\n",
    "    exprs['B'] = m.P['k1']*m.Z[t,'A']-m.P['k2']*m.Z[t,'B']\n",
    "    exprs['C'] = m.P['k2']*m.Z[t,'B']\n",
    "    return exprs\n",
    "\n",
    "r1.add_equations(rule_odes)\n",
    "r1.set_times(0.0, 5.0)"
   ]
  },
  {
   "cell_type": "code",
   "execution_count": 21,
   "metadata": {},
   "outputs": [],
   "source": [
    "r1.add_dataset('C_data', category = 'concentration', data = C_data)"
   ]
  },
  {
   "cell_type": "code",
   "execution_count": 22,
   "metadata": {},
   "outputs": [
    {
     "name": "stdout",
     "output_type": "stream",
     "text": [
      "times are: <class 'tuple'>\n",
      "0.0 5.0\n",
      "WARNING: DEPRECATED: The default domain for Param objects is 'Any'.  However,\n",
      "    we will be changing that default to 'Reals' in the future.  If you really\n",
      "    intend the domain of this Param (sigma) to be 'Any', you can suppress this\n",
      "    warning by explicitly specifying 'within=Any' to the Param constructor.\n",
      "    (deprecated in 5.6.9, will be removed in 6.0) (called from\n",
      "    /home/paperspace/my_pyenvs/kipetenv/lib/python3.7/site-\n",
      "    packages/Pyomo-5.7.1-py3.7-linux-x86_64.egg/pyomo/core/base/param.py:640)\n",
      "WARNING: DEPRECATED: The default domain for Param objects is 'Any'.  However,\n",
      "    we will be changing that default to 'Reals' in the future.  If you really\n",
      "    intend the domain of this Param (sigma) to be 'Any', you can suppress this\n",
      "    warning by explicitly specifying 'within=Any' to the Param constructor.\n",
      "    (deprecated in 5.6.9, will be removed in 6.0) (called from\n",
      "    /home/paperspace/my_pyenvs/kipetenv/lib/python3.7/site-\n",
      "    packages/Pyomo-5.7.1-py3.7-linux-x86_64.egg/pyomo/core/base/param.py:640)\n",
      "WARNING: DEPRECATED: The default domain for Param objects is 'Any'.  However,\n",
      "    we will be changing that default to 'Reals' in the future.  If you really\n",
      "    intend the domain of this Param (sigma) to be 'Any', you can suppress this\n",
      "    warning by explicitly specifying 'within=Any' to the Param constructor.\n",
      "    (deprecated in 5.6.9, will be removed in 6.0) (called from\n",
      "    /home/paperspace/my_pyenvs/kipetenv/lib/python3.7/site-\n",
      "    packages/Pyomo-5.7.1-py3.7-linux-x86_64.egg/pyomo/core/base/param.py:640)\n"
     ]
    }
   ],
   "source": [
    "r1.create_pyomo_model()"
   ]
  },
  {
   "cell_type": "code",
   "execution_count": 23,
   "metadata": {},
   "outputs": [],
   "source": [
    "# explicitly add constraints for initial conditions and relax the auto-imposed initial conditions by builder\n",
    "r1.model.ca0_cons = pyo.Constraint(expr = r1.model.Z[0, 'A'] == r1.model.P['ca0'])\n",
    "r1.model.cb0_cons = pyo.Constraint(expr = r1.model.Z[0, 'B'] == r1.model.P['cb0'])\n",
    "r1.model.cc0_cons = pyo.Constraint(expr = r1.model.Z[0, 'C'] == r1.model.P['cc0'])\n",
    "r1.model.init_conditions_c.deactivate()"
   ]
  },
  {
   "cell_type": "code",
   "execution_count": 24,
   "metadata": {},
   "outputs": [],
   "source": [
    "r1.settings.collocation.nfe = 50\n",
    "r1.settings.collocation.ncp = 3\n",
    "r1.settings.collocation.scheme = 'LAGRANGE-RADAU'\n",
    "r1.settings.parameter_estimator['solver'] = 'k_aug'\n",
    "r1.settings.solver.linear_solver = 'ma27'"
   ]
  },
  {
   "cell_type": "code",
   "execution_count": 25,
   "metadata": {},
   "outputs": [
    {
     "name": "stdout",
     "output_type": "stream",
     "text": [
      "No variance information for A found, setting equal to unity\n",
      "No variance information for B found, setting equal to unity\n",
      "No variance information for C found, setting equal to unity\n",
      "        0.11 seconds required to write file\n",
      "        0.11 seconds required for presolve\n",
      "Ipopt 3.12: \n",
      "\n",
      "******************************************************************************\n",
      "This program contains Ipopt, a library for large-scale nonlinear optimization.\n",
      " Ipopt is released as open source code under the Eclipse Public License (EPL).\n",
      "         For more information visit http://projects.coin-or.org/Ipopt\n",
      "******************************************************************************\n",
      "\n",
      "This is Ipopt version 3.12, running with linear solver ma27.\n",
      "\n",
      "Number of nonzeros in equality constraint Jacobian...:     3906\n",
      "Number of nonzeros in inequality constraint Jacobian.:        0\n",
      "Number of nonzeros in Lagrangian Hessian.............:      306\n",
      "\n",
      "Total number of variables............................:      908\n",
      "                     variables with only lower bounds:        0\n",
      "                variables with lower and upper bounds:        5\n",
      "                     variables with only upper bounds:        0\n",
      "Total number of equality constraints.................:      903\n",
      "Total number of inequality constraints...............:        0\n",
      "        inequality constraints with only lower bounds:        0\n",
      "   inequality constraints with lower and upper bounds:        0\n",
      "        inequality constraints with only upper bounds:        0\n",
      "\n",
      "iter    objective    inf_pr   inf_du lg(mu)  ||d||  lg(rg) alpha_du alpha_pr  ls\n",
      "   0  3.3334750e+00 5.00e+00 1.11e-01  -1.0 0.00e+00    -  0.00e+00 0.00e+00   0\n",
      "   1  4.8803039e-02 5.03e-01 1.89e-01  -1.0 3.69e+00    -  9.05e-01 1.00e+00h  1\n",
      "   2  8.1801660e-02 2.43e-02 1.03e-02  -1.7 1.04e+00    -  1.00e+00 1.00e+00h  1\n",
      "   3  7.7057547e-02 3.73e-03 5.13e-04  -2.5 2.12e-01    -  1.00e+00 1.00e+00h  1\n",
      "   4  7.6637029e-02 5.83e-05 3.06e-04  -3.8 3.06e-02  -2.0 1.00e+00 1.00e+00h  1\n",
      "   5  7.6477138e-02 1.15e-03 4.88e-04  -5.7 1.44e-01  -2.5 9.62e-01 1.00e+00h  1\n",
      "   6  7.5297074e-02 1.21e-01 8.24e-03  -5.7 1.80e+00  -3.0 1.00e+00 7.89e-01h  1\n",
      "   7  7.1745946e-02 6.83e-04 1.36e-03  -5.7 5.74e-02  -1.6 1.00e+00 1.00e+00h  1\n",
      "   8  6.1456187e-02 1.57e-01 1.60e-02  -5.7 1.35e+00  -2.1 1.00e+00 9.47e-01h  1\n",
      "   9  9.1977704e-03 2.04e-01 3.90e-02  -5.7 7.97e-01  -1.7 7.78e-01 1.00e+00h  1\n",
      "iter    objective    inf_pr   inf_du lg(mu)  ||d||  lg(rg) alpha_du alpha_pr  ls\n",
      "  10  5.4675468e-03 8.17e-02 2.11e-02  -5.7 3.79e-01  -2.2 1.00e+00 6.05e-01h  1\n",
      "  11  3.6632541e-03 3.29e-03 9.86e-04  -5.7 1.07e-01  -2.6 1.00e+00 1.00e+00h  1\n",
      "  12  3.2861087e-03 1.10e+00 2.37e-03  -5.7 9.17e+00    -  3.01e-02 2.80e-01h  1\n",
      "  13  3.5768544e-03 7.26e-01 1.27e-02  -5.7 1.47e+00  -3.1 1.00e+00 4.33e-01h  1\n",
      "  14  2.6561095e-03 9.99e-01 4.61e-03  -5.7 4.81e+00    -  1.00e+00 5.46e-01h  1\n",
      "  15  2.9299141e-03 3.79e-01 2.10e-03  -5.7 1.02e+00    -  2.55e-03 9.37e-01h  1\n",
      "  16  2.6012560e-03 6.29e-01 2.72e-03  -5.7 1.98e+00    -  7.95e-03 1.00e+00h  1\n",
      "  17  2.2936742e-03 3.88e-01 2.00e-03  -5.7 1.66e+00    -  1.00e+00 2.76e-01h  1\n",
      "  18  1.6260143e-03 2.50e-01 2.84e-03  -5.7 1.41e+00    -  1.00e+00 1.00e+00h  1\n",
      "  19  1.7797795e-03 4.55e-02 1.91e-04  -5.7 5.60e-01    -  1.00e+00 1.00e+00h  1\n",
      "iter    objective    inf_pr   inf_du lg(mu)  ||d||  lg(rg) alpha_du alpha_pr  ls\n",
      "  20  1.7914313e-03 5.03e-04 1.91e-05  -5.7 7.25e-02    -  1.00e+00 1.00e+00h  1\n",
      "  21  1.7899102e-03 8.23e-07 5.39e-09  -5.7 1.86e-03    -  1.00e+00 1.00e+00h  1\n",
      "  22  1.7862458e-03 4.11e-06 2.53e-08  -8.6 6.86e-03    -  9.96e-01 1.00e+00h  1\n",
      "  23  1.7862346e-03 3.93e-11 5.44e-14  -8.6 2.76e-05    -  1.00e+00 1.00e+00h  1\n",
      "\n",
      "Number of Iterations....: 23\n",
      "\n",
      "                                   (scaled)                 (unscaled)\n",
      "Objective...............:   1.7862345600258970e-03    1.7862345600258970e-03\n",
      "Dual infeasibility......:   5.4376642077968995e-14    5.4376642077968995e-14\n",
      "Constraint violation....:   3.9332093138000346e-11    3.9332093138000346e-11\n",
      "Complementarity.........:   2.5062034987123902e-09    2.5062034987123902e-09\n",
      "Overall NLP error.......:   2.5062034987123902e-09    2.5062034987123902e-09\n",
      "\n",
      "\n",
      "Number of objective function evaluations             = 24\n",
      "Number of objective gradient evaluations             = 24\n",
      "Number of equality constraint evaluations            = 24\n",
      "Number of inequality constraint evaluations          = 0\n",
      "Number of equality constraint Jacobian evaluations   = 24\n",
      "Number of inequality constraint Jacobian evaluations = 0\n",
      "Number of Lagrangian Hessian evaluations             = 23\n",
      "Total CPU secs in IPOPT (w/o function evaluations)   =      0.044\n",
      "Total CPU secs in NLP function evaluations           =      0.000\n",
      "\n",
      "EXIT: Optimal Solution Found.\n",
      "        0.09 seconds required for solver\n",
      "        0.00 seconds required to read logfile \n",
      "        0.00 seconds required to read solution file\n",
      "        0.01 seconds required for postsolve\n",
      "ipopt_zL_in : Direction=Suffix.EXPORT, Datatype=Suffix.FLOAT\n",
      "    Key : Value\n",
      "rh_name : Direction=Suffix.IMPORT, Datatype=Suffix.FLOAT\n",
      "    Key : Value\n",
      "ipopt_zL_in : Direction=Suffix.EXPORT, Datatype=Suffix.FLOAT\n",
      "    Key    : Value\n",
      "    P[ca0] : 4.889338293285951e-09\n",
      "    P[cb0] : 0.0010270798940667013\n",
      "    P[cc0] : 0.0024266289988790386\n",
      "     P[k1] : 1.470458485887717e-09\n",
      "     P[k2] :  2.32202021950331e-09\n"
     ]
    },
    {
     "name": "stderr",
     "output_type": "stream",
     "text": [
      "W[K_AUG]...\t[K_AUG_ASL]No n_rhs declared\n",
      "W[K_AUG]...\t[K_AUG_ASL]Target log10mu:= -11.\n",
      "W[K_AUG]...\t[K_AUG_ASL]No f_timestamp suffix declared, Fallback to default writing mode.\n",
      "I[K_AUG]...\t[K_AUG_ASL] Filename for dot_sens dot_in_.in\n"
     ]
    },
    {
     "name": "stdout",
     "output_type": "stream",
     "text": [
      "[K_AUG] written by D.T. @2018\n",
      "\n",
      ": I[K_AUG]...\t[K_AUG_ASL]File read succesfull\n",
      "I[K_AUG]...\t[K_AUG_ASL]Number of Right hand sides 0\n",
      "I[K_AUG]...\t[K_AUG_ASL]Number of Right hand sides: 0\n",
      "I[K_AUG]...\t[K_AUG_ASL]Number of variables       : 908\n",
      "I[K_AUG]...\t[K_AUG_ASL]Number of constraints     : 903\n",
      "I[K_AUG]...\t[K_AUG_ASL]Number of valid n_dof     : 5\n",
      "I[K_AUG]...\t[ADJUST_MU]log10(mu) computed=-8.60103705111722 at var_i=300\n",
      "I[K_AUG]...\t[ADJUST_MU]log10(mu) close to the target\t-8.601038032278256 at var_i=301\n",
      "I[K_AUG]...\t[FIND_INEQUALITIES]summary: eq: 903, leq: 0, geq: 0 \n",
      "I[K_AUG]...\t[K_AUG_ASL]Nonzeroes in the sparse Jacobian 3906\n",
      "I[K_AUG]...\t[GET_HESS_ASL]Objective found\n",
      "I[K_AUG]...\t[GET_HESS_ASL]Nonzeroes in the sparse hessian 306\n",
      "I[K_AUG]...\t[GET_HESS_ASL]Minimization problem detected\n",
      "I[K_AUG]...\t[GET_HESS_ASL]Current objective 0.001786\n",
      "I[K_AUG]...\t[GET_HESS_ASL]Missing nz in the Hessian of the Lag: 902\n"
     ]
    },
    {
     "name": "stderr",
     "output_type": "stream",
     "text": [
      "W[K_AUG]...\t[K_AUG_ASL]Variable \"906\" (offset 4) has an active bound; sigma = 420.987179.\n",
      "W[K_AUG]...\t[K_AUG_ASL]Variable \"907\" (offset 5) has an active bound; sigma = 2349.858506.\n"
     ]
    },
    {
     "name": "stdout",
     "output_type": "stream",
     "text": [
      "I[K_AUG]...\t[K_AUG_ASL]Barrier term added.\n",
      "I[K_AUG]...\t[K_AUG_ASL]MC19 scaling...\n",
      "I[K_AUG]...\t[ASSM_RHS_RH]According to the suffixes declared dof is 5 \n",
      "I[K_AUG]...\t[ASSM_RHS_RH]n_dof exactly n_var - n_con \n",
      " On return from DMUMPS, INFOG(1)=              -9\n",
      " On return from DMUMPS, INFOG(2)=             286\n",
      "I[K_AUG]...\t[MUMPS_DRIVER]Reallocating Memory (50)\n",
      "\n",
      "I[K_AUG]...\t[MUMPS_DRIVER]n_neig = 903\n",
      "I[K_AUG]...\t[INERTIA_STRATEGY]Inertia check successful.\n",
      "I[K_AUG]...\t[MUMPS_DRIVER]: Ratio of norm of scaled residuals (reported); 9.025822e-16 \n",
      "I[K_AUG]...\t[MUMPS_DRIVER]Accuracy at an acceptable level.\n",
      "\n",
      "W[K_AUG]...\t[MUMPS_DRIVER]Inertia check OK neig=903, (neig == m).\n",
      "I[K_AUG]...\t[K_AUG_ASL]Linear solver done. \n",
      "\bI[K_AUG]...\t[K_AUG_ASL]Timings..Ev&Assem 0.024343, Fact 0.120437, Overall 0.133277.\n",
      "Done solving building reduce hessian\n",
      "25 hessian size\n",
      "Parameter variances:  [9.58818243e+01 8.33714218e+00 7.54995404e-01 2.37536868e-03\n",
      " 4.25557709e-04]\n",
      "\n",
      "Confidence intervals:\n",
      "k1 (-8.087767224671008,11.496085741542753)\n",
      "k2 (-1.8082258180524342,3.9665961474563263)\n",
      "ca0 (0.14362843310648732,1.8814378638838334)\n",
      "cb0 (-0.04873532449359349,0.04874018388159352)\n",
      "cc0 (-0.020628027441227322,0.020630072781750757)\n"
     ]
    },
    {
     "data": {
      "text/plain": [
       "\n",
       "RESULTS\n",
       "Z:\n",
       "                  A         B         C\n",
       "0.000000  1.012533  0.000002  0.000001\n",
       "0.020399  0.977942  0.034210  0.000384\n",
       "0.084851  0.876213  0.130126  0.006198\n",
       "0.131562  0.809169  0.189087  0.014281\n",
       "0.151961  0.781525  0.212308  0.018704\n",
       "...            ...       ...       ...\n",
       "4.888547  0.000244  0.013456  0.998837\n",
       "4.917750  0.000232  0.013050  0.999254\n",
       "4.930503  0.000227  0.012877  0.999433\n",
       "4.970797  0.000212  0.012344  0.999981\n",
       "5.000000  0.000202  0.011971  1.000364\n",
       "\n",
       "[151 rows x 3 columns]\n",
       "\n",
       "Cm:\n",
       "            A      B      C\n",
       "2.105  0.025  0.221  0.750\n",
       "2.368  0.017  0.148  0.854\n",
       "\n",
       "dZdt:\n",
       "                  A         B         C\n",
       "0.000000  0.000000  0.000000  0.000000\n",
       "0.020399 -1.666569  1.629649  0.036919\n",
       "0.084851 -1.493206  1.352776  0.140430\n",
       "0.131562 -1.378953  1.174893  0.204060\n",
       "0.151961 -1.331843  1.102724  0.229119\n",
       "...            ...       ...       ...\n",
       "4.888547 -0.000416 -0.014106  0.014521\n",
       "4.917750 -0.000396 -0.013688  0.014084\n",
       "4.930503 -0.000387 -0.013509  0.013896\n",
       "4.970797 -0.000361 -0.012960  0.013321\n",
       "5.000000 -0.000344 -0.012575  0.012919\n",
       "\n",
       "[151 rows x 3 columns]\n",
       "\n",
       "P:\n",
       " {'k1': 1.7041592584358718, 'k2': 1.079185164701946, 'ca0': 1.0125331484951603, 'cb0': 2.4296940000182324e-06, 'cc0': 1.0226702617166119e-06}\n"
      ]
     },
     "execution_count": 25,
     "metadata": {},
     "output_type": "execute_result"
    }
   ],
   "source": [
    "r1.run_opt()"
   ]
  },
  {
   "cell_type": "code",
   "execution_count": 26,
   "metadata": {},
   "outputs": [
    {
     "name": "stdout",
     "output_type": "stream",
     "text": [
      "\n",
      "The estimated parameters are:\n",
      "k1 1.7041592584358718\n",
      "k2 1.079185164701946\n",
      "ca0 1.0125331484951603\n",
      "cb0 2.4296940000182324e-06\n",
      "cc0 1.0226702617166119e-06\n"
     ]
    }
   ],
   "source": [
    "r1.results.show_parameters"
   ]
  },
  {
   "cell_type": "code",
   "execution_count": 27,
   "metadata": {},
   "outputs": [
    {
     "data": {
      "image/png": "[encoded data removed]",
      "text/plain": [
       "<Figure size 432x288 with 1 Axes>"
      ]
     },
     "metadata": {
      "needs_background": "light"
     },
     "output_type": "display_data"
    }
   ],
   "source": [
    "fig, ax = plt.subplots()\n",
    "for c in ['A', 'B', 'C']:\n",
    "    ax.scatter(r1.results.Cm.index, r1.results.Cm[c])\n",
    "    ax.plot(r1.results.Z.index, r1.results.Z[c])"
   ]
  },
  {
   "cell_type": "code",
   "execution_count": null,
   "metadata": {},
   "outputs": [],
   "source": [
    "results_pyomo.objective"
   ]
  },
  {
   "cell_type": "code",
   "execution_count": null,
   "metadata": {},
   "outputs": [],
   "source": [
    "# since kipet outputs reduced hessian which equals covariance if right sigma values are specified. \n",
    "# since we just specified sigma=1, we need to adjust the covariance matrix output from KIPET to get the \n",
    "# estimated covariance matrix\n",
    "mse = r1.results.objective / (C_data.shape[0]*3 - 5)\n",
    "cov_est = 2 * mse * r1.results.parameter_covariance\n",
    "cov_est"
   ]
  },
  {
   "cell_type": "code",
   "execution_count": null,
   "metadata": {},
   "outputs": [],
   "source": [
    "dof = (C_data.shape[0]*3 - 5)\n",
    "conf_delta = t.ppf(0.975, dof) * np.sqrt(np.diag(cov_est))\n",
    "conf_delta"
   ]
  },
  {
   "cell_type": "code",
   "execution_count": null,
   "metadata": {},
   "outputs": [],
   "source": [
    "# confidence limits of parameters\n",
    "i = 0\n",
    "for k, v in r1.results.P.items():\n",
    "    print(f\"{k}, {v - conf_delta[i]:.2f}, {v + conf_delta[i]:.2f}\")\n",
    "    i = i + 1"
   ]
  },
  {
   "cell_type": "code",
   "execution_count": null,
   "metadata": {},
   "outputs": [],
   "source": []
  }
 ],
 "metadata": {
  "kernelspec": {
   "display_name": "Python 3",
   "language": "python",
   "name": "python3"
  },
  "language_info": {
   "codemirror_mode": {
    "name": "ipython",
    "version": 3
   },
   "file_extension": ".py",
   "mimetype": "text/x-python",
   "name": "python",
   "nbconvert_exporter": "python",
   "pygments_lexer": "ipython3",
   "version": "3.7.3"
  }
 },
 "nbformat": 4,
 "nbformat_minor": 2
}
