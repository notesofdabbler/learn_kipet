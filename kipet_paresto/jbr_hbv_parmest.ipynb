{
 "cells": [
  {
   "cell_type": "code",
   "execution_count": 8,
   "metadata": {},
   "outputs": [],
   "source": [
    "#\n",
    "# Run the hbv parameter estimation with full model\n",
    "# https://github.com/rawlings-group/paresto/blob/master/examples/green_book/hbv_det.m\n",
    "#"
   ]
  },
  {
   "cell_type": "code",
   "execution_count": 24,
   "metadata": {},
   "outputs": [],
   "source": [
    "from __future__ import print_function\n",
    "from kipet.library.TemplateBuilder import *\n",
    "from kipet.library.PyomoSimulator import *\n",
    "from kipet.library.ParameterEstimator import *\n",
    "from kipet.library.VarianceEstimator import *\n",
    "from kipet.library.data_tools import *\n",
    "import matplotlib.pyplot as plt\n",
    "import os\n",
    "import sys\n",
    "import inspect\n",
    "import six\n",
    "import pandas as pd\n",
    "from scipy.stats import t\n",
    "from scipy.linalg import eig\n",
    "import scipy.linalg as sla"
   ]
  },
  {
   "cell_type": "code",
   "execution_count": 10,
   "metadata": {},
   "outputs": [
    {
     "name": "stdout",
     "output_type": "stream",
     "text": [
      "read dir : /home/paperspace/learn_kipet/kipet_paresto/data_sets/hbv_data.csv\n"
     ]
    }
   ],
   "source": [
    "filename = 'hbv_data.csv'\n",
    "D_frame = read_file(filename, directory = 'data_sets')"
   ]
  },
  {
   "cell_type": "code",
   "execution_count": 11,
   "metadata": {},
   "outputs": [
    {
     "data": {
      "text/plain": [
       "(50, 3)"
      ]
     },
     "execution_count": 11,
     "metadata": {},
     "output_type": "execute_result"
    }
   ],
   "source": [
    "D_frame.shape"
   ]
  },
  {
   "cell_type": "code",
   "execution_count": 12,
   "metadata": {},
   "outputs": [
    {
     "data": {
      "text/html": [
       "<div>\n",
       "<style scoped>\n",
       "    .dataframe tbody tr th:only-of-type {\n",
       "        vertical-align: middle;\n",
       "    }\n",
       "\n",
       "    .dataframe tbody tr th {\n",
       "        vertical-align: top;\n",
       "    }\n",
       "\n",
       "    .dataframe thead th {\n",
       "        text-align: right;\n",
       "    }\n",
       "</style>\n",
       "<table border=\"1\" class=\"dataframe\">\n",
       "  <thead>\n",
       "    <tr style=\"text-align: right;\">\n",
       "      <th></th>\n",
       "      <th>A</th>\n",
       "      <th>B</th>\n",
       "      <th>C</th>\n",
       "    </tr>\n",
       "  </thead>\n",
       "  <tbody>\n",
       "    <tr>\n",
       "      <th>0.000000</th>\n",
       "      <td>1.051482</td>\n",
       "      <td>-0.000739</td>\n",
       "      <td>-0.000501</td>\n",
       "    </tr>\n",
       "    <tr>\n",
       "      <th>2.040816</th>\n",
       "      <td>0.718060</td>\n",
       "      <td>2.599459</td>\n",
       "      <td>371.265832</td>\n",
       "    </tr>\n",
       "    <tr>\n",
       "      <th>4.081633</th>\n",
       "      <td>0.641247</td>\n",
       "      <td>5.702485</td>\n",
       "      <td>325.080882</td>\n",
       "    </tr>\n",
       "    <tr>\n",
       "      <th>6.122449</th>\n",
       "      <td>0.657471</td>\n",
       "      <td>6.944847</td>\n",
       "      <td>296.171685</td>\n",
       "    </tr>\n",
       "    <tr>\n",
       "      <th>8.163265</th>\n",
       "      <td>0.772015</td>\n",
       "      <td>9.147780</td>\n",
       "      <td>291.254375</td>\n",
       "    </tr>\n",
       "  </tbody>\n",
       "</table>\n",
       "</div>"
      ],
      "text/plain": [
       "                 A         B           C\n",
       "0.000000  1.051482 -0.000739   -0.000501\n",
       "2.040816  0.718060  2.599459  371.265832\n",
       "4.081633  0.641247  5.702485  325.080882\n",
       "6.122449  0.657471  6.944847  296.171685\n",
       "8.163265  0.772015  9.147780  291.254375"
      ]
     },
     "execution_count": 12,
     "metadata": {},
     "output_type": "execute_result"
    }
   ],
   "source": [
    "D_frame.head()"
   ]
  },
  {
   "cell_type": "code",
   "execution_count": 13,
   "metadata": {},
   "outputs": [
    {
     "name": "stdout",
     "output_type": "stream",
     "text": [
      "Warning! Since C-matrix contains negative values Kipet is assuming a derivative of C has been inputted\n"
     ]
    }
   ],
   "source": [
    "builder = TemplateBuilder()    \n",
    "components = {'A':1,'B':0,'C':0}\n",
    "builder.add_mixture_component(components)\n",
    "\n",
    "# in the book they fit log10(k). Here I tried directly fitting k. Seems to work in this case\n",
    "builder.add_parameter('k1',initialize = 100, bounds=(0.0,5e3))\n",
    "builder.add_parameter('k2',initialize = 100, bounds=(0.0,5e3))\n",
    "builder.add_parameter('k3',initialize = 100, bounds=(0.0,5e3))\n",
    "builder.add_parameter('k4',initialize = 100, bounds=(0.0,5e3))\n",
    "builder.add_parameter('k5',initialize = 100, bounds=(0.0,5e3))\n",
    "builder.add_parameter('k6',initialize = 100, bounds=(0.0,5e3))\n",
    "\n",
    "builder.add_concentration_data(D_frame)"
   ]
  },
  {
   "cell_type": "code",
   "execution_count": 14,
   "metadata": {},
   "outputs": [],
   "source": [
    "# define explicit system of ODEs\n",
    "def rule_odes(m,t):\n",
    "    exprs = dict()\n",
    "    exprs['A'] = m.P['k2']*m.Z[t,'B'] - m.P['k4']*m.Z[t,'A']\n",
    "    exprs['B'] = m.P['k1']*m.Z[t,'A']-m.P['k2']*m.Z[t,'B']-m.P['k6']*m.Z[t,'B']*m.Z[t,'C']\n",
    "    exprs['C'] = m.P['k3']*m.Z[t,'A']-m.P['k5']*m.Z[t,'C']-m.P['k6']*m.Z[t,'B']*m.Z[t,'C']\n",
    "    return exprs\n",
    "\n",
    "builder.set_odes_rule(rule_odes)\n",
    "opt_model = builder.create_pyomo_model(0.0,100.0)"
   ]
  },
  {
   "cell_type": "code",
   "execution_count": 15,
   "metadata": {},
   "outputs": [],
   "source": [
    "# sigmas as 1/wts used in the book\n",
    "sigmas = {'A':1, 'B':100, 'C':1e4}\n",
    "p_estimator = ParameterEstimator(opt_model)\n",
    "p_estimator.apply_discretization('dae.collocation',nfe=50,ncp=3,scheme='LAGRANGE-RADAU')"
   ]
  },
  {
   "cell_type": "code",
   "execution_count": 16,
   "metadata": {},
   "outputs": [
    {
     "name": "stdout",
     "output_type": "stream",
     "text": [
      "        0.11 seconds required to write file\n",
      "        0.11 seconds required for presolve\n",
      "Ipopt 3.12: \n",
      "\n",
      "******************************************************************************\n",
      "This program contains Ipopt, a library for large-scale nonlinear optimization.\n",
      " Ipopt is released as open source code under the Eclipse Public License (EPL).\n",
      "         For more information visit http://projects.coin-or.org/Ipopt\n",
      "******************************************************************************\n",
      "\n",
      "This is Ipopt version 3.12, running with linear solver ma27.\n",
      "\n",
      "Number of nonzeros in equality constraint Jacobian...:     5103\n",
      "Number of nonzeros in inequality constraint Jacobian.:        0\n",
      "Number of nonzeros in Lagrangian Hessian.............:     1350\n",
      "\n",
      "Total number of variables............................:      909\n",
      "                     variables with only lower bounds:        0\n",
      "                variables with lower and upper bounds:        6\n",
      "                     variables with only upper bounds:        0\n",
      "Total number of equality constraints.................:      903\n",
      "Total number of inequality constraints...............:        0\n",
      "        inequality constraints with only lower bounds:        0\n",
      "   inequality constraints with lower and upper bounds:        0\n",
      "        inequality constraints with only upper bounds:        0\n",
      "\n",
      "iter    objective    inf_pr   inf_du lg(mu)  ||d||  lg(rg) alpha_du alpha_pr  ls\n",
      "   0  1.3388935e+06 2.50e+03 1.51e+00  -1.0 0.00e+00    -  0.00e+00 0.00e+00   0\n",
      "   1  1.3399417e+06 5.42e+02 1.61e+01  -1.0 1.36e+02  -2.0 9.39e-01 1.00e+00h  1\n",
      "   2  1.3406639e+06 1.27e+02 1.91e+01  -1.0 5.62e+01  -1.6 9.73e-01 1.00e+00h  1\n",
      "   3  1.3400033e+06 9.35e+01 7.34e+01  -1.0 3.54e+02  -2.1 9.94e-01 1.00e+00f  1\n",
      "   4  1.3355719e+06 2.28e+03 1.44e+03  -1.0 4.27e+02  -2.5 1.00e+00 1.00e+00f  1\n",
      "   5  1.3324121e+06 1.52e+03 7.39e+02  -1.0 1.07e+03  -2.1 1.00e+00 1.00e+00f  1\n",
      "   6  1.3352367e+06 2.77e+02 8.92e+01  -1.0 1.08e+01   0.1 1.00e+00 1.00e+00h  1\n",
      "   7  1.3343571e+06 2.17e+01 2.72e+01  -1.0 5.80e+01  -0.3 1.00e+00 1.00e+00f  1\n",
      "   8  1.3322455e+06 7.44e+01 3.17e+01  -1.0 2.72e+01   0.1 1.00e+00 1.00e+00f  1\n",
      "   9  1.3203379e+06 2.57e+03 5.03e+02  -1.0 1.79e+02  -0.4 1.00e+00 1.00e+00f  1\n",
      "iter    objective    inf_pr   inf_du lg(mu)  ||d||  lg(rg) alpha_du alpha_pr  ls\n",
      "  10  1.3148553e+06 1.95e+04 5.27e+03  -1.0 7.55e+02  -0.9 1.00e+00 5.00e-01f  2\n",
      "  11  1.3134184e+06 9.79e+02 3.55e+02  -1.0 1.48e+02  -0.4 1.00e+00 1.00e+00f  1\n",
      "  12  1.3046679e+06 1.67e+03 5.73e+02  -1.0 9.17e+01  -0.9 1.00e+00 1.00e+00f  1\n",
      "  13  1.3045892e+06 7.07e+01 1.85e+01  -1.0 3.24e+01  -1.4 1.00e+00 1.00e+00f  1\n",
      "  14  1.3043705e+06 2.02e+02 7.45e+00  -1.0 8.70e+01  -1.9 1.00e+00 1.00e+00f  1\n",
      "  15  1.3035481e+06 2.96e+03 1.13e+02  -1.0 2.97e+02  -2.4 1.00e+00 1.00e+00f  1\n",
      "  16  1.3005536e+06 3.52e+04 2.72e+03  -1.0 3.42e+03  -2.8 4.85e-01 3.53e-01f  1\n",
      "  17  1.3004217e+06 3.50e+04 2.70e+03  -1.0 3.88e+03  -2.4 1.00e+00 6.68e-03f  1\n",
      "  18  1.2961961e+06 1.58e+04 1.29e+03  -1.0 5.09e+02  -2.0 1.00e+00 1.00e+00f  1\n",
      "  19  1.2929837e+06 1.10e+04 2.75e+03  -1.0 2.51e+02  -1.6 1.00e+00 1.00e+00f  1\n",
      "iter    objective    inf_pr   inf_du lg(mu)  ||d||  lg(rg) alpha_du alpha_pr  ls\n",
      "  20  1.2940969e+06 1.04e+04 5.01e+03  -1.0 8.28e+02  -2.0 7.55e-02 1.25e-01h  4\n",
      "  21  1.2950409e+06 9.71e+03 7.18e+03  -1.0 8.96e+02  -2.5 1.13e-03 1.25e-01h  4\n",
      "  22  1.2928584e+06 6.52e+03 9.77e+03  -1.0 4.43e+02  -2.1 1.00e+00 1.00e+00f  1\n",
      "  23  1.2854141e+06 5.41e+04 7.99e+04  -1.0 1.54e+04  -2.6 1.39e-01 8.77e-02f  1\n",
      "  24  1.2877602e+06 4.53e+03 1.02e+04  -1.0 1.39e+02  -0.3 1.00e+00 1.00e+00h  1\n",
      "  25  1.2864113e+06 7.42e+02 9.02e+03  -1.0 1.04e+02  -0.8 1.00e+00 1.00e+00f  1\n",
      "  26  1.2843440e+06 2.03e+02 3.17e+02  -1.0 3.89e+01  -0.4 1.00e+00 1.00e+00f  1\n",
      "  27  1.2836255e+06 2.36e+01 1.53e+01  -1.0 1.33e+01   0.0 1.00e+00 1.00e+00f  1\n",
      "  28  1.2821731e+06 1.10e+02 1.02e+01  -1.0 2.80e+01  -0.4 1.00e+00 1.00e+00f  1\n",
      "  29  1.2800739e+06 2.10e+02 1.85e+01  -1.0 2.50e+01  -0.9 1.00e+00 1.00e+00f  1\n",
      "iter    objective    inf_pr   inf_du lg(mu)  ||d||  lg(rg) alpha_du alpha_pr  ls\n",
      "  30  1.2769944e+06 2.96e+03 2.75e+02  -1.0 5.40e+01  -1.4 1.00e+00 1.00e+00f  1\n",
      "  31  1.2720510e+06 7.19e+03 1.86e+03  -1.0 1.62e+02  -1.9 1.00e+00 1.00e+00f  1\n",
      "  32  1.2679803e+06 6.99e+03 1.85e+02  -1.0 1.59e+02  -2.3 1.00e+00 1.00e+00f  1\n",
      "  33  1.2668751e+06 5.86e+03 2.44e+02  -1.0 5.97e+02  -2.8 1.00e+00 6.27e-01f  1\n",
      "  34  1.2666760e+06 2.37e+04 1.60e+04  -1.0 2.35e+03  -2.4 2.03e-03 5.00e-01f  2\n",
      "  35  1.2666421e+06 1.10e+04 1.70e+05  -1.0 1.95e+02  -0.2 1.00e+00 1.00e+00f  1\n",
      "  36  1.2754997e+06 7.27e+03 1.01e+05  -1.0 2.63e+02   0.3 1.00e+00 8.65e-01h  1\n",
      "  37  1.2756530e+06 7.23e+03 1.00e+05  -1.0 3.91e+02   0.7 1.00e+00 5.92e-03h  1\n",
      "  38  1.2756547e+06 7.23e+03 2.75e+05  -1.0 3.79e+02   0.2 1.00e+00 7.17e-05h  1\n",
      "  39  1.2840141e+06 6.21e+03 2.39e+06  -1.0 3.99e+02   0.6 1.00e+00 1.38e-01h  1\n",
      "iter    objective    inf_pr   inf_du lg(mu)  ||d||  lg(rg) alpha_du alpha_pr  ls\n",
      "  40  1.2886220e+06 5.63e+03 3.10e+05  -1.0 3.12e+02   0.2 9.34e-01 8.71e-02h  3\n",
      "  41  1.2930253e+06 5.06e+03 2.53e+05  -1.0 3.99e+02  -0.3 6.10e-02 1.18e-01h  3\n",
      "  42  1.3268403e+06 1.17e+03 1.75e+06  -1.0 5.80e+02  -0.8 1.22e-03 9.21e-01H  1\n",
      "  43  1.3263366e+06 3.21e+02 1.24e+06  -1.0 2.92e+02   0.5 2.59e-03 1.00e+00f  1\n",
      "  44  1.3263910e+06 3.20e+02 1.23e+06  -1.0 1.80e+02   1.0 1.00e+00 3.87e-03h  1\n",
      "  45  1.3264243e+06 3.19e+02 1.23e+06  -1.0 2.85e+02   0.5 1.00e+00 2.27e-03h  1\n",
      "  46  1.3257939e+06 9.27e+03 4.04e+07  -1.0 3.51e+03   0.0 1.19e-01 8.73e-01f  1\n",
      "  47  1.3257931e+06 9.27e+03 4.04e+07  -1.0 3.50e+02   1.3 1.00e+00 1.20e-04f  1\n",
      "  48  1.3249674e+06 7.01e+03 3.12e+07  -1.0 1.80e+02   1.8 1.94e-01 2.31e-01f  1\n",
      "  49  1.3209100e+06 1.41e+03 1.08e+07  -1.0 2.86e+02   1.3 1.00e+00 6.94e-01f  1\n",
      "iter    objective    inf_pr   inf_du lg(mu)  ||d||  lg(rg) alpha_du alpha_pr  ls\n",
      "  50  1.3216281e+06 1.14e+03 8.70e+06  -1.0 1.26e+03   0.8 9.27e-01 1.96e-01h  1\n",
      "  51  1.3216139e+06 1.12e+03 8.62e+06  -1.0 1.09e+03   0.3 1.00e+00 9.37e-03f  1\n",
      "  52  1.3176453e+06 8.42e+00 3.85e+06  -1.0 1.11e+03  -0.1 8.11e-04 1.00e+00f  1\n",
      "  53  1.3207562e+06 4.15e+00 2.04e+06  -1.0 7.03e+01  -0.6 9.97e-01 5.12e-01h  1\n",
      "  54  1.3207836e+06 4.13e+00 2.03e+06  -1.0 1.43e+02  -1.1 1.00e+00 5.88e-03h  1\n",
      "  55  1.3207970e+06 4.12e+00 2.63e+06  -1.0 6.04e+02  -1.6 2.69e-01 8.56e-04h  1\n",
      "  56  1.3235839e+06 3.25e+00 2.07e+06  -1.0 2.04e+03  -2.1 3.68e-03 2.28e-01h  1\n",
      "  57  1.3242434e+06 3.31e+00 4.09e+06  -1.0 5.58e+02   0.2 8.53e-06 4.90e-02H  1\n",
      "  58  1.3416804e+06 9.17e-02 1.01e+07  -1.0 1.08e+02  -0.3 1.00e+00 1.00e+00h  1\n",
      "  59  1.3418045e+06 1.08e-03 1.01e+05  -1.0 2.15e+00  -0.8 9.84e-01 1.00e+00h  1\n",
      "iter    objective    inf_pr   inf_du lg(mu)  ||d||  lg(rg) alpha_du alpha_pr  ls\n",
      "  60  1.3418023e+06 6.79e-07 4.23e+01  -1.0 9.58e-01  -1.3 1.00e+00 1.00e+00f  1\n",
      "  61  1.3418023e+06 2.55e-07 2.70e+00  -1.0 2.87e+00  -1.7 1.00e+00 1.00e+00f  1\n",
      "  62  1.3418017e+06 8.29e-07 7.82e+00  -1.7 8.60e+00  -2.2 1.00e+00 1.00e+00f  1\n",
      "  63  1.3418002e+06 9.35e-06 5.80e+00  -1.7 2.58e+01  -2.7 1.00e+00 1.00e+00f  1\n",
      "  64  1.3417959e+06 6.31e-05 3.98e+01  -1.7 7.76e+01  -3.2 8.46e-01 1.00e+00f  1\n",
      "  65  1.3417824e+06 9.48e-04 6.03e+02  -1.7 2.35e+02  -3.6 1.00e+00 1.00e+00f  1\n",
      "  66  1.3417386e+06 1.43e-02 8.79e+03  -1.7 7.38e+02  -4.1 2.58e-01 1.00e+00f  1\n",
      "  67  1.3417345e+06 1.44e-02 8.88e+03  -1.7 4.00e+03  -4.6 1.30e-01 1.30e-02f  1\n",
      "  68  1.3416660e+06 4.57e-02 3.60e+04  -1.7 9.33e+02  -4.2 1.00e+00 1.00e+00f  1\n",
      "  69  1.3416214e+06 1.48e-02 1.26e+04  -1.7 3.78e+02  -3.7 1.00e+00 9.95e-01f  1\n",
      "iter    objective    inf_pr   inf_du lg(mu)  ||d||  lg(rg) alpha_du alpha_pr  ls\n",
      "  70  1.3413505e+06 8.38e-01 6.78e+05  -1.7 2.49e+03  -4.2 4.19e-01 1.00e+00f  1\n",
      "  71  1.3396502e+06 1.25e-01 7.32e+04  -1.7 8.21e+00  -0.2 1.09e-03 1.00e+00f  1\n",
      "  72  1.3371016e+06 2.20e-01 1.39e+04  -1.7 2.74e+01  -0.7 2.70e-01 1.00e+00f  1\n",
      "  73  1.3314684e+06 1.00e+00 6.81e+04  -1.7 4.50e+01  -1.1 1.00e+00 1.00e+00f  1\n",
      "  74  1.3198887e+06 2.65e+00 3.10e+05  -1.7 1.44e+02  -1.6 4.77e-01 1.00e+00f  1\n",
      "  75  1.3081335e+06 2.03e+00 3.03e+05  -1.7 2.12e+02  -2.1 1.00e+00 1.00e+00f  1\n",
      "  76  1.3078253e+06 8.43e+00 1.00e+05  -1.7 2.75e+02  -0.8 1.00e+00 3.17e-01f  1\n",
      "  77  1.3060077e+06 8.96e+01 2.14e+06  -1.7 1.07e+02  -0.3 1.05e-02 1.00e+00f  1\n",
      "  78  1.3056312e+06 1.57e+01 1.08e+06  -1.7 1.08e+02  -0.8 1.00e+00 9.82e-01f  1\n",
      "  79  1.3056134e+06 1.54e+01 1.07e+06  -1.7 1.34e+02  -0.4 1.00e+00 1.37e-02f  1\n",
      "iter    objective    inf_pr   inf_du lg(mu)  ||d||  lg(rg) alpha_du alpha_pr  ls\n",
      "  80  1.3056137e+06 1.54e+01 1.07e+06  -1.7 4.84e+01   0.0 1.00e+00 2.50e-04h  1\n",
      "  81  1.3061424e+06 1.36e+01 9.38e+05  -1.7 9.41e+01  -0.4 1.00e+00 1.21e-01h  1\n",
      "  82  1.3100186e+06 5.43e-01 1.04e+06  -1.7 1.00e+02  -0.9 8.88e-01 1.00e+00h  1\n",
      "  83  1.3083403e+06 1.87e-01 1.65e+06  -1.7 1.68e+02  -1.4 4.56e-02 1.00e+00f  1\n",
      "  84  1.3041354e+06 1.83e+00 3.79e+05  -1.7 4.42e+02  -1.9 8.16e-04 1.00e+00f  1\n",
      "  85  1.3010376e+06 1.16e+00 2.16e+05  -1.7 1.76e+02  -1.4 1.00e+00 1.00e+00f  1\n",
      "  86  1.2990601e+06 1.73e+00 3.59e+05  -1.7 7.98e+04  -1.9 5.78e-02 2.62e-03f  1\n",
      "  87  1.2957066e+06 2.00e+00 8.79e+05  -1.7 4.46e+01  -1.5 1.12e-02 1.00e+00f  1\n",
      "  88  1.2917277e+06 2.11e+00 6.94e+05  -1.7 5.42e+01  -2.0 1.00e+00 1.00e+00f  1\n",
      "  89  1.2904140e+06 5.53e+00 4.27e+05  -1.7 7.11e+01  -2.4 1.00e+00 5.90e-01f  1\n",
      "iter    objective    inf_pr   inf_du lg(mu)  ||d||  lg(rg) alpha_du alpha_pr  ls\n",
      "  90  1.2898754e+06 8.53e+00 2.38e+05  -1.7 1.78e+02  -2.9 2.43e-02 1.00e+00f  1\n",
      "  91  1.2896763e+06 4.01e+00 1.33e+04  -1.7 6.16e+02  -3.4 5.94e-01 1.00e+00f  1\n",
      "  92  1.2895342e+06 1.24e+00 1.28e+04  -1.7 3.05e+02  -3.0 1.00e+00 1.00e+00f  1\n",
      "  93  1.2894452e+06 1.74e-01 6.60e+03  -1.7 1.37e+02  -2.5 1.00e+00 1.00e+00f  1\n",
      "  94  1.2889327e+06 9.17e+00 2.62e+05  -1.7 8.38e+02  -3.0 1.00e+00 1.00e+00f  1\n",
      "  95  1.2877965e+06 4.40e+00 2.78e+05  -1.7 5.95e+01  -1.7 1.00e+00 1.00e+00f  1\n",
      "  96  1.2865091e+06 6.76e+01 1.42e+06  -1.7 1.13e+02  -2.2 6.03e-01 1.00e+00f  1\n",
      "  97  1.2867598e+06 2.39e+01 1.76e+06  -1.7 1.31e+02   0.1 1.00e+00 6.45e-01h  1\n",
      "  98  1.2865789e+06 5.82e+01 2.14e+06  -1.7 7.00e+02  -0.4 3.04e-03 1.24e-01f  3\n",
      "  99  1.2867006e+06 4.08e+01 5.03e+06  -1.7 1.58e+02   0.9 1.00e+00 3.03e-01h  1\n",
      "iter    objective    inf_pr   inf_du lg(mu)  ||d||  lg(rg) alpha_du alpha_pr  ls\n",
      " 100  1.2867070e+06 4.04e+01 5.00e+06  -1.7 1.24e+02   1.3 1.00e+00 9.21e-03h  1\n"
     ]
    },
    {
     "name": "stdout",
     "output_type": "stream",
     "text": [
      " 101  1.2867071e+06 4.04e+01 1.90e+07  -1.7 1.25e+02   0.9 1.00e+00 9.96e-05h  1\n",
      " 102  1.2870772e+06 2.60e+01 2.05e+07  -1.7 8.73e+01   0.4 1.00e+00 5.00e-01h  2\n",
      " 103  1.2874216e+06 1.95e+01 1.27e+07  -1.7 9.57e+01  -0.1 2.56e-01 2.50e-01h  3\n",
      " 104  1.2878080e+06 1.50e+01 2.82e+07  -1.7 1.11e+02  -0.6 1.75e-03 2.50e-01h  3\n",
      " 105  1.2877314e+06 1.89e+01 2.65e+07  -1.7 2.71e+03  -1.0 6.22e-05 1.61e-02f  4\n",
      " 106  1.2876895e+06 3.47e+01 3.28e+07  -1.7 1.61e+02  -0.6 1.16e-01 5.00e-01f  2\n",
      " 107  1.2875061e+06 3.94e+00 7.21e+05  -1.7 4.15e+01   0.7 9.41e-01 1.00e+00f  1\n",
      " 108  1.2875989e+06 2.63e-01 2.71e+05  -1.7 7.91e+00   0.2 1.00e+00 1.00e+00h  1\n",
      " 109  1.2875700e+06 4.01e-03 4.63e+04  -1.7 2.56e+00  -0.2 1.00e+00 1.00e+00f  1\n",
      "iter    objective    inf_pr   inf_du lg(mu)  ||d||  lg(rg) alpha_du alpha_pr  ls\n",
      " 110  1.2874607e+06 4.75e-02 7.70e+03  -1.7 5.73e+00  -0.7 1.00e+00 1.00e+00f  1\n",
      " 111  1.2871759e+06 3.11e-01 6.24e+03  -1.7 1.57e+01  -1.2 1.00e+00 1.00e+00f  1\n",
      " 112  1.2866023e+06 2.09e+00 3.09e+04  -1.7 4.54e+01  -1.7 1.00e+00 1.00e+00f  1\n",
      " 113  1.2859198e+06 5.07e+00 1.10e+04  -1.7 1.67e+02  -2.2 1.00e+00 1.00e+00f  1\n",
      " 114  1.2856049e+06 2.87e+01 2.16e+04  -1.7 3.01e+02  -2.6 5.48e-01 1.00e+00f  1\n",
      " 115  1.2853034e+06 1.25e+01 6.35e+04  -1.7 5.81e+02  -3.1 9.95e-01 1.00e+00f  1\n",
      " 116  1.2852030e+06 3.56e+01 5.72e+03  -1.7 1.01e+02  -1.8 6.90e-01 1.00e+00f  1\n",
      " 117  1.2851208e+06 6.68e+00 5.57e+03  -1.7 4.35e+01  -2.3 1.00e+00 1.00e+00f  1\n",
      " 118  1.2851134e+06 2.21e+00 8.11e+03  -1.7 7.29e+01  -2.7 1.00e+00 1.00e+00f  1\n",
      " 119  1.2849354e+06 6.21e+01 3.30e+03  -1.7 2.31e+03  -3.2 1.48e-01 1.71e-01f  1\n",
      "iter    objective    inf_pr   inf_du lg(mu)  ||d||  lg(rg) alpha_du alpha_pr  ls\n",
      " 120  1.2841920e+06 1.97e+02 3.17e+03  -1.7 3.04e+01  -1.0 1.00e+00 1.00e+00f  1\n",
      " 121  1.2834960e+06 6.80e+01 9.97e+03  -1.7 9.67e+01  -0.6 4.19e-01 4.18e-01f  1\n",
      " 122  1.2817246e+06 8.72e+01 2.45e+04  -1.7 6.45e+00   0.8 1.00e+00 1.00e+00f  1\n",
      " 123  1.2802567e+06 5.60e+01 2.76e+04  -1.7 6.22e+00   1.2 1.00e+00 1.00e+00f  1\n",
      " 124  1.2729298e+06 2.47e+02 4.37e+05  -1.7 2.24e+01   0.7 6.95e-01 1.00e+00f  1\n",
      " 125  1.2734002e+06 9.96e+00 1.52e+05  -1.7 1.29e+01   0.2 1.00e+00 1.00e+00h  1\n",
      " 126  1.2640049e+06 8.13e+01 4.25e+05  -1.7 1.73e+01  -0.2 1.00e+00 1.00e+00f  1\n",
      " 127  1.2441765e+06 4.50e+03 5.48e+07  -1.7 1.32e+02  -0.7 1.00e+00 1.00e+00f  1\n",
      " 128  1.2473171e+06 3.87e+02 7.32e+07  -1.7 3.44e+01   1.5 1.00e+00 1.00e+00h  1\n",
      " 129  1.2473846e+06 6.19e+00 2.14e+07  -1.7 1.78e+01   1.0 1.00e+00 1.00e+00h  1\n",
      "iter    objective    inf_pr   inf_du lg(mu)  ||d||  lg(rg) alpha_du alpha_pr  ls\n",
      " 130  1.2468278e+06 1.21e+00 1.38e+06  -1.7 1.46e+00   1.5 1.00e+00 1.00e+00f  1\n",
      " 131  1.2459017e+06 3.93e-01 3.91e+04  -1.7 2.48e+00   1.0 1.00e+00 1.00e+00f  1\n",
      " 132  1.2433943e+06 3.35e+00 3.87e+03  -1.7 7.06e+00   0.5 1.00e+00 1.00e+00f  1\n",
      " 133  1.2381905e+06 2.40e+01 1.19e+03  -1.7 1.70e+01   0.0 1.00e+00 1.00e+00f  1\n",
      " 134  1.2319200e+06 8.85e+01 6.01e+02  -1.7 2.92e+01  -0.4 1.00e+00 1.00e+00f  1\n",
      " 135  1.2291314e+06 6.69e+01 2.16e+03  -1.7 2.71e+01  -0.9 1.00e+00 1.00e+00f  1\n",
      " 136  1.2286590e+06 2.08e+02 1.96e+03  -1.7 3.28e+01  -1.4 1.00e+00 1.00e+00f  1\n",
      " 137  1.2281575e+06 6.14e+02 2.59e+02  -1.7 1.25e+02  -1.9 1.00e+00 1.00e+00f  1\n",
      " 138  1.2264964e+06 8.14e+03 5.08e+02  -1.7 5.40e+02  -2.3 1.00e+00 1.00e+00f  1\n",
      " 139  1.2251547e+06 3.18e+03 1.69e+02  -1.7 2.56e+02  -1.9 1.00e+00 1.00e+00f  1\n",
      "iter    objective    inf_pr   inf_du lg(mu)  ||d||  lg(rg) alpha_du alpha_pr  ls\n",
      " 140  1.2190313e+06 8.31e+04 2.50e+02  -1.7 2.12e+03  -2.4 1.00e+00 6.50e-01f  1\n",
      " 141  1.2151458e+06 7.43e+04 1.12e+02  -1.7 1.04e+03  -2.0 1.00e+00 1.83e-01f  1\n",
      " 142  1.2087208e+06 1.37e+03 5.61e+02  -1.7 5.35e+01  -1.5 9.78e-03 1.00e+00f  1\n",
      " 143  1.2074416e+06 1.68e+03 5.12e+02  -1.7 3.84e+02  -2.0 1.00e+00 1.02e-01f  1\n",
      " 144  1.2073221e+06 1.68e+03 5.56e+02  -1.7 1.11e+03  -2.5 1.00e+00 3.45e-03f  1\n",
      " 145  1.1818335e+06 1.98e+05 8.08e+03  -1.7 2.60e+03  -3.0 1.00e+00 3.26e-01f  1\n",
      " 146  1.1317917e+06 2.31e+05 2.56e+05  -1.7 3.92e+04    -  6.33e-02 1.47e-02f  1\n",
      " 147  1.0932823e+06 2.26e+05 3.32e+05  -1.7 2.85e+04    -  2.59e-03 1.74e-02f  1\n",
      " 148  5.6480268e+05 2.45e+04 4.56e+07  -1.7 2.09e+04    -  8.78e-02 2.87e-01f  1\n",
      " 149  4.0796344e+05 2.33e+04 9.45e+06  -1.7 2.73e+03  -3.5 1.73e-01 1.00e+00f  1\n",
      "iter    objective    inf_pr   inf_du lg(mu)  ||d||  lg(rg) alpha_du alpha_pr  ls\n",
      " 150  4.0702056e+05 2.32e+04 9.44e+06  -1.7 1.26e+04    -  1.00e+00 1.21e-03f  1\n",
      " 151  3.4954588e+04 2.08e+05 1.74e+07  -1.7 1.25e+04    -  1.00e+00 7.92e-01f  1\n",
      " 152  1.7169245e+04 2.95e+04 4.28e+08  -1.7 2.93e+03    -  8.72e-02 1.00e+00f  1\n",
      " 153  1.7165041e+04 2.56e+04 3.93e+08  -1.7 1.14e+03    -  1.49e-01 1.32e-01h  1\n",
      " 154  1.7860710e+04 9.36e+02 6.73e+08  -1.7 6.53e+02    -  2.21e-03 1.00e+00h  1\n",
      " 155  1.7873713e+04 1.17e+03 8.38e+06  -1.7 6.67e+02  -3.9 1.00e+00 1.00e+00h  1\n",
      " 156  1.7867415e+04 5.87e+01 5.96e+05  -1.7 2.39e+02  -4.4 1.00e+00 1.00e+00h  1\n",
      " 157  1.7856060e+04 5.25e+01 6.66e+04  -1.7 1.04e+03  -4.9 1.00e+00 1.00e+00f  1\n",
      " 158  1.7842581e+04 4.31e+01 1.12e+05  -1.7 6.27e+02  -4.5 1.00e+00 1.00e+00f  1\n",
      " 159  1.7830633e+04 2.10e+01 1.84e+05  -1.7 3.22e+02  -4.0 1.00e+00 1.00e+00f  1\n",
      "iter    objective    inf_pr   inf_du lg(mu)  ||d||  lg(rg) alpha_du alpha_pr  ls\n",
      " 160  1.7780037e+04 6.55e+02 4.18e+06  -1.7 5.13e+03  -4.5 6.23e-01 3.47e-01f  1\n",
      " 161  1.7755295e+04 1.19e+02 4.09e+05  -1.7 9.14e+02    -  6.69e-02 1.00e+00f  1\n",
      " 162  1.7711651e+04 5.00e+02 7.16e+06  -1.7 7.99e+02    -  8.99e-01 1.00e+00f  1\n",
      " 163  1.7697274e+04 4.18e+02 6.04e+06  -1.7 3.03e+04    -  8.64e-03 1.55e-01f  1\n",
      " 164  1.7697163e+04 4.07e+02 5.89e+06  -1.7 1.82e+03  -5.0 1.00e+00 2.59e-02h  1\n",
      " 165  1.7696789e+04 4.07e+02 5.89e+06  -1.7 1.79e+03    -  3.91e-01 2.64e-04f  1\n",
      " 166  1.7461726e+04 2.92e+02 1.07e+08  -1.7 4.14e+02    -  1.00e+00 9.93e-01f  1\n",
      " 167  1.7449700e+04 3.04e+02 1.05e+08  -1.7 5.24e+03  -3.7 5.58e-02 5.18e-02f  5\n",
      " 168  1.7025287e+04 4.13e+02 1.18e+08  -1.7 4.49e+02  -3.2 6.96e-01 1.00e+00f  1\n",
      " 169  1.6341706e+04 1.29e+03 1.04e+08  -1.7 3.77e+02  -2.8 1.00e+00 1.00e+00f  1\n",
      "iter    objective    inf_pr   inf_du lg(mu)  ||d||  lg(rg) alpha_du alpha_pr  ls\n",
      " 170  1.6328098e+04 1.53e+03 1.38e+08  -1.7 8.38e+03    -  5.46e-01 4.81e-02f  1\n",
      " 171  1.6455075e+04 6.87e+02 3.97e+07  -1.7 4.11e+02    -  1.86e-02 1.00e+00h  1\n",
      " 172  1.6189887e+04 7.92e+01 4.03e+08  -1.7 1.91e+02  -2.4 1.00e+00 1.00e+00f  1\n",
      " 173  1.6041542e+04 5.49e+01 8.08e+07  -1.7 4.25e+01  -2.9 1.00e+00 1.00e+00f  1\n",
      " 174  1.5827222e+04 1.31e+02 5.02e+07  -1.7 3.94e+02    -  1.00e+00 1.00e+00f  1\n",
      " 175  1.5764447e+04 5.61e+00 8.46e+05  -1.7 2.81e+01    -  1.00e+00 1.00e+00f  1\n",
      " 176  1.5780403e+04 9.30e-02 3.21e+04  -1.7 1.79e+01    -  1.00e+00 1.00e+00h  1\n",
      " 177  1.5780471e+04 4.05e-06 9.75e-01  -1.7 2.24e-01    -  1.00e+00 1.00e+00h  1\n",
      " 178  1.5780471e+04 1.98e-11 5.61e-07  -1.7 2.38e-05    -  1.00e+00 1.00e+00h  1\n",
      " 179  1.5780471e+04 6.12e-08 7.27e-02  -3.8 1.15e-02    -  1.00e+00 1.00e+00h  1\n",
      "iter    objective    inf_pr   inf_du lg(mu)  ||d||  lg(rg) alpha_du alpha_pr  ls\n",
      " 180  1.5780471e+04 1.90e-11 4.57e-07  -3.8 2.85e-07    -  1.00e+00 1.00e+00h  1\n",
      " 181  1.5780471e+04 2.32e-11 4.30e-06  -5.7 8.59e-05    -  1.00e+00 1.00e+00h  1\n",
      " 182  1.5780471e+04 1.68e-11 6.77e-07  -8.6 1.07e-06    -  1.00e+00 1.00e+00h  1\n",
      " 183  1.5780471e+04 2.35e-11 3.40e-08  -8.6 9.86e-12    -  1.00e+00 1.00e+00h  1\n",
      "\n",
      "Number of Iterations....: 183\n",
      "\n",
      "                                   (scaled)                 (unscaled)\n",
      "Objective...............:   1.5221977126780404e+04    1.5780470851053991e+04\n",
      "Dual infeasibility......:   3.3993033853298853e-08    3.5240236888618519e-08\n",
      "Constraint violation....:   2.3526069981016917e-11    2.3526069981016917e-11\n",
      "Complementarity.........:   2.5059035596800622e-09    2.5978450597926808e-09\n",
      "Overall NLP error.......:   8.7578438006715495e-09    3.5240236888618519e-08\n",
      "\n",
      "\n",
      "Number of objective function evaluations             = 234\n",
      "Number of objective gradient evaluations             = 184\n",
      "Number of equality constraint evaluations            = 234\n",
      "Number of inequality constraint evaluations          = 0\n",
      "Number of equality constraint Jacobian evaluations   = 184\n",
      "Number of inequality constraint Jacobian evaluations = 0\n",
      "Number of Lagrangian Hessian evaluations             = 183\n",
      "Total CPU secs in IPOPT (w/o function evaluations)   =      0.576\n",
      "Total CPU secs in NLP function evaluations           =      0.060\n",
      "\n",
      "EXIT: Optimal Solution Found.\n"
     ]
    },
    {
     "name": "stdout",
     "output_type": "stream",
     "text": [
      "        0.69 seconds required for solver\n",
      "        0.00 seconds required to read logfile \n",
      "        0.00 seconds required to read solution file\n",
      "        0.01 seconds required for postsolve\n",
      "ipopt_zL_in : Direction=Suffix.EXPORT, Datatype=Suffix.FLOAT\n",
      "    Key : Value\n",
      "rh_name : Direction=Suffix.IMPORT, Datatype=Suffix.FLOAT\n",
      "    Key : Value\n",
      "ipopt_zL_in : Direction=Suffix.EXPORT, Datatype=Suffix.FLOAT\n",
      "    Key   : Value\n",
      "    P[k1] : 1.2346325619567925e-09\n",
      "    P[k2] : 1.2325954465969887e-07\n",
      "    P[k3] : 1.7387228332911646e-11\n",
      "    P[k4] :  1.219931683726175e-08\n",
      "    P[k5] :  8.940604931616526e-09\n",
      "    P[k6] :  0.0003013598595561354\n"
     ]
    },
    {
     "name": "stderr",
     "output_type": "stream",
     "text": [
      "W[K_AUG]...\t[K_AUG_ASL]No n_rhs declared\n",
      "W[K_AUG]...\t[K_AUG_ASL]Target log10mu:= -11.\n",
      "W[K_AUG]...\t[K_AUG_ASL]No f_timestamp suffix declared, Fallback to default writing mode.\n",
      "I[K_AUG]...\t[K_AUG_ASL] Filename for dot_sens dot_in_.in\n"
     ]
    },
    {
     "name": "stdout",
     "output_type": "stream",
     "text": [
      "[K_AUG] written by D.T. @2018\n",
      "\n"
     ]
    },
    {
     "name": "stderr",
     "output_type": "stream",
     "text": [
      "W[K_AUG]...\t[K_AUG_ASL]Variable \"455\" (offset 6) has an active bound; sigma = 34.958884.\n"
     ]
    },
    {
     "name": "stdout",
     "output_type": "stream",
     "text": [
      ": I[K_AUG]...\t[K_AUG_ASL]File read succesfull\n",
      "I[K_AUG]...\t[K_AUG_ASL]Number of Right hand sides 0\n",
      "I[K_AUG]...\t[K_AUG_ASL]Number of Right hand sides: 0\n",
      "I[K_AUG]...\t[K_AUG_ASL]Number of variables       : 909\n",
      "I[K_AUG]...\t[K_AUG_ASL]Number of constraints     : 903\n",
      "I[K_AUG]...\t[K_AUG_ASL]Number of valid n_dof     : 6\n",
      "I[K_AUG]...\t[ADJUST_MU]log10(mu) computed=-8.585386754603892 at var_i=450\n",
      "I[K_AUG]...\t[ADJUST_MU]log10(mu) close to the target\t-8.585386754603892 at var_i=451\n",
      "I[K_AUG]...\t[FIND_INEQUALITIES]summary: eq: 903, leq: 0, geq: 0 \n",
      "I[K_AUG]...\t[K_AUG_ASL]Nonzeroes in the sparse Jacobian 5103\n",
      "I[K_AUG]...\t[GET_HESS_ASL]Objective found\n",
      "I[K_AUG]...\t[GET_HESS_ASL]Nonzeroes in the sparse hessian 1350\n",
      "I[K_AUG]...\t[GET_HESS_ASL]Minimization problem detected\n",
      "I[K_AUG]...\t[GET_HESS_ASL]Current objective 15780.470851\n",
      "I[K_AUG]...\t[GET_HESS_ASL]Missing nz in the Hessian of the Lag: 759\n",
      "I[K_AUG]...\t[K_AUG_ASL]Barrier term added.\n",
      "I[K_AUG]...\t[K_AUG_ASL]MC19 scaling...\n",
      "I[K_AUG]...\t[ASSM_RHS_RH]According to the suffixes declared dof is 6 \n",
      "I[K_AUG]...\t[ASSM_RHS_RH]n_dof exactly n_var - n_con \n",
      "I[K_AUG]...\t[MUMPS_DRIVER]n_neig = 903\n",
      "I[K_AUG]...\t[INERTIA_STRATEGY]Inertia check successful.\n",
      "I[K_AUG]...\t[MUMPS_DRIVER]: Ratio of norm of scaled residuals (reported); 3.384096e-17 \n",
      "I[K_AUG]...\t[MUMPS_DRIVER]Accuracy at an acceptable level.\n",
      "\n",
      "W[K_AUG]...\t[MUMPS_DRIVER]Inertia check OK neig=903, (neig == m).\n",
      "I[K_AUG]...\t[K_AUG_ASL]Linear solver done. \n",
      "\bI[K_AUG]...\t[K_AUG_ASL]Timings..Ev&Assem 0.013943, Fact 0.050391, Overall 0.058171.\n",
      "Done solving building reduce hessian\n",
      "36 hessian size\n",
      "Parameter variances:  [1.02021274e-04 6.50937614e-07 3.58072971e+00 7.32191305e-05\n",
      " 1.40726911e-05 8.52641188e-15]\n",
      "\n",
      "Confidence intervals:\n",
      "k1 (2.0940437253992163,2.114244841571642)\n",
      "k2 (0.020269401161701655,0.02188301525959036)\n",
      "k3 (147.51882692191649,151.3033901535264)\n",
      "k4 (0.20439321642867675,0.2215068519857481)\n",
      "k5 (0.28681566573498096,0.29431838285716994)\n",
      "k6 (8.518069811576303e-06,8.702746955586879e-06)\n"
     ]
    }
   ],
   "source": [
    "options = dict()\n",
    "results_pyomo = p_estimator.run_opt('k_aug',\n",
    "                                    variances=sigmas,\n",
    "                                  tee=True,\n",
    "                                  solver_opts = options,\n",
    "                                  covariance=True)"
   ]
  },
  {
   "cell_type": "code",
   "execution_count": 17,
   "metadata": {},
   "outputs": [
    {
     "name": "stdout",
     "output_type": "stream",
     "text": [
      "The estimated parameters are:\n",
      "k1 2.104144283485429\n",
      "k2 0.021076208210646007\n",
      "k3 149.41110853772145\n",
      "k4 0.21295003420721242\n",
      "k5 0.29056702429607545\n",
      "k6 8.61040838358159e-06\n"
     ]
    }
   ],
   "source": [
    "print(\"The estimated parameters are:\")\n",
    "for k,v in six.iteritems(results_pyomo.P):\n",
    "    print(k, v)"
   ]
  },
  {
   "cell_type": "code",
   "execution_count": 19,
   "metadata": {},
   "outputs": [
    {
     "data": {
      "text/plain": [
       "array([[ 2.23603297e-02, -1.40344920e-03, -1.03684892e+00,\n",
       "        -1.35277315e-02, -2.83368028e-03,  1.39950384e-07],\n",
       "       [-1.40344920e-03,  1.42668084e-04,  1.30290118e-01,\n",
       "         1.50347671e-03,  2.60413106e-04, -1.59092047e-08],\n",
       "       [-1.03684892e+00,  1.30290118e-01,  7.84800012e+02,\n",
       "         1.44165757e+00,  1.50600685e+00, -1.80216554e-05],\n",
       "       [-1.35277315e-02,  1.50347671e-03,  1.44165757e+00,\n",
       "         1.60476716e-02,  2.73684839e-03, -1.71058663e-07],\n",
       "       [-2.83368028e-03,  2.60413106e-04,  1.50600685e+00,\n",
       "         2.73684839e-03,  3.08435682e-03, -3.28003086e-08],\n",
       "       [ 1.39950384e-07, -1.59092047e-08, -1.80216554e-05,\n",
       "        -1.71058663e-07, -3.28003086e-08,  1.86876103e-12]])"
      ]
     },
     "execution_count": 19,
     "metadata": {},
     "output_type": "execute_result"
    }
   ],
   "source": [
    "# since kipet outputs reduced hessian which equals covariance if right sigma values are specified. \n",
    "# since we just specified sigma=1, we need to adjust the covariance matrix output from KIPET to get the \n",
    "# estimated covariance matrix\n",
    "mse = results_pyomo.objective / (50*3 - 6)\n",
    "cov_est = 2 * mse * results_pyomo.parameter_covariance\n",
    "cov_est"
   ]
  },
  {
   "cell_type": "code",
   "execution_count": 31,
   "metadata": {},
   "outputs": [
    {
     "name": "stdout",
     "output_type": "stream",
     "text": [
      "conf_delta\n",
      "[2.95564598e-01 2.36089530e-02 5.53723319e+01 2.50391353e-01\n",
      " 1.09773022e-01 2.70203019e-06]\n",
      "% conf delta\n",
      "[ 14.04678376 112.01707976  37.06038487 117.5822083   37.77889873\n",
      "  31.38097601]\n"
     ]
    }
   ],
   "source": [
    "# calculate conf delta (p = p_est +/- conf_delta) and % conf_delta = conf_delta/p_est\n",
    "dof = 50*3 - 6\n",
    "conf_delta = t.ppf(0.975, dof) * np.sqrt(np.diag(cov_est))\n",
    "print('conf_delta')\n",
    "print(conf_delta)\n",
    "print('% conf delta')\n",
    "print(conf_delta * 100/ np.array(list(results_pyomo.P.values())))"
   ]
  },
  {
   "cell_type": "code",
   "execution_count": 34,
   "metadata": {},
   "outputs": [
    {
     "name": "stdout",
     "output_type": "stream",
     "text": [
      "conf delta book\n",
      "[1.47910839e+00 7.07945784e+01 1.99526231e+18 8.12830516e+01\n",
      " 1.99526231e+18 2.08929613e+00]\n",
      "% conf delta book\n",
      "[7.07945784e+01 2.23872114e+05 6.30957344e+16 2.51188643e+04\n",
      " 2.81838293e+19 2.51188643e+07]\n"
     ]
    }
   ],
   "source": [
    "# In the book (after converting log10(k) to k), the value of conf_delta and % conf delta is the following\n",
    "p_est_jbr = 10 ** np.array([0.32, -1.5, 3.5, -0.49, 0.85, -5.08])\n",
    "conf_delta_jbr = 10 ** np.array([0.17, 1.85, 18.3, 1.91, 18.3, 0.32])\n",
    "conf_delta_pct_jbr = conf_delta_jbr * 100/ p_est_jbr\n",
    "print('conf delta book')\n",
    "print(conf_delta_jbr)\n",
    "print('% conf delta book')\n",
    "print(conf_delta_pct_jbr)"
   ]
  },
  {
   "cell_type": "markdown",
   "metadata": {},
   "source": [
    "The confidence intervals in the book are very wide and they suggest how to reduce the model. I am not sure why the confidence intervals from kipet are very tight. The data is a bit different since it is generated with random noise. Still it is hard to envision such a large difference. It needs to be looked into further."
   ]
  },
  {
   "cell_type": "code",
   "execution_count": 35,
   "metadata": {},
   "outputs": [
    {
     "data": {
      "image/png": "[encoded data removed]",
      "text/plain": [
       "<Figure size 432x288 with 3 Axes>"
      ]
     },
     "metadata": {
      "needs_background": "light"
     },
     "output_type": "display_data"
    }
   ],
   "source": [
    "fig, ax = plt.subplots(3)\n",
    "cmplist = ['A', 'B', 'C']\n",
    "for (i, c) in enumerate(cmplist):\n",
    "    ax[i].scatter(D_frame.index, D_frame[c])\n",
    "    ax[i].plot(results_pyomo.Z.index, results_pyomo.Z[c])\n",
    "    ax[i].set_xlabel('time')\n",
    "    ax[i].set_ylabel(c)"
   ]
  },
  {
   "cell_type": "markdown",
   "metadata": {},
   "source": [
    "In the book, they look at the covariance matrix of parameters (which are log10(k)). To look at a covariance matrix for ln(k) we need to do the following transformation of the estimated covariance matrix\n",
    "$$ Cov(ln(k)) = Diag(k)^{-1}Cov(k)Diag(k)^{-1} $$"
   ]
  },
  {
   "cell_type": "code",
   "execution_count": 23,
   "metadata": {},
   "outputs": [
    {
     "data": {
      "text/plain": [
       "array([[ 0.00505042, -0.03164672, -0.00329805, -0.0301906 , -0.00463478,\n",
       "         0.00772458],\n",
       "       [-0.03164672,  0.3211751 ,  0.04137482,  0.33498589,  0.04252301,\n",
       "        -0.08766621],\n",
       "       [-0.00329805,  0.04137482,  0.0351555 ,  0.04531078,  0.03468948,\n",
       "        -0.01400838],\n",
       "       [-0.0301906 ,  0.33498589,  0.04531078,  0.35388047,  0.04423099,\n",
       "        -0.09329183],\n",
       "       [-0.00463478,  0.04252301,  0.03468948,  0.04423099,  0.03653187,\n",
       "        -0.01311016],\n",
       "       [ 0.00772458, -0.08766621, -0.01400838, -0.09329183, -0.01311016,\n",
       "         0.02520614]])"
      ]
     },
     "execution_count": 23,
     "metadata": {},
     "output_type": "execute_result"
    }
   ],
   "source": [
    "# scaled covariance\n",
    "k_diag_inv = np.diag(1 / np.array(list(results_pyomo.P.values())))\n",
    "cov_est_scaled = np.dot(np.dot(k_diag_inv, cov_est), k_diag_inv)\n",
    "cov_est_scaled"
   ]
  },
  {
   "cell_type": "code",
   "execution_count": 25,
   "metadata": {},
   "outputs": [],
   "source": [
    "eigval, eigvec = sla.eig(cov_est_scaled)"
   ]
  },
  {
   "cell_type": "code",
   "execution_count": 27,
   "metadata": {},
   "outputs": [
    {
     "data": {
      "text/plain": [
       "(array([7.12465634e-01+0.j, 5.83282477e-02+0.j, 5.15796266e-03+0.j,\n",
       "        7.91899100e-04+0.j, 1.22501660e-05+0.j, 2.43502145e-04+0.j]),\n",
       " (58159.67172603623+0j))"
      ]
     },
     "execution_count": 27,
     "metadata": {},
     "output_type": "execute_result"
    }
   ],
   "source": [
    "eigval, max(eigval) / min(eigval)"
   ]
  },
  {
   "cell_type": "code",
   "execution_count": 29,
   "metadata": {},
   "outputs": [
    {
     "data": {
      "text/plain": [
       "(array([-0.59699895, -0.51880256, -0.02863722,  0.52246646,  0.03589106,\n",
       "         0.31520897]),\n",
       " array([ 0.09699673,  0.2301467 ,  0.49426341, -0.03153523, -0.43511979,\n",
       "         0.70922783]))"
      ]
     },
     "execution_count": 29,
     "metadata": {},
     "output_type": "execute_result"
    }
   ],
   "source": [
    "eigvec[:, 4], eigvec[:, 5]"
   ]
  }
 ],
 "metadata": {
  "kernelspec": {
   "display_name": "Python 3",
   "language": "python",
   "name": "python3"
  },
  "language_info": {
   "codemirror_mode": {
    "name": "ipython",
    "version": 3
   },
   "file_extension": ".py",
   "mimetype": "text/x-python",
   "name": "python",
   "nbconvert_exporter": "python",
   "pygments_lexer": "ipython3",
   "version": "3.7.3"
  }
 },
 "nbformat": 4,
 "nbformat_minor": 2
}
