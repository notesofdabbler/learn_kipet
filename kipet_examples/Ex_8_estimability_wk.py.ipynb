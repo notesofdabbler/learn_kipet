{
 "cells": [
  {
   "cell_type": "code",
   "execution_count": 1,
   "metadata": {},
   "outputs": [],
   "source": [
    "#\n",
    "# Working through\n",
    "# https://github.com/salvadorgarciamunoz/kipet/blob/master/kipet/examples/Ex_8_estimability.py\n",
    "#"
   ]
  },
  {
   "cell_type": "code",
   "execution_count": 2,
   "metadata": {},
   "outputs": [],
   "source": [
    "# Sample Problem \n",
    "# using simulated data for a concentration-only problem for 5 components and\n",
    "# 4 kinetic parameters this problem demonstrates the estimability parameter ranking\n",
    "# algorithm\n",
    "\n",
    "from __future__ import print_function\n",
    "from kipet.library.TemplateBuilder import *\n",
    "from kipet.library.PyomoSimulator import *\n",
    "from kipet.library.ParameterEstimator import *\n",
    "from kipet.library.VarianceEstimator import *\n",
    "from kipet.library.data_tools import *\n",
    "from kipet.library.EstimabilityAnalyzer import *\n",
    "import matplotlib.pyplot as plt\n",
    "import os\n",
    "import sys\n",
    "import inspect\n",
    "import six\n",
    "import pandas as pd"
   ]
  },
  {
   "cell_type": "code",
   "execution_count": 3,
   "metadata": {},
   "outputs": [
    {
     "name": "stdout",
     "output_type": "stream",
     "text": [
      "read dir : /home/paperspace/learn_kipet/kipet_examples/../data_sets/new_estim_problem_conc.csv\n"
     ]
    }
   ],
   "source": [
    "filename = 'new_estim_problem_conc.csv'\n",
    "D_frame = read_concentration_data_from_csv(filename, directory = '../data_sets')"
   ]
  },
  {
   "cell_type": "code",
   "execution_count": 4,
   "metadata": {},
   "outputs": [
    {
     "data": {
      "text/html": [
       "<div>\n",
       "<style scoped>\n",
       "    .dataframe tbody tr th:only-of-type {\n",
       "        vertical-align: middle;\n",
       "    }\n",
       "\n",
       "    .dataframe tbody tr th {\n",
       "        vertical-align: top;\n",
       "    }\n",
       "\n",
       "    .dataframe thead th {\n",
       "        text-align: right;\n",
       "    }\n",
       "</style>\n",
       "<table border=\"1\" class=\"dataframe\">\n",
       "  <thead>\n",
       "    <tr style=\"text-align: right;\">\n",
       "      <th></th>\n",
       "      <th>A</th>\n",
       "      <th>B</th>\n",
       "      <th>C</th>\n",
       "      <th>D</th>\n",
       "      <th>E</th>\n",
       "    </tr>\n",
       "  </thead>\n",
       "  <tbody>\n",
       "    <tr>\n",
       "      <th>0.00000</th>\n",
       "      <td>0.296158</td>\n",
       "      <td>0.005100</td>\n",
       "      <td>0.000000</td>\n",
       "      <td>0.012171</td>\n",
       "      <td>0.000846</td>\n",
       "    </tr>\n",
       "    <tr>\n",
       "      <th>0.03101</th>\n",
       "      <td>0.292748</td>\n",
       "      <td>0.010935</td>\n",
       "      <td>0.000000</td>\n",
       "      <td>0.010323</td>\n",
       "      <td>0.001318</td>\n",
       "    </tr>\n",
       "    <tr>\n",
       "      <th>0.12899</th>\n",
       "      <td>0.254150</td>\n",
       "      <td>0.033794</td>\n",
       "      <td>0.003003</td>\n",
       "      <td>0.020728</td>\n",
       "      <td>0.000000</td>\n",
       "    </tr>\n",
       "    <tr>\n",
       "      <th>0.20000</th>\n",
       "      <td>0.229463</td>\n",
       "      <td>0.052050</td>\n",
       "      <td>0.000500</td>\n",
       "      <td>0.027724</td>\n",
       "      <td>0.000656</td>\n",
       "    </tr>\n",
       "    <tr>\n",
       "      <th>0.23101</th>\n",
       "      <td>0.222583</td>\n",
       "      <td>0.059781</td>\n",
       "      <td>0.002038</td>\n",
       "      <td>0.028427</td>\n",
       "      <td>0.003003</td>\n",
       "    </tr>\n",
       "    <tr>\n",
       "      <th>...</th>\n",
       "      <td>...</td>\n",
       "      <td>...</td>\n",
       "      <td>...</td>\n",
       "      <td>...</td>\n",
       "      <td>...</td>\n",
       "    </tr>\n",
       "    <tr>\n",
       "      <th>19.72899</th>\n",
       "      <td>0.000000</td>\n",
       "      <td>0.000000</td>\n",
       "      <td>0.006217</td>\n",
       "      <td>0.000000</td>\n",
       "      <td>0.155295</td>\n",
       "    </tr>\n",
       "    <tr>\n",
       "      <th>19.80000</th>\n",
       "      <td>0.000000</td>\n",
       "      <td>0.000000</td>\n",
       "      <td>0.005465</td>\n",
       "      <td>0.001430</td>\n",
       "      <td>0.146208</td>\n",
       "    </tr>\n",
       "    <tr>\n",
       "      <th>19.83101</th>\n",
       "      <td>0.000000</td>\n",
       "      <td>0.002881</td>\n",
       "      <td>0.000838</td>\n",
       "      <td>0.002537</td>\n",
       "      <td>0.156506</td>\n",
       "    </tr>\n",
       "    <tr>\n",
       "      <th>19.92899</th>\n",
       "      <td>0.000000</td>\n",
       "      <td>0.000000</td>\n",
       "      <td>0.000952</td>\n",
       "      <td>0.001422</td>\n",
       "      <td>0.153790</td>\n",
       "    </tr>\n",
       "    <tr>\n",
       "      <th>20.00000</th>\n",
       "      <td>0.000000</td>\n",
       "      <td>0.001081</td>\n",
       "      <td>0.003502</td>\n",
       "      <td>0.001835</td>\n",
       "      <td>0.152463</td>\n",
       "    </tr>\n",
       "  </tbody>\n",
       "</table>\n",
       "<p>301 rows × 5 columns</p>\n",
       "</div>"
      ],
      "text/plain": [
       "                 A         B         C         D         E\n",
       "0.00000   0.296158  0.005100  0.000000  0.012171  0.000846\n",
       "0.03101   0.292748  0.010935  0.000000  0.010323  0.001318\n",
       "0.12899   0.254150  0.033794  0.003003  0.020728  0.000000\n",
       "0.20000   0.229463  0.052050  0.000500  0.027724  0.000656\n",
       "0.23101   0.222583  0.059781  0.002038  0.028427  0.003003\n",
       "...            ...       ...       ...       ...       ...\n",
       "19.72899  0.000000  0.000000  0.006217  0.000000  0.155295\n",
       "19.80000  0.000000  0.000000  0.005465  0.001430  0.146208\n",
       "19.83101  0.000000  0.002881  0.000838  0.002537  0.156506\n",
       "19.92899  0.000000  0.000000  0.000952  0.001422  0.153790\n",
       "20.00000  0.000000  0.001081  0.003502  0.001835  0.152463\n",
       "\n",
       "[301 rows x 5 columns]"
      ]
     },
     "execution_count": 4,
     "metadata": {},
     "output_type": "execute_result"
    }
   ],
   "source": [
    "D_frame"
   ]
  },
  {
   "cell_type": "code",
   "execution_count": 5,
   "metadata": {},
   "outputs": [],
   "source": [
    "builder = TemplateBuilder()    \n",
    "builder.add_mixture_component('A',0.3)\n",
    "builder.add_mixture_component('B',0.0)\n",
    "builder.add_mixture_component('C',0.0)\n",
    "builder.add_mixture_component('D',0.01)\n",
    "builder.add_mixture_component('E',0.0)\n",
    "\n",
    "#Following this we add the kinetic parameters\n",
    "builder.add_parameter('k1',bounds=(0.1,2))\n",
    "builder.add_parameter('k2',bounds=(0.0,2))\n",
    "builder.add_parameter('k3',bounds=(0.0,2))\n",
    "builder.add_parameter('k4',bounds=(0.0,2))\n",
    "# define explicit system of ODEs\n",
    "def rule_odes(m,t):\n",
    "    exprs = dict()\n",
    "    exprs['A'] = -m.P['k1']*m.Z[t,'A']-m.P['k4']*m.Z[t,'A']\n",
    "    exprs['B'] = m.P['k1']*m.Z[t,'A']-m.P['k2']*m.Z[t,'B']-m.P['k3']*m.Z[t,'B']\n",
    "    exprs['C'] = m.P['k2']*m.Z[t,'B']-m.P['k4']*m.Z[t,'C']\n",
    "    exprs['D'] = m.P['k4']*m.Z[t,'A']-m.P['k3']*m.Z[t,'D']\n",
    "    exprs['E'] = m.P['k3']*m.Z[t,'B']\n",
    "\n",
    "    return exprs\n",
    "builder.add_concentration_data(D_frame)\n",
    "#Add these ODEs to our model template\n",
    "builder.set_odes_rule(rule_odes)\n",
    "opt_model = builder.create_pyomo_model(0.0,20.0) "
   ]
  },
  {
   "cell_type": "code",
   "execution_count": 6,
   "metadata": {},
   "outputs": [
    {
     "name": "stdout",
     "output_type": "stream",
     "text": [
      "WARNING: More finite elements were found in ContinuousSet 'alltime' than the\n",
      "    number of finite elements specified in apply. The larger number of finite\n",
      "    elements will be used.\n"
     ]
    }
   ],
   "source": [
    "# Here we use the estimability analysis tools\n",
    "e_analyzer = EstimabilityAnalyzer(opt_model)\n",
    "# Problem needs to be discretized first\n",
    "e_analyzer.apply_discretization('dae.collocation',nfe=60,ncp=1,scheme='LAGRANGE-RADAU')\n",
    "# sigmas, as before, represent the variances in regard to component\n",
    "sigmas = {'A':1e-10,'B':1e-10,'C':1e-11, 'D':1e-11,'E':1e-11,'device':3e-9}"
   ]
  },
  {
   "cell_type": "code",
   "execution_count": 7,
   "metadata": {},
   "outputs": [
    {
     "name": "stderr",
     "output_type": "stream",
     "text": [
      "W[K_AUG]...\t[K_AUG_ASL]No n_rhs declared\n",
      "W[K_AUG]...\t[K_AUG_ASL]Target log10mu:= -11.\n",
      "W[K_AUG]...\t[K_AUG_ASL]This problem has no degrees of freedom\n",
      "Pass the option square_override for the desired behaviour\n",
      "W[K_AUG_ASL]...\t[K_AUG_ASL]No ipopt_zL_out suffix declared, setting zL = 0.\n",
      "W[K_AUG_ASL]...\t[K_AUG_ASL]No ipopt_zU_out suffix declared, setting zU = 0.\n",
      "W[K_AUG]...\t[K_AUG_ASL]No f_timestamp suffix declared, Fallback to default writing mode.\n",
      "I[K_AUG]...\t[K_AUG_ASL] Filename for dot_sens dsdp_in_.in\n",
      "W[K_AUG]...\t[K_AUG_ASL]dsdp for linear C(x) + I*p = 0 override.\n"
     ]
    },
    {
     "name": "stdout",
     "output_type": "stream",
     "text": [
      "[K_AUG] written by D.T. @2018\n",
      "\n",
      ": dsdp_mode=\n",
      "dsdp_mode=\n",
      "I[K_AUG]...\t[K_AUG_ASL]File read succesfull\n",
      "I[K_AUG]...\t[K_AUG_ASL]Number of Right hand sides 0\n",
      "I[K_AUG]...\t[K_AUG_ASL]Number of Right hand sides: 0\n",
      "I[K_AUG]...\t[K_AUG_ASL]Number of variables       : 3009\n",
      "I[K_AUG]...\t[K_AUG_ASL]Number of constraints     : 3009\n",
      "I[K_AUG]...\t[K_AUG_ASL]Number of valid n_dof     : 0\n",
      "I[K_AUG]...\t[ADJUST_MU]\tWarning no relevant info from the problem can predict logmu\n",
      "I[K_AUG]...\t[FIND_INEQUALITIES]summary: eq: 3009, leq: 0, geq: 0 \n",
      "I[K_AUG]...\t[K_AUG_ASL]Nonzeroes in the sparse Jacobian 11409\n",
      "I[K_AUG]...\t[GET_HESS_ASL]Objective found\n",
      "I[K_AUG]...\t[GET_HESS_ASL]Nonzeroes in the sparse hessian 3305\n",
      "I[K_AUG]...\t[GET_HESS_ASL]Minimization problem detected\n",
      "I[K_AUG]...\t[GET_HESS_ASL]Current objective 134382406367.439651\n",
      "I[K_AUG]...\t[GET_HESS_ASL]Missing nz in the Hessian of the Lag: 1504\n",
      "I[K_AUG]...\t[K_AUG_ASL]Barrier term added.\n",
      "I[K_AUG]...\t[K_AUG_ASL]MC19 scaling...\n",
      "I[K_AUG]...\t[ASSM_RHS_DCDP]According to the suffixes declared len p is 4 \n",
      " On return from DMUMPS, INFOG(1)=              -9\n",
      " On return from DMUMPS, INFOG(2)=             284\n",
      "I[K_AUG]...\t[MUMPS_DRIVER]Reallocating Memory (50)\n",
      "\n",
      "I[K_AUG]...\t[MUMPS_DRIVER]n_neig = 3009\n",
      "I[K_AUG]...\t[INERTIA_STRATEGY]Inertia check successful.\n",
      "I[K_AUG]...\t[MUMPS_DRIVER]: Ratio of norm of scaled residuals (reported); 1.426312e-17 \n",
      "I[K_AUG]...\t[MUMPS_DRIVER]Accuracy at an acceptable level.\n",
      "\n",
      "W[K_AUG]...\t[MUMPS_DRIVER]Inertia check OK neig=3009, (neig == m).\n",
      "I[K_AUG]...\t[K_AUG_ASL]Linear solver done. \n",
      "I[K_AUG]...\t[K_AUG_ASL]var_order suffix detected. Make sure var_order[i] > 0.\n",
      "I[K_AUG]...\t[K_AUG_ASL]Timings..Ev&Assem 0.055749, Fact 0.341765, Overall 0.357323.\n",
      "Done solving sensitivities\n"
     ]
    }
   ],
   "source": [
    "dsdp, idx_to_param = e_analyzer.get_sensitivities_for_params(tee=True, sigmasq=sigmas)"
   ]
  },
  {
   "cell_type": "code",
   "execution_count": 18,
   "metadata": {},
   "outputs": [
    {
     "data": {
      "text/plain": [
       "[<matplotlib.lines.Line2D at 0x7fa8e48cdef0>]"
      ]
     },
     "execution_count": 18,
     "metadata": {},
     "output_type": "execute_result"
    },
    {
     "data": {
      "image/png": "[encoded data removed]",
      "text/plain": [
       "<Figure size 432x288 with 1 Axes>"
      ]
     },
     "metadata": {
      "needs_background": "light"
     },
     "output_type": "display_data"
    }
   ],
   "source": [
    "x = dsdp[:1505:5,0]\n",
    "plt.plot(x)"
   ]
  },
  {
   "cell_type": "code",
   "execution_count": null,
   "metadata": {},
   "outputs": [],
   "source": [
    "# define the uncertainty surrounding each of the parameters\n",
    "# This is used for scaling the variables (i.e. 0.01 means that we are sure that the initial \n",
    "# value ofthat parameter is within 1 % of the real value)\n",
    "param_uncertainties = {'k1':0.09,'k2':0.01,'k3':0.02,'k4':0.5}\n",
    "\n",
    "# measurement scaling\n",
    "meas_uncertainty = 0.05"
   ]
  },
  {
   "cell_type": "code",
   "execution_count": null,
   "metadata": {},
   "outputs": [],
   "source": [
    "# The rank_params_yao function ranks parameters from most estimable to least estimable \n",
    "# using the method of Yao (2003). Notice the required arguments. Returns a dictionary of rankings.\n",
    "listparams = e_analyzer.rank_params_yao(meas_scaling = meas_uncertainty, param_scaling = param_uncertainties, sigmas =sigmas)\n",
    "print(listparams)"
   ]
  },
  {
   "cell_type": "code",
   "execution_count": null,
   "metadata": {},
   "outputs": [],
   "source": [
    "# Now we can run the analyzer using the list of ranked parameters\n",
    "params_to_select = e_analyzer.run_analyzer(method = 'Wu', parameter_rankings = listparams,meas_scaling = meas_uncertainty, variances =sigmas)\n",
    "# We can then use this information to fix certain parameters and run the parameter estimation\n",
    "print(params_to_select)"
   ]
  },
  {
   "cell_type": "code",
   "execution_count": null,
   "metadata": {},
   "outputs": [],
   "source": [
    "dsdp, idx_to_param = e_analyzer.get_sensitivities_for_params(tee=True, sigmasq=sigmas)"
   ]
  },
  {
   "cell_type": "code",
   "execution_count": null,
   "metadata": {},
   "outputs": [],
   "source": [
    "idx_to_param"
   ]
  },
  {
   "cell_type": "code",
   "execution_count": null,
   "metadata": {},
   "outputs": [],
   "source": []
  },
  {
   "cell_type": "code",
   "execution_count": null,
   "metadata": {},
   "outputs": [],
   "source": []
  }
 ],
 "metadata": {
  "kernelspec": {
   "display_name": "Python 3",
   "language": "python",
   "name": "python3"
  },
  "language_info": {
   "codemirror_mode": {
    "name": "ipython",
    "version": 3
   },
   "file_extension": ".py",
   "mimetype": "text/x-python",
   "name": "python",
   "nbconvert_exporter": "python",
   "pygments_lexer": "ipython3",
   "version": "3.7.3"
  }
 },
 "nbformat": 4,
 "nbformat_minor": 2
}
