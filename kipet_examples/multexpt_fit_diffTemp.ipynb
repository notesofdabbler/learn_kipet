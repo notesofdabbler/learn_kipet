{
 "cells": [
  {
   "cell_type": "code",
   "execution_count": 1,
   "metadata": {},
   "outputs": [],
   "source": [
    "# Adapted from\n",
    "# https://github.com/salvadorgarciamunoz/kipet/blob/master/kipet/new_examples/Ex_12_multiple_experiments_concentration.py\n",
    "#"
   ]
  },
  {
   "cell_type": "code",
   "execution_count": 37,
   "metadata": {},
   "outputs": [],
   "source": [
    "from kipet import KipetModel\n",
    "import pyomo.environ as pyo\n",
    "import numpy as np\n",
    "import pandas as pd\n",
    "import matplotlib.pyplot as plt"
   ]
  },
  {
   "cell_type": "code",
   "execution_count": 56,
   "metadata": {},
   "outputs": [],
   "source": [
    "def build_model(kipet_model, datainit, rxnname):\n",
    "\n",
    "    Tref = 298\n",
    "    T = datainit['T']\n",
    "    \n",
    "    r1 = kipet_model.new_reaction(rxnname)\n",
    "\n",
    "    r1.add_component('A', state = 'concentration', init = datainit['A'])\n",
    "    r1.add_component('B', state = 'concentration', init = datainit['B'])\n",
    "    r1.add_component('C', state = 'concentration', init = datainit['C'])\n",
    "    r1.add_component('D', state = 'concentration', init = datainit['D'])\n",
    "\n",
    "    r1.add_parameter('k1ref', init = 0.1, bounds = (0.0, 10.0))\n",
    "    r1.add_parameter('k2ref', init = 0.1, bounds = (0.0, 10.0))\n",
    "    r1.add_parameter('Ea1', init = 20, bounds = (0.0, 100.0))\n",
    "    r1.add_parameter('Ea2', init = 20, bounds = (0.0, 100.0))\n",
    "\n",
    "\n",
    "    def rule_odes(m, t):\n",
    "\n",
    "        k1 = m.P['k1ref'] * pyo.exp(-m.P['Ea1']/8.314e-3 * (1/T - 1/Tref))\n",
    "        k2 = m.P['k2ref'] * pyo.exp(-m.P['Ea2']/8.314e-3 * (1/T - 1/Tref))\n",
    "\n",
    "        exprs = dict()\n",
    "        exprs['A'] = -k1*m.Z[t,'A']*m.Z[t,'B']\n",
    "        exprs['B'] = -k1*m.Z[t,'A']*m.Z[t,'B']-k2*m.Z[t,'B']*m.Z[t,'C']\n",
    "        exprs['C'] = k1*m.Z[t,'A']*m.Z[t,'B']-k2*m.Z[t,'B']*m.Z[t,'C']\n",
    "        exprs['D'] = k2*m.Z[t,'B']*m.Z[t,'C']\n",
    "        return exprs\n",
    "\n",
    "    \n",
    "    r1.add_equations(rule_odes)\n",
    "    \n",
    "    return r1"
   ]
  },
  {
   "cell_type": "code",
   "execution_count": 57,
   "metadata": {},
   "outputs": [],
   "source": [
    "datainit = {'Exp1': {'A': 1, 'B': 2, 'C': 0, 'D': 0, 'T': 298},\n",
    "            'Exp2': {'A': 1, 'B': 1, 'C': 0, 'D': 0, 'T': 298},\n",
    "            'Exp3': {'A': 1, 'B': 2, 'C': 0, 'D': 0, 'T': 273}}"
   ]
  },
  {
   "cell_type": "code",
   "execution_count": 58,
   "metadata": {},
   "outputs": [
    {
     "name": "stdout",
     "output_type": "stream",
     "text": [
      "Warning: Component A variance not provided\n",
      "Warning: Component B variance not provided\n",
      "Warning: Component C variance not provided\n",
      "Warning: Component D variance not provided\n",
      "Warning: Component A variance not provided\n",
      "Warning: Component B variance not provided\n",
      "Warning: Component C variance not provided\n",
      "Warning: Component D variance not provided\n",
      "Warning: Component A variance not provided\n",
      "Warning: Component B variance not provided\n",
      "Warning: Component C variance not provided\n",
      "Warning: Component D variance not provided\n"
     ]
    }
   ],
   "source": [
    "kipet_model = KipetModel() \n",
    "r1 = build_model(kipet_model, datainit['Exp1'], 'Exp1')\n",
    "r2 = build_model(kipet_model, datainit['Exp2'], 'Exp2')\n",
    "r3 = build_model(kipet_model, datainit['Exp3'], 'Exp3')"
   ]
  },
  {
   "cell_type": "code",
   "execution_count": 59,
   "metadata": {},
   "outputs": [],
   "source": [
    "dirname = '/home/paperspace/learn_kipet/my_data_sets/'\n",
    "C_data_1 = pd.read_csv(dirname + 'ABCD_cb0_2_temp_298.csv', index_col = 0)\n",
    "C_data_2 = pd.read_csv(dirname + 'ABCD_cb0_1_T_298.csv', index_col = 0)\n",
    "C_data_3 = pd.read_csv(dirname + 'ABCD_cb0_1_T_273.csv', index_col = 0)"
   ]
  },
  {
   "cell_type": "code",
   "execution_count": 60,
   "metadata": {},
   "outputs": [],
   "source": [
    "r1.add_dataset('C_data_1', category = 'concentration', data = C_data_1[['A', 'B', 'C', 'D']])\n",
    "r2.add_dataset('C_data_2', category = 'concentration', data = C_data_2[['A', 'B', 'C', 'D']])\n",
    "r3.add_dataset('C_data_3', category = 'concentration', data = C_data_3[['A', 'B', 'C', 'D']])"
   ]
  },
  {
   "cell_type": "code",
   "execution_count": 61,
   "metadata": {},
   "outputs": [],
   "source": [
    "r1.set_times(0.0, 4.0)\n",
    "r2.set_times(0.0, 7.0)\n",
    "r3.set_times(0.0, 15.0)"
   ]
  },
  {
   "cell_type": "code",
   "execution_count": 62,
   "metadata": {},
   "outputs": [],
   "source": [
    "r1.variances = {'A':1, 'B':1, 'C':1, 'D':1}\n",
    "r2.variances = {'A':1, 'B':1, 'C':1, 'D':1}\n",
    "r3.variances = {'A':1, 'B':1, 'C':1, 'D':1}"
   ]
  },
  {
   "cell_type": "code",
   "execution_count": 63,
   "metadata": {},
   "outputs": [],
   "source": [
    "r1.settings.solver.linear_solver = 'ma27'\n",
    "r2.settings.solver.linear_solver = 'ma27'\n",
    "r3.settings.solver.linear_solver = 'ma27'\n",
    "kipet_model.settings.solver.linear_solver = 'ma27'"
   ]
  },
  {
   "cell_type": "code",
   "execution_count": 64,
   "metadata": {},
   "outputs": [
    {
     "name": "stdout",
     "output_type": "stream",
     "text": [
      "Warning! Since Cm-matrix contains negative values Kipet is assuming a derivative of Cm has been inputted\n",
      "times are: <class 'tuple'>\n",
      "Warning! Since Cm-matrix contains negative values Kipet is assuming a derivative of Cm has been inputted\n",
      "times are: <class 'tuple'>\n",
      "times are: <class 'tuple'>\n",
      "Warning! Since Cm-matrix contains negative values Kipet is assuming a derivative of Cm has been inputted\n",
      "times are: <class 'tuple'>\n",
      "WARNING: Element A already exists in Set measured_data; no action taken\n",
      "WARNING: Element B already exists in Set measured_data; no action taken\n",
      "WARNING: Element C already exists in Set measured_data; no action taken\n",
      "WARNING: Element D already exists in Set measured_data; no action taken\n",
      "0.0 4.0\n",
      "WARNING: DEPRECATED: The default domain for Param objects is 'Any'.  However,\n",
      "    we will be changing that default to 'Reals' in the future.  If you really\n",
      "    intend the domain of this Param (sigma) to be 'Any', you can suppress this\n",
      "    warning by explicitly specifying 'within=Any' to the Param constructor.\n",
      "    (deprecated in 5.6.9, will be removed in 6.0) (called from\n",
      "    /home/paperspace/my_pyenvs/kipetenv/lib/python3.7/site-\n",
      "    packages/Pyomo-5.7.1-py3.7-linux-x86_64.egg/pyomo/core/base/param.py:640)\n",
      "WARNING: DEPRECATED: The default domain for Param objects is 'Any'.  However,\n",
      "    we will be changing that default to 'Reals' in the future.  If you really\n",
      "    intend the domain of this Param (sigma) to be 'Any', you can suppress this\n",
      "    warning by explicitly specifying 'within=Any' to the Param constructor.\n",
      "    (deprecated in 5.6.9, will be removed in 6.0) (called from\n",
      "    /home/paperspace/my_pyenvs/kipetenv/lib/python3.7/site-\n",
      "    packages/Pyomo-5.7.1-py3.7-linux-x86_64.egg/pyomo/core/base/param.py:640)\n",
      "WARNING: DEPRECATED: The default domain for Param objects is 'Any'.  However,\n",
      "    we will be changing that default to 'Reals' in the future.  If you really\n",
      "    intend the domain of this Param (sigma) to be 'Any', you can suppress this\n",
      "    warning by explicitly specifying 'within=Any' to the Param constructor.\n",
      "    (deprecated in 5.6.9, will be removed in 6.0) (called from\n",
      "    /home/paperspace/my_pyenvs/kipetenv/lib/python3.7/site-\n",
      "    packages/Pyomo-5.7.1-py3.7-linux-x86_64.egg/pyomo/core/base/param.py:640)\n",
      "WARNING: DEPRECATED: The default domain for Param objects is 'Any'.  However,\n",
      "    we will be changing that default to 'Reals' in the future.  If you really\n",
      "    intend the domain of this Param (sigma) to be 'Any', you can suppress this\n",
      "    warning by explicitly specifying 'within=Any' to the Param constructor.\n",
      "    (deprecated in 5.6.9, will be removed in 6.0) (called from\n",
      "    /home/paperspace/my_pyenvs/kipetenv/lib/python3.7/site-\n",
      "    packages/Pyomo-5.7.1-py3.7-linux-x86_64.egg/pyomo/core/base/param.py:640)\n",
      "Ipopt 3.12: nlp_scaling_method=gradient-based\n",
      "linear_solver=ma27\n",
      "\n",
      "\n",
      "******************************************************************************\n",
      "This program contains Ipopt, a library for large-scale nonlinear optimization.\n",
      " Ipopt is released as open source code under the Eclipse Public License (EPL).\n",
      "         For more information visit http://projects.coin-or.org/Ipopt\n",
      "******************************************************************************\n",
      "\n",
      "This is Ipopt version 3.12, running with linear solver ma27.\n",
      "\n",
      "Number of nonzeros in equality constraint Jacobian...:     6004\n",
      "Number of nonzeros in inequality constraint Jacobian.:        0\n",
      "Number of nonzeros in Lagrangian Hessian.............:      952\n",
      "\n",
      "Total number of variables............................:     1206\n",
      "                     variables with only lower bounds:        0\n",
      "                variables with lower and upper bounds:        2\n",
      "                     variables with only upper bounds:        0\n",
      "Total number of equality constraints.................:     1204\n",
      "Total number of inequality constraints...............:        0\n",
      "        inequality constraints with only lower bounds:        0\n",
      "   inequality constraints with lower and upper bounds:        0\n",
      "        inequality constraints with only upper bounds:        0\n",
      "\n",
      "iter    objective    inf_pr   inf_du lg(mu)  ||d||  lg(rg) alpha_du alpha_pr  ls\n",
      "   0  4.7109616e+01 1.00e+00 2.52e-01  -1.0 0.00e+00    -  0.00e+00 0.00e+00   0\n",
      "   1  1.7561105e+00 4.51e-01 5.74e+00  -1.0 2.08e+00    -  5.41e-01 1.00e+00f  1\n",
      "   2  7.8285947e-01 1.44e+00 4.03e+00  -1.0 3.64e+00    -  1.00e+00 1.00e+00h  1\n",
      "   3  2.8050287e-01 1.51e-01 3.05e+00  -1.0 2.77e+00   0.0 7.24e-01 1.00e+00h  1\n",
      "   4  2.6029935e-01 2.22e-02 1.03e+00  -1.0 3.01e-01    -  1.00e+00 1.00e+00h  1\n",
      "   5  1.9290404e-01 8.64e-03 9.58e-02  -1.0 2.53e-01  -0.5 1.00e+00 1.00e+00h  1\n",
      "   6  1.5610466e-01 2.03e-02 3.65e-02  -2.5 4.36e-01    -  8.12e-01 1.00e+00h  1\n",
      "   7  1.5581200e-01 1.62e-04 4.72e-04  -2.5 3.62e-02    -  1.00e+00 1.00e+00h  1\n",
      "   8  1.5581134e-01 2.06e-06 1.46e-06  -3.8 4.96e-03    -  1.00e+00 1.00e+00h  1\n",
      "   9  1.5581135e-01 4.74e-09 5.69e-09  -5.7 2.31e-04    -  1.00e+00 1.00e+00h  1\n",
      "iter    objective    inf_pr   inf_du lg(mu)  ||d||  lg(rg) alpha_du alpha_pr  ls\n",
      "  10  1.5581135e-01 7.44e-13 8.45e-13  -8.6 2.92e-06    -  1.00e+00 1.00e+00h  1\n",
      "\n",
      "Number of Iterations....: 10\n",
      "\n",
      "                                   (scaled)                 (unscaled)\n",
      "Objective...............:   1.5581134865118487e-01    1.5581134865118487e-01\n",
      "Dual infeasibility......:   8.4499280182934266e-13    8.4499280182934266e-13\n",
      "Constraint violation....:   7.4362738189392985e-13    7.4362738189392985e-13\n",
      "Complementarity.........:   2.5083992298263618e-09    2.5083992298263618e-09\n",
      "Overall NLP error.......:   2.5083992298263618e-09    2.5083992298263618e-09\n",
      "\n",
      "\n",
      "Number of objective function evaluations             = 11\n",
      "Number of objective gradient evaluations             = 11\n",
      "Number of equality constraint evaluations            = 11\n",
      "Number of inequality constraint evaluations          = 0\n",
      "Number of equality constraint Jacobian evaluations   = 11\n",
      "Number of inequality constraint Jacobian evaluations = 0\n",
      "Number of Lagrangian Hessian evaluations             = 10\n",
      "Total CPU secs in IPOPT (w/o function evaluations)   =      0.036\n",
      "Total CPU secs in NLP function evaluations           =      0.008\n",
      "\n",
      "EXIT: Optimal Solution Found.\n",
      "Warning! Since Cm-matrix contains negative values Kipet is assuming a derivative of Cm has been inputted\n",
      "times are: <class 'tuple'>\n",
      "WARNING: Element A already exists in Set measured_data; no action taken\n",
      "WARNING: Element B already exists in Set measured_data; no action taken\n",
      "WARNING: Element C already exists in Set measured_data; no action taken\n",
      "WARNING: Element D already exists in Set measured_data; no action taken\n",
      "0.0 7.0\n",
      "WARNING: DEPRECATED: The default domain for Param objects is 'Any'.  However,\n",
      "    we will be changing that default to 'Reals' in the future.  If you really\n",
      "    intend the domain of this Param (sigma) to be 'Any', you can suppress this\n",
      "    warning by explicitly specifying 'within=Any' to the Param constructor.\n",
      "    (deprecated in 5.6.9, will be removed in 6.0) (called from\n",
      "    /home/paperspace/my_pyenvs/kipetenv/lib/python3.7/site-\n",
      "    packages/Pyomo-5.7.1-py3.7-linux-x86_64.egg/pyomo/core/base/param.py:640)\n",
      "WARNING: DEPRECATED: The default domain for Param objects is 'Any'.  However,\n",
      "    we will be changing that default to 'Reals' in the future.  If you really\n",
      "    intend the domain of this Param (sigma) to be 'Any', you can suppress this\n",
      "    warning by explicitly specifying 'within=Any' to the Param constructor.\n",
      "    (deprecated in 5.6.9, will be removed in 6.0) (called from\n",
      "    /home/paperspace/my_pyenvs/kipetenv/lib/python3.7/site-\n",
      "    packages/Pyomo-5.7.1-py3.7-linux-x86_64.egg/pyomo/core/base/param.py:640)\n",
      "WARNING: DEPRECATED: The default domain for Param objects is 'Any'.  However,\n",
      "    we will be changing that default to 'Reals' in the future.  If you really\n",
      "    intend the domain of this Param (sigma) to be 'Any', you can suppress this\n",
      "    warning by explicitly specifying 'within=Any' to the Param constructor.\n",
      "    (deprecated in 5.6.9, will be removed in 6.0) (called from\n",
      "    /home/paperspace/my_pyenvs/kipetenv/lib/python3.7/site-\n",
      "    packages/Pyomo-5.7.1-py3.7-linux-x86_64.egg/pyomo/core/base/param.py:640)\n",
      "WARNING: DEPRECATED: The default domain for Param objects is 'Any'.  However,\n",
      "    we will be changing that default to 'Reals' in the future.  If you really\n",
      "    intend the domain of this Param (sigma) to be 'Any', you can suppress this\n",
      "    warning by explicitly specifying 'within=Any' to the Param constructor.\n",
      "    (deprecated in 5.6.9, will be removed in 6.0) (called from\n",
      "    /home/paperspace/my_pyenvs/kipetenv/lib/python3.7/site-\n",
      "    packages/Pyomo-5.7.1-py3.7-linux-x86_64.egg/pyomo/core/base/param.py:640)\n"
     ]
    },
    {
     "name": "stdout",
     "output_type": "stream",
     "text": [
      "Ipopt 3.12: nlp_scaling_method=gradient-based\n",
      "linear_solver=ma27\n",
      "\n",
      "\n",
      "******************************************************************************\n",
      "This program contains Ipopt, a library for large-scale nonlinear optimization.\n",
      " Ipopt is released as open source code under the Eclipse Public License (EPL).\n",
      "         For more information visit http://projects.coin-or.org/Ipopt\n",
      "******************************************************************************\n",
      "\n",
      "This is Ipopt version 3.12, running with linear solver ma27.\n",
      "\n",
      "Number of nonzeros in equality constraint Jacobian...:     6004\n",
      "Number of nonzeros in inequality constraint Jacobian.:        0\n",
      "Number of nonzeros in Lagrangian Hessian.............:      952\n",
      "\n",
      "Total number of variables............................:     1206\n",
      "                     variables with only lower bounds:        0\n",
      "                variables with lower and upper bounds:        2\n",
      "                     variables with only upper bounds:        0\n",
      "Total number of equality constraints.................:     1204\n",
      "Total number of inequality constraints...............:        0\n",
      "        inequality constraints with only lower bounds:        0\n",
      "   inequality constraints with lower and upper bounds:        0\n",
      "        inequality constraints with only upper bounds:        0\n",
      "\n",
      "iter    objective    inf_pr   inf_du lg(mu)  ||d||  lg(rg) alpha_du alpha_pr  ls\n",
      "   0  2.8117107e+01 1.00e+00 1.31e-01  -1.0 0.00e+00    -  0.00e+00 0.00e+00   0\n",
      "   1  8.8531225e-01 1.44e-01 3.50e+00  -1.0 1.21e+00    -  7.64e-01 1.00e+00f  1\n",
      "   2  3.1539580e-01 2.82e-01 6.56e-01  -1.0 1.99e+00    -  1.00e+00 1.00e+00h  1\n",
      "   3  2.5302778e-01 1.20e-01 2.44e-01  -1.7 9.67e-01    -  6.12e-01 1.00e+00h  1\n",
      "   4  1.5447601e-01 3.06e-01 2.70e-01  -1.7 8.37e+00    -  4.65e-01 3.76e-01h  1\n",
      "   5  2.2153771e-01 3.57e-02 9.85e-01  -1.7 1.24e+00    -  4.14e-02 1.00e+00h  1\n",
      "   6  1.4272621e-01 1.16e-03 9.82e-02  -1.7 1.91e-01    -  1.00e+00 1.00e+00h  1\n",
      "   7  1.2505688e-01 3.55e-03 1.52e-02  -2.5 2.69e-01    -  9.40e-01 1.00e+00h  1\n",
      "   8  1.2424337e-01 4.12e-04 6.00e-04  -3.8 1.03e-01    -  1.00e+00 1.00e+00h  1\n",
      "   9  1.2423205e-01 1.46e-06 1.17e-06  -5.7 6.91e-03    -  1.00e+00 1.00e+00h  1\n",
      "iter    objective    inf_pr   inf_du lg(mu)  ||d||  lg(rg) alpha_du alpha_pr  ls\n",
      "  10  1.2423202e-01 6.98e-12 2.33e-12  -8.6 1.74e-05    -  1.00e+00 1.00e+00h  1\n",
      "\n",
      "Number of Iterations....: 10\n",
      "\n",
      "                                   (scaled)                 (unscaled)\n",
      "Objective...............:   1.2423202100311896e-01    1.2423202100311896e-01\n",
      "Dual infeasibility......:   2.3275979510744409e-12    2.3275979510744409e-12\n",
      "Constraint violation....:   6.9823036241700720e-12    6.9823036241700720e-12\n",
      "Complementarity.........:   2.5102029958504700e-09    2.5102029958504700e-09\n",
      "Overall NLP error.......:   2.5102029958504700e-09    2.5102029958504700e-09\n",
      "\n",
      "\n",
      "Number of objective function evaluations             = 11\n",
      "Number of objective gradient evaluations             = 11\n",
      "Number of equality constraint evaluations            = 11\n",
      "Number of inequality constraint evaluations          = 0\n",
      "Number of equality constraint Jacobian evaluations   = 11\n",
      "Number of inequality constraint Jacobian evaluations = 0\n",
      "Number of Lagrangian Hessian evaluations             = 10\n",
      "Total CPU secs in IPOPT (w/o function evaluations)   =      0.032\n",
      "Total CPU secs in NLP function evaluations           =      0.008\n",
      "\n",
      "EXIT: Optimal Solution Found.\n",
      "times are: <class 'tuple'>\n",
      "WARNING: Element A already exists in Set measured_data; no action taken\n",
      "WARNING: Element B already exists in Set measured_data; no action taken\n",
      "WARNING: Element C already exists in Set measured_data; no action taken\n",
      "WARNING: Element D already exists in Set measured_data; no action taken\n",
      "0.0 15.0\n",
      "WARNING: DEPRECATED: The default domain for Param objects is 'Any'.  However,\n",
      "    we will be changing that default to 'Reals' in the future.  If you really\n",
      "    intend the domain of this Param (sigma) to be 'Any', you can suppress this\n",
      "    warning by explicitly specifying 'within=Any' to the Param constructor.\n",
      "    (deprecated in 5.6.9, will be removed in 6.0) (called from\n",
      "    /home/paperspace/my_pyenvs/kipetenv/lib/python3.7/site-\n",
      "    packages/Pyomo-5.7.1-py3.7-linux-x86_64.egg/pyomo/core/base/param.py:640)\n",
      "WARNING: DEPRECATED: The default domain for Param objects is 'Any'.  However,\n",
      "    we will be changing that default to 'Reals' in the future.  If you really\n",
      "    intend the domain of this Param (sigma) to be 'Any', you can suppress this\n",
      "    warning by explicitly specifying 'within=Any' to the Param constructor.\n",
      "    (deprecated in 5.6.9, will be removed in 6.0) (called from\n",
      "    /home/paperspace/my_pyenvs/kipetenv/lib/python3.7/site-\n",
      "    packages/Pyomo-5.7.1-py3.7-linux-x86_64.egg/pyomo/core/base/param.py:640)\n",
      "WARNING: DEPRECATED: The default domain for Param objects is 'Any'.  However,\n",
      "    we will be changing that default to 'Reals' in the future.  If you really\n",
      "    intend the domain of this Param (sigma) to be 'Any', you can suppress this\n",
      "    warning by explicitly specifying 'within=Any' to the Param constructor.\n",
      "    (deprecated in 5.6.9, will be removed in 6.0) (called from\n",
      "    /home/paperspace/my_pyenvs/kipetenv/lib/python3.7/site-\n",
      "    packages/Pyomo-5.7.1-py3.7-linux-x86_64.egg/pyomo/core/base/param.py:640)\n",
      "WARNING: DEPRECATED: The default domain for Param objects is 'Any'.  However,\n",
      "    we will be changing that default to 'Reals' in the future.  If you really\n",
      "    intend the domain of this Param (sigma) to be 'Any', you can suppress this\n",
      "    warning by explicitly specifying 'within=Any' to the Param constructor.\n",
      "    (deprecated in 5.6.9, will be removed in 6.0) (called from\n",
      "    /home/paperspace/my_pyenvs/kipetenv/lib/python3.7/site-\n",
      "    packages/Pyomo-5.7.1-py3.7-linux-x86_64.egg/pyomo/core/base/param.py:640)\n",
      "Ipopt 3.12: nlp_scaling_method=gradient-based\n",
      "linear_solver=ma27\n",
      "\n",
      "\n",
      "******************************************************************************\n",
      "This program contains Ipopt, a library for large-scale nonlinear optimization.\n",
      " Ipopt is released as open source code under the Eclipse Public License (EPL).\n",
      "         For more information visit http://projects.coin-or.org/Ipopt\n",
      "******************************************************************************\n",
      "\n",
      "This is Ipopt version 3.12, running with linear solver ma27.\n",
      "\n",
      "Number of nonzeros in equality constraint Jacobian...:     6904\n",
      "Number of nonzeros in inequality constraint Jacobian.:        0\n",
      "Number of nonzeros in Lagrangian Hessian.............:     1556\n",
      "\n",
      "Total number of variables............................:     1208\n",
      "                     variables with only lower bounds:        0\n",
      "                variables with lower and upper bounds:        4\n",
      "                     variables with only upper bounds:        0\n",
      "Total number of equality constraints.................:     1204\n",
      "Total number of inequality constraints...............:        0\n",
      "        inequality constraints with only lower bounds:        0\n",
      "   inequality constraints with lower and upper bounds:        0\n",
      "        inequality constraints with only upper bounds:        0\n",
      "\n",
      "iter    objective    inf_pr   inf_du lg(mu)  ||d||  lg(rg) alpha_du alpha_pr  ls\n",
      "   0  5.2405913e+01 1.00e+00 2.92e-01  -1.0 0.00e+00    -  0.00e+00 0.00e+00   0\n",
      "   1  1.8519348e+00 1.43e-01 7.81e+00  -1.0 2.12e+00    -  7.69e-01 1.00e+00f  1\n",
      "   2  3.9533335e-01 2.70e-01 2.88e+00  -1.0 5.45e+00    -  9.32e-01 1.00e+00h  1\n",
      "   3  1.5529767e-01 4.33e-02 1.08e+00  -1.0 3.72e-01   0.0 1.00e+00 1.00e+00h  1\n",
      "   4  1.3018708e-01 1.96e-02 3.65e-01  -1.0 6.40e+00    -  1.00e+00 1.00e+00h  1\n",
      "   5  1.0797575e-01 4.56e-03 1.61e-02  -1.7 2.41e+00    -  1.00e+00 1.00e+00h  1\n",
      "   6  1.0769835e-01 1.65e-04 2.19e-04  -3.8 1.70e-01    -  9.99e-01 1.00e+00h  1\n",
      "   7  1.0770009e-01 3.09e-05 1.20e-06  -5.7 4.03e-01    -  1.00e+00 1.00e+00h  1\n",
      "   8  1.0770009e-01 2.34e-01 3.63e-03  -5.7 6.39e+01    -  5.33e-01 5.00e-01h  2\n",
      "   9  1.0770106e-01 2.34e-01 3.63e-03  -5.7 9.26e-01  -0.5 1.00e+00 9.77e-04h 11\n",
      "iter    objective    inf_pr   inf_du lg(mu)  ||d||  lg(rg) alpha_du alpha_pr  ls\n",
      "  10  1.0769902e-01 4.52e-02 1.15e-03  -5.7 1.33e+01    -  1.00e+00 1.00e+00h  1\n",
      "  11  1.0770062e-01 4.38e-02 1.12e-03  -5.7 1.98e-01  -1.0 1.00e+00 3.12e-02h  6\n",
      "  12  1.0770116e-01 4.31e-02 1.11e-03  -5.7 2.27e-01  -1.4 1.00e+00 1.56e-02h  7\n",
      "  13  1.0770157e-01 4.18e-02 1.10e-03  -5.7 2.48e-01  -1.9 1.00e+00 3.12e-02h  6\n",
      "  14  1.0770158e-01 4.16e-02 1.10e-03  -5.7 2.52e-01  -2.4 1.00e+00 3.91e-03h  9\n",
      "  15  1.0769955e-01 1.56e-05 3.52e-04  -5.7 2.56e-01  -2.9 1.00e+00 1.00e+00h  1\n",
      "  16  1.0770008e-01 3.37e-08 5.40e-07  -5.7 1.56e-03  -3.3 1.00e+00 1.00e+00h  1\n",
      "  17  1.0770009e-01 5.03e-09 4.47e-08  -8.6 7.72e-02    -  9.99e-01 1.00e+00H  1\n",
      "  18  1.0770009e-01 2.64e-08 4.55e-08  -8.6 4.24e+01    -  1.00e+00 2.44e-04h 13\n",
      "  19  1.0770009e-01 1.20e-07 4.56e-08  -8.6 5.36e+01    -  1.00e+00 2.44e-04h 13\n",
      "iter    objective    inf_pr   inf_du lg(mu)  ||d||  lg(rg) alpha_du alpha_pr  ls\n",
      "  20  1.0770009e-01 1.30e-07 4.56e-08  -8.6 6.36e+01    -  1.00e+00 6.10e-05h 15\n",
      "  21  1.0770009e-01 1.30e-07 4.57e-08  -8.6 2.50e+02    -  2.15e-01 1.30e-05h 15\n",
      "  22  1.0770009e-01 1.33e-07 4.57e-08  -8.6 3.11e+01    -  1.00e+00 6.10e-05h 15\n",
      "  23  1.0770009e-01 3.30e-01 4.52e-03  -8.6 3.39e+01    -  1.00e+00 1.00e+00h  1\n",
      "  24  1.0770009e-01 9.89e-02 1.37e-03  -8.6 1.08e+01    -  1.00e+00 1.00e+00h  1\n",
      "  25  1.0770009e-01 1.85e-03 2.57e-05  -8.6 5.74e-01    -  1.00e+00 1.00e+00h  1\n",
      "  26  1.0770009e-01 1.05e-04 1.46e-06  -8.6 3.58e-01    -  1.00e+00 1.00e+00h  1\n"
     ]
    },
    {
     "name": "stdout",
     "output_type": "stream",
     "text": [
      "  27  1.0770009e-01 4.21e-10 5.85e-12  -8.6 6.34e-03    -  1.00e+00 1.00e+00h  1\n",
      "\n",
      "Number of Iterations....: 27\n",
      "\n",
      "                                   (scaled)                 (unscaled)\n",
      "Objective...............:   1.0770008726484344e-01    1.0770008726484344e-01\n",
      "Dual infeasibility......:   5.8466009811297681e-12    5.8466009811297681e-12\n",
      "Constraint violation....:   4.2124803645293696e-10    4.2124803645293696e-10\n",
      "Complementarity.........:   2.5059035607926338e-09    2.5059035607926338e-09\n",
      "Overall NLP error.......:   2.5059035607926338e-09    2.5059035607926338e-09\n",
      "\n",
      "\n",
      "Number of objective function evaluations             = 149\n",
      "Number of objective gradient evaluations             = 28\n",
      "Number of equality constraint evaluations            = 149\n",
      "Number of inequality constraint evaluations          = 0\n",
      "Number of equality constraint Jacobian evaluations   = 28\n",
      "Number of inequality constraint Jacobian evaluations = 0\n",
      "Number of Lagrangian Hessian evaluations             = 27\n",
      "Total CPU secs in IPOPT (w/o function evaluations)   =      0.140\n",
      "Total CPU secs in NLP function evaluations           =      0.024\n",
      "\n",
      "EXIT: Optimal Solution Found.\n",
      "\n",
      "SOLVING PARAMETER ESTIMATION FOR MULTIPLE DATASETS\n",
      "\n",
      "Fixed parameters are:  set()\n"
     ]
    }
   ],
   "source": [
    "kipet_model.run_opt()"
   ]
  },
  {
   "cell_type": "code",
   "execution_count": 65,
   "metadata": {},
   "outputs": [
    {
     "name": "stdout",
     "output_type": "stream",
     "text": [
      "The estimated parameters are:\n",
      "\n",
      "The estimated parameters are:\n",
      "k1ref 0.9602581371111575\n",
      "k2ref 2.043304292626539\n",
      "Ea1 18.3478802225419\n",
      "Ea2 37.154295477436555\n",
      "\n",
      "The estimated parameters are:\n",
      "k1ref 0.9602581371111575\n",
      "k2ref 2.043304292626539\n",
      "Ea1 18.3478802225419\n",
      "Ea2 37.154295477436555\n",
      "\n",
      "The estimated parameters are:\n",
      "k1ref 0.9602581371111575\n",
      "k2ref 2.043304292626539\n",
      "Ea1 18.3478802225419\n",
      "Ea2 37.154295477436555\n"
     ]
    }
   ],
   "source": [
    "print(\"The estimated parameters are:\")\n",
    "\n",
    "for model, results in kipet_model.results.items():\n",
    "     results.show_parameters"
   ]
  },
  {
   "cell_type": "code",
   "execution_count": 71,
   "metadata": {},
   "outputs": [
    {
     "data": {
      "image/png": "[encoded data removed]",
      "text/plain": [
       "<Figure size 432x288 with 1 Axes>"
      ]
     },
     "metadata": {
      "needs_background": "light"
     },
     "output_type": "display_data"
    }
   ],
   "source": [
    "expt = 'Exp1'\n",
    "fig, ax = plt.subplots()\n",
    "for x in ['A', 'B', 'C', 'D']:\n",
    "    results = kipet_model.results[expt]\n",
    "    ax.scatter(results.Cm.index, results.Cm[x])\n",
    "    ax.plot(results.Z.index, results.Z[x])"
   ]
  },
  {
   "cell_type": "code",
   "execution_count": 72,
   "metadata": {},
   "outputs": [
    {
     "data": {
      "image/png": "[encoded data removed]",
      "text/plain": [
       "<Figure size 432x288 with 1 Axes>"
      ]
     },
     "metadata": {
      "needs_background": "light"
     },
     "output_type": "display_data"
    }
   ],
   "source": [
    "expt = 'Exp2'\n",
    "fig, ax = plt.subplots()\n",
    "for x in ['A', 'B', 'C', 'D']:\n",
    "    results = kipet_model.results[expt]\n",
    "    ax.scatter(results.Cm.index, results.Cm[x])\n",
    "    ax.plot(results.Z.index, results.Z[x])"
   ]
  },
  {
   "cell_type": "code",
   "execution_count": 73,
   "metadata": {},
   "outputs": [
    {
     "data": {
      "image/png": "[encoded data removed]",
      "text/plain": [
       "<Figure size 432x288 with 1 Axes>"
      ]
     },
     "metadata": {
      "needs_background": "light"
     },
     "output_type": "display_data"
    }
   ],
   "source": [
    "expt = 'Exp3'\n",
    "fig, ax = plt.subplots()\n",
    "for x in ['A', 'B', 'C', 'D']:\n",
    "    results = kipet_model.results[expt]\n",
    "    ax.scatter(results.Cm.index, results.Cm[x])\n",
    "    ax.plot(results.Z.index, results.Z[x])"
   ]
  },
  {
   "cell_type": "code",
   "execution_count": null,
   "metadata": {},
   "outputs": [],
   "source": []
  }
 ],
 "metadata": {
  "kernelspec": {
   "display_name": "Python 3",
   "language": "python",
   "name": "python3"
  },
  "language_info": {
   "codemirror_mode": {
    "name": "ipython",
    "version": 3
   },
   "file_extension": ".py",
   "mimetype": "text/x-python",
   "name": "python",
   "nbconvert_exporter": "python",
   "pygments_lexer": "ipython3",
   "version": "3.7.3"
  }
 },
 "nbformat": 4,
 "nbformat_minor": 2
}
