{
 "cells": [
  {
   "cell_type": "code",
   "execution_count": 25,
   "metadata": {},
   "outputs": [],
   "source": [
    "#\n",
    "# Working through the example at \n",
    "# https://github.com/kwmcbride/kipet_examples/blob/master/examples/example_1/Ex_1_ode_sim.py\n",
    "#"
   ]
  },
  {
   "cell_type": "code",
   "execution_count": 26,
   "metadata": {},
   "outputs": [],
   "source": [
    "from kipet import KipetModel\n",
    "\n",
    "import matplotlib.pyplot as plt\n",
    "import sys"
   ]
  },
  {
   "cell_type": "code",
   "execution_count": 27,
   "metadata": {},
   "outputs": [],
   "source": [
    "kipet_model = KipetModel()\n",
    "\n",
    "r1 = kipet_model.new_reaction('reaction-1')\n",
    "\n",
    "# Add the model parameters\n",
    "k1 = r1.parameter('k1', value = 2)\n",
    "k2 = r1.parameter('k2', value = 0.2)\n",
    "\n",
    "A = r1.component('A', value = 1.0)\n",
    "B = r1.component('B', value = 0.0)\n",
    "C = r1.component('C', value = 0.0)"
   ]
  },
  {
   "cell_type": "code",
   "execution_count": 28,
   "metadata": {},
   "outputs": [],
   "source": [
    "rA = r1.add_expression('rA', k1*A)\n",
    "rB = r1.add_expression('rB', k2*B)\n",
    "\n",
    "r1.add_ode('A', -rA)\n",
    "r1.add_ode('B', rA - rB)\n",
    "r1.add_ode('C', rB)"
   ]
  },
  {
   "cell_type": "code",
   "execution_count": 29,
   "metadata": {},
   "outputs": [],
   "source": [
    "# Create the model - simulations require times\n",
    "r1.set_times(0, 10)\n",
    "\n",
    "r1.settings.simulator.tee = True"
   ]
  },
  {
   "cell_type": "code",
   "execution_count": 30,
   "metadata": {},
   "outputs": [
    {
     "name": "stdout",
     "output_type": "stream",
     "text": [
      "Warning: No variance provided for model component A, it is being set to one\n",
      "Warning: No variance provided for model component B, it is being set to one\n",
      "Warning: No variance provided for model component C, it is being set to one\n",
      "Finished creating simulator\n",
      "Ipopt 3.13.4: \n",
      "\n",
      "******************************************************************************\n",
      "This program contains Ipopt, a library for large-scale nonlinear optimization.\n",
      " Ipopt is released as open source code under the Eclipse Public License (EPL).\n",
      "         For more information visit https://github.com/coin-or/Ipopt\n",
      "******************************************************************************\n",
      "\n",
      "This is Ipopt version 3.13.4, running with linear solver mumps.\n",
      "NOTE: Other linear solvers might be more efficient (see Ipopt documentation).\n",
      "\n",
      "Number of nonzeros in equality constraint Jacobian...:     3907\n",
      "Number of nonzeros in inequality constraint Jacobian.:        0\n",
      "Number of nonzeros in Lagrangian Hessian.............:        0\n",
      "\n",
      "Total number of variables............................:     1205\n",
      "                     variables with only lower bounds:        0\n",
      "                variables with lower and upper bounds:        0\n",
      "                     variables with only upper bounds:        0\n",
      "Total number of equality constraints.................:     1205\n",
      "Total number of inequality constraints...............:        0\n",
      "        inequality constraints with only lower bounds:        0\n",
      "   inequality constraints with lower and upper bounds:        0\n",
      "        inequality constraints with only upper bounds:        0\n",
      "\n",
      "iter    objective    inf_pr   inf_du lg(mu)  ||d||  lg(rg) alpha_du alpha_pr  ls\n",
      "   0  0.0000000e+00 2.00e+00 0.00e+00  -1.0 0.00e+00    -  0.00e+00 0.00e+00   0\n",
      "   1  0.0000000e+00 8.75e-15 0.00e+00  -1.0 2.00e+00    -  1.00e+00 1.00e+00h  1\n",
      "\n",
      "Number of Iterations....: 1\n",
      "\n",
      "                                   (scaled)                 (unscaled)\n",
      "Objective...............:   0.0000000000000000e+00    0.0000000000000000e+00\n",
      "Dual infeasibility......:   0.0000000000000000e+00    0.0000000000000000e+00\n",
      "Constraint violation....:   8.7515715160857432e-15    8.7515715160857432e-15\n",
      "Complementarity.........:   0.0000000000000000e+00    0.0000000000000000e+00\n",
      "Overall NLP error.......:   8.7515715160857432e-15    8.7515715160857432e-15\n",
      "\n",
      "\n",
      "Number of objective function evaluations             = 2\n",
      "Number of objective gradient evaluations             = 2\n",
      "Number of equality constraint evaluations            = 2\n",
      "Number of inequality constraint evaluations          = 0\n",
      "Number of equality constraint Jacobian evaluations   = 2\n",
      "Number of inequality constraint Jacobian evaluations = 0\n",
      "Number of Lagrangian Hessian evaluations             = 1\n",
      "Total CPU secs in IPOPT (w/o function evaluations)   =      0.092\n",
      "Total CPU secs in NLP function evaluations           =      0.000\n",
      "\n",
      "EXIT: Optimal Solution Found.\n"
     ]
    }
   ],
   "source": [
    "r1.simulate()"
   ]
  },
  {
   "cell_type": "code",
   "execution_count": 31,
   "metadata": {},
   "outputs": [
    {
     "data": {
      "text/plain": [
       "[<matplotlib.lines.Line2D at 0x7f7da59d9fd0>,\n",
       " <matplotlib.lines.Line2D at 0x7f7da59d9f70>,\n",
       " <matplotlib.lines.Line2D at 0x7f7da59d9d30>]"
      ]
     },
     "execution_count": 31,
     "metadata": {},
     "output_type": "execute_result"
    },
    {
     "data": {
      "image/png": "[encoded data removed]",
      "text/plain": [
       "<Figure size 432x288 with 1 Axes>"
      ]
     },
     "metadata": {
      "needs_background": "light"
     },
     "output_type": "display_data"
    }
   ],
   "source": [
    "plt.plot(r1.results.Z)"
   ]
  },
  {
   "cell_type": "code",
   "execution_count": 35,
   "metadata": {},
   "outputs": [
    {
     "name": "stdout",
     "output_type": "stream",
     "text": [
      "18 Set Declarations\n",
      "    Dose_index : Size=1, Index=None, Ordered=True\n",
      "        Key  : Dimen : Domain               : Size : Members\n",
      "        None :     2 : alltime*Dose_index_1 :    2 : {(0, 'd_var'), (10, 'd_var')}\n",
      "    Dose_index_1 : Size=1, Index=None, Ordered=Insertion\n",
      "        Key  : Dimen : Domain : Size : Members\n",
      "        None :     1 :    Any :    1 : {'d_var',}\n",
      "    Y_index : Size=1, Index=None, Ordered=True\n",
      "        Key  : Dimen : Domain            : Size : Members\n",
      "        None :     2 : alltime*Y_index_1 :    4 : {(0, 'rA'), (0, 'rB'), (10, 'rA'), (10, 'rB')}\n",
      "    Y_index_1 : Size=1, Index=None, Ordered=Insertion\n",
      "        Key  : Dimen : Domain : Size : Members\n",
      "        None :     1 :    Any :    2 : {'rA', 'rB'}\n",
      "    Z_index : Size=1, Index=None, Ordered=True\n",
      "        Key  : Dimen : Domain                     : Size : Members\n",
      "        None :     2 : alltime*mixture_components :    6 : {(0, 'A'), (0, 'B'), (0, 'C'), (10, 'A'), (10, 'B'), (10, 'C')}\n",
      "    algebraic_consts_index : Size=1, Index=None, Ordered=True\n",
      "        Key  : Dimen : Domain                           : Size : Members\n",
      "        None :     2 : alltime*algebraic_consts_index_1 :    4 : {(0, 'rA'), (0, 'rB'), (10, 'rA'), (10, 'rB')}\n",
      "    algebraic_consts_index_1 : Size=1, Index=None, Ordered=Insertion\n",
      "        Key  : Dimen : Domain : Size : Members\n",
      "        None :     1 :    Any :    2 : {'rA', 'rB'}\n",
      "    algebraics : Size=1, Index=None, Ordered=Insertion\n",
      "        Key  : Dimen : Domain : Size : Members\n",
      "        None :     1 :    Any :    2 : {'rA', 'rB'}\n",
      "    allmeas_times : Size=1, Index=None, Ordered=Insertion\n",
      "        Key  : Dimen : Domain : Size : Members\n",
      "        None :    -- :    Any :    0 :      {}\n",
      "    complementary_states : Size=1, Index=None, Ordered=Insertion\n",
      "        Key  : Dimen : Domain : Size : Members\n",
      "        None :    -- :    Any :    0 :      {}\n",
      "    feed_times : Size=1, Index=None, Ordered=Insertion\n",
      "        Key  : Dimen : Domain : Size : Members\n",
      "        None :    -- :    Any :    0 :      {}\n",
      "    meas_lambdas : Size=1, Index=None, Ordered=Insertion\n",
      "        Key  : Dimen : Domain : Size : Members\n",
      "        None :    -- :    Any :    0 :      {}\n",
      "    meas_times : Size=1, Index=None, Ordered=Insertion\n",
      "        Key  : Dimen : Domain : Size : Members\n",
      "        None :    -- :    Any :    0 :      {}\n",
      "    measured_data : Size=1, Index=None, Ordered=Insertion\n",
      "        Key  : Dimen : Domain : Size : Members\n",
      "        None :    -- :    Any :    0 :      {}\n",
      "    mixture_components : Size=1, Index=None, Ordered=Insertion\n",
      "        Key  : Dimen : Domain : Size : Members\n",
      "        None :     1 :    Any :    3 : {'A', 'B', 'C'}\n",
      "    odes_index : Size=1, Index=None, Ordered=True\n",
      "        Key  : Dimen : Domain         : Size : Members\n",
      "        None :    -- : alltime*states :    6 : {(0, 'A'), (0, 'B'), (0, 'C'), (10, 'A'), (10, 'B'), (10, 'C')}\n",
      "    parameter_names : Size=1, Index=None, Ordered=Insertion\n",
      "        Key  : Dimen : Domain : Size : Members\n",
      "        None :     1 :    Any :    2 : {'k1', 'k2'}\n",
      "    states : Size=1, Index=None, Ordered=True\n",
      "        Key  : Dimen : Domain                                    : Size : Members\n",
      "        None :    -- : mixture_components | complementary_states :    3 : {'A', 'B', 'C'}\n",
      "\n",
      "1 RangeSet Declarations\n",
      "    alltime_domain : Dimen=1, Size=Inf, Bounds=(0, 10)\n",
      "        Key  : Finite : Members\n",
      "        None :  False : [0..10]\n",
      "\n",
      "3 Param Declarations\n",
      "    end_time : Size=1, Index=None, Domain=Reals, Default=None, Mutable=False\n",
      "        Key  : Value\n",
      "        None :    10\n",
      "    sigma : Size=0, Index=measured_data, Domain=Reals, Default=None, Mutable=False\n",
      "        Key : Value\n",
      "    start_time : Size=1, Index=None, Domain=Reals, Default=None, Mutable=False\n",
      "        Key  : Value\n",
      "        None :     0\n",
      "\n",
      "5 Var Declarations\n",
      "    Dose : Size=2, Index=Dose_index\n",
      "        Key           : Lower : Value : Upper : Fixed : Stale : Domain\n",
      "         (0, 'd_var') :  None :     0 :  None : False : False :  Reals\n",
      "        (10, 'd_var') :  None :     0 :  None : False : False :  Reals\n",
      "    P : Size=2, Index=parameter_names\n",
      "        Key : Lower : Value : Upper : Fixed : Stale : Domain\n",
      "         k1 :  None :     2 :  None : False : False :  Reals\n",
      "         k2 :  None :   0.2 :  None : False : False :  Reals\n",
      "    Y : Size=4, Index=Y_index\n",
      "        Key        : Lower : Value : Upper : Fixed : Stale : Domain\n",
      "         (0, 'rA') :  None :  None :  None : False :  True :  Reals\n",
      "         (0, 'rB') :  None :  None :  None : False :  True :  Reals\n",
      "        (10, 'rA') :  None :  None :  None : False :  True :  Reals\n",
      "        (10, 'rB') :  None :  None :  None : False :  True :  Reals\n",
      "    Z : Size=6, Index=Z_index\n",
      "        Key       : Lower : Value : Upper : Fixed : Stale : Domain\n",
      "         (0, 'A') :  None :   1.0 :  None : False : False :  Reals\n",
      "         (0, 'B') :  None :   0.0 :  None : False : False :  Reals\n",
      "         (0, 'C') :  None :   0.0 :  None : False : False :  Reals\n",
      "        (10, 'A') :  None :     1 :  None : False : False :  Reals\n",
      "        (10, 'B') :  None :     1 :  None : False : False :  Reals\n",
      "        (10, 'C') :  None :     1 :  None : False : False :  Reals\n",
      "    init_conditions : Size=3, Index=states\n",
      "        Key : Lower : Value : Upper : Fixed : Stale : Domain\n",
      "          A :  None :   1.0 :  None :  True : False :  Reals\n",
      "          B :  None :   0.0 :  None :  True : False :  Reals\n",
      "          C :  None :   0.0 :  None :  True : False :  Reals\n",
      "\n",
      "3 Constraint Declarations\n",
      "    algebraic_consts : Size=4, Index=algebraic_consts_index, Active=True\n",
      "        Key        : Lower : Body                     : Upper : Active\n",
      "         (0, 'rA') :   0.0 :   Y[0,rA] - P[k1]*Z[0,A] :   0.0 :   True\n",
      "         (0, 'rB') :   0.0 :   Y[0,rB] - P[k2]*Z[0,B] :   0.0 :   True\n",
      "        (10, 'rA') :   0.0 : Y[10,rA] - P[k1]*Z[10,A] :   0.0 :   True\n",
      "        (10, 'rB') :   0.0 : Y[10,rB] - P[k2]*Z[10,B] :   0.0 :   True\n",
      "    init_conditions_c : Size=3, Index=states, Active=True\n",
      "        Key : Lower : Body                        : Upper : Active\n",
      "          A :   0.0 : Z[0,A] - init_conditions[A] :   0.0 :   True\n",
      "          B :   0.0 : Z[0,B] - init_conditions[B] :   0.0 :   True\n",
      "          C :   0.0 : Z[0,C] - init_conditions[C] :   0.0 :   True\n",
      "    odes : Size=3, Index=odes_index, Active=True\n",
      "        Key       : Lower : Body                                         : Upper : Active\n",
      "        (10, 'A') :   0.0 :                   dZdt[10,A] + P[k1]*Z[10,A] :   0.0 :   True\n",
      "        (10, 'B') :   0.0 : dZdt[10,B] - (P[k1]*Z[10,A] - P[k2]*Z[10,B]) :   0.0 :   True\n",
      "        (10, 'C') :   0.0 :                   dZdt[10,C] - P[k2]*Z[10,B] :   0.0 :   True\n",
      "\n",
      "1 ContinuousSet Declarations\n",
      "    alltime : Size=1, Index=None, Ordered=Sorted\n",
      "        Key  : Dimen : Domain  : Size : Members\n",
      "        None :     1 : [0..10] :    2 : {0, 10}\n",
      "\n",
      "1 DerivativeVar Declarations\n",
      "    dZdt : Size=6, Index=Z_index\n",
      "        Key       : Lower : Value : Upper : Fixed : Stale : Domain\n",
      "         (0, 'A') :  None :  None :  None : False :  True :  Reals\n",
      "         (0, 'B') :  None :  None :  None : False :  True :  Reals\n",
      "         (0, 'C') :  None :  None :  None : False :  True :  Reals\n",
      "        (10, 'A') :  None :  None :  None : False :  True :  Reals\n",
      "        (10, 'B') :  None :  None :  None : False :  True :  Reals\n",
      "        (10, 'C') :  None :  None :  None : False :  True :  Reals\n",
      "\n",
      "32 Declarations: mixture_components parameter_names complementary_states states measured_data allmeas_times meas_times feed_times meas_lambdas alltime_domain alltime start_time end_time Z_index Z dZdt P algebraics Y_index_1 Y_index Y init_conditions init_conditions_c Dose_index_1 Dose_index Dose odes_index odes algebraic_consts_index_1 algebraic_consts_index algebraic_consts sigma\n"
     ]
    }
   ],
   "source": [
    "r1.model.pprint()"
   ]
  },
  {
   "cell_type": "code",
   "execution_count": null,
   "metadata": {},
   "outputs": [],
   "source": []
  }
 ],
 "metadata": {
  "kernelspec": {
   "display_name": "Python 3",
   "language": "python",
   "name": "python3"
  },
  "language_info": {
   "codemirror_mode": {
    "name": "ipython",
    "version": 3
   },
   "file_extension": ".py",
   "mimetype": "text/x-python",
   "name": "python",
   "nbconvert_exporter": "python",
   "pygments_lexer": "ipython3",
   "version": "3.8.8"
  }
 },
 "nbformat": 4,
 "nbformat_minor": 4
}
