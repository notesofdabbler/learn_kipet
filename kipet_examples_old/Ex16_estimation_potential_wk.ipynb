{
 "cells": [
  {
   "cell_type": "code",
   "execution_count": 1,
   "metadata": {},
   "outputs": [],
   "source": [
    "#\n",
    "# Adapted from\n",
    "# https://github.com/salvadorgarciamunoz/kipet/blob/master/kipet/examples/Ex_16_CSTR_estimability_temperature_concentration.py\n",
    "#"
   ]
  },
  {
   "cell_type": "code",
   "execution_count": 2,
   "metadata": {},
   "outputs": [],
   "source": [
    "import copy\n",
    "import sys\n",
    "\n",
    "import matplotlib.pyplot as plt\n",
    "import numpy as np\n",
    "import pandas as pd\n",
    "\n",
    "import pyomo.core as pyomo\n",
    "\n",
    "from kipet.library.data_tools import add_noise_to_signal\n",
    "from kipet.library.EstimationPotential import EstimationPotential\n",
    "from kipet.library.PyomoSimulator import PyomoSimulator\n",
    "from kipet.library.TemplateBuilder import (\n",
    "        TemplateBuilder,\n",
    "        Component,\n",
    "        KineticParameter,\n",
    "        )"
   ]
  }
 ],
 "metadata": {
  "kernelspec": {
   "display_name": "Python 3",
   "language": "python",
   "name": "python3"
  },
  "language_info": {
   "codemirror_mode": {
    "name": "ipython",
    "version": 3
   },
   "file_extension": ".py",
   "mimetype": "text/x-python",
   "name": "python",
   "nbconvert_exporter": "python",
   "pygments_lexer": "ipython3",
   "version": "3.7.3"
  }
 },
 "nbformat": 4,
 "nbformat_minor": 2
}
