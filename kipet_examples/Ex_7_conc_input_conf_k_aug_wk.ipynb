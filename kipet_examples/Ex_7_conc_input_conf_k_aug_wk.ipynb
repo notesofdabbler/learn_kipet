{
 "cells": [
  {
   "cell_type": "code",
   "execution_count": 1,
   "metadata": {},
   "outputs": [],
   "source": [
    "#\n",
    "# Working through\n",
    "# https://github.com/salvadorgarciamunoz/kipet/blob/master/kipet/examples/Ex_7_conc_input_conf_k_aug.py\n",
    "#"
   ]
  },
  {
   "cell_type": "code",
   "execution_count": 2,
   "metadata": {},
   "outputs": [],
   "source": [
    "from __future__ import print_function\n",
    "from kipet.library.TemplateBuilder import *\n",
    "from kipet.library.PyomoSimulator import *\n",
    "from kipet.library.ParameterEstimator import *\n",
    "from kipet.library.VarianceEstimator import *\n",
    "from kipet.library.data_tools import *\n",
    "import matplotlib.pyplot as plt\n",
    "import os\n",
    "import sys\n",
    "import inspect\n",
    "import six\n",
    "import pandas as pd"
   ]
  },
  {
   "cell_type": "code",
   "execution_count": 3,
   "metadata": {},
   "outputs": [
    {
     "name": "stdout",
     "output_type": "stream",
     "text": [
      "read dir : /home/paperspace/learn_kipet/kipet_examples/../data_sets/../data_sets/Ex_1_C_data.txt\n"
     ]
    }
   ],
   "source": [
    "filename = '../data_sets/Ex_1_C_data.txt'\n",
    "D_frame = read_file(filename, directory = '../data_sets')"
   ]
  },
  {
   "cell_type": "code",
   "execution_count": 4,
   "metadata": {},
   "outputs": [
    {
     "data": {
      "text/plain": [
       "(300, 3)"
      ]
     },
     "execution_count": 4,
     "metadata": {},
     "output_type": "execute_result"
    }
   ],
   "source": [
    "D_frame.shape"
   ]
  },
  {
   "cell_type": "code",
   "execution_count": 5,
   "metadata": {},
   "outputs": [
    {
     "name": "stdout",
     "output_type": "stream",
     "text": [
      "               A         B         C\n",
      "0.0000  0.001027  0.000000  0.000013\n",
      "0.0333  0.001015  0.000002  0.000021\n",
      "0.0667  0.001007  0.000013  0.000018\n",
      "0.1000  0.000993  0.000025  0.000014\n",
      "0.1334  0.000982  0.000035  0.000012\n",
      "...          ...       ...       ...\n",
      "9.8353  0.000103  0.000043  0.000859\n",
      "9.8686  0.000104  0.000042  0.000857\n",
      "9.9020  0.000103  0.000041  0.000859\n",
      "9.9353  0.000101  0.000043  0.000860\n",
      "9.9687  0.000103  0.000038  0.000863\n",
      "\n",
      "[300 rows x 3 columns]\n"
     ]
    }
   ],
   "source": [
    "builder = TemplateBuilder()    \n",
    "components = {'A':1e-3,'B':0,'C':0}\n",
    "builder.add_mixture_component(components)\n",
    "builder.add_parameter('k1',bounds=(0.0,5.0))\n",
    "builder.add_parameter('k2',bounds=(0.00,2.0))\n",
    "builder.add_concentration_data(D_frame)"
   ]
  },
  {
   "cell_type": "code",
   "execution_count": 6,
   "metadata": {},
   "outputs": [],
   "source": [
    "# define explicit system of ODEs\n",
    "def rule_odes(m,t):\n",
    "    exprs = dict()\n",
    "    exprs['A'] = -m.P['k1']*m.Z[t,'A']\n",
    "    exprs['B'] = m.P['k1']*m.Z[t,'A']-m.P['k2']*m.Z[t,'B']\n",
    "    exprs['C'] = m.P['k2']*m.Z[t,'B']\n",
    "    return exprs\n",
    "\n",
    "builder.set_odes_rule(rule_odes)\n",
    "opt_model = builder.create_pyomo_model(0.0,10.0)"
   ]
  },
  {
   "cell_type": "code",
   "execution_count": 7,
   "metadata": {},
   "outputs": [
    {
     "name": "stdout",
     "output_type": "stream",
     "text": [
      "WARNING: More finite elements were found in ContinuousSet 'alltime' than the\n",
      "    number of finite elements specified in apply. The larger number of finite\n",
      "    elements will be used.\n"
     ]
    }
   ],
   "source": [
    "sigmas = {'A':1e-10,'B':1e-11,'C':1e-8}\n",
    "p_estimator = ParameterEstimator(opt_model)\n",
    "p_estimator.apply_discretization('dae.collocation',nfe=100,ncp=3,scheme='LAGRANGE-RADAU')"
   ]
  },
  {
   "cell_type": "code",
   "execution_count": 8,
   "metadata": {},
   "outputs": [
    {
     "name": "stdout",
     "output_type": "stream",
     "text": [
      "        0.65 seconds required to write file\n",
      "        0.65 seconds required for presolve\n",
      "Ipopt 3.12: \n",
      "\n",
      "******************************************************************************\n",
      "This program contains Ipopt, a library for large-scale nonlinear optimization.\n",
      " Ipopt is released as open source code under the Eclipse Public License (EPL).\n",
      "         For more information visit http://projects.coin-or.org/Ipopt\n",
      "******************************************************************************\n",
      "\n",
      "This is Ipopt version 3.12, running with linear solver ma27.\n",
      "\n",
      "Number of nonzeros in equality constraint Jacobian...:    23403\n",
      "Number of nonzeros in inequality constraint Jacobian.:        0\n",
      "Number of nonzeros in Lagrangian Hessian.............:     2700\n",
      "\n",
      "Total number of variables............................:     5405\n",
      "                     variables with only lower bounds:        0\n",
      "                variables with lower and upper bounds:        2\n",
      "                     variables with only upper bounds:        0\n",
      "Total number of equality constraints.................:     5403\n",
      "Total number of inequality constraints...............:        0\n",
      "        inequality constraints with only lower bounds:        0\n",
      "   inequality constraints with lower and upper bounds:        0\n",
      "        inequality constraints with only upper bounds:        0\n",
      "\n",
      "iter    objective    inf_pr   inf_du lg(mu)  ||d||  lg(rg) alpha_du alpha_pr  ls\n",
      "   0  2.9981936e+02 1.00e+00 1.15e-01  -1.0 0.00e+00    -  0.00e+00 0.00e+00   0\n",
      "   1  4.9922136e-05 3.85e-04 1.20e-01  -1.0 1.00e+00    -  9.69e-01 1.00e+00f  1\n",
      "   2  4.9880391e-05 6.59e-07 3.83e-04  -1.7 1.04e-02    -  1.00e+00 1.00e+00h  1\n",
      "   3  4.9827580e-05 6.19e-10 9.60e-08  -3.8 1.93e-03    -  1.00e+00 1.00e+00h  1\n",
      "   4  4.8842528e-05 2.21e-06 9.91e-07  -5.7 1.16e-01    -  9.66e-01 1.00e+00h  1\n",
      "   5  4.7299589e-05 4.80e-06 1.05e-05  -8.6 1.14e-01  -4.0 9.03e-01 1.00e+00h  1\n",
      "   6  4.2750923e-05 1.80e-04 6.49e-05  -8.6 6.58e-01  -4.5 1.00e+00 1.00e+00h  1\n",
      "   7  3.4706531e-05 1.05e-04 8.22e-05  -8.6 8.09e-01  -5.0 4.36e-01 1.00e+00h  1\n",
      "   8  2.8362443e-05 1.02e-04 5.72e-05  -8.6 5.68e-01  -4.5 1.00e+00 1.00e+00h  1\n",
      "   9  1.7506276e-05 9.35e-05 5.17e-05  -8.6 4.28e-01  -4.1 1.00e+00 1.00e+00h  1\n",
      "iter    objective    inf_pr   inf_du lg(mu)  ||d||  lg(rg) alpha_du alpha_pr  ls\n",
      "  10  4.5689982e-06 8.09e-05 5.60e-05  -8.6 2.82e-01  -3.7 1.00e+00 1.00e+00h  1\n",
      "  11  5.2973246e-07 2.69e-05 2.94e-05  -8.6 1.80e-01    -  1.00e+00 1.00e+00h  1\n",
      "  12  5.1359142e-08 3.19e-06 1.24e-05  -8.6 2.25e-01    -  1.00e+00 1.00e+00h  1\n",
      "  13  1.7075149e-08 1.58e-06 7.91e-07  -8.6 1.04e-01    -  1.00e+00 1.00e+00h  1\n",
      "  14  1.7141753e-08 1.23e-08 4.11e-09  -8.6 1.45e-02    -  1.00e+00 1.00e+00h  1\n",
      "  15  1.7145317e-08 1.76e-12 5.74e-13  -9.0 1.48e-04    -  1.00e+00 1.00e+00h  1\n",
      "\n",
      "Number of Iterations....: 15\n",
      "\n",
      "                                   (scaled)                 (unscaled)\n",
      "Objective...............:   1.7145316759808843e-08    1.7145316759808843e-08\n",
      "Dual infeasibility......:   5.7409087791775171e-13    5.7409087791775171e-13\n",
      "Constraint violation....:   1.7610969919781144e-12    1.7610969919781144e-12\n",
      "Complementarity.........:   9.0933266241280898e-10    9.0933266241280898e-10\n",
      "Overall NLP error.......:   9.0933266241280898e-10    9.0933266241280898e-10\n",
      "\n",
      "\n",
      "Number of objective function evaluations             = 16\n",
      "Number of objective gradient evaluations             = 16\n",
      "Number of equality constraint evaluations            = 16\n",
      "Number of inequality constraint evaluations          = 0\n",
      "Number of equality constraint Jacobian evaluations   = 16\n",
      "Number of inequality constraint Jacobian evaluations = 0\n",
      "Number of Lagrangian Hessian evaluations             = 15\n",
      "Total CPU secs in IPOPT (w/o function evaluations)   =      0.212\n",
      "Total CPU secs in NLP function evaluations           =      0.012\n",
      "\n",
      "EXIT: Optimal Solution Found.\n",
      "        0.33 seconds required for solver\n",
      "        0.00 seconds required to read logfile \n",
      "        0.03 seconds required to read solution file\n",
      "        0.08 seconds required for postsolve\n"
     ]
    },
    {
     "name": "stderr",
     "output_type": "stream",
     "text": [
      "W[K_AUG]...\t[K_AUG_ASL]No n_rhs declared\n",
      "W[K_AUG]...\t[K_AUG_ASL]Target log10mu:= -11.\n",
      "W[K_AUG]...\t[K_AUG_ASL]No f_timestamp suffix declared, Fallback to default writing mode.\n",
      "I[K_AUG]...\t[K_AUG_ASL] Filename for dot_sens dot_in_.in\n"
     ]
    },
    {
     "name": "stdout",
     "output_type": "stream",
     "text": [
      "[K_AUG] written by D.T. @2018\n",
      "\n",
      ": I[K_AUG]...\t[K_AUG_ASL]File read succesfull\n",
      "I[K_AUG]...\t[K_AUG_ASL]Number of Right hand sides 0\n",
      "I[K_AUG]...\t[K_AUG_ASL]Number of Right hand sides: 0\n",
      "I[K_AUG]...\t[K_AUG_ASL]Number of variables       : 5405\n",
      "I[K_AUG]...\t[K_AUG_ASL]Number of constraints     : 5403\n",
      "I[K_AUG]...\t[K_AUG_ASL]Number of valid n_dof     : 2\n",
      "I[K_AUG]...\t[ADJUST_MU]log10(mu) computed=-9.041360438804356 at var_i=1800\n",
      "I[K_AUG]...\t[ADJUST_MU]log10(mu) close to the target\t-9.041503768265594 at var_i=1801\n",
      "I[K_AUG]...\t[FIND_INEQUALITIES]summary: eq: 5403, leq: 0, geq: 0 \n",
      "I[K_AUG]...\t[K_AUG_ASL]Nonzeroes in the sparse Jacobian 23403\n",
      "I[K_AUG]...\t[GET_HESS_ASL]Objective found\n",
      "I[K_AUG]...\t[GET_HESS_ASL]Nonzeroes in the sparse hessian 2700\n",
      "I[K_AUG]...\t[GET_HESS_ASL]Minimization problem detected\n",
      "I[K_AUG]...\t[GET_HESS_ASL]Current objective 0.000000\n",
      "I[K_AUG]...\t[GET_HESS_ASL]Missing nz in the Hessian of the Lag: 4505\n",
      "I[K_AUG]...\t[K_AUG_ASL]Barrier term added.\n",
      "I[K_AUG]...\t[K_AUG_ASL]MC19 scaling...\n",
      "I[K_AUG]...\t[ASSM_RHS_RH]According to the suffixes declared dof is 2 \n",
      "I[K_AUG]...\t[ASSM_RHS_RH]n_dof exactly n_var - n_con \n",
      " On return from DMUMPS, INFOG(1)=              -9\n",
      " On return from DMUMPS, INFOG(2)=             940\n"
     ]
    },
    {
     "name": "stderr",
     "output_type": "stream",
     "text": [
      "W[K_AUG]...\t[MUMPS_DRIVER]icntl 14 > 200\n",
      "W[K_AUG]...\t[INERTIA_STRATEGY]Wrong inertia(neig < m).\n",
      "W[K_AUG]...\t[INERTIA_STRATEGY]Attempting to make i_pert->d_c > 0.\n"
     ]
    },
    {
     "name": "stdout",
     "output_type": "stream",
     "text": [
      "I[K_AUG]...\t[MUMPS_DRIVER]Reallocating Memory (50)\n",
      "\n",
      " On return from DMUMPS, INFOG(1)=              -9\n",
      " On return from DMUMPS, INFOG(2)=          180325\n",
      "I[K_AUG]...\t[MUMPS_DRIVER]Reallocating Memory (100)\n",
      "\n",
      " On return from DMUMPS, INFOG(1)=              -9\n",
      " On return from DMUMPS, INFOG(2)=          101725\n",
      "I[K_AUG]...\t[MUMPS_DRIVER]Reallocating Memory (200)\n",
      "\n",
      "I[K_AUG]...\t[MUMPS_DRIVER]n_neig = 5403\n",
      "I[K_AUG]...\t[INERTIA_STRATEGY]Inertia check successful.\n",
      "I[K_AUG]...\t[MUMPS_DRIVER]: Ratio of norm of scaled residuals (reported); 7.581199e-13 \n",
      "I[K_AUG]...\t[MUMPS_DRIVER]Accuracy at an acceptable level.\n",
      "\n",
      "W[K_AUG]...\t[MUMPS_DRIVER]Inertia check OK neig=5403, (neig == m).\n",
      "I[K_AUG]...\t[K_AUG_ASL]Linear solver done. \n",
      "\bI[K_AUG]...\t[K_AUG_ASL]Timings..Ev&Assem 0.165356, Fact 0.711083, Overall 0.722219.\n",
      "Done solving building reduce hessian\n",
      "4 hessian size\n",
      "Parameter variances:  [  1132.24342841 266295.59457505]\n",
      "\n",
      "Confidence intervals:\n",
      "k1 (-33.423743265165804,33.87390686949457)\n",
      "k2 (-515.018256768277,517.0584740517689)\n"
     ]
    }
   ],
   "source": [
    "options = dict()\n",
    "#options['nlp_scaling_method'] = 'gradient-based'\n",
    "#options['bound_relax_factor'] = 0\n",
    "# finally we run the optimization\n",
    "results_pyomo = p_estimator.run_opt('k_aug',\n",
    "                                    variances=sigmas,\n",
    "                                  tee=True,\n",
    "                                  solver_opts = options,\n",
    "                                  covariance=True)"
   ]
  },
  {
   "cell_type": "code",
   "execution_count": 10,
   "metadata": {},
   "outputs": [
    {
     "name": "stdout",
     "output_type": "stream",
     "text": [
      "The estimated parameters are:\n",
      "k1 0.22508180216438584\n",
      "k2 1.0201086417460299\n"
     ]
    }
   ],
   "source": [
    "print(\"The estimated parameters are:\")\n",
    "for k,v in six.iteritems(results_pyomo.P):\n",
    "    print(k, v)"
   ]
  },
  {
   "cell_type": "code",
   "execution_count": null,
   "metadata": {},
   "outputs": [],
   "source": []
  }
 ],
 "metadata": {
  "kernelspec": {
   "display_name": "Python 3",
   "language": "python",
   "name": "python3"
  },
  "language_info": {
   "codemirror_mode": {
    "name": "ipython",
    "version": 3
   },
   "file_extension": ".py",
   "mimetype": "text/x-python",
   "name": "python",
   "nbconvert_exporter": "python",
   "pygments_lexer": "ipython3",
   "version": "3.7.3"
  }
 },
 "nbformat": 4,
 "nbformat_minor": 2
}
