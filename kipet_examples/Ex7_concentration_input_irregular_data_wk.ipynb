{
 "cells": [
  {
   "cell_type": "code",
   "execution_count": 34,
   "metadata": {},
   "outputs": [],
   "source": [
    "#\n",
    "# Working through the example from\n",
    "# https://github.com/salvadorgarciamunoz/kipet/blob/master/kipet/examples/Ex_7_concentration_input.py\n",
    "#\n",
    "# Trying the example with data where B, C conc is available at all time points but A is only available at \n",
    "# a subset of time points\n",
    "#"
   ]
  },
  {
   "cell_type": "code",
   "execution_count": 35,
   "metadata": {},
   "outputs": [],
   "source": [
    "from __future__ import print_function\n",
    "from kipet.library.TemplateBuilder import *\n",
    "from kipet.library.PyomoSimulator import *\n",
    "from kipet.library.ParameterEstimator import *\n",
    "from kipet.library.VarianceEstimator import *\n",
    "from kipet.library.data_tools import *\n",
    "import matplotlib.pyplot as plt\n",
    "import os\n",
    "import sys\n",
    "import inspect\n",
    "import six\n",
    "import pandas as pd"
   ]
  },
  {
   "cell_type": "code",
   "execution_count": 37,
   "metadata": {},
   "outputs": [],
   "source": [
    "# Creating a dataset from Ex_1_C_data.txt that removed A data from a subset of time points\n",
    "tmp = pd.read_csv('../data_sets/Ex_1_C_data.txt', index_col = 0, header = None, sep = ' ')\n",
    "tmp.columns = ['comp', 'conc']\n",
    "tmp['rownum'] = list(range(tmp.shape[0]))\n",
    "tmp = tmp[(tmp.comp.isin(['B', 'C'])) | (tmp.rownum % 10 == 0)]\n",
    "tmp = tmp[['comp', 'conc']]\n",
    "tmp\n",
    "tmp.to_csv('../data_sets/Ex_1_C_data_irreg.txt', sep = ' ', header = None)"
   ]
  },
  {
   "cell_type": "code",
   "execution_count": 38,
   "metadata": {},
   "outputs": [
    {
     "ename": "KeyError",
     "evalue": "(0.0333, 'A')",
     "output_type": "error",
     "traceback": [
      "\u001b[0;31m---------------------------------------------------------------------------\u001b[0m",
      "\u001b[0;31mKeyError\u001b[0m                                  Traceback (most recent call last)",
      "\u001b[0;32m<ipython-input-38-7ff0f694bf8c>\u001b[0m in \u001b[0;36m<module>\u001b[0;34m\u001b[0m\n\u001b[1;32m      1\u001b[0m \u001b[0mfilename\u001b[0m \u001b[0;34m=\u001b[0m \u001b[0;34m'../data_sets/Ex_1_C_data_irreg.txt'\u001b[0m\u001b[0;34m\u001b[0m\u001b[0;34m\u001b[0m\u001b[0m\n\u001b[0;32m----> 2\u001b[0;31m \u001b[0mC_frame\u001b[0m \u001b[0;34m=\u001b[0m \u001b[0mread_concentration_data_from_txt\u001b[0m\u001b[0;34m(\u001b[0m\u001b[0mfilename\u001b[0m\u001b[0;34m)\u001b[0m\u001b[0;34m\u001b[0m\u001b[0;34m\u001b[0m\u001b[0m\n\u001b[0m",
      "\u001b[0;32m/opt/anaconda3/envs/kipetenv/lib/python3.7/site-packages/kipet-1.1.1-py3.7.egg/kipet/library/data_tools.py\u001b[0m in \u001b[0;36mread_concentration_data_from_txt\u001b[0;34m(filename)\u001b[0m\n\u001b[1;32m    154\u001b[0m     \u001b[0;32mfor\u001b[0m \u001b[0mi\u001b[0m\u001b[0;34m,\u001b[0m\u001b[0midx\u001b[0m \u001b[0;32min\u001b[0m \u001b[0menumerate\u001b[0m\u001b[0;34m(\u001b[0m\u001b[0msorted_index\u001b[0m\u001b[0;34m)\u001b[0m\u001b[0;34m:\u001b[0m\u001b[0;34m\u001b[0m\u001b[0;34m\u001b[0m\u001b[0m\n\u001b[1;32m    155\u001b[0m         \u001b[0;32mfor\u001b[0m \u001b[0mj\u001b[0m\u001b[0;34m,\u001b[0m\u001b[0mjdx\u001b[0m \u001b[0;32min\u001b[0m \u001b[0menumerate\u001b[0m\u001b[0;34m(\u001b[0m\u001b[0msorted_columns\u001b[0m\u001b[0;34m)\u001b[0m\u001b[0;34m:\u001b[0m\u001b[0;34m\u001b[0m\u001b[0;34m\u001b[0m\u001b[0m\n\u001b[0;32m--> 156\u001b[0;31m             \u001b[0mdata_array\u001b[0m\u001b[0;34m[\u001b[0m\u001b[0mi\u001b[0m\u001b[0;34m,\u001b[0m\u001b[0mj\u001b[0m\u001b[0;34m]\u001b[0m \u001b[0;34m=\u001b[0m \u001b[0mdata_dict\u001b[0m\u001b[0;34m[\u001b[0m\u001b[0midx\u001b[0m\u001b[0;34m,\u001b[0m\u001b[0mjdx\u001b[0m\u001b[0;34m]\u001b[0m\u001b[0;34m\u001b[0m\u001b[0;34m\u001b[0m\u001b[0m\n\u001b[0m\u001b[1;32m    157\u001b[0m \u001b[0;34m\u001b[0m\u001b[0m\n\u001b[1;32m    158\u001b[0m     \u001b[0;32mreturn\u001b[0m \u001b[0mpd\u001b[0m\u001b[0;34m.\u001b[0m\u001b[0mDataFrame\u001b[0m\u001b[0;34m(\u001b[0m\u001b[0mdata\u001b[0m\u001b[0;34m=\u001b[0m\u001b[0mdata_array\u001b[0m\u001b[0;34m,\u001b[0m\u001b[0mcolumns\u001b[0m\u001b[0;34m=\u001b[0m\u001b[0msorted_columns\u001b[0m\u001b[0;34m,\u001b[0m\u001b[0mindex\u001b[0m\u001b[0;34m=\u001b[0m\u001b[0msorted_index\u001b[0m\u001b[0;34m)\u001b[0m\u001b[0;34m\u001b[0m\u001b[0;34m\u001b[0m\u001b[0m\n",
      "\u001b[0;31mKeyError\u001b[0m: (0.0333, 'A')"
     ]
    }
   ],
   "source": [
    "filename = '../data_sets/Ex_1_C_data_irreg.txt'\n",
    "C_frame = read_concentration_data_from_txt(filename)"
   ]
  },
  {
   "cell_type": "code",
   "execution_count": null,
   "metadata": {},
   "outputs": [],
   "source": [
    "C_frame"
   ]
  },
  {
   "cell_type": "code",
   "execution_count": null,
   "metadata": {},
   "outputs": [],
   "source": [
    "fig, ax = plt.subplots()\n",
    "#ax.scatter(C_frame.index, C_frame['A'], label = 'A')\n",
    "ax.scatter(C_frame.index, C_frame['B'], label = 'B')\n",
    "ax.scatter(C_frame.index, C_frame['C'], label = 'C')\n",
    "ax.legend()"
   ]
  },
  {
   "cell_type": "code",
   "execution_count": null,
   "metadata": {},
   "outputs": [],
   "source": [
    "builder = TemplateBuilder()    \n",
    "components = {'A':1e-3,'B':0,'C':0}\n",
    "builder.add_mixture_component(components)\n",
    "builder.add_parameter('k1',bounds=(0.0,5.0))\n",
    "builder.add_parameter('k2',bounds=(0.0,1.0))\n",
    "builder.add_concentration_data(C_frame)"
   ]
  },
  {
   "cell_type": "code",
   "execution_count": null,
   "metadata": {},
   "outputs": [],
   "source": [
    "# define explicit system of ODEs\n",
    "def rule_odes(m,t):\n",
    "    exprs = dict()\n",
    "    exprs['A'] = -m.P['k1']*m.Z[t,'A']\n",
    "    exprs['B'] = m.P['k1']*m.Z[t,'A']-m.P['k2']*m.Z[t,'B']\n",
    "    exprs['C'] = m.P['k2']*m.Z[t,'B']\n",
    "    return exprs\n",
    "    \n",
    "builder.set_odes_rule(rule_odes)\n",
    "opt_model = builder.create_pyomo_model(0.0,10.0)"
   ]
  },
  {
   "cell_type": "code",
   "execution_count": null,
   "metadata": {},
   "outputs": [],
   "source": [
    "#sigmas = {'A':1e-10,'B':1e-11,'C':1e-10}\n",
    "sigmas = {'B':1e-11,'C':1e-10}"
   ]
  },
  {
   "cell_type": "code",
   "execution_count": null,
   "metadata": {},
   "outputs": [],
   "source": [
    "# and define our parameter estimation problem and discretization strategy\n",
    "p_estimator = ParameterEstimator(opt_model)\n",
    "p_estimator.apply_discretization('dae.collocation',nfe=60,ncp=3,scheme='LAGRANGE-RADAU')"
   ]
  },
  {
   "cell_type": "code",
   "execution_count": null,
   "metadata": {},
   "outputs": [],
   "source": [
    "# Again we provide options for the solver, this time providing the scaling that we set above\n",
    "options = dict()\n",
    "#options['nlp_scaling_method'] = 'user-scaling'\n",
    "options['linear_solver'] = 'ma27'"
   ]
  },
  {
   "cell_type": "code",
   "execution_count": null,
   "metadata": {},
   "outputs": [],
   "source": [
    "# finally we run the optimization\n",
    "results_pyomo = p_estimator.run_opt('ipopt',\n",
    "                                        variances=sigmas,\n",
    "                                      tee=True,\n",
    "                                   solver_opts = options)"
   ]
  },
  {
   "cell_type": "code",
   "execution_count": null,
   "metadata": {},
   "outputs": [],
   "source": [
    "# And display the results\n",
    "print(\"The estimated parameters are:\")\n",
    "for k,v in six.iteritems(results_pyomo.P):\n",
    "    print(k, v)"
   ]
  },
  {
   "cell_type": "code",
   "execution_count": null,
   "metadata": {},
   "outputs": [],
   "source": [
    "results_pyomo.C.plot.line(legend=True)\n",
    "plt.xlabel(\"time (s)\")\n",
    "plt.ylabel(\"Concentration (mol/L)\")\n",
    "plt.title(\"Concentration Profile\")\n",
    "\n",
    "results_pyomo.Z.plot.line(legend=True)\n",
    "plt.xlabel(\"time (s)\")\n",
    "plt.ylabel(\"Concentration (mol/L)\")\n",
    "plt.title(\"Concentration Profile\")\n",
    "\n",
    "\n",
    "plt.show()"
   ]
  },
  {
   "cell_type": "code",
   "execution_count": null,
   "metadata": {},
   "outputs": [],
   "source": []
  }
 ],
 "metadata": {
  "kernelspec": {
   "display_name": "Python 3",
   "language": "python",
   "name": "python3"
  },
  "language_info": {
   "codemirror_mode": {
    "name": "ipython",
    "version": 3
   },
   "file_extension": ".py",
   "mimetype": "text/x-python",
   "name": "python",
   "nbconvert_exporter": "python",
   "pygments_lexer": "ipython3",
   "version": "3.7.7"
  }
 },
 "nbformat": 4,
 "nbformat_minor": 4
}
