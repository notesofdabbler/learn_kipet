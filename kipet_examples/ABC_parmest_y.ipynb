{
 "cells": [
  {
   "cell_type": "code",
   "execution_count": 1,
   "metadata": {},
   "outputs": [],
   "source": [
    "#\n",
    "# Example of fitting A->B->C where measurements are for A and B/B+C\n",
    "# https://github.com/salvadorgarciamunoz/kipet/blob/master/kipet/new_examples/Ex_17_custom_objective.py\n",
    "#"
   ]
  },
  {
   "cell_type": "code",
   "execution_count": 32,
   "metadata": {},
   "outputs": [],
   "source": [
    "from kipet import KipetModel\n",
    "import numpy as np\n",
    "import pandas as pd\n",
    "import matplotlib.pyplot as plt"
   ]
  },
  {
   "cell_type": "code",
   "execution_count": 35,
   "metadata": {},
   "outputs": [
    {
     "data": {
      "text/html": [
       "<div>\n",
       "<style scoped>\n",
       "    .dataframe tbody tr th:only-of-type {\n",
       "        vertical-align: middle;\n",
       "    }\n",
       "\n",
       "    .dataframe tbody tr th {\n",
       "        vertical-align: top;\n",
       "    }\n",
       "\n",
       "    .dataframe thead th {\n",
       "        text-align: right;\n",
       "    }\n",
       "</style>\n",
       "<table border=\"1\" class=\"dataframe\">\n",
       "  <thead>\n",
       "    <tr style=\"text-align: right;\">\n",
       "      <th></th>\n",
       "      <th>A</th>\n",
       "      <th>B</th>\n",
       "      <th>C</th>\n",
       "    </tr>\n",
       "    <tr>\n",
       "      <th>t</th>\n",
       "      <th></th>\n",
       "      <th></th>\n",
       "      <th></th>\n",
       "    </tr>\n",
       "  </thead>\n",
       "  <tbody>\n",
       "    <tr>\n",
       "      <th>0.000</th>\n",
       "      <td>0.957</td>\n",
       "      <td>-0.031</td>\n",
       "      <td>-0.015</td>\n",
       "    </tr>\n",
       "    <tr>\n",
       "      <th>0.263</th>\n",
       "      <td>0.557</td>\n",
       "      <td>0.330</td>\n",
       "      <td>0.044</td>\n",
       "    </tr>\n",
       "    <tr>\n",
       "      <th>0.526</th>\n",
       "      <td>0.342</td>\n",
       "      <td>0.512</td>\n",
       "      <td>0.156</td>\n",
       "    </tr>\n",
       "    <tr>\n",
       "      <th>0.789</th>\n",
       "      <td>0.224</td>\n",
       "      <td>0.499</td>\n",
       "      <td>0.310</td>\n",
       "    </tr>\n",
       "    <tr>\n",
       "      <th>1.053</th>\n",
       "      <td>0.123</td>\n",
       "      <td>0.428</td>\n",
       "      <td>0.454</td>\n",
       "    </tr>\n",
       "  </tbody>\n",
       "</table>\n",
       "</div>"
      ],
      "text/plain": [
       "           A      B      C\n",
       "t                         \n",
       "0.000  0.957 -0.031 -0.015\n",
       "0.263  0.557  0.330  0.044\n",
       "0.526  0.342  0.512  0.156\n",
       "0.789  0.224  0.499  0.310\n",
       "1.053  0.123  0.428  0.454"
      ]
     },
     "execution_count": 35,
     "metadata": {},
     "output_type": "execute_result"
    }
   ],
   "source": [
    "filename = '/home/paperspace/learn_kipet/my_data_sets/ABC_data.csv'\n",
    "all_data = pd.read_csv(filename, index_col = 0)\n",
    "all_data.columns = ['A', 'B', 'C']\n",
    "all_data.head()"
   ]
  },
  {
   "cell_type": "code",
   "execution_count": 37,
   "metadata": {},
   "outputs": [],
   "source": [
    "all_data['y'] = all_data['B'] / (all_data['B'] + all_data['C'])\n",
    "Y_data = all_data[['y']]\n",
    "C_data = all_data[['A']]"
   ]
  },
  {
   "cell_type": "code",
   "execution_count": 38,
   "metadata": {},
   "outputs": [
    {
     "name": "stdout",
     "output_type": "stream",
     "text": [
      "Warning: Component A variance not provided\n",
      "Warning: Component B variance not provided\n",
      "Warning: Component C variance not provided\n"
     ]
    }
   ],
   "source": [
    "kipet_model = KipetModel()\n",
    "\n",
    "r1 = kipet_model.new_reaction('rxn1')\n",
    "\n",
    "r1.add_component('A', state = 'concentration', init = 1.0)\n",
    "r1.add_component('B', state = 'concentration', init = 0.0)\n",
    "r1.add_component('C', state = 'concentration', init = 0.0)\n",
    "\n",
    "r1.add_parameter('k1', init = 5.0, bounds = (0.0, 10.0))\n",
    "r1.add_parameter('k2', init = 5.0, bounds = (0.0, 10.0))\n",
    "\n",
    "r1.add_algebraic_variables('y', init = 0.0, bounds = (0.0, 1.0))\n",
    "\n",
    "def rule_odes(m, t):\n",
    "    exprs = dict()\n",
    "    exprs['A'] = -m.P['k1'] * m.Z[t,'A']\n",
    "    exprs['B'] = m.P['k1'] * m.Z[t,'A'] - m.P['k2'] * m.Z[t,'B']\n",
    "    exprs['C'] = m.P['k2'] * m.Z[t,'B']\n",
    "    return exprs\n",
    "\n",
    "r1.add_equations(rule_odes)\n",
    "\n",
    "def rule_algebraics(m, t):\n",
    "    r = list()\n",
    "    r.append(m.Y[t,'y'] * (m.Z[t, 'B'] + m.Z[t, 'C']) - m.Z[t, 'B'])\n",
    "    return r\n",
    "\n",
    "r1.add_algebraics(rule_algebraics)"
   ]
  },
  {
   "cell_type": "code",
   "execution_count": 39,
   "metadata": {},
   "outputs": [],
   "source": [
    "r1.add_dataset('C_data', category = 'concentration', data = C_data)\n",
    "r1.add_dataset('y_data', category = 'custom', data = Y_data)"
   ]
  },
  {
   "cell_type": "code",
   "execution_count": 40,
   "metadata": {},
   "outputs": [],
   "source": [
    "r1.add_objective_from_algebraic('y')"
   ]
  },
  {
   "cell_type": "code",
   "execution_count": 41,
   "metadata": {},
   "outputs": [
    {
     "name": "stdout",
     "output_type": "stream",
     "text": [
      "Warning! Since Cm-matrix contains negative values Kipet is assuming a derivative of Cm has been inputted\n",
      "0 5.0\n",
      "WARNING: DEPRECATED: The default domain for Param objects is 'Any'.  However,\n",
      "    we will be changing that default to 'Reals' in the future.  If you really\n",
      "    intend the domain of this Param (sigma) to be 'Any', you can suppress this\n",
      "    warning by explicitly specifying 'within=Any' to the Param constructor.\n",
      "    (deprecated in 5.6.9, will be removed in 6.0) (called from\n",
      "    /home/paperspace/my_pyenvs/kipetenv/lib/python3.7/site-\n",
      "    packages/Pyomo-5.7.1-py3.7-linux-x86_64.egg/pyomo/core/base/param.py:640)\n",
      "No variance information for A found, setting equal to unity\n",
      "No variance information for B found, setting equal to unity\n",
      "No variance information for C found, setting equal to unity\n",
      "Ipopt 3.12: nlp_scaling_method=user-scaling\n",
      "linear_solver=ma27\n",
      "\n",
      "\n",
      "******************************************************************************\n",
      "This program contains Ipopt, a library for large-scale nonlinear optimization.\n",
      " Ipopt is released as open source code under the Eclipse Public License (EPL).\n",
      "         For more information visit http://projects.coin-or.org/Ipopt\n",
      "******************************************************************************\n",
      "\n",
      "This is Ipopt version 3.12, running with linear solver ma27.\n",
      "\n",
      "Number of nonzeros in equality constraint Jacobian...:     4356\n",
      "Number of nonzeros in inequality constraint Jacobian.:        0\n",
      "Number of nonzeros in Lagrangian Hessian.............:      642\n",
      "\n",
      "Total number of variables............................:     1056\n",
      "                     variables with only lower bounds:        0\n",
      "                variables with lower and upper bounds:       22\n",
      "                     variables with only upper bounds:        0\n",
      "Total number of equality constraints.................:     1054\n",
      "Total number of inequality constraints...............:        0\n",
      "        inequality constraints with only lower bounds:        0\n",
      "   inequality constraints with lower and upper bounds:        0\n",
      "        inequality constraints with only upper bounds:        0\n",
      "\n",
      "iter    objective    inf_pr   inf_du lg(mu)  ||d||  lg(rg) alpha_du alpha_pr  ls\n",
      "   0  2.8385341e+01 5.00e+00 4.64e-01  -1.0 0.00e+00    -  0.00e+00 0.00e+00   0\n",
      "   1  2.0654919e+01 3.71e+00 3.78e-01  -1.0 5.52e+00    -  2.39e-01 2.96e-01h  1\n",
      "   2  4.3516887e+00 1.30e+00 2.02e+01  -1.0 3.55e+00    -  6.96e-02 1.00e+00f  1\n",
      "   3  8.9676394e-01 3.67e-01 4.40e+00  -1.0 2.01e+00   0.0 7.97e-01 1.00e+00h  1\n",
      "   4  6.7709365e-01 3.79e-02 2.94e+00  -1.0 2.59e-01  -0.5 9.50e-01 1.00e+00h  1\n",
      "   5  2.7941749e-01 3.32e-02 1.35e+03  -2.5 4.61e-01    -  6.97e-01 7.96e-01h  1\n",
      "   6  1.5361826e-01 6.96e-01 1.89e+22  -2.5 2.87e+00    -  1.88e-01 1.00e+00h  1\n",
      "   7  7.9565445e-02 7.61e-02 3.73e+35  -2.5 4.76e-01    -  4.28e-01 1.00e+00h  1\n",
      "   8  1.4460691e-02 1.05e-02 3.51e+37  -2.5 2.16e-01    -  9.92e-01 1.00e+00h  1\n",
      "MA27BD returned iflag=-4 and requires more memory.\n",
      " Increase liw from 57340 to 114680 and la from 68045 to 136574 and factorize again.\n",
      "MA27BD returned iflag=-4 and requires more memory.\n",
      " Increase liw from 114680 to 229360 and la from 136574 to 273848 and factorize again.\n",
      "MA27BD returned iflag=-4 and requires more memory.\n",
      " Increase liw from 229360 to 458720 and la from 273848 to 548944 and factorize again.\n",
      "WARNING: Problem in step computation; switching to emergency mode.\n",
      "   9r 1.4460691e-02 1.05e-02 9.99e+02  -2.0 0.00e+00  19.4 0.00e+00 0.00e+00R  1\n",
      "iter    objective    inf_pr   inf_du lg(mu)  ||d||  lg(rg) alpha_du alpha_pr  ls\n",
      "  10r 1.4344683e-02 2.66e-03 9.14e+02  -2.0 1.42e+01    -  8.48e-02 9.91e-04f  1\n",
      "  11  1.4846522e-02 8.02e-04 1.04e-02  -2.5 4.96e-02    -  1.00e+00 1.00e+00h  1\n",
      "WARNING: Problem in step computation; switching to emergency mode.\n",
      "  12r 1.4846522e-02 8.02e-04 9.99e+02  -3.1 0.00e+00    -  0.00e+00 0.00e+00R  1\n",
      "  13r 1.4804921e-02 2.03e-04 7.24e+02  -3.1 1.68e+00    -  2.75e-01 9.91e-04f  1\n",
      "  14  1.3693277e-02 2.92e-04 1.44e-02  -3.8 2.95e-02    -  1.00e+00 1.00e+00h  1\n",
      "WARNING: Problem in step computation; switching to emergency mode.\n",
      "  15r 1.3693277e-02 2.92e-04 9.99e+02  -3.5 0.00e+00    -  0.00e+00 0.00e+00R  1\n",
      "  16r 1.3678520e-02 7.36e-05 7.13e+01  -3.5 4.39e-01    -  9.29e-01 9.91e-04f  1\n",
      "  17  1.3665705e-02 3.18e-06 1.47e-02  -5.7 3.16e-03    -  1.00e+00 1.00e+00h  1\n",
      "  18r 1.3665705e-02 3.18e-06 9.99e+02  -5.5 0.00e+00  19.9 0.00e+00 4.77e-07R 22\n",
      "  19r 1.3665600e-02 8.03e-07 2.23e-04  -5.5 3.25e-03    -  1.00e+00 9.90e-04f  1\n",
      "iter    objective    inf_pr   inf_du lg(mu)  ||d||  lg(rg) alpha_du alpha_pr  ls\n",
      "  20  1.3665546e-02 3.07e-09 3.95e-02  -8.6 9.86e-05    -  1.00e+00 1.00e+00h  1\n",
      "\n",
      "Number of Iterations....: 20\n",
      "\n",
      "                                   (scaled)                 (unscaled)\n",
      "Objective...............:   1.3665546156822762e-02    1.3665546156822762e-02\n",
      "Dual infeasibility......:   3.9500293777338297e-02    3.9500293777338297e-02\n",
      "Constraint violation....:   3.0669938255734053e-09    3.0669938255734053e-09\n",
      "Complementarity.........:   2.5059041338842542e-09    2.5059041338842542e-09\n",
      "Overall NLP error.......:   3.0669938255734053e-09    3.9500293777338297e-02\n",
      "\n",
      "\n",
      "Number of objective function evaluations             = 43\n",
      "Number of objective gradient evaluations             = 18\n",
      "Number of equality constraint evaluations            = 43\n",
      "Number of inequality constraint evaluations          = 0\n",
      "Number of equality constraint Jacobian evaluations   = 22\n",
      "Number of inequality constraint Jacobian evaluations = 0\n",
      "Number of Lagrangian Hessian evaluations             = 20\n",
      "Total CPU secs in IPOPT (w/o function evaluations)   =      1.144\n",
      "Total CPU secs in NLP function evaluations           =      0.004\n",
      "\n",
      "EXIT: Optimal Solution Found.\n"
     ]
    },
    {
     "data": {
      "text/plain": [
       "\n",
       "RESULTS\n",
       "Z:\n",
       "                  A         B         C\n",
       "0.000000  1.000000  0.000000  0.000000\n",
       "0.010195  0.979555  0.020341  0.000103\n",
       "0.042405  0.917664  0.080611  0.001726\n",
       "0.065750  0.875267  0.120679  0.004054\n",
       "0.075945  0.857373  0.137273  0.005354\n",
       "...            ...       ...       ...\n",
       "4.821811  0.000057  0.016510  0.983433\n",
       "4.868500  0.000052  0.015770  0.984178\n",
       "4.888889  0.000050  0.015458  0.984492\n",
       "4.953311  0.000044  0.014510  0.985446\n",
       "5.000000  0.000040  0.013859  0.986101\n",
       "\n",
       "[151 rows x 3 columns]\n",
       "\n",
       "Cm:\n",
       "            A\n",
       "0.000  0.957\n",
       "0.263  0.557\n",
       "0.526  0.342\n",
       "0.789  0.224\n",
       "1.053  0.123\n",
       "1.316  0.079\n",
       "1.579  0.035\n",
       "1.842  0.029\n",
       "2.105  0.025\n",
       "2.368  0.017\n",
       "2.632 -0.002\n",
       "2.895  0.009\n",
       "3.158 -0.023\n",
       "3.421  0.006\n",
       "3.684  0.016\n",
       "3.947  0.014\n",
       "4.211 -0.009\n",
       "4.474 -0.030\n",
       "4.737  0.004\n",
       "5.000 -0.024\n",
       "\n",
       "dZdt:\n",
       "                  A         B         C\n",
       "0.000000  0.000000  0.000000  0.000000\n",
       "0.010195 -1.984824  1.964718  0.020107\n",
       "0.042405 -1.859417  1.779736  0.079680\n",
       "0.065750 -1.773511  1.654225  0.119286\n",
       "0.075945 -1.737252  1.601563  0.135688\n",
       "...            ...       ...       ...\n",
       "4.821811 -0.000116 -0.016204  0.016319\n",
       "4.868500 -0.000105 -0.015483  0.015588\n",
       "4.888889 -0.000101 -0.015178  0.015279\n",
       "4.953311 -0.000089 -0.014254  0.014342\n",
       "5.000000 -0.000081 -0.013619  0.013699\n",
       "\n",
       "[151 rows x 3 columns]\n",
       "\n",
       "P:\n",
       " {'k1': 2.026250351982965, 'k2': 0.9884581428517176}\n",
       "\n",
       "Y:\n",
       "                  y\n",
       "0.000000  0.666554\n",
       "0.010195  0.994948\n",
       "0.042405  0.979041\n",
       "0.065750  0.967499\n",
       "0.075945  0.962459\n",
       "...            ...\n",
       "4.821811  0.016511\n",
       "4.868500  0.015771\n",
       "4.888889  0.015458\n",
       "4.953311  0.014511\n",
       "5.000000  0.013860\n",
       "\n",
       "[151 rows x 1 columns]\n",
       "\n",
       "UD:\n",
       "               y\n",
       "0.000  0.673913\n",
       "0.263  0.882353\n",
       "0.526  0.766467\n",
       "0.789  0.616811\n",
       "1.053  0.485261\n",
       "1.316  0.415966\n",
       "1.579  0.317610\n",
       "1.842  0.303704\n",
       "2.105  0.227600\n",
       "2.368  0.147705\n",
       "2.632  0.177215\n",
       "2.895  0.114965\n",
       "3.158  0.077375\n",
       "3.421  0.079836\n",
       "3.684  0.058941\n",
       "3.947  0.035054\n",
       "4.211  0.013972\n",
       "4.474  0.036847\n",
       "4.737  0.035750\n",
       "5.000  0.027641\n"
      ]
     },
     "execution_count": 41,
     "metadata": {},
     "output_type": "execute_result"
    }
   ],
   "source": [
    "r1.settings.solver.linear_solver = 'ma27'\n",
    "r1.run_opt()"
   ]
  },
  {
   "cell_type": "code",
   "execution_count": 42,
   "metadata": {},
   "outputs": [
    {
     "name": "stdout",
     "output_type": "stream",
     "text": [
      "\n",
      "The estimated parameters are:\n",
      "k1 2.026250351982965\n",
      "k2 0.9884581428517176\n"
     ]
    }
   ],
   "source": [
    "r1.results.show_parameters"
   ]
  },
  {
   "cell_type": "code",
   "execution_count": 43,
   "metadata": {},
   "outputs": [
    {
     "data": {
      "image/png": "[encoded data removed]",
      "text/plain": [
       "<Figure size 432x288 with 1 Axes>"
      ]
     },
     "metadata": {
      "needs_background": "light"
     },
     "output_type": "display_data"
    }
   ],
   "source": [
    "fig, ax = plt.subplots()\n",
    "for c in ['A']:\n",
    "    ax.scatter(r1.results.Cm.index, r1.results.Cm[c])\n",
    "    ax.plot(r1.results.Z.index, r1.results.Z[c])"
   ]
  },
  {
   "cell_type": "code",
   "execution_count": 44,
   "metadata": {},
   "outputs": [
    {
     "data": {
      "text/plain": [
       "[<matplotlib.lines.Line2D at 0x7fd8e729bfd0>]"
      ]
     },
     "execution_count": 44,
     "metadata": {},
     "output_type": "execute_result"
    },
    {
     "data": {
      "image/png": "[encoded data removed]",
      "text/plain": [
       "<Figure size 432x288 with 1 Axes>"
      ]
     },
     "metadata": {
      "needs_background": "light"
     },
     "output_type": "display_data"
    }
   ],
   "source": [
    "fig, ax = plt.subplots()\n",
    "ax.scatter(Y_data.index, Y_data['y'])\n",
    "ax.plot(r1.results.Y.index, r1.results.Y['y'])"
   ]
  },
  {
   "cell_type": "code",
   "execution_count": null,
   "metadata": {},
   "outputs": [],
   "source": []
  }
 ],
 "metadata": {
  "kernelspec": {
   "display_name": "Python 3",
   "language": "python",
   "name": "python3"
  },
  "language_info": {
   "codemirror_mode": {
    "name": "ipython",
    "version": 3
   },
   "file_extension": ".py",
   "mimetype": "text/x-python",
   "name": "python",
   "nbconvert_exporter": "python",
   "pygments_lexer": "ipython3",
   "version": "3.7.3"
  }
 },
 "nbformat": 4,
 "nbformat_minor": 2
}
