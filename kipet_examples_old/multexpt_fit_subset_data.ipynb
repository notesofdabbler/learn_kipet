{
 "cells": [
  {
   "cell_type": "code",
   "execution_count": 1,
   "metadata": {},
   "outputs": [],
   "source": [
    "# Adapted from\n",
    "# https://github.com/salvadorgarciamunoz/kipet/blob/master/kipet/examples/Ex_12_multexp_conc_diffreact.py\n",
    "#"
   ]
  },
  {
   "cell_type": "code",
   "execution_count": 2,
   "metadata": {},
   "outputs": [],
   "source": [
    "from __future__ import print_function\n",
    "from kipet.library.TemplateBuilder import *\n",
    "from kipet.library.PyomoSimulator import *\n",
    "from kipet.library.ParameterEstimator import *\n",
    "from kipet.library.VarianceEstimator import *\n",
    "from kipet.library.data_tools import *\n",
    "from kipet.library.MultipleExperimentsEstimator import *\n",
    "import matplotlib.pyplot as plt\n",
    "import os\n",
    "import sys\n",
    "import inspect\n",
    "import six\n",
    "import pandas as pd"
   ]
  },
  {
   "cell_type": "code",
   "execution_count": 3,
   "metadata": {},
   "outputs": [],
   "source": [
    "builder = TemplateBuilder()  \n",
    "    \n",
    "builder.add_mixture_component('A',1.0)\n",
    "builder.add_mixture_component('B',2.0)\n",
    "builder.add_mixture_component('C',0.0)\n",
    "builder.add_mixture_component('D',0.0)\n",
    "    \n",
    "builder.add_parameter('k1',init = 0.1, bounds = (0.0, 10.0))\n",
    "builder.add_parameter('k2',init = 0.1, bounds = (0.0, 10.0))\n",
    "    \n",
    "def rule_odes(m,t):\n",
    "    exprs = dict()\n",
    "    exprs['A'] = -m.P['k1']*m.Z[t,'A']*m.Z[t,'B']\n",
    "    exprs['B'] = -m.P['k1']*m.Z[t,'A']*m.Z[t,'B']-m.P['k2']*m.Z[t,'B']*m.Z[t,'C']\n",
    "    exprs['C'] = m.P['k1']*m.Z[t,'A']*m.Z[t,'B']-m.P['k2']*m.Z[t,'B']*m.Z[t,'C']\n",
    "    exprs['D'] = m.P['k2']*m.Z[t,'B']*m.Z[t,'C']\n",
    "    return exprs\n",
    "\n",
    "builder.set_odes_rule(rule_odes)"
   ]
  },
  {
   "cell_type": "code",
   "execution_count": 4,
   "metadata": {},
   "outputs": [],
   "source": [
    "builder1 = TemplateBuilder()  \n",
    "    \n",
    "builder1.add_mixture_component('A',1.0)\n",
    "builder1.add_mixture_component('B',1.0)\n",
    "builder1.add_mixture_component('C',0.0)\n",
    "builder1.add_mixture_component('D',0.0)\n",
    "    \n",
    "builder1.add_parameter('k1',init = 0.1, bounds = (0.0, 10.0))\n",
    "builder1.add_parameter('k2',init = 0.1, bounds = (0.0, 10.0))\n",
    "\n",
    "builder1.set_odes_rule(rule_odes)"
   ]
  },
  {
   "cell_type": "code",
   "execution_count": 5,
   "metadata": {},
   "outputs": [
    {
     "name": "stdout",
     "output_type": "stream",
     "text": [
      "read dir : /home/paperspace/learn_kipet/kipet_examples/../my_data_sets/ABCD_cb0_2.csv\n",
      "read dir : /home/paperspace/learn_kipet/kipet_examples/../my_data_sets/ABCD_cb0_1.csv\n"
     ]
    }
   ],
   "source": [
    "C_frame1 = read_file('ABCD_cb0_2.csv', directory = '../my_data_sets')\n",
    "C_frame2 = read_file('ABCD_cb0_1.csv', directory = '../my_data_sets')"
   ]
  },
  {
   "cell_type": "code",
   "execution_count": 6,
   "metadata": {},
   "outputs": [],
   "source": [
    "C_frame1 = C_frame1[['A', 'C']]\n",
    "C_frame2 = C_frame2[['B', 'D']]"
   ]
  },
  {
   "cell_type": "code",
   "execution_count": 7,
   "metadata": {},
   "outputs": [],
   "source": [
    "start_time = {'Exp1':0.0, 'Exp2':0.0}\n",
    "end_time = {'Exp1':4.0, 'Exp2':7.0}    \n",
    "datasets = {'Exp1': C_frame1, 'Exp2': C_frame2}\n",
    "sigmas = {'A':1, 'B':1, 'C':1, 'D':1}\n",
    "variances = {'Exp1':sigmas, 'Exp2':sigmas}\n",
    "builder_dict = {'Exp1':builder, 'Exp2':builder1}"
   ]
  },
  {
   "cell_type": "code",
   "execution_count": 8,
   "metadata": {},
   "outputs": [],
   "source": [
    "options = dict()\n",
    "options['linear_solver'] = 'ma27'"
   ]
  },
  {
   "cell_type": "code",
   "execution_count": 9,
   "metadata": {},
   "outputs": [
    {
     "name": "stdout",
     "output_type": "stream",
     "text": [
      "\n",
      "SOLVING PARAMETER ESTIMATION FOR INDIVIDUAL DATASETS - For initialization\n",
      "\n",
      "Solving for DATASET  Exp1\n",
      "                 A         C\n",
      "0.000000  1.003906  0.039959\n",
      "0.311111  0.554819  0.328321\n",
      "0.666667  0.375822  0.272322\n",
      "0.977778  0.305279  0.244618\n",
      "1.333333  0.269072  0.151982\n",
      "1.644444  0.167628  0.219111\n",
      "2.000000  0.150927  0.170158\n",
      "2.311111  0.174195  0.167863\n",
      "2.666667  0.111261  0.113357\n",
      "2.977778  0.113912  0.171967\n",
      "3.333333  0.088894  0.147807\n",
      "3.644444  0.094967  0.160119\n",
      "4.000000  0.025899  0.028531\n",
      "Ipopt 3.12: linear_solver=ma27\n",
      "\n",
      "\n",
      "******************************************************************************\n",
      "This program contains Ipopt, a library for large-scale nonlinear optimization.\n",
      " Ipopt is released as open source code under the Eclipse Public License (EPL).\n",
      "         For more information visit http://projects.coin-or.org/Ipopt\n",
      "******************************************************************************\n",
      "\n",
      "This is Ipopt version 3.12, running with linear solver ma27.\n",
      "\n",
      "Number of nonzeros in equality constraint Jacobian...:     6004\n",
      "Number of nonzeros in inequality constraint Jacobian.:        0\n",
      "Number of nonzeros in Lagrangian Hessian.............:      926\n",
      "\n",
      "Total number of variables............................:     1206\n",
      "                     variables with only lower bounds:        0\n",
      "                variables with lower and upper bounds:        2\n",
      "                     variables with only upper bounds:        0\n",
      "Total number of equality constraints.................:     1204\n",
      "Total number of inequality constraints...............:        0\n",
      "        inequality constraints with only lower bounds:        0\n",
      "   inequality constraints with lower and upper bounds:        0\n",
      "        inequality constraints with only upper bounds:        0\n",
      "\n",
      "iter    objective    inf_pr   inf_du lg(mu)  ||d||  lg(rg) alpha_du alpha_pr  ls\n",
      "   0  8.4518075e+00 1.00e+00 2.98e-02  -1.0 0.00e+00    -  0.00e+00 0.00e+00   0\n",
      "   1  2.6293146e-01 3.98e-01 1.35e+00  -1.0 1.96e+00    -  6.18e-01 1.00e+00f  1\n",
      "   2  7.7938000e-02 6.71e-01 2.46e-01  -1.0 1.75e+00    -  1.00e+00 1.00e+00h  1\n",
      "   3  6.4404506e-02 1.00e-01 1.21e-01  -1.7 7.14e-01    -  7.42e-01 1.00e+00h  1\n",
      "   4  2.4572678e-02 5.50e-01 6.49e-02  -2.5 5.36e+00    -  5.86e-01 4.64e-01h  1\n",
      "   5  5.0044024e-02 4.88e-01 2.67e-01  -2.5 1.52e+00    -  2.43e-02 1.25e-01h  4\n",
      "   6  4.5017271e-02 4.49e-02 6.81e-02  -2.5 1.02e+00    -  1.00e+00 1.00e+00h  1\n",
      "   7  1.5876495e-02 2.93e-02 1.61e-02  -2.5 3.56e-01    -  7.76e-01 1.00e+00h  1\n",
      "   8  1.5422237e-02 4.30e-03 1.20e-03  -2.5 1.86e-01    -  1.00e+00 1.00e+00h  1\n",
      "   9  1.5415021e-02 2.70e-05 1.64e-05  -3.8 1.25e-02    -  1.00e+00 1.00e+00h  1\n",
      "iter    objective    inf_pr   inf_du lg(mu)  ||d||  lg(rg) alpha_du alpha_pr  ls\n",
      "  10  1.5414757e-02 2.29e-07 5.43e-08  -5.7 1.11e-03    -  1.00e+00 1.00e+00h  1\n",
      "  11  1.5414756e-02 3.46e-11 8.83e-12  -8.6 1.31e-05    -  1.00e+00 1.00e+00h  1\n",
      "\n",
      "Number of Iterations....: 11\n",
      "\n",
      "                                   (scaled)                 (unscaled)\n",
      "Objective...............:   1.5414756157812329e-02    1.5414756157812329e-02\n",
      "Dual infeasibility......:   8.8340407674214300e-12    8.8340407674214300e-12\n",
      "Constraint violation....:   3.4590330599826302e-11    3.4590330599826302e-11\n",
      "Complementarity.........:   2.5218321018036599e-09    2.5218321018036599e-09\n",
      "Overall NLP error.......:   2.5218321018036599e-09    2.5218321018036599e-09\n",
      "\n",
      "\n",
      "Number of objective function evaluations             = 16\n",
      "Number of objective gradient evaluations             = 12\n",
      "Number of equality constraint evaluations            = 16\n",
      "Number of inequality constraint evaluations          = 0\n",
      "Number of equality constraint Jacobian evaluations   = 12\n",
      "Number of inequality constraint Jacobian evaluations = 0\n",
      "Number of Lagrangian Hessian evaluations             = 11\n",
      "Total CPU secs in IPOPT (w/o function evaluations)   =      0.028\n",
      "Total CPU secs in NLP function evaluations           =      0.012\n",
      "\n",
      "EXIT: Optimal Solution Found.\n",
      "The estimated parameters are:\n",
      "k1 1.0029307297378016\n",
      "k2 1.6027460931896798\n",
      "\n",
      "Solving for DATASET  Exp2\n",
      "                 B         D\n",
      "0.000000  0.957302 -0.063992\n",
      "0.544445  0.507213  0.178739\n",
      "1.166667  0.192682  0.249736\n",
      "1.711111  0.171993  0.251345\n",
      "2.333333  0.132128  0.281246\n",
      "2.877778  0.027522  0.404709\n",
      "3.500000  0.005805  0.397135\n",
      "4.044445  0.107330  0.331132\n",
      "4.666667 -0.015038  0.382922\n",
      "5.211111 -0.034160  0.373371\n",
      "5.833333  0.034212  0.533388\n",
      "6.377778  0.047631  0.330737\n",
      "7.000000 -0.082747  0.404893\n",
      "Warning! Since C-matrix contains negative values Kipet is assuming a derivative of C has been inputted\n",
      "Ipopt 3.12: linear_solver=ma27\n",
      "\n",
      "\n",
      "******************************************************************************\n",
      "This program contains Ipopt, a library for large-scale nonlinear optimization.\n",
      " Ipopt is released as open source code under the Eclipse Public License (EPL).\n",
      "         For more information visit http://projects.coin-or.org/Ipopt\n",
      "******************************************************************************\n",
      "\n",
      "This is Ipopt version 3.12, running with linear solver ma27.\n",
      "\n",
      "Number of nonzeros in equality constraint Jacobian...:     6004\n",
      "Number of nonzeros in inequality constraint Jacobian.:        0\n",
      "Number of nonzeros in Lagrangian Hessian.............:      926\n",
      "\n",
      "Total number of variables............................:     1206\n",
      "                     variables with only lower bounds:        0\n",
      "                variables with lower and upper bounds:        2\n",
      "                     variables with only upper bounds:        0\n",
      "Total number of equality constraints.................:     1204\n",
      "Total number of inequality constraints...............:        0\n",
      "        inequality constraints with only lower bounds:        0\n",
      "   inequality constraints with lower and upper bounds:        0\n",
      "        inequality constraints with only upper bounds:        0\n",
      "\n",
      "iter    objective    inf_pr   inf_du lg(mu)  ||d||  lg(rg) alpha_du alpha_pr  ls\n",
      "   0  8.2915398e+00 1.00e+00 4.75e-02  -1.0 0.00e+00    -  0.00e+00 0.00e+00   0\n",
      "   1  3.5753364e-01 1.49e-01 5.21e-01  -1.0 1.25e+00    -  7.01e-01 1.00e+00f  1\n",
      "   2  1.8730439e-01 3.11e-01 4.36e-01  -1.0 1.16e+00    -  3.53e-01 1.00e+00h  1\n",
      "   3  7.8605548e-02 1.48e-01 3.11e+00  -1.0 7.97e-01   0.0 9.52e-01 1.00e+00h  1\n",
      "   4  6.7505419e-02 2.81e-02 4.34e-01  -1.0 6.47e-01  -0.5 1.00e+00 1.00e+00h  1\n",
      "   5  5.9308280e-02 3.32e-03 8.58e-02  -1.7 3.04e-01  -1.0 9.23e-01 1.00e+00h  1\n",
      "   6  5.1237065e-02 1.68e-03 2.75e-03  -2.5 1.83e-01  -1.4 1.00e+00 1.00e+00h  1\n",
      "   7  3.8009626e-02 4.47e-02 2.35e-03  -3.8 4.32e-01    -  8.33e-01 1.00e+00h  1\n",
      "   8  3.7630521e-02 8.71e-04 8.54e-05  -3.8 1.81e-01    -  1.00e+00 1.00e+00h  1\n",
      "   9  3.7628208e-02 1.03e-07 3.89e-08  -5.7 9.03e-04    -  1.00e+00 1.00e+00h  1\n",
      "iter    objective    inf_pr   inf_du lg(mu)  ||d||  lg(rg) alpha_du alpha_pr  ls\n",
      "  10  3.7628211e-02 2.34e-11 6.86e-12  -8.6 2.11e-05    -  1.00e+00 1.00e+00h  1\n",
      "\n",
      "Number of Iterations....: 10\n",
      "\n",
      "                                   (scaled)                 (unscaled)\n",
      "Objective...............:   3.7628211148847769e-02    3.7628211148847769e-02\n",
      "Dual infeasibility......:   6.8586923068279242e-12    6.8586923068279242e-12\n",
      "Constraint violation....:   2.3363200263304407e-11    2.3363200263304407e-11\n",
      "Complementarity.........:   2.5230885135301269e-09    2.5230885135301269e-09\n",
      "Overall NLP error.......:   2.5230885135301269e-09    2.5230885135301269e-09\n",
      "\n",
      "\n",
      "Number of objective function evaluations             = 11\n",
      "Number of objective gradient evaluations             = 11\n",
      "Number of equality constraint evaluations            = 11\n",
      "Number of inequality constraint evaluations          = 0\n",
      "Number of equality constraint Jacobian evaluations   = 11\n",
      "Number of inequality constraint Jacobian evaluations = 0\n",
      "Number of Lagrangian Hessian evaluations             = 10\n",
      "Total CPU secs in IPOPT (w/o function evaluations)   =      0.044\n",
      "Total CPU secs in NLP function evaluations           =      0.008\n",
      "\n",
      "EXIT: Optimal Solution Found.\n",
      "The estimated parameters are:\n",
      "k1 1.0779652910400275\n",
      "k2 2.33631311164263\n",
      "\n",
      "SOLVING PARAMETER ESTIMATION FOR MULTIPLE DATASETS\n",
      "\n",
      "Fixed parameters are:  []\n",
      "Ipopt 3.12: linear_solver=ma27\n",
      "\n",
      "\n",
      "******************************************************************************\n",
      "This program contains Ipopt, a library for large-scale nonlinear optimization.\n",
      " Ipopt is released as open source code under the Eclipse Public License (EPL).\n",
      "         For more information visit http://projects.coin-or.org/Ipopt\n",
      "******************************************************************************\n",
      "\n",
      "This is Ipopt version 3.12, running with linear solver ma27.\n",
      "\n",
      "Number of nonzeros in equality constraint Jacobian...:    12066\n",
      "Number of nonzeros in inequality constraint Jacobian.:        0\n",
      "Number of nonzeros in Lagrangian Hessian.............:     1852\n",
      "\n",
      "Total number of variables............................:     2414\n",
      "                     variables with only lower bounds:        2\n",
      "                variables with lower and upper bounds:        4\n",
      "                     variables with only upper bounds:        0\n",
      "Total number of equality constraints.................:     2412\n",
      "Total number of inequality constraints...............:        0\n",
      "        inequality constraints with only lower bounds:        0\n",
      "   inequality constraints with lower and upper bounds:        0\n",
      "        inequality constraints with only upper bounds:        0\n",
      "\n",
      "iter    objective    inf_pr   inf_du lg(mu)  ||d||  lg(rg) alpha_du alpha_pr  ls\n",
      "   0  1.9999980e-02 7.34e-01 0.00e+00  -1.0 0.00e+00    -  0.00e+00 0.00e+00   0\n",
      "   1  1.0608594e-01 2.01e-02 1.08e+00  -1.0 3.76e-01    -  8.44e-01 1.00e+00h  1\n",
      "   2  1.2133126e-01 1.11e-04 5.03e-02  -1.0 3.19e-02   0.0 1.00e+00 1.00e+00h  1\n",
      "   3  1.1594016e-01 2.54e-03 4.23e-02  -2.5 1.30e-01    -  1.00e+00 1.00e+00h  1\n",
      "   4  1.1813640e-01 7.17e-05 3.81e-04  -2.5 1.71e-02    -  1.00e+00 1.00e+00h  1\n",
      "   5  1.1811523e-01 5.32e-05 2.55e-04  -3.8 1.91e-02    -  1.00e+00 1.00e+00h  1\n",
      "   6  1.1817139e-01 7.60e-09 3.38e-07  -5.7 1.74e-04    -  1.00e+00 1.00e+00h  1\n",
      "   7  1.1817141e-01 1.85e-11 9.99e-11  -8.6 1.14e-05    -  1.00e+00 1.00e+00h  1\n",
      "\n",
      "Number of Iterations....: 7\n",
      "\n",
      "                                   (scaled)                 (unscaled)\n",
      "Objective...............:   1.1817140623035188e-01    1.1817140623035188e-01\n",
      "Dual infeasibility......:   9.9889513327511281e-11    9.9889513327511281e-11\n",
      "Constraint violation....:   1.8518075961537761e-11    1.8518075961537761e-11\n",
      "Complementarity.........:   2.5264466040054590e-09    2.5264466040054590e-09\n"
     ]
    },
    {
     "name": "stdout",
     "output_type": "stream",
     "text": [
      "Overall NLP error.......:   2.5264466040054590e-09    2.5264466040054590e-09\n",
      "\n",
      "\n",
      "Number of objective function evaluations             = 8\n",
      "Number of objective gradient evaluations             = 8\n",
      "Number of equality constraint evaluations            = 8\n",
      "Number of inequality constraint evaluations          = 0\n",
      "Number of equality constraint Jacobian evaluations   = 8\n",
      "Number of inequality constraint Jacobian evaluations = 0\n",
      "Number of Lagrangian Hessian evaluations             = 7\n",
      "Total CPU secs in IPOPT (w/o function evaluations)   =      0.056\n",
      "Total CPU secs in NLP function evaluations           =      0.008\n",
      "\n",
      "EXIT: Optimal Solution Found.\n"
     ]
    }
   ],
   "source": [
    "pest = MultipleExperimentsEstimator(datasets)\n",
    "    \n",
    "nfe = 50\n",
    "ncp = 3\n",
    "\n",
    "# Finally we run the parameter estimation. This solves each dataset separately first and then\n",
    "# links the models and solves it simultaneously\n",
    "results_pest = pest.run_parameter_estimation(solver = 'ipopt', \n",
    "                                                     tee=True,\n",
    "                                                     nfe=nfe,\n",
    "                                                     ncp=ncp,\n",
    "                                                     covariance = False,\n",
    "                                                     solver_opts = options,\n",
    "                                                     start_time=start_time, \n",
    "                                                     end_time=end_time,\n",
    "                                                     spectra_problem = False,\n",
    "                                                     sigma_sq=variances,\n",
    "                                                     builder = builder_dict)"
   ]
  },
  {
   "cell_type": "code",
   "execution_count": 10,
   "metadata": {},
   "outputs": [
    {
     "name": "stdout",
     "output_type": "stream",
     "text": [
      "The estimated parameters are:\n",
      "k1    1.072394\n",
      "k2    1.849231\n",
      "dtype: float64\n",
      "k1    1.072394\n",
      "k2    1.849231\n",
      "dtype: float64\n"
     ]
    }
   ],
   "source": [
    "print(\"The estimated parameters are:\")\n",
    "\n",
    "for k,v in results_pest.items():\n",
    "    print(results_pest[k].P)"
   ]
  },
  {
   "cell_type": "code",
   "execution_count": 17,
   "metadata": {},
   "outputs": [
    {
     "data": {
      "text/plain": [
       "<matplotlib.legend.Legend at 0x7fd58c712780>"
      ]
     },
     "execution_count": 17,
     "metadata": {},
     "output_type": "execute_result"
    },
    {
     "data": {
      "image/png": "[encoded data removed]",
      "text/plain": [
       "<Figure size 432x288 with 1 Axes>"
      ]
     },
     "metadata": {
      "needs_background": "light"
     },
     "output_type": "display_data"
    }
   ],
   "source": [
    "expt = 'Exp1'\n",
    "fig, ax = plt.subplots()\n",
    "for x in ['A', 'B', 'C', 'D']:\n",
    "    if x in results_pest[expt].C.columns:\n",
    "        ax.scatter(results_pest[expt].C.index, results_pest[expt].C[x], label = x)\n",
    "    ax.plot(results_pest[expt].Z.index, results_pest[expt].Z[x], label = x)\n",
    "ax.legend()"
   ]
  },
  {
   "cell_type": "code",
   "execution_count": 16,
   "metadata": {},
   "outputs": [
    {
     "data": {
      "text/plain": [
       "<matplotlib.legend.Legend at 0x7fd58c79f518>"
      ]
     },
     "execution_count": 16,
     "metadata": {},
     "output_type": "execute_result"
    },
    {
     "data": {
      "image/png": "[encoded data removed]",
      "text/plain": [
       "<Figure size 432x288 with 1 Axes>"
      ]
     },
     "metadata": {
      "needs_background": "light"
     },
     "output_type": "display_data"
    }
   ],
   "source": [
    "expt = 'Exp2'\n",
    "fig, ax = plt.subplots()\n",
    "for x in ['A', 'B', 'C', 'D']:\n",
    "    if x in results_pest[expt].C.columns:\n",
    "        ax.scatter(results_pest[expt].C.index, results_pest[expt].C[x], label = x)\n",
    "    ax.plot(results_pest[expt].Z.index, results_pest[expt].Z[x], label = x)\n",
    "ax.legend()"
   ]
  },
  {
   "cell_type": "code",
   "execution_count": null,
   "metadata": {},
   "outputs": [],
   "source": []
  }
 ],
 "metadata": {
  "kernelspec": {
   "display_name": "Python 3",
   "language": "python",
   "name": "python3"
  },
  "language_info": {
   "codemirror_mode": {
    "name": "ipython",
    "version": 3
   },
   "file_extension": ".py",
   "mimetype": "text/x-python",
   "name": "python",
   "nbconvert_exporter": "python",
   "pygments_lexer": "ipython3",
   "version": "3.7.3"
  }
 },
 "nbformat": 4,
 "nbformat_minor": 2
}
