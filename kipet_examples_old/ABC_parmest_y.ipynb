{
 "cells": [
  {
   "cell_type": "code",
   "execution_count": 3,
   "metadata": {},
   "outputs": [],
   "source": [
    "#\n",
    "# Example of fitting A->B->C where measurements are for A and B/B+C\n",
    "#"
   ]
  },
  {
   "cell_type": "code",
   "execution_count": 4,
   "metadata": {},
   "outputs": [],
   "source": [
    "from __future__ import print_function\n",
    "from kipet.library.TemplateBuilder import *\n",
    "from kipet.library.PyomoSimulator import *\n",
    "from kipet.library.ParameterEstimator import *\n",
    "from kipet.library.VarianceEstimator import *\n",
    "from kipet.library.data_tools import *\n",
    "import matplotlib.pyplot as plt\n",
    "import os\n",
    "import sys\n",
    "import inspect\n",
    "import six\n",
    "import pandas as pd"
   ]
  },
  {
   "cell_type": "code",
   "execution_count": 7,
   "metadata": {},
   "outputs": [
    {
     "name": "stdout",
     "output_type": "stream",
     "text": [
      "read dir : /home/paperspace/learn_kipet/my_data_sets/ABC_data.csv\n"
     ]
    }
   ],
   "source": [
    "filename = '/home/paperspace/learn_kipet/my_data_sets/ABC_data.csv'\n",
    "D_frame = read_file(filename)"
   ]
  },
  {
   "cell_type": "code",
   "execution_count": 8,
   "metadata": {},
   "outputs": [
    {
     "data": {
      "text/plain": [
       "(20, 3)"
      ]
     },
     "execution_count": 8,
     "metadata": {},
     "output_type": "execute_result"
    }
   ],
   "source": [
    "D_frame.shape"
   ]
  },
  {
   "cell_type": "code",
   "execution_count": 9,
   "metadata": {},
   "outputs": [
    {
     "data": {
      "text/html": [
       "<div>\n",
       "<style scoped>\n",
       "    .dataframe tbody tr th:only-of-type {\n",
       "        vertical-align: middle;\n",
       "    }\n",
       "\n",
       "    .dataframe tbody tr th {\n",
       "        vertical-align: top;\n",
       "    }\n",
       "\n",
       "    .dataframe thead th {\n",
       "        text-align: right;\n",
       "    }\n",
       "</style>\n",
       "<table border=\"1\" class=\"dataframe\">\n",
       "  <thead>\n",
       "    <tr style=\"text-align: right;\">\n",
       "      <th></th>\n",
       "      <th>A</th>\n",
       "      <th>B</th>\n",
       "      <th>C</th>\n",
       "    </tr>\n",
       "    <tr>\n",
       "      <th>t</th>\n",
       "      <th></th>\n",
       "      <th></th>\n",
       "      <th></th>\n",
       "    </tr>\n",
       "  </thead>\n",
       "  <tbody>\n",
       "    <tr>\n",
       "      <th>0.000</th>\n",
       "      <td>0.957</td>\n",
       "      <td>-0.031</td>\n",
       "      <td>-0.015</td>\n",
       "    </tr>\n",
       "    <tr>\n",
       "      <th>0.263</th>\n",
       "      <td>0.557</td>\n",
       "      <td>0.330</td>\n",
       "      <td>0.044</td>\n",
       "    </tr>\n",
       "    <tr>\n",
       "      <th>0.526</th>\n",
       "      <td>0.342</td>\n",
       "      <td>0.512</td>\n",
       "      <td>0.156</td>\n",
       "    </tr>\n",
       "    <tr>\n",
       "      <th>0.789</th>\n",
       "      <td>0.224</td>\n",
       "      <td>0.499</td>\n",
       "      <td>0.310</td>\n",
       "    </tr>\n",
       "    <tr>\n",
       "      <th>1.053</th>\n",
       "      <td>0.123</td>\n",
       "      <td>0.428</td>\n",
       "      <td>0.454</td>\n",
       "    </tr>\n",
       "    <tr>\n",
       "      <th>1.316</th>\n",
       "      <td>0.079</td>\n",
       "      <td>0.396</td>\n",
       "      <td>0.556</td>\n",
       "    </tr>\n",
       "    <tr>\n",
       "      <th>1.579</th>\n",
       "      <td>0.035</td>\n",
       "      <td>0.303</td>\n",
       "      <td>0.651</td>\n",
       "    </tr>\n",
       "    <tr>\n",
       "      <th>1.842</th>\n",
       "      <td>0.029</td>\n",
       "      <td>0.287</td>\n",
       "      <td>0.658</td>\n",
       "    </tr>\n",
       "    <tr>\n",
       "      <th>2.105</th>\n",
       "      <td>0.025</td>\n",
       "      <td>0.221</td>\n",
       "      <td>0.750</td>\n",
       "    </tr>\n",
       "    <tr>\n",
       "      <th>2.368</th>\n",
       "      <td>0.017</td>\n",
       "      <td>0.148</td>\n",
       "      <td>0.854</td>\n",
       "    </tr>\n",
       "    <tr>\n",
       "      <th>2.632</th>\n",
       "      <td>-0.002</td>\n",
       "      <td>0.182</td>\n",
       "      <td>0.845</td>\n",
       "    </tr>\n",
       "    <tr>\n",
       "      <th>2.895</th>\n",
       "      <td>0.009</td>\n",
       "      <td>0.116</td>\n",
       "      <td>0.893</td>\n",
       "    </tr>\n",
       "    <tr>\n",
       "      <th>3.158</th>\n",
       "      <td>-0.023</td>\n",
       "      <td>0.079</td>\n",
       "      <td>0.942</td>\n",
       "    </tr>\n",
       "    <tr>\n",
       "      <th>3.421</th>\n",
       "      <td>0.006</td>\n",
       "      <td>0.078</td>\n",
       "      <td>0.899</td>\n",
       "    </tr>\n",
       "    <tr>\n",
       "      <th>3.684</th>\n",
       "      <td>0.016</td>\n",
       "      <td>0.059</td>\n",
       "      <td>0.942</td>\n",
       "    </tr>\n",
       "    <tr>\n",
       "      <th>3.947</th>\n",
       "      <td>0.014</td>\n",
       "      <td>0.036</td>\n",
       "      <td>0.991</td>\n",
       "    </tr>\n",
       "    <tr>\n",
       "      <th>4.211</th>\n",
       "      <td>-0.009</td>\n",
       "      <td>0.014</td>\n",
       "      <td>0.988</td>\n",
       "    </tr>\n",
       "    <tr>\n",
       "      <th>4.474</th>\n",
       "      <td>-0.030</td>\n",
       "      <td>0.036</td>\n",
       "      <td>0.941</td>\n",
       "    </tr>\n",
       "    <tr>\n",
       "      <th>4.737</th>\n",
       "      <td>0.004</td>\n",
       "      <td>0.036</td>\n",
       "      <td>0.971</td>\n",
       "    </tr>\n",
       "    <tr>\n",
       "      <th>5.000</th>\n",
       "      <td>-0.024</td>\n",
       "      <td>0.028</td>\n",
       "      <td>0.985</td>\n",
       "    </tr>\n",
       "  </tbody>\n",
       "</table>\n",
       "</div>"
      ],
      "text/plain": [
       "           A      B      C\n",
       "t                         \n",
       "0.000  0.957 -0.031 -0.015\n",
       "0.263  0.557  0.330  0.044\n",
       "0.526  0.342  0.512  0.156\n",
       "0.789  0.224  0.499  0.310\n",
       "1.053  0.123  0.428  0.454\n",
       "1.316  0.079  0.396  0.556\n",
       "1.579  0.035  0.303  0.651\n",
       "1.842  0.029  0.287  0.658\n",
       "2.105  0.025  0.221  0.750\n",
       "2.368  0.017  0.148  0.854\n",
       "2.632 -0.002  0.182  0.845\n",
       "2.895  0.009  0.116  0.893\n",
       "3.158 -0.023  0.079  0.942\n",
       "3.421  0.006  0.078  0.899\n",
       "3.684  0.016  0.059  0.942\n",
       "3.947  0.014  0.036  0.991\n",
       "4.211 -0.009  0.014  0.988\n",
       "4.474 -0.030  0.036  0.941\n",
       "4.737  0.004  0.036  0.971\n",
       "5.000 -0.024  0.028  0.985"
      ]
     },
     "execution_count": 9,
     "metadata": {},
     "output_type": "execute_result"
    }
   ],
   "source": [
    "D_frame.columns = ['A', 'B', 'C']\n",
    "D_frame"
   ]
  },
  {
   "cell_type": "code",
   "execution_count": 12,
   "metadata": {},
   "outputs": [],
   "source": [
    "C_frame = D_frame['A']\n",
    "Y_frame = D_frame.copy()\n",
    "Y_frame['y'] = D_frame['B'] / (D_frame['B'] + D_frame['C'])\n",
    "Y_frame = Y_frame['y']"
   ]
  },
  {
   "cell_type": "code",
   "execution_count": 14,
   "metadata": {},
   "outputs": [
    {
     "name": "stdout",
     "output_type": "stream",
     "text": [
      "Warning! Since C-matrix contains negative values Kipet is assuming a derivative of C has been inputted\n"
     ]
    }
   ],
   "source": [
    "builder = TemplateBuilder()    \n",
    "components = {'A':1,'B':0,'C':0}\n",
    "builder.add_mixture_component(components)\n",
    "builder.add_algebraic_variable('y', init = 0.0, bounds = (0.0, 1.0))\n",
    "builder.add_parameter('k1',initialize = 5.0, bounds=(0.0,10.0))\n",
    "builder.add_parameter('k2',initialize = 5.0, bounds=(0.0,10.0))\n",
    "builder.add_concentration_data(C_frame)"
   ]
  },
  {
   "cell_type": "code",
   "execution_count": 15,
   "metadata": {},
   "outputs": [],
   "source": [
    "# define explicit system of ODEs\n",
    "def rule_odes(m,t):\n",
    "    exprs = dict()\n",
    "    exprs['A'] = -m.P['k1']*m.Z[t,'A']\n",
    "    exprs['B'] = m.P['k1']*m.Z[t,'A']-m.P['k2']*m.Z[t,'B']\n",
    "    exprs['C'] = m.P['k2']*m.Z[t,'B']\n",
    "    return exprs\n",
    "\n",
    "def rule_algebraics(m, t):\n",
    "    r = list()\n",
    "    r.append(m.Y[t, 'y'] * (m.Z[t, 'B'] + m.Z[t, 'C']) - m.Z[t, 'B'])\n",
    "    return r\n",
    "\n",
    "builder.set_odes_rule(rule_odes)\n",
    "builder.set_algebraics_rule(rule_algebraics)\n",
    "\n",
    "opt_model = builder.create_pyomo_model(0.0,5.0)"
   ]
  },
  {
   "cell_type": "code",
   "execution_count": 18,
   "metadata": {},
   "outputs": [],
   "source": [
    "#sigmas = {'A':1e-10,'B':1e-11,'C':1e-8}\n",
    "sigmas = {'A':1, 'B':1, 'C':1}\n",
    "p_estimator = ParameterEstimator(opt_model)\n",
    "p_estimator.apply_discretization('dae.collocation',nfe=50,ncp=3,scheme='LAGRANGE-RADAU')"
   ]
  },
  {
   "cell_type": "code",
   "execution_count": 22,
   "metadata": {},
   "outputs": [
    {
     "name": "stdout",
     "output_type": "stream",
     "text": [
      "Ipopt 3.12: \n",
      "\n",
      "******************************************************************************\n",
      "This program contains Ipopt, a library for large-scale nonlinear optimization.\n",
      " Ipopt is released as open source code under the Eclipse Public License (EPL).\n",
      "         For more information visit http://projects.coin-or.org/Ipopt\n",
      "******************************************************************************\n",
      "\n",
      "This is Ipopt version 3.12, running with linear solver ma27.\n",
      "\n",
      "Number of nonzeros in equality constraint Jacobian...:     4356\n",
      "Number of nonzeros in inequality constraint Jacobian.:        0\n",
      "Number of nonzeros in Lagrangian Hessian.............:      622\n",
      "\n",
      "Total number of variables............................:     1056\n",
      "                     variables with only lower bounds:        0\n",
      "                variables with lower and upper bounds:       22\n",
      "                     variables with only upper bounds:        0\n",
      "Total number of equality constraints.................:     1054\n",
      "Total number of inequality constraints...............:        0\n",
      "        inequality constraints with only lower bounds:        0\n",
      "   inequality constraints with lower and upper bounds:        0\n",
      "        inequality constraints with only upper bounds:        0\n",
      "\n",
      "iter    objective    inf_pr   inf_du lg(mu)  ||d||  lg(rg) alpha_du alpha_pr  ls\n",
      "   0  2.1263308e-01 3.21e-14 5.51e-01  -1.0 0.00e+00    -  0.00e+00 0.00e+00   0\n",
      "   1  2.0261281e-01 1.53e-03 2.87e-01  -1.0 1.42e-01    -  9.82e-01 1.00e+00f  1\n",
      "   2  3.9982140e-02 1.69e+00 5.59e-01  -1.7 1.69e+01    -  2.60e-01 2.74e-01f  1\n",
      "   3  2.6351878e-01 8.62e-01 3.01e+00  -1.7 1.58e+00    -  3.18e-02 5.00e-01h  2\n",
      "   4  2.3624872e-01 7.76e-02 1.60e-01  -1.7 5.69e-01    -  9.64e-01 1.00e+00h  1\n",
      "   5  2.3174118e-01 5.00e-02 1.44e+05  -2.5 4.09e-01   6.0 7.32e-01 3.57e-01h  1\n",
      "   6  2.2402250e-01 8.40e-04 1.64e+04  -2.5 3.25e-02   5.5 1.00e+00 1.00e+00h  1\n",
      "   7  2.1706846e-01 2.71e-02 1.94e+06  -2.5 7.13e-01   5.9 5.79e-04 1.00e+00f  1\n",
      "   8  2.3023576e-01 7.42e-03 2.24e+06  -2.5 2.30e-01   5.5 1.00e+00 1.00e+00h  1\n",
      "   9  2.2972063e-01 7.54e-03 2.71e+05  -2.5 4.61e-02   6.8 1.00e+00 1.00e+00h  1\n",
      "iter    objective    inf_pr   inf_du lg(mu)  ||d||  lg(rg) alpha_du alpha_pr  ls\n",
      "  10  2.3176121e-01 1.18e-03 2.17e+06  -2.5 1.82e-01   6.3 1.00e+00 1.00e+00h  1\n",
      "  11  2.3110540e-01 2.74e-03 3.00e+05  -2.5 5.36e-02   6.7 1.00e+00 1.00e+00h  1\n",
      "  12  2.3184640e-01 7.05e-05 1.80e+05  -2.5 2.63e-02   6.3 1.00e+00 1.00e+00h  1\n",
      "  13  2.3179593e-01 1.23e-04 2.94e+04  -2.5 5.88e-03   6.7 1.00e+00 1.00e+00h  1\n",
      "  14  2.7729747e-01 3.06e-07 4.51e+03  -2.5 5.31e-02    -  1.00e+00 1.00e+00H  1\n",
      "  15  2.7729768e-01 6.41e-14 1.12e+02  -2.5 3.01e-07   6.2 1.00e+00 1.00e+00h  1\n",
      "MA27BD returned iflag=-4 and requires more memory.\n",
      " Increase liw from 55680 to 111360 and la from 62765 to 131256 and factorize again.\n",
      "MA27BD returned iflag=-4 and requires more memory.\n",
      " Increase liw from 111360 to 222720 and la from 131256 to 270868 and factorize again.\n",
      "  16  2.7729768e-01 6.41e-14 3.04e+02  -3.8 2.51e-16  18.1 1.00e+00 1.00e+00   0\n",
      "  17  2.4367908e-01 5.17e-04 3.25e+01  -5.7 3.84e-02    -  9.76e-01 1.00e+00f  1\n",
      "  18r 2.4367908e-01 5.17e-04 9.99e+02  -3.3 0.00e+00  18.5 0.00e+00 4.77e-07R 22\n",
      "  19r 2.4398199e-01 1.31e-04 9.09e-02  -3.3 5.17e-01    -  1.00e+00 9.91e-04f  1\n",
      "iter    objective    inf_pr   inf_du lg(mu)  ||d||  lg(rg) alpha_du alpha_pr  ls\n",
      "  20  2.2888824e-02 1.06e-01 4.33e-02  -5.7 5.48e-01    -  1.00e+00 1.00e+00f  1\n",
      "  21r 2.2888824e-02 1.06e-01 9.99e+02  -1.0 0.00e+00  18.0 0.00e+00 4.77e-07R 22\n",
      "  22r 2.0851863e-02 2.69e-02 8.97e+02  -1.0 1.04e+02    -  1.00e+00 1.01e-03f  1\n",
      "  23  6.9278421e-03 1.72e-02 2.15e-03  -5.7 2.96e-01    -  1.00e+00 1.00e+00h  1\n",
      "  24  6.3185581e-03 3.27e-04 6.87e-02  -5.7 1.39e-01    -  1.00e+00 1.00e+00h  1\n",
      "  25  6.3209410e-03 1.40e-06 5.88e-07  -5.7 1.23e-03    -  1.00e+00 1.00e+00h  1\n",
      "MA27BD returned iflag=-4 and requires more memory.\n",
      " Increase liw from 222720 to 445440 and la from 270868 to 548310 and factorize again.\n",
      "  26r 6.3209410e-03 1.40e-06 9.99e+02  -5.9 0.00e+00  17.5 0.00e+00 4.77e-07R 22\n",
      "  27r 6.3209410e-03 3.53e-07 6.71e-05  -5.9 1.40e-03    -  1.00e+00 9.90e-04f  1\n",
      "  28  6.3209403e-03 1.79e-12 4.86e-07  -8.6 2.59e-06    -  1.00e+00 1.00e+00h  1\n",
      "\n",
      "Number of Iterations....: 28\n",
      "\n",
      "                                   (scaled)                 (unscaled)\n",
      "Objective...............:   6.3209403374682137e-03    6.3209403374682137e-03\n",
      "Dual infeasibility......:   4.8565039626564141e-07    4.8565039626564141e-07\n",
      "Constraint violation....:   1.7871121249513067e-12    1.7871121249513067e-12\n",
      "Complementarity.........:   2.5059035908377440e-09    2.5059035908377440e-09\n",
      "Overall NLP error.......:   2.5059035908377440e-09    4.8565039626564141e-07\n",
      "\n",
      "\n",
      "Number of objective function evaluations             = 101\n",
      "Number of objective gradient evaluations             = 29\n",
      "Number of equality constraint evaluations            = 101\n",
      "Number of inequality constraint evaluations          = 0\n",
      "Number of equality constraint Jacobian evaluations   = 32\n",
      "Number of inequality constraint Jacobian evaluations = 0\n",
      "Number of Lagrangian Hessian evaluations             = 28\n",
      "Total CPU secs in IPOPT (w/o function evaluations)   =      0.476\n",
      "Total CPU secs in NLP function evaluations           =      0.008\n",
      "\n",
      "EXIT: Optimal Solution Found.\n"
     ]
    }
   ],
   "source": [
    "options = dict()\n",
    "results_pyomo = p_estimator.run_opt('ipopt',\n",
    "                                    variances=sigmas,\n",
    "                                  tee=True,\n",
    "                                  solver_opts = options,\n",
    "                                  covariance=False)"
   ]
  },
  {
   "cell_type": "code",
   "execution_count": 23,
   "metadata": {},
   "outputs": [
    {
     "name": "stdout",
     "output_type": "stream",
     "text": [
      "The estimated parameters are:\n",
      "k1 2.025449629072174\n",
      "k2 0.3413462144334731\n"
     ]
    }
   ],
   "source": [
    "print(\"The estimated parameters are:\")\n",
    "for k,v in six.iteritems(results_pyomo.P):\n",
    "    print(k, v)"
   ]
  },
  {
   "cell_type": "code",
   "execution_count": 24,
   "metadata": {},
   "outputs": [
    {
     "data": {
      "image/png": "[encoded data removed]",
      "text/plain": [
       "<Figure size 432x288 with 1 Axes>"
      ]
     },
     "metadata": {
      "needs_background": "light"
     },
     "output_type": "display_data"
    }
   ],
   "source": [
    "fig, ax = plt.subplots()\n",
    "for c in ['A', 'B', 'C']:\n",
    "    ax.scatter(D_frame.index, D_frame[c])\n",
    "    ax.plot(results_pyomo.Z.index, results_pyomo.Z[c])"
   ]
  },
  {
   "cell_type": "code",
   "execution_count": null,
   "metadata": {},
   "outputs": [],
   "source": []
  }
 ],
 "metadata": {
  "kernelspec": {
   "display_name": "Python 3",
   "language": "python",
   "name": "python3"
  },
  "language_info": {
   "codemirror_mode": {
    "name": "ipython",
    "version": 3
   },
   "file_extension": ".py",
   "mimetype": "text/x-python",
   "name": "python",
   "nbconvert_exporter": "python",
   "pygments_lexer": "ipython3",
   "version": "3.7.3"
  }
 },
 "nbformat": 4,
 "nbformat_minor": 2
}
