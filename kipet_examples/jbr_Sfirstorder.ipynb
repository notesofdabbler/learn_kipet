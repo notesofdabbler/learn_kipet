{
 "cells": [
  {
   "cell_type": "code",
   "execution_count": 67,
   "metadata": {},
   "outputs": [],
   "source": [
    "#\n",
    "#  Test getting sensitivity of ca vs k1 for A->B\n",
    "#  Analytical solution:\n",
    "#    ca = ca0*exp(-k1*t)\n",
    "#    dca/dk1 = -t*ca0*exp(-k1*t)\n",
    "#"
   ]
  },
  {
   "cell_type": "code",
   "execution_count": 68,
   "metadata": {},
   "outputs": [],
   "source": [
    "from __future__ import print_function\n",
    "from kipet.library.TemplateBuilder import *\n",
    "from kipet.library.PyomoSimulator import *\n",
    "from kipet.library.ParameterEstimator import *\n",
    "from kipet.library.VarianceEstimator import *\n",
    "from kipet.library.data_tools import *\n",
    "from kipet.library.EstimabilityAnalyzer import *\n",
    "import matplotlib.pyplot as plt\n",
    "import os\n",
    "import sys\n",
    "import inspect\n",
    "import six\n",
    "import pandas as pd"
   ]
  },
  {
   "cell_type": "code",
   "execution_count": 69,
   "metadata": {},
   "outputs": [],
   "source": [
    "# Generate dummy data\n",
    "builder = TemplateBuilder()  \n",
    "    \n",
    "builder.add_mixture_component('A', 2.0)\n",
    "    \n",
    "builder.add_parameter('k1',2.0, bounds = (0.1, 10))\n",
    "    \n",
    "def rule_odes(m,t):\n",
    "    exprs = dict()\n",
    "    exprs['A'] = -m.P['k1']*m.Z[t,'A']\n",
    "    return exprs\n",
    "\n",
    "builder.set_odes_rule(rule_odes)\n",
    "opt_model = builder.create_pyomo_model(0.0,10.0)"
   ]
  },
  {
   "cell_type": "code",
   "execution_count": 70,
   "metadata": {},
   "outputs": [
    {
     "name": "stdout",
     "output_type": "stream",
     "text": [
      "Ipopt 3.12: \n",
      "\n",
      "******************************************************************************\n",
      "This program contains Ipopt, a library for large-scale nonlinear optimization.\n",
      " Ipopt is released as open source code under the Eclipse Public License (EPL).\n",
      "         For more information visit http://projects.coin-or.org/Ipopt\n",
      "******************************************************************************\n",
      "\n",
      "This is Ipopt version 3.12, running with linear solver ma27.\n",
      "\n",
      "Number of nonzeros in equality constraint Jacobian...:      301\n",
      "Number of nonzeros in inequality constraint Jacobian.:        0\n",
      "Number of nonzeros in Lagrangian Hessian.............:        0\n",
      "\n",
      "Total number of variables............................:      121\n",
      "                     variables with only lower bounds:        0\n",
      "                variables with lower and upper bounds:        0\n",
      "                     variables with only upper bounds:        0\n",
      "Total number of equality constraints.................:      121\n",
      "Total number of inequality constraints...............:        0\n",
      "        inequality constraints with only lower bounds:        0\n",
      "   inequality constraints with lower and upper bounds:        0\n",
      "        inequality constraints with only upper bounds:        0\n",
      "\n",
      "iter    objective    inf_pr   inf_du lg(mu)  ||d||  lg(rg) alpha_du alpha_pr  ls\n",
      "   0  0.0000000e+00 4.00e+00 0.00e+00  -1.0 0.00e+00    -  0.00e+00 0.00e+00   0\n",
      "   1  0.0000000e+00 1.89e-15 0.00e+00  -1.0 3.00e+00    -  1.00e+00 1.00e+00h  1\n",
      "\n",
      "Number of Iterations....: 1\n",
      "\n",
      "                                   (scaled)                 (unscaled)\n",
      "Objective...............:   0.0000000000000000e+00    0.0000000000000000e+00\n",
      "Dual infeasibility......:   0.0000000000000000e+00    0.0000000000000000e+00\n",
      "Constraint violation....:   1.8873791418627661e-15    1.8873791418627661e-15\n",
      "Complementarity.........:   0.0000000000000000e+00    0.0000000000000000e+00\n",
      "Overall NLP error.......:   1.8873791418627661e-15    1.8873791418627661e-15\n",
      "\n",
      "\n",
      "Number of objective function evaluations             = 2\n",
      "Number of objective gradient evaluations             = 2\n",
      "Number of equality constraint evaluations            = 2\n",
      "Number of inequality constraint evaluations          = 0\n",
      "Number of equality constraint Jacobian evaluations   = 2\n",
      "Number of inequality constraint Jacobian evaluations = 0\n",
      "Number of Lagrangian Hessian evaluations             = 1\n",
      "Total CPU secs in IPOPT (w/o function evaluations)   =      0.000\n",
      "Total CPU secs in NLP function evaluations           =      0.000\n",
      "\n",
      "EXIT: Optimal Solution Found.\n"
     ]
    }
   ],
   "source": [
    "# simulate to get the data\n",
    "simulator = PyomoSimulator(opt_model)\n",
    "simulator.apply_discretization('dae.collocation', ncp = 1, nfe = 60, scheme = 'LAGRANGE-RADAU')\n",
    "results_pyomo = simulator.run_sim('ipopt',tee=True)"
   ]
  },
  {
   "cell_type": "code",
   "execution_count": 71,
   "metadata": {},
   "outputs": [],
   "source": [
    "# add noise\n",
    "C_data = results_pyomo.Z\n",
    "C_data['A'] = C_data['A'] + np.random.normal(0, 0.1, results_pyomo.Z.shape[0])"
   ]
  },
  {
   "cell_type": "code",
   "execution_count": 72,
   "metadata": {},
   "outputs": [
    {
     "data": {
      "text/plain": [
       "<matplotlib.collections.PathCollection at 0x7f4945cd9128>"
      ]
     },
     "execution_count": 72,
     "metadata": {},
     "output_type": "execute_result"
    },
    {
     "data": {
      "image/png": "[encoded data removed]",
      "text/plain": [
       "<Figure size 432x288 with 1 Axes>"
      ]
     },
     "metadata": {
      "needs_background": "light"
     },
     "output_type": "display_data"
    }
   ],
   "source": [
    "fig, ax = plt.subplots()\n",
    "ax.scatter(C_data.index, C_data['A'])"
   ]
  },
  {
   "cell_type": "code",
   "execution_count": 73,
   "metadata": {},
   "outputs": [
    {
     "name": "stdout",
     "output_type": "stream",
     "text": [
      "Warning! Since C-matrix contains negative values Kipet is assuming a derivative of C has been inputted\n"
     ]
    }
   ],
   "source": [
    "builder = TemplateBuilder()  \n",
    "    \n",
    "builder.add_mixture_component('A', 2.0)\n",
    "    \n",
    "builder.add_parameter('k1',1.0, bounds = (0.1, 10))\n",
    "    \n",
    "def rule_odes(m,t):\n",
    "    exprs = dict()\n",
    "    exprs['A'] = -m.P['k1']*m.Z[t,'A']\n",
    "    return exprs\n",
    "\n",
    "builder.add_concentration_data(C_data)\n",
    "builder.set_odes_rule(rule_odes)\n",
    "opt_model = builder.create_pyomo_model(0.0,10.0)"
   ]
  },
  {
   "cell_type": "code",
   "execution_count": 74,
   "metadata": {},
   "outputs": [],
   "source": [
    "e_analyzer = EstimabilityAnalyzer(opt_model)\n",
    "e_analyzer.apply_discretization('dae.collocation', nfe = 60, ncp = 1, scheme = 'LAGRANGE-RADAU')"
   ]
  },
  {
   "cell_type": "code",
   "execution_count": 75,
   "metadata": {},
   "outputs": [
    {
     "name": "stderr",
     "output_type": "stream",
     "text": [
      "W[K_AUG]...\t[K_AUG_ASL]No n_rhs declared\n",
      "W[K_AUG]...\t[K_AUG_ASL]Target log10mu:= -11.\n",
      "W[K_AUG]...\t[K_AUG_ASL]This problem has no degrees of freedom\n",
      "Pass the option square_override for the desired behaviour\n",
      "W[K_AUG_ASL]...\t[K_AUG_ASL]No ipopt_zL_out suffix declared, setting zL = 0.\n",
      "W[K_AUG_ASL]...\t[K_AUG_ASL]No ipopt_zU_out suffix declared, setting zU = 0.\n",
      "W[K_AUG]...\t[K_AUG_ASL]No f_timestamp suffix declared, Fallback to default writing mode.\n",
      "I[K_AUG]...\t[K_AUG_ASL] Filename for dot_sens dsdp_in_.in\n",
      "W[K_AUG]...\t[K_AUG_ASL]dsdp for linear C(x) + I*p = 0 override.\n"
     ]
    },
    {
     "name": "stdout",
     "output_type": "stream",
     "text": [
      "[K_AUG] written by D.T. @2018\n",
      "\n",
      ": dsdp_mode=\n",
      "dsdp_mode=\n",
      "I[K_AUG]...\t[K_AUG_ASL]File read succesfull\n",
      "I[K_AUG]...\t[K_AUG_ASL]Number of Right hand sides 0\n",
      "I[K_AUG]...\t[K_AUG_ASL]Number of Right hand sides: 0\n",
      "I[K_AUG]...\t[K_AUG_ASL]Number of variables       : 122\n",
      "I[K_AUG]...\t[K_AUG_ASL]Number of constraints     : 122\n",
      "I[K_AUG]...\t[K_AUG_ASL]Number of valid n_dof     : 0\n",
      "I[K_AUG]...\t[ADJUST_MU]\tWarning no relevant info from the problem can predict logmu\n",
      "I[K_AUG]...\t[FIND_INEQUALITIES]summary: eq: 122, leq: 0, geq: 0 \n",
      "I[K_AUG]...\t[K_AUG_ASL]Nonzeroes in the sparse Jacobian 302\n",
      "I[K_AUG]...\t[GET_HESS_ASL]Objective found\n",
      "I[K_AUG]...\t[GET_HESS_ASL]Nonzeroes in the sparse hessian 61\n",
      "I[K_AUG]...\t[GET_HESS_ASL]Minimization problem detected\n",
      "I[K_AUG]...\t[GET_HESS_ASL]Current objective 2.573681\n",
      "I[K_AUG]...\t[GET_HESS_ASL]Missing nz in the Hessian of the Lag: 61\n",
      "I[K_AUG]...\t[K_AUG_ASL]Barrier term added.\n",
      "I[K_AUG]...\t[K_AUG_ASL]MC19 scaling...\n",
      "I[K_AUG]...\t[ASSM_RHS_DCDP]According to the suffixes declared len p is 1 \n",
      "I[K_AUG]...\t[MUMPS_DRIVER]n_neig = 122\n",
      "I[K_AUG]...\t[INERTIA_STRATEGY]Inertia check successful.\n",
      "I[K_AUG]...\t[MUMPS_DRIVER]: Ratio of norm of scaled residuals (reported); 0.000000e+00 \n",
      "I[K_AUG]...\t[MUMPS_DRIVER]Accuracy at an acceptable level.\n",
      "\n",
      "W[K_AUG]...\t[MUMPS_DRIVER]Inertia check OK neig=122, (neig == m).\n",
      "I[K_AUG]...\t[K_AUG_ASL]Linear solver done. \n",
      "I[K_AUG]...\t[K_AUG_ASL]var_order suffix detected. Make sure var_order[i] > 0.\n",
      "I[K_AUG]...\t[K_AUG_ASL]Timings..Ev&Assem 0.002404, Fact 0.011004, Overall 0.011548.\n",
      "Done solving sensitivities\n"
     ]
    }
   ],
   "source": [
    "sigmas = {'A': 1}\n",
    "dsdp, idx_to_param = e_analyzer.get_sensitivities_for_params(tee=True, sigmasq=sigmas)"
   ]
  },
  {
   "cell_type": "code",
   "execution_count": 76,
   "metadata": {},
   "outputs": [],
   "source": [
    "tlist = np.array(e_analyzer.model.allmeas_times)\n",
    "dca_dk1 = dsdp.copy()\n",
    "dca_dk1_act = -tlist * 2 * np.exp(-tlist) # sensitivity dca/dk1 = -t*ca0*exp(-k1*t)"
   ]
  },
  {
   "cell_type": "code",
   "execution_count": 77,
   "metadata": {},
   "outputs": [
    {
     "data": {
      "text/plain": [
       "[<matplotlib.lines.Line2D at 0x7f4945c74f28>]"
      ]
     },
     "execution_count": 77,
     "metadata": {},
     "output_type": "execute_result"
    },
    {
     "data": {
      "image/png": "[encoded data removed]",
      "text/plain": [
       "<Figure size 432x288 with 1 Axes>"
      ]
     },
     "metadata": {
      "needs_background": "light"
     },
     "output_type": "display_data"
    }
   ],
   "source": [
    "fig, ax = plt.subplots()\n",
    "ax.plot(tlist, dca_dk1)\n",
    "ax.plot(tlist, dca_dk1_act)"
   ]
  },
  {
   "cell_type": "code",
   "execution_count": 78,
   "metadata": {},
   "outputs": [
    {
     "data": {
      "text/plain": [
       "array([0., 0., 0., 0., 0., 0., 0., 0., 0., 0., 0., 0., 0., 0., 0., 0., 0.,\n",
       "       0., 0., 0., 0., 0., 0., 0., 0., 0., 0., 0., 0., 0., 0., 0., 0., 0.,\n",
       "       0., 0., 0., 0., 0., 0., 0., 0., 0., 0., 0., 0., 0., 0., 0., 0., 0.,\n",
       "       0., 0., 0., 0., 0., 0., 0., 0., 0., 0.])"
      ]
     },
     "execution_count": 78,
     "metadata": {},
     "output_type": "execute_result"
    }
   ],
   "source": [
    "dsdp"
   ]
  },
  {
   "cell_type": "code",
   "execution_count": null,
   "metadata": {},
   "outputs": [],
   "source": []
  }
 ],
 "metadata": {
  "kernelspec": {
   "display_name": "Python 3",
   "language": "python",
   "name": "python3"
  },
  "language_info": {
   "codemirror_mode": {
    "name": "ipython",
    "version": 3
   },
   "file_extension": ".py",
   "mimetype": "text/x-python",
   "name": "python",
   "nbconvert_exporter": "python",
   "pygments_lexer": "ipython3",
   "version": "3.7.3"
  }
 },
 "nbformat": 4,
 "nbformat_minor": 2
}
