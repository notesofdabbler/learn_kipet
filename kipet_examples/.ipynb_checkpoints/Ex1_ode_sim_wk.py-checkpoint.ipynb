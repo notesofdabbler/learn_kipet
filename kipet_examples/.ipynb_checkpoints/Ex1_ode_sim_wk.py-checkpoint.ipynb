{
 "cells": [
  {
   "cell_type": "code",
   "execution_count": 1,
   "metadata": {},
   "outputs": [],
   "source": [
    "#\n",
    "# Working through the example at \n",
    "# https://github.com/kwmcbride/kipet/blob/new_data/kipet/new_examples/Ex_1_ode_sim.py\n",
    "#"
   ]
  },
  {
   "cell_type": "code",
   "execution_count": 2,
   "metadata": {},
   "outputs": [],
   "source": [
    "from kipet import KipetModel\n",
    "\n",
    "import matplotlib.pyplot as plt\n",
    "import sys"
   ]
  },
  {
   "cell_type": "code",
   "execution_count": 3,
   "metadata": {},
   "outputs": [
    {
     "name": "stdout",
     "output_type": "stream",
     "text": [
      "Warning: Component A variance not provided\n",
      "Warning: Component B variance not provided\n",
      "Warning: Component C variance not provided\n"
     ]
    }
   ],
   "source": [
    "kipet_model = KipetModel()\n",
    "\n",
    "r1 = kipet_model.new_reaction('reaction-1')\n",
    "\n",
    "# Add the model parameters\n",
    "r1.add_parameter('k1', 2)\n",
    "r1.add_parameter('k2', 0.2)\n",
    "\n",
    "# Declare the components and give the initial values\n",
    "r1.add_component('A', state='concentration', init=1)\n",
    "r1.add_component('B', state='concentration', init=0.0)\n",
    "r1.add_component('C', state='concentration', init=0.0)\n",
    "\n",
    "# Define explicit system of ODEs\n",
    "def rule_odes(m,t):\n",
    "    exprs = dict()\n",
    "    exprs['A'] = -m.P['k1']*m.Z[t,'A']\n",
    "    exprs['B'] = m.P['k1']*m.Z[t,'A']-m.P['k2']*m.Z[t,'B']\n",
    "    exprs['C'] = m.P['k2']*m.Z[t,'B']\n",
    "    return exprs\n",
    "\n",
    "# Add the rules to the model\n",
    "r1.add_equations(rule_odes)"
   ]
  },
  {
   "cell_type": "code",
   "execution_count": 4,
   "metadata": {},
   "outputs": [
    {
     "name": "stdout",
     "output_type": "stream",
     "text": [
      "times are: <class 'tuple'>\n"
     ]
    }
   ],
   "source": [
    "# Create the model - simulations require times\n",
    "r1.set_times(0, 10)\n",
    "\n",
    "# Simulate with default options\n",
    "r1.simulate()"
   ]
  },
  {
   "cell_type": "code",
   "execution_count": 5,
   "metadata": {},
   "outputs": [
    {
     "name": "stdout",
     "output_type": "stream",
     "text": [
      "Plot saved as: /home/paperspace/learn_kipet/charts/chart_8406.html\n"
     ]
    }
   ],
   "source": [
    "r1.results.plot()"
   ]
  },
  {
   "cell_type": "code",
   "execution_count": 6,
   "metadata": {},
   "outputs": [
    {
     "data": {
      "text/plain": [
       "[<matplotlib.lines.Line2D at 0x7f07a112d358>,\n",
       " <matplotlib.lines.Line2D at 0x7f07a112d3c8>,\n",
       " <matplotlib.lines.Line2D at 0x7f07a112d470>]"
      ]
     },
     "execution_count": 6,
     "metadata": {},
     "output_type": "execute_result"
    },
    {
     "data": {
      "image/png": "[encoded data removed]",
      "text/plain": [
       "<Figure size 432x288 with 1 Axes>"
      ]
     },
     "metadata": {
      "needs_background": "light"
     },
     "output_type": "display_data"
    }
   ],
   "source": [
    "plt.plot(r1.results.Z)"
   ]
  },
  {
   "cell_type": "code",
   "execution_count": null,
   "metadata": {},
   "outputs": [],
   "source": []
  }
 ],
 "metadata": {
  "kernelspec": {
   "display_name": "Python 3",
   "language": "python",
   "name": "python3"
  },
  "language_info": {
   "codemirror_mode": {
    "name": "ipython",
    "version": 3
   },
   "file_extension": ".py",
   "mimetype": "text/x-python",
   "name": "python",
   "nbconvert_exporter": "python",
   "pygments_lexer": "ipython3",
   "version": "3.7.3"
  }
 },
 "nbformat": 4,
 "nbformat_minor": 4
}
