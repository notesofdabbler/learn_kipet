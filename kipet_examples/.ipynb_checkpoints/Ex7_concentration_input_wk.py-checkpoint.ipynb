{
 "cells": [
  {
   "cell_type": "code",
   "execution_count": 1,
   "metadata": {},
   "outputs": [],
   "source": [
    "#\n",
    "# Working through the example from\n",
    "# https://github.com/kwmcbride/kipet_examples/blob/master/examples/example_7/Ex_7_concentration_input.py\n",
    "#"
   ]
  },
  {
   "cell_type": "code",
   "execution_count": 12,
   "metadata": {},
   "outputs": [],
   "source": [
    "import sys\n",
    "import kipet\n",
    "import numpy as np\n",
    "\n",
    "import matplotlib.pyplot as plt"
   ]
  },
  {
   "cell_type": "code",
   "execution_count": 30,
   "metadata": {},
   "outputs": [],
   "source": [
    "r1 = kipet.ReactionModel('reaction-1')   \n",
    "\n",
    "# Add the model parameters\n",
    "k1 = r1.parameter('k1', value=2.0, bounds=(0.0, 5.0))\n",
    "k2 = r1.parameter('k2', value=0.2, bounds=(0.0, 2.0))\n",
    "\n",
    "# Declare the components and give the initial values\n",
    "A = r1.component('A', value=0.001, known = False, bounds = (0.0, 3))\n",
    "B = r1.component('B', value=0.0)\n",
    "C = r1.component('C', value=0.0)"
   ]
  },
  {
   "cell_type": "code",
   "execution_count": 31,
   "metadata": {},
   "outputs": [
    {
     "data": {
      "text/html": [
       "<div>\n",
       "<style scoped>\n",
       "    .dataframe tbody tr th:only-of-type {\n",
       "        vertical-align: middle;\n",
       "    }\n",
       "\n",
       "    .dataframe tbody tr th {\n",
       "        vertical-align: top;\n",
       "    }\n",
       "\n",
       "    .dataframe thead th {\n",
       "        text-align: right;\n",
       "    }\n",
       "</style>\n",
       "<table border=\"1\" class=\"dataframe\">\n",
       "  <thead>\n",
       "    <tr style=\"text-align: right;\">\n",
       "      <th></th>\n",
       "      <th>A</th>\n",
       "      <th>B</th>\n",
       "      <th>C</th>\n",
       "    </tr>\n",
       "  </thead>\n",
       "  <tbody>\n",
       "    <tr>\n",
       "      <th>0.0000</th>\n",
       "      <td>0.001027</td>\n",
       "      <td>0.000000</td>\n",
       "      <td>0.000013</td>\n",
       "    </tr>\n",
       "    <tr>\n",
       "      <th>0.3334</th>\n",
       "      <td>0.000928</td>\n",
       "      <td>0.000081</td>\n",
       "      <td>0.000009</td>\n",
       "    </tr>\n",
       "    <tr>\n",
       "      <th>0.6668</th>\n",
       "      <td>0.000847</td>\n",
       "      <td>0.000127</td>\n",
       "      <td>0.000030</td>\n",
       "    </tr>\n",
       "    <tr>\n",
       "      <th>1.0002</th>\n",
       "      <td>0.000788</td>\n",
       "      <td>0.000144</td>\n",
       "      <td>0.000069</td>\n",
       "    </tr>\n",
       "    <tr>\n",
       "      <th>1.3336</th>\n",
       "      <td>0.000733</td>\n",
       "      <td>0.000148</td>\n",
       "      <td>0.000117</td>\n",
       "    </tr>\n",
       "  </tbody>\n",
       "</table>\n",
       "</div>"
      ],
      "text/plain": [
       "               A         B         C\n",
       "0.0000  0.001027  0.000000  0.000013\n",
       "0.3334  0.000928  0.000081  0.000009\n",
       "0.6668  0.000847  0.000127  0.000030\n",
       "1.0002  0.000788  0.000144  0.000069\n",
       "1.3336  0.000733  0.000148  0.000117"
      ]
     },
     "execution_count": 31,
     "metadata": {},
     "output_type": "execute_result"
    }
   ],
   "source": [
    "filename = '/home/paperspace/learn_kipet/data_sets/Ex_1_C_data.txt'\n",
    "data = kipet.read_data(filename)\n",
    "data = data.iloc[::10,]\n",
    "data.head()"
   ]
  },
  {
   "cell_type": "code",
   "execution_count": 32,
   "metadata": {},
   "outputs": [],
   "source": [
    "r1.add_data(data = data, remove_negatives = True)"
   ]
  },
  {
   "cell_type": "code",
   "execution_count": 33,
   "metadata": {},
   "outputs": [
    {
     "data": {
      "text/plain": [
       "<pyomo.core.expr.numeric_expr.ProductExpression at 0x7fce8050f0a0>"
      ]
     },
     "execution_count": 33,
     "metadata": {},
     "output_type": "execute_result"
    }
   ],
   "source": [
    "# Define the reaction model\n",
    "\n",
    "rate1 = k1 * A\n",
    "rate2 = k2 * B\n",
    "\n",
    "r1.add_ode('A', -rate1)\n",
    "r1.add_ode('B', rate1 - rate2)\n",
    "r1.add_ode('C', rate2)"
   ]
  },
  {
   "cell_type": "code",
   "execution_count": 34,
   "metadata": {},
   "outputs": [],
   "source": [
    "# Settings\n",
    "r1.settings.collocation.nfe = 60"
   ]
  },
  {
   "cell_type": "code",
   "execution_count": 27,
   "metadata": {},
   "outputs": [
    {
     "name": "stdout",
     "output_type": "stream",
     "text": [
      "ReactionModel: Generating base model (self._model)\n",
      "# TemplateBuilder: Preparing model for p_estimator\n",
      "# TemplateBuilder: Preparing model for None\n"
     ]
    },
    {
     "data": {
      "text/plain": [
       "<pyomo.core.base.PyomoModel.ConcreteModel at 0x7fce7f879fc0>"
      ]
     },
     "execution_count": 27,
     "metadata": {},
     "output_type": "execute_result"
    }
   ],
   "source": [
    "#r1._create_pyomo_model()"
   ]
  },
  {
   "cell_type": "code",
   "execution_count": 28,
   "metadata": {},
   "outputs": [
    {
     "name": "stdout",
     "output_type": "stream",
     "text": [
      "Z : Size=90, Index=Z_index\n",
      "    Key           : Lower : Value : Upper : Fixed : Stale : Domain\n",
      "       (0.0, 'A') :  None : 0.001 :  None : False : False :  Reals\n",
      "       (0.0, 'B') :  None :   0.0 :  None : False : False :  Reals\n",
      "       (0.0, 'C') :  None :   0.0 :  None : False : False :  Reals\n",
      "    (0.3334, 'A') :  None :     1 :  None : False : False :  Reals\n",
      "    (0.3334, 'B') :  None :     1 :  None : False : False :  Reals\n",
      "    (0.3334, 'C') :  None :     1 :  None : False : False :  Reals\n",
      "    (0.6668, 'A') :  None :     1 :  None : False : False :  Reals\n",
      "    (0.6668, 'B') :  None :     1 :  None : False : False :  Reals\n",
      "    (0.6668, 'C') :  None :     1 :  None : False : False :  Reals\n",
      "    (1.0002, 'A') :  None :     1 :  None : False : False :  Reals\n",
      "    (1.0002, 'B') :  None :     1 :  None : False : False :  Reals\n",
      "    (1.0002, 'C') :  None :     1 :  None : False : False :  Reals\n",
      "    (1.3336, 'A') :  None :     1 :  None : False : False :  Reals\n",
      "    (1.3336, 'B') :  None :     1 :  None : False : False :  Reals\n",
      "    (1.3336, 'C') :  None :     1 :  None : False : False :  Reals\n",
      "     (1.667, 'A') :  None :     1 :  None : False : False :  Reals\n",
      "     (1.667, 'B') :  None :     1 :  None : False : False :  Reals\n",
      "     (1.667, 'C') :  None :     1 :  None : False : False :  Reals\n",
      "    (2.0004, 'A') :  None :     1 :  None : False : False :  Reals\n",
      "    (2.0004, 'B') :  None :     1 :  None : False : False :  Reals\n",
      "    (2.0004, 'C') :  None :     1 :  None : False : False :  Reals\n",
      "    (2.3338, 'A') :  None :     1 :  None : False : False :  Reals\n",
      "    (2.3338, 'B') :  None :     1 :  None : False : False :  Reals\n",
      "    (2.3338, 'C') :  None :     1 :  None : False : False :  Reals\n",
      "    (2.6672, 'A') :  None :     1 :  None : False : False :  Reals\n",
      "    (2.6672, 'B') :  None :     1 :  None : False : False :  Reals\n",
      "    (2.6672, 'C') :  None :     1 :  None : False : False :  Reals\n",
      "    (3.0006, 'A') :  None :     1 :  None : False : False :  Reals\n",
      "    (3.0006, 'B') :  None :     1 :  None : False : False :  Reals\n",
      "    (3.0006, 'C') :  None :     1 :  None : False : False :  Reals\n",
      "     (3.334, 'A') :  None :     1 :  None : False : False :  Reals\n",
      "     (3.334, 'B') :  None :     1 :  None : False : False :  Reals\n",
      "     (3.334, 'C') :  None :     1 :  None : False : False :  Reals\n",
      "    (3.6674, 'A') :  None :     1 :  None : False : False :  Reals\n",
      "    (3.6674, 'B') :  None :     1 :  None : False : False :  Reals\n",
      "    (3.6674, 'C') :  None :     1 :  None : False : False :  Reals\n",
      "    (4.0008, 'A') :  None :     1 :  None : False : False :  Reals\n",
      "    (4.0008, 'B') :  None :     1 :  None : False : False :  Reals\n",
      "    (4.0008, 'C') :  None :     1 :  None : False : False :  Reals\n",
      "    (4.3342, 'A') :  None :     1 :  None : False : False :  Reals\n",
      "    (4.3342, 'B') :  None :     1 :  None : False : False :  Reals\n",
      "    (4.3342, 'C') :  None :     1 :  None : False : False :  Reals\n",
      "    (4.6676, 'A') :  None :     1 :  None : False : False :  Reals\n",
      "    (4.6676, 'B') :  None :     1 :  None : False : False :  Reals\n",
      "    (4.6676, 'C') :  None :     1 :  None : False : False :  Reals\n",
      "     (5.001, 'A') :  None :     1 :  None : False : False :  Reals\n",
      "     (5.001, 'B') :  None :     1 :  None : False : False :  Reals\n",
      "     (5.001, 'C') :  None :     1 :  None : False : False :  Reals\n",
      "    (5.3344, 'A') :  None :     1 :  None : False : False :  Reals\n",
      "    (5.3344, 'B') :  None :     1 :  None : False : False :  Reals\n",
      "    (5.3344, 'C') :  None :     1 :  None : False : False :  Reals\n",
      "    (5.6678, 'A') :  None :     1 :  None : False : False :  Reals\n",
      "    (5.6678, 'B') :  None :     1 :  None : False : False :  Reals\n",
      "    (5.6678, 'C') :  None :     1 :  None : False : False :  Reals\n",
      "    (6.0012, 'A') :  None :     1 :  None : False : False :  Reals\n",
      "    (6.0012, 'B') :  None :     1 :  None : False : False :  Reals\n",
      "    (6.0012, 'C') :  None :     1 :  None : False : False :  Reals\n",
      "    (6.3346, 'A') :  None :     1 :  None : False : False :  Reals\n",
      "    (6.3346, 'B') :  None :     1 :  None : False : False :  Reals\n",
      "    (6.3346, 'C') :  None :     1 :  None : False : False :  Reals\n",
      "     (6.668, 'A') :  None :     1 :  None : False : False :  Reals\n",
      "     (6.668, 'B') :  None :     1 :  None : False : False :  Reals\n",
      "     (6.668, 'C') :  None :     1 :  None : False : False :  Reals\n",
      "    (7.0014, 'A') :  None :     1 :  None : False : False :  Reals\n",
      "    (7.0014, 'B') :  None :     1 :  None : False : False :  Reals\n",
      "    (7.0014, 'C') :  None :     1 :  None : False : False :  Reals\n",
      "    (7.3348, 'A') :  None :     1 :  None : False : False :  Reals\n",
      "    (7.3348, 'B') :  None :     1 :  None : False : False :  Reals\n",
      "    (7.3348, 'C') :  None :     1 :  None : False : False :  Reals\n",
      "    (7.6682, 'A') :  None :     1 :  None : False : False :  Reals\n",
      "    (7.6682, 'B') :  None :     1 :  None : False : False :  Reals\n",
      "    (7.6682, 'C') :  None :     1 :  None : False : False :  Reals\n",
      "    (8.0016, 'A') :  None :     1 :  None : False : False :  Reals\n",
      "    (8.0016, 'B') :  None :     1 :  None : False : False :  Reals\n",
      "    (8.0016, 'C') :  None :     1 :  None : False : False :  Reals\n",
      "     (8.335, 'A') :  None :     1 :  None : False : False :  Reals\n",
      "     (8.335, 'B') :  None :     1 :  None : False : False :  Reals\n",
      "     (8.335, 'C') :  None :     1 :  None : False : False :  Reals\n",
      "    (8.6684, 'A') :  None :     1 :  None : False : False :  Reals\n",
      "    (8.6684, 'B') :  None :     1 :  None : False : False :  Reals\n",
      "    (8.6684, 'C') :  None :     1 :  None : False : False :  Reals\n",
      "    (9.0018, 'A') :  None :     1 :  None : False : False :  Reals\n",
      "    (9.0018, 'B') :  None :     1 :  None : False : False :  Reals\n",
      "    (9.0018, 'C') :  None :     1 :  None : False : False :  Reals\n",
      "    (9.3352, 'A') :  None :     1 :  None : False : False :  Reals\n",
      "    (9.3352, 'B') :  None :     1 :  None : False : False :  Reals\n",
      "    (9.3352, 'C') :  None :     1 :  None : False : False :  Reals\n",
      "    (9.6686, 'A') :  None :     1 :  None : False : False :  Reals\n",
      "    (9.6686, 'B') :  None :     1 :  None : False : False :  Reals\n",
      "    (9.6686, 'C') :  None :     1 :  None : False : False :  Reals\n"
     ]
    }
   ],
   "source": [
    "#r1._model.Z.pprint()"
   ]
  },
  {
   "cell_type": "code",
   "execution_count": 35,
   "metadata": {},
   "outputs": [
    {
     "name": "stdout",
     "output_type": "stream",
     "text": [
      "########################################\n",
      "# KIPET version 1.0.3\n",
      "# Date: 2021-07-07-14-01-25\n",
      "# File: <ipython-input-30-2817399ead59>\n",
      "# ReactionModel instance: reaction-1\n",
      "########################################\n",
      "\n",
      "# Simulator: Initializing with starting values\n",
      "# Simulator: Using the fe method\n",
      "# Simulator: Setting up simulation model\n",
      "# TemplateBuilder: Preparing model for simulator\n",
      "# Simulator: Finished creating simulator\n",
      "# Simulator: Completed successfully\n",
      "\n",
      "# VarianceEstimator: All variances provided / concentration problem\n",
      "\n",
      "# ParameterEstimator: Creating instance\n",
      "\n",
      "# Warning: Template already populated\n",
      "ReactionModel: Generating base model (self._model)\n",
      "# TemplateBuilder: Preparing model for p_estimator\n",
      "# TemplateBuilder: Preparing model for p_estimator\n",
      "# ParameterEstimator: The variances being used are:\n",
      " {'A': 1, 'B': 1, 'C': 1}\n",
      "# ParameterEstimator: Solving the parameter fitting problem...\n",
      "\n",
      "WARNING: Loading a SolverResults object with a warning status into\n",
      "    model.name=\"unknown\";\n",
      "      - termination condition: other\n",
      "      - message from solver: <undefined>\n",
      "WARNING: The solution of the iteration was unsuccessful. The problem is solved with additional solver options.\n",
      "WARNING: Loading a SolverResults object with a warning status into\n",
      "    model.name=\"unknown\";\n",
      "      - termination condition: other\n",
      "      - message from solver: <undefined>\n",
      "WARNING: The solution of the iteration was unsuccessful. The problem is solved with additional solver options.\n",
      "WARNING: Loading a SolverResults object with a warning status into\n",
      "    model.name=\"unknown\";\n",
      "      - termination condition: other\n",
      "      - message from solver: <undefined>\n",
      "The current iteration was unsuccessful.\n",
      "\n",
      "# Parameter Values\n",
      "             k1 = 2.0000e+00\n",
      "             k2 = 2.0000e-01\n",
      "              A = 1.0000e-03\n"
     ]
    },
    {
     "ename": "Exception",
     "evalue": "The current iteration was unsuccessful.",
     "output_type": "error",
     "traceback": [
      "\u001b[0;31m---------------------------------------------------------------------------\u001b[0m",
      "\u001b[0;31mException\u001b[0m                                 Traceback (most recent call last)",
      "\u001b[0;32m<ipython-input-35-647f87ee0530>\u001b[0m in \u001b[0;36m<module>\u001b[0;34m\u001b[0m\n\u001b[1;32m      1\u001b[0m \u001b[0;31m# Run KIPET\u001b[0m\u001b[0;34m\u001b[0m\u001b[0;34m\u001b[0m\u001b[0;34m\u001b[0m\u001b[0m\n\u001b[1;32m      2\u001b[0m \u001b[0mr1\u001b[0m\u001b[0;34m.\u001b[0m\u001b[0msettings\u001b[0m\u001b[0;34m.\u001b[0m\u001b[0msolver\u001b[0m\u001b[0;34m.\u001b[0m\u001b[0mlinear_solver\u001b[0m \u001b[0;34m=\u001b[0m \u001b[0;34m'ma27'\u001b[0m\u001b[0;34m\u001b[0m\u001b[0;34m\u001b[0m\u001b[0m\n\u001b[0;32m----> 3\u001b[0;31m \u001b[0mr1\u001b[0m\u001b[0;34m.\u001b[0m\u001b[0mrun_opt\u001b[0m\u001b[0;34m(\u001b[0m\u001b[0;34m)\u001b[0m\u001b[0;34m\u001b[0m\u001b[0;34m\u001b[0m\u001b[0m\n\u001b[0m",
      "\u001b[0;32m~/anaconda3/envs/ckipetenv/lib/python3.8/site-packages/kipet/main_modules/reaction_model.py\u001b[0m in \u001b[0;36mrun_opt\u001b[0;34m(self)\u001b[0m\n\u001b[1;32m   1760\u001b[0m \u001b[0;34m\u001b[0m\u001b[0m\n\u001b[1;32m   1761\u001b[0m             \u001b[0;32mwith\u001b[0m \u001b[0mTee\u001b[0m\u001b[0;34m(\u001b[0m\u001b[0mfilename\u001b[0m\u001b[0;34m)\u001b[0m\u001b[0;34m:\u001b[0m\u001b[0;34m\u001b[0m\u001b[0;34m\u001b[0m\u001b[0m\n\u001b[0;32m-> 1762\u001b[0;31m                 \u001b[0mresults\u001b[0m \u001b[0;34m=\u001b[0m \u001b[0mself\u001b[0m\u001b[0;34m.\u001b[0m\u001b[0m_run_opt_core\u001b[0m\u001b[0;34m(\u001b[0m\u001b[0;34m)\u001b[0m\u001b[0;34m\u001b[0m\u001b[0;34m\u001b[0m\u001b[0m\n\u001b[0m\u001b[1;32m   1763\u001b[0m \u001b[0;34m\u001b[0m\u001b[0m\n\u001b[1;32m   1764\u001b[0m         \u001b[0;32melse\u001b[0m\u001b[0;34m:\u001b[0m\u001b[0;34m\u001b[0m\u001b[0;34m\u001b[0m\u001b[0m\n",
      "\u001b[0;32m~/anaconda3/envs/ckipetenv/lib/python3.8/site-packages/kipet/main_modules/reaction_model.py\u001b[0m in \u001b[0;36m_run_opt_core\u001b[0;34m(self)\u001b[0m\n\u001b[1;32m   1889\u001b[0m         \u001b[0;31m# Run the PE\u001b[0m\u001b[0;34m\u001b[0m\u001b[0;34m\u001b[0m\u001b[0;34m\u001b[0m\u001b[0m\n\u001b[1;32m   1890\u001b[0m         \u001b[0mprint\u001b[0m\u001b[0;34m(\u001b[0m\u001b[0;34m'# ParameterEstimator: Solving the parameter fitting problem...\\n'\u001b[0m\u001b[0;34m)\u001b[0m\u001b[0;34m\u001b[0m\u001b[0;34m\u001b[0m\u001b[0m\n\u001b[0;32m-> 1891\u001b[0;31m         \u001b[0mself\u001b[0m\u001b[0;34m.\u001b[0m\u001b[0m_run_pe_opt\u001b[0m\u001b[0;34m(\u001b[0m\u001b[0;34m)\u001b[0m\u001b[0;34m\u001b[0m\u001b[0;34m\u001b[0m\u001b[0m\n\u001b[0m\u001b[1;32m   1892\u001b[0m \u001b[0;34m\u001b[0m\u001b[0m\n\u001b[1;32m   1893\u001b[0m         \u001b[0mprint\u001b[0m\u001b[0;34m(\u001b[0m\u001b[0;34m'\\n# ParameterEstimator: Parameter fitting complete'\u001b[0m\u001b[0;34m)\u001b[0m\u001b[0;34m\u001b[0m\u001b[0;34m\u001b[0m\u001b[0m\n",
      "\u001b[0;32m~/anaconda3/envs/ckipetenv/lib/python3.8/site-packages/kipet/main_modules/reaction_model.py\u001b[0m in \u001b[0;36m_run_pe_opt\u001b[0;34m(self)\u001b[0m\n\u001b[1;32m   1671\u001b[0m             \u001b[0mpe_settings\u001b[0m \u001b[0;34m=\u001b[0m \u001b[0;34m{\u001b[0m\u001b[0;34m**\u001b[0m\u001b[0mself\u001b[0m\u001b[0;34m.\u001b[0m\u001b[0msettings\u001b[0m\u001b[0;34m.\u001b[0m\u001b[0mparameter_estimator\u001b[0m\u001b[0;34m}\u001b[0m \u001b[0;31m#, **self._G_data},\u001b[0m\u001b[0;34m\u001b[0m\u001b[0;34m\u001b[0m\u001b[0m\n\u001b[1;32m   1672\u001b[0m \u001b[0;34m\u001b[0m\u001b[0m\n\u001b[0;32m-> 1673\u001b[0;31m         \u001b[0mself\u001b[0m\u001b[0;34m.\u001b[0m\u001b[0m_run_opt\u001b[0m\u001b[0;34m(\u001b[0m\u001b[0;34m'p_estimator'\u001b[0m\u001b[0;34m,\u001b[0m \u001b[0;34m**\u001b[0m\u001b[0mpe_settings\u001b[0m\u001b[0;34m)\u001b[0m\u001b[0;34m\u001b[0m\u001b[0;34m\u001b[0m\u001b[0m\n\u001b[0m\u001b[1;32m   1674\u001b[0m \u001b[0;34m\u001b[0m\u001b[0m\n\u001b[1;32m   1675\u001b[0m         \u001b[0;32mreturn\u001b[0m \u001b[0;32mNone\u001b[0m\u001b[0;34m\u001b[0m\u001b[0;34m\u001b[0m\u001b[0m\n",
      "\u001b[0;32m~/anaconda3/envs/ckipetenv/lib/python3.8/site-packages/kipet/main_modules/reaction_model.py\u001b[0m in \u001b[0;36m_run_opt\u001b[0;34m(self, estimator, *args, **kwargs)\u001b[0m\n\u001b[1;32m   1928\u001b[0m             \u001b[0;32mraise\u001b[0m \u001b[0mAttributeError\u001b[0m\u001b[0;34m(\u001b[0m\u001b[0;34mf'ReactionModel has no attribute {estimator}'\u001b[0m\u001b[0;34m)\u001b[0m\u001b[0;34m\u001b[0m\u001b[0;34m\u001b[0m\u001b[0m\n\u001b[1;32m   1929\u001b[0m \u001b[0;34m\u001b[0m\u001b[0m\n\u001b[0;32m-> 1930\u001b[0;31m         \u001b[0mself\u001b[0m\u001b[0;34m.\u001b[0m\u001b[0mresults_dict\u001b[0m\u001b[0;34m[\u001b[0m\u001b[0mestimator\u001b[0m\u001b[0;34m]\u001b[0m \u001b[0;34m=\u001b[0m \u001b[0mgetattr\u001b[0m\u001b[0;34m(\u001b[0m\u001b[0mself\u001b[0m\u001b[0;34m,\u001b[0m \u001b[0mestimator\u001b[0m\u001b[0;34m)\u001b[0m\u001b[0;34m.\u001b[0m\u001b[0mrun_opt\u001b[0m\u001b[0;34m(\u001b[0m\u001b[0;34m*\u001b[0m\u001b[0margs\u001b[0m\u001b[0;34m,\u001b[0m \u001b[0;34m**\u001b[0m\u001b[0mkwargs\u001b[0m\u001b[0;34m)\u001b[0m\u001b[0;34m\u001b[0m\u001b[0;34m\u001b[0m\u001b[0m\n\u001b[0m\u001b[1;32m   1931\u001b[0m         \u001b[0;32mreturn\u001b[0m \u001b[0mself\u001b[0m\u001b[0;34m.\u001b[0m\u001b[0mresults_dict\u001b[0m\u001b[0;34m[\u001b[0m\u001b[0mestimator\u001b[0m\u001b[0;34m]\u001b[0m\u001b[0;34m\u001b[0m\u001b[0;34m\u001b[0m\u001b[0m\n\u001b[1;32m   1932\u001b[0m \u001b[0;34m\u001b[0m\u001b[0m\n",
      "\u001b[0;32m~/anaconda3/envs/ckipetenv/lib/python3.8/site-packages/kipet/estimator_tools/parameter_estimator.py\u001b[0m in \u001b[0;36mrun_opt\u001b[0;34m(self, solver, **kwds)\u001b[0m\n\u001b[1;32m    190\u001b[0m             \u001b[0mprint\u001b[0m\u001b[0;34m(\u001b[0m\u001b[0;34m\"Total execution time in seconds for variance estimation:\"\u001b[0m\u001b[0;34m,\u001b[0m \u001b[0mend\u001b[0m \u001b[0;34m-\u001b[0m \u001b[0mstart\u001b[0m\u001b[0;34m)\u001b[0m\u001b[0;34m\u001b[0m\u001b[0;34m\u001b[0m\u001b[0m\n\u001b[1;32m    191\u001b[0m \u001b[0;34m\u001b[0m\u001b[0m\n\u001b[0;32m--> 192\u001b[0;31m         \u001b[0;32mreturn\u001b[0m \u001b[0mself\u001b[0m\u001b[0;34m.\u001b[0m\u001b[0m_get_results\u001b[0m\u001b[0;34m(\u001b[0m\u001b[0;34m)\u001b[0m\u001b[0;34m\u001b[0m\u001b[0;34m\u001b[0m\u001b[0m\n\u001b[0m\u001b[1;32m    193\u001b[0m \u001b[0;34m\u001b[0m\u001b[0m\n\u001b[1;32m    194\u001b[0m     \u001b[0;32mdef\u001b[0m \u001b[0m_get_results\u001b[0m\u001b[0;34m(\u001b[0m\u001b[0mself\u001b[0m\u001b[0;34m)\u001b[0m\u001b[0;34m:\u001b[0m\u001b[0;34m\u001b[0m\u001b[0;34m\u001b[0m\u001b[0m\n",
      "\u001b[0;32m~/anaconda3/envs/ckipetenv/lib/python3.8/site-packages/kipet/estimator_tools/parameter_estimator.py\u001b[0m in \u001b[0;36m_get_results\u001b[0;34m(self)\u001b[0m\n\u001b[1;32m    215\u001b[0m \u001b[0;34m\u001b[0m\u001b[0m\n\u001b[1;32m    216\u001b[0m         \u001b[0;32mif\u001b[0m \u001b[0mself\u001b[0m\u001b[0;34m.\u001b[0m\u001b[0mtermination_condition\u001b[0m\u001b[0;34m!=\u001b[0m\u001b[0;32mNone\u001b[0m \u001b[0;32mand\u001b[0m \u001b[0mself\u001b[0m\u001b[0;34m.\u001b[0m\u001b[0mtermination_condition\u001b[0m\u001b[0;34m!=\u001b[0m\u001b[0mTerminationCondition\u001b[0m\u001b[0;34m.\u001b[0m\u001b[0moptimal\u001b[0m\u001b[0;34m:\u001b[0m\u001b[0;34m\u001b[0m\u001b[0;34m\u001b[0m\u001b[0m\n\u001b[0;32m--> 217\u001b[0;31m             \u001b[0;32mraise\u001b[0m \u001b[0mException\u001b[0m\u001b[0;34m(\u001b[0m\u001b[0;34m\"The current iteration was unsuccessful.\"\u001b[0m\u001b[0;34m)\u001b[0m\u001b[0;34m\u001b[0m\u001b[0;34m\u001b[0m\u001b[0m\n\u001b[0m\u001b[1;32m    218\u001b[0m         \u001b[0;32melse\u001b[0m\u001b[0;34m:\u001b[0m\u001b[0;34m\u001b[0m\u001b[0;34m\u001b[0m\u001b[0m\n\u001b[1;32m    219\u001b[0m             \u001b[0;32mif\u001b[0m \u001b[0mself\u001b[0m\u001b[0;34m.\u001b[0m\u001b[0m_estimability\u001b[0m \u001b[0;34m==\u001b[0m \u001b[0;32mTrue\u001b[0m\u001b[0;34m:\u001b[0m\u001b[0;34m\u001b[0m\u001b[0;34m\u001b[0m\u001b[0m\n",
      "\u001b[0;31mException\u001b[0m: The current iteration was unsuccessful."
     ]
    }
   ],
   "source": [
    "# Run KIPET\n",
    "r1.settings.solver.linear_solver = 'ma27'\n",
    "r1.run_opt()"
   ]
  },
  {
   "cell_type": "code",
   "execution_count": 24,
   "metadata": {},
   "outputs": [
    {
     "name": "stdout",
     "output_type": "stream",
     "text": [
      "\n",
      "The estimated parameters are:\n",
      "k1 0.22542015491643033\n",
      "k2 1.0168384088353823\n"
     ]
    }
   ],
   "source": [
    "# Display the results\n",
    "r1.results.show_parameters"
   ]
  },
  {
   "cell_type": "code",
   "execution_count": 25,
   "metadata": {},
   "outputs": [
    {
     "data": {
      "image/png": "[encoded data removed]",
      "text/plain": [
       "<Figure size 432x288 with 1 Axes>"
      ]
     },
     "metadata": {
      "needs_background": "light"
     },
     "output_type": "display_data"
    }
   ],
   "source": [
    "fig, ax = plt.subplots()\n",
    "for c in ['A','B','C']:\n",
    "    ax.plot(r1.results.Z.index, r1.results.Z[c])\n",
    "    ax.scatter(r1.results.Cm.index, r1.results.Cm[c])"
   ]
  },
  {
   "cell_type": "code",
   "execution_count": null,
   "metadata": {},
   "outputs": [],
   "source": [
    "r1.plot(jupyter=True)"
   ]
  },
  {
   "cell_type": "code",
   "execution_count": 26,
   "metadata": {},
   "outputs": [
    {
     "data": {
      "text/plain": [
       "\n",
       "RESULTS\n",
       "Z:\n",
       "                  A         B             C\n",
       "0.000000  0.001000  0.000000  0.000000e+00\n",
       "0.025847  0.000994  0.000006  7.598508e-08\n",
       "0.107513  0.000976  0.000023  1.267243e-06\n",
       "0.166700  0.000963  0.000034  2.974359e-06\n",
       "0.192547  0.000958  0.000039  3.927029e-06\n",
       "...            ...       ...           ...\n",
       "9.442713  0.000119  0.000034  8.471165e-04\n",
       "9.501900  0.000117  0.000033  8.491418e-04\n",
       "9.527747  0.000117  0.000033  8.500179e-04\n",
       "9.609413  0.000115  0.000033  8.527526e-04\n",
       "9.668600  0.000113  0.000032  8.547034e-04\n",
       "\n",
       "[181 rows x 3 columns]\n",
       "\n",
       "Cm:\n",
       "                A         B         C\n",
       "0.0000  0.001027  0.000000  0.000013\n",
       "0.3334  0.000928  0.000081  0.000009\n",
       "0.6668  0.000847  0.000127  0.000030\n",
       "1.0002  0.000788  0.000144  0.000069\n",
       "1.3336  0.000733  0.000148  0.000117\n",
       "1.6670  0.000682  0.000147  0.000166\n",
       "2.0004  0.000634  0.000142  0.000218\n",
       "2.3338  0.000592  0.000136  0.000265\n",
       "2.6672  0.000549  0.000128  0.000317\n",
       "3.0006  0.000509  0.000124  0.000361\n",
       "3.3340  0.000475  0.000116  0.000405\n",
       "3.6674  0.000443  0.000109  0.000446\n",
       "4.0008  0.000410  0.000102  0.000485\n",
       "4.3342  0.000380  0.000097  0.000521\n",
       "4.6676  0.000351  0.000093  0.000553\n",
       "5.0010  0.000328  0.000084  0.000586\n",
       "5.3344  0.000300  0.000083  0.000614\n",
       "5.6678  0.000277  0.000081  0.000642\n",
       "6.0012  0.000261  0.000071  0.000670\n",
       "6.3346  0.000241  0.000066  0.000693\n",
       "6.6680  0.000220  0.000065  0.000715\n",
       "7.0014  0.000202  0.000064  0.000733\n",
       "7.3348  0.000191  0.000058  0.000754\n",
       "7.6682  0.000180  0.000052  0.000770\n",
       "8.0016  0.000164  0.000054  0.000784\n",
       "8.3350  0.000147  0.000054  0.000799\n",
       "8.6684  0.000137  0.000047  0.000816\n",
       "9.0018  0.000130  0.000044  0.000830\n",
       "9.3352  0.000119  0.000042  0.000840\n",
       "9.6686  0.000109  0.000042  0.000851\n",
       "\n",
       "X:\n",
       "             V\n",
       "0.000000  1.0\n",
       "0.025847  1.0\n",
       "0.107513  1.0\n",
       "0.166700  1.0\n",
       "0.192547  1.0\n",
       "...       ...\n",
       "9.442713  1.0\n",
       "9.501900  1.0\n",
       "9.527747  1.0\n",
       "9.609413  1.0\n",
       "9.668600  1.0\n",
       "\n",
       "[181 rows x 1 columns]\n",
       "\n",
       "dZdt:\n",
       "                  A         B         C\n",
       "0.000000  0.000000  0.000000  0.000000\n",
       "0.025847 -0.000224  0.000218  0.000006\n",
       "0.107513 -0.000220  0.000197  0.000023\n",
       "0.166700 -0.000217  0.000183  0.000034\n",
       "0.192547 -0.000216  0.000177  0.000039\n",
       "...            ...       ...       ...\n",
       "9.442713 -0.000027 -0.000008  0.000034\n",
       "9.501900 -0.000026 -0.000008  0.000034\n",
       "9.527747 -0.000026 -0.000007  0.000034\n",
       "9.609413 -0.000026 -0.000007  0.000033\n",
       "9.668600 -0.000025 -0.000007  0.000033\n",
       "\n",
       "[181 rows x 3 columns]\n",
       "\n",
       "dXdt:\n",
       "             V\n",
       "0.000000  0.0\n",
       "0.025847  0.0\n",
       "0.107513  0.0\n",
       "0.166700  0.0\n",
       "0.192547  0.0\n",
       "...       ...\n",
       "9.442713  0.0\n",
       "9.501900  0.0\n",
       "9.527747  0.0\n",
       "9.609413  0.0\n",
       "9.668600  0.0\n",
       "\n",
       "[181 rows x 1 columns]\n",
       "\n",
       "P:\n",
       " {'k1': 0.22542015491643033, 'k2': 1.0168384088353823}\n"
      ]
     },
     "execution_count": 26,
     "metadata": {},
     "output_type": "execute_result"
    }
   ],
   "source": [
    "r1.results"
   ]
  },
  {
   "cell_type": "code",
   "execution_count": 29,
   "metadata": {},
   "outputs": [
    {
     "data": {
      "text/plain": [
       "Float64Index([   0.0, 0.3334, 0.6668, 1.0002, 1.3336,  1.667, 2.0004, 2.3338,\n",
       "              2.6672, 3.0006,  3.334, 3.6674, 4.0008, 4.3342, 4.6676,  5.001,\n",
       "              5.3344, 5.6678, 6.0012, 6.3346,  6.668, 7.0014, 7.3348, 7.6682,\n",
       "              8.0016,  8.335, 8.6684, 9.0018, 9.3352, 9.6686],\n",
       "             dtype='float64')"
      ]
     },
     "execution_count": 29,
     "metadata": {},
     "output_type": "execute_result"
    }
   ],
   "source": [
    "r1.results.Cm.index"
   ]
  },
  {
   "cell_type": "code",
   "execution_count": 30,
   "metadata": {},
   "outputs": [
    {
     "data": {
      "text/plain": [
       "Float64Index([     0.0, 0.025847, 0.107513,   0.1667, 0.192547, 0.274213,\n",
       "                0.3334, 0.359247, 0.440913,   0.5001,\n",
       "              ...\n",
       "                9.1685, 9.194347, 9.276013,   9.3352, 9.361047, 9.442713,\n",
       "                9.5019, 9.527747, 9.609413,   9.6686],\n",
       "             dtype='float64', length=181)"
      ]
     },
     "execution_count": 30,
     "metadata": {},
     "output_type": "execute_result"
    }
   ],
   "source": [
    "r1.results.Z.index"
   ]
  },
  {
   "cell_type": "code",
   "execution_count": 33,
   "metadata": {},
   "outputs": [],
   "source": [
    "tmp = np.isin(r1.results.Z.index, r1.results.Cm.index)"
   ]
  },
  {
   "cell_type": "code",
   "execution_count": 35,
   "metadata": {},
   "outputs": [],
   "source": [
    "Zpred = r1.results.Z[tmp]"
   ]
  },
  {
   "cell_type": "code",
   "execution_count": 36,
   "metadata": {},
   "outputs": [
    {
     "data": {
      "text/plain": [
       "((30, 3), (30, 3))"
      ]
     },
     "execution_count": 36,
     "metadata": {},
     "output_type": "execute_result"
    }
   ],
   "source": [
    "Zpred.shape, r1.results.Cm.shape"
   ]
  },
  {
   "cell_type": "code",
   "execution_count": 47,
   "metadata": {},
   "outputs": [
    {
     "data": {
      "text/plain": [
       "<matplotlib.collections.PathCollection at 0x7f796322e220>"
      ]
     },
     "execution_count": 47,
     "metadata": {},
     "output_type": "execute_result"
    },
    {
     "data": {
      "image/png": "[encoded data removed]",
      "text/plain": [
       "<Figure size 432x288 with 1 Axes>"
      ]
     },
     "metadata": {
      "needs_background": "light"
     },
     "output_type": "display_data"
    }
   ],
   "source": [
    "fig, ax = plt.subplots()\n",
    "ax.scatter(Zpred['C'].values, r1.results.Cm['C'])"
   ]
  },
  {
   "cell_type": "code",
   "execution_count": null,
   "metadata": {},
   "outputs": [],
   "source": []
  }
 ],
 "metadata": {
  "kernelspec": {
   "display_name": "Python 3",
   "language": "python",
   "name": "python3"
  },
  "language_info": {
   "codemirror_mode": {
    "name": "ipython",
    "version": 3
   },
   "file_extension": ".py",
   "mimetype": "text/x-python",
   "name": "python",
   "nbconvert_exporter": "python",
   "pygments_lexer": "ipython3",
   "version": "3.8.8"
  }
 },
 "nbformat": 4,
 "nbformat_minor": 4
}
