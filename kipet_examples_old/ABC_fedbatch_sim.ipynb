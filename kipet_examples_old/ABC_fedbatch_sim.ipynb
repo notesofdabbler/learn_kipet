{
 "cells": [
  {
   "cell_type": "code",
   "execution_count": 1,
   "metadata": {},
   "outputs": [],
   "source": [
    "import matplotlib.pyplot as plt\n",
    "import numpy as np\n",
    "import pandas as pd\n",
    "import sys\n",
    "from kipet.library.TemplateBuilder import *\n",
    "from kipet.library.PyomoSimulator import *\n",
    "from kipet.library.ParameterEstimator import *\n",
    "from kipet.library.VarianceEstimator import *\n",
    "from kipet.library.data_tools import *\n",
    "from kipet.library.FESimulator import *\n",
    "from pyomo.opt import *\n",
    "import pickle\n",
    "import os\n",
    "import six"
   ]
  },
  {
   "cell_type": "markdown",
   "metadata": {},
   "source": [
    "### Simulating a fed batch reaction\n",
    "$A + B \\rightarrow C$\n",
    "\n",
    "Initial conditions in reactor: \n",
    "* Initial volume $V_0=1L$\n",
    "* $c_{A0} = 2, c_{B0} = 0, c_{C0} = 0$ (mol/L).\n",
    "\n",
    "A stream of $B$ with concentration $2 mol/L$ is charged into reactor at rate $0.1 L/min$ over 15min.\n",
    "\n",
    "Reaction rate constant $k_1=0.1 min^{-1}$\n",
    "\n",
    "Governing equations are:\n",
    "$$\n",
    "\\begin{eqnarray}\n",
    "\\frac{dc_A}{dt} &=& -\\frac{c_Aqin_B}{V} - k_1c_Ac_B \\\\\n",
    "\\frac{dc_B}{dt} &=& \\frac{(cin_B - c_B)qin_B}{V} - k_1c_Ac_B \\\\\n",
    "\\frac{dc_C}{dt} &=& -\\frac{c_Cqin_B}{V} + k_1c_Ac_B \\\\\n",
    "\\frac{dV}{dt} &=& qin_B\n",
    "\\end{eqnarray}\n",
    "$$"
   ]
  },
  {
   "cell_type": "code",
   "execution_count": 71,
   "metadata": {},
   "outputs": [],
   "source": [
    "builder = TemplateBuilder()  \n",
    "    \n",
    "builder.add_mixture_component('A',2.0)\n",
    "builder.add_mixture_component('B',0.0)\n",
    "builder.add_mixture_component('C',0.0)\n",
    "    \n",
    "builder.add_parameter('k1',0.1)\n",
    "\n",
    "builder.add_algebraic_variable('qin_B')\n",
    "builder.add_complementary_state_variable('V', 1)\n",
    "cin_B = 2"
   ]
  },
  {
   "cell_type": "code",
   "execution_count": 72,
   "metadata": {},
   "outputs": [],
   "source": [
    "def rule_odes(m,t):\n",
    "    exprs = dict()\n",
    "    exprs['A'] = -m.Z[t,'A'] * m.Y[t,'qin_B']/m.X[t,'V']-m.P['k1']*m.Z[t,'A']*m.Z[t,'B']\n",
    "    exprs['B'] = (cin_B*m.Y[t,'qin_B'] - m.Z[t,'B'] * m.Y[t,'qin_B'])/m.X[t,'V']- m.P['k1']*m.Z[t,'A']*m.Z[t,'B']\n",
    "    exprs['C'] = -m.Z[t,'C'] * m.Y[t,'qin_B']/m.X[t,'V'] + m.P['k1']*m.Z[t,'A']*m.Z[t,'B']\n",
    "    exprs['V'] = m.Y[t, 'qin_B']\n",
    "    return exprs\n",
    "\n",
    "builder.set_odes_rule(rule_odes)"
   ]
  },
  {
   "cell_type": "code",
   "execution_count": 73,
   "metadata": {},
   "outputs": [],
   "source": [
    "feed_times=[15, 16]\n",
    "builder.add_feed_times(feed_times)"
   ]
  },
  {
   "cell_type": "code",
   "execution_count": 74,
   "metadata": {},
   "outputs": [
    {
     "name": "stdout",
     "output_type": "stream",
     "text": [
      "WARNING: algebraic expressions not specified. Must be specified by user after creating the model\n"
     ]
    }
   ],
   "source": [
    "model = builder.create_pyomo_model(0, 60)"
   ]
  },
  {
   "cell_type": "code",
   "execution_count": 75,
   "metadata": {},
   "outputs": [],
   "source": [
    "sim = FESimulator(model)"
   ]
  },
  {
   "cell_type": "code",
   "execution_count": 76,
   "metadata": {},
   "outputs": [
    {
     "name": "stdout",
     "output_type": "stream",
     "text": [
      "read dir : /home/paperspace/learn_kipet/kipet_examples/qin_B.csv\n"
     ]
    }
   ],
   "source": [
    "qinB_traj = read_absorption_data_from_csv('qin_B.csv', directory = \"./\")"
   ]
  },
  {
   "cell_type": "code",
   "execution_count": 77,
   "metadata": {},
   "outputs": [
    {
     "data": {
      "text/html": [
       "<div>\n",
       "<style scoped>\n",
       "    .dataframe tbody tr th:only-of-type {\n",
       "        vertical-align: middle;\n",
       "    }\n",
       "\n",
       "    .dataframe tbody tr th {\n",
       "        vertical-align: top;\n",
       "    }\n",
       "\n",
       "    .dataframe thead th {\n",
       "        text-align: right;\n",
       "    }\n",
       "</style>\n",
       "<table border=\"1\" class=\"dataframe\">\n",
       "  <thead>\n",
       "    <tr style=\"text-align: right;\">\n",
       "      <th></th>\n",
       "      <th>qin_B</th>\n",
       "    </tr>\n",
       "    <tr>\n",
       "      <th>time</th>\n",
       "      <th></th>\n",
       "    </tr>\n",
       "  </thead>\n",
       "  <tbody>\n",
       "    <tr>\n",
       "      <th>0</th>\n",
       "      <td>0.1</td>\n",
       "    </tr>\n",
       "    <tr>\n",
       "      <th>15</th>\n",
       "      <td>0.1</td>\n",
       "    </tr>\n",
       "    <tr>\n",
       "      <th>16</th>\n",
       "      <td>0.0</td>\n",
       "    </tr>\n",
       "  </tbody>\n",
       "</table>\n",
       "</div>"
      ],
      "text/plain": [
       "      qin_B\n",
       "time       \n",
       "0       0.1\n",
       "15      0.1\n",
       "16      0.0"
      ]
     },
     "execution_count": 77,
     "metadata": {},
     "output_type": "execute_result"
    }
   ],
   "source": [
    "qinB_traj = pd.DataFrame({'time':[0, 15, 16], 'qin_B':[0.1, 0.1, 0]}).set_index('time')\n",
    "qinB_traj"
   ]
  },
  {
   "cell_type": "code",
   "execution_count": 78,
   "metadata": {},
   "outputs": [],
   "source": [
    "inputs_sub = {}\n",
    "inputs_sub['Y'] = ['qin_B']"
   ]
  },
  {
   "cell_type": "code",
   "execution_count": 79,
   "metadata": {},
   "outputs": [],
   "source": [
    "sim.apply_discretization('dae.collocation', ncp = 2, nfe = 30, scheme = 'LAGRANGE-RADAU')\n",
    "sim.fix_from_trajectory('Y', 'qin_B', qinB_traj) "
   ]
  },
  {
   "cell_type": "code",
   "execution_count": 80,
   "metadata": {},
   "outputs": [
    {
     "name": "stdout",
     "output_type": "stream",
     "text": [
      "0 0.1\n",
      "1.875 0.1\n",
      "0.625 0.1\n",
      "3.75 0.1\n",
      "2.5 0.1\n",
      "5.625 0.1\n",
      "4.375 0.1\n",
      "7.5 0.85\n",
      "6.25 0.1\n",
      "9.375 0.6625\n",
      "8.125 0.7875\n",
      "11.25 0.475\n",
      "10.0 0.6\n",
      "13.125 0.2875\n",
      "11.875 0.4125\n",
      "15 0.1\n",
      "16 0.0\n",
      "17.375 0.0\n",
      "18.75 0.0\n",
      "13.75 0.225\n",
      "20.125 0.0\n",
      "21.5 0.0\n",
      "22.875 0.0\n",
      "15.333333 0.06666670000000004\n",
      "24.25 0.0\n",
      "25.625 0.0\n",
      "17.833333 0.0\n",
      "27.0 0.0\n",
      "28.375 0.0\n",
      "29.75 0.0\n",
      "21.958333 0.0\n",
      "23.333333 0.0\n",
      "32.5 0.0\n",
      "24.708333 0.0\n",
      "26.083333 0.0\n",
      "35.25 0.0\n",
      "27.458333 0.0\n",
      "28.833333 0.0\n",
      "38.0 0.0\n",
      "30.666667 0.0\n",
      "40.75 0.0\n",
      "33.416667 0.0\n",
      "36.166667 0.0\n",
      "43.5 0.0\n",
      "38.916667 0.0\n",
      "41.666667 0.0\n",
      "46.25 0.0\n",
      "44.416667 0.0\n",
      "47.166667 0.0\n",
      "49.0 0.0\n",
      "49.916667 0.0\n",
      "51.75 0.0\n",
      "52.666667 0.0\n",
      "54.5 0.0\n",
      "55.416667 0.0\n",
      "57.25 0.0\n",
      "58.166667 0.0\n",
      "60 0.0\n",
      "16.458333 0.0\n",
      "19.208333 0.0\n",
      "20.583333 0.0\n"
     ]
    }
   ],
   "source": [
    "# this doesn't seem to give the intended profile: at time7.5 it starts having higher values for some reason\n",
    "for t in sim.model.alltime.value:\n",
    "    print(t, sim.model.Y[t, 'qin_B']())"
   ]
  },
  {
   "cell_type": "code",
   "execution_count": 81,
   "metadata": {},
   "outputs": [],
   "source": [
    "# explicitly imposed the intended profile\n",
    "for key in sim.model.alltime.value:\n",
    "    if key <= 15.0:\n",
    "        sim.model.Y[key, 'qin_B'].set_value(0.1)\n",
    "        sim.model.Y[key, 'qin_B'].fix()\n",
    "    else:\n",
    "        sim.model.Y[key, 'qin_B'].set_value(0.0)\n",
    "        sim.model.Y[key, 'qin_B'].fix()"
   ]
  },
  {
   "cell_type": "code",
   "execution_count": 82,
   "metadata": {},
   "outputs": [
    {
     "name": "stdout",
     "output_type": "stream",
     "text": [
      "0 0.1\n",
      "1.875 0.1\n",
      "0.625 0.1\n",
      "3.75 0.1\n",
      "2.5 0.1\n",
      "5.625 0.1\n",
      "4.375 0.1\n",
      "7.5 0.1\n",
      "6.25 0.1\n",
      "9.375 0.1\n",
      "8.125 0.1\n",
      "11.25 0.1\n",
      "10.0 0.1\n",
      "13.125 0.1\n",
      "11.875 0.1\n",
      "15 0.1\n",
      "16 0.0\n",
      "17.375 0.0\n",
      "18.75 0.0\n",
      "13.75 0.1\n",
      "20.125 0.0\n",
      "21.5 0.0\n",
      "22.875 0.0\n",
      "15.333333 0.0\n",
      "24.25 0.0\n",
      "25.625 0.0\n",
      "17.833333 0.0\n",
      "27.0 0.0\n",
      "28.375 0.0\n",
      "29.75 0.0\n",
      "21.958333 0.0\n",
      "23.333333 0.0\n",
      "32.5 0.0\n",
      "24.708333 0.0\n",
      "26.083333 0.0\n",
      "35.25 0.0\n",
      "27.458333 0.0\n",
      "28.833333 0.0\n",
      "38.0 0.0\n",
      "30.666667 0.0\n",
      "40.75 0.0\n",
      "33.416667 0.0\n",
      "36.166667 0.0\n",
      "43.5 0.0\n",
      "38.916667 0.0\n",
      "41.666667 0.0\n",
      "46.25 0.0\n",
      "44.416667 0.0\n",
      "47.166667 0.0\n",
      "49.0 0.0\n",
      "49.916667 0.0\n",
      "51.75 0.0\n",
      "52.666667 0.0\n",
      "54.5 0.0\n",
      "55.416667 0.0\n",
      "57.25 0.0\n",
      "58.166667 0.0\n",
      "60 0.0\n",
      "16.458333 0.0\n",
      "19.208333 0.0\n",
      "20.583333 0.0\n"
     ]
    }
   ],
   "source": [
    "for t in sim.model.alltime.value:\n",
    "    print(t, sim.model.Y[t, 'qin_B']())"
   ]
  },
  {
   "cell_type": "code",
   "execution_count": 83,
   "metadata": {},
   "outputs": [
    {
     "name": "stdout",
     "output_type": "stream",
     "text": [
      "Ipopt 3.12: \n",
      "\n",
      "******************************************************************************\n",
      "This program contains Ipopt, a library for large-scale nonlinear optimization.\n",
      " Ipopt is released as open source code under the Eclipse Public License (EPL).\n",
      "         For more information visit http://projects.coin-or.org/Ipopt\n",
      "******************************************************************************\n",
      "\n",
      "This is Ipopt version 3.12, running with linear solver ma27.\n",
      "\n",
      "Number of nonzeros in equality constraint Jacobian...:     1804\n",
      "Number of nonzeros in inequality constraint Jacobian.:        0\n",
      "Number of nonzeros in Lagrangian Hessian.............:      168\n",
      "\n",
      "Total number of variables............................:      484\n",
      "                     variables with only lower bounds:        0\n",
      "                variables with lower and upper bounds:        0\n",
      "                     variables with only upper bounds:        0\n",
      "Total number of equality constraints.................:      484\n",
      "Total number of inequality constraints...............:        0\n",
      "        inequality constraints with only lower bounds:        0\n",
      "   inequality constraints with lower and upper bounds:        0\n",
      "        inequality constraints with only upper bounds:        0\n",
      "\n",
      "iter    objective    inf_pr   inf_du lg(mu)  ||d||  lg(rg) alpha_du alpha_pr  ls\n",
      "   0  0.0000000e+00 1.00e+00 0.00e+00  -1.0 0.00e+00    -  0.00e+00 0.00e+00   0\n",
      "   1  0.0000000e+00 2.31e-01 0.00e+00  -1.7 1.50e+00    -  1.00e+00 1.00e+00h  1\n",
      "   2  0.0000000e+00 2.92e-02 0.00e+00  -1.7 1.45e+00    -  1.00e+00 1.00e+00h  1\n",
      "   3  0.0000000e+00 3.95e-03 0.00e+00  -2.5 1.99e-01    -  1.00e+00 1.00e+00h  1\n",
      "   4  0.0000000e+00 2.11e-04 0.00e+00  -3.8 4.59e-02    -  1.00e+00 1.00e+00h  1\n",
      "   5  0.0000000e+00 8.62e-07 0.00e+00  -5.7 2.94e-03    -  1.00e+00 1.00e+00h  1\n",
      "   6  0.0000000e+00 4.54e-12 0.00e+00  -8.6 6.74e-06    -  1.00e+00 1.00e+00h  1\n",
      "\n",
      "Number of Iterations....: 6\n",
      "\n",
      "                                   (scaled)                 (unscaled)\n",
      "Objective...............:   0.0000000000000000e+00    0.0000000000000000e+00\n",
      "Dual infeasibility......:   0.0000000000000000e+00    0.0000000000000000e+00\n",
      "Constraint violation....:   4.5392576416419805e-12    4.5392576416419805e-12\n",
      "Complementarity.........:   0.0000000000000000e+00    0.0000000000000000e+00\n",
      "Overall NLP error.......:   4.5392576416419805e-12    4.5392576416419805e-12\n",
      "\n",
      "\n",
      "Number of objective function evaluations             = 7\n",
      "Number of objective gradient evaluations             = 7\n",
      "Number of equality constraint evaluations            = 7\n",
      "Number of inequality constraint evaluations          = 0\n",
      "Number of equality constraint Jacobian evaluations   = 7\n",
      "Number of inequality constraint Jacobian evaluations = 0\n",
      "Number of Lagrangian Hessian evaluations             = 6\n",
      "Total CPU secs in IPOPT (w/o function evaluations)   =      0.004\n",
      "Total CPU secs in NLP function evaluations           =      0.000\n",
      "\n",
      "EXIT: Optimal Solution Found.\n"
     ]
    }
   ],
   "source": [
    "results_pyomo = sim.run_sim('ipopt',tee=True)"
   ]
  },
  {
   "cell_type": "code",
   "execution_count": 84,
   "metadata": {},
   "outputs": [
    {
     "data": {
      "text/plain": [
       "Text(0.5, 1.0, 'Concentration Profile')"
      ]
     },
     "execution_count": 84,
     "metadata": {},
     "output_type": "execute_result"
    },
    {
     "data": {
      "image/png": "[encoded data removed]",
      "text/plain": [
       "<Figure size 432x288 with 1 Axes>"
      ]
     },
     "metadata": {
      "needs_background": "light"
     },
     "output_type": "display_data"
    }
   ],
   "source": [
    "results_pyomo.Z.plot.line(legend=True)\n",
    "plt.xlabel(\"time (s)\")\n",
    "plt.ylabel(\"Concentration (mol/L)\")\n",
    "plt.title(\"Concentration Profile\")"
   ]
  },
  {
   "cell_type": "code",
   "execution_count": 85,
   "metadata": {},
   "outputs": [
    {
     "data": {
      "text/plain": [
       "<matplotlib.axes._subplots.AxesSubplot at 0x7f1d10188be0>"
      ]
     },
     "execution_count": 85,
     "metadata": {},
     "output_type": "execute_result"
    },
    {
     "data": {
      "image/png": "[encoded data removed]",
      "text/plain": [
       "<Figure size 432x288 with 1 Axes>"
      ]
     },
     "metadata": {
      "needs_background": "light"
     },
     "output_type": "display_data"
    }
   ],
   "source": [
    "results_pyomo.Y.plot.line(legend=True)"
   ]
  },
  {
   "cell_type": "code",
   "execution_count": 86,
   "metadata": {},
   "outputs": [
    {
     "data": {
      "text/plain": [
       "<matplotlib.axes._subplots.AxesSubplot at 0x7f1d0ba7a7f0>"
      ]
     },
     "execution_count": 86,
     "metadata": {},
     "output_type": "execute_result"
    },
    {
     "data": {
      "image/png": "[encoded data removed]",
      "text/plain": [
       "<Figure size 432x288 with 1 Axes>"
      ]
     },
     "metadata": {
      "needs_background": "light"
     },
     "output_type": "display_data"
    }
   ],
   "source": [
    "results_pyomo.X.plot.line(legend=True)"
   ]
  },
  {
   "cell_type": "code",
   "execution_count": null,
   "metadata": {},
   "outputs": [],
   "source": []
  }
 ],
 "metadata": {
  "kernelspec": {
   "display_name": "Python 3",
   "language": "python",
   "name": "python3"
  },
  "language_info": {
   "codemirror_mode": {
    "name": "ipython",
    "version": 3
   },
   "file_extension": ".py",
   "mimetype": "text/x-python",
   "name": "python",
   "nbconvert_exporter": "python",
   "pygments_lexer": "ipython3",
   "version": "3.7.3"
  }
 },
 "nbformat": 4,
 "nbformat_minor": 2
}
